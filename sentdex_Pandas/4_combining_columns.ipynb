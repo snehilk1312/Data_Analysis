{
 "nbformat": 4,
 "nbformat_minor": 0,
 "metadata": {
  "kernelspec": {
   "display_name": "Python 3",
   "language": "python",
   "name": "python3"
  },
  "language_info": {
   "codemirror_mode": {
    "name": "ipython",
    "version": 2
   },
   "file_extension": ".py",
   "mimetype": "text/x-python",
   "name": "python",
   "nbconvert_exporter": "python",
   "pygments_lexer": "ipython2",
   "version": "2.7.6"
  },
  "pycharm": {
   "stem_cell": {
    "cell_type": "raw",
    "source": [],
    "metadata": {
     "collapsed": false
    }
   }
  },
  "colab": {
   "name": "combining_columns.ipynb",
   "provenance": []
  }
 },
 "cells": [
  {
   "cell_type": "code",
   "metadata": {
    "id": "eZSvkQt9QCBi",
    "colab_type": "code",
    "colab": {},
    "pycharm": {
     "is_executing": false
    }
   },
   "source": [
    "import pandas as pd\n",
    "import matplotlib.pyplot as plt\n",
    "import numpy as np\n",
    "%matplotlib inline"
   ],
   "execution_count": 113,
   "outputs": []
  },
  {
   "cell_type": "code",
   "metadata": {
    "id": "rjij-_rXQMy6",
    "colab_type": "code",
    "colab": {},
    "pycharm": {
     "is_executing": false
    }
   },
   "source": [
    "unemp_county = pd.read_csv('/home/moritz/Desktop/kaggle/unemployment-by-county-us/output.csv')\n",
    "unemp_county.head()"
   ],
   "execution_count": 114,
   "outputs": [
    {
     "data": {
      "text/plain": "   Year     Month        State         County  Rate\n0  2015  February  Mississippi  Newton County   6.1\n1  2015  February  Mississippi  Panola County   9.4\n2  2015  February  Mississippi  Monroe County   7.9\n3  2015  February  Mississippi   Hinds County   6.1\n4  2015  February  Mississippi  Kemper County  10.6",
      "text/html": "<div>\n<style scoped>\n    .dataframe tbody tr th:only-of-type {\n        vertical-align: middle;\n    }\n\n    .dataframe tbody tr th {\n        vertical-align: top;\n    }\n\n    .dataframe thead th {\n        text-align: right;\n    }\n</style>\n<table border=\"1\" class=\"dataframe\">\n  <thead>\n    <tr style=\"text-align: right;\">\n      <th></th>\n      <th>Year</th>\n      <th>Month</th>\n      <th>State</th>\n      <th>County</th>\n      <th>Rate</th>\n    </tr>\n  </thead>\n  <tbody>\n    <tr>\n      <th>0</th>\n      <td>2015</td>\n      <td>February</td>\n      <td>Mississippi</td>\n      <td>Newton County</td>\n      <td>6.1</td>\n    </tr>\n    <tr>\n      <th>1</th>\n      <td>2015</td>\n      <td>February</td>\n      <td>Mississippi</td>\n      <td>Panola County</td>\n      <td>9.4</td>\n    </tr>\n    <tr>\n      <th>2</th>\n      <td>2015</td>\n      <td>February</td>\n      <td>Mississippi</td>\n      <td>Monroe County</td>\n      <td>7.9</td>\n    </tr>\n    <tr>\n      <th>3</th>\n      <td>2015</td>\n      <td>February</td>\n      <td>Mississippi</td>\n      <td>Hinds County</td>\n      <td>6.1</td>\n    </tr>\n    <tr>\n      <th>4</th>\n      <td>2015</td>\n      <td>February</td>\n      <td>Mississippi</td>\n      <td>Kemper County</td>\n      <td>10.6</td>\n    </tr>\n  </tbody>\n</table>\n</div>"
     },
     "metadata": {},
     "output_type": "execute_result",
     "execution_count": 114
    }
   ]
  },
  {
   "cell_type": "code",
   "metadata": {
    "id": "y7tREdRrQ4qO",
    "colab_type": "code",
    "colab": {},
    "pycharm": {
     "is_executing": false
    }
   },
   "source": [
    "df = pd.read_csv('/home/moritz/Desktop/minwagedata.csv')\n",
    "df.head()"
   ],
   "execution_count": 115,
   "outputs": [
    {
     "data": {
      "text/plain": "   Unnamed: 0  Year       State           Table_Data Footnote  High.Value  \\\n0           0  1968     Alabama                  ...      NaN     0.00000   \n1           1  1968      Alaska                 2.10      NaN     2.10000   \n2           2  1968     Arizona  18.72 - 26.40/wk(b)      (b)     0.66000   \n3           3  1968    Arkansas          1.25/day(b)      (b)     0.15625   \n4           4  1968  California              1.65(b)      (b)     1.65000   \n\n   Low.Value  CPI.Average  High.2018  Low.2018  \n0    0.00000    34.783333       0.00      0.00  \n1    2.10000    34.783333      15.12     15.12  \n2    0.46800    34.783333       4.75      3.37  \n3    0.15625    34.783333       1.12      1.12  \n4    1.65000    34.783333      11.88     11.88  ",
      "text/html": "<div>\n<style scoped>\n    .dataframe tbody tr th:only-of-type {\n        vertical-align: middle;\n    }\n\n    .dataframe tbody tr th {\n        vertical-align: top;\n    }\n\n    .dataframe thead th {\n        text-align: right;\n    }\n</style>\n<table border=\"1\" class=\"dataframe\">\n  <thead>\n    <tr style=\"text-align: right;\">\n      <th></th>\n      <th>Unnamed: 0</th>\n      <th>Year</th>\n      <th>State</th>\n      <th>Table_Data</th>\n      <th>Footnote</th>\n      <th>High.Value</th>\n      <th>Low.Value</th>\n      <th>CPI.Average</th>\n      <th>High.2018</th>\n      <th>Low.2018</th>\n    </tr>\n  </thead>\n  <tbody>\n    <tr>\n      <th>0</th>\n      <td>0</td>\n      <td>1968</td>\n      <td>Alabama</td>\n      <td>...</td>\n      <td>NaN</td>\n      <td>0.00000</td>\n      <td>0.00000</td>\n      <td>34.783333</td>\n      <td>0.00</td>\n      <td>0.00</td>\n    </tr>\n    <tr>\n      <th>1</th>\n      <td>1</td>\n      <td>1968</td>\n      <td>Alaska</td>\n      <td>2.10</td>\n      <td>NaN</td>\n      <td>2.10000</td>\n      <td>2.10000</td>\n      <td>34.783333</td>\n      <td>15.12</td>\n      <td>15.12</td>\n    </tr>\n    <tr>\n      <th>2</th>\n      <td>2</td>\n      <td>1968</td>\n      <td>Arizona</td>\n      <td>18.72 - 26.40/wk(b)</td>\n      <td>(b)</td>\n      <td>0.66000</td>\n      <td>0.46800</td>\n      <td>34.783333</td>\n      <td>4.75</td>\n      <td>3.37</td>\n    </tr>\n    <tr>\n      <th>3</th>\n      <td>3</td>\n      <td>1968</td>\n      <td>Arkansas</td>\n      <td>1.25/day(b)</td>\n      <td>(b)</td>\n      <td>0.15625</td>\n      <td>0.15625</td>\n      <td>34.783333</td>\n      <td>1.12</td>\n      <td>1.12</td>\n    </tr>\n    <tr>\n      <th>4</th>\n      <td>4</td>\n      <td>1968</td>\n      <td>California</td>\n      <td>1.65(b)</td>\n      <td>(b)</td>\n      <td>1.65000</td>\n      <td>1.65000</td>\n      <td>34.783333</td>\n      <td>11.88</td>\n      <td>11.88</td>\n    </tr>\n  </tbody>\n</table>\n</div>"
     },
     "metadata": {},
     "output_type": "execute_result",
     "execution_count": 115
    }
   ]
  },
  {
   "cell_type": "code",
   "metadata": {
    "id": "SnqHL810RqvW",
    "colab_type": "code",
    "colab": {},
    "pycharm": {
     "is_executing": false
    }
   },
   "source": [
    "act_min_wage = pd.DataFrame()\n",
    "for name, group in df.groupby('State'):\n",
    "    if act_min_wage.empty:\n",
    "        act_min_wage=group.set_index('Year')[['Low.2018']].rename(columns={'Low.2018':name})\n",
    "    else:\n",
    "        act_min_wage=act_min_wage.join(group.set_index('Year')[['Low.2018']].rename(columns={'Low.2018':name}))\n",
    "\n",
    "\n",
    "print(act_min_wage.tail())"
   ],
   "execution_count": 116,
   "outputs": [
    {
     "name": "stdout",
     "text": [
      "      Alabama  Alaska  Arizona  Arkansas  California  Colorado  Connecticut  \\\n",
      "Year                                                                          \n",
      "2013      0.0    8.33     8.38      6.72        8.60      8.36         8.87   \n",
      "2014      0.0    8.20     8.36      6.61        9.52      8.46         9.20   \n",
      "2015      0.0    9.24     8.50      7.92        9.51      8.69         9.67   \n",
      "2016      0.0   10.17     8.40      8.35       10.43      8.67        10.02   \n",
      "2017      0.0   10.01    10.22      8.68       10.22      9.50        10.32   \n",
      "\n",
      "      Delaware  District of Columbia  Federal (FLSA)  ...  Tennessee  Texas  \\\n",
      "Year                                                  ...                     \n",
      "2013      7.79                  8.87            7.79  ...        0.0   7.79   \n",
      "2014      8.20                 10.05            7.67  ...        0.0   7.67   \n",
      "2015      8.72                 11.09            7.66  ...        0.0   7.66   \n",
      "2016      8.61                 12.00            7.56  ...        0.0   7.56   \n",
      "2017      8.43                 11.75            7.41  ...        0.0   7.41   \n",
      "\n",
      "      U.S. Virgin Islands  Utah  Vermont  Virginia  Washington  West Virginia  \\\n",
      "Year                                                                            \n",
      "2013                 4.62  7.79     9.24      7.79        9.88           7.79   \n",
      "2014                 4.55  7.67     9.23      7.67        9.86           7.67   \n",
      "2015                 4.54  7.66     9.67      7.66       10.00           8.45   \n",
      "2016                 4.49  7.56    10.02      7.56        9.88           9.13   \n",
      "2017                 4.39  7.41    10.22      7.41       11.24           8.94   \n",
      "\n",
      "      Wisconsin  Wyoming  \n",
      "Year                      \n",
      "2013       7.79     5.54  \n",
      "2014       7.67     5.45  \n",
      "2015       7.66     5.44  \n",
      "2016       7.56     5.37  \n",
      "2017       7.41     5.26  \n",
      "\n",
      "[5 rows x 55 columns]\n"
     ],
     "output_type": "stream"
    }
   ]
  },
  {
   "cell_type": "code",
   "metadata": {
    "id": "3evXK-iiR-VL",
    "colab_type": "code",
    "colab": {},
    "pycharm": {
     "is_executing": false
    }
   },
   "source": [
    "act_min_wage=act_min_wage.replace(0, np.NaN).dropna(axis=1)\n",
    "print(act_min_wage.tail())"
   ],
   "execution_count": 117,
   "outputs": [
    {
     "name": "stdout",
     "text": [
      "      Alaska  Arkansas  California  Colorado  Connecticut  Delaware  \\\n",
      "Year                                                                  \n",
      "2013    8.33      6.72        8.60      8.36         8.87      7.79   \n",
      "2014    8.20      6.61        9.52      8.46         9.20      8.20   \n",
      "2015    9.24      7.92        9.51      8.69         9.67      8.72   \n",
      "2016   10.17      8.35       10.43      8.67        10.02      8.61   \n",
      "2017   10.01      8.68       10.22      9.50        10.32      8.43   \n",
      "\n",
      "      District of Columbia  Federal (FLSA)  Guam  Hawaii  ...  Pennsylvania  \\\n",
      "Year                                                      ...                 \n",
      "2013                  8.87            7.79  7.79    7.79  ...          7.79   \n",
      "2014                 10.05            7.67  7.67    7.67  ...          7.67   \n",
      "2015                 11.09            7.66  8.72    8.19  ...          7.66   \n",
      "2016                 12.00            7.56  8.61    8.87  ...          7.56   \n",
      "2017                 11.75            7.41  8.43    9.45  ...          7.41   \n",
      "\n",
      "      Puerto Rico  Rhode Island  South Dakota  Utah  Vermont  Washington  \\\n",
      "Year                                                                       \n",
      "2013         5.46          8.33          7.79  7.79     9.24        9.88   \n",
      "2014         5.37          8.46          7.67  7.67     9.23        9.86   \n",
      "2015         5.37          9.51          8.98  7.66     9.67       10.00   \n",
      "2016         5.30         10.02          8.92  7.56    10.02        9.88   \n",
      "2017         5.19          9.81          8.84  7.41    10.22       11.24   \n",
      "\n",
      "      West Virginia  Wisconsin  Wyoming  \n",
      "Year                                     \n",
      "2013           7.79       7.79     5.54  \n",
      "2014           7.67       7.67     5.45  \n",
      "2015           8.45       7.66     5.44  \n",
      "2016           9.13       7.56     5.37  \n",
      "2017           8.94       7.41     5.26  \n",
      "\n",
      "[5 rows x 39 columns]\n"
     ],
     "output_type": "stream"
    }
   ]
  },
  {
   "cell_type": "code",
   "metadata": {
    "id": "b0cm9jSLSTgN",
    "colab_type": "code",
    "colab": {
     "base_uri": "https://localhost:8080/",
     "height": 35
    },
    "outputId": "c900d336-b09d-4c84-fdec-d440aedcc400",
    "pycharm": {
     "is_executing": false
    }
   },
   "source": [
    "def get_min_wage(year, state):\n",
    "  try:\n",
    "    return act_min_wage.loc[year][state]\n",
    "  except:\n",
    "    return np.NaN\n",
    "\n",
    "\n",
    "get_min_wage(2017,'Alaska')"
   ],
   "execution_count": 118,
   "outputs": [
    {
     "data": {
      "text/plain": "10.01"
     },
     "metadata": {},
     "output_type": "execute_result",
     "execution_count": 118
    }
   ]
  },
  {
   "cell_type": "code",
   "metadata": {
    "id": "CzfkR5vITmtc",
    "colab_type": "code",
    "colab": {
     "base_uri": "https://localhost:8080/",
     "height": 420
    },
    "outputId": "e34e41ec-49fb-49d8-ed49-34a693f97c5d",
    "pycharm": {
     "is_executing": false
    }
   },
   "source": [
    "%%time\n",
    "\n",
    "unemp_county['min_wage'] = list(map(get_min_wage, unemp_county['Year'], unemp_county['State']))\n",
    "                                                      "
   ],
   "execution_count": 119,
   "outputs": [
    {
     "name": "stdout",
     "text": [
      "CPU times: user 1min 48s, sys: 0 ns, total: 1min 48s\n",
      "Wall time: 1min 48s\n"
     ],
     "output_type": "stream"
    }
   ]
  },
  {
   "cell_type": "code",
   "metadata": {
    "id": "rwX_GNuYVfTQ",
    "colab_type": "code",
    "colab": {},
    "pycharm": {
     "is_executing": false
    }
   },
   "source": [
    "unemp_county"
   ],
   "execution_count": 120,
   "outputs": [
    {
     "data": {
      "text/plain": "        Year     Month        State              County  Rate  min_wage\n0       2015  February  Mississippi       Newton County   6.1       NaN\n1       2015  February  Mississippi       Panola County   9.4       NaN\n2       2015  February  Mississippi       Monroe County   7.9       NaN\n3       2015  February  Mississippi        Hinds County   6.1       NaN\n4       2015  February  Mississippi       Kemper County  10.6       NaN\n...      ...       ...          ...                 ...   ...       ...\n885543  2009  November        Maine     Somerset County  10.5      8.46\n885544  2009  November        Maine       Oxford County  10.5      8.46\n885545  2009  November        Maine         Knox County   7.5      8.46\n885546  2009  November        Maine  Piscataquis County  11.3      8.46\n885547  2009  November        Maine    Aroostook County   9.0      8.46\n\n[885548 rows x 6 columns]",
      "text/html": "<div>\n<style scoped>\n    .dataframe tbody tr th:only-of-type {\n        vertical-align: middle;\n    }\n\n    .dataframe tbody tr th {\n        vertical-align: top;\n    }\n\n    .dataframe thead th {\n        text-align: right;\n    }\n</style>\n<table border=\"1\" class=\"dataframe\">\n  <thead>\n    <tr style=\"text-align: right;\">\n      <th></th>\n      <th>Year</th>\n      <th>Month</th>\n      <th>State</th>\n      <th>County</th>\n      <th>Rate</th>\n      <th>min_wage</th>\n    </tr>\n  </thead>\n  <tbody>\n    <tr>\n      <th>0</th>\n      <td>2015</td>\n      <td>February</td>\n      <td>Mississippi</td>\n      <td>Newton County</td>\n      <td>6.1</td>\n      <td>NaN</td>\n    </tr>\n    <tr>\n      <th>1</th>\n      <td>2015</td>\n      <td>February</td>\n      <td>Mississippi</td>\n      <td>Panola County</td>\n      <td>9.4</td>\n      <td>NaN</td>\n    </tr>\n    <tr>\n      <th>2</th>\n      <td>2015</td>\n      <td>February</td>\n      <td>Mississippi</td>\n      <td>Monroe County</td>\n      <td>7.9</td>\n      <td>NaN</td>\n    </tr>\n    <tr>\n      <th>3</th>\n      <td>2015</td>\n      <td>February</td>\n      <td>Mississippi</td>\n      <td>Hinds County</td>\n      <td>6.1</td>\n      <td>NaN</td>\n    </tr>\n    <tr>\n      <th>4</th>\n      <td>2015</td>\n      <td>February</td>\n      <td>Mississippi</td>\n      <td>Kemper County</td>\n      <td>10.6</td>\n      <td>NaN</td>\n    </tr>\n    <tr>\n      <th>...</th>\n      <td>...</td>\n      <td>...</td>\n      <td>...</td>\n      <td>...</td>\n      <td>...</td>\n      <td>...</td>\n    </tr>\n    <tr>\n      <th>885543</th>\n      <td>2009</td>\n      <td>November</td>\n      <td>Maine</td>\n      <td>Somerset County</td>\n      <td>10.5</td>\n      <td>8.46</td>\n    </tr>\n    <tr>\n      <th>885544</th>\n      <td>2009</td>\n      <td>November</td>\n      <td>Maine</td>\n      <td>Oxford County</td>\n      <td>10.5</td>\n      <td>8.46</td>\n    </tr>\n    <tr>\n      <th>885545</th>\n      <td>2009</td>\n      <td>November</td>\n      <td>Maine</td>\n      <td>Knox County</td>\n      <td>7.5</td>\n      <td>8.46</td>\n    </tr>\n    <tr>\n      <th>885546</th>\n      <td>2009</td>\n      <td>November</td>\n      <td>Maine</td>\n      <td>Piscataquis County</td>\n      <td>11.3</td>\n      <td>8.46</td>\n    </tr>\n    <tr>\n      <th>885547</th>\n      <td>2009</td>\n      <td>November</td>\n      <td>Maine</td>\n      <td>Aroostook County</td>\n      <td>9.0</td>\n      <td>8.46</td>\n    </tr>\n  </tbody>\n</table>\n<p>885548 rows × 6 columns</p>\n</div>"
     },
     "metadata": {},
     "output_type": "execute_result",
     "execution_count": 120
    }
   ]
  },
  {
   "cell_type": "code",
   "metadata": {
    "id": "MgHZe9MEWBEr",
    "colab_type": "code",
    "colab": {},
    "pycharm": {
     "is_executing": false
    }
   },
   "source": [
    "unemp_county[['Rate','min_wage']].corr()"
   ],
   "execution_count": 121,
   "outputs": [
    {
     "data": {
      "text/plain": "              Rate  min_wage\nRate      1.000000  0.153047\nmin_wage  0.153047  1.000000",
      "text/html": "<div>\n<style scoped>\n    .dataframe tbody tr th:only-of-type {\n        vertical-align: middle;\n    }\n\n    .dataframe tbody tr th {\n        vertical-align: top;\n    }\n\n    .dataframe thead th {\n        text-align: right;\n    }\n</style>\n<table border=\"1\" class=\"dataframe\">\n  <thead>\n    <tr style=\"text-align: right;\">\n      <th></th>\n      <th>Rate</th>\n      <th>min_wage</th>\n    </tr>\n  </thead>\n  <tbody>\n    <tr>\n      <th>Rate</th>\n      <td>1.000000</td>\n      <td>0.153047</td>\n    </tr>\n    <tr>\n      <th>min_wage</th>\n      <td>0.153047</td>\n      <td>1.000000</td>\n    </tr>\n  </tbody>\n</table>\n</div>"
     },
     "metadata": {},
     "output_type": "execute_result",
     "execution_count": 121
    }
   ]
  },
  {
   "cell_type": "code",
   "metadata": {
    "id": "G9u8cCoJWpUW",
    "colab_type": "code",
    "colab": {},
    "pycharm": {
     "is_executing": false
    }
   },
   "source": [
    "unemp_county[['Rate','min_wage']].cov()"
   ],
   "execution_count": 122,
   "outputs": [
    {
     "data": {
      "text/plain": "              Rate  min_wage\nRate      9.687873  0.651586\nmin_wage  0.651586  1.874228",
      "text/html": "<div>\n<style scoped>\n    .dataframe tbody tr th:only-of-type {\n        vertical-align: middle;\n    }\n\n    .dataframe tbody tr th {\n        vertical-align: top;\n    }\n\n    .dataframe thead th {\n        text-align: right;\n    }\n</style>\n<table border=\"1\" class=\"dataframe\">\n  <thead>\n    <tr style=\"text-align: right;\">\n      <th></th>\n      <th>Rate</th>\n      <th>min_wage</th>\n    </tr>\n  </thead>\n  <tbody>\n    <tr>\n      <th>Rate</th>\n      <td>9.687873</td>\n      <td>0.651586</td>\n    </tr>\n    <tr>\n      <th>min_wage</th>\n      <td>0.651586</td>\n      <td>1.874228</td>\n    </tr>\n  </tbody>\n</table>\n</div>"
     },
     "metadata": {},
     "output_type": "execute_result",
     "execution_count": 122
    }
   ]
  },
  {
   "cell_type": "code",
   "metadata": {
    "id": "ek4SUDt3WulC",
    "colab_type": "code",
    "colab": {},
    "pycharm": {
     "is_executing": false
    }
   },
   "source": [
    "pres16 = pd.read_csv('/home/moritz/Desktop/kaggle/2016uspresidentialvotebycounty/pres16results.csv')\n",
    "print(pres16.head())"
   ],
   "execution_count": 123,
   "outputs": [
    {
     "name": "stdout",
     "text": [
      "  county fips             cand  st  pct_report       votes  total_votes  \\\n",
      "0    NaN   US     Donald Trump  US      0.9951  60350241.0  127592176.0   \n",
      "1    NaN   US  Hillary Clinton  US      0.9951  60981118.0  127592176.0   \n",
      "2    NaN   US     Gary Johnson  US      0.9951   4164589.0  127592176.0   \n",
      "3    NaN   US       Jill Stein  US      0.9951   1255968.0  127592176.0   \n",
      "4    NaN   US    Evan McMullin  US      0.9951    451636.0  127592176.0   \n",
      "\n",
      "        pct          lead  \n",
      "0  0.472993  Donald Trump  \n",
      "1  0.477938  Donald Trump  \n",
      "2  0.032640  Donald Trump  \n",
      "3  0.009844  Donald Trump  \n",
      "4  0.003540  Donald Trump  \n"
     ],
     "output_type": "stream"
    }
   ]
  },
  {
   "cell_type": "code",
   "execution_count": 124,
   "outputs": [
    {
     "data": {
      "text/plain": "885548"
     },
     "metadata": {},
     "output_type": "execute_result",
     "execution_count": 124
    }
   ],
   "source": [
    "len(unemp_county)\n",
    "\n"
   ],
   "metadata": {
    "collapsed": false,
    "pycharm": {
     "name": "#%%\n",
     "is_executing": false
    }
   }
  },
  {
   "cell_type": "code",
   "execution_count": 125,
   "outputs": [],
   "source": [
    "# df.loc[df['column_name'] == some_value]\n",
    "new_unemp_county=unemp_county.copy()[(unemp_county['Year']==2015) & (unemp_county['Month']=='February')]\n"
   ],
   "metadata": {
    "collapsed": false,
    "pycharm": {
     "name": "#%%\n",
     "is_executing": false
    }
   }
  },
  {
   "cell_type": "code",
   "execution_count": 126,
   "outputs": [
    {
     "data": {
      "text/plain": "      Year     Month        State              County  Rate  min_wage\n0     2015  February  Mississippi       Newton County   6.1       NaN\n1     2015  February  Mississippi       Panola County   9.4       NaN\n2     2015  February  Mississippi       Monroe County   7.9       NaN\n3     2015  February  Mississippi        Hinds County   6.1       NaN\n4     2015  February  Mississippi       Kemper County  10.6       NaN\n...    ...       ...          ...                 ...   ...       ...\n2797  2015  February        Maine     Somerset County   8.4      7.92\n2798  2015  February        Maine       Oxford County   6.8      7.92\n2799  2015  February        Maine         Knox County   6.1      7.92\n2800  2015  February        Maine  Piscataquis County   7.0      7.92\n2801  2015  February        Maine    Aroostook County   7.2      7.92\n\n[2802 rows x 6 columns]",
      "text/html": "<div>\n<style scoped>\n    .dataframe tbody tr th:only-of-type {\n        vertical-align: middle;\n    }\n\n    .dataframe tbody tr th {\n        vertical-align: top;\n    }\n\n    .dataframe thead th {\n        text-align: right;\n    }\n</style>\n<table border=\"1\" class=\"dataframe\">\n  <thead>\n    <tr style=\"text-align: right;\">\n      <th></th>\n      <th>Year</th>\n      <th>Month</th>\n      <th>State</th>\n      <th>County</th>\n      <th>Rate</th>\n      <th>min_wage</th>\n    </tr>\n  </thead>\n  <tbody>\n    <tr>\n      <th>0</th>\n      <td>2015</td>\n      <td>February</td>\n      <td>Mississippi</td>\n      <td>Newton County</td>\n      <td>6.1</td>\n      <td>NaN</td>\n    </tr>\n    <tr>\n      <th>1</th>\n      <td>2015</td>\n      <td>February</td>\n      <td>Mississippi</td>\n      <td>Panola County</td>\n      <td>9.4</td>\n      <td>NaN</td>\n    </tr>\n    <tr>\n      <th>2</th>\n      <td>2015</td>\n      <td>February</td>\n      <td>Mississippi</td>\n      <td>Monroe County</td>\n      <td>7.9</td>\n      <td>NaN</td>\n    </tr>\n    <tr>\n      <th>3</th>\n      <td>2015</td>\n      <td>February</td>\n      <td>Mississippi</td>\n      <td>Hinds County</td>\n      <td>6.1</td>\n      <td>NaN</td>\n    </tr>\n    <tr>\n      <th>4</th>\n      <td>2015</td>\n      <td>February</td>\n      <td>Mississippi</td>\n      <td>Kemper County</td>\n      <td>10.6</td>\n      <td>NaN</td>\n    </tr>\n    <tr>\n      <th>...</th>\n      <td>...</td>\n      <td>...</td>\n      <td>...</td>\n      <td>...</td>\n      <td>...</td>\n      <td>...</td>\n    </tr>\n    <tr>\n      <th>2797</th>\n      <td>2015</td>\n      <td>February</td>\n      <td>Maine</td>\n      <td>Somerset County</td>\n      <td>8.4</td>\n      <td>7.92</td>\n    </tr>\n    <tr>\n      <th>2798</th>\n      <td>2015</td>\n      <td>February</td>\n      <td>Maine</td>\n      <td>Oxford County</td>\n      <td>6.8</td>\n      <td>7.92</td>\n    </tr>\n    <tr>\n      <th>2799</th>\n      <td>2015</td>\n      <td>February</td>\n      <td>Maine</td>\n      <td>Knox County</td>\n      <td>6.1</td>\n      <td>7.92</td>\n    </tr>\n    <tr>\n      <th>2800</th>\n      <td>2015</td>\n      <td>February</td>\n      <td>Maine</td>\n      <td>Piscataquis County</td>\n      <td>7.0</td>\n      <td>7.92</td>\n    </tr>\n    <tr>\n      <th>2801</th>\n      <td>2015</td>\n      <td>February</td>\n      <td>Maine</td>\n      <td>Aroostook County</td>\n      <td>7.2</td>\n      <td>7.92</td>\n    </tr>\n  </tbody>\n</table>\n<p>2802 rows × 6 columns</p>\n</div>"
     },
     "metadata": {},
     "output_type": "execute_result",
     "execution_count": 126
    }
   ],
   "source": [
    "new_unemp_county\n",
    "\n"
   ],
   "metadata": {
    "collapsed": false,
    "pycharm": {
     "name": "#%%\n",
     "is_executing": false
    }
   }
  },
  {
   "cell_type": "code",
   "execution_count": 127,
   "outputs": [
    {
     "data": {
      "text/plain": "array(['US', 'CA', 'FL', 'TX', 'NY', 'PA', 'IL', 'OH', 'MI', 'NC', 'GA',\n       'VA', 'NJ', 'MA', 'WI', 'MN', 'MO', 'WA', 'IN', 'CO', 'TN', 'MD',\n       'SC', 'AL', 'AZ', 'LA', 'KY', 'OR', 'CT', 'IA', 'OK', 'MS', 'KS',\n       'NV', 'AR', 'UT', 'NE', 'NM', 'ME', 'NH', 'WV', 'ID', 'MT', 'RI',\n       'DE', 'HI', 'SD', 'ND', 'VT', 'DC', 'WY', 'AK', nan], dtype=object)"
     },
     "metadata": {},
     "output_type": "execute_result",
     "execution_count": 127
    }
   ],
   "source": [
    "pres16['st'].unique()\n",
    "\n"
   ],
   "metadata": {
    "collapsed": false,
    "pycharm": {
     "name": "#%%\n",
     "is_executing": false
    }
   }
  },
  {
   "cell_type": "code",
   "execution_count": 128,
   "outputs": [
    {
     "data": {
      "text/plain": "53"
     },
     "metadata": {},
     "output_type": "execute_result",
     "execution_count": 128
    }
   ],
   "source": [
    "len(pres16['st'].unique())"
   ],
   "metadata": {
    "collapsed": false,
    "pycharm": {
     "name": "#%%\n",
     "is_executing": false
    }
   }
  },
  {
   "cell_type": "code",
   "execution_count": 129,
   "outputs": [],
   "source": [
    "import requests\n",
    "import lxml\n",
    "web=requests.get('https://www.infoplease.com/us/postal-information/state-abbreviations-and-state-postal-codes')\n",
    "dfs=pd.read_html(web.text)"
   ],
   "metadata": {
    "collapsed": false,
    "pycharm": {
     "name": "#%%\n",
     "is_executing": false
    }
   }
  },
  {
   "cell_type": "code",
   "execution_count": 130,
   "outputs": [
    {
     "name": "stdout",
     "text": [
      "[          State/District Abbreviation Postal Code\n",
      "0                Alabama         Ala.          AL\n",
      "1                 Alaska       Alaska          AK\n",
      "2                Arizona        Ariz.          AZ\n",
      "3               Arkansas         Ark.          AR\n",
      "4             California       Calif.          CA\n",
      "5               Colorado        Colo.          CO\n",
      "6            Connecticut        Conn.          CT\n",
      "7               Delaware         Del.          DE\n",
      "8   District of Columbia         D.C.          DC\n",
      "9                Florida         Fla.          FL\n",
      "10               Georgia          Ga.          GA\n",
      "11                Hawaii       Hawaii          HI\n",
      "12                 Idaho        Idaho          ID\n",
      "13              Illinois         Ill.          IL\n",
      "14               Indiana         Ind.          IN\n",
      "15                  Iowa         Iowa          IA\n",
      "16                Kansas        Kans.          KS\n",
      "17              Kentucky          Ky.          KY\n",
      "18             Louisiana          La.          LA\n",
      "19                 Maine        Maine          ME\n",
      "20              Maryland          Md.          MD\n",
      "21         Massachusetts        Mass.          MA\n",
      "22              Michigan        Mich.          MI\n",
      "23             Minnesota        Minn.          MN\n",
      "24           Mississippi        Miss.          MS\n",
      "25              Missouri          Mo.          MO\n",
      "26               Montana        Mont.          MT\n",
      "27              Nebraska        Nebr.          NE\n",
      "28                Nevada         Nev.          NV\n",
      "29         New Hampshire         N.H.          NH\n",
      "30            New Jersey         N.J.          NJ\n",
      "31            New Mexico         N.M.          NM\n",
      "32              New York         N.Y.          NY\n",
      "33        North Carolina         N.C.          NC\n",
      "34          North Dakota         N.D.          ND\n",
      "35                  Ohio         Ohio          OH\n",
      "36              Oklahoma        Okla.          OK\n",
      "37                Oregon         Ore.          OR\n",
      "38          Pennsylvania          Pa.          PA\n",
      "39          Rhode Island         R.I.          RI\n",
      "40        South Carolina         S.C.          SC\n",
      "41          South Dakota         S.D.          SD\n",
      "42             Tennessee        Tenn.          TN\n",
      "43                 Texas         Tex.          TX\n",
      "44                  Utah         Utah          UT\n",
      "45               Vermont          Vt.          VT\n",
      "46              Virginia          Va.          VA\n",
      "47            Washington        Wash.          WA\n",
      "48         West Virginia        W.Va.          WV\n",
      "49             Wisconsin         Wis.          WI\n",
      "50               Wyoming         Wyo.          WY,   Territory/Associate Abbreviation Postal Code\n",
      "0      American Samoa          NaN          AS\n",
      "1                Guam         Guam          GU\n",
      "2    Marshall Islands          NaN          MH\n",
      "3          Micronesia          NaN          FM\n",
      "4   Northern Marianas          NaN          MP\n",
      "5               Palau          NaN          PW\n",
      "6         Puerto Rico         P.R.          PR\n",
      "7      Virgin Islands          NaN          VI]\n"
     ],
     "output_type": "stream"
    }
   ],
   "source": [
    "print(dfs)\n"
   ],
   "metadata": {
    "collapsed": false,
    "pycharm": {
     "name": "#%%\n",
     "is_executing": false
    }
   }
  },
  {
   "cell_type": "code",
   "execution_count": 131,
   "outputs": [],
   "source": [
    "state_abbv = dfs[0]"
   ],
   "metadata": {
    "collapsed": false,
    "pycharm": {
     "name": "#%%\n",
     "is_executing": false
    }
   }
  },
  {
   "cell_type": "code",
   "execution_count": 132,
   "outputs": [
    {
     "name": "stdout",
     "text": [
      "<class 'pandas.core.frame.DataFrame'>\n"
     ],
     "output_type": "stream"
    }
   ],
   "source": [
    "print(type(state_abbv))"
   ],
   "metadata": {
    "collapsed": false,
    "pycharm": {
     "name": "#%%\n",
     "is_executing": false
    }
   }
  },
  {
   "cell_type": "code",
   "execution_count": 133,
   "outputs": [],
   "source": [
    "state_abbv.to_csv('state_abbv', index=False)\n"
   ],
   "metadata": {
    "collapsed": false,
    "pycharm": {
     "name": "#%%\n",
     "is_executing": false
    }
   }
  },
  {
   "cell_type": "code",
   "execution_count": 134,
   "outputs": [
    {
     "data": {
      "text/plain": "               Postal Code\nState/District            \nAlabama                 AL\nAlaska                  AK\nArizona                 AZ\nArkansas                AR\nCalifornia              CA",
      "text/html": "<div>\n<style scoped>\n    .dataframe tbody tr th:only-of-type {\n        vertical-align: middle;\n    }\n\n    .dataframe tbody tr th {\n        vertical-align: top;\n    }\n\n    .dataframe thead th {\n        text-align: right;\n    }\n</style>\n<table border=\"1\" class=\"dataframe\">\n  <thead>\n    <tr style=\"text-align: right;\">\n      <th></th>\n      <th>Postal Code</th>\n    </tr>\n    <tr>\n      <th>State/District</th>\n      <th></th>\n    </tr>\n  </thead>\n  <tbody>\n    <tr>\n      <th>Alabama</th>\n      <td>AL</td>\n    </tr>\n    <tr>\n      <th>Alaska</th>\n      <td>AK</td>\n    </tr>\n    <tr>\n      <th>Arizona</th>\n      <td>AZ</td>\n    </tr>\n    <tr>\n      <th>Arkansas</th>\n      <td>AR</td>\n    </tr>\n    <tr>\n      <th>California</th>\n      <td>CA</td>\n    </tr>\n  </tbody>\n</table>\n</div>"
     },
     "metadata": {},
     "output_type": "execute_result",
     "execution_count": 134
    }
   ],
   "source": [
    "state_abbv=pd.read_csv('state_abbv',index_col=0)\n",
    "state_abbv=state_abbv[['Postal Code']]\n",
    "state_abbv.head()\n"
   ],
   "metadata": {
    "collapsed": false,
    "pycharm": {
     "name": "#%%\n",
     "is_executing": false
    }
   }
  },
  {
   "cell_type": "code",
   "execution_count": 135,
   "outputs": [
    {
     "data": {
      "text/plain": "{'Alabama': 'AL',\n 'Alaska': 'AK',\n 'Arizona': 'AZ',\n 'Arkansas': 'AR',\n 'California': 'CA',\n 'Colorado': 'CO',\n 'Connecticut': 'CT',\n 'Delaware': 'DE',\n 'District of Columbia': 'DC',\n 'Florida': 'FL',\n 'Georgia': 'GA',\n 'Hawaii': 'HI',\n 'Idaho': 'ID',\n 'Illinois': 'IL',\n 'Indiana': 'IN',\n 'Iowa': 'IA',\n 'Kansas': 'KS',\n 'Kentucky': 'KY',\n 'Louisiana': 'LA',\n 'Maine': 'ME',\n 'Maryland': 'MD',\n 'Massachusetts': 'MA',\n 'Michigan': 'MI',\n 'Minnesota': 'MN',\n 'Mississippi': 'MS',\n 'Missouri': 'MO',\n 'Montana': 'MT',\n 'Nebraska': 'NE',\n 'Nevada': 'NV',\n 'New Hampshire': 'NH',\n 'New Jersey': 'NJ',\n 'New Mexico': 'NM',\n 'New York': 'NY',\n 'North Carolina': 'NC',\n 'North Dakota': 'ND',\n 'Ohio': 'OH',\n 'Oklahoma': 'OK',\n 'Oregon': 'OR',\n 'Pennsylvania': 'PA',\n 'Rhode Island': 'RI',\n 'South Carolina': 'SC',\n 'South Dakota': 'SD',\n 'Tennessee': 'TN',\n 'Texas': 'TX',\n 'Utah': 'UT',\n 'Vermont': 'VT',\n 'Virginia': 'VA',\n 'Washington': 'WA',\n 'West Virginia': 'WV',\n 'Wisconsin': 'WI',\n 'Wyoming': 'WY'}"
     },
     "metadata": {},
     "output_type": "execute_result",
     "execution_count": 135
    }
   ],
   "source": [
    "state_abbv_dict=state_abbv.to_dict()['Postal Code']\n",
    "state_abbv_dict\n",
    "\n",
    " "
   ],
   "metadata": {
    "collapsed": false,
    "pycharm": {
     "name": "#%%\n",
     "is_executing": false
    }
   }
  },
  {
   "cell_type": "code",
   "execution_count": 136,
   "outputs": [],
   "source": [
    "# pandas.Series.map is used\n",
    "# https://pandas.pydata.org/pandas-docs/stable/reference/api/pandas.Series.map.html#pandas-series-map\n",
    "\n",
    "new_unemp_county['State']=new_unemp_county['State'].map(state_abbv_dict)"
   ],
   "metadata": {
    "collapsed": false,
    "pycharm": {
     "name": "#%%\n",
     "is_executing": false
    }
   }
  },
  {
   "cell_type": "code",
   "execution_count": 137,
   "outputs": [
    {
     "data": {
      "text/plain": "   Year     Month State         County  Rate  min_wage\n0  2015  February    MS  Newton County   6.1       NaN\n1  2015  February    MS  Panola County   9.4       NaN\n2  2015  February    MS  Monroe County   7.9       NaN\n3  2015  February    MS   Hinds County   6.1       NaN\n4  2015  February    MS  Kemper County  10.6       NaN",
      "text/html": "<div>\n<style scoped>\n    .dataframe tbody tr th:only-of-type {\n        vertical-align: middle;\n    }\n\n    .dataframe tbody tr th {\n        vertical-align: top;\n    }\n\n    .dataframe thead th {\n        text-align: right;\n    }\n</style>\n<table border=\"1\" class=\"dataframe\">\n  <thead>\n    <tr style=\"text-align: right;\">\n      <th></th>\n      <th>Year</th>\n      <th>Month</th>\n      <th>State</th>\n      <th>County</th>\n      <th>Rate</th>\n      <th>min_wage</th>\n    </tr>\n  </thead>\n  <tbody>\n    <tr>\n      <th>0</th>\n      <td>2015</td>\n      <td>February</td>\n      <td>MS</td>\n      <td>Newton County</td>\n      <td>6.1</td>\n      <td>NaN</td>\n    </tr>\n    <tr>\n      <th>1</th>\n      <td>2015</td>\n      <td>February</td>\n      <td>MS</td>\n      <td>Panola County</td>\n      <td>9.4</td>\n      <td>NaN</td>\n    </tr>\n    <tr>\n      <th>2</th>\n      <td>2015</td>\n      <td>February</td>\n      <td>MS</td>\n      <td>Monroe County</td>\n      <td>7.9</td>\n      <td>NaN</td>\n    </tr>\n    <tr>\n      <th>3</th>\n      <td>2015</td>\n      <td>February</td>\n      <td>MS</td>\n      <td>Hinds County</td>\n      <td>6.1</td>\n      <td>NaN</td>\n    </tr>\n    <tr>\n      <th>4</th>\n      <td>2015</td>\n      <td>February</td>\n      <td>MS</td>\n      <td>Kemper County</td>\n      <td>10.6</td>\n      <td>NaN</td>\n    </tr>\n  </tbody>\n</table>\n</div>"
     },
     "metadata": {},
     "output_type": "execute_result",
     "execution_count": 137
    }
   ],
   "source": [
    "new_unemp_county.head()"
   ],
   "metadata": {
    "collapsed": false,
    "pycharm": {
     "name": "#%%\n",
     "is_executing": false
    }
   }
  },
  {
   "cell_type": "code",
   "execution_count": 138,
   "outputs": [
    {
     "data": {
      "text/plain": "      Year     Month State              County  Rate  min_wage\n2797  2015  February    ME     Somerset County   8.4      7.92\n2798  2015  February    ME       Oxford County   6.8      7.92\n2799  2015  February    ME         Knox County   6.1      7.92\n2800  2015  February    ME  Piscataquis County   7.0      7.92\n2801  2015  February    ME    Aroostook County   7.2      7.92",
      "text/html": "<div>\n<style scoped>\n    .dataframe tbody tr th:only-of-type {\n        vertical-align: middle;\n    }\n\n    .dataframe tbody tr th {\n        vertical-align: top;\n    }\n\n    .dataframe thead th {\n        text-align: right;\n    }\n</style>\n<table border=\"1\" class=\"dataframe\">\n  <thead>\n    <tr style=\"text-align: right;\">\n      <th></th>\n      <th>Year</th>\n      <th>Month</th>\n      <th>State</th>\n      <th>County</th>\n      <th>Rate</th>\n      <th>min_wage</th>\n    </tr>\n  </thead>\n  <tbody>\n    <tr>\n      <th>2797</th>\n      <td>2015</td>\n      <td>February</td>\n      <td>ME</td>\n      <td>Somerset County</td>\n      <td>8.4</td>\n      <td>7.92</td>\n    </tr>\n    <tr>\n      <th>2798</th>\n      <td>2015</td>\n      <td>February</td>\n      <td>ME</td>\n      <td>Oxford County</td>\n      <td>6.8</td>\n      <td>7.92</td>\n    </tr>\n    <tr>\n      <th>2799</th>\n      <td>2015</td>\n      <td>February</td>\n      <td>ME</td>\n      <td>Knox County</td>\n      <td>6.1</td>\n      <td>7.92</td>\n    </tr>\n    <tr>\n      <th>2800</th>\n      <td>2015</td>\n      <td>February</td>\n      <td>ME</td>\n      <td>Piscataquis County</td>\n      <td>7.0</td>\n      <td>7.92</td>\n    </tr>\n    <tr>\n      <th>2801</th>\n      <td>2015</td>\n      <td>February</td>\n      <td>ME</td>\n      <td>Aroostook County</td>\n      <td>7.2</td>\n      <td>7.92</td>\n    </tr>\n  </tbody>\n</table>\n</div>"
     },
     "metadata": {},
     "output_type": "execute_result",
     "execution_count": 138
    }
   ],
   "source": [
    "new_unemp_county.tail()"
   ],
   "metadata": {
    "collapsed": false,
    "pycharm": {
     "name": "#%%\n",
     "is_executing": false
    }
   }
  },
  {
   "cell_type": "code",
   "execution_count": 139,
   "outputs": [
    {
     "name": "stdout",
     "text": [
      "18475\n",
      "2802\n"
     ],
     "output_type": "stream"
    }
   ],
   "source": [
    "print(len(pres16))\n",
    "print(len(new_unemp_county))"
   ],
   "metadata": {
    "collapsed": false,
    "pycharm": {
     "name": "#%%\n",
     "is_executing": false
    }
   }
  },
  {
   "cell_type": "code",
   "execution_count": 140,
   "outputs": [
    {
     "data": {
      "text/plain": "Index(['county', 'fips', 'cand', 'st', 'pct_report', 'votes', 'total_votes',\n       'pct', 'lead'],\n      dtype='object')"
     },
     "metadata": {},
     "output_type": "execute_result",
     "execution_count": 140
    }
   ],
   "source": [
    "pres16.columns"
   ],
   "metadata": {
    "collapsed": false,
    "pycharm": {
     "name": "#%%\n",
     "is_executing": false
    }
   }
  },
  {
   "cell_type": "code",
   "execution_count": 141,
   "outputs": [
    {
     "data": {
      "text/plain": "Index(['Year', 'Month', 'State', 'County', 'Rate', 'min_wage'], dtype='object')"
     },
     "metadata": {},
     "output_type": "execute_result",
     "execution_count": 141
    }
   ],
   "source": [
    "new_unemp_county.columns"
   ],
   "metadata": {
    "collapsed": false,
    "pycharm": {
     "name": "#%%\n",
     "is_executing": false
    }
   }
  },
  {
   "cell_type": "code",
   "execution_count": 142,
   "outputs": [],
   "source": [
    "pres16.rename(columns={'county':'County', 'st':'State'},inplace=True)"
   ],
   "metadata": {
    "collapsed": false,
    "pycharm": {
     "name": "#%%\n",
     "is_executing": false
    }
   }
  },
  {
   "cell_type": "code",
   "execution_count": 143,
   "outputs": [],
   "source": [
    "for df in [new_unemp_county, pres16]:\n",
    "    df.set_index(['County', 'State'], inplace=True)"
   ],
   "metadata": {
    "collapsed": false,
    "pycharm": {
     "name": "#%%\n",
     "is_executing": false
    }
   }
  },
  {
   "cell_type": "code",
   "execution_count": 144,
   "outputs": [
    {
     "data": {
      "text/plain": "             fips             cand  pct_report       votes  total_votes  \\\nCounty State                                                              \nNaN    US      US     Donald Trump      0.9951  60350241.0  127592176.0   \n       US      US  Hillary Clinton      0.9951  60981118.0  127592176.0   \n       US      US     Gary Johnson      0.9951   4164589.0  127592176.0   \n       US      US       Jill Stein      0.9951   1255968.0  127592176.0   \n       US      US    Evan McMullin      0.9951    451636.0  127592176.0   \n\n                   pct          lead  \nCounty State                          \nNaN    US     0.472993  Donald Trump  \n       US     0.477938  Donald Trump  \n       US     0.032640  Donald Trump  \n       US     0.009844  Donald Trump  \n       US     0.003540  Donald Trump  ",
      "text/html": "<div>\n<style scoped>\n    .dataframe tbody tr th:only-of-type {\n        vertical-align: middle;\n    }\n\n    .dataframe tbody tr th {\n        vertical-align: top;\n    }\n\n    .dataframe thead th {\n        text-align: right;\n    }\n</style>\n<table border=\"1\" class=\"dataframe\">\n  <thead>\n    <tr style=\"text-align: right;\">\n      <th></th>\n      <th></th>\n      <th>fips</th>\n      <th>cand</th>\n      <th>pct_report</th>\n      <th>votes</th>\n      <th>total_votes</th>\n      <th>pct</th>\n      <th>lead</th>\n    </tr>\n    <tr>\n      <th>County</th>\n      <th>State</th>\n      <th></th>\n      <th></th>\n      <th></th>\n      <th></th>\n      <th></th>\n      <th></th>\n      <th></th>\n    </tr>\n  </thead>\n  <tbody>\n    <tr>\n      <th rowspan=\"5\" valign=\"top\">NaN</th>\n      <th>US</th>\n      <td>US</td>\n      <td>Donald Trump</td>\n      <td>0.9951</td>\n      <td>60350241.0</td>\n      <td>127592176.0</td>\n      <td>0.472993</td>\n      <td>Donald Trump</td>\n    </tr>\n    <tr>\n      <th>US</th>\n      <td>US</td>\n      <td>Hillary Clinton</td>\n      <td>0.9951</td>\n      <td>60981118.0</td>\n      <td>127592176.0</td>\n      <td>0.477938</td>\n      <td>Donald Trump</td>\n    </tr>\n    <tr>\n      <th>US</th>\n      <td>US</td>\n      <td>Gary Johnson</td>\n      <td>0.9951</td>\n      <td>4164589.0</td>\n      <td>127592176.0</td>\n      <td>0.032640</td>\n      <td>Donald Trump</td>\n    </tr>\n    <tr>\n      <th>US</th>\n      <td>US</td>\n      <td>Jill Stein</td>\n      <td>0.9951</td>\n      <td>1255968.0</td>\n      <td>127592176.0</td>\n      <td>0.009844</td>\n      <td>Donald Trump</td>\n    </tr>\n    <tr>\n      <th>US</th>\n      <td>US</td>\n      <td>Evan McMullin</td>\n      <td>0.9951</td>\n      <td>451636.0</td>\n      <td>127592176.0</td>\n      <td>0.003540</td>\n      <td>Donald Trump</td>\n    </tr>\n  </tbody>\n</table>\n</div>"
     },
     "metadata": {},
     "output_type": "execute_result",
     "execution_count": 144
    }
   ],
   "source": [
    "pres16.head()"
   ],
   "metadata": {
    "collapsed": false,
    "pycharm": {
     "name": "#%%\n",
     "is_executing": false
    }
   }
  },
  {
   "cell_type": "code",
   "execution_count": 145,
   "outputs": [],
   "source": [
    "pres16=pres16[pres16['cand']=='Donald Trump']\n",
    "pres16=pres16[['pct']]\n",
    "pres16.dropna(inplace=True)"
   ],
   "metadata": {
    "collapsed": false,
    "pycharm": {
     "name": "#%%\n",
     "is_executing": false
    }
   }
  },
  {
   "cell_type": "code",
   "execution_count": 146,
   "outputs": [
    {
     "data": {
      "text/plain": "                          pct\nCounty        State          \nClark County  ID     0.717314\nArthur County NE     0.901141\nKenedy County TX     0.451613\nKing County   TX     0.937107\nLoving County TX     0.890625",
      "text/html": "<div>\n<style scoped>\n    .dataframe tbody tr th:only-of-type {\n        vertical-align: middle;\n    }\n\n    .dataframe tbody tr th {\n        vertical-align: top;\n    }\n\n    .dataframe thead th {\n        text-align: right;\n    }\n</style>\n<table border=\"1\" class=\"dataframe\">\n  <thead>\n    <tr style=\"text-align: right;\">\n      <th></th>\n      <th></th>\n      <th>pct</th>\n    </tr>\n    <tr>\n      <th>County</th>\n      <th>State</th>\n      <th></th>\n    </tr>\n  </thead>\n  <tbody>\n    <tr>\n      <th>Clark County</th>\n      <th>ID</th>\n      <td>0.717314</td>\n    </tr>\n    <tr>\n      <th>Arthur County</th>\n      <th>NE</th>\n      <td>0.901141</td>\n    </tr>\n    <tr>\n      <th>Kenedy County</th>\n      <th>TX</th>\n      <td>0.451613</td>\n    </tr>\n    <tr>\n      <th>King County</th>\n      <th>TX</th>\n      <td>0.937107</td>\n    </tr>\n    <tr>\n      <th>Loving County</th>\n      <th>TX</th>\n      <td>0.890625</td>\n    </tr>\n  </tbody>\n</table>\n</div>"
     },
     "metadata": {},
     "output_type": "execute_result",
     "execution_count": 146
    }
   ],
   "source": [
    "pres16.tail()"
   ],
   "metadata": {
    "collapsed": false,
    "pycharm": {
     "name": "#%%\n",
     "is_executing": false
    }
   }
  },
  {
   "cell_type": "code",
   "execution_count": 147,
   "outputs": [
    {
     "data": {
      "text/plain": "                   pct\nCounty State          \nNaN    US     0.472993\n       CA     0.330641\n       FL     0.490640\n       TX     0.525830\n       NY     0.374752",
      "text/html": "<div>\n<style scoped>\n    .dataframe tbody tr th:only-of-type {\n        vertical-align: middle;\n    }\n\n    .dataframe tbody tr th {\n        vertical-align: top;\n    }\n\n    .dataframe thead th {\n        text-align: right;\n    }\n</style>\n<table border=\"1\" class=\"dataframe\">\n  <thead>\n    <tr style=\"text-align: right;\">\n      <th></th>\n      <th></th>\n      <th>pct</th>\n    </tr>\n    <tr>\n      <th>County</th>\n      <th>State</th>\n      <th></th>\n    </tr>\n  </thead>\n  <tbody>\n    <tr>\n      <th rowspan=\"5\" valign=\"top\">NaN</th>\n      <th>US</th>\n      <td>0.472993</td>\n    </tr>\n    <tr>\n      <th>CA</th>\n      <td>0.330641</td>\n    </tr>\n    <tr>\n      <th>FL</th>\n      <td>0.490640</td>\n    </tr>\n    <tr>\n      <th>TX</th>\n      <td>0.525830</td>\n    </tr>\n    <tr>\n      <th>NY</th>\n      <td>0.374752</td>\n    </tr>\n  </tbody>\n</table>\n</div>"
     },
     "metadata": {},
     "output_type": "execute_result",
     "execution_count": 147
    }
   ],
   "source": [
    "pres16.head()"
   ],
   "metadata": {
    "collapsed": false,
    "pycharm": {
     "name": "#%%\n",
     "is_executing": false
    }
   }
  },
  {
   "cell_type": "code",
   "execution_count": 148,
   "outputs": [],
   "source": [
    "all_together = new_unemp_county.merge(pres16, on=['County', 'State'])\n",
    "all_together.dropna(inplace=True)"
   ],
   "metadata": {
    "collapsed": false,
    "pycharm": {
     "name": "#%%\n",
     "is_executing": false
    }
   }
  },
  {
   "cell_type": "code",
   "execution_count": 149,
   "outputs": [
    {
     "data": {
      "text/plain": "                          Year     Month  Rate  min_wage       pct\nCounty             State                                          \nSomerset County    ME     2015  February   8.4      7.92  0.577557\nOxford County      ME     2015  February   6.8      7.92  0.521451\nKnox County        ME     2015  February   6.1      7.92  0.397376\nPiscataquis County ME     2015  February   7.0      7.92  0.590879\nAroostook County   ME     2015  February   7.2      7.92  0.555416",
      "text/html": "<div>\n<style scoped>\n    .dataframe tbody tr th:only-of-type {\n        vertical-align: middle;\n    }\n\n    .dataframe tbody tr th {\n        vertical-align: top;\n    }\n\n    .dataframe thead th {\n        text-align: right;\n    }\n</style>\n<table border=\"1\" class=\"dataframe\">\n  <thead>\n    <tr style=\"text-align: right;\">\n      <th></th>\n      <th></th>\n      <th>Year</th>\n      <th>Month</th>\n      <th>Rate</th>\n      <th>min_wage</th>\n      <th>pct</th>\n    </tr>\n    <tr>\n      <th>County</th>\n      <th>State</th>\n      <th></th>\n      <th></th>\n      <th></th>\n      <th></th>\n      <th></th>\n    </tr>\n  </thead>\n  <tbody>\n    <tr>\n      <th>Somerset County</th>\n      <th>ME</th>\n      <td>2015</td>\n      <td>February</td>\n      <td>8.4</td>\n      <td>7.92</td>\n      <td>0.577557</td>\n    </tr>\n    <tr>\n      <th>Oxford County</th>\n      <th>ME</th>\n      <td>2015</td>\n      <td>February</td>\n      <td>6.8</td>\n      <td>7.92</td>\n      <td>0.521451</td>\n    </tr>\n    <tr>\n      <th>Knox County</th>\n      <th>ME</th>\n      <td>2015</td>\n      <td>February</td>\n      <td>6.1</td>\n      <td>7.92</td>\n      <td>0.397376</td>\n    </tr>\n    <tr>\n      <th>Piscataquis County</th>\n      <th>ME</th>\n      <td>2015</td>\n      <td>February</td>\n      <td>7.0</td>\n      <td>7.92</td>\n      <td>0.590879</td>\n    </tr>\n    <tr>\n      <th>Aroostook County</th>\n      <th>ME</th>\n      <td>2015</td>\n      <td>February</td>\n      <td>7.2</td>\n      <td>7.92</td>\n      <td>0.555416</td>\n    </tr>\n  </tbody>\n</table>\n</div>"
     },
     "metadata": {},
     "output_type": "execute_result",
     "execution_count": 149
    }
   ],
   "source": [
    "all_together.tail()"
   ],
   "metadata": {
    "collapsed": false,
    "pycharm": {
     "name": "#%%\n",
     "is_executing": false
    }
   }
  },
  {
   "cell_type": "code",
   "execution_count": 150,
   "outputs": [],
   "source": [
    "all_together.drop(['Year','Month'],axis=1,inplace=True)"
   ],
   "metadata": {
    "collapsed": false,
    "pycharm": {
     "name": "#%%\n",
     "is_executing": false
    }
   }
  },
  {
   "cell_type": "code",
   "execution_count": 151,
   "outputs": [
    {
     "data": {
      "text/plain": "                           Rate  min_wage       pct\nCounty              State                          \nMajor County        OK      2.6      2.11  0.864960\nPottawatomie County OK      4.5      2.11  0.701342\nJohnston County     OK      6.5      2.11  0.770057\nJefferson County    OK      5.0      2.11  0.812367\nBeaver County       OK      2.8      2.11  0.888243",
      "text/html": "<div>\n<style scoped>\n    .dataframe tbody tr th:only-of-type {\n        vertical-align: middle;\n    }\n\n    .dataframe tbody tr th {\n        vertical-align: top;\n    }\n\n    .dataframe thead th {\n        text-align: right;\n    }\n</style>\n<table border=\"1\" class=\"dataframe\">\n  <thead>\n    <tr style=\"text-align: right;\">\n      <th></th>\n      <th></th>\n      <th>Rate</th>\n      <th>min_wage</th>\n      <th>pct</th>\n    </tr>\n    <tr>\n      <th>County</th>\n      <th>State</th>\n      <th></th>\n      <th></th>\n      <th></th>\n    </tr>\n  </thead>\n  <tbody>\n    <tr>\n      <th>Major County</th>\n      <th>OK</th>\n      <td>2.6</td>\n      <td>2.11</td>\n      <td>0.864960</td>\n    </tr>\n    <tr>\n      <th>Pottawatomie County</th>\n      <th>OK</th>\n      <td>4.5</td>\n      <td>2.11</td>\n      <td>0.701342</td>\n    </tr>\n    <tr>\n      <th>Johnston County</th>\n      <th>OK</th>\n      <td>6.5</td>\n      <td>2.11</td>\n      <td>0.770057</td>\n    </tr>\n    <tr>\n      <th>Jefferson County</th>\n      <th>OK</th>\n      <td>5.0</td>\n      <td>2.11</td>\n      <td>0.812367</td>\n    </tr>\n    <tr>\n      <th>Beaver County</th>\n      <th>OK</th>\n      <td>2.8</td>\n      <td>2.11</td>\n      <td>0.888243</td>\n    </tr>\n  </tbody>\n</table>\n</div>"
     },
     "metadata": {},
     "output_type": "execute_result",
     "execution_count": 151
    }
   ],
   "source": [
    "all_together.head()"
   ],
   "metadata": {
    "collapsed": false,
    "pycharm": {
     "name": "#%%\n",
     "is_executing": false
    }
   }
  },
  {
   "cell_type": "code",
   "execution_count": 152,
   "outputs": [
    {
     "data": {
      "text/plain": "                          Rate  min_wage       pct\nCounty             State                          \nSomerset County    ME      8.4      7.92  0.577557\nOxford County      ME      6.8      7.92  0.521451\nKnox County        ME      6.1      7.92  0.397376\nPiscataquis County ME      7.0      7.92  0.590879\nAroostook County   ME      7.2      7.92  0.555416",
      "text/html": "<div>\n<style scoped>\n    .dataframe tbody tr th:only-of-type {\n        vertical-align: middle;\n    }\n\n    .dataframe tbody tr th {\n        vertical-align: top;\n    }\n\n    .dataframe thead th {\n        text-align: right;\n    }\n</style>\n<table border=\"1\" class=\"dataframe\">\n  <thead>\n    <tr style=\"text-align: right;\">\n      <th></th>\n      <th></th>\n      <th>Rate</th>\n      <th>min_wage</th>\n      <th>pct</th>\n    </tr>\n    <tr>\n      <th>County</th>\n      <th>State</th>\n      <th></th>\n      <th></th>\n      <th></th>\n    </tr>\n  </thead>\n  <tbody>\n    <tr>\n      <th>Somerset County</th>\n      <th>ME</th>\n      <td>8.4</td>\n      <td>7.92</td>\n      <td>0.577557</td>\n    </tr>\n    <tr>\n      <th>Oxford County</th>\n      <th>ME</th>\n      <td>6.8</td>\n      <td>7.92</td>\n      <td>0.521451</td>\n    </tr>\n    <tr>\n      <th>Knox County</th>\n      <th>ME</th>\n      <td>6.1</td>\n      <td>7.92</td>\n      <td>0.397376</td>\n    </tr>\n    <tr>\n      <th>Piscataquis County</th>\n      <th>ME</th>\n      <td>7.0</td>\n      <td>7.92</td>\n      <td>0.590879</td>\n    </tr>\n    <tr>\n      <th>Aroostook County</th>\n      <th>ME</th>\n      <td>7.2</td>\n      <td>7.92</td>\n      <td>0.555416</td>\n    </tr>\n  </tbody>\n</table>\n</div>"
     },
     "metadata": {},
     "output_type": "execute_result",
     "execution_count": 152
    }
   ],
   "source": [
    "all_together.tail()"
   ],
   "metadata": {
    "collapsed": false,
    "pycharm": {
     "name": "#%%\n",
     "is_executing": false
    }
   }
  },
  {
   "cell_type": "code",
   "execution_count": 153,
   "outputs": [
    {
     "data": {
      "text/plain": "              Rate  min_wage       pct\nRate      1.000000  0.186689 -0.085985\nmin_wage  0.186689  1.000000 -0.325036\npct      -0.085985 -0.325036  1.000000",
      "text/html": "<div>\n<style scoped>\n    .dataframe tbody tr th:only-of-type {\n        vertical-align: middle;\n    }\n\n    .dataframe tbody tr th {\n        vertical-align: top;\n    }\n\n    .dataframe thead th {\n        text-align: right;\n    }\n</style>\n<table border=\"1\" class=\"dataframe\">\n  <thead>\n    <tr style=\"text-align: right;\">\n      <th></th>\n      <th>Rate</th>\n      <th>min_wage</th>\n      <th>pct</th>\n    </tr>\n  </thead>\n  <tbody>\n    <tr>\n      <th>Rate</th>\n      <td>1.000000</td>\n      <td>0.186689</td>\n      <td>-0.085985</td>\n    </tr>\n    <tr>\n      <th>min_wage</th>\n      <td>0.186689</td>\n      <td>1.000000</td>\n      <td>-0.325036</td>\n    </tr>\n    <tr>\n      <th>pct</th>\n      <td>-0.085985</td>\n      <td>-0.325036</td>\n      <td>1.000000</td>\n    </tr>\n  </tbody>\n</table>\n</div>"
     },
     "metadata": {},
     "output_type": "execute_result",
     "execution_count": 153
    }
   ],
   "source": [
    "all_together.corr()"
   ],
   "metadata": {
    "collapsed": false,
    "pycharm": {
     "name": "#%%\n",
     "is_executing": false
    }
   }
  },
  {
   "cell_type": "code",
   "execution_count": 154,
   "outputs": [
    {
     "data": {
      "text/plain": "              Rate  min_wage       pct\nRate      5.743199  0.683870 -0.031771\nmin_wage  0.683870  2.336451 -0.076602\npct      -0.031771 -0.076602  0.023772",
      "text/html": "<div>\n<style scoped>\n    .dataframe tbody tr th:only-of-type {\n        vertical-align: middle;\n    }\n\n    .dataframe tbody tr th {\n        vertical-align: top;\n    }\n\n    .dataframe thead th {\n        text-align: right;\n    }\n</style>\n<table border=\"1\" class=\"dataframe\">\n  <thead>\n    <tr style=\"text-align: right;\">\n      <th></th>\n      <th>Rate</th>\n      <th>min_wage</th>\n      <th>pct</th>\n    </tr>\n  </thead>\n  <tbody>\n    <tr>\n      <th>Rate</th>\n      <td>5.743199</td>\n      <td>0.683870</td>\n      <td>-0.031771</td>\n    </tr>\n    <tr>\n      <th>min_wage</th>\n      <td>0.683870</td>\n      <td>2.336451</td>\n      <td>-0.076602</td>\n    </tr>\n    <tr>\n      <th>pct</th>\n      <td>-0.031771</td>\n      <td>-0.076602</td>\n      <td>0.023772</td>\n    </tr>\n  </tbody>\n</table>\n</div>"
     },
     "metadata": {},
     "output_type": "execute_result",
     "execution_count": 154
    }
   ],
   "source": [
    "all_together.cov()"
   ],
   "metadata": {
    "collapsed": false,
    "pycharm": {
     "name": "#%%\n",
     "is_executing": false
    }
   }
  },
  {
   "cell_type": "code",
   "execution_count": 154,
   "outputs": [],
   "source": [
    "\n"
   ],
   "metadata": {
    "collapsed": false,
    "pycharm": {
     "name": "#%%\n",
     "is_executing": false
    }
   }
  }
 ]
}