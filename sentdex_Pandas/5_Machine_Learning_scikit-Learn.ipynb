{
 "cells": [
  {
   "cell_type": "code",
   "execution_count": 529,
   "metadata": {
    "collapsed": true,
    "pycharm": {
     "is_executing": false
    }
   },
   "outputs": [],
   "source": [
    "import pandas as pd\n",
    "import sklearn\n",
    "import numpy as np"
   ]
  },
  {
   "cell_type": "code",
   "execution_count": 530,
   "outputs": [
    {
     "data": {
      "text/plain": "   carat      cut color clarity  depth  table  price     x     y     z\n1   0.23    Ideal     E     SI2   61.5   55.0    326  3.95  3.98  2.43\n2   0.21  Premium     E     SI1   59.8   61.0    326  3.89  3.84  2.31\n3   0.23     Good     E     VS1   56.9   65.0    327  4.05  4.07  2.31\n4   0.29  Premium     I     VS2   62.4   58.0    334  4.20  4.23  2.63\n5   0.31     Good     J     SI2   63.3   58.0    335  4.34  4.35  2.75",
      "text/html": "<div>\n<style scoped>\n    .dataframe tbody tr th:only-of-type {\n        vertical-align: middle;\n    }\n\n    .dataframe tbody tr th {\n        vertical-align: top;\n    }\n\n    .dataframe thead th {\n        text-align: right;\n    }\n</style>\n<table border=\"1\" class=\"dataframe\">\n  <thead>\n    <tr style=\"text-align: right;\">\n      <th></th>\n      <th>carat</th>\n      <th>cut</th>\n      <th>color</th>\n      <th>clarity</th>\n      <th>depth</th>\n      <th>table</th>\n      <th>price</th>\n      <th>x</th>\n      <th>y</th>\n      <th>z</th>\n    </tr>\n  </thead>\n  <tbody>\n    <tr>\n      <th>1</th>\n      <td>0.23</td>\n      <td>Ideal</td>\n      <td>E</td>\n      <td>SI2</td>\n      <td>61.5</td>\n      <td>55.0</td>\n      <td>326</td>\n      <td>3.95</td>\n      <td>3.98</td>\n      <td>2.43</td>\n    </tr>\n    <tr>\n      <th>2</th>\n      <td>0.21</td>\n      <td>Premium</td>\n      <td>E</td>\n      <td>SI1</td>\n      <td>59.8</td>\n      <td>61.0</td>\n      <td>326</td>\n      <td>3.89</td>\n      <td>3.84</td>\n      <td>2.31</td>\n    </tr>\n    <tr>\n      <th>3</th>\n      <td>0.23</td>\n      <td>Good</td>\n      <td>E</td>\n      <td>VS1</td>\n      <td>56.9</td>\n      <td>65.0</td>\n      <td>327</td>\n      <td>4.05</td>\n      <td>4.07</td>\n      <td>2.31</td>\n    </tr>\n    <tr>\n      <th>4</th>\n      <td>0.29</td>\n      <td>Premium</td>\n      <td>I</td>\n      <td>VS2</td>\n      <td>62.4</td>\n      <td>58.0</td>\n      <td>334</td>\n      <td>4.20</td>\n      <td>4.23</td>\n      <td>2.63</td>\n    </tr>\n    <tr>\n      <th>5</th>\n      <td>0.31</td>\n      <td>Good</td>\n      <td>J</td>\n      <td>SI2</td>\n      <td>63.3</td>\n      <td>58.0</td>\n      <td>335</td>\n      <td>4.34</td>\n      <td>4.35</td>\n      <td>2.75</td>\n    </tr>\n  </tbody>\n</table>\n</div>"
     },
     "metadata": {},
     "output_type": "execute_result",
     "execution_count": 530
    }
   ],
   "source": [
    "df = pd.read_csv('/home/moritz/Desktop/Datasets/diamonds.csv', index_col=0)\n",
    "df.head()"
   ],
   "metadata": {
    "collapsed": false,
    "pycharm": {
     "name": "#%%\n",
     "is_executing": false
    }
   }
  },
  {
   "cell_type": "code",
   "execution_count": 531,
   "outputs": [
    {
     "data": {
      "text/plain": "array(['Ideal', 'Premium', 'Good', 'Very Good', 'Fair'], dtype=object)"
     },
     "metadata": {},
     "output_type": "execute_result",
     "execution_count": 531
    }
   ],
   "source": [
    "df['cut'].unique()"
   ],
   "metadata": {
    "collapsed": false,
    "pycharm": {
     "name": "#%%\n",
     "is_executing": false
    }
   }
  },
  {
   "cell_type": "code",
   "execution_count": 532,
   "outputs": [],
   "source": [
    "# df['cut'].astype('category').cat.codes\n",
    "# we should use above code to convert categorical data, \n",
    "# but since this is a regression problem its no preferred coz it \n",
    "# assigns random value, in classification this is ok. \n",
    "#the preferred thing is to categorize on the basis that would have some meaning."
   ],
   "metadata": {
    "collapsed": false,
    "pycharm": {
     "name": "#%%\n",
     "is_executing": false
    }
   }
  },
  {
   "cell_type": "code",
   "execution_count": 533,
   "outputs": [],
   "source": [
    "import sklearn\n",
    "df = sklearn.utils.shuffle(df)"
   ],
   "metadata": {
    "collapsed": false,
    "pycharm": {
     "name": "#%%\n",
     "is_executing": false
    }
   }
  },
  {
   "cell_type": "code",
   "execution_count": 534,
   "outputs": [],
   "source": [
    "X= (df.iloc[:, [0,4,5,7,8,9]].values).astype('float')\n",
    "y = df.iloc[:,6].values.astype('float')\n",
    "X_=(df.iloc[:,[1,2,3]].values)\n",
    "\n"
   ],
   "metadata": {
    "collapsed": false,
    "pycharm": {
     "name": "#%%\n",
     "is_executing": false
    }
   }
  },
  {
   "cell_type": "code",
   "execution_count": 535,
   "outputs": [],
   "source": [
    "X=pd.DataFrame(X)\n",
    "X_=pd.DataFrame(X_)\n",
    "y=pd.DataFrame(y)"
   ],
   "metadata": {
    "collapsed": false,
    "pycharm": {
     "name": "#%%\n",
     "is_executing": false
    }
   }
  },
  {
   "cell_type": "code",
   "execution_count": 536,
   "outputs": [
    {
     "data": {
      "text/plain": "      0     1     2     3     4     5\n0  1.16  62.4  57.0  6.71  6.75  4.20\n1  1.26  61.7  56.0  6.96  6.98  4.30\n2  0.85  63.6  57.0  6.01  5.94  3.80\n3  1.44  63.2  54.8  7.18  7.21  4.54\n4  1.00  58.7  62.0  6.60  6.51  3.85",
      "text/html": "<div>\n<style scoped>\n    .dataframe tbody tr th:only-of-type {\n        vertical-align: middle;\n    }\n\n    .dataframe tbody tr th {\n        vertical-align: top;\n    }\n\n    .dataframe thead th {\n        text-align: right;\n    }\n</style>\n<table border=\"1\" class=\"dataframe\">\n  <thead>\n    <tr style=\"text-align: right;\">\n      <th></th>\n      <th>0</th>\n      <th>1</th>\n      <th>2</th>\n      <th>3</th>\n      <th>4</th>\n      <th>5</th>\n    </tr>\n  </thead>\n  <tbody>\n    <tr>\n      <th>0</th>\n      <td>1.16</td>\n      <td>62.4</td>\n      <td>57.0</td>\n      <td>6.71</td>\n      <td>6.75</td>\n      <td>4.20</td>\n    </tr>\n    <tr>\n      <th>1</th>\n      <td>1.26</td>\n      <td>61.7</td>\n      <td>56.0</td>\n      <td>6.96</td>\n      <td>6.98</td>\n      <td>4.30</td>\n    </tr>\n    <tr>\n      <th>2</th>\n      <td>0.85</td>\n      <td>63.6</td>\n      <td>57.0</td>\n      <td>6.01</td>\n      <td>5.94</td>\n      <td>3.80</td>\n    </tr>\n    <tr>\n      <th>3</th>\n      <td>1.44</td>\n      <td>63.2</td>\n      <td>54.8</td>\n      <td>7.18</td>\n      <td>7.21</td>\n      <td>4.54</td>\n    </tr>\n    <tr>\n      <th>4</th>\n      <td>1.00</td>\n      <td>58.7</td>\n      <td>62.0</td>\n      <td>6.60</td>\n      <td>6.51</td>\n      <td>3.85</td>\n    </tr>\n  </tbody>\n</table>\n</div>"
     },
     "metadata": {},
     "output_type": "execute_result",
     "execution_count": 536
    }
   ],
   "source": [
    "X.head()\n",
    "\n"
   ],
   "metadata": {
    "collapsed": false,
    "pycharm": {
     "name": "#%%\n",
     "is_executing": false
    }
   }
  },
  {
   "cell_type": "code",
   "execution_count": 537,
   "outputs": [
    {
     "data": {
      "text/plain": "         0  1     2\n0    Ideal  I   SI1\n1    Ideal  G  VVS1\n2     Good  J   VS1\n3     Good  G    I1\n4  Premium  F   VS2",
      "text/html": "<div>\n<style scoped>\n    .dataframe tbody tr th:only-of-type {\n        vertical-align: middle;\n    }\n\n    .dataframe tbody tr th {\n        vertical-align: top;\n    }\n\n    .dataframe thead th {\n        text-align: right;\n    }\n</style>\n<table border=\"1\" class=\"dataframe\">\n  <thead>\n    <tr style=\"text-align: right;\">\n      <th></th>\n      <th>0</th>\n      <th>1</th>\n      <th>2</th>\n    </tr>\n  </thead>\n  <tbody>\n    <tr>\n      <th>0</th>\n      <td>Ideal</td>\n      <td>I</td>\n      <td>SI1</td>\n    </tr>\n    <tr>\n      <th>1</th>\n      <td>Ideal</td>\n      <td>G</td>\n      <td>VVS1</td>\n    </tr>\n    <tr>\n      <th>2</th>\n      <td>Good</td>\n      <td>J</td>\n      <td>VS1</td>\n    </tr>\n    <tr>\n      <th>3</th>\n      <td>Good</td>\n      <td>G</td>\n      <td>I1</td>\n    </tr>\n    <tr>\n      <th>4</th>\n      <td>Premium</td>\n      <td>F</td>\n      <td>VS2</td>\n    </tr>\n  </tbody>\n</table>\n</div>"
     },
     "metadata": {},
     "output_type": "execute_result",
     "execution_count": 537
    }
   ],
   "source": [
    "X_.head()\n",
    "\n"
   ],
   "metadata": {
    "collapsed": false,
    "pycharm": {
     "name": "#%%\n",
     "is_executing": false
    }
   }
  },
  {
   "cell_type": "code",
   "execution_count": 538,
   "outputs": [
    {
     "data": {
      "text/plain": "       carat      cut color clarity  depth  table  price     x     y     z\n11869   1.16    Ideal     I     SI1   62.4   57.0   5107  6.71  6.75  4.20\n23211   1.26    Ideal     G    VVS1   61.7   56.0  11218  6.96  6.98  4.30\n51424   0.85     Good     J     VS1   63.6   57.0   2372  6.01  5.94  3.80\n14863   1.44     Good     G      I1   63.2   54.8   5987  7.18  7.21  4.54\n14988   1.00  Premium     F     VS2   58.7   62.0   6037  6.60  6.51  3.85",
      "text/html": "<div>\n<style scoped>\n    .dataframe tbody tr th:only-of-type {\n        vertical-align: middle;\n    }\n\n    .dataframe tbody tr th {\n        vertical-align: top;\n    }\n\n    .dataframe thead th {\n        text-align: right;\n    }\n</style>\n<table border=\"1\" class=\"dataframe\">\n  <thead>\n    <tr style=\"text-align: right;\">\n      <th></th>\n      <th>carat</th>\n      <th>cut</th>\n      <th>color</th>\n      <th>clarity</th>\n      <th>depth</th>\n      <th>table</th>\n      <th>price</th>\n      <th>x</th>\n      <th>y</th>\n      <th>z</th>\n    </tr>\n  </thead>\n  <tbody>\n    <tr>\n      <th>11869</th>\n      <td>1.16</td>\n      <td>Ideal</td>\n      <td>I</td>\n      <td>SI1</td>\n      <td>62.4</td>\n      <td>57.0</td>\n      <td>5107</td>\n      <td>6.71</td>\n      <td>6.75</td>\n      <td>4.20</td>\n    </tr>\n    <tr>\n      <th>23211</th>\n      <td>1.26</td>\n      <td>Ideal</td>\n      <td>G</td>\n      <td>VVS1</td>\n      <td>61.7</td>\n      <td>56.0</td>\n      <td>11218</td>\n      <td>6.96</td>\n      <td>6.98</td>\n      <td>4.30</td>\n    </tr>\n    <tr>\n      <th>51424</th>\n      <td>0.85</td>\n      <td>Good</td>\n      <td>J</td>\n      <td>VS1</td>\n      <td>63.6</td>\n      <td>57.0</td>\n      <td>2372</td>\n      <td>6.01</td>\n      <td>5.94</td>\n      <td>3.80</td>\n    </tr>\n    <tr>\n      <th>14863</th>\n      <td>1.44</td>\n      <td>Good</td>\n      <td>G</td>\n      <td>I1</td>\n      <td>63.2</td>\n      <td>54.8</td>\n      <td>5987</td>\n      <td>7.18</td>\n      <td>7.21</td>\n      <td>4.54</td>\n    </tr>\n    <tr>\n      <th>14988</th>\n      <td>1.00</td>\n      <td>Premium</td>\n      <td>F</td>\n      <td>VS2</td>\n      <td>58.7</td>\n      <td>62.0</td>\n      <td>6037</td>\n      <td>6.60</td>\n      <td>6.51</td>\n      <td>3.85</td>\n    </tr>\n  </tbody>\n</table>\n</div>"
     },
     "metadata": {},
     "output_type": "execute_result",
     "execution_count": 538
    }
   ],
   "source": [
    "df.head()"
   ],
   "metadata": {
    "collapsed": false,
    "pycharm": {
     "name": "#%%\n",
     "is_executing": false
    }
   }
  },
  {
   "cell_type": "code",
   "execution_count": 539,
   "outputs": [],
   "source": [
    "from sklearn.preprocessing import LabelEncoder\n",
    "label_encoder = LabelEncoder()"
   ],
   "metadata": {
    "collapsed": false,
    "pycharm": {
     "name": "#%%\n",
     "is_executing": false
    }
   }
  },
  {
   "cell_type": "code",
   "execution_count": 540,
   "outputs": [],
   "source": [
    "# renaming columns\n",
    "# df.rename(columns={'oldName1': 'newName1', 'oldName2': 'newName2'}, inplace=True)\n",
    "\n",
    "X_.rename(columns={0:6,1:7,2:8}, inplace=True)"
   ],
   "metadata": {
    "collapsed": false,
    "pycharm": {
     "name": "#%%\n",
     "is_executing": false
    }
   }
  },
  {
   "cell_type": "code",
   "execution_count": 541,
   "outputs": [],
   "source": [
    "all_together =pd.concat([X,X_],axis=1)"
   ],
   "metadata": {
    "collapsed": false,
    "pycharm": {
     "name": "#%%\n",
     "is_executing": false
    }
   }
  },
  {
   "cell_type": "code",
   "execution_count": 542,
   "outputs": [
    {
     "data": {
      "text/plain": "      0     1     2     3     4     5        6  7     8\n0  1.16  62.4  57.0  6.71  6.75  4.20    Ideal  I   SI1\n1  1.26  61.7  56.0  6.96  6.98  4.30    Ideal  G  VVS1\n2  0.85  63.6  57.0  6.01  5.94  3.80     Good  J   VS1\n3  1.44  63.2  54.8  7.18  7.21  4.54     Good  G    I1\n4  1.00  58.7  62.0  6.60  6.51  3.85  Premium  F   VS2",
      "text/html": "<div>\n<style scoped>\n    .dataframe tbody tr th:only-of-type {\n        vertical-align: middle;\n    }\n\n    .dataframe tbody tr th {\n        vertical-align: top;\n    }\n\n    .dataframe thead th {\n        text-align: right;\n    }\n</style>\n<table border=\"1\" class=\"dataframe\">\n  <thead>\n    <tr style=\"text-align: right;\">\n      <th></th>\n      <th>0</th>\n      <th>1</th>\n      <th>2</th>\n      <th>3</th>\n      <th>4</th>\n      <th>5</th>\n      <th>6</th>\n      <th>7</th>\n      <th>8</th>\n    </tr>\n  </thead>\n  <tbody>\n    <tr>\n      <th>0</th>\n      <td>1.16</td>\n      <td>62.4</td>\n      <td>57.0</td>\n      <td>6.71</td>\n      <td>6.75</td>\n      <td>4.20</td>\n      <td>Ideal</td>\n      <td>I</td>\n      <td>SI1</td>\n    </tr>\n    <tr>\n      <th>1</th>\n      <td>1.26</td>\n      <td>61.7</td>\n      <td>56.0</td>\n      <td>6.96</td>\n      <td>6.98</td>\n      <td>4.30</td>\n      <td>Ideal</td>\n      <td>G</td>\n      <td>VVS1</td>\n    </tr>\n    <tr>\n      <th>2</th>\n      <td>0.85</td>\n      <td>63.6</td>\n      <td>57.0</td>\n      <td>6.01</td>\n      <td>5.94</td>\n      <td>3.80</td>\n      <td>Good</td>\n      <td>J</td>\n      <td>VS1</td>\n    </tr>\n    <tr>\n      <th>3</th>\n      <td>1.44</td>\n      <td>63.2</td>\n      <td>54.8</td>\n      <td>7.18</td>\n      <td>7.21</td>\n      <td>4.54</td>\n      <td>Good</td>\n      <td>G</td>\n      <td>I1</td>\n    </tr>\n    <tr>\n      <th>4</th>\n      <td>1.00</td>\n      <td>58.7</td>\n      <td>62.0</td>\n      <td>6.60</td>\n      <td>6.51</td>\n      <td>3.85</td>\n      <td>Premium</td>\n      <td>F</td>\n      <td>VS2</td>\n    </tr>\n  </tbody>\n</table>\n</div>"
     },
     "metadata": {},
     "output_type": "execute_result",
     "execution_count": 542
    }
   ],
   "source": [
    "all_together.head()"
   ],
   "metadata": {
    "collapsed": false,
    "pycharm": {
     "name": "#%%\n",
     "is_executing": false
    }
   }
  },
  {
   "cell_type": "code",
   "execution_count": 543,
   "outputs": [
    {
     "data": {
      "text/plain": "         0\n0   5107.0\n1  11218.0\n2   2372.0\n3   5987.0\n4   6037.0",
      "text/html": "<div>\n<style scoped>\n    .dataframe tbody tr th:only-of-type {\n        vertical-align: middle;\n    }\n\n    .dataframe tbody tr th {\n        vertical-align: top;\n    }\n\n    .dataframe thead th {\n        text-align: right;\n    }\n</style>\n<table border=\"1\" class=\"dataframe\">\n  <thead>\n    <tr style=\"text-align: right;\">\n      <th></th>\n      <th>0</th>\n    </tr>\n  </thead>\n  <tbody>\n    <tr>\n      <th>0</th>\n      <td>5107.0</td>\n    </tr>\n    <tr>\n      <th>1</th>\n      <td>11218.0</td>\n    </tr>\n    <tr>\n      <th>2</th>\n      <td>2372.0</td>\n    </tr>\n    <tr>\n      <th>3</th>\n      <td>5987.0</td>\n    </tr>\n    <tr>\n      <th>4</th>\n      <td>6037.0</td>\n    </tr>\n  </tbody>\n</table>\n</div>"
     },
     "metadata": {},
     "output_type": "execute_result",
     "execution_count": 543
    }
   ],
   "source": [
    "y.head()"
   ],
   "metadata": {
    "collapsed": false,
    "pycharm": {
     "name": "#%%\n",
     "is_executing": false
    }
   }
  },
  {
   "cell_type": "code",
   "execution_count": 544,
   "outputs": [
    {
     "data": {
      "text/plain": "[6, 7, 8]"
     },
     "metadata": {},
     "output_type": "execute_result",
     "execution_count": 544
    }
   ],
   "source": [
    "\n",
    "object_cols = [col for col in all_together.columns if all_together[col].dtype == \"object\"]\n",
    "\n",
    "object_cols"
   ],
   "metadata": {
    "collapsed": false,
    "pycharm": {
     "name": "#%%\n",
     "is_executing": false
    }
   }
  },
  {
   "cell_type": "code",
   "execution_count": 545,
   "outputs": [],
   "source": [
    "from sklearn.model_selection import train_test_split\n",
    "X_train, X_test, y_train ,y_test = train_test_split(all_together, y,test_size=0.2)"
   ],
   "metadata": {
    "collapsed": false,
    "pycharm": {
     "name": "#%%\n",
     "is_executing": false
    }
   }
  },
  {
   "cell_type": "code",
   "execution_count": 546,
   "outputs": [
    {
     "data": {
      "text/plain": "          0     1     2     3     4     5        6  7     8\n6861   0.31  62.4  59.0  4.34  4.31  2.70  Premium  H   VS2\n5831   1.56  60.4  56.0  7.51  7.55  4.55    Ideal  G   SI1\n777    0.53  62.3  56.0  5.24  5.20  3.25    Ideal  F  VVS2\n45841  0.44  62.2  60.0  4.86  4.79  3.00  Premium  E   SI1\n50613  0.33  63.1  56.0  4.38  4.40  2.77     Good  I   VS1",
      "text/html": "<div>\n<style scoped>\n    .dataframe tbody tr th:only-of-type {\n        vertical-align: middle;\n    }\n\n    .dataframe tbody tr th {\n        vertical-align: top;\n    }\n\n    .dataframe thead th {\n        text-align: right;\n    }\n</style>\n<table border=\"1\" class=\"dataframe\">\n  <thead>\n    <tr style=\"text-align: right;\">\n      <th></th>\n      <th>0</th>\n      <th>1</th>\n      <th>2</th>\n      <th>3</th>\n      <th>4</th>\n      <th>5</th>\n      <th>6</th>\n      <th>7</th>\n      <th>8</th>\n    </tr>\n  </thead>\n  <tbody>\n    <tr>\n      <th>6861</th>\n      <td>0.31</td>\n      <td>62.4</td>\n      <td>59.0</td>\n      <td>4.34</td>\n      <td>4.31</td>\n      <td>2.70</td>\n      <td>Premium</td>\n      <td>H</td>\n      <td>VS2</td>\n    </tr>\n    <tr>\n      <th>5831</th>\n      <td>1.56</td>\n      <td>60.4</td>\n      <td>56.0</td>\n      <td>7.51</td>\n      <td>7.55</td>\n      <td>4.55</td>\n      <td>Ideal</td>\n      <td>G</td>\n      <td>SI1</td>\n    </tr>\n    <tr>\n      <th>777</th>\n      <td>0.53</td>\n      <td>62.3</td>\n      <td>56.0</td>\n      <td>5.24</td>\n      <td>5.20</td>\n      <td>3.25</td>\n      <td>Ideal</td>\n      <td>F</td>\n      <td>VVS2</td>\n    </tr>\n    <tr>\n      <th>45841</th>\n      <td>0.44</td>\n      <td>62.2</td>\n      <td>60.0</td>\n      <td>4.86</td>\n      <td>4.79</td>\n      <td>3.00</td>\n      <td>Premium</td>\n      <td>E</td>\n      <td>SI1</td>\n    </tr>\n    <tr>\n      <th>50613</th>\n      <td>0.33</td>\n      <td>63.1</td>\n      <td>56.0</td>\n      <td>4.38</td>\n      <td>4.40</td>\n      <td>2.77</td>\n      <td>Good</td>\n      <td>I</td>\n      <td>VS1</td>\n    </tr>\n  </tbody>\n</table>\n</div>"
     },
     "metadata": {},
     "output_type": "execute_result",
     "execution_count": 546
    }
   ],
   "source": [
    "X_test.head()"
   ],
   "metadata": {
    "collapsed": false,
    "pycharm": {
     "name": "#%%\n",
     "is_executing": false
    }
   }
  },
  {
   "cell_type": "code",
   "execution_count": 547,
   "outputs": [
    {
     "data": {
      "text/plain": "          0     1     2     3     4     5          6  7     8\n8886   2.01  62.3  59.0  8.01  7.97  4.98    Premium  I   SI2\n38412  0.71  61.7  56.0  5.78  5.80  3.57      Ideal  E  VVS2\n1541   0.77  59.3  56.0  5.98  6.03  3.56       Good  F   VS1\n30202  0.30  59.5  60.0  4.39  4.45  2.63  Very Good  J   VS1\n16433  0.82  62.5  56.0  5.99  6.04  3.76  Very Good  G   SI2",
      "text/html": "<div>\n<style scoped>\n    .dataframe tbody tr th:only-of-type {\n        vertical-align: middle;\n    }\n\n    .dataframe tbody tr th {\n        vertical-align: top;\n    }\n\n    .dataframe thead th {\n        text-align: right;\n    }\n</style>\n<table border=\"1\" class=\"dataframe\">\n  <thead>\n    <tr style=\"text-align: right;\">\n      <th></th>\n      <th>0</th>\n      <th>1</th>\n      <th>2</th>\n      <th>3</th>\n      <th>4</th>\n      <th>5</th>\n      <th>6</th>\n      <th>7</th>\n      <th>8</th>\n    </tr>\n  </thead>\n  <tbody>\n    <tr>\n      <th>8886</th>\n      <td>2.01</td>\n      <td>62.3</td>\n      <td>59.0</td>\n      <td>8.01</td>\n      <td>7.97</td>\n      <td>4.98</td>\n      <td>Premium</td>\n      <td>I</td>\n      <td>SI2</td>\n    </tr>\n    <tr>\n      <th>38412</th>\n      <td>0.71</td>\n      <td>61.7</td>\n      <td>56.0</td>\n      <td>5.78</td>\n      <td>5.80</td>\n      <td>3.57</td>\n      <td>Ideal</td>\n      <td>E</td>\n      <td>VVS2</td>\n    </tr>\n    <tr>\n      <th>1541</th>\n      <td>0.77</td>\n      <td>59.3</td>\n      <td>56.0</td>\n      <td>5.98</td>\n      <td>6.03</td>\n      <td>3.56</td>\n      <td>Good</td>\n      <td>F</td>\n      <td>VS1</td>\n    </tr>\n    <tr>\n      <th>30202</th>\n      <td>0.30</td>\n      <td>59.5</td>\n      <td>60.0</td>\n      <td>4.39</td>\n      <td>4.45</td>\n      <td>2.63</td>\n      <td>Very Good</td>\n      <td>J</td>\n      <td>VS1</td>\n    </tr>\n    <tr>\n      <th>16433</th>\n      <td>0.82</td>\n      <td>62.5</td>\n      <td>56.0</td>\n      <td>5.99</td>\n      <td>6.04</td>\n      <td>3.76</td>\n      <td>Very Good</td>\n      <td>G</td>\n      <td>SI2</td>\n    </tr>\n  </tbody>\n</table>\n</div>"
     },
     "metadata": {},
     "output_type": "execute_result",
     "execution_count": 547
    }
   ],
   "source": [
    "X_train.head()\n"
   ],
   "metadata": {
    "collapsed": false,
    "pycharm": {
     "name": "#%%\n",
     "is_executing": false
    }
   }
  },
  {
   "cell_type": "code",
   "execution_count": 548,
   "outputs": [
    {
     "data": {
      "text/plain": "             0\n8886   12182.0\n38412   4447.0\n1541    3393.0\n30202    427.0\n16433   2893.0\n...        ...\n29392   5924.0\n28058   4898.0\n15968   1066.0\n39393    537.0\n33496    526.0\n\n[43152 rows x 1 columns]",
      "text/html": "<div>\n<style scoped>\n    .dataframe tbody tr th:only-of-type {\n        vertical-align: middle;\n    }\n\n    .dataframe tbody tr th {\n        vertical-align: top;\n    }\n\n    .dataframe thead th {\n        text-align: right;\n    }\n</style>\n<table border=\"1\" class=\"dataframe\">\n  <thead>\n    <tr style=\"text-align: right;\">\n      <th></th>\n      <th>0</th>\n    </tr>\n  </thead>\n  <tbody>\n    <tr>\n      <th>8886</th>\n      <td>12182.0</td>\n    </tr>\n    <tr>\n      <th>38412</th>\n      <td>4447.0</td>\n    </tr>\n    <tr>\n      <th>1541</th>\n      <td>3393.0</td>\n    </tr>\n    <tr>\n      <th>30202</th>\n      <td>427.0</td>\n    </tr>\n    <tr>\n      <th>16433</th>\n      <td>2893.0</td>\n    </tr>\n    <tr>\n      <th>...</th>\n      <td>...</td>\n    </tr>\n    <tr>\n      <th>29392</th>\n      <td>5924.0</td>\n    </tr>\n    <tr>\n      <th>28058</th>\n      <td>4898.0</td>\n    </tr>\n    <tr>\n      <th>15968</th>\n      <td>1066.0</td>\n    </tr>\n    <tr>\n      <th>39393</th>\n      <td>537.0</td>\n    </tr>\n    <tr>\n      <th>33496</th>\n      <td>526.0</td>\n    </tr>\n  </tbody>\n</table>\n<p>43152 rows × 1 columns</p>\n</div>"
     },
     "metadata": {},
     "output_type": "execute_result",
     "execution_count": 548
    }
   ],
   "source": [
    "y_train"
   ],
   "metadata": {
    "collapsed": false,
    "pycharm": {
     "name": "#%%\n",
     "is_executing": false
    }
   }
  },
  {
   "cell_type": "code",
   "execution_count": 549,
   "outputs": [
    {
     "name": "stderr",
     "text": [
      "/home/moritz/anaconda3/envs/MassiveAi/lib/python3.7/site-packages/ipykernel_launcher.py:2: SettingWithCopyWarning: \n",
      "A value is trying to be set on a copy of a slice from a DataFrame.\n",
      "Try using .loc[row_indexer,col_indexer] = value instead\n",
      "\n",
      "See the caveats in the documentation: https://pandas.pydata.org/pandas-docs/stable/user_guide/indexing.html#returning-a-view-versus-a-copy\n",
      "  \n",
      "/home/moritz/anaconda3/envs/MassiveAi/lib/python3.7/site-packages/ipykernel_launcher.py:3: SettingWithCopyWarning: \n",
      "A value is trying to be set on a copy of a slice from a DataFrame.\n",
      "Try using .loc[row_indexer,col_indexer] = value instead\n",
      "\n",
      "See the caveats in the documentation: https://pandas.pydata.org/pandas-docs/stable/user_guide/indexing.html#returning-a-view-versus-a-copy\n",
      "  This is separate from the ipykernel package so we can avoid doing imports until\n"
     ],
     "output_type": "stream"
    }
   ],
   "source": [
    "for col in object_cols:\n",
    "    X_train[col] = label_encoder.fit_transform(X_train[col])\n",
    "    X_test[col] = label_encoder.transform(X_test[col])"
   ],
   "metadata": {
    "collapsed": false,
    "pycharm": {
     "name": "#%%\n",
     "is_executing": false
    }
   }
  },
  {
   "cell_type": "code",
   "execution_count": 550,
   "outputs": [
    {
     "data": {
      "text/plain": "          0     1     2     3     4     5  6  7  8\n6861   0.31  62.4  59.0  4.34  4.31  2.70  3  4  5\n5831   1.56  60.4  56.0  7.51  7.55  4.55  2  3  2\n777    0.53  62.3  56.0  5.24  5.20  3.25  2  2  7\n45841  0.44  62.2  60.0  4.86  4.79  3.00  3  1  2\n50613  0.33  63.1  56.0  4.38  4.40  2.77  1  5  4",
      "text/html": "<div>\n<style scoped>\n    .dataframe tbody tr th:only-of-type {\n        vertical-align: middle;\n    }\n\n    .dataframe tbody tr th {\n        vertical-align: top;\n    }\n\n    .dataframe thead th {\n        text-align: right;\n    }\n</style>\n<table border=\"1\" class=\"dataframe\">\n  <thead>\n    <tr style=\"text-align: right;\">\n      <th></th>\n      <th>0</th>\n      <th>1</th>\n      <th>2</th>\n      <th>3</th>\n      <th>4</th>\n      <th>5</th>\n      <th>6</th>\n      <th>7</th>\n      <th>8</th>\n    </tr>\n  </thead>\n  <tbody>\n    <tr>\n      <th>6861</th>\n      <td>0.31</td>\n      <td>62.4</td>\n      <td>59.0</td>\n      <td>4.34</td>\n      <td>4.31</td>\n      <td>2.70</td>\n      <td>3</td>\n      <td>4</td>\n      <td>5</td>\n    </tr>\n    <tr>\n      <th>5831</th>\n      <td>1.56</td>\n      <td>60.4</td>\n      <td>56.0</td>\n      <td>7.51</td>\n      <td>7.55</td>\n      <td>4.55</td>\n      <td>2</td>\n      <td>3</td>\n      <td>2</td>\n    </tr>\n    <tr>\n      <th>777</th>\n      <td>0.53</td>\n      <td>62.3</td>\n      <td>56.0</td>\n      <td>5.24</td>\n      <td>5.20</td>\n      <td>3.25</td>\n      <td>2</td>\n      <td>2</td>\n      <td>7</td>\n    </tr>\n    <tr>\n      <th>45841</th>\n      <td>0.44</td>\n      <td>62.2</td>\n      <td>60.0</td>\n      <td>4.86</td>\n      <td>4.79</td>\n      <td>3.00</td>\n      <td>3</td>\n      <td>1</td>\n      <td>2</td>\n    </tr>\n    <tr>\n      <th>50613</th>\n      <td>0.33</td>\n      <td>63.1</td>\n      <td>56.0</td>\n      <td>4.38</td>\n      <td>4.40</td>\n      <td>2.77</td>\n      <td>1</td>\n      <td>5</td>\n      <td>4</td>\n    </tr>\n  </tbody>\n</table>\n</div>"
     },
     "metadata": {},
     "output_type": "execute_result",
     "execution_count": 550
    }
   ],
   "source": [
    "X_test.head()"
   ],
   "metadata": {
    "collapsed": false,
    "pycharm": {
     "name": "#%%\n",
     "is_executing": false
    }
   }
  },
  {
   "cell_type": "code",
   "execution_count": 551,
   "outputs": [
    {
     "data": {
      "text/plain": "             0\n6861     628.0\n5831   13724.0\n777     2045.0\n45841   1040.0\n50613    521.0",
      "text/html": "<div>\n<style scoped>\n    .dataframe tbody tr th:only-of-type {\n        vertical-align: middle;\n    }\n\n    .dataframe tbody tr th {\n        vertical-align: top;\n    }\n\n    .dataframe thead th {\n        text-align: right;\n    }\n</style>\n<table border=\"1\" class=\"dataframe\">\n  <thead>\n    <tr style=\"text-align: right;\">\n      <th></th>\n      <th>0</th>\n    </tr>\n  </thead>\n  <tbody>\n    <tr>\n      <th>6861</th>\n      <td>628.0</td>\n    </tr>\n    <tr>\n      <th>5831</th>\n      <td>13724.0</td>\n    </tr>\n    <tr>\n      <th>777</th>\n      <td>2045.0</td>\n    </tr>\n    <tr>\n      <th>45841</th>\n      <td>1040.0</td>\n    </tr>\n    <tr>\n      <th>50613</th>\n      <td>521.0</td>\n    </tr>\n  </tbody>\n</table>\n</div>"
     },
     "metadata": {},
     "output_type": "execute_result",
     "execution_count": 551
    }
   ],
   "source": [
    "y_test.head()"
   ],
   "metadata": {
    "collapsed": false,
    "pycharm": {
     "name": "#%%\n",
     "is_executing": false
    }
   }
  },
  {
   "cell_type": "code",
   "execution_count": 552,
   "outputs": [
    {
     "name": "stderr",
     "text": [
      "/home/moritz/anaconda3/envs/MassiveAi/lib/python3.7/site-packages/sklearn/utils/validation.py:760: DataConversionWarning: A column-vector y was passed when a 1d array was expected. Please change the shape of y to (n_samples, ), for example using ravel().\n",
      "  y = column_or_1d(y, warn=True)\n"
     ],
     "output_type": "stream"
    },
    {
     "data": {
      "text/plain": "SVR(C=1.0, cache_size=200, coef0=0.0, degree=3, epsilon=0.1, gamma='scale',\n    kernel='linear', max_iter=-1, shrinking=True, tol=0.001, verbose=False)"
     },
     "metadata": {},
     "output_type": "execute_result",
     "execution_count": 552
    }
   ],
   "source": [
    "from sklearn.svm import SVR\n",
    "model = SVR(kernel='linear')\n",
    "\n",
    "model.fit(X_train, y_train)"
   ],
   "metadata": {
    "collapsed": false,
    "pycharm": {
     "name": "#%%\n",
     "is_executing": false
    }
   }
  },
  {
   "cell_type": "code",
   "execution_count": 553,
   "outputs": [],
   "source": [
    "\n",
    "acc = model.score(X_test, y_test)"
   ],
   "metadata": {
    "collapsed": false,
    "pycharm": {
     "name": "#%%\n",
     "is_executing": false
    }
   }
  },
  {
   "cell_type": "code",
   "execution_count": 554,
   "outputs": [
    {
     "name": "stdout",
     "text": [
      "0.78642738157075\n"
     ],
     "output_type": "stream"
    }
   ],
   "source": [
    "print(acc)"
   ],
   "metadata": {
    "collapsed": false,
    "pycharm": {
     "name": "#%%\n",
     "is_executing": false
    }
   }
  },
  {
   "cell_type": "code",
   "execution_count": 555,
   "outputs": [
    {
     "name": "stderr",
     "text": [
      "/home/moritz/anaconda3/envs/MassiveAi/lib/python3.7/site-packages/ipykernel_launcher.py:4: DataConversionWarning: A column-vector y was passed when a 1d array was expected. Please change the shape of y to (n_samples,), for example using ravel().\n",
      "  after removing the cwd from sys.path.\n"
     ],
     "output_type": "stream"
    },
    {
     "data": {
      "text/plain": "RandomForestRegressor(bootstrap=True, ccp_alpha=0.0, criterion='mse',\n                      max_depth=None, max_features='auto', max_leaf_nodes=None,\n                      max_samples=None, min_impurity_decrease=0.0,\n                      min_impurity_split=None, min_samples_leaf=1,\n                      min_samples_split=2, min_weight_fraction_leaf=0.0,\n                      n_estimators=50, n_jobs=None, oob_score=False,\n                      random_state=None, verbose=0, warm_start=False)"
     },
     "metadata": {},
     "output_type": "execute_result",
     "execution_count": 555
    }
   ],
   "source": [
    "\n",
    "from sklearn.ensemble import RandomForestRegressor\n",
    "random_model = RandomForestRegressor(n_estimators=50)\n",
    "\n",
    "random_model.fit(X_train, y_train)"
   ],
   "metadata": {
    "collapsed": false,
    "pycharm": {
     "name": "#%%\n",
     "is_executing": false
    }
   }
  },
  {
   "cell_type": "code",
   "execution_count": 556,
   "outputs": [
    {
     "name": "stdout",
     "text": [
      "0.9819245615665982\n"
     ],
     "output_type": "stream"
    }
   ],
   "source": [
    "acc=random_model.score(X_test, y_test)\n",
    "print(acc)"
   ],
   "metadata": {
    "collapsed": false,
    "pycharm": {
     "name": "#%%\n",
     "is_executing": false
    }
   }
  },
  {
   "cell_type": "code",
   "execution_count": 556,
   "outputs": [],
   "source": [],
   "metadata": {
    "collapsed": false,
    "pycharm": {
     "name": "#%%\n",
     "is_executing": false
    }
   }
  },
  {
   "cell_type": "code",
   "execution_count": 557,
   "outputs": [],
   "source": [
    "from sklearn.linear_model import LinearRegression\n",
    "lin_model = LinearRegression().fit(X_train, y_train)"
   ],
   "metadata": {
    "collapsed": false,
    "pycharm": {
     "name": "#%%\n",
     "is_executing": false
    }
   }
  },
  {
   "cell_type": "code",
   "execution_count": 558,
   "outputs": [],
   "source": [
    "predicted=pd.DataFrame(lin_model.predict(X_test))"
   ],
   "metadata": {
    "collapsed": false,
    "pycharm": {
     "name": "#%%\n",
     "is_executing": false
    }
   }
  },
  {
   "cell_type": "code",
   "execution_count": 559,
   "outputs": [
    {
     "data": {
      "text/plain": "             0\n6861     628.0\n5831   13724.0\n777     2045.0\n45841   1040.0\n50613    521.0\n...        ...\n27474    540.0\n33369   5863.0\n29200   1668.0\n13760    645.0\n34738    566.0\n\n[10788 rows x 1 columns]",
      "text/html": "<div>\n<style scoped>\n    .dataframe tbody tr th:only-of-type {\n        vertical-align: middle;\n    }\n\n    .dataframe tbody tr th {\n        vertical-align: top;\n    }\n\n    .dataframe thead th {\n        text-align: right;\n    }\n</style>\n<table border=\"1\" class=\"dataframe\">\n  <thead>\n    <tr style=\"text-align: right;\">\n      <th></th>\n      <th>0</th>\n    </tr>\n  </thead>\n  <tbody>\n    <tr>\n      <th>6861</th>\n      <td>628.0</td>\n    </tr>\n    <tr>\n      <th>5831</th>\n      <td>13724.0</td>\n    </tr>\n    <tr>\n      <th>777</th>\n      <td>2045.0</td>\n    </tr>\n    <tr>\n      <th>45841</th>\n      <td>1040.0</td>\n    </tr>\n    <tr>\n      <th>50613</th>\n      <td>521.0</td>\n    </tr>\n    <tr>\n      <th>...</th>\n      <td>...</td>\n    </tr>\n    <tr>\n      <th>27474</th>\n      <td>540.0</td>\n    </tr>\n    <tr>\n      <th>33369</th>\n      <td>5863.0</td>\n    </tr>\n    <tr>\n      <th>29200</th>\n      <td>1668.0</td>\n    </tr>\n    <tr>\n      <th>13760</th>\n      <td>645.0</td>\n    </tr>\n    <tr>\n      <th>34738</th>\n      <td>566.0</td>\n    </tr>\n  </tbody>\n</table>\n<p>10788 rows × 1 columns</p>\n</div>"
     },
     "metadata": {},
     "output_type": "execute_result",
     "execution_count": 559
    }
   ],
   "source": [
    "y_test"
   ],
   "metadata": {
    "collapsed": false,
    "pycharm": {
     "name": "#%%\n",
     "is_executing": false
    }
   }
  },
  {
   "cell_type": "code",
   "execution_count": 560,
   "outputs": [
    {
     "data": {
      "text/plain": "                 0\n0       -84.443468\n1      9953.669838\n2      2611.875462\n3       614.286062\n4      -440.706849\n...            ...\n10783  -188.452824\n10784  4708.463260\n10785  2322.894407\n10786   356.817586\n10787  -743.061414\n\n[10788 rows x 1 columns]",
      "text/html": "<div>\n<style scoped>\n    .dataframe tbody tr th:only-of-type {\n        vertical-align: middle;\n    }\n\n    .dataframe tbody tr th {\n        vertical-align: top;\n    }\n\n    .dataframe thead th {\n        text-align: right;\n    }\n</style>\n<table border=\"1\" class=\"dataframe\">\n  <thead>\n    <tr style=\"text-align: right;\">\n      <th></th>\n      <th>0</th>\n    </tr>\n  </thead>\n  <tbody>\n    <tr>\n      <th>0</th>\n      <td>-84.443468</td>\n    </tr>\n    <tr>\n      <th>1</th>\n      <td>9953.669838</td>\n    </tr>\n    <tr>\n      <th>2</th>\n      <td>2611.875462</td>\n    </tr>\n    <tr>\n      <th>3</th>\n      <td>614.286062</td>\n    </tr>\n    <tr>\n      <th>4</th>\n      <td>-440.706849</td>\n    </tr>\n    <tr>\n      <th>...</th>\n      <td>...</td>\n    </tr>\n    <tr>\n      <th>10783</th>\n      <td>-188.452824</td>\n    </tr>\n    <tr>\n      <th>10784</th>\n      <td>4708.463260</td>\n    </tr>\n    <tr>\n      <th>10785</th>\n      <td>2322.894407</td>\n    </tr>\n    <tr>\n      <th>10786</th>\n      <td>356.817586</td>\n    </tr>\n    <tr>\n      <th>10787</th>\n      <td>-743.061414</td>\n    </tr>\n  </tbody>\n</table>\n<p>10788 rows × 1 columns</p>\n</div>"
     },
     "metadata": {},
     "output_type": "execute_result",
     "execution_count": 560
    }
   ],
   "source": [
    "predicted\n",
    "\n",
    "\n",
    "\n"
   ],
   "metadata": {
    "collapsed": false,
    "pycharm": {
     "name": "#%%\n",
     "is_executing": false
    }
   }
  }
 ],
 "metadata": {
  "kernelspec": {
   "display_name": "Python 3",
   "language": "python",
   "name": "python3"
  },
  "language_info": {
   "codemirror_mode": {
    "name": "ipython",
    "version": 2
   },
   "file_extension": ".py",
   "mimetype": "text/x-python",
   "name": "python",
   "nbconvert_exporter": "python",
   "pygments_lexer": "ipython2",
   "version": "2.7.6"
  },
  "pycharm": {
   "stem_cell": {
    "cell_type": "raw",
    "source": [],
    "metadata": {
     "collapsed": false
    }
   }
  }
 },
 "nbformat": 4,
 "nbformat_minor": 0
}