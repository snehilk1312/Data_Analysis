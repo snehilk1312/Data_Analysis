{
 "nbformat": 4,
 "nbformat_minor": 0,
 "metadata": {
  "kernelspec": {
   "display_name": "Python 3",
   "language": "python",
   "name": "python3"
  },
  "language_info": {
   "codemirror_mode": {
    "name": "ipython",
    "version": 2
   },
   "file_extension": ".py",
   "mimetype": "text/x-python",
   "name": "python",
   "nbconvert_exporter": "python",
   "pygments_lexer": "ipython2",
   "version": "2.7.6"
  },
  "pycharm": {
   "stem_cell": {
    "cell_type": "raw",
    "source": [],
    "metadata": {
     "collapsed": false
    }
   }
  },
  "colab": {
   "name": "US_minimum_wage.ipynb",
   "provenance": []
  }
 },
 "cells": [
  {
   "cell_type": "code",
   "metadata": {
    "pycharm": {
     "is_executing": false
    },
    "id": "AzpcA7Z1rs_-",
    "colab_type": "code",
    "colab": {}
   },
   "source": [
    "import pandas as pd\n",
    "%matplotlib inline"
   ],
   "execution_count": 0,
   "outputs": []
  },
  {
   "cell_type": "code",
   "metadata": {
    "pycharm": {
     "name": "#%%\n",
     "is_executing": false
    },
    "id": "qWgLLRwxrtAT",
    "colab_type": "code",
    "colab": {}
   },
   "source": [
    "df = pd.read_csv('/content/minwagedata.csv')\n"
   ],
   "execution_count": 0,
   "outputs": []
  },
  {
   "cell_type": "code",
   "metadata": {
    "pycharm": {
     "name": "#%%\n",
     "is_executing": false
    },
    "id": "bd56ivOfrtAh",
    "colab_type": "code",
    "colab": {
     "base_uri": "https://localhost:8080/",
     "height": 164
    },
    "outputId": "e2eaee87-45ea-4304-d2d8-8661e1d8dfa4"
   },
   "source": [
    "print(df.head())"
   ],
   "execution_count": 151,
   "outputs": [
    {
     "output_type": "stream",
     "text": [
      "   Unnamed: 0  Year       State  ... CPI.Average High.2018  Low.2018\n",
      "0           0  1968     Alabama  ...   34.783333      0.00      0.00\n",
      "1           1  1968      Alaska  ...   34.783333     15.12     15.12\n",
      "2           2  1968     Arizona  ...   34.783333      4.75      3.37\n",
      "3           3  1968    Arkansas  ...   34.783333      1.12      1.12\n",
      "4           4  1968  California  ...   34.783333     11.88     11.88\n",
      "\n",
      "[5 rows x 10 columns]\n"
     ],
     "name": "stdout"
    }
   ]
  },
  {
   "cell_type": "code",
   "metadata": {
    "pycharm": {
     "name": "#%%\n",
     "is_executing": false
    },
    "id": "-MEofcUnrtAt",
    "colab_type": "code",
    "colab": {
     "base_uri": "https://localhost:8080/",
     "height": 238
    },
    "outputId": "b3d5bab2-dc65-4931-c940-f0b183988e04"
   },
   "source": [
    "gb=df.groupby('State')\n",
    "gb.get_group(\"Alabama\").set_index('Year').head()"
   ],
   "execution_count": 152,
   "outputs": [
    {
     "output_type": "execute_result",
     "data": {
      "text/html": [
       "<div>\n",
       "<style scoped>\n",
       "    .dataframe tbody tr th:only-of-type {\n",
       "        vertical-align: middle;\n",
       "    }\n",
       "\n",
       "    .dataframe tbody tr th {\n",
       "        vertical-align: top;\n",
       "    }\n",
       "\n",
       "    .dataframe thead th {\n",
       "        text-align: right;\n",
       "    }\n",
       "</style>\n",
       "<table border=\"1\" class=\"dataframe\">\n",
       "  <thead>\n",
       "    <tr style=\"text-align: right;\">\n",
       "      <th></th>\n",
       "      <th>Unnamed: 0</th>\n",
       "      <th>State</th>\n",
       "      <th>Table_Data</th>\n",
       "      <th>Footnote</th>\n",
       "      <th>High.Value</th>\n",
       "      <th>Low.Value</th>\n",
       "      <th>CPI.Average</th>\n",
       "      <th>High.2018</th>\n",
       "      <th>Low.2018</th>\n",
       "    </tr>\n",
       "    <tr>\n",
       "      <th>Year</th>\n",
       "      <th></th>\n",
       "      <th></th>\n",
       "      <th></th>\n",
       "      <th></th>\n",
       "      <th></th>\n",
       "      <th></th>\n",
       "      <th></th>\n",
       "      <th></th>\n",
       "      <th></th>\n",
       "    </tr>\n",
       "  </thead>\n",
       "  <tbody>\n",
       "    <tr>\n",
       "      <th>1968</th>\n",
       "      <td>0</td>\n",
       "      <td>Alabama</td>\n",
       "      <td>...</td>\n",
       "      <td>NaN</td>\n",
       "      <td>0.0</td>\n",
       "      <td>0.0</td>\n",
       "      <td>34.783333</td>\n",
       "      <td>0.0</td>\n",
       "      <td>0.0</td>\n",
       "    </tr>\n",
       "    <tr>\n",
       "      <th>1969</th>\n",
       "      <td>55</td>\n",
       "      <td>Alabama</td>\n",
       "      <td>...</td>\n",
       "      <td>NaN</td>\n",
       "      <td>0.0</td>\n",
       "      <td>0.0</td>\n",
       "      <td>36.683333</td>\n",
       "      <td>0.0</td>\n",
       "      <td>0.0</td>\n",
       "    </tr>\n",
       "    <tr>\n",
       "      <th>1970</th>\n",
       "      <td>110</td>\n",
       "      <td>Alabama</td>\n",
       "      <td>...</td>\n",
       "      <td>NaN</td>\n",
       "      <td>0.0</td>\n",
       "      <td>0.0</td>\n",
       "      <td>38.825000</td>\n",
       "      <td>0.0</td>\n",
       "      <td>0.0</td>\n",
       "    </tr>\n",
       "    <tr>\n",
       "      <th>1971</th>\n",
       "      <td>165</td>\n",
       "      <td>Alabama</td>\n",
       "      <td>...</td>\n",
       "      <td>NaN</td>\n",
       "      <td>0.0</td>\n",
       "      <td>0.0</td>\n",
       "      <td>40.491667</td>\n",
       "      <td>0.0</td>\n",
       "      <td>0.0</td>\n",
       "    </tr>\n",
       "    <tr>\n",
       "      <th>1972</th>\n",
       "      <td>220</td>\n",
       "      <td>Alabama</td>\n",
       "      <td>...</td>\n",
       "      <td>NaN</td>\n",
       "      <td>0.0</td>\n",
       "      <td>0.0</td>\n",
       "      <td>41.816667</td>\n",
       "      <td>0.0</td>\n",
       "      <td>0.0</td>\n",
       "    </tr>\n",
       "  </tbody>\n",
       "</table>\n",
       "</div>"
      ],
      "text/plain": [
       "      Unnamed: 0    State Table_Data  ... CPI.Average  High.2018  Low.2018\n",
       "Year                                  ...                                 \n",
       "1968           0  Alabama        ...  ...   34.783333        0.0       0.0\n",
       "1969          55  Alabama        ...  ...   36.683333        0.0       0.0\n",
       "1970         110  Alabama        ...  ...   38.825000        0.0       0.0\n",
       "1971         165  Alabama        ...  ...   40.491667        0.0       0.0\n",
       "1972         220  Alabama        ...  ...   41.816667        0.0       0.0\n",
       "\n",
       "[5 rows x 9 columns]"
      ]
     },
     "metadata": {
      "tags": []
     },
     "execution_count": 152
    }
   ]
  },
  {
   "cell_type": "code",
   "metadata": {
    "pycharm": {
     "name": "#%%\n",
     "is_executing": false
    },
    "id": "5LAkMturrtA4",
    "colab_type": "code",
    "colab": {
     "base_uri": "https://localhost:8080/",
     "height": 1000
    },
    "outputId": "16529103-cb15-4b3e-9fd1-c54a92a09a0a"
   },
   "source": [
    "# NOTE:\n",
    "# we can convert pandas dataframe to python dictionary and vice-versa.\n",
    "\n",
    "my_dict = dict(df)\n",
    "print(my_dict)"
   ],
   "execution_count": 153,
   "outputs": [
    {
     "output_type": "stream",
     "text": [
      "{'Unnamed: 0': 0          0\n",
      "1          1\n",
      "2          2\n",
      "3          3\n",
      "4          4\n",
      "        ... \n",
      "2745    2745\n",
      "2746    2746\n",
      "2747    2747\n",
      "2748    2748\n",
      "2749    2749\n",
      "Name: Unnamed: 0, Length: 2750, dtype: int64, 'Year': 0       1968\n",
      "1       1968\n",
      "2       1968\n",
      "3       1968\n",
      "4       1968\n",
      "        ... \n",
      "2745    2017\n",
      "2746    2017\n",
      "2747    2017\n",
      "2748    2017\n",
      "2749    2017\n",
      "Name: Year, Length: 2750, dtype: int64, 'State': 0             Alabama\n",
      "1              Alaska\n",
      "2             Arizona\n",
      "3            Arkansas\n",
      "4          California\n",
      "            ...      \n",
      "2745         Virginia\n",
      "2746       Washington\n",
      "2747    West Virginia\n",
      "2748        Wisconsin\n",
      "2749          Wyoming\n",
      "Name: State, Length: 2750, dtype: object, 'Table_Data': 0                       ...\n",
      "1                      2.10\n",
      "2       18.72 - 26.40/wk(b)\n",
      "3               1.25/day(b)\n",
      "4                   1.65(b)\n",
      "               ...         \n",
      "2745                7.25[c]\n",
      "2746                  11.00\n",
      "2747                   8.75\n",
      "2748                   7.25\n",
      "2749                   5.15\n",
      "Name: Table_Data, Length: 2750, dtype: object, 'Footnote': 0       NaN\n",
      "1       NaN\n",
      "2       (b)\n",
      "3       (b)\n",
      "4       (b)\n",
      "       ... \n",
      "2745    [c]\n",
      "2746    NaN\n",
      "2747    NaN\n",
      "2748    NaN\n",
      "2749    NaN\n",
      "Name: Footnote, Length: 2750, dtype: object, 'High.Value': 0        0.00000\n",
      "1        2.10000\n",
      "2        0.66000\n",
      "3        0.15625\n",
      "4        1.65000\n",
      "          ...   \n",
      "2745     7.25000\n",
      "2746    11.00000\n",
      "2747     8.75000\n",
      "2748     7.25000\n",
      "2749     5.15000\n",
      "Name: High.Value, Length: 2750, dtype: float64, 'Low.Value': 0        0.00000\n",
      "1        2.10000\n",
      "2        0.46800\n",
      "3        0.15625\n",
      "4        1.65000\n",
      "          ...   \n",
      "2745     7.25000\n",
      "2746    11.00000\n",
      "2747     8.75000\n",
      "2748     7.25000\n",
      "2749     5.15000\n",
      "Name: Low.Value, Length: 2750, dtype: float64, 'CPI.Average': 0        34.783333\n",
      "1        34.783333\n",
      "2        34.783333\n",
      "3        34.783333\n",
      "4        34.783333\n",
      "           ...    \n",
      "2745    245.119583\n",
      "2746    245.119583\n",
      "2747    245.119583\n",
      "2748    245.119583\n",
      "2749    245.119583\n",
      "Name: CPI.Average, Length: 2750, dtype: float64, 'High.2018': 0        0.00\n",
      "1       15.12\n",
      "2        4.75\n",
      "3        1.12\n",
      "4       11.88\n",
      "        ...  \n",
      "2745     7.41\n",
      "2746    11.24\n",
      "2747     8.94\n",
      "2748     7.41\n",
      "2749     5.26\n",
      "Name: High.2018, Length: 2750, dtype: float64, 'Low.2018': 0        0.00\n",
      "1       15.12\n",
      "2        3.37\n",
      "3        1.12\n",
      "4       11.88\n",
      "        ...  \n",
      "2745     7.41\n",
      "2746    11.24\n",
      "2747     8.94\n",
      "2748     7.41\n",
      "2749     5.26\n",
      "Name: Low.2018, Length: 2750, dtype: float64}\n"
     ],
     "name": "stdout"
    }
   ]
  },
  {
   "cell_type": "code",
   "metadata": {
    "pycharm": {
     "name": "#%%\n",
     "is_executing": false
    },
    "id": "kp5FcWQdrtBC",
    "colab_type": "code",
    "colab": {
     "base_uri": "https://localhost:8080/",
     "height": 164
    },
    "outputId": "28511ed2-ae95-4493-954b-c50f3f0fa615"
   },
   "source": [
    "# Converting dictionary to pandas data-frame\n",
    "\n",
    "Characters = {'DC':['Batman', 'Superman', 'Wonderwoman'], 'Marvel':['Captain America'\n",
    "            ,'Ironman', 'Spiderman'], 'Raj':['Nagraj', 'Dhruv', 'Bheriya']}\n",
    "print(Characters,'\\n'*3)\n",
    "\n",
    "Characters_df = pd.DataFrame(Characters)\n",
    "print(Characters_df)"
   ],
   "execution_count": 154,
   "outputs": [
    {
     "output_type": "stream",
     "text": [
      "{'DC': ['Batman', 'Superman', 'Wonderwoman'], 'Marvel': ['Captain America', 'Ironman', 'Spiderman'], 'Raj': ['Nagraj', 'Dhruv', 'Bheriya']} \n",
      "\n",
      "\n",
      "\n",
      "            DC           Marvel      Raj\n",
      "0       Batman  Captain America   Nagraj\n",
      "1     Superman          Ironman    Dhruv\n",
      "2  Wonderwoman        Spiderman  Bheriya\n"
     ],
     "name": "stdout"
    }
   ]
  },
  {
   "cell_type": "code",
   "metadata": {
    "pycharm": {
     "name": "#%%\n",
     "is_executing": false
    },
    "id": "HkvBGMvLrtBK",
    "colab_type": "code",
    "colab": {
     "base_uri": "https://localhost:8080/",
     "height": 35
    },
    "outputId": "1b41aad7-f8ac-417e-c1f2-9f10c253bf70"
   },
   "source": [
    "print(Characters_df.groupby('Raj').groups)"
   ],
   "execution_count": 155,
   "outputs": [
    {
     "output_type": "stream",
     "text": [
      "{'Bheriya': Int64Index([2], dtype='int64'), 'Dhruv': Int64Index([1], dtype='int64'), 'Nagraj': Int64Index([0], dtype='int64')}\n"
     ],
     "name": "stdout"
    }
   ]
  },
  {
   "cell_type": "code",
   "metadata": {
    "pycharm": {
     "name": "#%%\n",
     "is_executing": false
    },
    "id": "-PwNYha7rtBR",
    "colab_type": "code",
    "colab": {
     "base_uri": "https://localhost:8080/",
     "height": 55
    },
    "outputId": "8980aa09-df29-42e8-c305-4597f1cb2fbe"
   },
   "source": [
    "print(Characters_df.groupby(['Raj', 'Marvel']).groups)"
   ],
   "execution_count": 156,
   "outputs": [
    {
     "output_type": "stream",
     "text": [
      "{('Bheriya', 'Spiderman'): Int64Index([2], dtype='int64'), ('Dhruv', 'Ironman'): Int64Index([1], dtype='int64'), ('Nagraj', 'Captain America'): Int64Index([0], dtype='int64')}\n"
     ],
     "name": "stdout"
    }
   ]
  },
  {
   "cell_type": "code",
   "metadata": {
    "pycharm": {
     "name": "#%%\n",
     "is_executing": false
    },
    "id": "Is0sSIbgrtBa",
    "colab_type": "code",
    "colab": {
     "base_uri": "https://localhost:8080/",
     "height": 182
    },
    "outputId": "950390b5-6095-485d-cf03-ffe82b198b89"
   },
   "source": [
    "act_min_wage = pd.DataFrame()\n",
    "for name, group in df.groupby('State'):\n",
    "    if act_min_wage.empty:\n",
    "        act_min_wage=group.set_index('Year')[['Low.2018']].rename(columns={'Low.2018':name})\n",
    "    else:\n",
    "        act_min_wage=act_min_wage.join(group.set_index('Year')[['Low.2018']].rename(columns={'Low.2018':name}))\n",
    "\n",
    "\n",
    "print(act_min_wage.tail())"
   ],
   "execution_count": 157,
   "outputs": [
    {
     "output_type": "stream",
     "text": [
      "      Alabama  Alaska  Arizona  ...  West Virginia  Wisconsin  Wyoming\n",
      "Year                            ...                                   \n",
      "2013      0.0    8.33     8.38  ...           7.79       7.79     5.54\n",
      "2014      0.0    8.20     8.36  ...           7.67       7.67     5.45\n",
      "2015      0.0    9.24     8.50  ...           8.45       7.66     5.44\n",
      "2016      0.0   10.17     8.40  ...           9.13       7.56     5.37\n",
      "2017      0.0   10.01    10.22  ...           8.94       7.41     5.26\n",
      "\n",
      "[5 rows x 55 columns]\n"
     ],
     "name": "stdout"
    }
   ]
  },
  {
   "cell_type": "code",
   "metadata": {
    "pycharm": {
     "name": "#%%\n",
     "is_executing": false
    },
    "id": "30KF0mFcrtBh",
    "colab_type": "code",
    "colab": {
     "base_uri": "https://localhost:8080/",
     "height": 355
    },
    "outputId": "5f48c5ad-bd3d-43b4-9454-b779e9f96b5f"
   },
   "source": [
    "act_min_wage.describe()"
   ],
   "execution_count": 158,
   "outputs": [
    {
     "output_type": "execute_result",
     "data": {
      "text/html": [
       "<div>\n",
       "<style scoped>\n",
       "    .dataframe tbody tr th:only-of-type {\n",
       "        vertical-align: middle;\n",
       "    }\n",
       "\n",
       "    .dataframe tbody tr th {\n",
       "        vertical-align: top;\n",
       "    }\n",
       "\n",
       "    .dataframe thead th {\n",
       "        text-align: right;\n",
       "    }\n",
       "</style>\n",
       "<table border=\"1\" class=\"dataframe\">\n",
       "  <thead>\n",
       "    <tr style=\"text-align: right;\">\n",
       "      <th></th>\n",
       "      <th>Alabama</th>\n",
       "      <th>Alaska</th>\n",
       "      <th>Arizona</th>\n",
       "      <th>Arkansas</th>\n",
       "      <th>California</th>\n",
       "      <th>Colorado</th>\n",
       "      <th>Connecticut</th>\n",
       "      <th>Delaware</th>\n",
       "      <th>District of Columbia</th>\n",
       "      <th>Federal (FLSA)</th>\n",
       "      <th>Florida</th>\n",
       "      <th>Georgia</th>\n",
       "      <th>Guam</th>\n",
       "      <th>Hawaii</th>\n",
       "      <th>Idaho</th>\n",
       "      <th>Illinois</th>\n",
       "      <th>Indiana</th>\n",
       "      <th>Iowa</th>\n",
       "      <th>Kansas</th>\n",
       "      <th>Kentucky</th>\n",
       "      <th>Louisiana</th>\n",
       "      <th>Maine</th>\n",
       "      <th>Maryland</th>\n",
       "      <th>Massachusetts</th>\n",
       "      <th>Michigan</th>\n",
       "      <th>Minnesota</th>\n",
       "      <th>Mississippi</th>\n",
       "      <th>Missouri</th>\n",
       "      <th>Montana</th>\n",
       "      <th>Nebraska</th>\n",
       "      <th>Nevada</th>\n",
       "      <th>New Hampshire</th>\n",
       "      <th>New Jersey</th>\n",
       "      <th>New Mexico</th>\n",
       "      <th>New York</th>\n",
       "      <th>North Carolina</th>\n",
       "      <th>North Dakota</th>\n",
       "      <th>Ohio</th>\n",
       "      <th>Oklahoma</th>\n",
       "      <th>Oregon</th>\n",
       "      <th>Pennsylvania</th>\n",
       "      <th>Puerto Rico</th>\n",
       "      <th>Rhode Island</th>\n",
       "      <th>South Carolina</th>\n",
       "      <th>South Dakota</th>\n",
       "      <th>Tennessee</th>\n",
       "      <th>Texas</th>\n",
       "      <th>U.S. Virgin Islands</th>\n",
       "      <th>Utah</th>\n",
       "      <th>Vermont</th>\n",
       "      <th>Virginia</th>\n",
       "      <th>Washington</th>\n",
       "      <th>West Virginia</th>\n",
       "      <th>Wisconsin</th>\n",
       "      <th>Wyoming</th>\n",
       "    </tr>\n",
       "  </thead>\n",
       "  <tbody>\n",
       "    <tr>\n",
       "      <th>count</th>\n",
       "      <td>50.0</td>\n",
       "      <td>50.000000</td>\n",
       "      <td>50.000000</td>\n",
       "      <td>50.000000</td>\n",
       "      <td>50.000000</td>\n",
       "      <td>50.000000</td>\n",
       "      <td>50.000000</td>\n",
       "      <td>50.000000</td>\n",
       "      <td>50.000000</td>\n",
       "      <td>50.000000</td>\n",
       "      <td>50.000000</td>\n",
       "      <td>50.000000</td>\n",
       "      <td>50.000000</td>\n",
       "      <td>50.000000</td>\n",
       "      <td>50.00000</td>\n",
       "      <td>50.000000</td>\n",
       "      <td>50.000000</td>\n",
       "      <td>50.000000</td>\n",
       "      <td>50.000000</td>\n",
       "      <td>50.000000</td>\n",
       "      <td>50.0</td>\n",
       "      <td>50.000000</td>\n",
       "      <td>50.000000</td>\n",
       "      <td>50.000000</td>\n",
       "      <td>50.000000</td>\n",
       "      <td>50.000000</td>\n",
       "      <td>50.0</td>\n",
       "      <td>50.000000</td>\n",
       "      <td>50.000000</td>\n",
       "      <td>50.000000</td>\n",
       "      <td>50.000000</td>\n",
       "      <td>50.000000</td>\n",
       "      <td>50.000000</td>\n",
       "      <td>50.000000</td>\n",
       "      <td>50.000000</td>\n",
       "      <td>50.000000</td>\n",
       "      <td>50.000000</td>\n",
       "      <td>50.000000</td>\n",
       "      <td>50.00000</td>\n",
       "      <td>50.000000</td>\n",
       "      <td>50.000000</td>\n",
       "      <td>50.000000</td>\n",
       "      <td>50.000000</td>\n",
       "      <td>50.0</td>\n",
       "      <td>50.000000</td>\n",
       "      <td>50.0</td>\n",
       "      <td>50.000000</td>\n",
       "      <td>39.000000</td>\n",
       "      <td>50.000000</td>\n",
       "      <td>50.000000</td>\n",
       "      <td>50.000000</td>\n",
       "      <td>50.000000</td>\n",
       "      <td>50.000000</td>\n",
       "      <td>50.000000</td>\n",
       "      <td>50.000000</td>\n",
       "    </tr>\n",
       "    <tr>\n",
       "      <th>mean</th>\n",
       "      <td>0.0</td>\n",
       "      <td>9.583800</td>\n",
       "      <td>2.316200</td>\n",
       "      <td>6.781600</td>\n",
       "      <td>8.632800</td>\n",
       "      <td>6.389800</td>\n",
       "      <td>8.823600</td>\n",
       "      <td>7.498800</td>\n",
       "      <td>8.343200</td>\n",
       "      <td>7.773200</td>\n",
       "      <td>1.980600</td>\n",
       "      <td>4.909800</td>\n",
       "      <td>8.076600</td>\n",
       "      <td>8.292800</td>\n",
       "      <td>6.93520</td>\n",
       "      <td>6.779200</td>\n",
       "      <td>6.301600</td>\n",
       "      <td>4.088800</td>\n",
       "      <td>3.674400</td>\n",
       "      <td>6.314400</td>\n",
       "      <td>0.0</td>\n",
       "      <td>8.191800</td>\n",
       "      <td>7.845600</td>\n",
       "      <td>8.762000</td>\n",
       "      <td>7.781400</td>\n",
       "      <td>6.656600</td>\n",
       "      <td>0.0</td>\n",
       "      <td>4.052000</td>\n",
       "      <td>5.863200</td>\n",
       "      <td>6.527800</td>\n",
       "      <td>7.583800</td>\n",
       "      <td>7.939000</td>\n",
       "      <td>8.116600</td>\n",
       "      <td>7.202200</td>\n",
       "      <td>8.298600</td>\n",
       "      <td>7.370200</td>\n",
       "      <td>6.995400</td>\n",
       "      <td>6.050400</td>\n",
       "      <td>5.48460</td>\n",
       "      <td>8.510600</td>\n",
       "      <td>7.844400</td>\n",
       "      <td>3.588400</td>\n",
       "      <td>8.323000</td>\n",
       "      <td>0.0</td>\n",
       "      <td>6.739600</td>\n",
       "      <td>0.0</td>\n",
       "      <td>5.541200</td>\n",
       "      <td>6.643590</td>\n",
       "      <td>6.836600</td>\n",
       "      <td>8.657400</td>\n",
       "      <td>5.897400</td>\n",
       "      <td>8.301800</td>\n",
       "      <td>7.166400</td>\n",
       "      <td>7.694200</td>\n",
       "      <td>5.149200</td>\n",
       "    </tr>\n",
       "    <tr>\n",
       "      <th>std</th>\n",
       "      <td>0.0</td>\n",
       "      <td>1.845176</td>\n",
       "      <td>3.474504</td>\n",
       "      <td>1.341223</td>\n",
       "      <td>1.187508</td>\n",
       "      <td>1.521052</td>\n",
       "      <td>1.023613</td>\n",
       "      <td>1.265436</td>\n",
       "      <td>1.476133</td>\n",
       "      <td>0.887354</td>\n",
       "      <td>3.561576</td>\n",
       "      <td>1.887927</td>\n",
       "      <td>1.229897</td>\n",
       "      <td>0.877401</td>\n",
       "      <td>1.00724</td>\n",
       "      <td>2.385091</td>\n",
       "      <td>1.275628</td>\n",
       "      <td>3.835916</td>\n",
       "      <td>2.466736</td>\n",
       "      <td>1.343869</td>\n",
       "      <td>0.0</td>\n",
       "      <td>0.938459</td>\n",
       "      <td>0.907239</td>\n",
       "      <td>1.121988</td>\n",
       "      <td>1.207345</td>\n",
       "      <td>1.244004</td>\n",
       "      <td>0.0</td>\n",
       "      <td>3.797229</td>\n",
       "      <td>2.251726</td>\n",
       "      <td>1.426518</td>\n",
       "      <td>0.866242</td>\n",
       "      <td>0.973408</td>\n",
       "      <td>0.882084</td>\n",
       "      <td>0.871331</td>\n",
       "      <td>1.361302</td>\n",
       "      <td>0.656855</td>\n",
       "      <td>0.870714</td>\n",
       "      <td>1.630708</td>\n",
       "      <td>2.39007</td>\n",
       "      <td>1.108701</td>\n",
       "      <td>0.852765</td>\n",
       "      <td>1.258745</td>\n",
       "      <td>0.981158</td>\n",
       "      <td>0.0</td>\n",
       "      <td>1.341918</td>\n",
       "      <td>0.0</td>\n",
       "      <td>2.202229</td>\n",
       "      <td>1.590176</td>\n",
       "      <td>0.819367</td>\n",
       "      <td>0.984647</td>\n",
       "      <td>2.726151</td>\n",
       "      <td>1.868613</td>\n",
       "      <td>0.793673</td>\n",
       "      <td>0.762675</td>\n",
       "      <td>1.998928</td>\n",
       "    </tr>\n",
       "    <tr>\n",
       "      <th>min</th>\n",
       "      <td>0.0</td>\n",
       "      <td>7.380000</td>\n",
       "      <td>0.000000</td>\n",
       "      <td>1.070000</td>\n",
       "      <td>6.420000</td>\n",
       "      <td>3.840000</td>\n",
       "      <td>6.820000</td>\n",
       "      <td>4.410000</td>\n",
       "      <td>5.510000</td>\n",
       "      <td>6.220000</td>\n",
       "      <td>0.000000</td>\n",
       "      <td>0.000000</td>\n",
       "      <td>6.220000</td>\n",
       "      <td>6.670000</td>\n",
       "      <td>4.41000</td>\n",
       "      <td>0.000000</td>\n",
       "      <td>3.830000</td>\n",
       "      <td>0.000000</td>\n",
       "      <td>0.000000</td>\n",
       "      <td>3.020000</td>\n",
       "      <td>0.0</td>\n",
       "      <td>6.510000</td>\n",
       "      <td>6.400000</td>\n",
       "      <td>6.890000</td>\n",
       "      <td>5.230000</td>\n",
       "      <td>3.490000</td>\n",
       "      <td>0.0</td>\n",
       "      <td>0.000000</td>\n",
       "      <td>0.000000</td>\n",
       "      <td>3.530000</td>\n",
       "      <td>6.060000</td>\n",
       "      <td>6.220000</td>\n",
       "      <td>6.420000</td>\n",
       "      <td>5.790000</td>\n",
       "      <td>6.180000</td>\n",
       "      <td>6.160000</td>\n",
       "      <td>4.650000</td>\n",
       "      <td>3.480000</td>\n",
       "      <td>2.04000</td>\n",
       "      <td>5.820000</td>\n",
       "      <td>6.400000</td>\n",
       "      <td>1.800000</td>\n",
       "      <td>6.390000</td>\n",
       "      <td>0.0</td>\n",
       "      <td>2.900000</td>\n",
       "      <td>0.0</td>\n",
       "      <td>0.000000</td>\n",
       "      <td>4.390000</td>\n",
       "      <td>4.790000</td>\n",
       "      <td>6.800000</td>\n",
       "      <td>0.000000</td>\n",
       "      <td>4.410000</td>\n",
       "      <td>5.580000</td>\n",
       "      <td>6.420000</td>\n",
       "      <td>2.260000</td>\n",
       "    </tr>\n",
       "    <tr>\n",
       "      <th>25%</th>\n",
       "      <td>0.0</td>\n",
       "      <td>8.252500</td>\n",
       "      <td>0.000000</td>\n",
       "      <td>6.522500</td>\n",
       "      <td>7.695000</td>\n",
       "      <td>5.072500</td>\n",
       "      <td>7.865000</td>\n",
       "      <td>7.015000</td>\n",
       "      <td>7.097500</td>\n",
       "      <td>7.172500</td>\n",
       "      <td>0.000000</td>\n",
       "      <td>4.330000</td>\n",
       "      <td>7.110000</td>\n",
       "      <td>7.782500</td>\n",
       "      <td>6.42750</td>\n",
       "      <td>6.060000</td>\n",
       "      <td>5.200000</td>\n",
       "      <td>0.000000</td>\n",
       "      <td>3.082500</td>\n",
       "      <td>5.452500</td>\n",
       "      <td>0.0</td>\n",
       "      <td>7.512500</td>\n",
       "      <td>7.172500</td>\n",
       "      <td>7.932500</td>\n",
       "      <td>7.030000</td>\n",
       "      <td>6.115000</td>\n",
       "      <td>0.0</td>\n",
       "      <td>0.000000</td>\n",
       "      <td>4.707500</td>\n",
       "      <td>6.027500</td>\n",
       "      <td>6.995000</td>\n",
       "      <td>7.302500</td>\n",
       "      <td>7.512500</td>\n",
       "      <td>6.447500</td>\n",
       "      <td>7.172500</td>\n",
       "      <td>6.792500</td>\n",
       "      <td>6.412500</td>\n",
       "      <td>4.642500</td>\n",
       "      <td>2.58250</td>\n",
       "      <td>7.745000</td>\n",
       "      <td>7.302500</td>\n",
       "      <td>2.645000</td>\n",
       "      <td>7.715000</td>\n",
       "      <td>0.0</td>\n",
       "      <td>5.940000</td>\n",
       "      <td>0.0</td>\n",
       "      <td>4.762500</td>\n",
       "      <td>5.105000</td>\n",
       "      <td>6.317500</td>\n",
       "      <td>7.800000</td>\n",
       "      <td>5.892500</td>\n",
       "      <td>7.227500</td>\n",
       "      <td>6.630000</td>\n",
       "      <td>7.107500</td>\n",
       "      <td>3.270000</td>\n",
       "    </tr>\n",
       "    <tr>\n",
       "      <th>50%</th>\n",
       "      <td>0.0</td>\n",
       "      <td>8.890000</td>\n",
       "      <td>0.000000</td>\n",
       "      <td>6.920000</td>\n",
       "      <td>8.670000</td>\n",
       "      <td>6.375000</td>\n",
       "      <td>9.075000</td>\n",
       "      <td>7.845000</td>\n",
       "      <td>8.510000</td>\n",
       "      <td>7.655000</td>\n",
       "      <td>0.000000</td>\n",
       "      <td>5.445000</td>\n",
       "      <td>7.795000</td>\n",
       "      <td>8.190000</td>\n",
       "      <td>7.07500</td>\n",
       "      <td>7.330000</td>\n",
       "      <td>6.285000</td>\n",
       "      <td>6.500000</td>\n",
       "      <td>3.735000</td>\n",
       "      <td>6.700000</td>\n",
       "      <td>0.0</td>\n",
       "      <td>8.065000</td>\n",
       "      <td>7.660000</td>\n",
       "      <td>8.705000</td>\n",
       "      <td>8.005000</td>\n",
       "      <td>6.895000</td>\n",
       "      <td>0.0</td>\n",
       "      <td>6.690000</td>\n",
       "      <td>5.950000</td>\n",
       "      <td>6.790000</td>\n",
       "      <td>7.465000</td>\n",
       "      <td>7.665000</td>\n",
       "      <td>8.070000</td>\n",
       "      <td>7.135000</td>\n",
       "      <td>8.195000</td>\n",
       "      <td>7.325000</td>\n",
       "      <td>7.175000</td>\n",
       "      <td>6.235000</td>\n",
       "      <td>6.80500</td>\n",
       "      <td>8.770000</td>\n",
       "      <td>7.705000</td>\n",
       "      <td>3.220000</td>\n",
       "      <td>8.230000</td>\n",
       "      <td>0.0</td>\n",
       "      <td>6.905000</td>\n",
       "      <td>0.0</td>\n",
       "      <td>6.070000</td>\n",
       "      <td>6.770000</td>\n",
       "      <td>6.930000</td>\n",
       "      <td>8.885000</td>\n",
       "      <td>6.855000</td>\n",
       "      <td>9.055000</td>\n",
       "      <td>7.075000</td>\n",
       "      <td>7.580000</td>\n",
       "      <td>5.445000</td>\n",
       "    </tr>\n",
       "    <tr>\n",
       "      <th>75%</th>\n",
       "      <td>0.0</td>\n",
       "      <td>10.492500</td>\n",
       "      <td>3.147500</td>\n",
       "      <td>7.290000</td>\n",
       "      <td>9.307500</td>\n",
       "      <td>7.677500</td>\n",
       "      <td>9.455000</td>\n",
       "      <td>8.327500</td>\n",
       "      <td>9.140000</td>\n",
       "      <td>8.242500</td>\n",
       "      <td>0.000000</td>\n",
       "      <td>6.005000</td>\n",
       "      <td>8.802500</td>\n",
       "      <td>8.797500</td>\n",
       "      <td>7.71500</td>\n",
       "      <td>8.367500</td>\n",
       "      <td>7.490000</td>\n",
       "      <td>7.667500</td>\n",
       "      <td>4.562500</td>\n",
       "      <td>7.255000</td>\n",
       "      <td>0.0</td>\n",
       "      <td>8.585000</td>\n",
       "      <td>8.410000</td>\n",
       "      <td>9.385000</td>\n",
       "      <td>8.617500</td>\n",
       "      <td>7.550000</td>\n",
       "      <td>0.0</td>\n",
       "      <td>7.692500</td>\n",
       "      <td>7.432500</td>\n",
       "      <td>7.460000</td>\n",
       "      <td>8.007500</td>\n",
       "      <td>8.455000</td>\n",
       "      <td>8.675000</td>\n",
       "      <td>7.937500</td>\n",
       "      <td>9.352500</td>\n",
       "      <td>7.777500</td>\n",
       "      <td>7.655000</td>\n",
       "      <td>7.512500</td>\n",
       "      <td>7.33250</td>\n",
       "      <td>9.412500</td>\n",
       "      <td>8.327500</td>\n",
       "      <td>4.790000</td>\n",
       "      <td>8.912500</td>\n",
       "      <td>0.0</td>\n",
       "      <td>7.677500</td>\n",
       "      <td>0.0</td>\n",
       "      <td>7.105000</td>\n",
       "      <td>7.830000</td>\n",
       "      <td>7.470000</td>\n",
       "      <td>9.372500</td>\n",
       "      <td>7.620000</td>\n",
       "      <td>9.672500</td>\n",
       "      <td>7.612500</td>\n",
       "      <td>8.145000</td>\n",
       "      <td>6.607500</td>\n",
       "    </tr>\n",
       "    <tr>\n",
       "      <th>max</th>\n",
       "      <td>0.0</td>\n",
       "      <td>15.120000</td>\n",
       "      <td>10.220000</td>\n",
       "      <td>8.680000</td>\n",
       "      <td>11.880000</td>\n",
       "      <td>9.500000</td>\n",
       "      <td>11.080000</td>\n",
       "      <td>9.580000</td>\n",
       "      <td>12.000000</td>\n",
       "      <td>10.010000</td>\n",
       "      <td>8.500000</td>\n",
       "      <td>7.490000</td>\n",
       "      <td>11.380000</td>\n",
       "      <td>10.560000</td>\n",
       "      <td>8.38000</td>\n",
       "      <td>9.240000</td>\n",
       "      <td>8.330000</td>\n",
       "      <td>8.460000</td>\n",
       "      <td>8.330000</td>\n",
       "      <td>8.330000</td>\n",
       "      <td>0.0</td>\n",
       "      <td>10.320000</td>\n",
       "      <td>10.010000</td>\n",
       "      <td>11.520000</td>\n",
       "      <td>10.010000</td>\n",
       "      <td>8.810000</td>\n",
       "      <td>0.0</td>\n",
       "      <td>8.330000</td>\n",
       "      <td>9.580000</td>\n",
       "      <td>9.390000</td>\n",
       "      <td>9.680000</td>\n",
       "      <td>10.080000</td>\n",
       "      <td>10.080000</td>\n",
       "      <td>8.800000</td>\n",
       "      <td>11.520000</td>\n",
       "      <td>8.800000</td>\n",
       "      <td>8.800000</td>\n",
       "      <td>8.520000</td>\n",
       "      <td>8.54000</td>\n",
       "      <td>10.170000</td>\n",
       "      <td>10.010000</td>\n",
       "      <td>5.830000</td>\n",
       "      <td>10.320000</td>\n",
       "      <td>0.0</td>\n",
       "      <td>8.980000</td>\n",
       "      <td>0.0</td>\n",
       "      <td>8.380000</td>\n",
       "      <td>10.010000</td>\n",
       "      <td>8.330000</td>\n",
       "      <td>10.320000</td>\n",
       "      <td>8.800000</td>\n",
       "      <td>11.520000</td>\n",
       "      <td>9.130000</td>\n",
       "      <td>9.660000</td>\n",
       "      <td>8.980000</td>\n",
       "    </tr>\n",
       "  </tbody>\n",
       "</table>\n",
       "</div>"
      ],
      "text/plain": [
       "       Alabama     Alaska    Arizona  ...  West Virginia  Wisconsin    Wyoming\n",
       "count     50.0  50.000000  50.000000  ...      50.000000  50.000000  50.000000\n",
       "mean       0.0   9.583800   2.316200  ...       7.166400   7.694200   5.149200\n",
       "std        0.0   1.845176   3.474504  ...       0.793673   0.762675   1.998928\n",
       "min        0.0   7.380000   0.000000  ...       5.580000   6.420000   2.260000\n",
       "25%        0.0   8.252500   0.000000  ...       6.630000   7.107500   3.270000\n",
       "50%        0.0   8.890000   0.000000  ...       7.075000   7.580000   5.445000\n",
       "75%        0.0  10.492500   3.147500  ...       7.612500   8.145000   6.607500\n",
       "max        0.0  15.120000  10.220000  ...       9.130000   9.660000   8.980000\n",
       "\n",
       "[8 rows x 55 columns]"
      ]
     },
     "metadata": {
      "tags": []
     },
     "execution_count": 158
    }
   ]
  },
  {
   "cell_type": "code",
   "metadata": {
    "pycharm": {
     "name": "#%%\n",
     "is_executing": false
    },
    "id": "CCv80GjsrtBr",
    "colab_type": "code",
    "colab": {
     "base_uri": "https://localhost:8080/",
     "height": 35
    },
    "outputId": "55e41ced-5d3e-49db-a4f6-84350cfb57ec"
   },
   "source": [
    "print(len(act_min_wage.columns))"
   ],
   "execution_count": 159,
   "outputs": [
    {
     "output_type": "stream",
     "text": [
      "55\n"
     ],
     "name": "stdout"
    }
   ]
  },
  {
   "cell_type": "code",
   "metadata": {
    "pycharm": {
     "name": "#%%\n",
     "is_executing": false
    },
    "id": "mbKxiPoBrtB1",
    "colab_type": "code",
    "colab": {
     "base_uri": "https://localhost:8080/",
     "height": 206
    },
    "outputId": "691883e4-8d13-446d-f218-71930fb9be90"
   },
   "source": [
    "issue_df = df[df['Low.2018']==0]\n",
    "issue_df.head()"
   ],
   "execution_count": 160,
   "outputs": [
    {
     "output_type": "execute_result",
     "data": {
      "text/html": [
       "<div>\n",
       "<style scoped>\n",
       "    .dataframe tbody tr th:only-of-type {\n",
       "        vertical-align: middle;\n",
       "    }\n",
       "\n",
       "    .dataframe tbody tr th {\n",
       "        vertical-align: top;\n",
       "    }\n",
       "\n",
       "    .dataframe thead th {\n",
       "        text-align: right;\n",
       "    }\n",
       "</style>\n",
       "<table border=\"1\" class=\"dataframe\">\n",
       "  <thead>\n",
       "    <tr style=\"text-align: right;\">\n",
       "      <th></th>\n",
       "      <th>Unnamed: 0</th>\n",
       "      <th>Year</th>\n",
       "      <th>State</th>\n",
       "      <th>Table_Data</th>\n",
       "      <th>Footnote</th>\n",
       "      <th>High.Value</th>\n",
       "      <th>Low.Value</th>\n",
       "      <th>CPI.Average</th>\n",
       "      <th>High.2018</th>\n",
       "      <th>Low.2018</th>\n",
       "    </tr>\n",
       "  </thead>\n",
       "  <tbody>\n",
       "    <tr>\n",
       "      <th>0</th>\n",
       "      <td>0</td>\n",
       "      <td>1968</td>\n",
       "      <td>Alabama</td>\n",
       "      <td>...</td>\n",
       "      <td>NaN</td>\n",
       "      <td>0.0</td>\n",
       "      <td>0.0</td>\n",
       "      <td>34.783333</td>\n",
       "      <td>0.0</td>\n",
       "      <td>0.0</td>\n",
       "    </tr>\n",
       "    <tr>\n",
       "      <th>10</th>\n",
       "      <td>10</td>\n",
       "      <td>1968</td>\n",
       "      <td>Florida</td>\n",
       "      <td>...</td>\n",
       "      <td>NaN</td>\n",
       "      <td>0.0</td>\n",
       "      <td>0.0</td>\n",
       "      <td>34.783333</td>\n",
       "      <td>0.0</td>\n",
       "      <td>0.0</td>\n",
       "    </tr>\n",
       "    <tr>\n",
       "      <th>11</th>\n",
       "      <td>11</td>\n",
       "      <td>1968</td>\n",
       "      <td>Georgia</td>\n",
       "      <td>...</td>\n",
       "      <td>NaN</td>\n",
       "      <td>0.0</td>\n",
       "      <td>0.0</td>\n",
       "      <td>34.783333</td>\n",
       "      <td>0.0</td>\n",
       "      <td>0.0</td>\n",
       "    </tr>\n",
       "    <tr>\n",
       "      <th>15</th>\n",
       "      <td>15</td>\n",
       "      <td>1968</td>\n",
       "      <td>Illinois</td>\n",
       "      <td>...</td>\n",
       "      <td>NaN</td>\n",
       "      <td>0.0</td>\n",
       "      <td>0.0</td>\n",
       "      <td>34.783333</td>\n",
       "      <td>0.0</td>\n",
       "      <td>0.0</td>\n",
       "    </tr>\n",
       "    <tr>\n",
       "      <th>17</th>\n",
       "      <td>17</td>\n",
       "      <td>1968</td>\n",
       "      <td>Iowa</td>\n",
       "      <td>...</td>\n",
       "      <td>NaN</td>\n",
       "      <td>0.0</td>\n",
       "      <td>0.0</td>\n",
       "      <td>34.783333</td>\n",
       "      <td>0.0</td>\n",
       "      <td>0.0</td>\n",
       "    </tr>\n",
       "  </tbody>\n",
       "</table>\n",
       "</div>"
      ],
      "text/plain": [
       "    Unnamed: 0  Year     State  ... CPI.Average High.2018  Low.2018\n",
       "0            0  1968   Alabama  ...   34.783333       0.0       0.0\n",
       "10          10  1968   Florida  ...   34.783333       0.0       0.0\n",
       "11          11  1968   Georgia  ...   34.783333       0.0       0.0\n",
       "15          15  1968  Illinois  ...   34.783333       0.0       0.0\n",
       "17          17  1968      Iowa  ...   34.783333       0.0       0.0\n",
       "\n",
       "[5 rows x 10 columns]"
      ]
     },
     "metadata": {
      "tags": []
     },
     "execution_count": 160
    }
   ]
  },
  {
   "cell_type": "code",
   "metadata": {
    "pycharm": {
     "name": "#%%\n",
     "is_executing": false
    },
    "id": "XLPdZUfxrtB9",
    "colab_type": "code",
    "colab": {
     "base_uri": "https://localhost:8080/",
     "height": 90
    },
    "outputId": "91e7b686-2498-426f-d90f-97594453cd13"
   },
   "source": [
    "issue_df['State'].unique()"
   ],
   "execution_count": 161,
   "outputs": [
    {
     "output_type": "execute_result",
     "data": {
      "text/plain": [
       "array(['Alabama', 'Florida', 'Georgia', 'Illinois', 'Iowa', 'Kansas',\n",
       "       'Louisiana', 'Mississippi', 'Missouri', 'Montana',\n",
       "       'South Carolina', 'Tennessee', 'Texas', 'Virginia', 'Arizona'],\n",
       "      dtype=object)"
      ]
     },
     "metadata": {
      "tags": []
     },
     "execution_count": 161
    }
   ]
  },
  {
   "cell_type": "code",
   "metadata": {
    "pycharm": {
     "name": "#%%\n",
     "is_executing": false
    },
    "id": "dzXTSjQJrtCD",
    "colab_type": "code",
    "colab": {}
   },
   "source": [
    "act_min_wage.drop(columns=['Alabama'], inplace=True)"
   ],
   "execution_count": 0,
   "outputs": []
  },
  {
   "cell_type": "code",
   "metadata": {
    "pycharm": {
     "name": "#%%\n",
     "is_executing": false
    },
    "id": "sFexTrOYrtCK",
    "colab_type": "code",
    "colab": {
     "base_uri": "https://localhost:8080/",
     "height": 292
    },
    "outputId": "8416f867-ae9b-4a8e-d4dc-24d1424305ad"
   },
   "source": [
    "act_min_wage.head()\n",
    "\n"
   ],
   "execution_count": 163,
   "outputs": [
    {
     "output_type": "execute_result",
     "data": {
      "text/html": [
       "<div>\n",
       "<style scoped>\n",
       "    .dataframe tbody tr th:only-of-type {\n",
       "        vertical-align: middle;\n",
       "    }\n",
       "\n",
       "    .dataframe tbody tr th {\n",
       "        vertical-align: top;\n",
       "    }\n",
       "\n",
       "    .dataframe thead th {\n",
       "        text-align: right;\n",
       "    }\n",
       "</style>\n",
       "<table border=\"1\" class=\"dataframe\">\n",
       "  <thead>\n",
       "    <tr style=\"text-align: right;\">\n",
       "      <th></th>\n",
       "      <th>Alaska</th>\n",
       "      <th>Arizona</th>\n",
       "      <th>Arkansas</th>\n",
       "      <th>California</th>\n",
       "      <th>Colorado</th>\n",
       "      <th>Connecticut</th>\n",
       "      <th>Delaware</th>\n",
       "      <th>District of Columbia</th>\n",
       "      <th>Federal (FLSA)</th>\n",
       "      <th>Florida</th>\n",
       "      <th>Georgia</th>\n",
       "      <th>Guam</th>\n",
       "      <th>Hawaii</th>\n",
       "      <th>Idaho</th>\n",
       "      <th>Illinois</th>\n",
       "      <th>Indiana</th>\n",
       "      <th>Iowa</th>\n",
       "      <th>Kansas</th>\n",
       "      <th>Kentucky</th>\n",
       "      <th>Louisiana</th>\n",
       "      <th>Maine</th>\n",
       "      <th>Maryland</th>\n",
       "      <th>Massachusetts</th>\n",
       "      <th>Michigan</th>\n",
       "      <th>Minnesota</th>\n",
       "      <th>Mississippi</th>\n",
       "      <th>Missouri</th>\n",
       "      <th>Montana</th>\n",
       "      <th>Nebraska</th>\n",
       "      <th>Nevada</th>\n",
       "      <th>New Hampshire</th>\n",
       "      <th>New Jersey</th>\n",
       "      <th>New Mexico</th>\n",
       "      <th>New York</th>\n",
       "      <th>North Carolina</th>\n",
       "      <th>North Dakota</th>\n",
       "      <th>Ohio</th>\n",
       "      <th>Oklahoma</th>\n",
       "      <th>Oregon</th>\n",
       "      <th>Pennsylvania</th>\n",
       "      <th>Puerto Rico</th>\n",
       "      <th>Rhode Island</th>\n",
       "      <th>South Carolina</th>\n",
       "      <th>South Dakota</th>\n",
       "      <th>Tennessee</th>\n",
       "      <th>Texas</th>\n",
       "      <th>U.S. Virgin Islands</th>\n",
       "      <th>Utah</th>\n",
       "      <th>Vermont</th>\n",
       "      <th>Virginia</th>\n",
       "      <th>Washington</th>\n",
       "      <th>West Virginia</th>\n",
       "      <th>Wisconsin</th>\n",
       "      <th>Wyoming</th>\n",
       "    </tr>\n",
       "    <tr>\n",
       "      <th>Year</th>\n",
       "      <th></th>\n",
       "      <th></th>\n",
       "      <th></th>\n",
       "      <th></th>\n",
       "      <th></th>\n",
       "      <th></th>\n",
       "      <th></th>\n",
       "      <th></th>\n",
       "      <th></th>\n",
       "      <th></th>\n",
       "      <th></th>\n",
       "      <th></th>\n",
       "      <th></th>\n",
       "      <th></th>\n",
       "      <th></th>\n",
       "      <th></th>\n",
       "      <th></th>\n",
       "      <th></th>\n",
       "      <th></th>\n",
       "      <th></th>\n",
       "      <th></th>\n",
       "      <th></th>\n",
       "      <th></th>\n",
       "      <th></th>\n",
       "      <th></th>\n",
       "      <th></th>\n",
       "      <th></th>\n",
       "      <th></th>\n",
       "      <th></th>\n",
       "      <th></th>\n",
       "      <th></th>\n",
       "      <th></th>\n",
       "      <th></th>\n",
       "      <th></th>\n",
       "      <th></th>\n",
       "      <th></th>\n",
       "      <th></th>\n",
       "      <th></th>\n",
       "      <th></th>\n",
       "      <th></th>\n",
       "      <th></th>\n",
       "      <th></th>\n",
       "      <th></th>\n",
       "      <th></th>\n",
       "      <th></th>\n",
       "      <th></th>\n",
       "      <th></th>\n",
       "      <th></th>\n",
       "      <th></th>\n",
       "      <th></th>\n",
       "      <th></th>\n",
       "      <th></th>\n",
       "      <th></th>\n",
       "      <th></th>\n",
       "    </tr>\n",
       "  </thead>\n",
       "  <tbody>\n",
       "    <tr>\n",
       "      <th>1968</th>\n",
       "      <td>15.12</td>\n",
       "      <td>3.37</td>\n",
       "      <td>1.12</td>\n",
       "      <td>11.88</td>\n",
       "      <td>7.20</td>\n",
       "      <td>10.08</td>\n",
       "      <td>9.00</td>\n",
       "      <td>9.00</td>\n",
       "      <td>8.28</td>\n",
       "      <td>0.0</td>\n",
       "      <td>0.00</td>\n",
       "      <td>9.00</td>\n",
       "      <td>9.00</td>\n",
       "      <td>8.28</td>\n",
       "      <td>0.00</td>\n",
       "      <td>8.28</td>\n",
       "      <td>0.0</td>\n",
       "      <td>0.0</td>\n",
       "      <td>4.68</td>\n",
       "      <td>0.0</td>\n",
       "      <td>10.08</td>\n",
       "      <td>7.20</td>\n",
       "      <td>11.52</td>\n",
       "      <td>9.00</td>\n",
       "      <td>5.04</td>\n",
       "      <td>0.0</td>\n",
       "      <td>0.0</td>\n",
       "      <td>0.00</td>\n",
       "      <td>7.20</td>\n",
       "      <td>9.00</td>\n",
       "      <td>10.08</td>\n",
       "      <td>10.08</td>\n",
       "      <td>8.28</td>\n",
       "      <td>11.52</td>\n",
       "      <td>7.20</td>\n",
       "      <td>7.20</td>\n",
       "      <td>5.40</td>\n",
       "      <td>7.20</td>\n",
       "      <td>9.00</td>\n",
       "      <td>8.28</td>\n",
       "      <td>3.10</td>\n",
       "      <td>10.08</td>\n",
       "      <td>0.0</td>\n",
       "      <td>3.06</td>\n",
       "      <td>0.0</td>\n",
       "      <td>0.00</td>\n",
       "      <td>NaN</td>\n",
       "      <td>7.20</td>\n",
       "      <td>10.08</td>\n",
       "      <td>0.0</td>\n",
       "      <td>11.52</td>\n",
       "      <td>7.20</td>\n",
       "      <td>9.00</td>\n",
       "      <td>8.64</td>\n",
       "    </tr>\n",
       "    <tr>\n",
       "      <th>1969</th>\n",
       "      <td>14.33</td>\n",
       "      <td>3.19</td>\n",
       "      <td>1.07</td>\n",
       "      <td>11.26</td>\n",
       "      <td>6.83</td>\n",
       "      <td>9.56</td>\n",
       "      <td>8.53</td>\n",
       "      <td>8.53</td>\n",
       "      <td>7.85</td>\n",
       "      <td>0.0</td>\n",
       "      <td>0.00</td>\n",
       "      <td>8.53</td>\n",
       "      <td>8.53</td>\n",
       "      <td>7.85</td>\n",
       "      <td>0.00</td>\n",
       "      <td>7.85</td>\n",
       "      <td>0.0</td>\n",
       "      <td>0.0</td>\n",
       "      <td>4.44</td>\n",
       "      <td>0.0</td>\n",
       "      <td>9.56</td>\n",
       "      <td>6.83</td>\n",
       "      <td>10.92</td>\n",
       "      <td>8.53</td>\n",
       "      <td>4.78</td>\n",
       "      <td>0.0</td>\n",
       "      <td>0.0</td>\n",
       "      <td>0.00</td>\n",
       "      <td>6.83</td>\n",
       "      <td>8.53</td>\n",
       "      <td>9.56</td>\n",
       "      <td>9.56</td>\n",
       "      <td>7.85</td>\n",
       "      <td>10.92</td>\n",
       "      <td>6.83</td>\n",
       "      <td>6.83</td>\n",
       "      <td>5.12</td>\n",
       "      <td>6.83</td>\n",
       "      <td>8.53</td>\n",
       "      <td>7.85</td>\n",
       "      <td>2.94</td>\n",
       "      <td>9.56</td>\n",
       "      <td>0.0</td>\n",
       "      <td>2.90</td>\n",
       "      <td>0.0</td>\n",
       "      <td>0.00</td>\n",
       "      <td>NaN</td>\n",
       "      <td>6.83</td>\n",
       "      <td>9.56</td>\n",
       "      <td>0.0</td>\n",
       "      <td>10.92</td>\n",
       "      <td>6.83</td>\n",
       "      <td>8.53</td>\n",
       "      <td>8.19</td>\n",
       "    </tr>\n",
       "    <tr>\n",
       "      <th>1970</th>\n",
       "      <td>13.54</td>\n",
       "      <td>3.02</td>\n",
       "      <td>7.09</td>\n",
       "      <td>10.64</td>\n",
       "      <td>6.45</td>\n",
       "      <td>10.32</td>\n",
       "      <td>8.06</td>\n",
       "      <td>10.32</td>\n",
       "      <td>8.38</td>\n",
       "      <td>0.0</td>\n",
       "      <td>0.00</td>\n",
       "      <td>10.32</td>\n",
       "      <td>10.32</td>\n",
       "      <td>8.06</td>\n",
       "      <td>0.00</td>\n",
       "      <td>8.06</td>\n",
       "      <td>0.0</td>\n",
       "      <td>0.0</td>\n",
       "      <td>4.19</td>\n",
       "      <td>0.0</td>\n",
       "      <td>10.32</td>\n",
       "      <td>8.38</td>\n",
       "      <td>10.32</td>\n",
       "      <td>8.06</td>\n",
       "      <td>4.51</td>\n",
       "      <td>0.0</td>\n",
       "      <td>0.0</td>\n",
       "      <td>0.00</td>\n",
       "      <td>6.45</td>\n",
       "      <td>8.38</td>\n",
       "      <td>9.35</td>\n",
       "      <td>9.67</td>\n",
       "      <td>8.38</td>\n",
       "      <td>10.32</td>\n",
       "      <td>8.06</td>\n",
       "      <td>6.45</td>\n",
       "      <td>4.84</td>\n",
       "      <td>6.45</td>\n",
       "      <td>8.06</td>\n",
       "      <td>8.38</td>\n",
       "      <td>2.77</td>\n",
       "      <td>10.32</td>\n",
       "      <td>0.0</td>\n",
       "      <td>6.45</td>\n",
       "      <td>0.0</td>\n",
       "      <td>0.00</td>\n",
       "      <td>NaN</td>\n",
       "      <td>6.45</td>\n",
       "      <td>10.32</td>\n",
       "      <td>0.0</td>\n",
       "      <td>10.32</td>\n",
       "      <td>6.45</td>\n",
       "      <td>8.38</td>\n",
       "      <td>8.38</td>\n",
       "    </tr>\n",
       "    <tr>\n",
       "      <th>1971</th>\n",
       "      <td>12.99</td>\n",
       "      <td>2.89</td>\n",
       "      <td>6.80</td>\n",
       "      <td>10.20</td>\n",
       "      <td>6.18</td>\n",
       "      <td>9.89</td>\n",
       "      <td>7.73</td>\n",
       "      <td>9.89</td>\n",
       "      <td>8.04</td>\n",
       "      <td>0.0</td>\n",
       "      <td>0.00</td>\n",
       "      <td>9.89</td>\n",
       "      <td>9.89</td>\n",
       "      <td>7.73</td>\n",
       "      <td>0.00</td>\n",
       "      <td>7.73</td>\n",
       "      <td>0.0</td>\n",
       "      <td>0.0</td>\n",
       "      <td>4.02</td>\n",
       "      <td>0.0</td>\n",
       "      <td>9.89</td>\n",
       "      <td>8.04</td>\n",
       "      <td>9.89</td>\n",
       "      <td>7.73</td>\n",
       "      <td>4.33</td>\n",
       "      <td>0.0</td>\n",
       "      <td>0.0</td>\n",
       "      <td>0.00</td>\n",
       "      <td>6.18</td>\n",
       "      <td>8.04</td>\n",
       "      <td>8.97</td>\n",
       "      <td>9.28</td>\n",
       "      <td>8.04</td>\n",
       "      <td>9.89</td>\n",
       "      <td>7.73</td>\n",
       "      <td>6.18</td>\n",
       "      <td>4.64</td>\n",
       "      <td>6.18</td>\n",
       "      <td>7.73</td>\n",
       "      <td>8.04</td>\n",
       "      <td>2.66</td>\n",
       "      <td>9.89</td>\n",
       "      <td>0.0</td>\n",
       "      <td>6.18</td>\n",
       "      <td>0.0</td>\n",
       "      <td>0.00</td>\n",
       "      <td>NaN</td>\n",
       "      <td>6.18</td>\n",
       "      <td>9.89</td>\n",
       "      <td>0.0</td>\n",
       "      <td>9.89</td>\n",
       "      <td>6.18</td>\n",
       "      <td>8.04</td>\n",
       "      <td>8.04</td>\n",
       "    </tr>\n",
       "    <tr>\n",
       "      <th>1972</th>\n",
       "      <td>12.57</td>\n",
       "      <td>2.80</td>\n",
       "      <td>7.19</td>\n",
       "      <td>9.88</td>\n",
       "      <td>5.99</td>\n",
       "      <td>11.08</td>\n",
       "      <td>9.58</td>\n",
       "      <td>9.58</td>\n",
       "      <td>9.58</td>\n",
       "      <td>0.0</td>\n",
       "      <td>7.49</td>\n",
       "      <td>11.38</td>\n",
       "      <td>9.58</td>\n",
       "      <td>8.38</td>\n",
       "      <td>8.38</td>\n",
       "      <td>7.49</td>\n",
       "      <td>0.0</td>\n",
       "      <td>0.0</td>\n",
       "      <td>3.89</td>\n",
       "      <td>0.0</td>\n",
       "      <td>8.38</td>\n",
       "      <td>9.58</td>\n",
       "      <td>10.48</td>\n",
       "      <td>9.58</td>\n",
       "      <td>4.49</td>\n",
       "      <td>0.0</td>\n",
       "      <td>0.0</td>\n",
       "      <td>9.58</td>\n",
       "      <td>5.99</td>\n",
       "      <td>9.58</td>\n",
       "      <td>9.58</td>\n",
       "      <td>8.98</td>\n",
       "      <td>7.78</td>\n",
       "      <td>11.08</td>\n",
       "      <td>8.68</td>\n",
       "      <td>5.99</td>\n",
       "      <td>4.49</td>\n",
       "      <td>8.38</td>\n",
       "      <td>7.49</td>\n",
       "      <td>9.58</td>\n",
       "      <td>3.89</td>\n",
       "      <td>9.58</td>\n",
       "      <td>0.0</td>\n",
       "      <td>5.99</td>\n",
       "      <td>0.0</td>\n",
       "      <td>8.38</td>\n",
       "      <td>NaN</td>\n",
       "      <td>7.19</td>\n",
       "      <td>9.58</td>\n",
       "      <td>0.0</td>\n",
       "      <td>9.58</td>\n",
       "      <td>7.19</td>\n",
       "      <td>8.68</td>\n",
       "      <td>8.98</td>\n",
       "    </tr>\n",
       "  </tbody>\n",
       "</table>\n",
       "</div>"
      ],
      "text/plain": [
       "      Alaska  Arizona  Arkansas  ...  West Virginia  Wisconsin  Wyoming\n",
       "Year                             ...                                   \n",
       "1968   15.12     3.37      1.12  ...           7.20       9.00     8.64\n",
       "1969   14.33     3.19      1.07  ...           6.83       8.53     8.19\n",
       "1970   13.54     3.02      7.09  ...           6.45       8.38     8.38\n",
       "1971   12.99     2.89      6.80  ...           6.18       8.04     8.04\n",
       "1972   12.57     2.80      7.19  ...           7.19       8.68     8.98\n",
       "\n",
       "[5 rows x 54 columns]"
      ]
     },
     "metadata": {
      "tags": []
     },
     "execution_count": 163
    }
   ]
  },
  {
   "cell_type": "code",
   "metadata": {
    "pycharm": {
     "name": "#%%\n",
     "is_executing": false
    },
    "id": "PXoRXlchrtCQ",
    "colab_type": "code",
    "colab": {
     "base_uri": "https://localhost:8080/",
     "height": 972
    },
    "outputId": "eb4f9d1b-78e0-466c-c7ee-3c0834f907c0"
   },
   "source": [
    "act_min_wage['U.S. Virgin Islands']"
   ],
   "execution_count": 164,
   "outputs": [
    {
     "output_type": "execute_result",
     "data": {
      "text/plain": [
       "Year\n",
       "1968      NaN\n",
       "1969      NaN\n",
       "1970      NaN\n",
       "1971      NaN\n",
       "1972      NaN\n",
       "1973      NaN\n",
       "1974      NaN\n",
       "1975      NaN\n",
       "1976      NaN\n",
       "1977      NaN\n",
       "1978      NaN\n",
       "1979    10.01\n",
       "1980     9.42\n",
       "1981     9.23\n",
       "1982     8.69\n",
       "1983     8.42\n",
       "1984     8.07\n",
       "1985     7.80\n",
       "1986     7.65\n",
       "1987     7.38\n",
       "1988     7.09\n",
       "1989     6.77\n",
       "1990     6.42\n",
       "1991     8.55\n",
       "1992     8.30\n",
       "1993     8.06\n",
       "1994     7.86\n",
       "1995     7.64\n",
       "1996     7.42\n",
       "1997     7.25\n",
       "1998     7.14\n",
       "1999     6.99\n",
       "2000     6.25\n",
       "2001     6.08\n",
       "2002     5.99\n",
       "2003     5.85\n",
       "2004     5.70\n",
       "2005     5.51\n",
       "2006     5.34\n",
       "2007     5.19\n",
       "2008     5.00\n",
       "2009     5.02\n",
       "2010     4.94\n",
       "2011     4.79\n",
       "2012     4.69\n",
       "2013     4.62\n",
       "2014     4.55\n",
       "2015     4.54\n",
       "2016     4.49\n",
       "2017     4.39\n",
       "Name: U.S. Virgin Islands, dtype: float64"
      ]
     },
     "metadata": {
      "tags": []
     },
     "execution_count": 164
    }
   ]
  },
  {
   "cell_type": "code",
   "metadata": {
    "pycharm": {
     "name": "#%%\n",
     "is_executing": false
    },
    "id": "dt7vRr8WrtCV",
    "colab_type": "code",
    "colab": {
     "base_uri": "https://localhost:8080/",
     "height": 274
    },
    "outputId": "328f6413-f06e-4f0b-ddf7-b20b8cfbb615"
   },
   "source": [
    "for problem in issue_df['State'].unique():\n",
    "    if problem in act_min_wage.columns:\n",
    "        print('We Are Missing Something Here...')"
   ],
   "execution_count": 165,
   "outputs": [
    {
     "output_type": "stream",
     "text": [
      "We Are Missing Something Here...\n",
      "We Are Missing Something Here...\n",
      "We Are Missing Something Here...\n",
      "We Are Missing Something Here...\n",
      "We Are Missing Something Here...\n",
      "We Are Missing Something Here...\n",
      "We Are Missing Something Here...\n",
      "We Are Missing Something Here...\n",
      "We Are Missing Something Here...\n",
      "We Are Missing Something Here...\n",
      "We Are Missing Something Here...\n",
      "We Are Missing Something Here...\n",
      "We Are Missing Something Here...\n",
      "We Are Missing Something Here...\n"
     ],
     "name": "stdout"
    }
   ]
  },
  {
   "cell_type": "code",
   "metadata": {
    "pycharm": {
     "name": "#%%\n",
     "is_executing": false
    },
    "id": "cLXaUcm9rtCc",
    "colab_type": "code",
    "colab": {}
   },
   "source": [
    "import numpy as np\n",
    "act_min_wage=act_min_wage.replace(0, np.NaN).dropna(axis=1).corr()"
   ],
   "execution_count": 0,
   "outputs": []
  },
  {
   "cell_type": "code",
   "metadata": {
    "pycharm": {
     "name": "#%%\n",
     "is_executing": false
    },
    "id": "6Bi8QuoJrtCh",
    "colab_type": "code",
    "colab": {
     "base_uri": "https://localhost:8080/",
     "height": 261
    },
    "outputId": "2fc85bbd-1a9d-4c4c-e418-f797d780d888"
   },
   "source": [
    "act_min_wage.head()"
   ],
   "execution_count": 167,
   "outputs": [
    {
     "output_type": "execute_result",
     "data": {
      "text/html": [
       "<div>\n",
       "<style scoped>\n",
       "    .dataframe tbody tr th:only-of-type {\n",
       "        vertical-align: middle;\n",
       "    }\n",
       "\n",
       "    .dataframe tbody tr th {\n",
       "        vertical-align: top;\n",
       "    }\n",
       "\n",
       "    .dataframe thead th {\n",
       "        text-align: right;\n",
       "    }\n",
       "</style>\n",
       "<table border=\"1\" class=\"dataframe\">\n",
       "  <thead>\n",
       "    <tr style=\"text-align: right;\">\n",
       "      <th></th>\n",
       "      <th>Alaska</th>\n",
       "      <th>Arkansas</th>\n",
       "      <th>California</th>\n",
       "      <th>Colorado</th>\n",
       "      <th>Connecticut</th>\n",
       "      <th>Delaware</th>\n",
       "      <th>District of Columbia</th>\n",
       "      <th>Federal (FLSA)</th>\n",
       "      <th>Guam</th>\n",
       "      <th>Hawaii</th>\n",
       "      <th>Idaho</th>\n",
       "      <th>Indiana</th>\n",
       "      <th>Kentucky</th>\n",
       "      <th>Maine</th>\n",
       "      <th>Maryland</th>\n",
       "      <th>Massachusetts</th>\n",
       "      <th>Michigan</th>\n",
       "      <th>Minnesota</th>\n",
       "      <th>Nebraska</th>\n",
       "      <th>Nevada</th>\n",
       "      <th>New Hampshire</th>\n",
       "      <th>New Jersey</th>\n",
       "      <th>New Mexico</th>\n",
       "      <th>New York</th>\n",
       "      <th>North Carolina</th>\n",
       "      <th>North Dakota</th>\n",
       "      <th>Ohio</th>\n",
       "      <th>Oklahoma</th>\n",
       "      <th>Oregon</th>\n",
       "      <th>Pennsylvania</th>\n",
       "      <th>Puerto Rico</th>\n",
       "      <th>Rhode Island</th>\n",
       "      <th>South Dakota</th>\n",
       "      <th>Utah</th>\n",
       "      <th>Vermont</th>\n",
       "      <th>Washington</th>\n",
       "      <th>West Virginia</th>\n",
       "      <th>Wisconsin</th>\n",
       "      <th>Wyoming</th>\n",
       "    </tr>\n",
       "  </thead>\n",
       "  <tbody>\n",
       "    <tr>\n",
       "      <th>Alaska</th>\n",
       "      <td>1.000000</td>\n",
       "      <td>-0.377934</td>\n",
       "      <td>0.717653</td>\n",
       "      <td>-0.129332</td>\n",
       "      <td>0.680886</td>\n",
       "      <td>0.258997</td>\n",
       "      <td>0.321785</td>\n",
       "      <td>0.637679</td>\n",
       "      <td>0.787915</td>\n",
       "      <td>0.672620</td>\n",
       "      <td>0.371515</td>\n",
       "      <td>0.352950</td>\n",
       "      <td>-0.569134</td>\n",
       "      <td>0.784052</td>\n",
       "      <td>0.487056</td>\n",
       "      <td>0.726248</td>\n",
       "      <td>0.606292</td>\n",
       "      <td>-0.384472</td>\n",
       "      <td>-0.142350</td>\n",
       "      <td>0.713637</td>\n",
       "      <td>0.817509</td>\n",
       "      <td>0.726091</td>\n",
       "      <td>0.521504</td>\n",
       "      <td>0.881634</td>\n",
       "      <td>0.454404</td>\n",
       "      <td>-0.002899</td>\n",
       "      <td>-0.181850</td>\n",
       "      <td>0.308927</td>\n",
       "      <td>-0.008462</td>\n",
       "      <td>0.610814</td>\n",
       "      <td>-0.038118</td>\n",
       "      <td>0.652353</td>\n",
       "      <td>-0.326316</td>\n",
       "      <td>-0.020462</td>\n",
       "      <td>0.663558</td>\n",
       "      <td>0.411593</td>\n",
       "      <td>0.044814</td>\n",
       "      <td>0.702570</td>\n",
       "      <td>0.727932</td>\n",
       "    </tr>\n",
       "    <tr>\n",
       "      <th>Arkansas</th>\n",
       "      <td>-0.377934</td>\n",
       "      <td>1.000000</td>\n",
       "      <td>-0.234367</td>\n",
       "      <td>0.135749</td>\n",
       "      <td>0.047580</td>\n",
       "      <td>0.016125</td>\n",
       "      <td>0.266889</td>\n",
       "      <td>0.117245</td>\n",
       "      <td>0.039593</td>\n",
       "      <td>0.204801</td>\n",
       "      <td>-0.006833</td>\n",
       "      <td>-0.116454</td>\n",
       "      <td>0.427054</td>\n",
       "      <td>-0.059840</td>\n",
       "      <td>0.443650</td>\n",
       "      <td>-0.136325</td>\n",
       "      <td>0.113882</td>\n",
       "      <td>0.452996</td>\n",
       "      <td>0.180337</td>\n",
       "      <td>-0.005549</td>\n",
       "      <td>-0.192707</td>\n",
       "      <td>-0.093417</td>\n",
       "      <td>0.042759</td>\n",
       "      <td>-0.236279</td>\n",
       "      <td>0.413676</td>\n",
       "      <td>0.304853</td>\n",
       "      <td>0.296669</td>\n",
       "      <td>-0.212602</td>\n",
       "      <td>0.274903</td>\n",
       "      <td>0.159923</td>\n",
       "      <td>0.232186</td>\n",
       "      <td>0.003498</td>\n",
       "      <td>0.800116</td>\n",
       "      <td>0.194680</td>\n",
       "      <td>0.087429</td>\n",
       "      <td>-0.072343</td>\n",
       "      <td>0.420819</td>\n",
       "      <td>0.000470</td>\n",
       "      <td>-0.250592</td>\n",
       "    </tr>\n",
       "    <tr>\n",
       "      <th>California</th>\n",
       "      <td>0.717653</td>\n",
       "      <td>-0.234367</td>\n",
       "      <td>1.000000</td>\n",
       "      <td>0.483313</td>\n",
       "      <td>0.876215</td>\n",
       "      <td>0.479197</td>\n",
       "      <td>0.596865</td>\n",
       "      <td>0.371966</td>\n",
       "      <td>0.492052</td>\n",
       "      <td>0.519241</td>\n",
       "      <td>0.623225</td>\n",
       "      <td>0.793831</td>\n",
       "      <td>-0.152946</td>\n",
       "      <td>0.716943</td>\n",
       "      <td>0.377899</td>\n",
       "      <td>0.942760</td>\n",
       "      <td>0.654850</td>\n",
       "      <td>-0.318507</td>\n",
       "      <td>0.232873</td>\n",
       "      <td>0.537317</td>\n",
       "      <td>0.559870</td>\n",
       "      <td>0.643447</td>\n",
       "      <td>0.538274</td>\n",
       "      <td>0.763132</td>\n",
       "      <td>0.450594</td>\n",
       "      <td>0.204418</td>\n",
       "      <td>0.072433</td>\n",
       "      <td>-0.315364</td>\n",
       "      <td>0.439329</td>\n",
       "      <td>0.429061</td>\n",
       "      <td>0.512712</td>\n",
       "      <td>0.780916</td>\n",
       "      <td>-0.036787</td>\n",
       "      <td>0.392898</td>\n",
       "      <td>0.877922</td>\n",
       "      <td>0.754085</td>\n",
       "      <td>0.371765</td>\n",
       "      <td>0.584067</td>\n",
       "      <td>0.722617</td>\n",
       "    </tr>\n",
       "    <tr>\n",
       "      <th>Colorado</th>\n",
       "      <td>-0.129332</td>\n",
       "      <td>0.135749</td>\n",
       "      <td>0.483313</td>\n",
       "      <td>1.000000</td>\n",
       "      <td>0.402020</td>\n",
       "      <td>0.566304</td>\n",
       "      <td>0.673371</td>\n",
       "      <td>-0.232035</td>\n",
       "      <td>-0.192616</td>\n",
       "      <td>0.069800</td>\n",
       "      <td>0.521063</td>\n",
       "      <td>0.665580</td>\n",
       "      <td>0.497117</td>\n",
       "      <td>0.100846</td>\n",
       "      <td>-0.044345</td>\n",
       "      <td>0.469242</td>\n",
       "      <td>0.184005</td>\n",
       "      <td>-0.070367</td>\n",
       "      <td>0.736112</td>\n",
       "      <td>0.085357</td>\n",
       "      <td>-0.147020</td>\n",
       "      <td>0.045434</td>\n",
       "      <td>0.213957</td>\n",
       "      <td>0.002463</td>\n",
       "      <td>0.212403</td>\n",
       "      <td>0.314025</td>\n",
       "      <td>0.380842</td>\n",
       "      <td>-0.751726</td>\n",
       "      <td>0.648864</td>\n",
       "      <td>-0.136195</td>\n",
       "      <td>0.657364</td>\n",
       "      <td>0.429852</td>\n",
       "      <td>0.399137</td>\n",
       "      <td>0.622330</td>\n",
       "      <td>0.448485</td>\n",
       "      <td>0.612637</td>\n",
       "      <td>0.533623</td>\n",
       "      <td>0.011501</td>\n",
       "      <td>0.130053</td>\n",
       "    </tr>\n",
       "    <tr>\n",
       "      <th>Connecticut</th>\n",
       "      <td>0.680886</td>\n",
       "      <td>0.047580</td>\n",
       "      <td>0.876215</td>\n",
       "      <td>0.402020</td>\n",
       "      <td>1.000000</td>\n",
       "      <td>0.552613</td>\n",
       "      <td>0.652488</td>\n",
       "      <td>0.487750</td>\n",
       "      <td>0.632073</td>\n",
       "      <td>0.621503</td>\n",
       "      <td>0.563913</td>\n",
       "      <td>0.731378</td>\n",
       "      <td>-0.179488</td>\n",
       "      <td>0.666562</td>\n",
       "      <td>0.553702</td>\n",
       "      <td>0.905269</td>\n",
       "      <td>0.747738</td>\n",
       "      <td>-0.357928</td>\n",
       "      <td>0.185571</td>\n",
       "      <td>0.632557</td>\n",
       "      <td>0.544013</td>\n",
       "      <td>0.529780</td>\n",
       "      <td>0.532646</td>\n",
       "      <td>0.776332</td>\n",
       "      <td>0.629509</td>\n",
       "      <td>0.114565</td>\n",
       "      <td>-0.047880</td>\n",
       "      <td>-0.332086</td>\n",
       "      <td>0.378981</td>\n",
       "      <td>0.531769</td>\n",
       "      <td>0.626712</td>\n",
       "      <td>0.802485</td>\n",
       "      <td>0.105707</td>\n",
       "      <td>0.302538</td>\n",
       "      <td>0.898469</td>\n",
       "      <td>0.715691</td>\n",
       "      <td>0.400099</td>\n",
       "      <td>0.585790</td>\n",
       "      <td>0.814971</td>\n",
       "    </tr>\n",
       "  </tbody>\n",
       "</table>\n",
       "</div>"
      ],
      "text/plain": [
       "               Alaska  Arkansas  California  ...  West Virginia  Wisconsin   Wyoming\n",
       "Alaska       1.000000 -0.377934    0.717653  ...       0.044814   0.702570  0.727932\n",
       "Arkansas    -0.377934  1.000000   -0.234367  ...       0.420819   0.000470 -0.250592\n",
       "California   0.717653 -0.234367    1.000000  ...       0.371765   0.584067  0.722617\n",
       "Colorado    -0.129332  0.135749    0.483313  ...       0.533623   0.011501  0.130053\n",
       "Connecticut  0.680886  0.047580    0.876215  ...       0.400099   0.585790  0.814971\n",
       "\n",
       "[5 rows x 39 columns]"
      ]
     },
     "metadata": {
      "tags": []
     },
     "execution_count": 167
    }
   ]
  },
  {
   "cell_type": "code",
   "metadata": {
    "pycharm": {
     "name": "#%%\n",
     "is_executing": false
    },
    "id": "WT2syQW_rtCy",
    "colab_type": "code",
    "colab": {
     "base_uri": "https://localhost:8080/",
     "height": 35
    },
    "outputId": "83ae64cd-768e-4370-d512-6504214f0b58"
   },
   "source": [
    "print(len(act_min_wage.columns))"
   ],
   "execution_count": 168,
   "outputs": [
    {
     "output_type": "stream",
     "text": [
      "39\n"
     ],
     "name": "stdout"
    }
   ]
  },
  {
   "cell_type": "code",
   "metadata": {
    "pycharm": {
     "name": "#%%\n",
     "is_executing": false
    },
    "id": "hrQGLrEMrtC5",
    "colab_type": "code",
    "colab": {
     "base_uri": "https://localhost:8080/",
     "height": 293
    },
    "outputId": "6db1650f-0541-4576-c5d5-d5816dcf13e1"
   },
   "source": [
    "import matplotlib.pyplot as plt\n",
    "plt.matshow(act_min_wage)\n"
   ],
   "execution_count": 169,
   "outputs": [
    {
     "output_type": "execute_result",
     "data": {
      "text/plain": [
       "<matplotlib.image.AxesImage at 0x7f1ab4a14320>"
      ]
     },
     "metadata": {
      "tags": []
     },
     "execution_count": 169
    },
    {
     "output_type": "display_data",
     "data": {
      "image/png": "[encoded data removed]",
      "text/plain": [
       "<Figure size 288x288 with 1 Axes>"
      ]
     },
     "metadata": {
      "tags": []
     }
    }
   ]
  },
  {
   "cell_type": "code",
   "execution_count": null,
   "outputs": [],
   "source": [
    "labels = [c[:2] for c in act_min_wage.columns]"
   ],
   "metadata": {
    "collapsed": false,
    "pycharm": {
     "name": "#%%\n"
    }
   }
  },
  {
   "cell_type": "code",
   "execution_count": null,
   "outputs": [],
   "source": [
    "fig = plt.figure(figsize=(18,10))\n",
    "ax = fig.add_subplot(111)\n",
    "ax.matshow(act_min_wage, cmap=plt.cm.RdYlGn)\n",
    "ax.set_xticks(np.arange(len(labels)))\n",
    "ax.set_yticks(np.arange(len(labels)))\n",
    "ax.set_yticklabels(labels)\n",
    "ax.set_xticklabels(labels)\n",
    "plt.show()"
   ],
   "metadata": {
    "collapsed": false,
    "pycharm": {
     "name": "#%%\n"
    }
   }
  },
  {
   "cell_type": "code",
   "execution_count": null,
   "outputs": [],
   "source": [
    "import pandas as pd\n",
    "dfs = pd.read_html('https://www.infoplease.com/us/postal-information/state-abbreviations-and-state-postal-codes')"
   ],
   "metadata": {
    "collapsed": false,
    "pycharm": {
     "name": "#%%\n"
    }
   }
  },
  {
   "cell_type": "code",
   "execution_count": null,
   "outputs": [],
   "source": [
    "for ndf in dfs:\n",
    "  print(type(ndf))\n",
    "  print(ndf)"
   ],
   "metadata": {
    "collapsed": false,
    "pycharm": {
     "name": "#%%\n"
    }
   }
  },
  {
   "cell_type": "code",
   "execution_count": null,
   "outputs": [],
   "source": [
    "state_abbv=dfs[0]\n",
    "type(state_abbv)"
   ],
   "metadata": {
    "collapsed": false,
    "pycharm": {
     "name": "#%%\n"
    }
   }
  },
  {
   "cell_type": "code",
   "execution_count": null,
   "outputs": [],
   "source": [
    "state_abbv.head()\n",
    "state_abbv.set_index('State/District', inplace =True)"
   ],
   "metadata": {
    "collapsed": false,
    "pycharm": {
     "name": "#%%\n"
    }
   }
  },
  {
   "cell_type": "code",
   "execution_count": null,
   "outputs": [],
   "source": [
    "state_abbv.to_csv('/content/state_abbv.csv')"
   ],
   "metadata": {
    "collapsed": false,
    "pycharm": {
     "name": "#%%\n"
    }
   }
  },
  {
   "cell_type": "code",
   "execution_count": null,
   "outputs": [],
   "source": [
    "state_abbv = pd.read_csv('/content/state_abbv.csv', index_col=0)\n",
    "state_abbv.head()"
   ],
   "metadata": {
    "collapsed": false,
    "pycharm": {
     "name": "#%%\n"
    }
   }
  },
  {
   "cell_type": "code",
   "execution_count": null,
   "outputs": [],
   "source": [],
   "metadata": {
    "collapsed": false,
    "pycharm": {
     "name": "#%%\n"
    }
   }
  },
  {
   "cell_type": "code",
   "execution_count": null,
   "outputs": [],
   "source": [
    "abbv_dict = state_abbv[['Postal Code']].to_dict()['Postal Code']\n",
    "abbv_dict"
   ],
   "metadata": {
    "collapsed": false,
    "pycharm": {
     "name": "#%%\n"
    }
   }
  },
  {
   "cell_type": "code",
   "execution_count": null,
   "outputs": [],
   "source": [
    "abbv_dict['Federal (FLSA)'] = \"FLSA\"\n",
    "abbv_dict['Guam'] = 'GU'\n",
    "abbv_dict['Puerto Rico'] = 'PR'\n",
    "labels=[abbv_dict[c] for c in act_min_wage.columns]"
   ],
   "metadata": {
    "collapsed": false,
    "pycharm": {
     "name": "#%%\n"
    }
   }
  },
  {
   "cell_type": "code",
   "execution_count": null,
   "outputs": [],
   "source": [],
   "metadata": {
    "collapsed": false,
    "pycharm": {
     "name": "#%%\n"
    }
   }
  },
  {
   "cell_type": "code",
   "execution_count": null,
   "outputs": [],
   "source": [
    "print(act_min_wage.columns)"
   ],
   "metadata": {
    "collapsed": false,
    "pycharm": {
     "name": "#%%\n"
    }
   }
  },
  {
   "cell_type": "code",
   "execution_count": null,
   "outputs": [],
   "source": [
    "for i,j in abbv_dict.items():\n",
    "  print(i,j)"
   ],
   "metadata": {
    "collapsed": false,
    "pycharm": {
     "name": "#%%\n"
    }
   }
  },
  {
   "cell_type": "code",
   "execution_count": null,
   "outputs": [],
   "source": [
    "labels=[abbv_dict[c] for c in act_min_wage.columns]\n",
    "fig = plt.figure(figsize=(18,10))\n",
    "ax = fig.add_subplot(111)\n",
    "ax.matshow(act_min_wage, cmap=plt.cm.RdYlGn)\n",
    "ax.set_xticks(np.arange(len(labels)))\n",
    "ax.set_yticks(np.arange(len(labels)))\n",
    "ax.set_yticklabels(labels)\n",
    "ax.set_xticklabels(labels)\n",
    "plt.show()"
   ],
   "metadata": {
    "collapsed": false,
    "pycharm": {
     "name": "#%%\n"
    }
   }
  },
  {
   "cell_type": "code",
   "execution_count": null,
   "outputs": [],
   "source": [],
   "metadata": {
    "collapsed": false,
    "pycharm": {
     "name": "#%%\n"
    }
   }
  },
  {
   "cell_type": "code",
   "metadata": {
    "id": "SAdwpZKftLTi",
    "colab_type": "code",
    "colab": {}
   },
   "source": [],
   "execution_count": 0,
   "outputs": []
  },
  {
   "cell_type": "code",
   "metadata": {
    "id": "meqcoIdpvX64",
    "colab_type": "code",
    "colab": {
     "base_uri": "https://localhost:8080/",
     "height": 595
    },
    "outputId": "e4d1c7f1-75e2-488b-a84c-f5c8a52edfdc"
   },
   "source": [
    "fig = plt.figure(figsize=(18,10))\n",
    "ax = fig.add_subplot(111)\n",
    "ax.matshow(act_min_wage, cmap=plt.cm.RdYlGn)\n",
    "ax.set_xticks(np.arange(len(labels)))\n",
    "ax.set_yticks(np.arange(len(labels)))\n",
    "ax.set_yticklabels(labels)\n",
    "ax.set_xticklabels(labels)\n",
    "plt.show()"
   ],
   "execution_count": 171,
   "outputs": [
    {
     "output_type": "display_data",
     "data": {
      "image/png": "[encoded data removed]",
      "text/plain": [
       "<Figure size 1296x720 with 1 Axes>"
      ]
     },
     "metadata": {
      "tags": []
     }
    }
   ]
  },
  {
   "cell_type": "code",
   "metadata": {
    "id": "Y1ilKn46vbpG",
    "colab_type": "code",
    "colab": {}
   },
   "source": [
    "import pandas as pd\n",
    "dfs = pd.read_html('https://www.infoplease.com/us/postal-information/state-abbreviations-and-state-postal-codes')"
   ],
   "execution_count": 0,
   "outputs": []
  },
  {
   "cell_type": "code",
   "metadata": {
    "id": "9cRM81J3A2qJ",
    "colab_type": "code",
    "colab": {
     "base_uri": "https://localhost:8080/",
     "height": 1000
    },
    "outputId": "c03b5f6d-a5a3-4a57-893b-6282bfcbcf1b"
   },
   "source": [
    "for ndf in dfs:\n",
    "  print(type(ndf))\n",
    "  print(ndf)"
   ],
   "execution_count": 207,
   "outputs": [
    {
     "output_type": "stream",
     "text": [
      "<class 'pandas.core.frame.DataFrame'>\n",
      "          State/District Abbreviation Postal Code\n",
      "0                Alabama         Ala.          AL\n",
      "1                 Alaska       Alaska          AK\n",
      "2                Arizona        Ariz.          AZ\n",
      "3               Arkansas         Ark.          AR\n",
      "4             California       Calif.          CA\n",
      "5               Colorado        Colo.          CO\n",
      "6            Connecticut        Conn.          CT\n",
      "7               Delaware         Del.          DE\n",
      "8   District of Columbia         D.C.          DC\n",
      "9                Florida         Fla.          FL\n",
      "10               Georgia          Ga.          GA\n",
      "11                Hawaii       Hawaii          HI\n",
      "12                 Idaho        Idaho          ID\n",
      "13              Illinois         Ill.          IL\n",
      "14               Indiana         Ind.          IN\n",
      "15                  Iowa         Iowa          IA\n",
      "16                Kansas        Kans.          KS\n",
      "17              Kentucky          Ky.          KY\n",
      "18             Louisiana          La.          LA\n",
      "19                 Maine        Maine          ME\n",
      "20              Maryland          Md.          MD\n",
      "21         Massachusetts        Mass.          MA\n",
      "22              Michigan        Mich.          MI\n",
      "23             Minnesota        Minn.          MN\n",
      "24           Mississippi        Miss.          MS\n",
      "25              Missouri          Mo.          MO\n",
      "26               Montana        Mont.          MT\n",
      "27              Nebraska        Nebr.          NE\n",
      "28                Nevada         Nev.          NV\n",
      "29         New Hampshire         N.H.          NH\n",
      "30            New Jersey         N.J.          NJ\n",
      "31            New Mexico         N.M.          NM\n",
      "32              New York         N.Y.          NY\n",
      "33        North Carolina         N.C.          NC\n",
      "34          North Dakota         N.D.          ND\n",
      "35                  Ohio         Ohio          OH\n",
      "36              Oklahoma        Okla.          OK\n",
      "37                Oregon         Ore.          OR\n",
      "38          Pennsylvania          Pa.          PA\n",
      "39          Rhode Island         R.I.          RI\n",
      "40        South Carolina         S.C.          SC\n",
      "41          South Dakota         S.D.          SD\n",
      "42             Tennessee        Tenn.          TN\n",
      "43                 Texas         Tex.          TX\n",
      "44                  Utah         Utah          UT\n",
      "45               Vermont          Vt.          VT\n",
      "46              Virginia          Va.          VA\n",
      "47            Washington        Wash.          WA\n",
      "48         West Virginia        W.Va.          WV\n",
      "49             Wisconsin         Wis.          WI\n",
      "50               Wyoming         Wyo.          WY\n",
      "<class 'pandas.core.frame.DataFrame'>\n",
      "  Territory/Associate Abbreviation Postal Code\n",
      "0      American Samoa          NaN          AS\n",
      "1                Guam         Guam          GU\n",
      "2    Marshall Islands          NaN          MH\n",
      "3          Micronesia          NaN          FM\n",
      "4   Northern Marianas          NaN          MP\n",
      "5               Palau          NaN          PW\n",
      "6         Puerto Rico         P.R.          PR\n",
      "7      Virgin Islands          NaN          VI\n"
     ],
     "name": "stdout"
    }
   ]
  },
  {
   "cell_type": "code",
   "metadata": {
    "id": "eqGFmGXBA8HA",
    "colab_type": "code",
    "colab": {
     "base_uri": "https://localhost:8080/",
     "height": 35
    },
    "outputId": "6bc3b33d-bbf8-4b30-f6ba-9750e2c1c37c"
   },
   "source": [
    "state_abbv=dfs[0]\n",
    "type(state_abbv)"
   ],
   "execution_count": 208,
   "outputs": [
    {
     "output_type": "execute_result",
     "data": {
      "text/plain": [
       "pandas.core.frame.DataFrame"
      ]
     },
     "metadata": {
      "tags": []
     },
     "execution_count": 208
    }
   ]
  },
  {
   "cell_type": "code",
   "metadata": {
    "id": "SBA-FUexBvbR",
    "colab_type": "code",
    "colab": {}
   },
   "source": [
    "state_abbv.head()\n",
    "state_abbv.set_index('State/District', inplace =True)"
   ],
   "execution_count": 0,
   "outputs": []
  },
  {
   "cell_type": "code",
   "metadata": {
    "id": "MI8PRdBIB04z",
    "colab_type": "code",
    "colab": {}
   },
   "source": [
    "state_abbv.to_csv('/content/state_abbv.csv')"
   ],
   "execution_count": 0,
   "outputs": []
  },
  {
   "cell_type": "code",
   "metadata": {
    "id": "CxCaiJIeCum4",
    "colab_type": "code",
    "colab": {
     "base_uri": "https://localhost:8080/",
     "height": 238
    },
    "outputId": "7fde6b90-ce48-40e2-feb7-012f367bc47a"
   },
   "source": [
    "state_abbv = pd.read_csv('/content/state_abbv.csv', index_col=0)\n",
    "state_abbv.head()"
   ],
   "execution_count": 212,
   "outputs": [
    {
     "output_type": "execute_result",
     "data": {
      "text/html": [
       "<div>\n",
       "<style scoped>\n",
       "    .dataframe tbody tr th:only-of-type {\n",
       "        vertical-align: middle;\n",
       "    }\n",
       "\n",
       "    .dataframe tbody tr th {\n",
       "        vertical-align: top;\n",
       "    }\n",
       "\n",
       "    .dataframe thead th {\n",
       "        text-align: right;\n",
       "    }\n",
       "</style>\n",
       "<table border=\"1\" class=\"dataframe\">\n",
       "  <thead>\n",
       "    <tr style=\"text-align: right;\">\n",
       "      <th></th>\n",
       "      <th>Abbreviation</th>\n",
       "      <th>Postal Code</th>\n",
       "    </tr>\n",
       "    <tr>\n",
       "      <th>State/District</th>\n",
       "      <th></th>\n",
       "      <th></th>\n",
       "    </tr>\n",
       "  </thead>\n",
       "  <tbody>\n",
       "    <tr>\n",
       "      <th>Alabama</th>\n",
       "      <td>Ala.</td>\n",
       "      <td>AL</td>\n",
       "    </tr>\n",
       "    <tr>\n",
       "      <th>Alaska</th>\n",
       "      <td>Alaska</td>\n",
       "      <td>AK</td>\n",
       "    </tr>\n",
       "    <tr>\n",
       "      <th>Arizona</th>\n",
       "      <td>Ariz.</td>\n",
       "      <td>AZ</td>\n",
       "    </tr>\n",
       "    <tr>\n",
       "      <th>Arkansas</th>\n",
       "      <td>Ark.</td>\n",
       "      <td>AR</td>\n",
       "    </tr>\n",
       "    <tr>\n",
       "      <th>California</th>\n",
       "      <td>Calif.</td>\n",
       "      <td>CA</td>\n",
       "    </tr>\n",
       "  </tbody>\n",
       "</table>\n",
       "</div>"
      ],
      "text/plain": [
       "               Abbreviation Postal Code\n",
       "State/District                         \n",
       "Alabama                Ala.          AL\n",
       "Alaska               Alaska          AK\n",
       "Arizona               Ariz.          AZ\n",
       "Arkansas               Ark.          AR\n",
       "California           Calif.          CA"
      ]
     },
     "metadata": {
      "tags": []
     },
     "execution_count": 212
    }
   ]
  },
  {
   "cell_type": "code",
   "metadata": {
    "id": "DV0lQb0HFSp-",
    "colab_type": "code",
    "colab": {}
   },
   "source": [
    ""
   ],
   "execution_count": 0,
   "outputs": []
  },
  {
   "cell_type": "code",
   "metadata": {
    "id": "7h1UrdDSDL-I",
    "colab_type": "code",
    "colab": {
     "base_uri": "https://localhost:8080/",
     "height": 954
    },
    "outputId": "432e7a3e-81c5-4565-d69b-82707008a7cc"
   },
   "source": [
    "abbv_dict = state_abbv[['Postal Code']].to_dict()['Postal Code']\n",
    "abbv_dict"
   ],
   "execution_count": 214,
   "outputs": [
    {
     "output_type": "execute_result",
     "data": {
      "text/plain": [
       "{'Alabama': 'AL',\n",
       " 'Alaska': 'AK',\n",
       " 'Arizona': 'AZ',\n",
       " 'Arkansas': 'AR',\n",
       " 'California': 'CA',\n",
       " 'Colorado': 'CO',\n",
       " 'Connecticut': 'CT',\n",
       " 'Delaware': 'DE',\n",
       " 'District of Columbia': 'DC',\n",
       " 'Florida': 'FL',\n",
       " 'Georgia': 'GA',\n",
       " 'Hawaii': 'HI',\n",
       " 'Idaho': 'ID',\n",
       " 'Illinois': 'IL',\n",
       " 'Indiana': 'IN',\n",
       " 'Iowa': 'IA',\n",
       " 'Kansas': 'KS',\n",
       " 'Kentucky': 'KY',\n",
       " 'Louisiana': 'LA',\n",
       " 'Maine': 'ME',\n",
       " 'Maryland': 'MD',\n",
       " 'Massachusetts': 'MA',\n",
       " 'Michigan': 'MI',\n",
       " 'Minnesota': 'MN',\n",
       " 'Mississippi': 'MS',\n",
       " 'Missouri': 'MO',\n",
       " 'Montana': 'MT',\n",
       " 'Nebraska': 'NE',\n",
       " 'Nevada': 'NV',\n",
       " 'New Hampshire': 'NH',\n",
       " 'New Jersey': 'NJ',\n",
       " 'New Mexico': 'NM',\n",
       " 'New York': 'NY',\n",
       " 'North Carolina': 'NC',\n",
       " 'North Dakota': 'ND',\n",
       " 'Ohio': 'OH',\n",
       " 'Oklahoma': 'OK',\n",
       " 'Oregon': 'OR',\n",
       " 'Pennsylvania': 'PA',\n",
       " 'Rhode Island': 'RI',\n",
       " 'South Carolina': 'SC',\n",
       " 'South Dakota': 'SD',\n",
       " 'Tennessee': 'TN',\n",
       " 'Texas': 'TX',\n",
       " 'Utah': 'UT',\n",
       " 'Vermont': 'VT',\n",
       " 'Virginia': 'VA',\n",
       " 'Washington': 'WA',\n",
       " 'West Virginia': 'WV',\n",
       " 'Wisconsin': 'WI',\n",
       " 'Wyoming': 'WY'}"
      ]
     },
     "metadata": {
      "tags": []
     },
     "execution_count": 214
    }
   ]
  },
  {
   "cell_type": "code",
   "metadata": {
    "id": "jki9Ci_bDWem",
    "colab_type": "code",
    "colab": {}
   },
   "source": [
    "abbv_dict['Federal (FLSA)'] = \"FLSA\"\n",
    "abbv_dict['Guam'] = 'GU'\n",
    "abbv_dict['Puerto Rico'] = 'PR'\n",
    "labels=[abbv_dict[c] for c in act_min_wage.columns]"
   ],
   "execution_count": 0,
   "outputs": []
  },
  {
   "cell_type": "code",
   "metadata": {
    "id": "AMwVpiCTEMC8",
    "colab_type": "code",
    "colab": {}
   },
   "source": [
    ""
   ],
   "execution_count": 0,
   "outputs": []
  },
  {
   "cell_type": "code",
   "metadata": {
    "id": "vOIcGIfCE5G6",
    "colab_type": "code",
    "colab": {
     "base_uri": "https://localhost:8080/",
     "height": 182
    },
    "outputId": "97663fc2-25b8-4da1-a626-90c9b180c28e"
   },
   "source": [
    "print(act_min_wage.columns)"
   ],
   "execution_count": 219,
   "outputs": [
    {
     "output_type": "stream",
     "text": [
      "Index(['Alaska', 'Arkansas', 'California', 'Colorado', 'Connecticut',\n",
      "       'Delaware', 'District of Columbia', 'Federal (FLSA)', 'Guam', 'Hawaii',\n",
      "       'Idaho', 'Indiana', 'Kentucky', 'Maine', 'Maryland', 'Massachusetts',\n",
      "       'Michigan', 'Minnesota', 'Nebraska', 'Nevada', 'New Hampshire',\n",
      "       'New Jersey', 'New Mexico', 'New York', 'North Carolina',\n",
      "       'North Dakota', 'Ohio', 'Oklahoma', 'Oregon', 'Pennsylvania',\n",
      "       'Puerto Rico', 'Rhode Island', 'South Dakota', 'Utah', 'Vermont',\n",
      "       'Washington', 'West Virginia', 'Wisconsin', 'Wyoming'],\n",
      "      dtype='object')\n"
     ],
     "name": "stdout"
    }
   ]
  },
  {
   "cell_type": "code",
   "metadata": {
    "id": "N8RQvYYRGAxy",
    "colab_type": "code",
    "colab": {
     "base_uri": "https://localhost:8080/",
     "height": 1000
    },
    "outputId": "1ca11341-af4e-4303-ac07-b91ca60b5cf7"
   },
   "source": [
    "for i,j in abbv_dict.items():\n",
    "  print(i,j)"
   ],
   "execution_count": 220,
   "outputs": [
    {
     "output_type": "stream",
     "text": [
      "Alabama AL\n",
      "Alaska AK\n",
      "Arizona AZ\n",
      "Arkansas AR\n",
      "California CA\n",
      "Colorado CO\n",
      "Connecticut CT\n",
      "Delaware DE\n",
      "District of Columbia DC\n",
      "Florida FL\n",
      "Georgia GA\n",
      "Hawaii HI\n",
      "Idaho ID\n",
      "Illinois IL\n",
      "Indiana IN\n",
      "Iowa IA\n",
      "Kansas KS\n",
      "Kentucky KY\n",
      "Louisiana LA\n",
      "Maine ME\n",
      "Maryland MD\n",
      "Massachusetts MA\n",
      "Michigan MI\n",
      "Minnesota MN\n",
      "Mississippi MS\n",
      "Missouri MO\n",
      "Montana MT\n",
      "Nebraska NE\n",
      "Nevada NV\n",
      "New Hampshire NH\n",
      "New Jersey NJ\n",
      "New Mexico NM\n",
      "New York NY\n",
      "North Carolina NC\n",
      "North Dakota ND\n",
      "Ohio OH\n",
      "Oklahoma OK\n",
      "Oregon OR\n",
      "Pennsylvania PA\n",
      "Rhode Island RI\n",
      "South Carolina SC\n",
      "South Dakota SD\n",
      "Tennessee TN\n",
      "Texas TX\n",
      "Utah UT\n",
      "Vermont VT\n",
      "Virginia VA\n",
      "Washington WA\n",
      "West Virginia WV\n",
      "Wisconsin WI\n",
      "Wyoming WY\n",
      "Federal (FLSA) FLSA\n",
      "Guam GU\n",
      "Puerto Rico PR\n"
     ],
     "name": "stdout"
    }
   ]
  },
  {
   "cell_type": "code",
   "metadata": {
    "id": "laiKTvQVGTgK",
    "colab_type": "code",
    "colab": {
     "base_uri": "https://localhost:8080/",
     "height": 595
    },
    "outputId": "b2c73e5b-cd40-4df5-dc96-20cb82483083"
   },
   "source": [
    "labels=[abbv_dict[c] for c in act_min_wage.columns]\n",
    "fig = plt.figure(figsize=(18,10))\n",
    "ax = fig.add_subplot(111)\n",
    "ax.matshow(act_min_wage, cmap=plt.cm.RdYlGn)\n",
    "ax.set_xticks(np.arange(len(labels)))\n",
    "ax.set_yticks(np.arange(len(labels)))\n",
    "ax.set_yticklabels(labels)\n",
    "ax.set_xticklabels(labels)\n",
    "plt.show()"
   ],
   "execution_count": 222,
   "outputs": [
    {
     "output_type": "display_data",
     "data": {
      "image/png": "[encoded data removed]",
      "text/plain": [
       "<Figure size 1296x720 with 1 Axes>"
      ]
     },
     "metadata": {
      "tags": []
     }
    }
   ]
  },
  {
   "cell_type": "code",
   "metadata": {
    "id": "3Luahn0GHXra",
    "colab_type": "code",
    "colab": {}
   },
   "source": [
    ""
   ],
   "execution_count": 0,
   "outputs": []
  }
 ]
}