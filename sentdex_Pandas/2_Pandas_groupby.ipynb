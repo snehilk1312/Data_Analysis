{
 "cells": [
  {
   "cell_type": "code",
   "execution_count": 1,
   "metadata": {
    "collapsed": true,
    "pycharm": {
     "is_executing": false
    }
   },
   "outputs": [
    {
     "name": "stdout",
     "text": [
      "      Team  Rank  Year  Points\n",
      "0   Riders     1  2014     876\n",
      "1   Riders     2  2015     789\n",
      "2   Devils     2  2014     863\n",
      "3   Devils     3  2015     673\n",
      "4    Kings     3  2014     741\n",
      "5    kings     4  2015     812\n",
      "6    Kings     1  2016     756\n",
      "7    Kings     1  2017     788\n",
      "8   Riders     2  2016     694\n",
      "9   Royals     4  2014     701\n",
      "10  Royals     1  2015     804\n",
      "11  Riders     2  2017     690\n"
     ],
     "output_type": "stream"
    }
   ],
   "source": [
    "\n",
    "#import the pandas library\n",
    "import pandas as pd\n",
    "\n",
    "ipl_data = {'Team': ['Riders', 'Riders', 'Devils', 'Devils', 'Kings',\n",
    "   'kings', 'Kings', 'Kings', 'Riders', 'Royals', 'Royals', 'Riders'],\n",
    "   'Rank': [1, 2, 2, 3, 3,4 ,1 ,1,2 , 4,1,2],\n",
    "   'Year': [2014,2015,2014,2015,2014,2015,2016,2017,2016,2014,2015,2017],\n",
    "   'Points':[876,789,863,673,741,812,756,788,694,701,804,690]}\n",
    "df = pd.DataFrame(ipl_data)\n",
    "\n",
    "print(df)"
   ]
  },
  {
   "cell_type": "code",
   "execution_count": 4,
   "outputs": [
    {
     "data": {
      "text/plain": "{'Devils': Int64Index([2, 3], dtype='int64'),\n 'Kings': Int64Index([4, 6, 7], dtype='int64'),\n 'Riders': Int64Index([0, 1, 8, 11], dtype='int64'),\n 'Royals': Int64Index([9, 10], dtype='int64'),\n 'kings': Int64Index([5], dtype='int64')}"
     },
     "metadata": {},
     "output_type": "execute_result",
     "execution_count": 4
    }
   ],
   "source": [
    "gp_obj1 = df.groupby('Team')\n",
    "gp_obj1.groups"
   ],
   "metadata": {
    "collapsed": false,
    "pycharm": {
     "name": "#%%\n",
     "is_executing": false
    }
   }
  },
  {
   "cell_type": "code",
   "execution_count": 6,
   "outputs": [
    {
     "data": {
      "text/plain": "{('Devils', 2014): Int64Index([2], dtype='int64'),\n ('Devils', 2015): Int64Index([3], dtype='int64'),\n ('Kings', 2014): Int64Index([4], dtype='int64'),\n ('Kings', 2016): Int64Index([6], dtype='int64'),\n ('Kings', 2017): Int64Index([7], dtype='int64'),\n ('Riders', 2014): Int64Index([0], dtype='int64'),\n ('Riders', 2015): Int64Index([1], dtype='int64'),\n ('Riders', 2016): Int64Index([8], dtype='int64'),\n ('Riders', 2017): Int64Index([11], dtype='int64'),\n ('Royals', 2014): Int64Index([9], dtype='int64'),\n ('Royals', 2015): Int64Index([10], dtype='int64'),\n ('kings', 2015): Int64Index([5], dtype='int64')}"
     },
     "metadata": {},
     "output_type": "execute_result",
     "execution_count": 6
    }
   ],
   "source": [
    "gp_obj2 = df.groupby(['Team', 'Year'])\n",
    "gp_obj2.groups"
   ],
   "metadata": {
    "collapsed": false,
    "pycharm": {
     "name": "#%%\n",
     "is_executing": false
    }
   }
  },
  {
   "cell_type": "code",
   "execution_count": 14,
   "outputs": [
    {
     "name": "stdout",
     "text": [
      "Devils\n",
      "     Team  Rank  Year  Points\n",
      "2  Devils     2  2014     863\n",
      "3  Devils     3  2015     673\n",
      "Kings\n",
      "    Team  Rank  Year  Points\n",
      "4  Kings     3  2014     741\n",
      "6  Kings     1  2016     756\n",
      "7  Kings     1  2017     788\n",
      "Riders\n",
      "      Team  Rank  Year  Points\n",
      "0   Riders     1  2014     876\n",
      "1   Riders     2  2015     789\n",
      "8   Riders     2  2016     694\n",
      "11  Riders     2  2017     690\n",
      "Royals\n",
      "      Team  Rank  Year  Points\n",
      "9   Royals     4  2014     701\n",
      "10  Royals     1  2015     804\n",
      "kings\n",
      "    Team  Rank  Year  Points\n",
      "5  kings     4  2015     812\n"
     ],
     "output_type": "stream"
    }
   ],
   "source": [
    "for name, group in gp_obj1:\n",
    "    print(name)\n",
    "    print(group)"
   ],
   "metadata": {
    "collapsed": false,
    "pycharm": {
     "name": "#%%\n",
     "is_executing": false
    }
   }
  },
  {
   "cell_type": "code",
   "execution_count": 15,
   "outputs": [
    {
     "data": {
      "text/plain": "   Rank  Year  Points\n2     2  2014     863\n3     3  2015     673",
      "text/html": "<div>\n<style scoped>\n    .dataframe tbody tr th:only-of-type {\n        vertical-align: middle;\n    }\n\n    .dataframe tbody tr th {\n        vertical-align: top;\n    }\n\n    .dataframe thead th {\n        text-align: right;\n    }\n</style>\n<table border=\"1\" class=\"dataframe\">\n  <thead>\n    <tr style=\"text-align: right;\">\n      <th></th>\n      <th>Rank</th>\n      <th>Year</th>\n      <th>Points</th>\n    </tr>\n  </thead>\n  <tbody>\n    <tr>\n      <th>2</th>\n      <td>2</td>\n      <td>2014</td>\n      <td>863</td>\n    </tr>\n    <tr>\n      <th>3</th>\n      <td>3</td>\n      <td>2015</td>\n      <td>673</td>\n    </tr>\n  </tbody>\n</table>\n</div>"
     },
     "metadata": {},
     "output_type": "execute_result",
     "execution_count": 15
    }
   ],
   "source": [
    "# Select a Group\n",
    "gp_obj1.get_group('Devils')"
   ],
   "metadata": {
    "collapsed": false,
    "pycharm": {
     "name": "#%%\n",
     "is_executing": false
    }
   }
  },
  {
   "cell_type": "code",
   "execution_count": 18,
   "outputs": [
    {
     "name": "stdout",
     "text": [
      "Team\n",
      "Devils    768.000000\n",
      "Kings     761.666667\n",
      "Riders    762.250000\n",
      "Royals    752.500000\n",
      "kings     812.000000\n",
      "Name: Points, dtype: float64\n"
     ],
     "output_type": "stream"
    }
   ],
   "source": [
    "# Aggregations    An aggregated function returns a single aggregated value for each group\n",
    "import numpy as np\n",
    "print(gp_obj1['Points'].agg(np.mean))\n"
   ],
   "metadata": {
    "collapsed": false,
    "pycharm": {
     "name": "#%%\n",
     "is_executing": false
    }
   }
  },
  {
   "cell_type": "code",
   "execution_count": 19,
   "outputs": [
    {
     "name": "stdout",
     "text": [
      "         sum        mean         std\n",
      "Team                                \n",
      "Devils  1536  768.000000  134.350288\n",
      "Kings   2285  761.666667   24.006943\n",
      "Riders  3049  762.250000   88.567771\n",
      "Royals  1505  752.500000   72.831998\n",
      "kings    812  812.000000         NaN\n"
     ],
     "output_type": "stream"
    }
   ],
   "source": [
    "print(gp_obj1['Points'].agg([np.sum, np.mean, np.std]))\n",
    "\n"
   ],
   "metadata": {
    "collapsed": false,
    "pycharm": {
     "name": "#%%\n",
     "is_executing": false
    }
   }
  },
  {
   "cell_type": "code",
   "execution_count": null,
   "outputs": [],
   "source": [
    "\n"
   ],
   "metadata": {
    "collapsed": false,
    "pycharm": {
     "name": "#%%\n"
    }
   }
  }
 ],
 "metadata": {
  "kernelspec": {
   "display_name": "Python 3",
   "language": "python",
   "name": "python3"
  },
  "language_info": {
   "codemirror_mode": {
    "name": "ipython",
    "version": 2
   },
   "file_extension": ".py",
   "mimetype": "text/x-python",
   "name": "python",
   "nbconvert_exporter": "python",
   "pygments_lexer": "ipython2",
   "version": "2.7.6"
  },
  "pycharm": {
   "stem_cell": {
    "cell_type": "raw",
    "source": [],
    "metadata": {
     "collapsed": false
    }
   }
  }
 },
 "nbformat": 4,
 "nbformat_minor": 0
}