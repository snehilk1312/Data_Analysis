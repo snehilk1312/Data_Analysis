{
 "cells": [
  {
   "cell_type": "code",
   "execution_count": 1,
   "metadata": {},
   "outputs": [],
   "source": [
    "import pandas as pd\n",
    "import matplotlib.pyplot as plt\n",
    "import seaborn as sns\n",
    "import numpy as np\n",
    "import pingouin as pg\n",
    "import scipy.stats as st\n",
    "import statsmodels.api as sm\n",
    "%matplotlib inline"
   ]
  },
  {
   "cell_type": "code",
   "execution_count": 2,
   "metadata": {},
   "outputs": [],
   "source": [
    "constructor = pd.read_csv('constructors.csv')"
   ]
  },
  {
   "cell_type": "code",
   "execution_count": 3,
   "metadata": {},
   "outputs": [],
   "source": [
    "constructor.drop(['url','Unnamed: 5' ],axis=1, inplace=True)"
   ]
  },
  {
   "cell_type": "code",
   "execution_count": 4,
   "metadata": {},
   "outputs": [],
   "source": [
    "constructor_result = pd.read_csv('constructorResults.csv')"
   ]
  },
  {
   "cell_type": "code",
   "execution_count": 5,
   "metadata": {},
   "outputs": [],
   "source": [
    "constructor_result.drop(['status','constructorResultsId'],axis=1, inplace=True)"
   ]
  },
  {
   "cell_type": "code",
   "execution_count": 6,
   "metadata": {},
   "outputs": [],
   "source": [
    "constructor_merged = pd.merge(constructor, constructor_result, how='inner', left_on='constructorId', right_on='constructorId')"
   ]
  },
  {
   "cell_type": "code",
   "execution_count": null,
   "metadata": {},
   "outputs": [],
   "source": []
  },
  {
   "cell_type": "code",
   "execution_count": 7,
   "metadata": {},
   "outputs": [],
   "source": [
    "results = pd.read_csv('results.csv')\n",
    "races = pd.read_csv('races.csv')"
   ]
  },
  {
   "cell_type": "code",
   "execution_count": 8,
   "metadata": {},
   "outputs": [],
   "source": [
    "races.drop(['url'], inplace=True, axis=1)"
   ]
  },
  {
   "cell_type": "code",
   "execution_count": 9,
   "metadata": {},
   "outputs": [],
   "source": [
    "races.columns=['raceId', 'year', 'round', 'circuitId', 'name', 'date', 'start_time']"
   ]
  },
  {
   "cell_type": "code",
   "execution_count": 10,
   "metadata": {},
   "outputs": [],
   "source": [
    "results_races_merged = pd.merge(results, races, how='inner', right_on = 'raceId', left_on='raceId')"
   ]
  },
  {
   "cell_type": "code",
   "execution_count": null,
   "metadata": {},
   "outputs": [],
   "source": []
  },
  {
   "cell_type": "code",
   "execution_count": 11,
   "metadata": {},
   "outputs": [],
   "source": [
    "drivers = pd.read_csv('drivers.csv',encoding='latin')"
   ]
  },
  {
   "cell_type": "code",
   "execution_count": 12,
   "metadata": {},
   "outputs": [],
   "source": [
    "drivers.drop(['url','number'], inplace=True, axis=1)"
   ]
  },
  {
   "cell_type": "code",
   "execution_count": null,
   "metadata": {},
   "outputs": [],
   "source": []
  },
  {
   "cell_type": "code",
   "execution_count": 13,
   "metadata": {},
   "outputs": [],
   "source": [
    "driver_standing = pd.read_csv('driverStandings.csv')"
   ]
  },
  {
   "cell_type": "code",
   "execution_count": null,
   "metadata": {},
   "outputs": [],
   "source": []
  },
  {
   "cell_type": "code",
   "execution_count": 14,
   "metadata": {},
   "outputs": [],
   "source": [
    "driver_standing.drop(['driverStandingsId'], axis=1, inplace=True)"
   ]
  },
  {
   "cell_type": "code",
   "execution_count": 15,
   "metadata": {},
   "outputs": [],
   "source": [
    "driver_standing_merged = pd.merge(driver_standing, drivers, how='inner', left_on='driverId', right_on='driverId')"
   ]
  },
  {
   "cell_type": "code",
   "execution_count": 16,
   "metadata": {},
   "outputs": [],
   "source": [
    "driver_standing_merged.drop(['positionText'], inplace=True, axis=1)"
   ]
  },
  {
   "cell_type": "code",
   "execution_count": null,
   "metadata": {},
   "outputs": [],
   "source": []
  },
  {
   "cell_type": "code",
   "execution_count": 17,
   "metadata": {},
   "outputs": [],
   "source": [
    "cons_stand = pd.read_csv('constructorStandings.csv')"
   ]
  },
  {
   "cell_type": "code",
   "execution_count": 18,
   "metadata": {},
   "outputs": [],
   "source": [
    "cons_stand.drop(['constructorStandingsId',  'Unnamed: 7'],axis=1, inplace=True)"
   ]
  },
  {
   "cell_type": "code",
   "execution_count": null,
   "metadata": {},
   "outputs": [],
   "source": []
  },
  {
   "cell_type": "code",
   "execution_count": 19,
   "metadata": {},
   "outputs": [],
   "source": [
    "status = pd.read_csv('status.csv')"
   ]
  },
  {
   "cell_type": "code",
   "execution_count": 20,
   "metadata": {},
   "outputs": [],
   "source": [
    "results_merged = pd.merge(results_races_merged, status, how='left', left_on='statusId', right_on='statusId')"
   ]
  },
  {
   "cell_type": "code",
   "execution_count": null,
   "metadata": {},
   "outputs": [],
   "source": []
  },
  {
   "cell_type": "code",
   "execution_count": 21,
   "metadata": {},
   "outputs": [
    {
     "data": {
      "text/plain": [
       "(23777, 25)"
      ]
     },
     "execution_count": 21,
     "metadata": {},
     "output_type": "execute_result"
    }
   ],
   "source": [
    "results_merged.shape"
   ]
  },
  {
   "cell_type": "code",
   "execution_count": 22,
   "metadata": {},
   "outputs": [
    {
     "data": {
      "text/plain": [
       "(31726, 11)"
      ]
     },
     "execution_count": 22,
     "metadata": {},
     "output_type": "execute_result"
    }
   ],
   "source": [
    "driver_standing_merged.shape"
   ]
  },
  {
   "cell_type": "code",
   "execution_count": 23,
   "metadata": {},
   "outputs": [
    {
     "data": {
      "text/plain": [
       "(11142, 6)"
      ]
     },
     "execution_count": 23,
     "metadata": {},
     "output_type": "execute_result"
    }
   ],
   "source": [
    "constructor_merged.shape"
   ]
  },
  {
   "cell_type": "code",
   "execution_count": 24,
   "metadata": {},
   "outputs": [
    {
     "data": {
      "text/plain": [
       "(11896, 6)"
      ]
     },
     "execution_count": 24,
     "metadata": {},
     "output_type": "execute_result"
    }
   ],
   "source": [
    "cons_stand.shape"
   ]
  },
  {
   "cell_type": "code",
   "execution_count": 25,
   "metadata": {},
   "outputs": [
    {
     "data": {
      "text/plain": [
       "6"
      ]
     },
     "execution_count": 25,
     "metadata": {},
     "output_type": "execute_result"
    }
   ],
   "source": [
    "results_merged['number'].isnull().sum()"
   ]
  },
  {
   "cell_type": "code",
   "execution_count": 26,
   "metadata": {},
   "outputs": [
    {
     "data": {
      "text/plain": [
       "Index(['resultId', 'raceId', 'driverId', 'constructorId', 'number', 'grid',\n",
       "       'position', 'positionText', 'positionOrder', 'points', 'laps', 'time',\n",
       "       'milliseconds', 'fastestLap', 'rank', 'fastestLapTime',\n",
       "       'fastestLapSpeed', 'statusId', 'year', 'round', 'circuitId', 'name',\n",
       "       'date', 'start_time', 'status'],\n",
       "      dtype='object')"
      ]
     },
     "execution_count": 26,
     "metadata": {},
     "output_type": "execute_result"
    }
   ],
   "source": [
    "results_merged.columns"
   ]
  },
  {
   "cell_type": "code",
   "execution_count": 27,
   "metadata": {},
   "outputs": [],
   "source": [
    "results_merged.drop(['positionText', 'position', 'start_time',  'circuitId', 'number', 'grid', 'resultId','date', 'rank','fastestLap','fastestLapTime' ,'time'], axis=1, inplace=True)"
   ]
  },
  {
   "cell_type": "code",
   "execution_count": null,
   "metadata": {},
   "outputs": [],
   "source": []
  },
  {
   "cell_type": "code",
   "execution_count": null,
   "metadata": {},
   "outputs": [],
   "source": []
  },
  {
   "cell_type": "code",
   "execution_count": null,
   "metadata": {},
   "outputs": [],
   "source": []
  },
  {
   "cell_type": "code",
   "execution_count": null,
   "metadata": {},
   "outputs": [],
   "source": []
  },
  {
   "cell_type": "code",
   "execution_count": 28,
   "metadata": {},
   "outputs": [
    {
     "data": {
      "text/plain": [
       "Index(['raceId', 'driverId', 'constructorId', 'positionOrder', 'points',\n",
       "       'laps', 'milliseconds', 'fastestLapSpeed', 'statusId', 'year', 'round',\n",
       "       'name', 'status'],\n",
       "      dtype='object')"
      ]
     },
     "execution_count": 28,
     "metadata": {},
     "output_type": "execute_result"
    }
   ],
   "source": [
    "results_merged.columns"
   ]
  },
  {
   "cell_type": "code",
   "execution_count": 29,
   "metadata": {},
   "outputs": [],
   "source": [
    "results_merged.sort_values(by=['year'], inplace=True)"
   ]
  },
  {
   "cell_type": "code",
   "execution_count": 30,
   "metadata": {},
   "outputs": [],
   "source": [
    "results_merged.reset_index(drop=True, inplace=True)"
   ]
  },
  {
   "cell_type": "code",
   "execution_count": null,
   "metadata": {},
   "outputs": [],
   "source": []
  },
  {
   "cell_type": "code",
   "execution_count": 31,
   "metadata": {},
   "outputs": [
    {
     "data": {
      "text/html": [
       "<div>\n",
       "<style scoped>\n",
       "    .dataframe tbody tr th:only-of-type {\n",
       "        vertical-align: middle;\n",
       "    }\n",
       "\n",
       "    .dataframe tbody tr th {\n",
       "        vertical-align: top;\n",
       "    }\n",
       "\n",
       "    .dataframe thead th {\n",
       "        text-align: right;\n",
       "    }\n",
       "</style>\n",
       "<table border=\"1\" class=\"dataframe\">\n",
       "  <thead>\n",
       "    <tr style=\"text-align: right;\">\n",
       "      <th></th>\n",
       "      <th>raceId</th>\n",
       "      <th>driverId</th>\n",
       "      <th>constructorId</th>\n",
       "      <th>positionOrder</th>\n",
       "      <th>points</th>\n",
       "      <th>laps</th>\n",
       "      <th>milliseconds</th>\n",
       "      <th>fastestLapSpeed</th>\n",
       "      <th>statusId</th>\n",
       "      <th>year</th>\n",
       "      <th>round</th>\n",
       "      <th>name</th>\n",
       "      <th>status</th>\n",
       "    </tr>\n",
       "  </thead>\n",
       "  <tbody>\n",
       "    <tr>\n",
       "      <th>23513</th>\n",
       "      <td>988</td>\n",
       "      <td>839</td>\n",
       "      <td>10</td>\n",
       "      <td>8</td>\n",
       "      <td>4.0</td>\n",
       "      <td>55</td>\n",
       "      <td>5752973.0</td>\n",
       "      <td>01:42.6</td>\n",
       "      <td>1</td>\n",
       "      <td>2017</td>\n",
       "      <td>20</td>\n",
       "      <td>Abu Dhabi Grand Prix</td>\n",
       "      <td>Finished</td>\n",
       "    </tr>\n",
       "  </tbody>\n",
       "</table>\n",
       "</div>"
      ],
      "text/plain": [
       "       raceId  driverId  constructorId  positionOrder  points  laps  \\\n",
       "23513     988       839             10              8     4.0    55   \n",
       "\n",
       "       milliseconds fastestLapSpeed  statusId  year  round  \\\n",
       "23513     5752973.0         01:42.6         1  2017     20   \n",
       "\n",
       "                       name    status  \n",
       "23513  Abu Dhabi Grand Prix  Finished  "
      ]
     },
     "execution_count": 31,
     "metadata": {},
     "output_type": "execute_result"
    }
   ],
   "source": [
    "results_merged[results_merged['fastestLapSpeed']=='01:42.6']"
   ]
  },
  {
   "cell_type": "code",
   "execution_count": 32,
   "metadata": {},
   "outputs": [],
   "source": [
    "results_merged.drop([23513], inplace=True)"
   ]
  },
  {
   "cell_type": "code",
   "execution_count": 33,
   "metadata": {},
   "outputs": [],
   "source": [
    "results_merged['fastestLapSpeed']=results_merged['fastestLapSpeed'].astype('float32')"
   ]
  },
  {
   "cell_type": "code",
   "execution_count": 34,
   "metadata": {},
   "outputs": [
    {
     "data": {
      "text/plain": [
       "count    5382.000000\n",
       "mean      200.745117\n",
       "std        21.293182\n",
       "min        89.540001\n",
       "25%       190.634995\n",
       "50%       202.447510\n",
       "75%       213.839996\n",
       "max       257.320007\n",
       "Name: fastestLapSpeed, dtype: float64"
      ]
     },
     "execution_count": 34,
     "metadata": {},
     "output_type": "execute_result"
    }
   ],
   "source": [
    "results_merged['fastestLapSpeed'].describe()"
   ]
  },
  {
   "cell_type": "code",
   "execution_count": 35,
   "metadata": {},
   "outputs": [
    {
     "data": {
      "text/plain": [
       "raceId                 0\n",
       "driverId               0\n",
       "constructorId          0\n",
       "positionOrder          0\n",
       "points                 0\n",
       "laps                   0\n",
       "milliseconds       17774\n",
       "fastestLapSpeed    18394\n",
       "statusId               0\n",
       "year                   0\n",
       "round                  0\n",
       "name                   0\n",
       "status                 0\n",
       "dtype: int64"
      ]
     },
     "execution_count": 35,
     "metadata": {},
     "output_type": "execute_result"
    }
   ],
   "source": [
    "results_merged.isna().sum()"
   ]
  },
  {
   "cell_type": "code",
   "execution_count": 36,
   "metadata": {},
   "outputs": [],
   "source": [
    "temp_df1 = results_merged[results_merged['fastestLapSpeed'].notna()]"
   ]
  },
  {
   "cell_type": "code",
   "execution_count": 37,
   "metadata": {},
   "outputs": [
    {
     "data": {
      "text/html": [
       "<div>\n",
       "<style scoped>\n",
       "    .dataframe tbody tr th:only-of-type {\n",
       "        vertical-align: middle;\n",
       "    }\n",
       "\n",
       "    .dataframe tbody tr th {\n",
       "        vertical-align: top;\n",
       "    }\n",
       "\n",
       "    .dataframe thead th {\n",
       "        text-align: right;\n",
       "    }\n",
       "</style>\n",
       "<table border=\"1\" class=\"dataframe\">\n",
       "  <thead>\n",
       "    <tr style=\"text-align: right;\">\n",
       "      <th></th>\n",
       "      <th>raceId</th>\n",
       "      <th>driverId</th>\n",
       "      <th>constructorId</th>\n",
       "      <th>positionOrder</th>\n",
       "      <th>points</th>\n",
       "      <th>laps</th>\n",
       "      <th>milliseconds</th>\n",
       "      <th>fastestLapSpeed</th>\n",
       "      <th>statusId</th>\n",
       "      <th>year</th>\n",
       "      <th>round</th>\n",
       "      <th>name</th>\n",
       "      <th>status</th>\n",
       "    </tr>\n",
       "  </thead>\n",
       "  <tbody>\n",
       "    <tr>\n",
       "      <th>18106</th>\n",
       "      <td>96</td>\n",
       "      <td>30</td>\n",
       "      <td>6</td>\n",
       "      <td>1</td>\n",
       "      <td>10.0</td>\n",
       "      <td>60</td>\n",
       "      <td>5555101.0</td>\n",
       "      <td>207.143997</td>\n",
       "      <td>1</td>\n",
       "      <td>2004</td>\n",
       "      <td>7</td>\n",
       "      <td>European Grand Prix</td>\n",
       "      <td>Finished</td>\n",
       "    </tr>\n",
       "    <tr>\n",
       "      <th>18108</th>\n",
       "      <td>95</td>\n",
       "      <td>21</td>\n",
       "      <td>15</td>\n",
       "      <td>19</td>\n",
       "      <td>0.0</td>\n",
       "      <td>2</td>\n",
       "      <td>NaN</td>\n",
       "      <td>148.804001</td>\n",
       "      <td>4</td>\n",
       "      <td>2004</td>\n",
       "      <td>6</td>\n",
       "      <td>Monaco Grand Prix</td>\n",
       "      <td>Collision</td>\n",
       "    </tr>\n",
       "    <tr>\n",
       "      <th>18109</th>\n",
       "      <td>95</td>\n",
       "      <td>45</td>\n",
       "      <td>17</td>\n",
       "      <td>15</td>\n",
       "      <td>0.0</td>\n",
       "      <td>12</td>\n",
       "      <td>NaN</td>\n",
       "      <td>151.406998</td>\n",
       "      <td>7</td>\n",
       "      <td>2004</td>\n",
       "      <td>6</td>\n",
       "      <td>Monaco Grand Prix</td>\n",
       "      <td>Transmission</td>\n",
       "    </tr>\n",
       "    <tr>\n",
       "      <th>18110</th>\n",
       "      <td>95</td>\n",
       "      <td>11</td>\n",
       "      <td>16</td>\n",
       "      <td>17</td>\n",
       "      <td>0.0</td>\n",
       "      <td>2</td>\n",
       "      <td>NaN</td>\n",
       "      <td>147.772995</td>\n",
       "      <td>5</td>\n",
       "      <td>2004</td>\n",
       "      <td>6</td>\n",
       "      <td>Monaco Grand Prix</td>\n",
       "      <td>Engine</td>\n",
       "    </tr>\n",
       "    <tr>\n",
       "      <th>18111</th>\n",
       "      <td>95</td>\n",
       "      <td>17</td>\n",
       "      <td>19</td>\n",
       "      <td>16</td>\n",
       "      <td>0.0</td>\n",
       "      <td>11</td>\n",
       "      <td>NaN</td>\n",
       "      <td>155.216003</td>\n",
       "      <td>6</td>\n",
       "      <td>2004</td>\n",
       "      <td>6</td>\n",
       "      <td>Monaco Grand Prix</td>\n",
       "      <td>Gearbox</td>\n",
       "    </tr>\n",
       "    <tr>\n",
       "      <th>...</th>\n",
       "      <td>...</td>\n",
       "      <td>...</td>\n",
       "      <td>...</td>\n",
       "      <td>...</td>\n",
       "      <td>...</td>\n",
       "      <td>...</td>\n",
       "      <td>...</td>\n",
       "      <td>...</td>\n",
       "      <td>...</td>\n",
       "      <td>...</td>\n",
       "      <td>...</td>\n",
       "      <td>...</td>\n",
       "      <td>...</td>\n",
       "    </tr>\n",
       "    <tr>\n",
       "      <th>23772</th>\n",
       "      <td>975</td>\n",
       "      <td>807</td>\n",
       "      <td>4</td>\n",
       "      <td>8</td>\n",
       "      <td>4.0</td>\n",
       "      <td>70</td>\n",
       "      <td>5645528.0</td>\n",
       "      <td>206.203995</td>\n",
       "      <td>1</td>\n",
       "      <td>2017</td>\n",
       "      <td>7</td>\n",
       "      <td>Canadian Grand Prix</td>\n",
       "      <td>Finished</td>\n",
       "    </tr>\n",
       "    <tr>\n",
       "      <th>23773</th>\n",
       "      <td>975</td>\n",
       "      <td>8</td>\n",
       "      <td>6</td>\n",
       "      <td>7</td>\n",
       "      <td>6.0</td>\n",
       "      <td>70</td>\n",
       "      <td>5643786.0</td>\n",
       "      <td>208.250000</td>\n",
       "      <td>1</td>\n",
       "      <td>2017</td>\n",
       "      <td>7</td>\n",
       "      <td>Canadian Grand Prix</td>\n",
       "      <td>Finished</td>\n",
       "    </tr>\n",
       "    <tr>\n",
       "      <th>23774</th>\n",
       "      <td>975</td>\n",
       "      <td>839</td>\n",
       "      <td>10</td>\n",
       "      <td>6</td>\n",
       "      <td>8.0</td>\n",
       "      <td>70</td>\n",
       "      <td>5625870.0</td>\n",
       "      <td>205.904007</td>\n",
       "      <td>1</td>\n",
       "      <td>2017</td>\n",
       "      <td>7</td>\n",
       "      <td>Canadian Grand Prix</td>\n",
       "      <td>Finished</td>\n",
       "    </tr>\n",
       "    <tr>\n",
       "      <th>23775</th>\n",
       "      <td>975</td>\n",
       "      <td>4</td>\n",
       "      <td>1</td>\n",
       "      <td>16</td>\n",
       "      <td>0.0</td>\n",
       "      <td>66</td>\n",
       "      <td>NaN</td>\n",
       "      <td>206.973999</td>\n",
       "      <td>131</td>\n",
       "      <td>2017</td>\n",
       "      <td>7</td>\n",
       "      <td>Canadian Grand Prix</td>\n",
       "      <td>Power Unit</td>\n",
       "    </tr>\n",
       "    <tr>\n",
       "      <th>23776</th>\n",
       "      <td>988</td>\n",
       "      <td>817</td>\n",
       "      <td>9</td>\n",
       "      <td>20</td>\n",
       "      <td>0.0</td>\n",
       "      <td>20</td>\n",
       "      <td>NaN</td>\n",
       "      <td>194.578995</td>\n",
       "      <td>9</td>\n",
       "      <td>2017</td>\n",
       "      <td>20</td>\n",
       "      <td>Abu Dhabi Grand Prix</td>\n",
       "      <td>Hydraulics</td>\n",
       "    </tr>\n",
       "  </tbody>\n",
       "</table>\n",
       "<p>5382 rows × 13 columns</p>\n",
       "</div>"
      ],
      "text/plain": [
       "       raceId  driverId  constructorId  positionOrder  points  laps  \\\n",
       "18106      96        30              6              1    10.0    60   \n",
       "18108      95        21             15             19     0.0     2   \n",
       "18109      95        45             17             15     0.0    12   \n",
       "18110      95        11             16             17     0.0     2   \n",
       "18111      95        17             19             16     0.0    11   \n",
       "...       ...       ...            ...            ...     ...   ...   \n",
       "23772     975       807              4              8     4.0    70   \n",
       "23773     975         8              6              7     6.0    70   \n",
       "23774     975       839             10              6     8.0    70   \n",
       "23775     975         4              1             16     0.0    66   \n",
       "23776     988       817              9             20     0.0    20   \n",
       "\n",
       "       milliseconds  fastestLapSpeed  statusId  year  round  \\\n",
       "18106     5555101.0       207.143997         1  2004      7   \n",
       "18108           NaN       148.804001         4  2004      6   \n",
       "18109           NaN       151.406998         7  2004      6   \n",
       "18110           NaN       147.772995         5  2004      6   \n",
       "18111           NaN       155.216003         6  2004      6   \n",
       "...             ...              ...       ...   ...    ...   \n",
       "23772     5645528.0       206.203995         1  2017      7   \n",
       "23773     5643786.0       208.250000         1  2017      7   \n",
       "23774     5625870.0       205.904007         1  2017      7   \n",
       "23775           NaN       206.973999       131  2017      7   \n",
       "23776           NaN       194.578995         9  2017     20   \n",
       "\n",
       "                       name        status  \n",
       "18106   European Grand Prix      Finished  \n",
       "18108     Monaco Grand Prix     Collision  \n",
       "18109     Monaco Grand Prix  Transmission  \n",
       "18110     Monaco Grand Prix        Engine  \n",
       "18111     Monaco Grand Prix       Gearbox  \n",
       "...                     ...           ...  \n",
       "23772   Canadian Grand Prix      Finished  \n",
       "23773   Canadian Grand Prix      Finished  \n",
       "23774   Canadian Grand Prix      Finished  \n",
       "23775   Canadian Grand Prix    Power Unit  \n",
       "23776  Abu Dhabi Grand Prix    Hydraulics  \n",
       "\n",
       "[5382 rows x 13 columns]"
      ]
     },
     "execution_count": 37,
     "metadata": {},
     "output_type": "execute_result"
    }
   ],
   "source": [
    "temp_df1"
   ]
  },
  {
   "cell_type": "code",
   "execution_count": 38,
   "metadata": {},
   "outputs": [],
   "source": [
    "temp_df1.set_index(['name', 'year'], inplace=True)\n"
   ]
  },
  {
   "cell_type": "code",
   "execution_count": 39,
   "metadata": {},
   "outputs": [],
   "source": [
    "temp_df1_sort = temp_df1.sort_index()"
   ]
  },
  {
   "cell_type": "code",
   "execution_count": 40,
   "metadata": {},
   "outputs": [
    {
     "data": {
      "text/html": [
       "<div>\n",
       "<style scoped>\n",
       "    .dataframe tbody tr th:only-of-type {\n",
       "        vertical-align: middle;\n",
       "    }\n",
       "\n",
       "    .dataframe tbody tr th {\n",
       "        vertical-align: top;\n",
       "    }\n",
       "\n",
       "    .dataframe thead th {\n",
       "        text-align: right;\n",
       "    }\n",
       "</style>\n",
       "<table border=\"1\" class=\"dataframe\">\n",
       "  <thead>\n",
       "    <tr style=\"text-align: right;\">\n",
       "      <th></th>\n",
       "      <th></th>\n",
       "      <th>raceId</th>\n",
       "      <th>driverId</th>\n",
       "      <th>constructorId</th>\n",
       "      <th>positionOrder</th>\n",
       "      <th>points</th>\n",
       "      <th>laps</th>\n",
       "      <th>milliseconds</th>\n",
       "      <th>fastestLapSpeed</th>\n",
       "      <th>statusId</th>\n",
       "      <th>round</th>\n",
       "      <th>status</th>\n",
       "    </tr>\n",
       "    <tr>\n",
       "      <th>name</th>\n",
       "      <th>year</th>\n",
       "      <th></th>\n",
       "      <th></th>\n",
       "      <th></th>\n",
       "      <th></th>\n",
       "      <th></th>\n",
       "      <th></th>\n",
       "      <th></th>\n",
       "      <th></th>\n",
       "      <th></th>\n",
       "      <th></th>\n",
       "      <th></th>\n",
       "    </tr>\n",
       "  </thead>\n",
       "  <tbody>\n",
       "    <tr>\n",
       "      <th rowspan=\"19\" valign=\"top\">Monaco Grand Prix</th>\n",
       "      <th>2004</th>\n",
       "      <td>95</td>\n",
       "      <td>21</td>\n",
       "      <td>15</td>\n",
       "      <td>19</td>\n",
       "      <td>0.0</td>\n",
       "      <td>2</td>\n",
       "      <td>NaN</td>\n",
       "      <td>148.804001</td>\n",
       "      <td>4</td>\n",
       "      <td>6</td>\n",
       "      <td>Collision</td>\n",
       "    </tr>\n",
       "    <tr>\n",
       "      <th>2004</th>\n",
       "      <td>95</td>\n",
       "      <td>45</td>\n",
       "      <td>17</td>\n",
       "      <td>15</td>\n",
       "      <td>0.0</td>\n",
       "      <td>12</td>\n",
       "      <td>NaN</td>\n",
       "      <td>151.406998</td>\n",
       "      <td>7</td>\n",
       "      <td>6</td>\n",
       "      <td>Transmission</td>\n",
       "    </tr>\n",
       "    <tr>\n",
       "      <th>2004</th>\n",
       "      <td>95</td>\n",
       "      <td>11</td>\n",
       "      <td>16</td>\n",
       "      <td>17</td>\n",
       "      <td>0.0</td>\n",
       "      <td>2</td>\n",
       "      <td>NaN</td>\n",
       "      <td>147.772995</td>\n",
       "      <td>5</td>\n",
       "      <td>6</td>\n",
       "      <td>Engine</td>\n",
       "    </tr>\n",
       "    <tr>\n",
       "      <th>2004</th>\n",
       "      <td>95</td>\n",
       "      <td>17</td>\n",
       "      <td>19</td>\n",
       "      <td>16</td>\n",
       "      <td>0.0</td>\n",
       "      <td>11</td>\n",
       "      <td>NaN</td>\n",
       "      <td>155.216003</td>\n",
       "      <td>6</td>\n",
       "      <td>6</td>\n",
       "      <td>Gearbox</td>\n",
       "    </tr>\n",
       "    <tr>\n",
       "      <th>2004</th>\n",
       "      <td>95</td>\n",
       "      <td>14</td>\n",
       "      <td>1</td>\n",
       "      <td>18</td>\n",
       "      <td>0.0</td>\n",
       "      <td>2</td>\n",
       "      <td>NaN</td>\n",
       "      <td>149.255005</td>\n",
       "      <td>4</td>\n",
       "      <td>6</td>\n",
       "      <td>Collision</td>\n",
       "    </tr>\n",
       "    <tr>\n",
       "      <th>2004</th>\n",
       "      <td>95</td>\n",
       "      <td>46</td>\n",
       "      <td>18</td>\n",
       "      <td>14</td>\n",
       "      <td>0.0</td>\n",
       "      <td>15</td>\n",
       "      <td>NaN</td>\n",
       "      <td>147.367004</td>\n",
       "      <td>6</td>\n",
       "      <td>6</td>\n",
       "      <td>Gearbox</td>\n",
       "    </tr>\n",
       "    <tr>\n",
       "      <th>2004</th>\n",
       "      <td>95</td>\n",
       "      <td>8</td>\n",
       "      <td>1</td>\n",
       "      <td>13</td>\n",
       "      <td>0.0</td>\n",
       "      <td>27</td>\n",
       "      <td>NaN</td>\n",
       "      <td>157.789001</td>\n",
       "      <td>63</td>\n",
       "      <td>6</td>\n",
       "      <td>Pneumatics</td>\n",
       "    </tr>\n",
       "    <tr>\n",
       "      <th>2004</th>\n",
       "      <td>95</td>\n",
       "      <td>30</td>\n",
       "      <td>6</td>\n",
       "      <td>11</td>\n",
       "      <td>0.0</td>\n",
       "      <td>45</td>\n",
       "      <td>NaN</td>\n",
       "      <td>161.528000</td>\n",
       "      <td>4</td>\n",
       "      <td>6</td>\n",
       "      <td>Collision</td>\n",
       "    </tr>\n",
       "    <tr>\n",
       "      <th>2004</th>\n",
       "      <td>95</td>\n",
       "      <td>4</td>\n",
       "      <td>4</td>\n",
       "      <td>12</td>\n",
       "      <td>0.0</td>\n",
       "      <td>41</td>\n",
       "      <td>NaN</td>\n",
       "      <td>159.837997</td>\n",
       "      <td>3</td>\n",
       "      <td>6</td>\n",
       "      <td>Accident</td>\n",
       "    </tr>\n",
       "    <tr>\n",
       "      <th>2004</th>\n",
       "      <td>95</td>\n",
       "      <td>15</td>\n",
       "      <td>4</td>\n",
       "      <td>1</td>\n",
       "      <td>10.0</td>\n",
       "      <td>77</td>\n",
       "      <td>6346601.0</td>\n",
       "      <td>160.598007</td>\n",
       "      <td>1</td>\n",
       "      <td>6</td>\n",
       "      <td>Finished</td>\n",
       "    </tr>\n",
       "    <tr>\n",
       "      <th>2004</th>\n",
       "      <td>95</td>\n",
       "      <td>22</td>\n",
       "      <td>6</td>\n",
       "      <td>3</td>\n",
       "      <td>6.0</td>\n",
       "      <td>77</td>\n",
       "      <td>6422367.0</td>\n",
       "      <td>158.705002</td>\n",
       "      <td>1</td>\n",
       "      <td>6</td>\n",
       "      <td>Finished</td>\n",
       "    </tr>\n",
       "    <tr>\n",
       "      <th>2004</th>\n",
       "      <td>95</td>\n",
       "      <td>31</td>\n",
       "      <td>3</td>\n",
       "      <td>4</td>\n",
       "      <td>5.0</td>\n",
       "      <td>76</td>\n",
       "      <td>NaN</td>\n",
       "      <td>159.479996</td>\n",
       "      <td>11</td>\n",
       "      <td>6</td>\n",
       "      <td>+1 Lap</td>\n",
       "    </tr>\n",
       "    <tr>\n",
       "      <th>2004</th>\n",
       "      <td>95</td>\n",
       "      <td>13</td>\n",
       "      <td>15</td>\n",
       "      <td>5</td>\n",
       "      <td>4.0</td>\n",
       "      <td>76</td>\n",
       "      <td>NaN</td>\n",
       "      <td>155.850006</td>\n",
       "      <td>11</td>\n",
       "      <td>6</td>\n",
       "      <td>+1 Lap</td>\n",
       "    </tr>\n",
       "    <tr>\n",
       "      <th>2004</th>\n",
       "      <td>95</td>\n",
       "      <td>43</td>\n",
       "      <td>7</td>\n",
       "      <td>6</td>\n",
       "      <td>3.0</td>\n",
       "      <td>76</td>\n",
       "      <td>NaN</td>\n",
       "      <td>157.729004</td>\n",
       "      <td>11</td>\n",
       "      <td>6</td>\n",
       "      <td>+1 Lap</td>\n",
       "    </tr>\n",
       "    <tr>\n",
       "      <th>2004</th>\n",
       "      <td>95</td>\n",
       "      <td>2</td>\n",
       "      <td>17</td>\n",
       "      <td>7</td>\n",
       "      <td>2.0</td>\n",
       "      <td>75</td>\n",
       "      <td>NaN</td>\n",
       "      <td>153.636993</td>\n",
       "      <td>12</td>\n",
       "      <td>6</td>\n",
       "      <td>+2 Laps</td>\n",
       "    </tr>\n",
       "    <tr>\n",
       "      <th>2004</th>\n",
       "      <td>95</td>\n",
       "      <td>44</td>\n",
       "      <td>7</td>\n",
       "      <td>8</td>\n",
       "      <td>1.0</td>\n",
       "      <td>74</td>\n",
       "      <td>NaN</td>\n",
       "      <td>157.188004</td>\n",
       "      <td>13</td>\n",
       "      <td>6</td>\n",
       "      <td>+3 Laps</td>\n",
       "    </tr>\n",
       "    <tr>\n",
       "      <th>2004</th>\n",
       "      <td>95</td>\n",
       "      <td>47</td>\n",
       "      <td>18</td>\n",
       "      <td>9</td>\n",
       "      <td>0.0</td>\n",
       "      <td>71</td>\n",
       "      <td>NaN</td>\n",
       "      <td>146.837997</td>\n",
       "      <td>16</td>\n",
       "      <td>6</td>\n",
       "      <td>+6 Laps</td>\n",
       "    </tr>\n",
       "    <tr>\n",
       "      <th>2004</th>\n",
       "      <td>95</td>\n",
       "      <td>23</td>\n",
       "      <td>3</td>\n",
       "      <td>10</td>\n",
       "      <td>0.0</td>\n",
       "      <td>69</td>\n",
       "      <td>NaN</td>\n",
       "      <td>154.972000</td>\n",
       "      <td>6</td>\n",
       "      <td>6</td>\n",
       "      <td>Gearbox</td>\n",
       "    </tr>\n",
       "    <tr>\n",
       "      <th>2004</th>\n",
       "      <td>95</td>\n",
       "      <td>18</td>\n",
       "      <td>16</td>\n",
       "      <td>2</td>\n",
       "      <td>8.0</td>\n",
       "      <td>77</td>\n",
       "      <td>6347098.0</td>\n",
       "      <td>159.850998</td>\n",
       "      <td>1</td>\n",
       "      <td>6</td>\n",
       "      <td>Finished</td>\n",
       "    </tr>\n",
       "  </tbody>\n",
       "</table>\n",
       "</div>"
      ],
      "text/plain": [
       "                        raceId  driverId  constructorId  positionOrder  \\\n",
       "name              year                                                   \n",
       "Monaco Grand Prix 2004      95        21             15             19   \n",
       "                  2004      95        45             17             15   \n",
       "                  2004      95        11             16             17   \n",
       "                  2004      95        17             19             16   \n",
       "                  2004      95        14              1             18   \n",
       "                  2004      95        46             18             14   \n",
       "                  2004      95         8              1             13   \n",
       "                  2004      95        30              6             11   \n",
       "                  2004      95         4              4             12   \n",
       "                  2004      95        15              4              1   \n",
       "                  2004      95        22              6              3   \n",
       "                  2004      95        31              3              4   \n",
       "                  2004      95        13             15              5   \n",
       "                  2004      95        43              7              6   \n",
       "                  2004      95         2             17              7   \n",
       "                  2004      95        44              7              8   \n",
       "                  2004      95        47             18              9   \n",
       "                  2004      95        23              3             10   \n",
       "                  2004      95        18             16              2   \n",
       "\n",
       "                        points  laps  milliseconds  fastestLapSpeed  statusId  \\\n",
       "name              year                                                          \n",
       "Monaco Grand Prix 2004     0.0     2           NaN       148.804001         4   \n",
       "                  2004     0.0    12           NaN       151.406998         7   \n",
       "                  2004     0.0     2           NaN       147.772995         5   \n",
       "                  2004     0.0    11           NaN       155.216003         6   \n",
       "                  2004     0.0     2           NaN       149.255005         4   \n",
       "                  2004     0.0    15           NaN       147.367004         6   \n",
       "                  2004     0.0    27           NaN       157.789001        63   \n",
       "                  2004     0.0    45           NaN       161.528000         4   \n",
       "                  2004     0.0    41           NaN       159.837997         3   \n",
       "                  2004    10.0    77     6346601.0       160.598007         1   \n",
       "                  2004     6.0    77     6422367.0       158.705002         1   \n",
       "                  2004     5.0    76           NaN       159.479996        11   \n",
       "                  2004     4.0    76           NaN       155.850006        11   \n",
       "                  2004     3.0    76           NaN       157.729004        11   \n",
       "                  2004     2.0    75           NaN       153.636993        12   \n",
       "                  2004     1.0    74           NaN       157.188004        13   \n",
       "                  2004     0.0    71           NaN       146.837997        16   \n",
       "                  2004     0.0    69           NaN       154.972000         6   \n",
       "                  2004     8.0    77     6347098.0       159.850998         1   \n",
       "\n",
       "                        round        status  \n",
       "name              year                       \n",
       "Monaco Grand Prix 2004      6     Collision  \n",
       "                  2004      6  Transmission  \n",
       "                  2004      6        Engine  \n",
       "                  2004      6       Gearbox  \n",
       "                  2004      6     Collision  \n",
       "                  2004      6       Gearbox  \n",
       "                  2004      6    Pneumatics  \n",
       "                  2004      6     Collision  \n",
       "                  2004      6      Accident  \n",
       "                  2004      6      Finished  \n",
       "                  2004      6      Finished  \n",
       "                  2004      6        +1 Lap  \n",
       "                  2004      6        +1 Lap  \n",
       "                  2004      6        +1 Lap  \n",
       "                  2004      6       +2 Laps  \n",
       "                  2004      6       +3 Laps  \n",
       "                  2004      6       +6 Laps  \n",
       "                  2004      6       Gearbox  \n",
       "                  2004      6      Finished  "
      ]
     },
     "execution_count": 40,
     "metadata": {},
     "output_type": "execute_result"
    }
   ],
   "source": [
    "temp_df1_sort.loc[('Monaco Grand Prix',2004),:]"
   ]
  },
  {
   "cell_type": "code",
   "execution_count": null,
   "metadata": {},
   "outputs": [],
   "source": []
  },
  {
   "cell_type": "code",
   "execution_count": 41,
   "metadata": {},
   "outputs": [
    {
     "data": {
      "text/plain": [
       "161.5279998779297"
      ]
     },
     "execution_count": 41,
     "metadata": {},
     "output_type": "execute_result"
    }
   ],
   "source": [
    "temp_df1_sort.loc[('Monaco Grand Prix',2004),:]['fastestLapSpeed'].max()"
   ]
  },
  {
   "cell_type": "code",
   "execution_count": null,
   "metadata": {},
   "outputs": [],
   "source": []
  },
  {
   "cell_type": "code",
   "execution_count": 42,
   "metadata": {},
   "outputs": [],
   "source": [
    "first=[]"
   ]
  },
  {
   "cell_type": "code",
   "execution_count": 43,
   "metadata": {},
   "outputs": [],
   "source": [
    "for i in temp_df1_sort.index:\n",
    "    first.append(i)"
   ]
  },
  {
   "cell_type": "code",
   "execution_count": 44,
   "metadata": {},
   "outputs": [],
   "source": [
    "first = sorted(list(set(first)))"
   ]
  },
  {
   "cell_type": "code",
   "execution_count": 45,
   "metadata": {},
   "outputs": [
    {
     "data": {
      "text/plain": [
       "262"
      ]
     },
     "execution_count": 45,
     "metadata": {},
     "output_type": "execute_result"
    }
   ],
   "source": [
    "len(first)"
   ]
  },
  {
   "cell_type": "code",
   "execution_count": 46,
   "metadata": {},
   "outputs": [],
   "source": [
    "my_dict = dict()"
   ]
  },
  {
   "cell_type": "code",
   "execution_count": 47,
   "metadata": {},
   "outputs": [],
   "source": [
    "for i in first:\n",
    "    #print(temp_df1_sort.loc[i,:]['fastestLapSpeed'].max())\n",
    "    my_dict[i] = temp_df1_sort.loc[i,:]['fastestLapSpeed'].max()"
   ]
  },
  {
   "cell_type": "code",
   "execution_count": null,
   "metadata": {},
   "outputs": [],
   "source": []
  },
  {
   "cell_type": "code",
   "execution_count": null,
   "metadata": {},
   "outputs": [],
   "source": [
    "\n"
   ]
  },
  {
   "cell_type": "code",
   "execution_count": 48,
   "metadata": {},
   "outputs": [],
   "source": [
    "a,b = [], []\n",
    "for k,v in my_dict.items():\n",
    "    a.append(k)\n",
    "    b.append(v)"
   ]
  },
  {
   "cell_type": "code",
   "execution_count": 49,
   "metadata": {},
   "outputs": [],
   "source": [
    "df_ =pd.DataFrame({'name':a, 'speed':b})"
   ]
  },
  {
   "cell_type": "code",
   "execution_count": 50,
   "metadata": {},
   "outputs": [],
   "source": [
    "gp=[]\n",
    "for i in first:\n",
    "    gp.append(i[0])\n",
    "gp = sorted(list(set(gp)))"
   ]
  },
  {
   "cell_type": "code",
   "execution_count": null,
   "metadata": {},
   "outputs": [],
   "source": []
  },
  {
   "cell_type": "code",
   "execution_count": null,
   "metadata": {},
   "outputs": [],
   "source": []
  },
  {
   "cell_type": "code",
   "execution_count": null,
   "metadata": {},
   "outputs": [],
   "source": []
  },
  {
   "cell_type": "code",
   "execution_count": 51,
   "metadata": {},
   "outputs": [],
   "source": [
    "df_[['GP_name', 'year']] = pd.DataFrame(df_['name'].values.tolist(), index=df_.index)"
   ]
  },
  {
   "cell_type": "code",
   "execution_count": 52,
   "metadata": {},
   "outputs": [],
   "source": [
    "df_.drop('name', inplace=True, axis=1)"
   ]
  },
  {
   "cell_type": "code",
   "execution_count": 53,
   "metadata": {},
   "outputs": [],
   "source": [
    "df_ = df_[['GP_name', 'year', 'speed']]"
   ]
  },
  {
   "cell_type": "code",
   "execution_count": 54,
   "metadata": {},
   "outputs": [],
   "source": [
    "df_.set_index(['GP_name'], inplace=True)"
   ]
  },
  {
   "cell_type": "code",
   "execution_count": 55,
   "metadata": {},
   "outputs": [
    {
     "data": {
      "text/html": [
       "<div>\n",
       "<style scoped>\n",
       "    .dataframe tbody tr th:only-of-type {\n",
       "        vertical-align: middle;\n",
       "    }\n",
       "\n",
       "    .dataframe tbody tr th {\n",
       "        vertical-align: top;\n",
       "    }\n",
       "\n",
       "    .dataframe thead th {\n",
       "        text-align: right;\n",
       "    }\n",
       "</style>\n",
       "<table border=\"1\" class=\"dataframe\">\n",
       "  <thead>\n",
       "    <tr style=\"text-align: right;\">\n",
       "      <th></th>\n",
       "      <th>year</th>\n",
       "      <th>speed</th>\n",
       "    </tr>\n",
       "    <tr>\n",
       "      <th>GP_name</th>\n",
       "      <th></th>\n",
       "      <th></th>\n",
       "    </tr>\n",
       "  </thead>\n",
       "  <tbody>\n",
       "    <tr>\n",
       "      <th>Abu Dhabi Grand Prix</th>\n",
       "      <td>2009</td>\n",
       "      <td>199.386993</td>\n",
       "    </tr>\n",
       "    <tr>\n",
       "      <th>Abu Dhabi Grand Prix</th>\n",
       "      <td>2010</td>\n",
       "      <td>197.427994</td>\n",
       "    </tr>\n",
       "    <tr>\n",
       "      <th>Abu Dhabi Grand Prix</th>\n",
       "      <td>2011</td>\n",
       "      <td>194.854004</td>\n",
       "    </tr>\n",
       "    <tr>\n",
       "      <th>Abu Dhabi Grand Prix</th>\n",
       "      <td>2012</td>\n",
       "      <td>192.320007</td>\n",
       "    </tr>\n",
       "    <tr>\n",
       "      <th>Abu Dhabi Grand Prix</th>\n",
       "      <td>2013</td>\n",
       "      <td>193.304993</td>\n",
       "    </tr>\n",
       "    <tr>\n",
       "      <th>...</th>\n",
       "      <td>...</td>\n",
       "      <td>...</td>\n",
       "    </tr>\n",
       "    <tr>\n",
       "      <th>United States Grand Prix</th>\n",
       "      <td>2013</td>\n",
       "      <td>198.753998</td>\n",
       "    </tr>\n",
       "    <tr>\n",
       "      <th>United States Grand Prix</th>\n",
       "      <td>2014</td>\n",
       "      <td>195.768005</td>\n",
       "    </tr>\n",
       "    <tr>\n",
       "      <th>United States Grand Prix</th>\n",
       "      <td>2015</td>\n",
       "      <td>197.154007</td>\n",
       "    </tr>\n",
       "    <tr>\n",
       "      <th>United States Grand Prix</th>\n",
       "      <td>2016</td>\n",
       "      <td>198.712006</td>\n",
       "    </tr>\n",
       "    <tr>\n",
       "      <th>United States Grand Prix</th>\n",
       "      <td>2017</td>\n",
       "      <td>203.003006</td>\n",
       "    </tr>\n",
       "  </tbody>\n",
       "</table>\n",
       "<p>262 rows × 2 columns</p>\n",
       "</div>"
      ],
      "text/plain": [
       "                          year       speed\n",
       "GP_name                                   \n",
       "Abu Dhabi Grand Prix      2009  199.386993\n",
       "Abu Dhabi Grand Prix      2010  197.427994\n",
       "Abu Dhabi Grand Prix      2011  194.854004\n",
       "Abu Dhabi Grand Prix      2012  192.320007\n",
       "Abu Dhabi Grand Prix      2013  193.304993\n",
       "...                        ...         ...\n",
       "United States Grand Prix  2013  198.753998\n",
       "United States Grand Prix  2014  195.768005\n",
       "United States Grand Prix  2015  197.154007\n",
       "United States Grand Prix  2016  198.712006\n",
       "United States Grand Prix  2017  203.003006\n",
       "\n",
       "[262 rows x 2 columns]"
      ]
     },
     "execution_count": 55,
     "metadata": {},
     "output_type": "execute_result"
    }
   ],
   "source": [
    "df_"
   ]
  },
  {
   "cell_type": "code",
   "execution_count": null,
   "metadata": {},
   "outputs": [],
   "source": []
  },
  {
   "cell_type": "code",
   "execution_count": null,
   "metadata": {},
   "outputs": [],
   "source": []
  },
  {
   "cell_type": "code",
   "execution_count": 56,
   "metadata": {},
   "outputs": [],
   "source": [
    "df_['Race']=df_.index"
   ]
  },
  {
   "cell_type": "code",
   "execution_count": 57,
   "metadata": {},
   "outputs": [
    {
     "data": {
      "text/plain": [
       "Text(0.5, 0.98, 'Fastest Lap in each Grand Prix (2004-2017)')"
      ]
     },
     "execution_count": 57,
     "metadata": {},
     "output_type": "execute_result"
    },
    {
     "data": {
      "image/png": "[encoded data removed]",
      "text/plain": [
       "<Figure size 1440x864 with 27 Axes>"
      ]
     },
     "metadata": {
      "needs_background": "light"
     },
     "output_type": "display_data"
    }
   ],
   "source": [
    "g = sns.FacetGrid(df_, col='Race',col_wrap=5, height=2,aspect=2)\n",
    "g = g.map(plt.plot,'year', \"speed\",marker=\".\").set(xticks=list(sorted(df_['year'].unique())), yticks=[150, 175, 200, 225, 250])\n",
    "#g.set(xticks=df_['year'])\n",
    "#plt.grid(b=True, which='major', color='#666666', linestyle='-')\n",
    "for ax in g.axes.flat:\n",
    "    for label in ax.get_yticklabels():\n",
    "        label.set_rotation(30)\n",
    "for ax in g.axes.flat:\n",
    "    for label in ax.get_xticklabels():\n",
    "        label.set_rotation(60)\n",
    "for ax in g.axes.flat:\n",
    "    ax.grid(b=True, which='major')\n",
    "    ax.grid(b=True, which='minor')\n",
    "\n",
    "plt.subplots_adjust(top=0.9)\n",
    "g.fig.suptitle('Fastest Lap in each Grand Prix (2004-2017)')\n",
    "#plt.savefig('lapspeed.png', bbox_inches='tight')"
   ]
  },
  {
   "cell_type": "code",
   "execution_count": 58,
   "metadata": {},
   "outputs": [
    {
     "data": {
      "text/html": [
       "<div>\n",
       "<style scoped>\n",
       "    .dataframe tbody tr th:only-of-type {\n",
       "        vertical-align: middle;\n",
       "    }\n",
       "\n",
       "    .dataframe tbody tr th {\n",
       "        vertical-align: top;\n",
       "    }\n",
       "\n",
       "    .dataframe thead th {\n",
       "        text-align: right;\n",
       "    }\n",
       "</style>\n",
       "<table border=\"1\" class=\"dataframe\">\n",
       "  <thead>\n",
       "    <tr style=\"text-align: right;\">\n",
       "      <th></th>\n",
       "      <th>raceId</th>\n",
       "      <th>driverId</th>\n",
       "      <th>constructorId</th>\n",
       "      <th>positionOrder</th>\n",
       "      <th>points</th>\n",
       "      <th>laps</th>\n",
       "      <th>milliseconds</th>\n",
       "      <th>fastestLapSpeed</th>\n",
       "      <th>statusId</th>\n",
       "      <th>year</th>\n",
       "      <th>round</th>\n",
       "      <th>name</th>\n",
       "      <th>status</th>\n",
       "    </tr>\n",
       "  </thead>\n",
       "  <tbody>\n",
       "    <tr>\n",
       "      <th>0</th>\n",
       "      <td>835</td>\n",
       "      <td>559</td>\n",
       "      <td>113</td>\n",
       "      <td>10</td>\n",
       "      <td>0.0</td>\n",
       "      <td>135</td>\n",
       "      <td>NaN</td>\n",
       "      <td>NaN</td>\n",
       "      <td>13</td>\n",
       "      <td>1950</td>\n",
       "      <td>3</td>\n",
       "      <td>Indianapolis 500</td>\n",
       "      <td>+3 Laps</td>\n",
       "    </tr>\n",
       "    <tr>\n",
       "      <th>1</th>\n",
       "      <td>835</td>\n",
       "      <td>796</td>\n",
       "      <td>158</td>\n",
       "      <td>22</td>\n",
       "      <td>0.0</td>\n",
       "      <td>123</td>\n",
       "      <td>NaN</td>\n",
       "      <td>NaN</td>\n",
       "      <td>112</td>\n",
       "      <td>1950</td>\n",
       "      <td>3</td>\n",
       "      <td>Indianapolis 500</td>\n",
       "      <td>+15 Laps</td>\n",
       "    </tr>\n",
       "    <tr>\n",
       "      <th>2</th>\n",
       "      <td>835</td>\n",
       "      <td>659</td>\n",
       "      <td>113</td>\n",
       "      <td>21</td>\n",
       "      <td>0.0</td>\n",
       "      <td>125</td>\n",
       "      <td>NaN</td>\n",
       "      <td>NaN</td>\n",
       "      <td>53</td>\n",
       "      <td>1950</td>\n",
       "      <td>3</td>\n",
       "      <td>Indianapolis 500</td>\n",
       "      <td>+13 Laps</td>\n",
       "    </tr>\n",
       "    <tr>\n",
       "      <th>3</th>\n",
       "      <td>835</td>\n",
       "      <td>677</td>\n",
       "      <td>105</td>\n",
       "      <td>20</td>\n",
       "      <td>0.0</td>\n",
       "      <td>126</td>\n",
       "      <td>NaN</td>\n",
       "      <td>NaN</td>\n",
       "      <td>55</td>\n",
       "      <td>1950</td>\n",
       "      <td>3</td>\n",
       "      <td>Indianapolis 500</td>\n",
       "      <td>+12 Laps</td>\n",
       "    </tr>\n",
       "    <tr>\n",
       "      <th>4</th>\n",
       "      <td>835</td>\n",
       "      <td>771</td>\n",
       "      <td>113</td>\n",
       "      <td>19</td>\n",
       "      <td>0.0</td>\n",
       "      <td>127</td>\n",
       "      <td>NaN</td>\n",
       "      <td>NaN</td>\n",
       "      <td>45</td>\n",
       "      <td>1950</td>\n",
       "      <td>3</td>\n",
       "      <td>Indianapolis 500</td>\n",
       "      <td>+11 Laps</td>\n",
       "    </tr>\n",
       "  </tbody>\n",
       "</table>\n",
       "</div>"
      ],
      "text/plain": [
       "   raceId  driverId  constructorId  positionOrder  points  laps  milliseconds  \\\n",
       "0     835       559            113             10     0.0   135           NaN   \n",
       "1     835       796            158             22     0.0   123           NaN   \n",
       "2     835       659            113             21     0.0   125           NaN   \n",
       "3     835       677            105             20     0.0   126           NaN   \n",
       "4     835       771            113             19     0.0   127           NaN   \n",
       "\n",
       "   fastestLapSpeed  statusId  year  round              name    status  \n",
       "0              NaN        13  1950      3  Indianapolis 500   +3 Laps  \n",
       "1              NaN       112  1950      3  Indianapolis 500  +15 Laps  \n",
       "2              NaN        53  1950      3  Indianapolis 500  +13 Laps  \n",
       "3              NaN        55  1950      3  Indianapolis 500  +12 Laps  \n",
       "4              NaN        45  1950      3  Indianapolis 500  +11 Laps  "
      ]
     },
     "execution_count": 58,
     "metadata": {},
     "output_type": "execute_result"
    }
   ],
   "source": [
    "results_merged.head()\n"
   ]
  },
  {
   "cell_type": "code",
   "execution_count": 59,
   "metadata": {},
   "outputs": [
    {
     "data": {
      "text/html": [
       "<div>\n",
       "<style scoped>\n",
       "    .dataframe tbody tr th:only-of-type {\n",
       "        vertical-align: middle;\n",
       "    }\n",
       "\n",
       "    .dataframe tbody tr th {\n",
       "        vertical-align: top;\n",
       "    }\n",
       "\n",
       "    .dataframe thead th {\n",
       "        text-align: right;\n",
       "    }\n",
       "</style>\n",
       "<table border=\"1\" class=\"dataframe\">\n",
       "  <thead>\n",
       "    <tr style=\"text-align: right;\">\n",
       "      <th></th>\n",
       "      <th>raceId</th>\n",
       "      <th>driverId</th>\n",
       "      <th>points</th>\n",
       "      <th>position</th>\n",
       "      <th>wins</th>\n",
       "      <th>driverRef</th>\n",
       "      <th>code</th>\n",
       "      <th>forename</th>\n",
       "      <th>surname</th>\n",
       "      <th>dob</th>\n",
       "      <th>nationality</th>\n",
       "    </tr>\n",
       "  </thead>\n",
       "  <tbody>\n",
       "    <tr>\n",
       "      <th>0</th>\n",
       "      <td>18</td>\n",
       "      <td>1</td>\n",
       "      <td>10.0</td>\n",
       "      <td>1</td>\n",
       "      <td>1</td>\n",
       "      <td>hamilton</td>\n",
       "      <td>HAM</td>\n",
       "      <td>Lewis</td>\n",
       "      <td>Hamilton</td>\n",
       "      <td>07/01/1985</td>\n",
       "      <td>British</td>\n",
       "    </tr>\n",
       "    <tr>\n",
       "      <th>1</th>\n",
       "      <td>19</td>\n",
       "      <td>1</td>\n",
       "      <td>14.0</td>\n",
       "      <td>1</td>\n",
       "      <td>1</td>\n",
       "      <td>hamilton</td>\n",
       "      <td>HAM</td>\n",
       "      <td>Lewis</td>\n",
       "      <td>Hamilton</td>\n",
       "      <td>07/01/1985</td>\n",
       "      <td>British</td>\n",
       "    </tr>\n",
       "    <tr>\n",
       "      <th>2</th>\n",
       "      <td>20</td>\n",
       "      <td>1</td>\n",
       "      <td>14.0</td>\n",
       "      <td>3</td>\n",
       "      <td>1</td>\n",
       "      <td>hamilton</td>\n",
       "      <td>HAM</td>\n",
       "      <td>Lewis</td>\n",
       "      <td>Hamilton</td>\n",
       "      <td>07/01/1985</td>\n",
       "      <td>British</td>\n",
       "    </tr>\n",
       "    <tr>\n",
       "      <th>3</th>\n",
       "      <td>21</td>\n",
       "      <td>1</td>\n",
       "      <td>20.0</td>\n",
       "      <td>2</td>\n",
       "      <td>1</td>\n",
       "      <td>hamilton</td>\n",
       "      <td>HAM</td>\n",
       "      <td>Lewis</td>\n",
       "      <td>Hamilton</td>\n",
       "      <td>07/01/1985</td>\n",
       "      <td>British</td>\n",
       "    </tr>\n",
       "    <tr>\n",
       "      <th>4</th>\n",
       "      <td>22</td>\n",
       "      <td>1</td>\n",
       "      <td>28.0</td>\n",
       "      <td>3</td>\n",
       "      <td>1</td>\n",
       "      <td>hamilton</td>\n",
       "      <td>HAM</td>\n",
       "      <td>Lewis</td>\n",
       "      <td>Hamilton</td>\n",
       "      <td>07/01/1985</td>\n",
       "      <td>British</td>\n",
       "    </tr>\n",
       "  </tbody>\n",
       "</table>\n",
       "</div>"
      ],
      "text/plain": [
       "   raceId  driverId  points  position  wins driverRef code forename   surname  \\\n",
       "0      18         1    10.0         1     1  hamilton  HAM    Lewis  Hamilton   \n",
       "1      19         1    14.0         1     1  hamilton  HAM    Lewis  Hamilton   \n",
       "2      20         1    14.0         3     1  hamilton  HAM    Lewis  Hamilton   \n",
       "3      21         1    20.0         2     1  hamilton  HAM    Lewis  Hamilton   \n",
       "4      22         1    28.0         3     1  hamilton  HAM    Lewis  Hamilton   \n",
       "\n",
       "          dob nationality  \n",
       "0  07/01/1985     British  \n",
       "1  07/01/1985     British  \n",
       "2  07/01/1985     British  \n",
       "3  07/01/1985     British  \n",
       "4  07/01/1985     British  "
      ]
     },
     "execution_count": 59,
     "metadata": {},
     "output_type": "execute_result"
    }
   ],
   "source": [
    "driver_standing_merged.head()\n"
   ]
  },
  {
   "cell_type": "code",
   "execution_count": 60,
   "metadata": {},
   "outputs": [
    {
     "data": {
      "text/html": [
       "<div>\n",
       "<style scoped>\n",
       "    .dataframe tbody tr th:only-of-type {\n",
       "        vertical-align: middle;\n",
       "    }\n",
       "\n",
       "    .dataframe tbody tr th {\n",
       "        vertical-align: top;\n",
       "    }\n",
       "\n",
       "    .dataframe thead th {\n",
       "        text-align: right;\n",
       "    }\n",
       "</style>\n",
       "<table border=\"1\" class=\"dataframe\">\n",
       "  <thead>\n",
       "    <tr style=\"text-align: right;\">\n",
       "      <th></th>\n",
       "      <th>constructorId</th>\n",
       "      <th>constructorRef</th>\n",
       "      <th>name</th>\n",
       "      <th>nationality</th>\n",
       "      <th>raceId</th>\n",
       "      <th>points</th>\n",
       "    </tr>\n",
       "  </thead>\n",
       "  <tbody>\n",
       "    <tr>\n",
       "      <th>0</th>\n",
       "      <td>1</td>\n",
       "      <td>mclaren</td>\n",
       "      <td>McLaren</td>\n",
       "      <td>British</td>\n",
       "      <td>18</td>\n",
       "      <td>14.0</td>\n",
       "    </tr>\n",
       "    <tr>\n",
       "      <th>1</th>\n",
       "      <td>1</td>\n",
       "      <td>mclaren</td>\n",
       "      <td>McLaren</td>\n",
       "      <td>British</td>\n",
       "      <td>19</td>\n",
       "      <td>10.0</td>\n",
       "    </tr>\n",
       "    <tr>\n",
       "      <th>2</th>\n",
       "      <td>1</td>\n",
       "      <td>mclaren</td>\n",
       "      <td>McLaren</td>\n",
       "      <td>British</td>\n",
       "      <td>20</td>\n",
       "      <td>4.0</td>\n",
       "    </tr>\n",
       "    <tr>\n",
       "      <th>3</th>\n",
       "      <td>1</td>\n",
       "      <td>mclaren</td>\n",
       "      <td>McLaren</td>\n",
       "      <td>British</td>\n",
       "      <td>21</td>\n",
       "      <td>6.0</td>\n",
       "    </tr>\n",
       "    <tr>\n",
       "      <th>4</th>\n",
       "      <td>1</td>\n",
       "      <td>mclaren</td>\n",
       "      <td>McLaren</td>\n",
       "      <td>British</td>\n",
       "      <td>22</td>\n",
       "      <td>8.0</td>\n",
       "    </tr>\n",
       "  </tbody>\n",
       "</table>\n",
       "</div>"
      ],
      "text/plain": [
       "   constructorId constructorRef     name nationality  raceId  points\n",
       "0              1        mclaren  McLaren     British      18    14.0\n",
       "1              1        mclaren  McLaren     British      19    10.0\n",
       "2              1        mclaren  McLaren     British      20     4.0\n",
       "3              1        mclaren  McLaren     British      21     6.0\n",
       "4              1        mclaren  McLaren     British      22     8.0"
      ]
     },
     "execution_count": 60,
     "metadata": {},
     "output_type": "execute_result"
    }
   ],
   "source": [
    "constructor_merged.head()\n"
   ]
  },
  {
   "cell_type": "code",
   "execution_count": 61,
   "metadata": {},
   "outputs": [
    {
     "data": {
      "text/html": [
       "<div>\n",
       "<style scoped>\n",
       "    .dataframe tbody tr th:only-of-type {\n",
       "        vertical-align: middle;\n",
       "    }\n",
       "\n",
       "    .dataframe tbody tr th {\n",
       "        vertical-align: top;\n",
       "    }\n",
       "\n",
       "    .dataframe thead th {\n",
       "        text-align: right;\n",
       "    }\n",
       "</style>\n",
       "<table border=\"1\" class=\"dataframe\">\n",
       "  <thead>\n",
       "    <tr style=\"text-align: right;\">\n",
       "      <th></th>\n",
       "      <th>raceId</th>\n",
       "      <th>constructorId</th>\n",
       "      <th>points</th>\n",
       "      <th>position</th>\n",
       "      <th>positionText</th>\n",
       "      <th>wins</th>\n",
       "    </tr>\n",
       "  </thead>\n",
       "  <tbody>\n",
       "    <tr>\n",
       "      <th>0</th>\n",
       "      <td>18</td>\n",
       "      <td>1</td>\n",
       "      <td>14.0</td>\n",
       "      <td>1</td>\n",
       "      <td>1</td>\n",
       "      <td>1</td>\n",
       "    </tr>\n",
       "    <tr>\n",
       "      <th>1</th>\n",
       "      <td>18</td>\n",
       "      <td>2</td>\n",
       "      <td>8.0</td>\n",
       "      <td>3</td>\n",
       "      <td>3</td>\n",
       "      <td>0</td>\n",
       "    </tr>\n",
       "    <tr>\n",
       "      <th>2</th>\n",
       "      <td>18</td>\n",
       "      <td>3</td>\n",
       "      <td>9.0</td>\n",
       "      <td>2</td>\n",
       "      <td>2</td>\n",
       "      <td>0</td>\n",
       "    </tr>\n",
       "    <tr>\n",
       "      <th>3</th>\n",
       "      <td>18</td>\n",
       "      <td>4</td>\n",
       "      <td>5.0</td>\n",
       "      <td>4</td>\n",
       "      <td>4</td>\n",
       "      <td>0</td>\n",
       "    </tr>\n",
       "    <tr>\n",
       "      <th>4</th>\n",
       "      <td>18</td>\n",
       "      <td>5</td>\n",
       "      <td>2.0</td>\n",
       "      <td>5</td>\n",
       "      <td>5</td>\n",
       "      <td>0</td>\n",
       "    </tr>\n",
       "  </tbody>\n",
       "</table>\n",
       "</div>"
      ],
      "text/plain": [
       "   raceId  constructorId  points  position positionText  wins\n",
       "0      18              1    14.0         1            1     1\n",
       "1      18              2     8.0         3            3     0\n",
       "2      18              3     9.0         2            2     0\n",
       "3      18              4     5.0         4            4     0\n",
       "4      18              5     2.0         5            5     0"
      ]
     },
     "execution_count": 61,
     "metadata": {},
     "output_type": "execute_result"
    }
   ],
   "source": [
    "cons_stand.head()"
   ]
  },
  {
   "cell_type": "code",
   "execution_count": 62,
   "metadata": {},
   "outputs": [],
   "source": [
    "cons_stand.sort_values(by=['raceId', 'position'], inplace=True)"
   ]
  },
  {
   "cell_type": "code",
   "execution_count": 63,
   "metadata": {},
   "outputs": [
    {
     "data": {
      "text/html": [
       "<div>\n",
       "<style scoped>\n",
       "    .dataframe tbody tr th:only-of-type {\n",
       "        vertical-align: middle;\n",
       "    }\n",
       "\n",
       "    .dataframe tbody tr th {\n",
       "        vertical-align: top;\n",
       "    }\n",
       "\n",
       "    .dataframe thead th {\n",
       "        text-align: right;\n",
       "    }\n",
       "</style>\n",
       "<table border=\"1\" class=\"dataframe\">\n",
       "  <thead>\n",
       "    <tr style=\"text-align: right;\">\n",
       "      <th></th>\n",
       "      <th>raceId</th>\n",
       "      <th>constructorId</th>\n",
       "      <th>points</th>\n",
       "      <th>position</th>\n",
       "      <th>positionText</th>\n",
       "      <th>wins</th>\n",
       "    </tr>\n",
       "  </thead>\n",
       "  <tbody>\n",
       "    <tr>\n",
       "      <th>3674</th>\n",
       "      <td>1</td>\n",
       "      <td>23</td>\n",
       "      <td>18.0</td>\n",
       "      <td>1</td>\n",
       "      <td>1</td>\n",
       "      <td>1</td>\n",
       "    </tr>\n",
       "    <tr>\n",
       "      <th>3673</th>\n",
       "      <td>1</td>\n",
       "      <td>7</td>\n",
       "      <td>11.0</td>\n",
       "      <td>2</td>\n",
       "      <td>2</td>\n",
       "      <td>0</td>\n",
       "    </tr>\n",
       "    <tr>\n",
       "      <th>3672</th>\n",
       "      <td>1</td>\n",
       "      <td>4</td>\n",
       "      <td>4.0</td>\n",
       "      <td>3</td>\n",
       "      <td>3</td>\n",
       "      <td>0</td>\n",
       "    </tr>\n",
       "    <tr>\n",
       "      <th>3671</th>\n",
       "      <td>1</td>\n",
       "      <td>3</td>\n",
       "      <td>3.0</td>\n",
       "      <td>4</td>\n",
       "      <td>4</td>\n",
       "      <td>0</td>\n",
       "    </tr>\n",
       "    <tr>\n",
       "      <th>3670</th>\n",
       "      <td>1</td>\n",
       "      <td>5</td>\n",
       "      <td>3.0</td>\n",
       "      <td>5</td>\n",
       "      <td>5</td>\n",
       "      <td>0</td>\n",
       "    </tr>\n",
       "    <tr>\n",
       "      <th>...</th>\n",
       "      <td>...</td>\n",
       "      <td>...</td>\n",
       "      <td>...</td>\n",
       "      <td>...</td>\n",
       "      <td>...</td>\n",
       "      <td>...</td>\n",
       "    </tr>\n",
       "    <tr>\n",
       "      <th>11892</th>\n",
       "      <td>988</td>\n",
       "      <td>4</td>\n",
       "      <td>57.0</td>\n",
       "      <td>6</td>\n",
       "      <td>6</td>\n",
       "      <td>0</td>\n",
       "    </tr>\n",
       "    <tr>\n",
       "      <th>11891</th>\n",
       "      <td>988</td>\n",
       "      <td>5</td>\n",
       "      <td>53.0</td>\n",
       "      <td>7</td>\n",
       "      <td>7</td>\n",
       "      <td>0</td>\n",
       "    </tr>\n",
       "    <tr>\n",
       "      <th>11895</th>\n",
       "      <td>988</td>\n",
       "      <td>210</td>\n",
       "      <td>47.0</td>\n",
       "      <td>8</td>\n",
       "      <td>8</td>\n",
       "      <td>0</td>\n",
       "    </tr>\n",
       "    <tr>\n",
       "      <th>11894</th>\n",
       "      <td>988</td>\n",
       "      <td>1</td>\n",
       "      <td>30.0</td>\n",
       "      <td>9</td>\n",
       "      <td>9</td>\n",
       "      <td>0</td>\n",
       "    </tr>\n",
       "    <tr>\n",
       "      <th>11893</th>\n",
       "      <td>988</td>\n",
       "      <td>15</td>\n",
       "      <td>5.0</td>\n",
       "      <td>10</td>\n",
       "      <td>10</td>\n",
       "      <td>0</td>\n",
       "    </tr>\n",
       "  </tbody>\n",
       "</table>\n",
       "<p>11896 rows × 6 columns</p>\n",
       "</div>"
      ],
      "text/plain": [
       "       raceId  constructorId  points  position positionText  wins\n",
       "3674        1             23    18.0         1            1     1\n",
       "3673        1              7    11.0         2            2     0\n",
       "3672        1              4     4.0         3            3     0\n",
       "3671        1              3     3.0         4            4     0\n",
       "3670        1              5     3.0         5            5     0\n",
       "...       ...            ...     ...       ...          ...   ...\n",
       "11892     988              4    57.0         6            6     0\n",
       "11891     988              5    53.0         7            7     0\n",
       "11895     988            210    47.0         8            8     0\n",
       "11894     988              1    30.0         9            9     0\n",
       "11893     988             15     5.0        10           10     0\n",
       "\n",
       "[11896 rows x 6 columns]"
      ]
     },
     "execution_count": 63,
     "metadata": {},
     "output_type": "execute_result"
    }
   ],
   "source": [
    "cons_stand"
   ]
  },
  {
   "cell_type": "code",
   "execution_count": 64,
   "metadata": {},
   "outputs": [],
   "source": [
    "temp_df2 = constructor_merged.drop(['points', 'raceId'], axis=1)"
   ]
  },
  {
   "cell_type": "code",
   "execution_count": null,
   "metadata": {},
   "outputs": [],
   "source": []
  },
  {
   "cell_type": "code",
   "execution_count": null,
   "metadata": {},
   "outputs": [],
   "source": []
  },
  {
   "cell_type": "code",
   "execution_count": null,
   "metadata": {},
   "outputs": [],
   "source": []
  },
  {
   "cell_type": "code",
   "execution_count": 65,
   "metadata": {},
   "outputs": [],
   "source": [
    "temp_df2 = temp_df2.drop_duplicates(keep='first')"
   ]
  },
  {
   "cell_type": "code",
   "execution_count": 66,
   "metadata": {},
   "outputs": [
    {
     "data": {
      "text/html": [
       "<div>\n",
       "<style scoped>\n",
       "    .dataframe tbody tr th:only-of-type {\n",
       "        vertical-align: middle;\n",
       "    }\n",
       "\n",
       "    .dataframe tbody tr th {\n",
       "        vertical-align: top;\n",
       "    }\n",
       "\n",
       "    .dataframe thead th {\n",
       "        text-align: right;\n",
       "    }\n",
       "</style>\n",
       "<table border=\"1\" class=\"dataframe\">\n",
       "  <thead>\n",
       "    <tr style=\"text-align: right;\">\n",
       "      <th></th>\n",
       "      <th>constructorId</th>\n",
       "      <th>constructorRef</th>\n",
       "      <th>name</th>\n",
       "      <th>nationality</th>\n",
       "    </tr>\n",
       "  </thead>\n",
       "  <tbody>\n",
       "    <tr>\n",
       "      <th>0</th>\n",
       "      <td>1</td>\n",
       "      <td>mclaren</td>\n",
       "      <td>McLaren</td>\n",
       "      <td>British</td>\n",
       "    </tr>\n",
       "    <tr>\n",
       "      <th>780</th>\n",
       "      <td>2</td>\n",
       "      <td>bmw_sauber</td>\n",
       "      <td>BMW Sauber</td>\n",
       "      <td>German</td>\n",
       "    </tr>\n",
       "    <tr>\n",
       "      <th>851</th>\n",
       "      <td>3</td>\n",
       "      <td>williams</td>\n",
       "      <td>Williams</td>\n",
       "      <td>British</td>\n",
       "    </tr>\n",
       "    <tr>\n",
       "      <th>1546</th>\n",
       "      <td>4</td>\n",
       "      <td>renault</td>\n",
       "      <td>Renault</td>\n",
       "      <td>French</td>\n",
       "    </tr>\n",
       "    <tr>\n",
       "      <th>1890</th>\n",
       "      <td>5</td>\n",
       "      <td>toro_rosso</td>\n",
       "      <td>Toro Rosso</td>\n",
       "      <td>Italian</td>\n",
       "    </tr>\n",
       "    <tr>\n",
       "      <th>...</th>\n",
       "      <td>...</td>\n",
       "      <td>...</td>\n",
       "      <td>...</td>\n",
       "      <td>...</td>\n",
       "    </tr>\n",
       "    <tr>\n",
       "      <th>10870</th>\n",
       "      <td>206</td>\n",
       "      <td>marussia</td>\n",
       "      <td>Marussia</td>\n",
       "      <td>Russian</td>\n",
       "    </tr>\n",
       "    <tr>\n",
       "      <th>10929</th>\n",
       "      <td>207</td>\n",
       "      <td>caterham</td>\n",
       "      <td>Caterham</td>\n",
       "      <td>Malaysian</td>\n",
       "    </tr>\n",
       "    <tr>\n",
       "      <th>10985</th>\n",
       "      <td>208</td>\n",
       "      <td>lotus_f1</td>\n",
       "      <td>Lotus F1</td>\n",
       "      <td>British</td>\n",
       "    </tr>\n",
       "    <tr>\n",
       "      <th>11062</th>\n",
       "      <td>209</td>\n",
       "      <td>manor</td>\n",
       "      <td>Manor Marussia</td>\n",
       "      <td>British</td>\n",
       "    </tr>\n",
       "    <tr>\n",
       "      <th>11101</th>\n",
       "      <td>210</td>\n",
       "      <td>haas</td>\n",
       "      <td>Haas F1 Team</td>\n",
       "      <td>American</td>\n",
       "    </tr>\n",
       "  </tbody>\n",
       "</table>\n",
       "<p>172 rows × 4 columns</p>\n",
       "</div>"
      ],
      "text/plain": [
       "       constructorId constructorRef            name nationality\n",
       "0                  1        mclaren         McLaren     British\n",
       "780                2     bmw_sauber      BMW Sauber      German\n",
       "851                3       williams        Williams     British\n",
       "1546               4        renault         Renault      French\n",
       "1890               5     toro_rosso      Toro Rosso     Italian\n",
       "...              ...            ...             ...         ...\n",
       "10870            206       marussia        Marussia     Russian\n",
       "10929            207       caterham        Caterham   Malaysian\n",
       "10985            208       lotus_f1        Lotus F1     British\n",
       "11062            209          manor  Manor Marussia     British\n",
       "11101            210           haas    Haas F1 Team    American\n",
       "\n",
       "[172 rows x 4 columns]"
      ]
     },
     "execution_count": 66,
     "metadata": {},
     "output_type": "execute_result"
    }
   ],
   "source": [
    "temp_df2"
   ]
  },
  {
   "cell_type": "code",
   "execution_count": 67,
   "metadata": {},
   "outputs": [],
   "source": [
    "temp_df2 = pd.merge(results_merged, temp_df2, how='inner', left_on='constructorId', right_on='constructorId')"
   ]
  },
  {
   "cell_type": "code",
   "execution_count": null,
   "metadata": {},
   "outputs": [],
   "source": []
  },
  {
   "cell_type": "code",
   "execution_count": 68,
   "metadata": {},
   "outputs": [],
   "source": [
    "temp_df2.sort_values(by=['raceId', 'positionOrder'], inplace=True)"
   ]
  },
  {
   "cell_type": "code",
   "execution_count": 69,
   "metadata": {},
   "outputs": [],
   "source": [
    "temp_l = list(temp_df2.columns)\n",
    "temp_l[11] = 'race_name'\n",
    "temp_l[14] = 'constructor_name'"
   ]
  },
  {
   "cell_type": "code",
   "execution_count": 70,
   "metadata": {},
   "outputs": [],
   "source": [
    "temp_df2.columns=temp_l"
   ]
  },
  {
   "cell_type": "code",
   "execution_count": 71,
   "metadata": {},
   "outputs": [],
   "source": [
    "temp_df2.reset_index(drop=True, inplace=True)"
   ]
  },
  {
   "cell_type": "code",
   "execution_count": null,
   "metadata": {},
   "outputs": [],
   "source": []
  },
  {
   "cell_type": "code",
   "execution_count": 72,
   "metadata": {},
   "outputs": [
    {
     "data": {
      "text/html": [
       "<div>\n",
       "<style scoped>\n",
       "    .dataframe tbody tr th:only-of-type {\n",
       "        vertical-align: middle;\n",
       "    }\n",
       "\n",
       "    .dataframe tbody tr th {\n",
       "        vertical-align: top;\n",
       "    }\n",
       "\n",
       "    .dataframe thead th {\n",
       "        text-align: right;\n",
       "    }\n",
       "</style>\n",
       "<table border=\"1\" class=\"dataframe\">\n",
       "  <thead>\n",
       "    <tr style=\"text-align: right;\">\n",
       "      <th></th>\n",
       "      <th>raceId</th>\n",
       "      <th>driverId</th>\n",
       "      <th>constructorId</th>\n",
       "      <th>positionOrder</th>\n",
       "      <th>points</th>\n",
       "      <th>laps</th>\n",
       "      <th>milliseconds</th>\n",
       "      <th>fastestLapSpeed</th>\n",
       "      <th>statusId</th>\n",
       "      <th>year</th>\n",
       "      <th>round</th>\n",
       "      <th>race_name</th>\n",
       "      <th>status</th>\n",
       "      <th>constructorRef</th>\n",
       "      <th>constructor_name</th>\n",
       "      <th>nationality</th>\n",
       "    </tr>\n",
       "  </thead>\n",
       "  <tbody>\n",
       "    <tr>\n",
       "      <th>0</th>\n",
       "      <td>1</td>\n",
       "      <td>18</td>\n",
       "      <td>23</td>\n",
       "      <td>1</td>\n",
       "      <td>10.0</td>\n",
       "      <td>58</td>\n",
       "      <td>5655784.0</td>\n",
       "      <td>216.891006</td>\n",
       "      <td>1</td>\n",
       "      <td>2009</td>\n",
       "      <td>1</td>\n",
       "      <td>Australian Grand Prix</td>\n",
       "      <td>Finished</td>\n",
       "      <td>brawn</td>\n",
       "      <td>Brawn</td>\n",
       "      <td>British</td>\n",
       "    </tr>\n",
       "    <tr>\n",
       "      <th>1</th>\n",
       "      <td>1</td>\n",
       "      <td>22</td>\n",
       "      <td>23</td>\n",
       "      <td>2</td>\n",
       "      <td>8.0</td>\n",
       "      <td>58</td>\n",
       "      <td>5656591.0</td>\n",
       "      <td>214.343994</td>\n",
       "      <td>1</td>\n",
       "      <td>2009</td>\n",
       "      <td>1</td>\n",
       "      <td>Australian Grand Prix</td>\n",
       "      <td>Finished</td>\n",
       "      <td>brawn</td>\n",
       "      <td>Brawn</td>\n",
       "      <td>British</td>\n",
       "    </tr>\n",
       "    <tr>\n",
       "      <th>2</th>\n",
       "      <td>1</td>\n",
       "      <td>15</td>\n",
       "      <td>7</td>\n",
       "      <td>3</td>\n",
       "      <td>6.0</td>\n",
       "      <td>58</td>\n",
       "      <td>5657388.0</td>\n",
       "      <td>214.705994</td>\n",
       "      <td>1</td>\n",
       "      <td>2009</td>\n",
       "      <td>1</td>\n",
       "      <td>Australian Grand Prix</td>\n",
       "      <td>Finished</td>\n",
       "      <td>toyota</td>\n",
       "      <td>Toyota</td>\n",
       "      <td>Japanese</td>\n",
       "    </tr>\n",
       "    <tr>\n",
       "      <th>3</th>\n",
       "      <td>1</td>\n",
       "      <td>10</td>\n",
       "      <td>7</td>\n",
       "      <td>4</td>\n",
       "      <td>5.0</td>\n",
       "      <td>58</td>\n",
       "      <td>5660219.0</td>\n",
       "      <td>215.919998</td>\n",
       "      <td>1</td>\n",
       "      <td>2009</td>\n",
       "      <td>1</td>\n",
       "      <td>Australian Grand Prix</td>\n",
       "      <td>Finished</td>\n",
       "      <td>toyota</td>\n",
       "      <td>Toyota</td>\n",
       "      <td>Japanese</td>\n",
       "    </tr>\n",
       "    <tr>\n",
       "      <th>4</th>\n",
       "      <td>1</td>\n",
       "      <td>4</td>\n",
       "      <td>4</td>\n",
       "      <td>5</td>\n",
       "      <td>4.0</td>\n",
       "      <td>58</td>\n",
       "      <td>5660663.0</td>\n",
       "      <td>215.199005</td>\n",
       "      <td>1</td>\n",
       "      <td>2009</td>\n",
       "      <td>1</td>\n",
       "      <td>Australian Grand Prix</td>\n",
       "      <td>Finished</td>\n",
       "      <td>renault</td>\n",
       "      <td>Renault</td>\n",
       "      <td>French</td>\n",
       "    </tr>\n",
       "    <tr>\n",
       "      <th>...</th>\n",
       "      <td>...</td>\n",
       "      <td>...</td>\n",
       "      <td>...</td>\n",
       "      <td>...</td>\n",
       "      <td>...</td>\n",
       "      <td>...</td>\n",
       "      <td>...</td>\n",
       "      <td>...</td>\n",
       "      <td>...</td>\n",
       "      <td>...</td>\n",
       "      <td>...</td>\n",
       "      <td>...</td>\n",
       "      <td>...</td>\n",
       "      <td>...</td>\n",
       "      <td>...</td>\n",
       "      <td>...</td>\n",
       "    </tr>\n",
       "    <tr>\n",
       "      <th>23483</th>\n",
       "      <td>988</td>\n",
       "      <td>842</td>\n",
       "      <td>5</td>\n",
       "      <td>16</td>\n",
       "      <td>0.0</td>\n",
       "      <td>54</td>\n",
       "      <td>NaN</td>\n",
       "      <td>192.542007</td>\n",
       "      <td>11</td>\n",
       "      <td>2017</td>\n",
       "      <td>20</td>\n",
       "      <td>Abu Dhabi Grand Prix</td>\n",
       "      <td>+1 Lap</td>\n",
       "      <td>toro_rosso</td>\n",
       "      <td>Toro Rosso</td>\n",
       "      <td>Italian</td>\n",
       "    </tr>\n",
       "    <tr>\n",
       "      <th>23484</th>\n",
       "      <td>988</td>\n",
       "      <td>828</td>\n",
       "      <td>15</td>\n",
       "      <td>17</td>\n",
       "      <td>0.0</td>\n",
       "      <td>54</td>\n",
       "      <td>NaN</td>\n",
       "      <td>193.057007</td>\n",
       "      <td>11</td>\n",
       "      <td>2017</td>\n",
       "      <td>20</td>\n",
       "      <td>Abu Dhabi Grand Prix</td>\n",
       "      <td>+1 Lap</td>\n",
       "      <td>sauber</td>\n",
       "      <td>Sauber</td>\n",
       "      <td>Swiss</td>\n",
       "    </tr>\n",
       "    <tr>\n",
       "      <th>23485</th>\n",
       "      <td>988</td>\n",
       "      <td>840</td>\n",
       "      <td>3</td>\n",
       "      <td>18</td>\n",
       "      <td>0.0</td>\n",
       "      <td>54</td>\n",
       "      <td>NaN</td>\n",
       "      <td>195.401993</td>\n",
       "      <td>11</td>\n",
       "      <td>2017</td>\n",
       "      <td>20</td>\n",
       "      <td>Abu Dhabi Grand Prix</td>\n",
       "      <td>+1 Lap</td>\n",
       "      <td>williams</td>\n",
       "      <td>Williams</td>\n",
       "      <td>British</td>\n",
       "    </tr>\n",
       "    <tr>\n",
       "      <th>23486</th>\n",
       "      <td>988</td>\n",
       "      <td>832</td>\n",
       "      <td>4</td>\n",
       "      <td>19</td>\n",
       "      <td>0.0</td>\n",
       "      <td>31</td>\n",
       "      <td>NaN</td>\n",
       "      <td>193.410004</td>\n",
       "      <td>36</td>\n",
       "      <td>2017</td>\n",
       "      <td>20</td>\n",
       "      <td>Abu Dhabi Grand Prix</td>\n",
       "      <td>Wheel</td>\n",
       "      <td>renault</td>\n",
       "      <td>Renault</td>\n",
       "      <td>French</td>\n",
       "    </tr>\n",
       "    <tr>\n",
       "      <th>23487</th>\n",
       "      <td>988</td>\n",
       "      <td>817</td>\n",
       "      <td>9</td>\n",
       "      <td>20</td>\n",
       "      <td>0.0</td>\n",
       "      <td>20</td>\n",
       "      <td>NaN</td>\n",
       "      <td>194.578995</td>\n",
       "      <td>9</td>\n",
       "      <td>2017</td>\n",
       "      <td>20</td>\n",
       "      <td>Abu Dhabi Grand Prix</td>\n",
       "      <td>Hydraulics</td>\n",
       "      <td>red_bull</td>\n",
       "      <td>Red Bull</td>\n",
       "      <td>Austrian</td>\n",
       "    </tr>\n",
       "  </tbody>\n",
       "</table>\n",
       "<p>23488 rows × 16 columns</p>\n",
       "</div>"
      ],
      "text/plain": [
       "       raceId  driverId  constructorId  positionOrder  points  laps  \\\n",
       "0           1        18             23              1    10.0    58   \n",
       "1           1        22             23              2     8.0    58   \n",
       "2           1        15              7              3     6.0    58   \n",
       "3           1        10              7              4     5.0    58   \n",
       "4           1         4              4              5     4.0    58   \n",
       "...       ...       ...            ...            ...     ...   ...   \n",
       "23483     988       842              5             16     0.0    54   \n",
       "23484     988       828             15             17     0.0    54   \n",
       "23485     988       840              3             18     0.0    54   \n",
       "23486     988       832              4             19     0.0    31   \n",
       "23487     988       817              9             20     0.0    20   \n",
       "\n",
       "       milliseconds  fastestLapSpeed  statusId  year  round  \\\n",
       "0         5655784.0       216.891006         1  2009      1   \n",
       "1         5656591.0       214.343994         1  2009      1   \n",
       "2         5657388.0       214.705994         1  2009      1   \n",
       "3         5660219.0       215.919998         1  2009      1   \n",
       "4         5660663.0       215.199005         1  2009      1   \n",
       "...             ...              ...       ...   ...    ...   \n",
       "23483           NaN       192.542007        11  2017     20   \n",
       "23484           NaN       193.057007        11  2017     20   \n",
       "23485           NaN       195.401993        11  2017     20   \n",
       "23486           NaN       193.410004        36  2017     20   \n",
       "23487           NaN       194.578995         9  2017     20   \n",
       "\n",
       "                   race_name      status constructorRef constructor_name  \\\n",
       "0      Australian Grand Prix    Finished          brawn            Brawn   \n",
       "1      Australian Grand Prix    Finished          brawn            Brawn   \n",
       "2      Australian Grand Prix    Finished         toyota           Toyota   \n",
       "3      Australian Grand Prix    Finished         toyota           Toyota   \n",
       "4      Australian Grand Prix    Finished        renault          Renault   \n",
       "...                      ...         ...            ...              ...   \n",
       "23483   Abu Dhabi Grand Prix      +1 Lap     toro_rosso       Toro Rosso   \n",
       "23484   Abu Dhabi Grand Prix      +1 Lap         sauber           Sauber   \n",
       "23485   Abu Dhabi Grand Prix      +1 Lap       williams         Williams   \n",
       "23486   Abu Dhabi Grand Prix       Wheel        renault          Renault   \n",
       "23487   Abu Dhabi Grand Prix  Hydraulics       red_bull         Red Bull   \n",
       "\n",
       "      nationality  \n",
       "0         British  \n",
       "1         British  \n",
       "2        Japanese  \n",
       "3        Japanese  \n",
       "4          French  \n",
       "...           ...  \n",
       "23483     Italian  \n",
       "23484       Swiss  \n",
       "23485     British  \n",
       "23486      French  \n",
       "23487    Austrian  \n",
       "\n",
       "[23488 rows x 16 columns]"
      ]
     },
     "execution_count": 72,
     "metadata": {},
     "output_type": "execute_result"
    }
   ],
   "source": [
    "temp_df2"
   ]
  },
  {
   "cell_type": "code",
   "execution_count": 73,
   "metadata": {},
   "outputs": [],
   "source": [
    "top_10=temp_df2.groupby('raceId').head(10).reset_index(drop=True)"
   ]
  },
  {
   "cell_type": "code",
   "execution_count": 74,
   "metadata": {},
   "outputs": [],
   "source": [
    "top_5=temp_df2.groupby('raceId').head(5).reset_index(drop=True)"
   ]
  },
  {
   "cell_type": "code",
   "execution_count": 75,
   "metadata": {},
   "outputs": [],
   "source": [
    "top_3=temp_df2.groupby('raceId').head(3).reset_index(drop=True)"
   ]
  },
  {
   "cell_type": "code",
   "execution_count": 76,
   "metadata": {},
   "outputs": [],
   "source": [
    "top_1 = temp_df2.groupby('raceId').head(1).reset_index(drop=True)"
   ]
  },
  {
   "cell_type": "code",
   "execution_count": 77,
   "metadata": {},
   "outputs": [],
   "source": [
    "c=[1,3,5,10]\n",
    "a1=[]\n",
    "for h in c:\n",
    "    dff = temp_df2.groupby('raceId').head(h).reset_index(drop=True)\n",
    "    dff['freq'] = dff.groupby('nationality')['nationality'].transform('count')\n",
    "    dff.sort_values(by=['freq'], ascending=False, inplace=True)\n",
    "    dff = dff.drop_duplicates(subset=['nationality'])\n",
    "    dff.reset_index(drop=True, inplace=True)\n",
    "    dff = dff[['freq','nationality']]\n",
    "    a1.append(dff)"
   ]
  },
  {
   "cell_type": "code",
   "execution_count": 78,
   "metadata": {},
   "outputs": [],
   "source": [
    "dff1,dff3,dff5,dff10 = a1[0], a1[1], a1[2], a1[3]"
   ]
  },
  {
   "cell_type": "code",
   "execution_count": 79,
   "metadata": {},
   "outputs": [],
   "source": [
    "nation_df = pd.merge(dff1, dff3 , how='inner', left_on='nationality', right_on='nationality')"
   ]
  },
  {
   "cell_type": "code",
   "execution_count": 80,
   "metadata": {},
   "outputs": [],
   "source": [
    "nation_df = pd.merge(nation_df, dff5 , how='inner', left_on='nationality', right_on='nationality')"
   ]
  },
  {
   "cell_type": "code",
   "execution_count": 81,
   "metadata": {},
   "outputs": [],
   "source": [
    "nation_df = pd.merge(nation_df, dff10 , how='inner', left_on='nationality', right_on='nationality')"
   ]
  },
  {
   "cell_type": "code",
   "execution_count": 82,
   "metadata": {},
   "outputs": [],
   "source": [
    "nation_df.columns = ['top', 'nationality', 'top3', 'top5', 'top10']"
   ]
  },
  {
   "cell_type": "code",
   "execution_count": 83,
   "metadata": {},
   "outputs": [],
   "source": [
    "nation_df = nation_df[[ 'nationality', 'top','top3', 'top5', 'top10']]"
   ]
  },
  {
   "cell_type": "code",
   "execution_count": null,
   "metadata": {},
   "outputs": [],
   "source": []
  },
  {
   "cell_type": "code",
   "execution_count": 84,
   "metadata": {},
   "outputs": [
    {
     "data": {
      "image/png": "[encoded data removed]",
      "text/plain": [
       "<Figure size 1440x1440 with 4 Axes>"
      ]
     },
     "metadata": {
      "needs_background": "light"
     },
     "output_type": "display_data"
    }
   ],
   "source": [
    "fig = plt.figure(figsize=(20,20))\n",
    "plt.subplot(221)\n",
    "_=sns.barplot(x='top', y='nationality', data=nation_df[:30],palette='coolwarm_r').set_title('Top')\n",
    "plt.subplot(222)\n",
    "_=sns.barplot(x='top3', y='nationality', data=nation_df[:30],palette='coolwarm_r').set_title(\"Podium Finish\")\n",
    "_ =ax= plt.gca()\n",
    "_= ax.set_ylabel('')\n",
    "plt.subplot(223)\n",
    "_=sns.barplot(x='top5', y='nationality', data=nation_df[:30],palette='coolwarm_r').set_title(\"Top_5\")\n",
    "plt.subplot(224)\n",
    "_=sns.barplot(x='top10',y='nationality', data=nation_df[:30],palette='coolwarm_r').set_title(\"Top_10\")\n",
    "_ =ax= plt.gca()\n",
    "_= ax.set_ylabel('')\n",
    "#plt.savefig('nationality.png', bbox_inches='tight')"
   ]
  },
  {
   "cell_type": "code",
   "execution_count": 85,
   "metadata": {},
   "outputs": [],
   "source": [
    "top_10['freq'] = top_10.groupby('constructor_name')['constructor_name'].transform('count')"
   ]
  },
  {
   "cell_type": "code",
   "execution_count": 86,
   "metadata": {},
   "outputs": [],
   "source": [
    "top_5['freq'] = top_5.groupby('constructor_name')['constructor_name'].transform('count')"
   ]
  },
  {
   "cell_type": "code",
   "execution_count": 87,
   "metadata": {},
   "outputs": [],
   "source": [
    "top_3['freq'] =top_3.groupby('constructor_name')['constructor_name'].transform('count')"
   ]
  },
  {
   "cell_type": "code",
   "execution_count": 88,
   "metadata": {},
   "outputs": [],
   "source": [
    "top_1['freq'] = top_1.groupby('constructor_name')['constructor_name'].transform('count')"
   ]
  },
  {
   "cell_type": "code",
   "execution_count": null,
   "metadata": {},
   "outputs": [],
   "source": []
  },
  {
   "cell_type": "code",
   "execution_count": 89,
   "metadata": {},
   "outputs": [],
   "source": [
    "top_10.sort_values(by=['freq'], ascending=False, inplace=True)"
   ]
  },
  {
   "cell_type": "code",
   "execution_count": 90,
   "metadata": {},
   "outputs": [],
   "source": [
    "top_5.sort_values(by=['freq'], ascending=False, inplace=True)"
   ]
  },
  {
   "cell_type": "code",
   "execution_count": 91,
   "metadata": {},
   "outputs": [],
   "source": [
    "top_3.sort_values(by=['freq'], ascending=False, inplace=True)"
   ]
  },
  {
   "cell_type": "code",
   "execution_count": 92,
   "metadata": {},
   "outputs": [],
   "source": [
    "top_1.sort_values(by=['freq'], ascending=False, inplace=True)"
   ]
  },
  {
   "cell_type": "code",
   "execution_count": 93,
   "metadata": {},
   "outputs": [],
   "source": [
    "freq_10 = top_10.drop_duplicates(subset=['constructor_name'])"
   ]
  },
  {
   "cell_type": "code",
   "execution_count": 94,
   "metadata": {},
   "outputs": [],
   "source": [
    "freq_5 = top_5.drop_duplicates(subset=['constructor_name'])"
   ]
  },
  {
   "cell_type": "code",
   "execution_count": 95,
   "metadata": {},
   "outputs": [],
   "source": [
    "freq_3 = top_3.drop_duplicates(subset=['constructor_name'])"
   ]
  },
  {
   "cell_type": "code",
   "execution_count": 96,
   "metadata": {},
   "outputs": [],
   "source": [
    "freq_1 = top_1.drop_duplicates(subset=['constructor_name'])"
   ]
  },
  {
   "cell_type": "code",
   "execution_count": 97,
   "metadata": {},
   "outputs": [],
   "source": [
    "freq_10.reset_index(drop=True, inplace=True)"
   ]
  },
  {
   "cell_type": "code",
   "execution_count": 98,
   "metadata": {},
   "outputs": [],
   "source": [
    "freq_5.reset_index(drop=True, inplace=True)"
   ]
  },
  {
   "cell_type": "code",
   "execution_count": 99,
   "metadata": {},
   "outputs": [],
   "source": [
    "freq_3.reset_index(drop=True, inplace=True)"
   ]
  },
  {
   "cell_type": "code",
   "execution_count": 100,
   "metadata": {},
   "outputs": [],
   "source": [
    "freq_1.reset_index(drop=True, inplace=True)"
   ]
  },
  {
   "cell_type": "code",
   "execution_count": 101,
   "metadata": {},
   "outputs": [],
   "source": [
    "freq_1 = freq_1[['constructor_name', 'freq', 'nationality',  'constructorId']]"
   ]
  },
  {
   "cell_type": "code",
   "execution_count": 102,
   "metadata": {},
   "outputs": [],
   "source": [
    "freq_3 = freq_3[['constructor_name', 'freq']]"
   ]
  },
  {
   "cell_type": "code",
   "execution_count": 103,
   "metadata": {},
   "outputs": [],
   "source": [
    "freq_5 = freq_5[['constructor_name', 'freq']]"
   ]
  },
  {
   "cell_type": "code",
   "execution_count": 104,
   "metadata": {},
   "outputs": [],
   "source": [
    "freq_10 = freq_10[['constructor_name', 'freq']]"
   ]
  },
  {
   "cell_type": "code",
   "execution_count": 105,
   "metadata": {},
   "outputs": [],
   "source": [
    "final_freq = pd.merge(freq_1, freq_3, how='inner', left_on='constructor_name', right_on='constructor_name')"
   ]
  },
  {
   "cell_type": "code",
   "execution_count": 106,
   "metadata": {},
   "outputs": [],
   "source": [
    "final_freq = pd.merge(final_freq, freq_5, how='inner', left_on='constructor_name', right_on='constructor_name')"
   ]
  },
  {
   "cell_type": "code",
   "execution_count": 107,
   "metadata": {},
   "outputs": [],
   "source": [
    "final_freq = pd.merge(final_freq, freq_10, how='inner', left_on='constructor_name', right_on='constructor_name')"
   ]
  },
  {
   "cell_type": "code",
   "execution_count": 108,
   "metadata": {},
   "outputs": [],
   "source": [
    "final_freq.columns = ['constructor_name', 'top_position', 'nationality', 'constructorId', 'top3_finish', 'top5_finish', 'top10_finish']"
   ]
  },
  {
   "cell_type": "code",
   "execution_count": 109,
   "metadata": {},
   "outputs": [],
   "source": [
    "final_freq = final_freq[['constructor_name', 'constructorId', 'nationality', 'top_position', 'top3_finish', 'top5_finish', 'top10_finish']]"
   ]
  },
  {
   "cell_type": "code",
   "execution_count": null,
   "metadata": {},
   "outputs": [],
   "source": []
  },
  {
   "cell_type": "code",
   "execution_count": 144,
   "metadata": {},
   "outputs": [
    {
     "data": {
      "image/png": "[encoded data removed]",
      "text/plain": [
       "<Figure size 1440x1440 with 4 Axes>"
      ]
     },
     "metadata": {
      "needs_background": "light"
     },
     "output_type": "display_data"
    }
   ],
   "source": [
    "fig = plt.figure(figsize=(20,20))\n",
    "plt.subplot(221)\n",
    "_=sns.barplot(x='top_position', y='constructor_name', data=final_freq[:30],palette='coolwarm_r').set_title('Top')\n",
    "plt.subplot(222)\n",
    "_=sns.barplot(x='top3_finish', y='constructor_name', data=final_freq[:30],palette='coolwarm_r').set_title(\"Podium Finish\")\n",
    "_ =ax= plt.gca()\n",
    "_= ax.set_ylabel('')\n",
    "plt.subplot(223)\n",
    "_=sns.barplot(x='top5_finish', y='constructor_name', data=final_freq[:30],palette='seismic_r').set_title(\"Top_5\")\n",
    "plt.subplot(224)\n",
    "_=sns.barplot(x='top10_finish',y='constructor_name', data=final_freq[:30],palette='seismic_r').set_title(\"Top_10\")\n",
    "_ =ax= plt.gca()\n",
    "_= ax.set_ylabel('')\n",
    "plt.savefig('Constructors.png', bbox_inches='tight')"
   ]
  },
  {
   "cell_type": "code",
   "execution_count": 145,
   "metadata": {},
   "outputs": [
    {
     "data": {
      "image/png": "[encoded data removed]",
      "text/plain": [
       "<Figure size 720x720 with 1 Axes>"
      ]
     },
     "metadata": {
      "needs_background": "light"
     },
     "output_type": "display_data"
    }
   ],
   "source": [
    "fig, ax = plt.subplots(figsize=(10,10))\n",
    "ax=sns.kdeplot(final_freq['top_position'], \n",
    "               color='red',\n",
    "               shade=True)\n",
    "ax=sns.kdeplot(final_freq['top3_finish'], \n",
    "               color='black',\n",
    "               shade=True)\n",
    "ax=sns.kdeplot(final_freq['top5_finish'], \n",
    "               color='blue',\n",
    "               shade=True)\n",
    "ax=sns.kdeplot(final_freq['top10_finish'], \n",
    "               color='green',\n",
    "               shade=True)\n",
    "ax.set_ylabel('Density')\n",
    "ax.set_title('Density Plot of Constructors for Top, Top3, Top5, Top10 Finishes')\n",
    "plt.savefig('density_cons.png', bbox_inches='tight')"
   ]
  },
  {
   "cell_type": "code",
   "execution_count": 112,
   "metadata": {},
   "outputs": [
    {
     "data": {
      "text/html": [
       "<div>\n",
       "<style scoped>\n",
       "    .dataframe tbody tr th:only-of-type {\n",
       "        vertical-align: middle;\n",
       "    }\n",
       "\n",
       "    .dataframe tbody tr th {\n",
       "        vertical-align: top;\n",
       "    }\n",
       "\n",
       "    .dataframe thead th {\n",
       "        text-align: right;\n",
       "    }\n",
       "</style>\n",
       "<table border=\"1\" class=\"dataframe\">\n",
       "  <thead>\n",
       "    <tr style=\"text-align: right;\">\n",
       "      <th></th>\n",
       "      <th>raceId</th>\n",
       "      <th>driverId</th>\n",
       "      <th>constructorId</th>\n",
       "      <th>positionOrder</th>\n",
       "      <th>points</th>\n",
       "      <th>laps</th>\n",
       "      <th>milliseconds</th>\n",
       "      <th>fastestLapSpeed</th>\n",
       "      <th>statusId</th>\n",
       "      <th>year</th>\n",
       "      <th>round</th>\n",
       "      <th>race_name</th>\n",
       "      <th>status</th>\n",
       "      <th>constructorRef</th>\n",
       "      <th>constructor_name</th>\n",
       "      <th>nationality</th>\n",
       "    </tr>\n",
       "  </thead>\n",
       "  <tbody>\n",
       "    <tr>\n",
       "      <th>0</th>\n",
       "      <td>1</td>\n",
       "      <td>18</td>\n",
       "      <td>23</td>\n",
       "      <td>1</td>\n",
       "      <td>10.0</td>\n",
       "      <td>58</td>\n",
       "      <td>5655784.0</td>\n",
       "      <td>216.891006</td>\n",
       "      <td>1</td>\n",
       "      <td>2009</td>\n",
       "      <td>1</td>\n",
       "      <td>Australian Grand Prix</td>\n",
       "      <td>Finished</td>\n",
       "      <td>brawn</td>\n",
       "      <td>Brawn</td>\n",
       "      <td>British</td>\n",
       "    </tr>\n",
       "    <tr>\n",
       "      <th>1</th>\n",
       "      <td>1</td>\n",
       "      <td>22</td>\n",
       "      <td>23</td>\n",
       "      <td>2</td>\n",
       "      <td>8.0</td>\n",
       "      <td>58</td>\n",
       "      <td>5656591.0</td>\n",
       "      <td>214.343994</td>\n",
       "      <td>1</td>\n",
       "      <td>2009</td>\n",
       "      <td>1</td>\n",
       "      <td>Australian Grand Prix</td>\n",
       "      <td>Finished</td>\n",
       "      <td>brawn</td>\n",
       "      <td>Brawn</td>\n",
       "      <td>British</td>\n",
       "    </tr>\n",
       "    <tr>\n",
       "      <th>2</th>\n",
       "      <td>1</td>\n",
       "      <td>15</td>\n",
       "      <td>7</td>\n",
       "      <td>3</td>\n",
       "      <td>6.0</td>\n",
       "      <td>58</td>\n",
       "      <td>5657388.0</td>\n",
       "      <td>214.705994</td>\n",
       "      <td>1</td>\n",
       "      <td>2009</td>\n",
       "      <td>1</td>\n",
       "      <td>Australian Grand Prix</td>\n",
       "      <td>Finished</td>\n",
       "      <td>toyota</td>\n",
       "      <td>Toyota</td>\n",
       "      <td>Japanese</td>\n",
       "    </tr>\n",
       "    <tr>\n",
       "      <th>3</th>\n",
       "      <td>1</td>\n",
       "      <td>10</td>\n",
       "      <td>7</td>\n",
       "      <td>4</td>\n",
       "      <td>5.0</td>\n",
       "      <td>58</td>\n",
       "      <td>5660219.0</td>\n",
       "      <td>215.919998</td>\n",
       "      <td>1</td>\n",
       "      <td>2009</td>\n",
       "      <td>1</td>\n",
       "      <td>Australian Grand Prix</td>\n",
       "      <td>Finished</td>\n",
       "      <td>toyota</td>\n",
       "      <td>Toyota</td>\n",
       "      <td>Japanese</td>\n",
       "    </tr>\n",
       "    <tr>\n",
       "      <th>4</th>\n",
       "      <td>1</td>\n",
       "      <td>4</td>\n",
       "      <td>4</td>\n",
       "      <td>5</td>\n",
       "      <td>4.0</td>\n",
       "      <td>58</td>\n",
       "      <td>5660663.0</td>\n",
       "      <td>215.199005</td>\n",
       "      <td>1</td>\n",
       "      <td>2009</td>\n",
       "      <td>1</td>\n",
       "      <td>Australian Grand Prix</td>\n",
       "      <td>Finished</td>\n",
       "      <td>renault</td>\n",
       "      <td>Renault</td>\n",
       "      <td>French</td>\n",
       "    </tr>\n",
       "    <tr>\n",
       "      <th>...</th>\n",
       "      <td>...</td>\n",
       "      <td>...</td>\n",
       "      <td>...</td>\n",
       "      <td>...</td>\n",
       "      <td>...</td>\n",
       "      <td>...</td>\n",
       "      <td>...</td>\n",
       "      <td>...</td>\n",
       "      <td>...</td>\n",
       "      <td>...</td>\n",
       "      <td>...</td>\n",
       "      <td>...</td>\n",
       "      <td>...</td>\n",
       "      <td>...</td>\n",
       "      <td>...</td>\n",
       "      <td>...</td>\n",
       "    </tr>\n",
       "    <tr>\n",
       "      <th>23483</th>\n",
       "      <td>988</td>\n",
       "      <td>842</td>\n",
       "      <td>5</td>\n",
       "      <td>16</td>\n",
       "      <td>0.0</td>\n",
       "      <td>54</td>\n",
       "      <td>NaN</td>\n",
       "      <td>192.542007</td>\n",
       "      <td>11</td>\n",
       "      <td>2017</td>\n",
       "      <td>20</td>\n",
       "      <td>Abu Dhabi Grand Prix</td>\n",
       "      <td>+1 Lap</td>\n",
       "      <td>toro_rosso</td>\n",
       "      <td>Toro Rosso</td>\n",
       "      <td>Italian</td>\n",
       "    </tr>\n",
       "    <tr>\n",
       "      <th>23484</th>\n",
       "      <td>988</td>\n",
       "      <td>828</td>\n",
       "      <td>15</td>\n",
       "      <td>17</td>\n",
       "      <td>0.0</td>\n",
       "      <td>54</td>\n",
       "      <td>NaN</td>\n",
       "      <td>193.057007</td>\n",
       "      <td>11</td>\n",
       "      <td>2017</td>\n",
       "      <td>20</td>\n",
       "      <td>Abu Dhabi Grand Prix</td>\n",
       "      <td>+1 Lap</td>\n",
       "      <td>sauber</td>\n",
       "      <td>Sauber</td>\n",
       "      <td>Swiss</td>\n",
       "    </tr>\n",
       "    <tr>\n",
       "      <th>23485</th>\n",
       "      <td>988</td>\n",
       "      <td>840</td>\n",
       "      <td>3</td>\n",
       "      <td>18</td>\n",
       "      <td>0.0</td>\n",
       "      <td>54</td>\n",
       "      <td>NaN</td>\n",
       "      <td>195.401993</td>\n",
       "      <td>11</td>\n",
       "      <td>2017</td>\n",
       "      <td>20</td>\n",
       "      <td>Abu Dhabi Grand Prix</td>\n",
       "      <td>+1 Lap</td>\n",
       "      <td>williams</td>\n",
       "      <td>Williams</td>\n",
       "      <td>British</td>\n",
       "    </tr>\n",
       "    <tr>\n",
       "      <th>23486</th>\n",
       "      <td>988</td>\n",
       "      <td>832</td>\n",
       "      <td>4</td>\n",
       "      <td>19</td>\n",
       "      <td>0.0</td>\n",
       "      <td>31</td>\n",
       "      <td>NaN</td>\n",
       "      <td>193.410004</td>\n",
       "      <td>36</td>\n",
       "      <td>2017</td>\n",
       "      <td>20</td>\n",
       "      <td>Abu Dhabi Grand Prix</td>\n",
       "      <td>Wheel</td>\n",
       "      <td>renault</td>\n",
       "      <td>Renault</td>\n",
       "      <td>French</td>\n",
       "    </tr>\n",
       "    <tr>\n",
       "      <th>23487</th>\n",
       "      <td>988</td>\n",
       "      <td>817</td>\n",
       "      <td>9</td>\n",
       "      <td>20</td>\n",
       "      <td>0.0</td>\n",
       "      <td>20</td>\n",
       "      <td>NaN</td>\n",
       "      <td>194.578995</td>\n",
       "      <td>9</td>\n",
       "      <td>2017</td>\n",
       "      <td>20</td>\n",
       "      <td>Abu Dhabi Grand Prix</td>\n",
       "      <td>Hydraulics</td>\n",
       "      <td>red_bull</td>\n",
       "      <td>Red Bull</td>\n",
       "      <td>Austrian</td>\n",
       "    </tr>\n",
       "  </tbody>\n",
       "</table>\n",
       "<p>23488 rows × 16 columns</p>\n",
       "</div>"
      ],
      "text/plain": [
       "       raceId  driverId  constructorId  positionOrder  points  laps  \\\n",
       "0           1        18             23              1    10.0    58   \n",
       "1           1        22             23              2     8.0    58   \n",
       "2           1        15              7              3     6.0    58   \n",
       "3           1        10              7              4     5.0    58   \n",
       "4           1         4              4              5     4.0    58   \n",
       "...       ...       ...            ...            ...     ...   ...   \n",
       "23483     988       842              5             16     0.0    54   \n",
       "23484     988       828             15             17     0.0    54   \n",
       "23485     988       840              3             18     0.0    54   \n",
       "23486     988       832              4             19     0.0    31   \n",
       "23487     988       817              9             20     0.0    20   \n",
       "\n",
       "       milliseconds  fastestLapSpeed  statusId  year  round  \\\n",
       "0         5655784.0       216.891006         1  2009      1   \n",
       "1         5656591.0       214.343994         1  2009      1   \n",
       "2         5657388.0       214.705994         1  2009      1   \n",
       "3         5660219.0       215.919998         1  2009      1   \n",
       "4         5660663.0       215.199005         1  2009      1   \n",
       "...             ...              ...       ...   ...    ...   \n",
       "23483           NaN       192.542007        11  2017     20   \n",
       "23484           NaN       193.057007        11  2017     20   \n",
       "23485           NaN       195.401993        11  2017     20   \n",
       "23486           NaN       193.410004        36  2017     20   \n",
       "23487           NaN       194.578995         9  2017     20   \n",
       "\n",
       "                   race_name      status constructorRef constructor_name  \\\n",
       "0      Australian Grand Prix    Finished          brawn            Brawn   \n",
       "1      Australian Grand Prix    Finished          brawn            Brawn   \n",
       "2      Australian Grand Prix    Finished         toyota           Toyota   \n",
       "3      Australian Grand Prix    Finished         toyota           Toyota   \n",
       "4      Australian Grand Prix    Finished        renault          Renault   \n",
       "...                      ...         ...            ...              ...   \n",
       "23483   Abu Dhabi Grand Prix      +1 Lap     toro_rosso       Toro Rosso   \n",
       "23484   Abu Dhabi Grand Prix      +1 Lap         sauber           Sauber   \n",
       "23485   Abu Dhabi Grand Prix      +1 Lap       williams         Williams   \n",
       "23486   Abu Dhabi Grand Prix       Wheel        renault          Renault   \n",
       "23487   Abu Dhabi Grand Prix  Hydraulics       red_bull         Red Bull   \n",
       "\n",
       "      nationality  \n",
       "0         British  \n",
       "1         British  \n",
       "2        Japanese  \n",
       "3        Japanese  \n",
       "4          French  \n",
       "...           ...  \n",
       "23483     Italian  \n",
       "23484       Swiss  \n",
       "23485     British  \n",
       "23486      French  \n",
       "23487    Austrian  \n",
       "\n",
       "[23488 rows x 16 columns]"
      ]
     },
     "execution_count": 112,
     "metadata": {},
     "output_type": "execute_result"
    }
   ],
   "source": [
    "temp_df2"
   ]
  },
  {
   "cell_type": "code",
   "execution_count": 113,
   "metadata": {},
   "outputs": [],
   "source": [
    "driver_10=temp_df2.groupby('raceId').head(10).reset_index(drop=True)"
   ]
  },
  {
   "cell_type": "code",
   "execution_count": 114,
   "metadata": {},
   "outputs": [],
   "source": [
    "#driver_10=temp_df2.groupby('raceId').head(10).reset_index(drop=True)"
   ]
  },
  {
   "cell_type": "code",
   "execution_count": 115,
   "metadata": {},
   "outputs": [],
   "source": [
    "i=[1,3,5,10]\n",
    "a=[]\n",
    "for h in i:\n",
    "    df = temp_df2.groupby('raceId').head(h).reset_index(drop=True)\n",
    "    df['freq'] = df.groupby('driverId')['driverId'].transform('count')\n",
    "    df.sort_values(by=['freq'], ascending=False, inplace=True)\n",
    "    df = df.drop_duplicates(subset=['driverId'])\n",
    "    df.reset_index(drop=True, inplace=True)\n",
    "    df = df[['freq','driverId']]\n",
    "    a.append(df)"
   ]
  },
  {
   "cell_type": "code",
   "execution_count": 116,
   "metadata": {},
   "outputs": [],
   "source": [
    "df1,df3,df5,df10 = a[0], a[1], a[2], a[3]"
   ]
  },
  {
   "cell_type": "code",
   "execution_count": null,
   "metadata": {},
   "outputs": [],
   "source": []
  },
  {
   "cell_type": "code",
   "execution_count": 117,
   "metadata": {},
   "outputs": [],
   "source": [
    "driver_name = driver_standing_merged.drop_duplicates(subset=['driverId'])"
   ]
  },
  {
   "cell_type": "code",
   "execution_count": 118,
   "metadata": {},
   "outputs": [],
   "source": [
    "driver_name = driver_name[['driverId', 'driverRef','forename', 'surname', 'nationality' ]]"
   ]
  },
  {
   "cell_type": "code",
   "execution_count": 119,
   "metadata": {},
   "outputs": [],
   "source": [
    "driver_df = pd.merge(df1, driver_name, how='inner', left_on='driverId', right_on='driverId')"
   ]
  },
  {
   "cell_type": "code",
   "execution_count": 120,
   "metadata": {},
   "outputs": [],
   "source": [
    "driver_df = pd.merge(driver_df, df3, how='inner', left_on='driverId', right_on='driverId')"
   ]
  },
  {
   "cell_type": "code",
   "execution_count": 121,
   "metadata": {},
   "outputs": [],
   "source": [
    "driver_df = pd.merge(driver_df, df5, how='inner', left_on='driverId', right_on='driverId')\n",
    "driver_df = pd.merge(driver_df, df10, how='inner', left_on='driverId', right_on='driverId')"
   ]
  },
  {
   "cell_type": "code",
   "execution_count": 122,
   "metadata": {},
   "outputs": [],
   "source": [
    "driver_df.columns = ['top', 'driverId', 'driverRef', 'forename', 'surname', 'nationality', 'top3', 'top5', 'top10']"
   ]
  },
  {
   "cell_type": "code",
   "execution_count": 123,
   "metadata": {},
   "outputs": [],
   "source": [
    "driver_df = driver_df[['driverId', 'driverRef', 'forename', 'surname', 'nationality','top', 'top3', 'top5', 'top10']]"
   ]
  },
  {
   "cell_type": "code",
   "execution_count": null,
   "metadata": {},
   "outputs": [],
   "source": []
  },
  {
   "cell_type": "markdown",
   "metadata": {},
   "source": [
    "# "
   ]
  },
  {
   "cell_type": "code",
   "execution_count": 143,
   "metadata": {},
   "outputs": [
    {
     "data": {
      "image/png": "[encoded data removed]",
      "text/plain": [
       "<Figure size 1440x1440 with 4 Axes>"
      ]
     },
     "metadata": {
      "needs_background": "light"
     },
     "output_type": "display_data"
    }
   ],
   "source": [
    "fig = plt.figure(figsize=(20,20))\n",
    "plt.subplot(221)\n",
    "_=sns.barplot(x='top', y='driverRef', data=driver_df[:30],palette='coolwarm_r').set_title('Top')\n",
    "plt.subplot(222)\n",
    "_=sns.barplot(x='top3', y='driverRef', data=driver_df[:30],palette='coolwarm_r').set_title(\"Podium Finish\")\n",
    "_ =ax= plt.gca()\n",
    "_= ax.set_ylabel('')\n",
    "plt.subplot(223)\n",
    "_=sns.barplot(x='top5', y='driverRef', data=driver_df[:30],palette='seismic_r').set_title(\"Top_5\")\n",
    "plt.subplot(224)\n",
    "_=sns.barplot(x='top10',y='driverRef', data=driver_df[:30],palette='seismic_r').set_title(\"Top_10\")\n",
    "_ =ax= plt.gca()\n",
    "_= ax.set_ylabel('')\n",
    "plt.savefig('ds.png', bbox_inches='tight')"
   ]
  },
  {
   "cell_type": "code",
   "execution_count": 125,
   "metadata": {},
   "outputs": [
    {
     "data": {
      "text/plain": [
       "Text(0.5, 1.0, 'Density Plot of Drivers for Top, Top3, Top5, Top10 Finishes')"
      ]
     },
     "execution_count": 125,
     "metadata": {},
     "output_type": "execute_result"
    },
    {
     "data": {
      "image/png": "[encoded data removed]",
      "text/plain": [
       "<Figure size 720x720 with 1 Axes>"
      ]
     },
     "metadata": {
      "needs_background": "light"
     },
     "output_type": "display_data"
    }
   ],
   "source": [
    "fig, ax = plt.subplots(figsize=(10,10))\n",
    "ax=sns.kdeplot(driver_df['top'], \n",
    "               color='red',\n",
    "               shade=True)\n",
    "ax=sns.kdeplot(driver_df['top3'], \n",
    "               color='black',\n",
    "               shade=True)\n",
    "ax=sns.kdeplot(driver_df['top5'], \n",
    "               color='blue',\n",
    "               shade=True)\n",
    "ax=sns.kdeplot(driver_df['top10'], \n",
    "               color='green',\n",
    "               shade=True)\n",
    "ax.set_ylabel('Density')\n",
    "ax.set_title('Density Plot of Drivers for Top, Top3, Top5, Top10 Finishes')\n",
    "#plt.savefig('density_driver.png', bbox_inches='tight')"
   ]
  },
  {
   "cell_type": "code",
   "execution_count": 140,
   "metadata": {},
   "outputs": [
    {
     "ename": "TypeError",
     "evalue": "'module' object is not callable",
     "output_type": "error",
     "traceback": [
      "\u001b[0;31m---------------------------------------------------------------------------\u001b[0m",
      "\u001b[0;31mTypeError\u001b[0m                                 Traceback (most recent call last)",
      "\u001b[0;32m<ipython-input-140-6d28c8c7892c>\u001b[0m in \u001b[0;36m<module>\u001b[0;34m\u001b[0m\n\u001b[1;32m      2\u001b[0m \u001b[0;32mimport\u001b[0m \u001b[0mchart_studio\u001b[0m\u001b[0;34m.\u001b[0m\u001b[0mplotly\u001b[0m \u001b[0;32mas\u001b[0m \u001b[0mpy\u001b[0m\u001b[0;34m\u001b[0m\u001b[0;34m\u001b[0m\u001b[0m\n\u001b[1;32m      3\u001b[0m \u001b[0;31m#pyo.init_notebook_mode()\u001b[0m\u001b[0;34m\u001b[0m\u001b[0;34m\u001b[0m\u001b[0;34m\u001b[0m\u001b[0m\n\u001b[0;32m----> 4\u001b[0;31m \u001b[0mfig\u001b[0m\u001b[0;34m=\u001b[0m\u001b[0mgo\u001b[0m\u001b[0;34m.\u001b[0m\u001b[0mFigure\u001b[0m\u001b[0;34m(\u001b[0m\u001b[0mgo\u001b[0m\u001b[0;34m.\u001b[0m\u001b[0mbar\u001b[0m\u001b[0;34m(\u001b[0m\u001b[0mdriver_df\u001b[0m\u001b[0;34m[\u001b[0m\u001b[0;34m:\u001b[0m\u001b[0;36m30\u001b[0m\u001b[0;34m]\u001b[0m\u001b[0;34m,\u001b[0m\u001b[0mx\u001b[0m\u001b[0;34m=\u001b[0m\u001b[0;34m'top'\u001b[0m\u001b[0;34m,\u001b[0m \u001b[0my\u001b[0m\u001b[0;34m=\u001b[0m\u001b[0;34m'driverRef'\u001b[0m\u001b[0;34m)\u001b[0m\u001b[0;34m)\u001b[0m\u001b[0;34m\u001b[0m\u001b[0;34m\u001b[0m\u001b[0m\n\u001b[0m\u001b[1;32m      5\u001b[0m \u001b[0mpy\u001b[0m\u001b[0;34m.\u001b[0m\u001b[0miplot\u001b[0m\u001b[0;34m(\u001b[0m\u001b[0mfig\u001b[0m\u001b[0;34m,\u001b[0m \u001b[0mfilename\u001b[0m\u001b[0;34m=\u001b[0m\u001b[0;34m'jupyter-basic_bar'\u001b[0m\u001b[0;34m)\u001b[0m\u001b[0;34m\u001b[0m\u001b[0;34m\u001b[0m\u001b[0m\n",
      "\u001b[0;31mTypeError\u001b[0m: 'module' object is not callable"
     ]
    }
   ],
   "source": [
    "import plotly.graph_objects as go\n",
    "import chart_studio.plotly as py\n",
    "#pyo.init_notebook_mode()\n",
    "fig=go.Figure(go.bar(driver_df[:30],x='top', y='driverRef'))\n",
    "py.iplot(fig, filename='jupyter-basic_bar')"
   ]
  },
  {
   "cell_type": "code",
   "execution_count": null,
   "metadata": {},
   "outputs": [],
   "source": []
  },
  {
   "cell_type": "code",
   "execution_count": null,
   "metadata": {},
   "outputs": [],
   "source": []
  }
 ],
 "metadata": {
  "kernelspec": {
   "display_name": "Python 3",
   "language": "python",
   "name": "python3"
  },
  "language_info": {
   "codemirror_mode": {
    "name": "ipython",
    "version": 3
   },
   "file_extension": ".py",
   "mimetype": "text/x-python",
   "name": "python",
   "nbconvert_exporter": "python",
   "pygments_lexer": "ipython3",
   "version": "3.7.6"
  }
 },
 "nbformat": 4,
 "nbformat_minor": 4
}
