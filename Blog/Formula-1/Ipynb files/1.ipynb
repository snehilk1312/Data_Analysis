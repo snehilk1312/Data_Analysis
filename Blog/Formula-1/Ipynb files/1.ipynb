{
  "nbformat": 4,
  "nbformat_minor": 0,
  "metadata": {
    "kernelspec": {
      "display_name": "Python 3",
      "language": "python",
      "name": "python3"
    },
    "language_info": {
      "codemirror_mode": {
        "name": "ipython",
        "version": 3
      },
      "file_extension": ".py",
      "mimetype": "text/x-python",
      "name": "python",
      "nbconvert_exporter": "python",
      "pygments_lexer": "ipython3",
      "version": "3.7.6"
    },
    "colab": {
      "name": "1.ipynb",
      "provenance": [],
      "collapsed_sections": []
    }
  },
  "cells": [
    {
      "cell_type": "code",
      "metadata": {
        "id": "MnuSuOrnBjYq",
        "colab_type": "code",
        "colab": {}
      },
      "source": [
        "import pandas as pd\n",
        "import matplotlib.pyplot as plt\n",
        "import seaborn as sns\n",
        "import numpy as np\n",
        "#import pingouin as pg\n",
        "import scipy.stats as st\n",
        "import statsmodels.api as sm\n",
        "%matplotlib inline"
      ],
      "execution_count": 0,
      "outputs": []
    },
    {
      "cell_type": "code",
      "metadata": {
        "id": "XjLvgTbRBjY5",
        "colab_type": "code",
        "colab": {}
      },
      "source": [
        "constructor = pd.read_csv('/content/constructors.csv')"
      ],
      "execution_count": 0,
      "outputs": []
    },
    {
      "cell_type": "code",
      "metadata": {
        "id": "XO99O4CBBjZF",
        "colab_type": "code",
        "colab": {}
      },
      "source": [
        "constructor.drop(['url','Unnamed: 5' ],axis=1, inplace=True)"
      ],
      "execution_count": 0,
      "outputs": []
    },
    {
      "cell_type": "code",
      "metadata": {
        "id": "_uROFGTZBjZO",
        "colab_type": "code",
        "colab": {}
      },
      "source": [
        "constructor_result = pd.read_csv('/content/constructorResults.csv')"
      ],
      "execution_count": 0,
      "outputs": []
    },
    {
      "cell_type": "code",
      "metadata": {
        "id": "m7Mis6kdBjZV",
        "colab_type": "code",
        "colab": {}
      },
      "source": [
        "constructor_result.drop(['status','constructorResultsId'],axis=1, inplace=True)"
      ],
      "execution_count": 0,
      "outputs": []
    },
    {
      "cell_type": "code",
      "metadata": {
        "id": "7gag84g5BjZd",
        "colab_type": "code",
        "colab": {}
      },
      "source": [
        "constructor_merged = pd.merge(constructor, constructor_result, how='inner', left_on='constructorId', right_on='constructorId')"
      ],
      "execution_count": 0,
      "outputs": []
    },
    {
      "cell_type": "code",
      "metadata": {
        "id": "i_SMn1QcBjZk",
        "colab_type": "code",
        "colab": {}
      },
      "source": [
        ""
      ],
      "execution_count": 0,
      "outputs": []
    },
    {
      "cell_type": "code",
      "metadata": {
        "id": "MqjkYfoLBjZq",
        "colab_type": "code",
        "colab": {}
      },
      "source": [
        "results = pd.read_csv('/content/results.csv')\n",
        "races = pd.read_csv('/content/races.csv')"
      ],
      "execution_count": 0,
      "outputs": []
    },
    {
      "cell_type": "code",
      "metadata": {
        "id": "a2pcaASJBjZx",
        "colab_type": "code",
        "colab": {}
      },
      "source": [
        "races.drop(['url'], inplace=True, axis=1)"
      ],
      "execution_count": 0,
      "outputs": []
    },
    {
      "cell_type": "code",
      "metadata": {
        "id": "lR09JVmdBjZ3",
        "colab_type": "code",
        "colab": {}
      },
      "source": [
        "races.columns=['raceId', 'year', 'round', 'circuitId', 'name', 'date', 'start_time']"
      ],
      "execution_count": 0,
      "outputs": []
    },
    {
      "cell_type": "code",
      "metadata": {
        "id": "TV9a7cBcBjZ9",
        "colab_type": "code",
        "colab": {}
      },
      "source": [
        "results_races_merged = pd.merge(results, races, how='inner', right_on = 'raceId', left_on='raceId')"
      ],
      "execution_count": 0,
      "outputs": []
    },
    {
      "cell_type": "code",
      "metadata": {
        "id": "1distvqwBjaE",
        "colab_type": "code",
        "colab": {}
      },
      "source": [
        ""
      ],
      "execution_count": 0,
      "outputs": []
    },
    {
      "cell_type": "code",
      "metadata": {
        "id": "Q4OFnQqQBjaK",
        "colab_type": "code",
        "colab": {}
      },
      "source": [
        "drivers = pd.read_csv('/content/drivers.csv',encoding='latin')"
      ],
      "execution_count": 0,
      "outputs": []
    },
    {
      "cell_type": "code",
      "metadata": {
        "id": "ugT0tGPLBjaQ",
        "colab_type": "code",
        "colab": {}
      },
      "source": [
        "drivers.drop(['url','number'], inplace=True, axis=1)"
      ],
      "execution_count": 0,
      "outputs": []
    },
    {
      "cell_type": "code",
      "metadata": {
        "id": "MG_W_6I3BjaV",
        "colab_type": "code",
        "colab": {}
      },
      "source": [
        ""
      ],
      "execution_count": 0,
      "outputs": []
    },
    {
      "cell_type": "code",
      "metadata": {
        "id": "Sqai_DnmBjab",
        "colab_type": "code",
        "colab": {}
      },
      "source": [
        "driver_standing = pd.read_csv('/content/driverStandings.csv')"
      ],
      "execution_count": 0,
      "outputs": []
    },
    {
      "cell_type": "code",
      "metadata": {
        "id": "OIHFf68UBjak",
        "colab_type": "code",
        "colab": {}
      },
      "source": [
        ""
      ],
      "execution_count": 0,
      "outputs": []
    },
    {
      "cell_type": "code",
      "metadata": {
        "id": "MU7ftJkEBjap",
        "colab_type": "code",
        "colab": {}
      },
      "source": [
        "driver_standing.drop(['driverStandingsId'], axis=1, inplace=True)"
      ],
      "execution_count": 0,
      "outputs": []
    },
    {
      "cell_type": "code",
      "metadata": {
        "id": "KwOGFmskBjat",
        "colab_type": "code",
        "colab": {}
      },
      "source": [
        "driver_standing_merged = pd.merge(driver_standing, drivers, how='inner', left_on='driverId', right_on='driverId')"
      ],
      "execution_count": 0,
      "outputs": []
    },
    {
      "cell_type": "code",
      "metadata": {
        "id": "A42Yt_0hBjay",
        "colab_type": "code",
        "colab": {}
      },
      "source": [
        "driver_standing_merged.drop(['positionText'], inplace=True, axis=1)"
      ],
      "execution_count": 0,
      "outputs": []
    },
    {
      "cell_type": "code",
      "metadata": {
        "id": "FkdRPjoTBja1",
        "colab_type": "code",
        "colab": {}
      },
      "source": [
        ""
      ],
      "execution_count": 0,
      "outputs": []
    },
    {
      "cell_type": "code",
      "metadata": {
        "id": "Zir73350Bja8",
        "colab_type": "code",
        "colab": {}
      },
      "source": [
        "cons_stand = pd.read_csv('/content/constructorStandings.csv')"
      ],
      "execution_count": 0,
      "outputs": []
    },
    {
      "cell_type": "code",
      "metadata": {
        "id": "tiG7fPlEBjbC",
        "colab_type": "code",
        "colab": {}
      },
      "source": [
        "cons_stand.drop(['constructorStandingsId',  'Unnamed: 7'],axis=1, inplace=True)"
      ],
      "execution_count": 0,
      "outputs": []
    },
    {
      "cell_type": "code",
      "metadata": {
        "id": "u1DwiDGTBjbF",
        "colab_type": "code",
        "colab": {}
      },
      "source": [
        ""
      ],
      "execution_count": 0,
      "outputs": []
    },
    {
      "cell_type": "code",
      "metadata": {
        "id": "EjkGCz4LBjbK",
        "colab_type": "code",
        "colab": {}
      },
      "source": [
        "status = pd.read_csv('/content/status.csv')"
      ],
      "execution_count": 0,
      "outputs": []
    },
    {
      "cell_type": "code",
      "metadata": {
        "id": "10BRyrmzBjbO",
        "colab_type": "code",
        "colab": {}
      },
      "source": [
        "results_merged = pd.merge(results_races_merged, status, how='left', left_on='statusId', right_on='statusId')"
      ],
      "execution_count": 0,
      "outputs": []
    },
    {
      "cell_type": "code",
      "metadata": {
        "id": "tGClPsFmBjbS",
        "colab_type": "code",
        "colab": {}
      },
      "source": [
        ""
      ],
      "execution_count": 0,
      "outputs": []
    },
    {
      "cell_type": "code",
      "metadata": {
        "id": "BZBT53JkBjbX",
        "colab_type": "code",
        "outputId": "1816d6a4-ba70-4606-9352-aa59b802f3a1",
        "colab": {
          "base_uri": "https://localhost:8080/",
          "height": 34
        }
      },
      "source": [
        "results_merged.shape"
      ],
      "execution_count": 25,
      "outputs": [
        {
          "output_type": "execute_result",
          "data": {
            "text/plain": [
              "(23777, 25)"
            ]
          },
          "metadata": {
            "tags": []
          },
          "execution_count": 25
        }
      ]
    },
    {
      "cell_type": "code",
      "metadata": {
        "id": "Osow6YLjBjbe",
        "colab_type": "code",
        "outputId": "ec6c4aab-2d79-4de3-b744-97ee8cf253e5",
        "colab": {
          "base_uri": "https://localhost:8080/",
          "height": 34
        }
      },
      "source": [
        "driver_standing_merged.shape"
      ],
      "execution_count": 26,
      "outputs": [
        {
          "output_type": "execute_result",
          "data": {
            "text/plain": [
              "(31726, 11)"
            ]
          },
          "metadata": {
            "tags": []
          },
          "execution_count": 26
        }
      ]
    },
    {
      "cell_type": "code",
      "metadata": {
        "id": "YlCm8hBqBjbh",
        "colab_type": "code",
        "outputId": "fea2b729-1df0-4ba7-c6fa-ca24fd176f17",
        "colab": {
          "base_uri": "https://localhost:8080/",
          "height": 34
        }
      },
      "source": [
        "constructor_merged.shape"
      ],
      "execution_count": 27,
      "outputs": [
        {
          "output_type": "execute_result",
          "data": {
            "text/plain": [
              "(11142, 6)"
            ]
          },
          "metadata": {
            "tags": []
          },
          "execution_count": 27
        }
      ]
    },
    {
      "cell_type": "code",
      "metadata": {
        "id": "oA6sQOsdBjbl",
        "colab_type": "code",
        "outputId": "38078297-8447-4740-9995-094693b85401",
        "colab": {
          "base_uri": "https://localhost:8080/",
          "height": 34
        }
      },
      "source": [
        "cons_stand.shape"
      ],
      "execution_count": 28,
      "outputs": [
        {
          "output_type": "execute_result",
          "data": {
            "text/plain": [
              "(11896, 6)"
            ]
          },
          "metadata": {
            "tags": []
          },
          "execution_count": 28
        }
      ]
    },
    {
      "cell_type": "code",
      "metadata": {
        "id": "AYgWcvp_Bjbp",
        "colab_type": "code",
        "outputId": "25787844-c0c6-4f86-94ec-14aa5ad0fccd",
        "colab": {
          "base_uri": "https://localhost:8080/",
          "height": 34
        }
      },
      "source": [
        "results_merged['number'].isnull().sum()"
      ],
      "execution_count": 29,
      "outputs": [
        {
          "output_type": "execute_result",
          "data": {
            "text/plain": [
              "6"
            ]
          },
          "metadata": {
            "tags": []
          },
          "execution_count": 29
        }
      ]
    },
    {
      "cell_type": "code",
      "metadata": {
        "id": "r0EFpddhBjbu",
        "colab_type": "code",
        "outputId": "bdeed091-0a31-4887-d63c-1f0ac0470b8b",
        "colab": {
          "base_uri": "https://localhost:8080/",
          "height": 121
        }
      },
      "source": [
        "results_merged.columns"
      ],
      "execution_count": 30,
      "outputs": [
        {
          "output_type": "execute_result",
          "data": {
            "text/plain": [
              "Index(['resultId', 'raceId', 'driverId', 'constructorId', 'number', 'grid',\n",
              "       'position', 'positionText', 'positionOrder', 'points', 'laps', 'time',\n",
              "       'milliseconds', 'fastestLap', 'rank', 'fastestLapTime',\n",
              "       'fastestLapSpeed', 'statusId', 'year', 'round', 'circuitId', 'name',\n",
              "       'date', 'start_time', 'status'],\n",
              "      dtype='object')"
            ]
          },
          "metadata": {
            "tags": []
          },
          "execution_count": 30
        }
      ]
    },
    {
      "cell_type": "code",
      "metadata": {
        "id": "0cJhnRc0Bjb0",
        "colab_type": "code",
        "colab": {}
      },
      "source": [
        "results_merged.drop(['positionText', 'position', 'start_time',  'circuitId', 'number', 'grid', 'resultId','date', 'rank','fastestLap','fastestLapTime' ,'time'], axis=1, inplace=True)"
      ],
      "execution_count": 0,
      "outputs": []
    },
    {
      "cell_type": "code",
      "metadata": {
        "id": "738f0Zi9Bjb4",
        "colab_type": "code",
        "colab": {}
      },
      "source": [
        ""
      ],
      "execution_count": 0,
      "outputs": []
    },
    {
      "cell_type": "code",
      "metadata": {
        "id": "JO8Hg7W4Bjb9",
        "colab_type": "code",
        "colab": {}
      },
      "source": [
        ""
      ],
      "execution_count": 0,
      "outputs": []
    },
    {
      "cell_type": "code",
      "metadata": {
        "id": "F424vbRJBjcA",
        "colab_type": "code",
        "colab": {}
      },
      "source": [
        ""
      ],
      "execution_count": 0,
      "outputs": []
    },
    {
      "cell_type": "code",
      "metadata": {
        "id": "uCS2Y6vIBjcE",
        "colab_type": "code",
        "colab": {}
      },
      "source": [
        ""
      ],
      "execution_count": 0,
      "outputs": []
    },
    {
      "cell_type": "code",
      "metadata": {
        "id": "E-dNI_TwBjcH",
        "colab_type": "code",
        "outputId": "4d47c17a-1594-4441-c61a-49466ffd11a4",
        "colab": {
          "base_uri": "https://localhost:8080/",
          "height": 86
        }
      },
      "source": [
        "results_merged.columns"
      ],
      "execution_count": 32,
      "outputs": [
        {
          "output_type": "execute_result",
          "data": {
            "text/plain": [
              "Index(['raceId', 'driverId', 'constructorId', 'positionOrder', 'points',\n",
              "       'laps', 'milliseconds', 'fastestLapSpeed', 'statusId', 'year', 'round',\n",
              "       'name', 'status'],\n",
              "      dtype='object')"
            ]
          },
          "metadata": {
            "tags": []
          },
          "execution_count": 32
        }
      ]
    },
    {
      "cell_type": "code",
      "metadata": {
        "id": "oEbKH32FBjcK",
        "colab_type": "code",
        "colab": {}
      },
      "source": [
        "results_merged.sort_values(by=['year'], inplace=True)"
      ],
      "execution_count": 0,
      "outputs": []
    },
    {
      "cell_type": "code",
      "metadata": {
        "id": "S_RQ_xppBjcN",
        "colab_type": "code",
        "colab": {}
      },
      "source": [
        "results_merged.reset_index(drop=True, inplace=True)"
      ],
      "execution_count": 0,
      "outputs": []
    },
    {
      "cell_type": "code",
      "metadata": {
        "id": "BD02FN80BjcP",
        "colab_type": "code",
        "colab": {}
      },
      "source": [
        ""
      ],
      "execution_count": 0,
      "outputs": []
    },
    {
      "cell_type": "code",
      "metadata": {
        "id": "i_7UUjSGBjcS",
        "colab_type": "code",
        "outputId": "7e3bcec0-29e7-4de1-8894-a1f41ce3ab35",
        "colab": {
          "base_uri": "https://localhost:8080/",
          "height": 81
        }
      },
      "source": [
        "results_merged[results_merged['fastestLapSpeed']=='01:42.6']"
      ],
      "execution_count": 35,
      "outputs": [
        {
          "output_type": "execute_result",
          "data": {
            "text/html": [
              "<div>\n",
              "<style scoped>\n",
              "    .dataframe tbody tr th:only-of-type {\n",
              "        vertical-align: middle;\n",
              "    }\n",
              "\n",
              "    .dataframe tbody tr th {\n",
              "        vertical-align: top;\n",
              "    }\n",
              "\n",
              "    .dataframe thead th {\n",
              "        text-align: right;\n",
              "    }\n",
              "</style>\n",
              "<table border=\"1\" class=\"dataframe\">\n",
              "  <thead>\n",
              "    <tr style=\"text-align: right;\">\n",
              "      <th></th>\n",
              "      <th>raceId</th>\n",
              "      <th>driverId</th>\n",
              "      <th>constructorId</th>\n",
              "      <th>positionOrder</th>\n",
              "      <th>points</th>\n",
              "      <th>laps</th>\n",
              "      <th>milliseconds</th>\n",
              "      <th>fastestLapSpeed</th>\n",
              "      <th>statusId</th>\n",
              "      <th>year</th>\n",
              "      <th>round</th>\n",
              "      <th>name</th>\n",
              "      <th>status</th>\n",
              "    </tr>\n",
              "  </thead>\n",
              "  <tbody>\n",
              "    <tr>\n",
              "      <th>23513</th>\n",
              "      <td>988</td>\n",
              "      <td>839</td>\n",
              "      <td>10</td>\n",
              "      <td>8</td>\n",
              "      <td>4.0</td>\n",
              "      <td>55</td>\n",
              "      <td>5752973.0</td>\n",
              "      <td>01:42.6</td>\n",
              "      <td>1</td>\n",
              "      <td>2017</td>\n",
              "      <td>20</td>\n",
              "      <td>Abu Dhabi Grand Prix</td>\n",
              "      <td>Finished</td>\n",
              "    </tr>\n",
              "  </tbody>\n",
              "</table>\n",
              "</div>"
            ],
            "text/plain": [
              "       raceId  driverId  constructorId  ...  round                  name    status\n",
              "23513     988       839             10  ...     20  Abu Dhabi Grand Prix  Finished\n",
              "\n",
              "[1 rows x 13 columns]"
            ]
          },
          "metadata": {
            "tags": []
          },
          "execution_count": 35
        }
      ]
    },
    {
      "cell_type": "code",
      "metadata": {
        "id": "3UxTs5fzBjcW",
        "colab_type": "code",
        "colab": {}
      },
      "source": [
        "results_merged.drop([23513], inplace=True)"
      ],
      "execution_count": 0,
      "outputs": []
    },
    {
      "cell_type": "code",
      "metadata": {
        "id": "pN7K0l4MBjcZ",
        "colab_type": "code",
        "colab": {}
      },
      "source": [
        "results_merged['fastestLapSpeed']=results_merged['fastestLapSpeed'].astype('float32')"
      ],
      "execution_count": 0,
      "outputs": []
    },
    {
      "cell_type": "code",
      "metadata": {
        "id": "PCKywgFOBjcd",
        "colab_type": "code",
        "outputId": "684b7422-574b-46cb-c404-778d8b8deb8b",
        "colab": {
          "base_uri": "https://localhost:8080/",
          "height": 173
        }
      },
      "source": [
        "results_merged['fastestLapSpeed'].describe()"
      ],
      "execution_count": 38,
      "outputs": [
        {
          "output_type": "execute_result",
          "data": {
            "text/plain": [
              "count    5382.000000\n",
              "mean      200.745117\n",
              "std        21.293182\n",
              "min        89.540001\n",
              "25%       190.634995\n",
              "50%       202.447510\n",
              "75%       213.839996\n",
              "max       257.320007\n",
              "Name: fastestLapSpeed, dtype: float64"
            ]
          },
          "metadata": {
            "tags": []
          },
          "execution_count": 38
        }
      ]
    },
    {
      "cell_type": "code",
      "metadata": {
        "id": "40p-s5gKBjcg",
        "colab_type": "code",
        "outputId": "6870691c-fcb3-4f04-fee1-77d5e17ddee6",
        "colab": {
          "base_uri": "https://localhost:8080/",
          "height": 260
        }
      },
      "source": [
        "results_merged.isna().sum()"
      ],
      "execution_count": 39,
      "outputs": [
        {
          "output_type": "execute_result",
          "data": {
            "text/plain": [
              "raceId                 0\n",
              "driverId               0\n",
              "constructorId          0\n",
              "positionOrder          0\n",
              "points                 0\n",
              "laps                   0\n",
              "milliseconds       17774\n",
              "fastestLapSpeed    18394\n",
              "statusId               0\n",
              "year                   0\n",
              "round                  0\n",
              "name                   0\n",
              "status                 0\n",
              "dtype: int64"
            ]
          },
          "metadata": {
            "tags": []
          },
          "execution_count": 39
        }
      ]
    },
    {
      "cell_type": "code",
      "metadata": {
        "id": "GdZDB5yyBjcj",
        "colab_type": "code",
        "colab": {}
      },
      "source": [
        "temp_df1 = results_merged[results_merged['fastestLapSpeed'].notna()]"
      ],
      "execution_count": 0,
      "outputs": []
    },
    {
      "cell_type": "code",
      "metadata": {
        "id": "pnPbVDLIBjcn",
        "colab_type": "code",
        "outputId": "eb49f4b5-6071-4528-f6b4-c61e5b8a0d72",
        "colab": {
          "base_uri": "https://localhost:8080/",
          "height": 424
        }
      },
      "source": [
        "temp_df1"
      ],
      "execution_count": 41,
      "outputs": [
        {
          "output_type": "execute_result",
          "data": {
            "text/html": [
              "<div>\n",
              "<style scoped>\n",
              "    .dataframe tbody tr th:only-of-type {\n",
              "        vertical-align: middle;\n",
              "    }\n",
              "\n",
              "    .dataframe tbody tr th {\n",
              "        vertical-align: top;\n",
              "    }\n",
              "\n",
              "    .dataframe thead th {\n",
              "        text-align: right;\n",
              "    }\n",
              "</style>\n",
              "<table border=\"1\" class=\"dataframe\">\n",
              "  <thead>\n",
              "    <tr style=\"text-align: right;\">\n",
              "      <th></th>\n",
              "      <th>raceId</th>\n",
              "      <th>driverId</th>\n",
              "      <th>constructorId</th>\n",
              "      <th>positionOrder</th>\n",
              "      <th>points</th>\n",
              "      <th>laps</th>\n",
              "      <th>milliseconds</th>\n",
              "      <th>fastestLapSpeed</th>\n",
              "      <th>statusId</th>\n",
              "      <th>year</th>\n",
              "      <th>round</th>\n",
              "      <th>name</th>\n",
              "      <th>status</th>\n",
              "    </tr>\n",
              "  </thead>\n",
              "  <tbody>\n",
              "    <tr>\n",
              "      <th>18106</th>\n",
              "      <td>96</td>\n",
              "      <td>30</td>\n",
              "      <td>6</td>\n",
              "      <td>1</td>\n",
              "      <td>10.0</td>\n",
              "      <td>60</td>\n",
              "      <td>5555101.0</td>\n",
              "      <td>207.143997</td>\n",
              "      <td>1</td>\n",
              "      <td>2004</td>\n",
              "      <td>7</td>\n",
              "      <td>European Grand Prix</td>\n",
              "      <td>Finished</td>\n",
              "    </tr>\n",
              "    <tr>\n",
              "      <th>18108</th>\n",
              "      <td>95</td>\n",
              "      <td>21</td>\n",
              "      <td>15</td>\n",
              "      <td>19</td>\n",
              "      <td>0.0</td>\n",
              "      <td>2</td>\n",
              "      <td>NaN</td>\n",
              "      <td>148.804001</td>\n",
              "      <td>4</td>\n",
              "      <td>2004</td>\n",
              "      <td>6</td>\n",
              "      <td>Monaco Grand Prix</td>\n",
              "      <td>Collision</td>\n",
              "    </tr>\n",
              "    <tr>\n",
              "      <th>18109</th>\n",
              "      <td>95</td>\n",
              "      <td>45</td>\n",
              "      <td>17</td>\n",
              "      <td>15</td>\n",
              "      <td>0.0</td>\n",
              "      <td>12</td>\n",
              "      <td>NaN</td>\n",
              "      <td>151.406998</td>\n",
              "      <td>7</td>\n",
              "      <td>2004</td>\n",
              "      <td>6</td>\n",
              "      <td>Monaco Grand Prix</td>\n",
              "      <td>Transmission</td>\n",
              "    </tr>\n",
              "    <tr>\n",
              "      <th>18110</th>\n",
              "      <td>95</td>\n",
              "      <td>11</td>\n",
              "      <td>16</td>\n",
              "      <td>17</td>\n",
              "      <td>0.0</td>\n",
              "      <td>2</td>\n",
              "      <td>NaN</td>\n",
              "      <td>147.772995</td>\n",
              "      <td>5</td>\n",
              "      <td>2004</td>\n",
              "      <td>6</td>\n",
              "      <td>Monaco Grand Prix</td>\n",
              "      <td>Engine</td>\n",
              "    </tr>\n",
              "    <tr>\n",
              "      <th>18111</th>\n",
              "      <td>95</td>\n",
              "      <td>17</td>\n",
              "      <td>19</td>\n",
              "      <td>16</td>\n",
              "      <td>0.0</td>\n",
              "      <td>11</td>\n",
              "      <td>NaN</td>\n",
              "      <td>155.216003</td>\n",
              "      <td>6</td>\n",
              "      <td>2004</td>\n",
              "      <td>6</td>\n",
              "      <td>Monaco Grand Prix</td>\n",
              "      <td>Gearbox</td>\n",
              "    </tr>\n",
              "    <tr>\n",
              "      <th>...</th>\n",
              "      <td>...</td>\n",
              "      <td>...</td>\n",
              "      <td>...</td>\n",
              "      <td>...</td>\n",
              "      <td>...</td>\n",
              "      <td>...</td>\n",
              "      <td>...</td>\n",
              "      <td>...</td>\n",
              "      <td>...</td>\n",
              "      <td>...</td>\n",
              "      <td>...</td>\n",
              "      <td>...</td>\n",
              "      <td>...</td>\n",
              "    </tr>\n",
              "    <tr>\n",
              "      <th>23772</th>\n",
              "      <td>975</td>\n",
              "      <td>807</td>\n",
              "      <td>4</td>\n",
              "      <td>8</td>\n",
              "      <td>4.0</td>\n",
              "      <td>70</td>\n",
              "      <td>5645528.0</td>\n",
              "      <td>206.203995</td>\n",
              "      <td>1</td>\n",
              "      <td>2017</td>\n",
              "      <td>7</td>\n",
              "      <td>Canadian Grand Prix</td>\n",
              "      <td>Finished</td>\n",
              "    </tr>\n",
              "    <tr>\n",
              "      <th>23773</th>\n",
              "      <td>975</td>\n",
              "      <td>8</td>\n",
              "      <td>6</td>\n",
              "      <td>7</td>\n",
              "      <td>6.0</td>\n",
              "      <td>70</td>\n",
              "      <td>5643786.0</td>\n",
              "      <td>208.250000</td>\n",
              "      <td>1</td>\n",
              "      <td>2017</td>\n",
              "      <td>7</td>\n",
              "      <td>Canadian Grand Prix</td>\n",
              "      <td>Finished</td>\n",
              "    </tr>\n",
              "    <tr>\n",
              "      <th>23774</th>\n",
              "      <td>975</td>\n",
              "      <td>839</td>\n",
              "      <td>10</td>\n",
              "      <td>6</td>\n",
              "      <td>8.0</td>\n",
              "      <td>70</td>\n",
              "      <td>5625870.0</td>\n",
              "      <td>205.904007</td>\n",
              "      <td>1</td>\n",
              "      <td>2017</td>\n",
              "      <td>7</td>\n",
              "      <td>Canadian Grand Prix</td>\n",
              "      <td>Finished</td>\n",
              "    </tr>\n",
              "    <tr>\n",
              "      <th>23775</th>\n",
              "      <td>975</td>\n",
              "      <td>4</td>\n",
              "      <td>1</td>\n",
              "      <td>16</td>\n",
              "      <td>0.0</td>\n",
              "      <td>66</td>\n",
              "      <td>NaN</td>\n",
              "      <td>206.973999</td>\n",
              "      <td>131</td>\n",
              "      <td>2017</td>\n",
              "      <td>7</td>\n",
              "      <td>Canadian Grand Prix</td>\n",
              "      <td>Power Unit</td>\n",
              "    </tr>\n",
              "    <tr>\n",
              "      <th>23776</th>\n",
              "      <td>988</td>\n",
              "      <td>817</td>\n",
              "      <td>9</td>\n",
              "      <td>20</td>\n",
              "      <td>0.0</td>\n",
              "      <td>20</td>\n",
              "      <td>NaN</td>\n",
              "      <td>194.578995</td>\n",
              "      <td>9</td>\n",
              "      <td>2017</td>\n",
              "      <td>20</td>\n",
              "      <td>Abu Dhabi Grand Prix</td>\n",
              "      <td>Hydraulics</td>\n",
              "    </tr>\n",
              "  </tbody>\n",
              "</table>\n",
              "<p>5382 rows × 13 columns</p>\n",
              "</div>"
            ],
            "text/plain": [
              "       raceId  driverId  ...                  name        status\n",
              "18106      96        30  ...   European Grand Prix      Finished\n",
              "18108      95        21  ...     Monaco Grand Prix     Collision\n",
              "18109      95        45  ...     Monaco Grand Prix  Transmission\n",
              "18110      95        11  ...     Monaco Grand Prix        Engine\n",
              "18111      95        17  ...     Monaco Grand Prix       Gearbox\n",
              "...       ...       ...  ...                   ...           ...\n",
              "23772     975       807  ...   Canadian Grand Prix      Finished\n",
              "23773     975         8  ...   Canadian Grand Prix      Finished\n",
              "23774     975       839  ...   Canadian Grand Prix      Finished\n",
              "23775     975         4  ...   Canadian Grand Prix    Power Unit\n",
              "23776     988       817  ...  Abu Dhabi Grand Prix    Hydraulics\n",
              "\n",
              "[5382 rows x 13 columns]"
            ]
          },
          "metadata": {
            "tags": []
          },
          "execution_count": 41
        }
      ]
    },
    {
      "cell_type": "code",
      "metadata": {
        "id": "xyUyw3wxBjcq",
        "colab_type": "code",
        "colab": {}
      },
      "source": [
        "temp_df1.set_index(['name', 'year'], inplace=True)\n"
      ],
      "execution_count": 0,
      "outputs": []
    },
    {
      "cell_type": "code",
      "metadata": {
        "id": "CmxPVpCIBjcw",
        "colab_type": "code",
        "colab": {}
      },
      "source": [
        "temp_df1_sort = temp_df1.sort_index()"
      ],
      "execution_count": 0,
      "outputs": []
    },
    {
      "cell_type": "code",
      "metadata": {
        "id": "lDSP6_voBjcz",
        "colab_type": "code",
        "outputId": "7750b4ea-19bf-4835-fef9-d38d5afd021d",
        "colab": {
          "base_uri": "https://localhost:8080/",
          "height": 677
        }
      },
      "source": [
        "temp_df1_sort.loc[('Monaco Grand Prix',2004),:]"
      ],
      "execution_count": 44,
      "outputs": [
        {
          "output_type": "execute_result",
          "data": {
            "text/html": [
              "<div>\n",
              "<style scoped>\n",
              "    .dataframe tbody tr th:only-of-type {\n",
              "        vertical-align: middle;\n",
              "    }\n",
              "\n",
              "    .dataframe tbody tr th {\n",
              "        vertical-align: top;\n",
              "    }\n",
              "\n",
              "    .dataframe thead th {\n",
              "        text-align: right;\n",
              "    }\n",
              "</style>\n",
              "<table border=\"1\" class=\"dataframe\">\n",
              "  <thead>\n",
              "    <tr style=\"text-align: right;\">\n",
              "      <th></th>\n",
              "      <th></th>\n",
              "      <th>raceId</th>\n",
              "      <th>driverId</th>\n",
              "      <th>constructorId</th>\n",
              "      <th>positionOrder</th>\n",
              "      <th>points</th>\n",
              "      <th>laps</th>\n",
              "      <th>milliseconds</th>\n",
              "      <th>fastestLapSpeed</th>\n",
              "      <th>statusId</th>\n",
              "      <th>round</th>\n",
              "      <th>status</th>\n",
              "    </tr>\n",
              "    <tr>\n",
              "      <th>name</th>\n",
              "      <th>year</th>\n",
              "      <th></th>\n",
              "      <th></th>\n",
              "      <th></th>\n",
              "      <th></th>\n",
              "      <th></th>\n",
              "      <th></th>\n",
              "      <th></th>\n",
              "      <th></th>\n",
              "      <th></th>\n",
              "      <th></th>\n",
              "      <th></th>\n",
              "    </tr>\n",
              "  </thead>\n",
              "  <tbody>\n",
              "    <tr>\n",
              "      <th rowspan=\"19\" valign=\"top\">Monaco Grand Prix</th>\n",
              "      <th>2004</th>\n",
              "      <td>95</td>\n",
              "      <td>21</td>\n",
              "      <td>15</td>\n",
              "      <td>19</td>\n",
              "      <td>0.0</td>\n",
              "      <td>2</td>\n",
              "      <td>NaN</td>\n",
              "      <td>148.804001</td>\n",
              "      <td>4</td>\n",
              "      <td>6</td>\n",
              "      <td>Collision</td>\n",
              "    </tr>\n",
              "    <tr>\n",
              "      <th>2004</th>\n",
              "      <td>95</td>\n",
              "      <td>45</td>\n",
              "      <td>17</td>\n",
              "      <td>15</td>\n",
              "      <td>0.0</td>\n",
              "      <td>12</td>\n",
              "      <td>NaN</td>\n",
              "      <td>151.406998</td>\n",
              "      <td>7</td>\n",
              "      <td>6</td>\n",
              "      <td>Transmission</td>\n",
              "    </tr>\n",
              "    <tr>\n",
              "      <th>2004</th>\n",
              "      <td>95</td>\n",
              "      <td>11</td>\n",
              "      <td>16</td>\n",
              "      <td>17</td>\n",
              "      <td>0.0</td>\n",
              "      <td>2</td>\n",
              "      <td>NaN</td>\n",
              "      <td>147.772995</td>\n",
              "      <td>5</td>\n",
              "      <td>6</td>\n",
              "      <td>Engine</td>\n",
              "    </tr>\n",
              "    <tr>\n",
              "      <th>2004</th>\n",
              "      <td>95</td>\n",
              "      <td>17</td>\n",
              "      <td>19</td>\n",
              "      <td>16</td>\n",
              "      <td>0.0</td>\n",
              "      <td>11</td>\n",
              "      <td>NaN</td>\n",
              "      <td>155.216003</td>\n",
              "      <td>6</td>\n",
              "      <td>6</td>\n",
              "      <td>Gearbox</td>\n",
              "    </tr>\n",
              "    <tr>\n",
              "      <th>2004</th>\n",
              "      <td>95</td>\n",
              "      <td>14</td>\n",
              "      <td>1</td>\n",
              "      <td>18</td>\n",
              "      <td>0.0</td>\n",
              "      <td>2</td>\n",
              "      <td>NaN</td>\n",
              "      <td>149.255005</td>\n",
              "      <td>4</td>\n",
              "      <td>6</td>\n",
              "      <td>Collision</td>\n",
              "    </tr>\n",
              "    <tr>\n",
              "      <th>2004</th>\n",
              "      <td>95</td>\n",
              "      <td>46</td>\n",
              "      <td>18</td>\n",
              "      <td>14</td>\n",
              "      <td>0.0</td>\n",
              "      <td>15</td>\n",
              "      <td>NaN</td>\n",
              "      <td>147.367004</td>\n",
              "      <td>6</td>\n",
              "      <td>6</td>\n",
              "      <td>Gearbox</td>\n",
              "    </tr>\n",
              "    <tr>\n",
              "      <th>2004</th>\n",
              "      <td>95</td>\n",
              "      <td>8</td>\n",
              "      <td>1</td>\n",
              "      <td>13</td>\n",
              "      <td>0.0</td>\n",
              "      <td>27</td>\n",
              "      <td>NaN</td>\n",
              "      <td>157.789001</td>\n",
              "      <td>63</td>\n",
              "      <td>6</td>\n",
              "      <td>Pneumatics</td>\n",
              "    </tr>\n",
              "    <tr>\n",
              "      <th>2004</th>\n",
              "      <td>95</td>\n",
              "      <td>30</td>\n",
              "      <td>6</td>\n",
              "      <td>11</td>\n",
              "      <td>0.0</td>\n",
              "      <td>45</td>\n",
              "      <td>NaN</td>\n",
              "      <td>161.528000</td>\n",
              "      <td>4</td>\n",
              "      <td>6</td>\n",
              "      <td>Collision</td>\n",
              "    </tr>\n",
              "    <tr>\n",
              "      <th>2004</th>\n",
              "      <td>95</td>\n",
              "      <td>4</td>\n",
              "      <td>4</td>\n",
              "      <td>12</td>\n",
              "      <td>0.0</td>\n",
              "      <td>41</td>\n",
              "      <td>NaN</td>\n",
              "      <td>159.837997</td>\n",
              "      <td>3</td>\n",
              "      <td>6</td>\n",
              "      <td>Accident</td>\n",
              "    </tr>\n",
              "    <tr>\n",
              "      <th>2004</th>\n",
              "      <td>95</td>\n",
              "      <td>15</td>\n",
              "      <td>4</td>\n",
              "      <td>1</td>\n",
              "      <td>10.0</td>\n",
              "      <td>77</td>\n",
              "      <td>6346601.0</td>\n",
              "      <td>160.598007</td>\n",
              "      <td>1</td>\n",
              "      <td>6</td>\n",
              "      <td>Finished</td>\n",
              "    </tr>\n",
              "    <tr>\n",
              "      <th>2004</th>\n",
              "      <td>95</td>\n",
              "      <td>22</td>\n",
              "      <td>6</td>\n",
              "      <td>3</td>\n",
              "      <td>6.0</td>\n",
              "      <td>77</td>\n",
              "      <td>6422367.0</td>\n",
              "      <td>158.705002</td>\n",
              "      <td>1</td>\n",
              "      <td>6</td>\n",
              "      <td>Finished</td>\n",
              "    </tr>\n",
              "    <tr>\n",
              "      <th>2004</th>\n",
              "      <td>95</td>\n",
              "      <td>31</td>\n",
              "      <td>3</td>\n",
              "      <td>4</td>\n",
              "      <td>5.0</td>\n",
              "      <td>76</td>\n",
              "      <td>NaN</td>\n",
              "      <td>159.479996</td>\n",
              "      <td>11</td>\n",
              "      <td>6</td>\n",
              "      <td>+1 Lap</td>\n",
              "    </tr>\n",
              "    <tr>\n",
              "      <th>2004</th>\n",
              "      <td>95</td>\n",
              "      <td>13</td>\n",
              "      <td>15</td>\n",
              "      <td>5</td>\n",
              "      <td>4.0</td>\n",
              "      <td>76</td>\n",
              "      <td>NaN</td>\n",
              "      <td>155.850006</td>\n",
              "      <td>11</td>\n",
              "      <td>6</td>\n",
              "      <td>+1 Lap</td>\n",
              "    </tr>\n",
              "    <tr>\n",
              "      <th>2004</th>\n",
              "      <td>95</td>\n",
              "      <td>43</td>\n",
              "      <td>7</td>\n",
              "      <td>6</td>\n",
              "      <td>3.0</td>\n",
              "      <td>76</td>\n",
              "      <td>NaN</td>\n",
              "      <td>157.729004</td>\n",
              "      <td>11</td>\n",
              "      <td>6</td>\n",
              "      <td>+1 Lap</td>\n",
              "    </tr>\n",
              "    <tr>\n",
              "      <th>2004</th>\n",
              "      <td>95</td>\n",
              "      <td>2</td>\n",
              "      <td>17</td>\n",
              "      <td>7</td>\n",
              "      <td>2.0</td>\n",
              "      <td>75</td>\n",
              "      <td>NaN</td>\n",
              "      <td>153.636993</td>\n",
              "      <td>12</td>\n",
              "      <td>6</td>\n",
              "      <td>+2 Laps</td>\n",
              "    </tr>\n",
              "    <tr>\n",
              "      <th>2004</th>\n",
              "      <td>95</td>\n",
              "      <td>44</td>\n",
              "      <td>7</td>\n",
              "      <td>8</td>\n",
              "      <td>1.0</td>\n",
              "      <td>74</td>\n",
              "      <td>NaN</td>\n",
              "      <td>157.188004</td>\n",
              "      <td>13</td>\n",
              "      <td>6</td>\n",
              "      <td>+3 Laps</td>\n",
              "    </tr>\n",
              "    <tr>\n",
              "      <th>2004</th>\n",
              "      <td>95</td>\n",
              "      <td>47</td>\n",
              "      <td>18</td>\n",
              "      <td>9</td>\n",
              "      <td>0.0</td>\n",
              "      <td>71</td>\n",
              "      <td>NaN</td>\n",
              "      <td>146.837997</td>\n",
              "      <td>16</td>\n",
              "      <td>6</td>\n",
              "      <td>+6 Laps</td>\n",
              "    </tr>\n",
              "    <tr>\n",
              "      <th>2004</th>\n",
              "      <td>95</td>\n",
              "      <td>23</td>\n",
              "      <td>3</td>\n",
              "      <td>10</td>\n",
              "      <td>0.0</td>\n",
              "      <td>69</td>\n",
              "      <td>NaN</td>\n",
              "      <td>154.972000</td>\n",
              "      <td>6</td>\n",
              "      <td>6</td>\n",
              "      <td>Gearbox</td>\n",
              "    </tr>\n",
              "    <tr>\n",
              "      <th>2004</th>\n",
              "      <td>95</td>\n",
              "      <td>18</td>\n",
              "      <td>16</td>\n",
              "      <td>2</td>\n",
              "      <td>8.0</td>\n",
              "      <td>77</td>\n",
              "      <td>6347098.0</td>\n",
              "      <td>159.850998</td>\n",
              "      <td>1</td>\n",
              "      <td>6</td>\n",
              "      <td>Finished</td>\n",
              "    </tr>\n",
              "  </tbody>\n",
              "</table>\n",
              "</div>"
            ],
            "text/plain": [
              "                        raceId  driverId  ...  round        status\n",
              "name              year                    ...                     \n",
              "Monaco Grand Prix 2004      95        21  ...      6     Collision\n",
              "                  2004      95        45  ...      6  Transmission\n",
              "                  2004      95        11  ...      6        Engine\n",
              "                  2004      95        17  ...      6       Gearbox\n",
              "                  2004      95        14  ...      6     Collision\n",
              "                  2004      95        46  ...      6       Gearbox\n",
              "                  2004      95         8  ...      6    Pneumatics\n",
              "                  2004      95        30  ...      6     Collision\n",
              "                  2004      95         4  ...      6      Accident\n",
              "                  2004      95        15  ...      6      Finished\n",
              "                  2004      95        22  ...      6      Finished\n",
              "                  2004      95        31  ...      6        +1 Lap\n",
              "                  2004      95        13  ...      6        +1 Lap\n",
              "                  2004      95        43  ...      6        +1 Lap\n",
              "                  2004      95         2  ...      6       +2 Laps\n",
              "                  2004      95        44  ...      6       +3 Laps\n",
              "                  2004      95        47  ...      6       +6 Laps\n",
              "                  2004      95        23  ...      6       Gearbox\n",
              "                  2004      95        18  ...      6      Finished\n",
              "\n",
              "[19 rows x 11 columns]"
            ]
          },
          "metadata": {
            "tags": []
          },
          "execution_count": 44
        }
      ]
    },
    {
      "cell_type": "code",
      "metadata": {
        "id": "q6M0dXmMBjc2",
        "colab_type": "code",
        "colab": {}
      },
      "source": [
        ""
      ],
      "execution_count": 0,
      "outputs": []
    },
    {
      "cell_type": "code",
      "metadata": {
        "id": "aoTutYa9Bjc6",
        "colab_type": "code",
        "outputId": "3a84cdcb-3402-4934-c6bf-4892395be8b1",
        "colab": {
          "base_uri": "https://localhost:8080/",
          "height": 34
        }
      },
      "source": [
        "temp_df1_sort.loc[('Monaco Grand Prix',2004),:]['fastestLapSpeed'].max()"
      ],
      "execution_count": 45,
      "outputs": [
        {
          "output_type": "execute_result",
          "data": {
            "text/plain": [
              "161.5279998779297"
            ]
          },
          "metadata": {
            "tags": []
          },
          "execution_count": 45
        }
      ]
    },
    {
      "cell_type": "code",
      "metadata": {
        "id": "Zqc_BXF-Bjc9",
        "colab_type": "code",
        "colab": {}
      },
      "source": [
        ""
      ],
      "execution_count": 0,
      "outputs": []
    },
    {
      "cell_type": "code",
      "metadata": {
        "id": "dMBfQPyTBjdD",
        "colab_type": "code",
        "colab": {}
      },
      "source": [
        "first=[]"
      ],
      "execution_count": 0,
      "outputs": []
    },
    {
      "cell_type": "code",
      "metadata": {
        "id": "39f0h_ECBjdF",
        "colab_type": "code",
        "colab": {}
      },
      "source": [
        "for i in temp_df1_sort.index:\n",
        "    first.append(i)"
      ],
      "execution_count": 0,
      "outputs": []
    },
    {
      "cell_type": "code",
      "metadata": {
        "id": "f6EDyvGEBjdI",
        "colab_type": "code",
        "colab": {}
      },
      "source": [
        "first = sorted(list(set(first)))"
      ],
      "execution_count": 0,
      "outputs": []
    },
    {
      "cell_type": "code",
      "metadata": {
        "id": "SFbc8KuBBjdK",
        "colab_type": "code",
        "outputId": "f09e9eab-288e-4d1d-cd51-e3bc3e505833",
        "colab": {
          "base_uri": "https://localhost:8080/",
          "height": 34
        }
      },
      "source": [
        "len(first)"
      ],
      "execution_count": 49,
      "outputs": [
        {
          "output_type": "execute_result",
          "data": {
            "text/plain": [
              "262"
            ]
          },
          "metadata": {
            "tags": []
          },
          "execution_count": 49
        }
      ]
    },
    {
      "cell_type": "code",
      "metadata": {
        "id": "RV-TXcGOBjdO",
        "colab_type": "code",
        "colab": {}
      },
      "source": [
        "my_dict = dict()"
      ],
      "execution_count": 0,
      "outputs": []
    },
    {
      "cell_type": "code",
      "metadata": {
        "id": "PqsY0JC-BjdP",
        "colab_type": "code",
        "colab": {}
      },
      "source": [
        "for i in first:\n",
        "    #print(temp_df1_sort.loc[i,:]['fastestLapSpeed'].max())\n",
        "    my_dict[i] = temp_df1_sort.loc[i,:]['fastestLapSpeed'].max()"
      ],
      "execution_count": 0,
      "outputs": []
    },
    {
      "cell_type": "code",
      "metadata": {
        "id": "PWtefxW3BjdS",
        "colab_type": "code",
        "colab": {}
      },
      "source": [
        ""
      ],
      "execution_count": 0,
      "outputs": []
    },
    {
      "cell_type": "code",
      "metadata": {
        "id": "kjgEOfQrBjdV",
        "colab_type": "code",
        "colab": {}
      },
      "source": [
        "\n"
      ],
      "execution_count": 0,
      "outputs": []
    },
    {
      "cell_type": "code",
      "metadata": {
        "id": "6HIGbRioBjdY",
        "colab_type": "code",
        "colab": {}
      },
      "source": [
        "a,b = [], []\n",
        "for k,v in my_dict.items():\n",
        "    a.append(k)\n",
        "    b.append(v)"
      ],
      "execution_count": 0,
      "outputs": []
    },
    {
      "cell_type": "code",
      "metadata": {
        "id": "MaRFo1dQBjdb",
        "colab_type": "code",
        "colab": {}
      },
      "source": [
        "df_ =pd.DataFrame({'name':a, 'speed':b})"
      ],
      "execution_count": 0,
      "outputs": []
    },
    {
      "cell_type": "code",
      "metadata": {
        "id": "nhSnitNiBjde",
        "colab_type": "code",
        "colab": {}
      },
      "source": [
        "gp=[]\n",
        "for i in first:\n",
        "    gp.append(i[0])\n",
        "gp = sorted(list(set(gp)))"
      ],
      "execution_count": 0,
      "outputs": []
    },
    {
      "cell_type": "code",
      "metadata": {
        "id": "L0-U60uFBjdg",
        "colab_type": "code",
        "colab": {}
      },
      "source": [
        ""
      ],
      "execution_count": 0,
      "outputs": []
    },
    {
      "cell_type": "code",
      "metadata": {
        "id": "069i_sjcBjdi",
        "colab_type": "code",
        "colab": {}
      },
      "source": [
        ""
      ],
      "execution_count": 0,
      "outputs": []
    },
    {
      "cell_type": "code",
      "metadata": {
        "id": "0XvCIlvmBjdl",
        "colab_type": "code",
        "colab": {}
      },
      "source": [
        ""
      ],
      "execution_count": 0,
      "outputs": []
    },
    {
      "cell_type": "code",
      "metadata": {
        "id": "Vni-rc7IBjdn",
        "colab_type": "code",
        "colab": {}
      },
      "source": [
        "df_[['GP_name', 'year']] = pd.DataFrame(df_['name'].values.tolist(), index=df_.index)"
      ],
      "execution_count": 0,
      "outputs": []
    },
    {
      "cell_type": "code",
      "metadata": {
        "id": "cnNZa6eQBjdq",
        "colab_type": "code",
        "colab": {}
      },
      "source": [
        "df_.drop('name', inplace=True, axis=1)"
      ],
      "execution_count": 0,
      "outputs": []
    },
    {
      "cell_type": "code",
      "metadata": {
        "id": "9NONKtJmBjdx",
        "colab_type": "code",
        "colab": {}
      },
      "source": [
        "df_ = df_[['GP_name', 'year', 'speed']]"
      ],
      "execution_count": 0,
      "outputs": []
    },
    {
      "cell_type": "code",
      "metadata": {
        "id": "N14T9bpdBjdz",
        "colab_type": "code",
        "colab": {}
      },
      "source": [
        "df_.set_index(['GP_name'], inplace=True)"
      ],
      "execution_count": 0,
      "outputs": []
    },
    {
      "cell_type": "code",
      "metadata": {
        "id": "e0IXg6RKBjd1",
        "colab_type": "code",
        "outputId": "79dafbab-d59f-495e-ff24-3543a8d142e7",
        "colab": {
          "base_uri": "https://localhost:8080/",
          "height": 455
        }
      },
      "source": [
        "df_"
      ],
      "execution_count": 59,
      "outputs": [
        {
          "output_type": "execute_result",
          "data": {
            "text/html": [
              "<div>\n",
              "<style scoped>\n",
              "    .dataframe tbody tr th:only-of-type {\n",
              "        vertical-align: middle;\n",
              "    }\n",
              "\n",
              "    .dataframe tbody tr th {\n",
              "        vertical-align: top;\n",
              "    }\n",
              "\n",
              "    .dataframe thead th {\n",
              "        text-align: right;\n",
              "    }\n",
              "</style>\n",
              "<table border=\"1\" class=\"dataframe\">\n",
              "  <thead>\n",
              "    <tr style=\"text-align: right;\">\n",
              "      <th></th>\n",
              "      <th>year</th>\n",
              "      <th>speed</th>\n",
              "    </tr>\n",
              "    <tr>\n",
              "      <th>GP_name</th>\n",
              "      <th></th>\n",
              "      <th></th>\n",
              "    </tr>\n",
              "  </thead>\n",
              "  <tbody>\n",
              "    <tr>\n",
              "      <th>Abu Dhabi Grand Prix</th>\n",
              "      <td>2009</td>\n",
              "      <td>199.386993</td>\n",
              "    </tr>\n",
              "    <tr>\n",
              "      <th>Abu Dhabi Grand Prix</th>\n",
              "      <td>2010</td>\n",
              "      <td>197.427994</td>\n",
              "    </tr>\n",
              "    <tr>\n",
              "      <th>Abu Dhabi Grand Prix</th>\n",
              "      <td>2011</td>\n",
              "      <td>194.854004</td>\n",
              "    </tr>\n",
              "    <tr>\n",
              "      <th>Abu Dhabi Grand Prix</th>\n",
              "      <td>2012</td>\n",
              "      <td>192.320007</td>\n",
              "    </tr>\n",
              "    <tr>\n",
              "      <th>Abu Dhabi Grand Prix</th>\n",
              "      <td>2013</td>\n",
              "      <td>193.304993</td>\n",
              "    </tr>\n",
              "    <tr>\n",
              "      <th>...</th>\n",
              "      <td>...</td>\n",
              "      <td>...</td>\n",
              "    </tr>\n",
              "    <tr>\n",
              "      <th>United States Grand Prix</th>\n",
              "      <td>2013</td>\n",
              "      <td>198.753998</td>\n",
              "    </tr>\n",
              "    <tr>\n",
              "      <th>United States Grand Prix</th>\n",
              "      <td>2014</td>\n",
              "      <td>195.768005</td>\n",
              "    </tr>\n",
              "    <tr>\n",
              "      <th>United States Grand Prix</th>\n",
              "      <td>2015</td>\n",
              "      <td>197.154007</td>\n",
              "    </tr>\n",
              "    <tr>\n",
              "      <th>United States Grand Prix</th>\n",
              "      <td>2016</td>\n",
              "      <td>198.712006</td>\n",
              "    </tr>\n",
              "    <tr>\n",
              "      <th>United States Grand Prix</th>\n",
              "      <td>2017</td>\n",
              "      <td>203.003006</td>\n",
              "    </tr>\n",
              "  </tbody>\n",
              "</table>\n",
              "<p>262 rows × 2 columns</p>\n",
              "</div>"
            ],
            "text/plain": [
              "                          year       speed\n",
              "GP_name                                   \n",
              "Abu Dhabi Grand Prix      2009  199.386993\n",
              "Abu Dhabi Grand Prix      2010  197.427994\n",
              "Abu Dhabi Grand Prix      2011  194.854004\n",
              "Abu Dhabi Grand Prix      2012  192.320007\n",
              "Abu Dhabi Grand Prix      2013  193.304993\n",
              "...                        ...         ...\n",
              "United States Grand Prix  2013  198.753998\n",
              "United States Grand Prix  2014  195.768005\n",
              "United States Grand Prix  2015  197.154007\n",
              "United States Grand Prix  2016  198.712006\n",
              "United States Grand Prix  2017  203.003006\n",
              "\n",
              "[262 rows x 2 columns]"
            ]
          },
          "metadata": {
            "tags": []
          },
          "execution_count": 59
        }
      ]
    },
    {
      "cell_type": "code",
      "metadata": {
        "id": "R1hspTGfBjd4",
        "colab_type": "code",
        "colab": {}
      },
      "source": [
        ""
      ],
      "execution_count": 0,
      "outputs": []
    },
    {
      "cell_type": "code",
      "metadata": {
        "id": "VAA3FA59Bjd6",
        "colab_type": "code",
        "colab": {}
      },
      "source": [
        ""
      ],
      "execution_count": 0,
      "outputs": []
    },
    {
      "cell_type": "code",
      "metadata": {
        "id": "YFt3XZb8Bjd9",
        "colab_type": "code",
        "colab": {}
      },
      "source": [
        "df_['Race']=df_.index"
      ],
      "execution_count": 0,
      "outputs": []
    },
    {
      "cell_type": "code",
      "metadata": {
        "id": "yE5POURwBjeN",
        "colab_type": "code",
        "outputId": "da600b3b-a450-4c63-f783-4f73a2fac6ee",
        "colab": {
          "base_uri": "https://localhost:8080/",
          "height": 895
        }
      },
      "source": [
        "g = sns.FacetGrid(df_, col='Race',col_wrap=5, height=2,aspect=2)\n",
        "g = g.map(plt.plot,'year', \"speed\",marker=\".\").set(xticks=list(sorted(df_['year'].unique())), yticks=[150, 175, 200, 225, 250])\n",
        "#g.set(xticks=df_['year'])\n",
        "#plt.grid(b=True, which='major', color='#666666', linestyle='-')\n",
        "for ax in g.axes.flat:\n",
        "    for label in ax.get_yticklabels():\n",
        "        label.set_rotation(30)\n",
        "for ax in g.axes.flat:\n",
        "    for label in ax.get_xticklabels():\n",
        "        label.set_rotation(60)\n",
        "for ax in g.axes.flat:\n",
        "    ax.grid(b=True, which='major')\n",
        "    ax.grid(b=True, which='minor')\n",
        "\n",
        "plt.subplots_adjust(top=0.9)\n",
        "g.fig.suptitle('Fastest Lap in each Grand Prix (2004-2017)')\n",
        "#plt.savefig('lapspeed.png', bbox_inches='tight')"
      ],
      "execution_count": 61,
      "outputs": [
        {
          "output_type": "execute_result",
          "data": {
            "text/plain": [
              "Text(0.5, 0.98, 'Fastest Lap in each Grand Prix (2004-2017)')"
            ]
          },
          "metadata": {
            "tags": []
          },
          "execution_count": 61
        },
        {
          "output_type": "display_data",
          "data": {
            "image/png": "[encoded data removed]",
            "text/plain": [
              "<Figure size 1440x864 with 27 Axes>"
            ]
          },
          "metadata": {
            "tags": [],
            "needs_background": "light"
          }
        }
      ]
    },
    {
      "cell_type": "code",
      "metadata": {
        "id": "pVzyVdXLBjeQ",
        "colab_type": "code",
        "outputId": "ce9aa6f7-b70e-4bd9-95b3-c7040593c2a5",
        "colab": {
          "base_uri": "https://localhost:8080/",
          "height": 206
        }
      },
      "source": [
        "results_merged.head()\n"
      ],
      "execution_count": 62,
      "outputs": [
        {
          "output_type": "execute_result",
          "data": {
            "text/html": [
              "<div>\n",
              "<style scoped>\n",
              "    .dataframe tbody tr th:only-of-type {\n",
              "        vertical-align: middle;\n",
              "    }\n",
              "\n",
              "    .dataframe tbody tr th {\n",
              "        vertical-align: top;\n",
              "    }\n",
              "\n",
              "    .dataframe thead th {\n",
              "        text-align: right;\n",
              "    }\n",
              "</style>\n",
              "<table border=\"1\" class=\"dataframe\">\n",
              "  <thead>\n",
              "    <tr style=\"text-align: right;\">\n",
              "      <th></th>\n",
              "      <th>raceId</th>\n",
              "      <th>driverId</th>\n",
              "      <th>constructorId</th>\n",
              "      <th>positionOrder</th>\n",
              "      <th>points</th>\n",
              "      <th>laps</th>\n",
              "      <th>milliseconds</th>\n",
              "      <th>fastestLapSpeed</th>\n",
              "      <th>statusId</th>\n",
              "      <th>year</th>\n",
              "      <th>round</th>\n",
              "      <th>name</th>\n",
              "      <th>status</th>\n",
              "    </tr>\n",
              "  </thead>\n",
              "  <tbody>\n",
              "    <tr>\n",
              "      <th>0</th>\n",
              "      <td>835</td>\n",
              "      <td>559</td>\n",
              "      <td>113</td>\n",
              "      <td>10</td>\n",
              "      <td>0.0</td>\n",
              "      <td>135</td>\n",
              "      <td>NaN</td>\n",
              "      <td>NaN</td>\n",
              "      <td>13</td>\n",
              "      <td>1950</td>\n",
              "      <td>3</td>\n",
              "      <td>Indianapolis 500</td>\n",
              "      <td>+3 Laps</td>\n",
              "    </tr>\n",
              "    <tr>\n",
              "      <th>1</th>\n",
              "      <td>835</td>\n",
              "      <td>796</td>\n",
              "      <td>158</td>\n",
              "      <td>22</td>\n",
              "      <td>0.0</td>\n",
              "      <td>123</td>\n",
              "      <td>NaN</td>\n",
              "      <td>NaN</td>\n",
              "      <td>112</td>\n",
              "      <td>1950</td>\n",
              "      <td>3</td>\n",
              "      <td>Indianapolis 500</td>\n",
              "      <td>+15 Laps</td>\n",
              "    </tr>\n",
              "    <tr>\n",
              "      <th>2</th>\n",
              "      <td>835</td>\n",
              "      <td>659</td>\n",
              "      <td>113</td>\n",
              "      <td>21</td>\n",
              "      <td>0.0</td>\n",
              "      <td>125</td>\n",
              "      <td>NaN</td>\n",
              "      <td>NaN</td>\n",
              "      <td>53</td>\n",
              "      <td>1950</td>\n",
              "      <td>3</td>\n",
              "      <td>Indianapolis 500</td>\n",
              "      <td>+13 Laps</td>\n",
              "    </tr>\n",
              "    <tr>\n",
              "      <th>3</th>\n",
              "      <td>835</td>\n",
              "      <td>677</td>\n",
              "      <td>105</td>\n",
              "      <td>20</td>\n",
              "      <td>0.0</td>\n",
              "      <td>126</td>\n",
              "      <td>NaN</td>\n",
              "      <td>NaN</td>\n",
              "      <td>55</td>\n",
              "      <td>1950</td>\n",
              "      <td>3</td>\n",
              "      <td>Indianapolis 500</td>\n",
              "      <td>+12 Laps</td>\n",
              "    </tr>\n",
              "    <tr>\n",
              "      <th>4</th>\n",
              "      <td>835</td>\n",
              "      <td>771</td>\n",
              "      <td>113</td>\n",
              "      <td>19</td>\n",
              "      <td>0.0</td>\n",
              "      <td>127</td>\n",
              "      <td>NaN</td>\n",
              "      <td>NaN</td>\n",
              "      <td>45</td>\n",
              "      <td>1950</td>\n",
              "      <td>3</td>\n",
              "      <td>Indianapolis 500</td>\n",
              "      <td>+11 Laps</td>\n",
              "    </tr>\n",
              "  </tbody>\n",
              "</table>\n",
              "</div>"
            ],
            "text/plain": [
              "   raceId  driverId  constructorId  ...  round              name    status\n",
              "0     835       559            113  ...      3  Indianapolis 500   +3 Laps\n",
              "1     835       796            158  ...      3  Indianapolis 500  +15 Laps\n",
              "2     835       659            113  ...      3  Indianapolis 500  +13 Laps\n",
              "3     835       677            105  ...      3  Indianapolis 500  +12 Laps\n",
              "4     835       771            113  ...      3  Indianapolis 500  +11 Laps\n",
              "\n",
              "[5 rows x 13 columns]"
            ]
          },
          "metadata": {
            "tags": []
          },
          "execution_count": 62
        }
      ]
    },
    {
      "cell_type": "code",
      "metadata": {
        "id": "oUQ66TuWBjeT",
        "colab_type": "code",
        "outputId": "2380343e-8b16-4100-ad35-12cc8025eda2",
        "colab": {
          "base_uri": "https://localhost:8080/",
          "height": 206
        }
      },
      "source": [
        "driver_standing_merged.head()\n"
      ],
      "execution_count": 63,
      "outputs": [
        {
          "output_type": "execute_result",
          "data": {
            "text/html": [
              "<div>\n",
              "<style scoped>\n",
              "    .dataframe tbody tr th:only-of-type {\n",
              "        vertical-align: middle;\n",
              "    }\n",
              "\n",
              "    .dataframe tbody tr th {\n",
              "        vertical-align: top;\n",
              "    }\n",
              "\n",
              "    .dataframe thead th {\n",
              "        text-align: right;\n",
              "    }\n",
              "</style>\n",
              "<table border=\"1\" class=\"dataframe\">\n",
              "  <thead>\n",
              "    <tr style=\"text-align: right;\">\n",
              "      <th></th>\n",
              "      <th>raceId</th>\n",
              "      <th>driverId</th>\n",
              "      <th>points</th>\n",
              "      <th>position</th>\n",
              "      <th>wins</th>\n",
              "      <th>driverRef</th>\n",
              "      <th>code</th>\n",
              "      <th>forename</th>\n",
              "      <th>surname</th>\n",
              "      <th>dob</th>\n",
              "      <th>nationality</th>\n",
              "    </tr>\n",
              "  </thead>\n",
              "  <tbody>\n",
              "    <tr>\n",
              "      <th>0</th>\n",
              "      <td>18</td>\n",
              "      <td>1</td>\n",
              "      <td>10.0</td>\n",
              "      <td>1</td>\n",
              "      <td>1</td>\n",
              "      <td>hamilton</td>\n",
              "      <td>HAM</td>\n",
              "      <td>Lewis</td>\n",
              "      <td>Hamilton</td>\n",
              "      <td>07/01/1985</td>\n",
              "      <td>British</td>\n",
              "    </tr>\n",
              "    <tr>\n",
              "      <th>1</th>\n",
              "      <td>19</td>\n",
              "      <td>1</td>\n",
              "      <td>14.0</td>\n",
              "      <td>1</td>\n",
              "      <td>1</td>\n",
              "      <td>hamilton</td>\n",
              "      <td>HAM</td>\n",
              "      <td>Lewis</td>\n",
              "      <td>Hamilton</td>\n",
              "      <td>07/01/1985</td>\n",
              "      <td>British</td>\n",
              "    </tr>\n",
              "    <tr>\n",
              "      <th>2</th>\n",
              "      <td>20</td>\n",
              "      <td>1</td>\n",
              "      <td>14.0</td>\n",
              "      <td>3</td>\n",
              "      <td>1</td>\n",
              "      <td>hamilton</td>\n",
              "      <td>HAM</td>\n",
              "      <td>Lewis</td>\n",
              "      <td>Hamilton</td>\n",
              "      <td>07/01/1985</td>\n",
              "      <td>British</td>\n",
              "    </tr>\n",
              "    <tr>\n",
              "      <th>3</th>\n",
              "      <td>21</td>\n",
              "      <td>1</td>\n",
              "      <td>20.0</td>\n",
              "      <td>2</td>\n",
              "      <td>1</td>\n",
              "      <td>hamilton</td>\n",
              "      <td>HAM</td>\n",
              "      <td>Lewis</td>\n",
              "      <td>Hamilton</td>\n",
              "      <td>07/01/1985</td>\n",
              "      <td>British</td>\n",
              "    </tr>\n",
              "    <tr>\n",
              "      <th>4</th>\n",
              "      <td>22</td>\n",
              "      <td>1</td>\n",
              "      <td>28.0</td>\n",
              "      <td>3</td>\n",
              "      <td>1</td>\n",
              "      <td>hamilton</td>\n",
              "      <td>HAM</td>\n",
              "      <td>Lewis</td>\n",
              "      <td>Hamilton</td>\n",
              "      <td>07/01/1985</td>\n",
              "      <td>British</td>\n",
              "    </tr>\n",
              "  </tbody>\n",
              "</table>\n",
              "</div>"
            ],
            "text/plain": [
              "   raceId  driverId  points  ...   surname         dob nationality\n",
              "0      18         1    10.0  ...  Hamilton  07/01/1985     British\n",
              "1      19         1    14.0  ...  Hamilton  07/01/1985     British\n",
              "2      20         1    14.0  ...  Hamilton  07/01/1985     British\n",
              "3      21         1    20.0  ...  Hamilton  07/01/1985     British\n",
              "4      22         1    28.0  ...  Hamilton  07/01/1985     British\n",
              "\n",
              "[5 rows x 11 columns]"
            ]
          },
          "metadata": {
            "tags": []
          },
          "execution_count": 63
        }
      ]
    },
    {
      "cell_type": "code",
      "metadata": {
        "id": "eMOKMogoBjeW",
        "colab_type": "code",
        "outputId": "6aaf6acf-661b-405e-f809-33ad97f2056d",
        "colab": {
          "base_uri": "https://localhost:8080/",
          "height": 206
        }
      },
      "source": [
        "constructor_merged.head()\n"
      ],
      "execution_count": 64,
      "outputs": [
        {
          "output_type": "execute_result",
          "data": {
            "text/html": [
              "<div>\n",
              "<style scoped>\n",
              "    .dataframe tbody tr th:only-of-type {\n",
              "        vertical-align: middle;\n",
              "    }\n",
              "\n",
              "    .dataframe tbody tr th {\n",
              "        vertical-align: top;\n",
              "    }\n",
              "\n",
              "    .dataframe thead th {\n",
              "        text-align: right;\n",
              "    }\n",
              "</style>\n",
              "<table border=\"1\" class=\"dataframe\">\n",
              "  <thead>\n",
              "    <tr style=\"text-align: right;\">\n",
              "      <th></th>\n",
              "      <th>constructorId</th>\n",
              "      <th>constructorRef</th>\n",
              "      <th>name</th>\n",
              "      <th>nationality</th>\n",
              "      <th>raceId</th>\n",
              "      <th>points</th>\n",
              "    </tr>\n",
              "  </thead>\n",
              "  <tbody>\n",
              "    <tr>\n",
              "      <th>0</th>\n",
              "      <td>1</td>\n",
              "      <td>mclaren</td>\n",
              "      <td>McLaren</td>\n",
              "      <td>British</td>\n",
              "      <td>18</td>\n",
              "      <td>14.0</td>\n",
              "    </tr>\n",
              "    <tr>\n",
              "      <th>1</th>\n",
              "      <td>1</td>\n",
              "      <td>mclaren</td>\n",
              "      <td>McLaren</td>\n",
              "      <td>British</td>\n",
              "      <td>19</td>\n",
              "      <td>10.0</td>\n",
              "    </tr>\n",
              "    <tr>\n",
              "      <th>2</th>\n",
              "      <td>1</td>\n",
              "      <td>mclaren</td>\n",
              "      <td>McLaren</td>\n",
              "      <td>British</td>\n",
              "      <td>20</td>\n",
              "      <td>4.0</td>\n",
              "    </tr>\n",
              "    <tr>\n",
              "      <th>3</th>\n",
              "      <td>1</td>\n",
              "      <td>mclaren</td>\n",
              "      <td>McLaren</td>\n",
              "      <td>British</td>\n",
              "      <td>21</td>\n",
              "      <td>6.0</td>\n",
              "    </tr>\n",
              "    <tr>\n",
              "      <th>4</th>\n",
              "      <td>1</td>\n",
              "      <td>mclaren</td>\n",
              "      <td>McLaren</td>\n",
              "      <td>British</td>\n",
              "      <td>22</td>\n",
              "      <td>8.0</td>\n",
              "    </tr>\n",
              "  </tbody>\n",
              "</table>\n",
              "</div>"
            ],
            "text/plain": [
              "   constructorId constructorRef     name nationality  raceId  points\n",
              "0              1        mclaren  McLaren     British      18    14.0\n",
              "1              1        mclaren  McLaren     British      19    10.0\n",
              "2              1        mclaren  McLaren     British      20     4.0\n",
              "3              1        mclaren  McLaren     British      21     6.0\n",
              "4              1        mclaren  McLaren     British      22     8.0"
            ]
          },
          "metadata": {
            "tags": []
          },
          "execution_count": 64
        }
      ]
    },
    {
      "cell_type": "code",
      "metadata": {
        "id": "awwie9hyBjea",
        "colab_type": "code",
        "outputId": "82e24b3f-1a9c-420a-fd6a-3766bc9ab126",
        "colab": {
          "base_uri": "https://localhost:8080/",
          "height": 206
        }
      },
      "source": [
        "cons_stand.head()"
      ],
      "execution_count": 65,
      "outputs": [
        {
          "output_type": "execute_result",
          "data": {
            "text/html": [
              "<div>\n",
              "<style scoped>\n",
              "    .dataframe tbody tr th:only-of-type {\n",
              "        vertical-align: middle;\n",
              "    }\n",
              "\n",
              "    .dataframe tbody tr th {\n",
              "        vertical-align: top;\n",
              "    }\n",
              "\n",
              "    .dataframe thead th {\n",
              "        text-align: right;\n",
              "    }\n",
              "</style>\n",
              "<table border=\"1\" class=\"dataframe\">\n",
              "  <thead>\n",
              "    <tr style=\"text-align: right;\">\n",
              "      <th></th>\n",
              "      <th>raceId</th>\n",
              "      <th>constructorId</th>\n",
              "      <th>points</th>\n",
              "      <th>position</th>\n",
              "      <th>positionText</th>\n",
              "      <th>wins</th>\n",
              "    </tr>\n",
              "  </thead>\n",
              "  <tbody>\n",
              "    <tr>\n",
              "      <th>0</th>\n",
              "      <td>18</td>\n",
              "      <td>1</td>\n",
              "      <td>14.0</td>\n",
              "      <td>1</td>\n",
              "      <td>1</td>\n",
              "      <td>1</td>\n",
              "    </tr>\n",
              "    <tr>\n",
              "      <th>1</th>\n",
              "      <td>18</td>\n",
              "      <td>2</td>\n",
              "      <td>8.0</td>\n",
              "      <td>3</td>\n",
              "      <td>3</td>\n",
              "      <td>0</td>\n",
              "    </tr>\n",
              "    <tr>\n",
              "      <th>2</th>\n",
              "      <td>18</td>\n",
              "      <td>3</td>\n",
              "      <td>9.0</td>\n",
              "      <td>2</td>\n",
              "      <td>2</td>\n",
              "      <td>0</td>\n",
              "    </tr>\n",
              "    <tr>\n",
              "      <th>3</th>\n",
              "      <td>18</td>\n",
              "      <td>4</td>\n",
              "      <td>5.0</td>\n",
              "      <td>4</td>\n",
              "      <td>4</td>\n",
              "      <td>0</td>\n",
              "    </tr>\n",
              "    <tr>\n",
              "      <th>4</th>\n",
              "      <td>18</td>\n",
              "      <td>5</td>\n",
              "      <td>2.0</td>\n",
              "      <td>5</td>\n",
              "      <td>5</td>\n",
              "      <td>0</td>\n",
              "    </tr>\n",
              "  </tbody>\n",
              "</table>\n",
              "</div>"
            ],
            "text/plain": [
              "   raceId  constructorId  points  position positionText  wins\n",
              "0      18              1    14.0         1            1     1\n",
              "1      18              2     8.0         3            3     0\n",
              "2      18              3     9.0         2            2     0\n",
              "3      18              4     5.0         4            4     0\n",
              "4      18              5     2.0         5            5     0"
            ]
          },
          "metadata": {
            "tags": []
          },
          "execution_count": 65
        }
      ]
    },
    {
      "cell_type": "code",
      "metadata": {
        "id": "ioulwYXrBjed",
        "colab_type": "code",
        "colab": {}
      },
      "source": [
        "cons_stand.sort_values(by=['raceId', 'position'], inplace=True)"
      ],
      "execution_count": 0,
      "outputs": []
    },
    {
      "cell_type": "code",
      "metadata": {
        "id": "WnjiMQAMBjeh",
        "colab_type": "code",
        "outputId": "956c9527-9894-499f-fb38-b87e0878aae3",
        "colab": {
          "base_uri": "https://localhost:8080/",
          "height": 424
        }
      },
      "source": [
        "cons_stand"
      ],
      "execution_count": 67,
      "outputs": [
        {
          "output_type": "execute_result",
          "data": {
            "text/html": [
              "<div>\n",
              "<style scoped>\n",
              "    .dataframe tbody tr th:only-of-type {\n",
              "        vertical-align: middle;\n",
              "    }\n",
              "\n",
              "    .dataframe tbody tr th {\n",
              "        vertical-align: top;\n",
              "    }\n",
              "\n",
              "    .dataframe thead th {\n",
              "        text-align: right;\n",
              "    }\n",
              "</style>\n",
              "<table border=\"1\" class=\"dataframe\">\n",
              "  <thead>\n",
              "    <tr style=\"text-align: right;\">\n",
              "      <th></th>\n",
              "      <th>raceId</th>\n",
              "      <th>constructorId</th>\n",
              "      <th>points</th>\n",
              "      <th>position</th>\n",
              "      <th>positionText</th>\n",
              "      <th>wins</th>\n",
              "    </tr>\n",
              "  </thead>\n",
              "  <tbody>\n",
              "    <tr>\n",
              "      <th>3674</th>\n",
              "      <td>1</td>\n",
              "      <td>23</td>\n",
              "      <td>18.0</td>\n",
              "      <td>1</td>\n",
              "      <td>1</td>\n",
              "      <td>1</td>\n",
              "    </tr>\n",
              "    <tr>\n",
              "      <th>3673</th>\n",
              "      <td>1</td>\n",
              "      <td>7</td>\n",
              "      <td>11.0</td>\n",
              "      <td>2</td>\n",
              "      <td>2</td>\n",
              "      <td>0</td>\n",
              "    </tr>\n",
              "    <tr>\n",
              "      <th>3672</th>\n",
              "      <td>1</td>\n",
              "      <td>4</td>\n",
              "      <td>4.0</td>\n",
              "      <td>3</td>\n",
              "      <td>3</td>\n",
              "      <td>0</td>\n",
              "    </tr>\n",
              "    <tr>\n",
              "      <th>3671</th>\n",
              "      <td>1</td>\n",
              "      <td>3</td>\n",
              "      <td>3.0</td>\n",
              "      <td>4</td>\n",
              "      <td>4</td>\n",
              "      <td>0</td>\n",
              "    </tr>\n",
              "    <tr>\n",
              "      <th>3670</th>\n",
              "      <td>1</td>\n",
              "      <td>5</td>\n",
              "      <td>3.0</td>\n",
              "      <td>5</td>\n",
              "      <td>5</td>\n",
              "      <td>0</td>\n",
              "    </tr>\n",
              "    <tr>\n",
              "      <th>...</th>\n",
              "      <td>...</td>\n",
              "      <td>...</td>\n",
              "      <td>...</td>\n",
              "      <td>...</td>\n",
              "      <td>...</td>\n",
              "      <td>...</td>\n",
              "    </tr>\n",
              "    <tr>\n",
              "      <th>11892</th>\n",
              "      <td>988</td>\n",
              "      <td>4</td>\n",
              "      <td>57.0</td>\n",
              "      <td>6</td>\n",
              "      <td>6</td>\n",
              "      <td>0</td>\n",
              "    </tr>\n",
              "    <tr>\n",
              "      <th>11891</th>\n",
              "      <td>988</td>\n",
              "      <td>5</td>\n",
              "      <td>53.0</td>\n",
              "      <td>7</td>\n",
              "      <td>7</td>\n",
              "      <td>0</td>\n",
              "    </tr>\n",
              "    <tr>\n",
              "      <th>11895</th>\n",
              "      <td>988</td>\n",
              "      <td>210</td>\n",
              "      <td>47.0</td>\n",
              "      <td>8</td>\n",
              "      <td>8</td>\n",
              "      <td>0</td>\n",
              "    </tr>\n",
              "    <tr>\n",
              "      <th>11894</th>\n",
              "      <td>988</td>\n",
              "      <td>1</td>\n",
              "      <td>30.0</td>\n",
              "      <td>9</td>\n",
              "      <td>9</td>\n",
              "      <td>0</td>\n",
              "    </tr>\n",
              "    <tr>\n",
              "      <th>11893</th>\n",
              "      <td>988</td>\n",
              "      <td>15</td>\n",
              "      <td>5.0</td>\n",
              "      <td>10</td>\n",
              "      <td>10</td>\n",
              "      <td>0</td>\n",
              "    </tr>\n",
              "  </tbody>\n",
              "</table>\n",
              "<p>11896 rows × 6 columns</p>\n",
              "</div>"
            ],
            "text/plain": [
              "       raceId  constructorId  points  position positionText  wins\n",
              "3674        1             23    18.0         1            1     1\n",
              "3673        1              7    11.0         2            2     0\n",
              "3672        1              4     4.0         3            3     0\n",
              "3671        1              3     3.0         4            4     0\n",
              "3670        1              5     3.0         5            5     0\n",
              "...       ...            ...     ...       ...          ...   ...\n",
              "11892     988              4    57.0         6            6     0\n",
              "11891     988              5    53.0         7            7     0\n",
              "11895     988            210    47.0         8            8     0\n",
              "11894     988              1    30.0         9            9     0\n",
              "11893     988             15     5.0        10           10     0\n",
              "\n",
              "[11896 rows x 6 columns]"
            ]
          },
          "metadata": {
            "tags": []
          },
          "execution_count": 67
        }
      ]
    },
    {
      "cell_type": "code",
      "metadata": {
        "id": "ngklByi8Bjek",
        "colab_type": "code",
        "colab": {}
      },
      "source": [
        "temp_df2 = constructor_merged.drop(['points', 'raceId'], axis=1)"
      ],
      "execution_count": 0,
      "outputs": []
    },
    {
      "cell_type": "code",
      "metadata": {
        "id": "vy5rSGX2Bjem",
        "colab_type": "code",
        "colab": {}
      },
      "source": [
        ""
      ],
      "execution_count": 0,
      "outputs": []
    },
    {
      "cell_type": "code",
      "metadata": {
        "id": "W52VxmEnBjep",
        "colab_type": "code",
        "colab": {}
      },
      "source": [
        ""
      ],
      "execution_count": 0,
      "outputs": []
    },
    {
      "cell_type": "code",
      "metadata": {
        "id": "5po_fzOPBjer",
        "colab_type": "code",
        "colab": {}
      },
      "source": [
        ""
      ],
      "execution_count": 0,
      "outputs": []
    },
    {
      "cell_type": "code",
      "metadata": {
        "id": "GFmOMYTlBjet",
        "colab_type": "code",
        "colab": {}
      },
      "source": [
        "temp_df2 = temp_df2.drop_duplicates(keep='first')"
      ],
      "execution_count": 0,
      "outputs": []
    },
    {
      "cell_type": "code",
      "metadata": {
        "id": "9IY7PYJmBjev",
        "colab_type": "code",
        "outputId": "741bf23f-9045-4c6c-b014-6ed1139e5f39",
        "colab": {
          "base_uri": "https://localhost:8080/",
          "height": 424
        }
      },
      "source": [
        "temp_df2"
      ],
      "execution_count": 70,
      "outputs": [
        {
          "output_type": "execute_result",
          "data": {
            "text/html": [
              "<div>\n",
              "<style scoped>\n",
              "    .dataframe tbody tr th:only-of-type {\n",
              "        vertical-align: middle;\n",
              "    }\n",
              "\n",
              "    .dataframe tbody tr th {\n",
              "        vertical-align: top;\n",
              "    }\n",
              "\n",
              "    .dataframe thead th {\n",
              "        text-align: right;\n",
              "    }\n",
              "</style>\n",
              "<table border=\"1\" class=\"dataframe\">\n",
              "  <thead>\n",
              "    <tr style=\"text-align: right;\">\n",
              "      <th></th>\n",
              "      <th>constructorId</th>\n",
              "      <th>constructorRef</th>\n",
              "      <th>name</th>\n",
              "      <th>nationality</th>\n",
              "    </tr>\n",
              "  </thead>\n",
              "  <tbody>\n",
              "    <tr>\n",
              "      <th>0</th>\n",
              "      <td>1</td>\n",
              "      <td>mclaren</td>\n",
              "      <td>McLaren</td>\n",
              "      <td>British</td>\n",
              "    </tr>\n",
              "    <tr>\n",
              "      <th>780</th>\n",
              "      <td>2</td>\n",
              "      <td>bmw_sauber</td>\n",
              "      <td>BMW Sauber</td>\n",
              "      <td>German</td>\n",
              "    </tr>\n",
              "    <tr>\n",
              "      <th>851</th>\n",
              "      <td>3</td>\n",
              "      <td>williams</td>\n",
              "      <td>Williams</td>\n",
              "      <td>British</td>\n",
              "    </tr>\n",
              "    <tr>\n",
              "      <th>1546</th>\n",
              "      <td>4</td>\n",
              "      <td>renault</td>\n",
              "      <td>Renault</td>\n",
              "      <td>French</td>\n",
              "    </tr>\n",
              "    <tr>\n",
              "      <th>1890</th>\n",
              "      <td>5</td>\n",
              "      <td>toro_rosso</td>\n",
              "      <td>Toro Rosso</td>\n",
              "      <td>Italian</td>\n",
              "    </tr>\n",
              "    <tr>\n",
              "      <th>...</th>\n",
              "      <td>...</td>\n",
              "      <td>...</td>\n",
              "      <td>...</td>\n",
              "      <td>...</td>\n",
              "    </tr>\n",
              "    <tr>\n",
              "      <th>10870</th>\n",
              "      <td>206</td>\n",
              "      <td>marussia</td>\n",
              "      <td>Marussia</td>\n",
              "      <td>Russian</td>\n",
              "    </tr>\n",
              "    <tr>\n",
              "      <th>10929</th>\n",
              "      <td>207</td>\n",
              "      <td>caterham</td>\n",
              "      <td>Caterham</td>\n",
              "      <td>Malaysian</td>\n",
              "    </tr>\n",
              "    <tr>\n",
              "      <th>10985</th>\n",
              "      <td>208</td>\n",
              "      <td>lotus_f1</td>\n",
              "      <td>Lotus F1</td>\n",
              "      <td>British</td>\n",
              "    </tr>\n",
              "    <tr>\n",
              "      <th>11062</th>\n",
              "      <td>209</td>\n",
              "      <td>manor</td>\n",
              "      <td>Manor Marussia</td>\n",
              "      <td>British</td>\n",
              "    </tr>\n",
              "    <tr>\n",
              "      <th>11101</th>\n",
              "      <td>210</td>\n",
              "      <td>haas</td>\n",
              "      <td>Haas F1 Team</td>\n",
              "      <td>American</td>\n",
              "    </tr>\n",
              "  </tbody>\n",
              "</table>\n",
              "<p>172 rows × 4 columns</p>\n",
              "</div>"
            ],
            "text/plain": [
              "       constructorId constructorRef            name nationality\n",
              "0                  1        mclaren         McLaren     British\n",
              "780                2     bmw_sauber      BMW Sauber      German\n",
              "851                3       williams        Williams     British\n",
              "1546               4        renault         Renault      French\n",
              "1890               5     toro_rosso      Toro Rosso     Italian\n",
              "...              ...            ...             ...         ...\n",
              "10870            206       marussia        Marussia     Russian\n",
              "10929            207       caterham        Caterham   Malaysian\n",
              "10985            208       lotus_f1        Lotus F1     British\n",
              "11062            209          manor  Manor Marussia     British\n",
              "11101            210           haas    Haas F1 Team    American\n",
              "\n",
              "[172 rows x 4 columns]"
            ]
          },
          "metadata": {
            "tags": []
          },
          "execution_count": 70
        }
      ]
    },
    {
      "cell_type": "code",
      "metadata": {
        "id": "4rQtDAInBjex",
        "colab_type": "code",
        "colab": {}
      },
      "source": [
        "temp_df2 = pd.merge(results_merged, temp_df2, how='inner', left_on='constructorId', right_on='constructorId')"
      ],
      "execution_count": 0,
      "outputs": []
    },
    {
      "cell_type": "code",
      "metadata": {
        "id": "q-MQ08aWBje5",
        "colab_type": "code",
        "colab": {}
      },
      "source": [
        ""
      ],
      "execution_count": 0,
      "outputs": []
    },
    {
      "cell_type": "code",
      "metadata": {
        "id": "0hcgx9F5Bje6",
        "colab_type": "code",
        "colab": {}
      },
      "source": [
        "temp_df2.sort_values(by=['raceId', 'positionOrder'], inplace=True)"
      ],
      "execution_count": 0,
      "outputs": []
    },
    {
      "cell_type": "code",
      "metadata": {
        "id": "kMljUjlVBje9",
        "colab_type": "code",
        "colab": {}
      },
      "source": [
        "temp_l = list(temp_df2.columns)\n",
        "temp_l[11] = 'race_name'\n",
        "temp_l[14] = 'constructor_name'"
      ],
      "execution_count": 0,
      "outputs": []
    },
    {
      "cell_type": "code",
      "metadata": {
        "id": "8Ou8Xa-_Bje_",
        "colab_type": "code",
        "colab": {}
      },
      "source": [
        "temp_df2.columns=temp_l"
      ],
      "execution_count": 0,
      "outputs": []
    },
    {
      "cell_type": "code",
      "metadata": {
        "id": "gycDn9_ZBjfC",
        "colab_type": "code",
        "colab": {}
      },
      "source": [
        "temp_df2.reset_index(drop=True, inplace=True)"
      ],
      "execution_count": 0,
      "outputs": []
    },
    {
      "cell_type": "code",
      "metadata": {
        "id": "zLFOoC1MBjfE",
        "colab_type": "code",
        "colab": {}
      },
      "source": [
        ""
      ],
      "execution_count": 0,
      "outputs": []
    },
    {
      "cell_type": "code",
      "metadata": {
        "id": "zW0jtAuOBjfG",
        "colab_type": "code",
        "outputId": "bf870f80-950e-444a-88f6-91187b9b00d8",
        "colab": {
          "base_uri": "https://localhost:8080/",
          "height": 617
        }
      },
      "source": [
        "temp_df2"
      ],
      "execution_count": 76,
      "outputs": [
        {
          "output_type": "execute_result",
          "data": {
            "text/html": [
              "<div>\n",
              "<style scoped>\n",
              "    .dataframe tbody tr th:only-of-type {\n",
              "        vertical-align: middle;\n",
              "    }\n",
              "\n",
              "    .dataframe tbody tr th {\n",
              "        vertical-align: top;\n",
              "    }\n",
              "\n",
              "    .dataframe thead th {\n",
              "        text-align: right;\n",
              "    }\n",
              "</style>\n",
              "<table border=\"1\" class=\"dataframe\">\n",
              "  <thead>\n",
              "    <tr style=\"text-align: right;\">\n",
              "      <th></th>\n",
              "      <th>raceId</th>\n",
              "      <th>driverId</th>\n",
              "      <th>constructorId</th>\n",
              "      <th>positionOrder</th>\n",
              "      <th>points</th>\n",
              "      <th>laps</th>\n",
              "      <th>milliseconds</th>\n",
              "      <th>fastestLapSpeed</th>\n",
              "      <th>statusId</th>\n",
              "      <th>year</th>\n",
              "      <th>round</th>\n",
              "      <th>race_name</th>\n",
              "      <th>status</th>\n",
              "      <th>constructorRef</th>\n",
              "      <th>constructor_name</th>\n",
              "      <th>nationality</th>\n",
              "    </tr>\n",
              "  </thead>\n",
              "  <tbody>\n",
              "    <tr>\n",
              "      <th>0</th>\n",
              "      <td>1</td>\n",
              "      <td>18</td>\n",
              "      <td>23</td>\n",
              "      <td>1</td>\n",
              "      <td>10.0</td>\n",
              "      <td>58</td>\n",
              "      <td>5655784.0</td>\n",
              "      <td>216.891006</td>\n",
              "      <td>1</td>\n",
              "      <td>2009</td>\n",
              "      <td>1</td>\n",
              "      <td>Australian Grand Prix</td>\n",
              "      <td>Finished</td>\n",
              "      <td>brawn</td>\n",
              "      <td>Brawn</td>\n",
              "      <td>British</td>\n",
              "    </tr>\n",
              "    <tr>\n",
              "      <th>1</th>\n",
              "      <td>1</td>\n",
              "      <td>22</td>\n",
              "      <td>23</td>\n",
              "      <td>2</td>\n",
              "      <td>8.0</td>\n",
              "      <td>58</td>\n",
              "      <td>5656591.0</td>\n",
              "      <td>214.343994</td>\n",
              "      <td>1</td>\n",
              "      <td>2009</td>\n",
              "      <td>1</td>\n",
              "      <td>Australian Grand Prix</td>\n",
              "      <td>Finished</td>\n",
              "      <td>brawn</td>\n",
              "      <td>Brawn</td>\n",
              "      <td>British</td>\n",
              "    </tr>\n",
              "    <tr>\n",
              "      <th>2</th>\n",
              "      <td>1</td>\n",
              "      <td>15</td>\n",
              "      <td>7</td>\n",
              "      <td>3</td>\n",
              "      <td>6.0</td>\n",
              "      <td>58</td>\n",
              "      <td>5657388.0</td>\n",
              "      <td>214.705994</td>\n",
              "      <td>1</td>\n",
              "      <td>2009</td>\n",
              "      <td>1</td>\n",
              "      <td>Australian Grand Prix</td>\n",
              "      <td>Finished</td>\n",
              "      <td>toyota</td>\n",
              "      <td>Toyota</td>\n",
              "      <td>Japanese</td>\n",
              "    </tr>\n",
              "    <tr>\n",
              "      <th>3</th>\n",
              "      <td>1</td>\n",
              "      <td>10</td>\n",
              "      <td>7</td>\n",
              "      <td>4</td>\n",
              "      <td>5.0</td>\n",
              "      <td>58</td>\n",
              "      <td>5660219.0</td>\n",
              "      <td>215.919998</td>\n",
              "      <td>1</td>\n",
              "      <td>2009</td>\n",
              "      <td>1</td>\n",
              "      <td>Australian Grand Prix</td>\n",
              "      <td>Finished</td>\n",
              "      <td>toyota</td>\n",
              "      <td>Toyota</td>\n",
              "      <td>Japanese</td>\n",
              "    </tr>\n",
              "    <tr>\n",
              "      <th>4</th>\n",
              "      <td>1</td>\n",
              "      <td>4</td>\n",
              "      <td>4</td>\n",
              "      <td>5</td>\n",
              "      <td>4.0</td>\n",
              "      <td>58</td>\n",
              "      <td>5660663.0</td>\n",
              "      <td>215.199005</td>\n",
              "      <td>1</td>\n",
              "      <td>2009</td>\n",
              "      <td>1</td>\n",
              "      <td>Australian Grand Prix</td>\n",
              "      <td>Finished</td>\n",
              "      <td>renault</td>\n",
              "      <td>Renault</td>\n",
              "      <td>French</td>\n",
              "    </tr>\n",
              "    <tr>\n",
              "      <th>...</th>\n",
              "      <td>...</td>\n",
              "      <td>...</td>\n",
              "      <td>...</td>\n",
              "      <td>...</td>\n",
              "      <td>...</td>\n",
              "      <td>...</td>\n",
              "      <td>...</td>\n",
              "      <td>...</td>\n",
              "      <td>...</td>\n",
              "      <td>...</td>\n",
              "      <td>...</td>\n",
              "      <td>...</td>\n",
              "      <td>...</td>\n",
              "      <td>...</td>\n",
              "      <td>...</td>\n",
              "      <td>...</td>\n",
              "    </tr>\n",
              "    <tr>\n",
              "      <th>23483</th>\n",
              "      <td>988</td>\n",
              "      <td>842</td>\n",
              "      <td>5</td>\n",
              "      <td>16</td>\n",
              "      <td>0.0</td>\n",
              "      <td>54</td>\n",
              "      <td>NaN</td>\n",
              "      <td>192.542007</td>\n",
              "      <td>11</td>\n",
              "      <td>2017</td>\n",
              "      <td>20</td>\n",
              "      <td>Abu Dhabi Grand Prix</td>\n",
              "      <td>+1 Lap</td>\n",
              "      <td>toro_rosso</td>\n",
              "      <td>Toro Rosso</td>\n",
              "      <td>Italian</td>\n",
              "    </tr>\n",
              "    <tr>\n",
              "      <th>23484</th>\n",
              "      <td>988</td>\n",
              "      <td>828</td>\n",
              "      <td>15</td>\n",
              "      <td>17</td>\n",
              "      <td>0.0</td>\n",
              "      <td>54</td>\n",
              "      <td>NaN</td>\n",
              "      <td>193.057007</td>\n",
              "      <td>11</td>\n",
              "      <td>2017</td>\n",
              "      <td>20</td>\n",
              "      <td>Abu Dhabi Grand Prix</td>\n",
              "      <td>+1 Lap</td>\n",
              "      <td>sauber</td>\n",
              "      <td>Sauber</td>\n",
              "      <td>Swiss</td>\n",
              "    </tr>\n",
              "    <tr>\n",
              "      <th>23485</th>\n",
              "      <td>988</td>\n",
              "      <td>840</td>\n",
              "      <td>3</td>\n",
              "      <td>18</td>\n",
              "      <td>0.0</td>\n",
              "      <td>54</td>\n",
              "      <td>NaN</td>\n",
              "      <td>195.401993</td>\n",
              "      <td>11</td>\n",
              "      <td>2017</td>\n",
              "      <td>20</td>\n",
              "      <td>Abu Dhabi Grand Prix</td>\n",
              "      <td>+1 Lap</td>\n",
              "      <td>williams</td>\n",
              "      <td>Williams</td>\n",
              "      <td>British</td>\n",
              "    </tr>\n",
              "    <tr>\n",
              "      <th>23486</th>\n",
              "      <td>988</td>\n",
              "      <td>832</td>\n",
              "      <td>4</td>\n",
              "      <td>19</td>\n",
              "      <td>0.0</td>\n",
              "      <td>31</td>\n",
              "      <td>NaN</td>\n",
              "      <td>193.410004</td>\n",
              "      <td>36</td>\n",
              "      <td>2017</td>\n",
              "      <td>20</td>\n",
              "      <td>Abu Dhabi Grand Prix</td>\n",
              "      <td>Wheel</td>\n",
              "      <td>renault</td>\n",
              "      <td>Renault</td>\n",
              "      <td>French</td>\n",
              "    </tr>\n",
              "    <tr>\n",
              "      <th>23487</th>\n",
              "      <td>988</td>\n",
              "      <td>817</td>\n",
              "      <td>9</td>\n",
              "      <td>20</td>\n",
              "      <td>0.0</td>\n",
              "      <td>20</td>\n",
              "      <td>NaN</td>\n",
              "      <td>194.578995</td>\n",
              "      <td>9</td>\n",
              "      <td>2017</td>\n",
              "      <td>20</td>\n",
              "      <td>Abu Dhabi Grand Prix</td>\n",
              "      <td>Hydraulics</td>\n",
              "      <td>red_bull</td>\n",
              "      <td>Red Bull</td>\n",
              "      <td>Austrian</td>\n",
              "    </tr>\n",
              "  </tbody>\n",
              "</table>\n",
              "<p>23488 rows × 16 columns</p>\n",
              "</div>"
            ],
            "text/plain": [
              "       raceId  driverId  ...  constructor_name  nationality\n",
              "0           1        18  ...             Brawn      British\n",
              "1           1        22  ...             Brawn      British\n",
              "2           1        15  ...            Toyota     Japanese\n",
              "3           1        10  ...            Toyota     Japanese\n",
              "4           1         4  ...           Renault       French\n",
              "...       ...       ...  ...               ...          ...\n",
              "23483     988       842  ...        Toro Rosso      Italian\n",
              "23484     988       828  ...            Sauber        Swiss\n",
              "23485     988       840  ...          Williams      British\n",
              "23486     988       832  ...           Renault       French\n",
              "23487     988       817  ...          Red Bull     Austrian\n",
              "\n",
              "[23488 rows x 16 columns]"
            ]
          },
          "metadata": {
            "tags": []
          },
          "execution_count": 76
        }
      ]
    },
    {
      "cell_type": "code",
      "metadata": {
        "id": "hqgnM3PhBjfI",
        "colab_type": "code",
        "colab": {}
      },
      "source": [
        "top_10=temp_df2.groupby('raceId').head(10).reset_index(drop=True)"
      ],
      "execution_count": 0,
      "outputs": []
    },
    {
      "cell_type": "code",
      "metadata": {
        "id": "B3gqj0doBjfL",
        "colab_type": "code",
        "colab": {}
      },
      "source": [
        "top_5=temp_df2.groupby('raceId').head(5).reset_index(drop=True)"
      ],
      "execution_count": 0,
      "outputs": []
    },
    {
      "cell_type": "code",
      "metadata": {
        "id": "kyiwRIbPBjfO",
        "colab_type": "code",
        "colab": {}
      },
      "source": [
        "top_3=temp_df2.groupby('raceId').head(3).reset_index(drop=True)"
      ],
      "execution_count": 0,
      "outputs": []
    },
    {
      "cell_type": "code",
      "metadata": {
        "id": "knZr_gSkBjfP",
        "colab_type": "code",
        "colab": {}
      },
      "source": [
        "top_1 = temp_df2.groupby('raceId').head(1).reset_index(drop=True)"
      ],
      "execution_count": 0,
      "outputs": []
    },
    {
      "cell_type": "code",
      "metadata": {
        "id": "qyoF4XDLBjfS",
        "colab_type": "code",
        "colab": {}
      },
      "source": [
        "c=[1,3,5,10]\n",
        "a1=[]\n",
        "for h in c:\n",
        "    dff = temp_df2.groupby('raceId').head(h).reset_index(drop=True)\n",
        "    dff['freq'] = dff.groupby('nationality')['nationality'].transform('count')\n",
        "    dff.sort_values(by=['freq'], ascending=False, inplace=True)\n",
        "    dff = dff.drop_duplicates(subset=['nationality'])\n",
        "    dff.reset_index(drop=True, inplace=True)\n",
        "    dff = dff[['freq','nationality']]\n",
        "    a1.append(dff)"
      ],
      "execution_count": 0,
      "outputs": []
    },
    {
      "cell_type": "code",
      "metadata": {
        "id": "yq7ZyB59BjfT",
        "colab_type": "code",
        "colab": {}
      },
      "source": [
        "dff1,dff3,dff5,dff10 = a1[0], a1[1], a1[2], a1[3]"
      ],
      "execution_count": 0,
      "outputs": []
    },
    {
      "cell_type": "code",
      "metadata": {
        "id": "WWapVmglBjfV",
        "colab_type": "code",
        "colab": {}
      },
      "source": [
        "nation_df = pd.merge(dff1, dff3 , how='inner', left_on='nationality', right_on='nationality')"
      ],
      "execution_count": 0,
      "outputs": []
    },
    {
      "cell_type": "code",
      "metadata": {
        "id": "dawF3FY5BjfX",
        "colab_type": "code",
        "colab": {}
      },
      "source": [
        "nation_df = pd.merge(nation_df, dff5 , how='inner', left_on='nationality', right_on='nationality')"
      ],
      "execution_count": 0,
      "outputs": []
    },
    {
      "cell_type": "code",
      "metadata": {
        "id": "4VQSHczoBjfa",
        "colab_type": "code",
        "colab": {}
      },
      "source": [
        "nation_df = pd.merge(nation_df, dff10 , how='inner', left_on='nationality', right_on='nationality')"
      ],
      "execution_count": 0,
      "outputs": []
    },
    {
      "cell_type": "code",
      "metadata": {
        "id": "SodbAZwXBjfb",
        "colab_type": "code",
        "colab": {}
      },
      "source": [
        "nation_df.columns = ['top', 'nationality', 'top3', 'top5', 'top10']"
      ],
      "execution_count": 0,
      "outputs": []
    },
    {
      "cell_type": "code",
      "metadata": {
        "id": "u8gfuclsBjfe",
        "colab_type": "code",
        "colab": {}
      },
      "source": [
        "nation_df = nation_df[[ 'nationality', 'top','top3', 'top5', 'top10']]"
      ],
      "execution_count": 0,
      "outputs": []
    },
    {
      "cell_type": "code",
      "metadata": {
        "id": "MVFfwG4SBjfg",
        "colab_type": "code",
        "colab": {}
      },
      "source": [
        ""
      ],
      "execution_count": 0,
      "outputs": []
    },
    {
      "cell_type": "code",
      "metadata": {
        "id": "nxHeESYLBjfj",
        "colab_type": "code",
        "outputId": "62c45da9-5d9a-4747-82ea-cee4b81a072d",
        "colab": {
          "base_uri": "https://localhost:8080/",
          "height": 1000
        }
      },
      "source": [
        "fig = plt.figure(figsize=(20,20))\n",
        "plt.subplot(221)\n",
        "_=sns.barplot(x='top', y='nationality', data=nation_df[:30],palette='coolwarm_r').set_title('Top')\n",
        "plt.subplot(222)\n",
        "_=sns.barplot(x='top3', y='nationality', data=nation_df[:30],palette='coolwarm_r').set_title(\"Podium Finish\")\n",
        "_ =ax= plt.gca()\n",
        "_= ax.set_ylabel('')\n",
        "plt.subplot(223)\n",
        "_=sns.barplot(x='top5', y='nationality', data=nation_df[:30],palette='coolwarm_r').set_title(\"Top_5\")\n",
        "plt.subplot(224)\n",
        "_=sns.barplot(x='top10',y='nationality', data=nation_df[:30],palette='coolwarm_r').set_title(\"Top_10\")\n",
        "_ =ax= plt.gca()\n",
        "_= ax.set_ylabel('')\n",
        "#plt.savefig('nationality.png', bbox_inches='tight')"
      ],
      "execution_count": 88,
      "outputs": [
        {
          "output_type": "display_data",
          "data": {
            "image/png": "[encoded data removed]",
            "text/plain": [
              "<Figure size 1440x1440 with 4 Axes>"
            ]
          },
          "metadata": {
            "tags": [],
            "needs_background": "light"
          }
        }
      ]
    },
    {
      "cell_type": "code",
      "metadata": {
        "id": "OBwfh9fYBjfo",
        "colab_type": "code",
        "colab": {}
      },
      "source": [
        "top_10['freq'] = top_10.groupby('constructor_name')['constructor_name'].transform('count')"
      ],
      "execution_count": 0,
      "outputs": []
    },
    {
      "cell_type": "code",
      "metadata": {
        "id": "ktk9PZqRBjfq",
        "colab_type": "code",
        "colab": {}
      },
      "source": [
        "top_5['freq'] = top_5.groupby('constructor_name')['constructor_name'].transform('count')"
      ],
      "execution_count": 0,
      "outputs": []
    },
    {
      "cell_type": "code",
      "metadata": {
        "id": "zejFQzJ2Bjfs",
        "colab_type": "code",
        "colab": {}
      },
      "source": [
        "top_3['freq'] =top_3.groupby('constructor_name')['constructor_name'].transform('count')"
      ],
      "execution_count": 0,
      "outputs": []
    },
    {
      "cell_type": "code",
      "metadata": {
        "id": "qAayxTisBjft",
        "colab_type": "code",
        "colab": {}
      },
      "source": [
        "top_1['freq'] = top_1.groupby('constructor_name')['constructor_name'].transform('count')"
      ],
      "execution_count": 0,
      "outputs": []
    },
    {
      "cell_type": "code",
      "metadata": {
        "id": "2isbeLU3Bjfv",
        "colab_type": "code",
        "colab": {}
      },
      "source": [
        ""
      ],
      "execution_count": 0,
      "outputs": []
    },
    {
      "cell_type": "code",
      "metadata": {
        "id": "Oxltv6ELBjfx",
        "colab_type": "code",
        "colab": {}
      },
      "source": [
        "top_10.sort_values(by=['freq'], ascending=False, inplace=True)"
      ],
      "execution_count": 0,
      "outputs": []
    },
    {
      "cell_type": "code",
      "metadata": {
        "id": "s3RPaVmYBjfz",
        "colab_type": "code",
        "colab": {}
      },
      "source": [
        "top_5.sort_values(by=['freq'], ascending=False, inplace=True)"
      ],
      "execution_count": 0,
      "outputs": []
    },
    {
      "cell_type": "code",
      "metadata": {
        "id": "Ymr81N5WBjf1",
        "colab_type": "code",
        "colab": {}
      },
      "source": [
        "top_3.sort_values(by=['freq'], ascending=False, inplace=True)"
      ],
      "execution_count": 0,
      "outputs": []
    },
    {
      "cell_type": "code",
      "metadata": {
        "id": "MFS1sDWXBjf4",
        "colab_type": "code",
        "colab": {}
      },
      "source": [
        "top_1.sort_values(by=['freq'], ascending=False, inplace=True)"
      ],
      "execution_count": 0,
      "outputs": []
    },
    {
      "cell_type": "code",
      "metadata": {
        "id": "kkLlaXZOBjf5",
        "colab_type": "code",
        "colab": {}
      },
      "source": [
        "freq_10 = top_10.drop_duplicates(subset=['constructor_name'])"
      ],
      "execution_count": 0,
      "outputs": []
    },
    {
      "cell_type": "code",
      "metadata": {
        "id": "_qGvgI5TBjf7",
        "colab_type": "code",
        "colab": {}
      },
      "source": [
        "freq_5 = top_5.drop_duplicates(subset=['constructor_name'])"
      ],
      "execution_count": 0,
      "outputs": []
    },
    {
      "cell_type": "code",
      "metadata": {
        "id": "Fa-kJetmBjf_",
        "colab_type": "code",
        "colab": {}
      },
      "source": [
        "freq_3 = top_3.drop_duplicates(subset=['constructor_name'])"
      ],
      "execution_count": 0,
      "outputs": []
    },
    {
      "cell_type": "code",
      "metadata": {
        "id": "n3zg-YylBjgB",
        "colab_type": "code",
        "colab": {}
      },
      "source": [
        "freq_1 = top_1.drop_duplicates(subset=['constructor_name'])"
      ],
      "execution_count": 0,
      "outputs": []
    },
    {
      "cell_type": "code",
      "metadata": {
        "id": "vHREZJB5BjgD",
        "colab_type": "code",
        "colab": {}
      },
      "source": [
        "freq_10.reset_index(drop=True, inplace=True)"
      ],
      "execution_count": 0,
      "outputs": []
    },
    {
      "cell_type": "code",
      "metadata": {
        "id": "nUgpBNolBjgG",
        "colab_type": "code",
        "colab": {}
      },
      "source": [
        "freq_5.reset_index(drop=True, inplace=True)"
      ],
      "execution_count": 0,
      "outputs": []
    },
    {
      "cell_type": "code",
      "metadata": {
        "id": "5BzWB2cHBjgI",
        "colab_type": "code",
        "colab": {}
      },
      "source": [
        "freq_3.reset_index(drop=True, inplace=True)"
      ],
      "execution_count": 0,
      "outputs": []
    },
    {
      "cell_type": "code",
      "metadata": {
        "id": "-wfSHoGMBjgK",
        "colab_type": "code",
        "colab": {}
      },
      "source": [
        "freq_1.reset_index(drop=True, inplace=True)"
      ],
      "execution_count": 0,
      "outputs": []
    },
    {
      "cell_type": "code",
      "metadata": {
        "id": "c9BKI6OsBjgL",
        "colab_type": "code",
        "colab": {}
      },
      "source": [
        "freq_1 = freq_1[['constructor_name', 'freq', 'nationality',  'constructorId']]"
      ],
      "execution_count": 0,
      "outputs": []
    },
    {
      "cell_type": "code",
      "metadata": {
        "id": "pnx9hsIZBjgO",
        "colab_type": "code",
        "colab": {}
      },
      "source": [
        "freq_3 = freq_3[['constructor_name', 'freq']]"
      ],
      "execution_count": 0,
      "outputs": []
    },
    {
      "cell_type": "code",
      "metadata": {
        "id": "f4xs8DckBjgP",
        "colab_type": "code",
        "colab": {}
      },
      "source": [
        "freq_5 = freq_5[['constructor_name', 'freq']]"
      ],
      "execution_count": 0,
      "outputs": []
    },
    {
      "cell_type": "code",
      "metadata": {
        "id": "Yw5UswMiBjgR",
        "colab_type": "code",
        "colab": {}
      },
      "source": [
        "freq_10 = freq_10[['constructor_name', 'freq']]"
      ],
      "execution_count": 0,
      "outputs": []
    },
    {
      "cell_type": "code",
      "metadata": {
        "id": "fGjP0sFUBjgT",
        "colab_type": "code",
        "colab": {}
      },
      "source": [
        "final_freq = pd.merge(freq_1, freq_3, how='inner', left_on='constructor_name', right_on='constructor_name')"
      ],
      "execution_count": 0,
      "outputs": []
    },
    {
      "cell_type": "code",
      "metadata": {
        "id": "6bUM7iTCBjgV",
        "colab_type": "code",
        "colab": {}
      },
      "source": [
        "final_freq = pd.merge(final_freq, freq_5, how='inner', left_on='constructor_name', right_on='constructor_name')"
      ],
      "execution_count": 0,
      "outputs": []
    },
    {
      "cell_type": "code",
      "metadata": {
        "id": "UOqjgWujBjgX",
        "colab_type": "code",
        "colab": {}
      },
      "source": [
        "final_freq = pd.merge(final_freq, freq_10, how='inner', left_on='constructor_name', right_on='constructor_name')"
      ],
      "execution_count": 0,
      "outputs": []
    },
    {
      "cell_type": "code",
      "metadata": {
        "id": "61SG2dTfBjgZ",
        "colab_type": "code",
        "colab": {}
      },
      "source": [
        "final_freq.columns = ['constructor_name', 'top_position', 'nationality', 'constructorId', 'top3_finish', 'top5_finish', 'top10_finish']"
      ],
      "execution_count": 0,
      "outputs": []
    },
    {
      "cell_type": "code",
      "metadata": {
        "id": "BW3e3VnUBjgb",
        "colab_type": "code",
        "colab": {}
      },
      "source": [
        "final_freq = final_freq[['constructor_name', 'constructorId', 'nationality', 'top_position', 'top3_finish', 'top5_finish', 'top10_finish']]"
      ],
      "execution_count": 0,
      "outputs": []
    },
    {
      "cell_type": "code",
      "metadata": {
        "id": "dX7rjBQuBjgd",
        "colab_type": "code",
        "colab": {}
      },
      "source": [
        ""
      ],
      "execution_count": 0,
      "outputs": []
    },
    {
      "cell_type": "code",
      "metadata": {
        "id": "EWam3448Bjgt",
        "colab_type": "code",
        "outputId": "6fbcc753-9910-4f82-ddcf-bef8b25846ac",
        "colab": {
          "base_uri": "https://localhost:8080/",
          "height": 1000
        }
      },
      "source": [
        "fig = plt.figure(figsize=(20,20))\n",
        "plt.subplot(221)\n",
        "_=sns.barplot(x='top_position', y='constructor_name', data=final_freq[:30],palette='coolwarm_r').set_title('Top')\n",
        "plt.subplot(222)\n",
        "_=sns.barplot(x='top3_finish', y='constructor_name', data=final_freq[:30],palette='coolwarm_r').set_title(\"Podium Finish\")\n",
        "_ =ax= plt.gca()\n",
        "_= ax.set_ylabel('')\n",
        "plt.subplot(223)\n",
        "_=sns.barplot(x='top5_finish', y='constructor_name', data=final_freq[:30],palette='seismic_r').set_title(\"Top_5\")\n",
        "plt.subplot(224)\n",
        "_=sns.barplot(x='top10_finish',y='constructor_name', data=final_freq[:30],palette='seismic_r').set_title(\"Top_10\")\n",
        "_ =ax= plt.gca()\n",
        "_= ax.set_ylabel('')\n",
        "#plt.savefig('Constructors.png', bbox_inches='tight')"
      ],
      "execution_count": 114,
      "outputs": [
        {
          "output_type": "display_data",
          "data": {
            "image/png": "[encoded data removed]",
            "text/plain": [
              "<Figure size 1440x1440 with 4 Axes>"
            ]
          },
          "metadata": {
            "tags": [],
            "needs_background": "light"
          }
        }
      ]
    },
    {
      "cell_type": "code",
      "metadata": {
        "id": "U2yCwlFlBjgv",
        "colab_type": "code",
        "outputId": "505cc9cb-d6a2-482a-8055-d06bcdd934e6",
        "colab": {
          "base_uri": "https://localhost:8080/",
          "height": 638
        }
      },
      "source": [
        "fig, ax = plt.subplots(figsize=(10,10))\n",
        "ax=sns.kdeplot(final_freq['top_position'], \n",
        "               color='red',\n",
        "               shade=True)\n",
        "ax=sns.kdeplot(final_freq['top3_finish'], \n",
        "               color='black',\n",
        "               shade=True)\n",
        "ax=sns.kdeplot(final_freq['top5_finish'], \n",
        "               color='blue',\n",
        "               shade=True)\n",
        "ax=sns.kdeplot(final_freq['top10_finish'], \n",
        "               color='green',\n",
        "               shade=True)\n",
        "ax.set_xlabel('Density')\n",
        "ax.set_title('Density Plot of Constructors for Top, Top3, Top5, Top10 Finishes')\n",
        "#plt.savefig('density_cons.png', bbox_inches='tight')"
      ],
      "execution_count": 115,
      "outputs": [
        {
          "output_type": "execute_result",
          "data": {
            "text/plain": [
              "Text(0.5, 1.0, 'Density Plot of Constructors for Top, Top3, Top5, Top10 Finishes')"
            ]
          },
          "metadata": {
            "tags": []
          },
          "execution_count": 115
        },
        {
          "output_type": "display_data",
          "data": {
            "image/png": "[encoded data removed]",
            "text/plain": [
              "<Figure size 720x720 with 1 Axes>"
            ]
          },
          "metadata": {
            "tags": [],
            "needs_background": "light"
          }
        }
      ]
    },
    {
      "cell_type": "code",
      "metadata": {
        "id": "8F-E46SvBjgx",
        "colab_type": "code",
        "outputId": "75cb14d0-dfb0-44d0-b5cf-bb19938965ed",
        "colab": {
          "base_uri": "https://localhost:8080/",
          "height": 617
        }
      },
      "source": [
        "temp_df2"
      ],
      "execution_count": 116,
      "outputs": [
        {
          "output_type": "execute_result",
          "data": {
            "text/html": [
              "<div>\n",
              "<style scoped>\n",
              "    .dataframe tbody tr th:only-of-type {\n",
              "        vertical-align: middle;\n",
              "    }\n",
              "\n",
              "    .dataframe tbody tr th {\n",
              "        vertical-align: top;\n",
              "    }\n",
              "\n",
              "    .dataframe thead th {\n",
              "        text-align: right;\n",
              "    }\n",
              "</style>\n",
              "<table border=\"1\" class=\"dataframe\">\n",
              "  <thead>\n",
              "    <tr style=\"text-align: right;\">\n",
              "      <th></th>\n",
              "      <th>raceId</th>\n",
              "      <th>driverId</th>\n",
              "      <th>constructorId</th>\n",
              "      <th>positionOrder</th>\n",
              "      <th>points</th>\n",
              "      <th>laps</th>\n",
              "      <th>milliseconds</th>\n",
              "      <th>fastestLapSpeed</th>\n",
              "      <th>statusId</th>\n",
              "      <th>year</th>\n",
              "      <th>round</th>\n",
              "      <th>race_name</th>\n",
              "      <th>status</th>\n",
              "      <th>constructorRef</th>\n",
              "      <th>constructor_name</th>\n",
              "      <th>nationality</th>\n",
              "    </tr>\n",
              "  </thead>\n",
              "  <tbody>\n",
              "    <tr>\n",
              "      <th>0</th>\n",
              "      <td>1</td>\n",
              "      <td>18</td>\n",
              "      <td>23</td>\n",
              "      <td>1</td>\n",
              "      <td>10.0</td>\n",
              "      <td>58</td>\n",
              "      <td>5655784.0</td>\n",
              "      <td>216.891006</td>\n",
              "      <td>1</td>\n",
              "      <td>2009</td>\n",
              "      <td>1</td>\n",
              "      <td>Australian Grand Prix</td>\n",
              "      <td>Finished</td>\n",
              "      <td>brawn</td>\n",
              "      <td>Brawn</td>\n",
              "      <td>British</td>\n",
              "    </tr>\n",
              "    <tr>\n",
              "      <th>1</th>\n",
              "      <td>1</td>\n",
              "      <td>22</td>\n",
              "      <td>23</td>\n",
              "      <td>2</td>\n",
              "      <td>8.0</td>\n",
              "      <td>58</td>\n",
              "      <td>5656591.0</td>\n",
              "      <td>214.343994</td>\n",
              "      <td>1</td>\n",
              "      <td>2009</td>\n",
              "      <td>1</td>\n",
              "      <td>Australian Grand Prix</td>\n",
              "      <td>Finished</td>\n",
              "      <td>brawn</td>\n",
              "      <td>Brawn</td>\n",
              "      <td>British</td>\n",
              "    </tr>\n",
              "    <tr>\n",
              "      <th>2</th>\n",
              "      <td>1</td>\n",
              "      <td>15</td>\n",
              "      <td>7</td>\n",
              "      <td>3</td>\n",
              "      <td>6.0</td>\n",
              "      <td>58</td>\n",
              "      <td>5657388.0</td>\n",
              "      <td>214.705994</td>\n",
              "      <td>1</td>\n",
              "      <td>2009</td>\n",
              "      <td>1</td>\n",
              "      <td>Australian Grand Prix</td>\n",
              "      <td>Finished</td>\n",
              "      <td>toyota</td>\n",
              "      <td>Toyota</td>\n",
              "      <td>Japanese</td>\n",
              "    </tr>\n",
              "    <tr>\n",
              "      <th>3</th>\n",
              "      <td>1</td>\n",
              "      <td>10</td>\n",
              "      <td>7</td>\n",
              "      <td>4</td>\n",
              "      <td>5.0</td>\n",
              "      <td>58</td>\n",
              "      <td>5660219.0</td>\n",
              "      <td>215.919998</td>\n",
              "      <td>1</td>\n",
              "      <td>2009</td>\n",
              "      <td>1</td>\n",
              "      <td>Australian Grand Prix</td>\n",
              "      <td>Finished</td>\n",
              "      <td>toyota</td>\n",
              "      <td>Toyota</td>\n",
              "      <td>Japanese</td>\n",
              "    </tr>\n",
              "    <tr>\n",
              "      <th>4</th>\n",
              "      <td>1</td>\n",
              "      <td>4</td>\n",
              "      <td>4</td>\n",
              "      <td>5</td>\n",
              "      <td>4.0</td>\n",
              "      <td>58</td>\n",
              "      <td>5660663.0</td>\n",
              "      <td>215.199005</td>\n",
              "      <td>1</td>\n",
              "      <td>2009</td>\n",
              "      <td>1</td>\n",
              "      <td>Australian Grand Prix</td>\n",
              "      <td>Finished</td>\n",
              "      <td>renault</td>\n",
              "      <td>Renault</td>\n",
              "      <td>French</td>\n",
              "    </tr>\n",
              "    <tr>\n",
              "      <th>...</th>\n",
              "      <td>...</td>\n",
              "      <td>...</td>\n",
              "      <td>...</td>\n",
              "      <td>...</td>\n",
              "      <td>...</td>\n",
              "      <td>...</td>\n",
              "      <td>...</td>\n",
              "      <td>...</td>\n",
              "      <td>...</td>\n",
              "      <td>...</td>\n",
              "      <td>...</td>\n",
              "      <td>...</td>\n",
              "      <td>...</td>\n",
              "      <td>...</td>\n",
              "      <td>...</td>\n",
              "      <td>...</td>\n",
              "    </tr>\n",
              "    <tr>\n",
              "      <th>23483</th>\n",
              "      <td>988</td>\n",
              "      <td>842</td>\n",
              "      <td>5</td>\n",
              "      <td>16</td>\n",
              "      <td>0.0</td>\n",
              "      <td>54</td>\n",
              "      <td>NaN</td>\n",
              "      <td>192.542007</td>\n",
              "      <td>11</td>\n",
              "      <td>2017</td>\n",
              "      <td>20</td>\n",
              "      <td>Abu Dhabi Grand Prix</td>\n",
              "      <td>+1 Lap</td>\n",
              "      <td>toro_rosso</td>\n",
              "      <td>Toro Rosso</td>\n",
              "      <td>Italian</td>\n",
              "    </tr>\n",
              "    <tr>\n",
              "      <th>23484</th>\n",
              "      <td>988</td>\n",
              "      <td>828</td>\n",
              "      <td>15</td>\n",
              "      <td>17</td>\n",
              "      <td>0.0</td>\n",
              "      <td>54</td>\n",
              "      <td>NaN</td>\n",
              "      <td>193.057007</td>\n",
              "      <td>11</td>\n",
              "      <td>2017</td>\n",
              "      <td>20</td>\n",
              "      <td>Abu Dhabi Grand Prix</td>\n",
              "      <td>+1 Lap</td>\n",
              "      <td>sauber</td>\n",
              "      <td>Sauber</td>\n",
              "      <td>Swiss</td>\n",
              "    </tr>\n",
              "    <tr>\n",
              "      <th>23485</th>\n",
              "      <td>988</td>\n",
              "      <td>840</td>\n",
              "      <td>3</td>\n",
              "      <td>18</td>\n",
              "      <td>0.0</td>\n",
              "      <td>54</td>\n",
              "      <td>NaN</td>\n",
              "      <td>195.401993</td>\n",
              "      <td>11</td>\n",
              "      <td>2017</td>\n",
              "      <td>20</td>\n",
              "      <td>Abu Dhabi Grand Prix</td>\n",
              "      <td>+1 Lap</td>\n",
              "      <td>williams</td>\n",
              "      <td>Williams</td>\n",
              "      <td>British</td>\n",
              "    </tr>\n",
              "    <tr>\n",
              "      <th>23486</th>\n",
              "      <td>988</td>\n",
              "      <td>832</td>\n",
              "      <td>4</td>\n",
              "      <td>19</td>\n",
              "      <td>0.0</td>\n",
              "      <td>31</td>\n",
              "      <td>NaN</td>\n",
              "      <td>193.410004</td>\n",
              "      <td>36</td>\n",
              "      <td>2017</td>\n",
              "      <td>20</td>\n",
              "      <td>Abu Dhabi Grand Prix</td>\n",
              "      <td>Wheel</td>\n",
              "      <td>renault</td>\n",
              "      <td>Renault</td>\n",
              "      <td>French</td>\n",
              "    </tr>\n",
              "    <tr>\n",
              "      <th>23487</th>\n",
              "      <td>988</td>\n",
              "      <td>817</td>\n",
              "      <td>9</td>\n",
              "      <td>20</td>\n",
              "      <td>0.0</td>\n",
              "      <td>20</td>\n",
              "      <td>NaN</td>\n",
              "      <td>194.578995</td>\n",
              "      <td>9</td>\n",
              "      <td>2017</td>\n",
              "      <td>20</td>\n",
              "      <td>Abu Dhabi Grand Prix</td>\n",
              "      <td>Hydraulics</td>\n",
              "      <td>red_bull</td>\n",
              "      <td>Red Bull</td>\n",
              "      <td>Austrian</td>\n",
              "    </tr>\n",
              "  </tbody>\n",
              "</table>\n",
              "<p>23488 rows × 16 columns</p>\n",
              "</div>"
            ],
            "text/plain": [
              "       raceId  driverId  ...  constructor_name  nationality\n",
              "0           1        18  ...             Brawn      British\n",
              "1           1        22  ...             Brawn      British\n",
              "2           1        15  ...            Toyota     Japanese\n",
              "3           1        10  ...            Toyota     Japanese\n",
              "4           1         4  ...           Renault       French\n",
              "...       ...       ...  ...               ...          ...\n",
              "23483     988       842  ...        Toro Rosso      Italian\n",
              "23484     988       828  ...            Sauber        Swiss\n",
              "23485     988       840  ...          Williams      British\n",
              "23486     988       832  ...           Renault       French\n",
              "23487     988       817  ...          Red Bull     Austrian\n",
              "\n",
              "[23488 rows x 16 columns]"
            ]
          },
          "metadata": {
            "tags": []
          },
          "execution_count": 116
        }
      ]
    },
    {
      "cell_type": "code",
      "metadata": {
        "id": "iqCAwUteBjgz",
        "colab_type": "code",
        "colab": {}
      },
      "source": [
        "driver_10=temp_df2.groupby('raceId').head(10).reset_index(drop=True)"
      ],
      "execution_count": 0,
      "outputs": []
    },
    {
      "cell_type": "code",
      "metadata": {
        "id": "QdRfyt6GBjg4",
        "colab_type": "code",
        "colab": {}
      },
      "source": [
        "#driver_10=temp_df2.groupby('raceId').head(10).reset_index(drop=True)"
      ],
      "execution_count": 0,
      "outputs": []
    },
    {
      "cell_type": "code",
      "metadata": {
        "id": "CbyEcMj1Bjg7",
        "colab_type": "code",
        "colab": {}
      },
      "source": [
        "i=[1,3,5,10]\n",
        "a=[]\n",
        "for h in i:\n",
        "    df = temp_df2.groupby('raceId').head(h).reset_index(drop=True)\n",
        "    df['freq'] = df.groupby('driverId')['driverId'].transform('count')\n",
        "    df.sort_values(by=['freq'], ascending=False, inplace=True)\n",
        "    df = df.drop_duplicates(subset=['driverId'])\n",
        "    df.reset_index(drop=True, inplace=True)\n",
        "    df = df[['freq','driverId']]\n",
        "    a.append(df)"
      ],
      "execution_count": 0,
      "outputs": []
    },
    {
      "cell_type": "code",
      "metadata": {
        "id": "6MHnPqrqBjg9",
        "colab_type": "code",
        "colab": {}
      },
      "source": [
        "df1,df3,df5,df10 = a[0], a[1], a[2], a[3]"
      ],
      "execution_count": 0,
      "outputs": []
    },
    {
      "cell_type": "code",
      "metadata": {
        "id": "V_W8E0SQBjg_",
        "colab_type": "code",
        "colab": {}
      },
      "source": [
        ""
      ],
      "execution_count": 0,
      "outputs": []
    },
    {
      "cell_type": "code",
      "metadata": {
        "id": "1wkQCn1_BjhB",
        "colab_type": "code",
        "colab": {}
      },
      "source": [
        "driver_name = driver_standing_merged.drop_duplicates(subset=['driverId'])"
      ],
      "execution_count": 0,
      "outputs": []
    },
    {
      "cell_type": "code",
      "metadata": {
        "id": "L1DZ1dL8BjhD",
        "colab_type": "code",
        "colab": {}
      },
      "source": [
        "driver_name = driver_name[['driverId', 'driverRef','forename', 'surname', 'nationality' ]]"
      ],
      "execution_count": 0,
      "outputs": []
    },
    {
      "cell_type": "code",
      "metadata": {
        "id": "A1b6r2oTBjhF",
        "colab_type": "code",
        "colab": {}
      },
      "source": [
        "driver_df = pd.merge(df1, driver_name, how='inner', left_on='driverId', right_on='driverId')"
      ],
      "execution_count": 0,
      "outputs": []
    },
    {
      "cell_type": "code",
      "metadata": {
        "id": "hItz7XxWBjhG",
        "colab_type": "code",
        "colab": {}
      },
      "source": [
        "driver_df = pd.merge(driver_df, df3, how='inner', left_on='driverId', right_on='driverId')"
      ],
      "execution_count": 0,
      "outputs": []
    },
    {
      "cell_type": "code",
      "metadata": {
        "id": "mRImaaMiBjhH",
        "colab_type": "code",
        "colab": {}
      },
      "source": [
        "driver_df = pd.merge(driver_df, df5, how='inner', left_on='driverId', right_on='driverId')\n",
        "driver_df = pd.merge(driver_df, df10, how='inner', left_on='driverId', right_on='driverId')"
      ],
      "execution_count": 0,
      "outputs": []
    },
    {
      "cell_type": "code",
      "metadata": {
        "id": "unndEnF-BjhJ",
        "colab_type": "code",
        "colab": {}
      },
      "source": [
        "driver_df.columns = ['top', 'driverId', 'driverRef', 'forename', 'surname', 'nationality', 'top3', 'top5', 'top10']"
      ],
      "execution_count": 0,
      "outputs": []
    },
    {
      "cell_type": "code",
      "metadata": {
        "id": "lTXGrFH3BjhM",
        "colab_type": "code",
        "colab": {}
      },
      "source": [
        "driver_df = driver_df[['driverId', 'driverRef', 'forename', 'surname', 'nationality','top', 'top3', 'top5', 'top10']]"
      ],
      "execution_count": 0,
      "outputs": []
    },
    {
      "cell_type": "code",
      "metadata": {
        "id": "PsPotLetBjhN",
        "colab_type": "code",
        "colab": {}
      },
      "source": [
        ""
      ],
      "execution_count": 0,
      "outputs": []
    },
    {
      "cell_type": "markdown",
      "metadata": {
        "id": "7q8_lPl_BjhO",
        "colab_type": "text"
      },
      "source": [
        "# "
      ]
    },
    {
      "cell_type": "code",
      "metadata": {
        "id": "xE7yHfEUBjhP",
        "colab_type": "code",
        "outputId": "20171af8-3754-4395-fe8f-c7307fd2cb1a",
        "colab": {
          "base_uri": "https://localhost:8080/",
          "height": 1000
        }
      },
      "source": [
        "fig = plt.figure(figsize=(20,20))\n",
        "plt.subplot(221)\n",
        "_=sns.barplot(x='top', y='driverRef', data=driver_df[:30],palette='coolwarm_r').set_title('Top')\n",
        "plt.subplot(222)\n",
        "_=sns.barplot(x='top3', y='driverRef', data=driver_df[:30],palette='coolwarm_r').set_title(\"Podium Finish\")\n",
        "_ =ax= plt.gca()\n",
        "_= ax.set_ylabel('')\n",
        "plt.subplot(223)\n",
        "_=sns.barplot(x='top5', y='driverRef', data=driver_df[:30],palette='seismic_r').set_title(\"Top_5\")\n",
        "plt.subplot(224)\n",
        "_=sns.barplot(x='top10',y='driverRef', data=driver_df[:30],palette='seismic_r').set_title(\"Top_10\")\n",
        "_ =ax= plt.gca()\n",
        "_= ax.set_ylabel('')\n",
        "#plt.savefig('Constructors.png', bbox_inches='tight')"
      ],
      "execution_count": 128,
      "outputs": [
        {
          "output_type": "display_data",
          "data": {
            "image/png": "[encoded data removed]",
            "text/plain": [
              "<Figure size 1440x1440 with 4 Axes>"
            ]
          },
          "metadata": {
            "tags": [],
            "needs_background": "light"
          }
        }
      ]
    },
    {
      "cell_type": "code",
      "metadata": {
        "id": "tWmjGAXwBjhR",
        "colab_type": "code",
        "outputId": "3122049f-b2ef-40ac-951f-6fec88b9209d",
        "colab": {
          "base_uri": "https://localhost:8080/",
          "height": 624
        }
      },
      "source": [
        "fig, ax = plt.subplots(figsize=(10,10))\n",
        "ax=sns.kdeplot(driver_df['top'], \n",
        "               color='red',\n",
        "               shade=True)\n",
        "ax=sns.kdeplot(driver_df['top3'], \n",
        "               color='black',\n",
        "               shade=True)\n",
        "ax=sns.kdeplot(driver_df['top5'], \n",
        "               color='blue',\n",
        "               shade=True)\n",
        "ax=sns.kdeplot(driver_df['top10'], \n",
        "               color='green',\n",
        "               shade=True)\n",
        "ax.set_ylabel('Density')\n",
        "ax.set_title('Density Plot of Drivers for Top, Top3, Top5, Top10 Finishes')\n",
        "#plt.savefig('density_driver.png', bbox_inches='tight')"
      ],
      "execution_count": 129,
      "outputs": [
        {
          "output_type": "execute_result",
          "data": {
            "text/plain": [
              "Text(0.5, 1.0, 'Density Plot of Drivers for Top, Top3, Top5, Top10 Finishes')"
            ]
          },
          "metadata": {
            "tags": []
          },
          "execution_count": 129
        },
        {
          "output_type": "display_data",
          "data": {
            "image/png": "[encoded data removed]",
            "text/plain": [
              "<Figure size 720x720 with 1 Axes>"
            ]
          },
          "metadata": {
            "tags": [],
            "needs_background": "light"
          }
        }
      ]
    },
    {
      "cell_type": "code",
      "metadata": {
        "id": "t3DNtYq5BjhU",
        "colab_type": "code",
        "outputId": "dca171ff-ba7c-4e64-8f60-0f85b8d1ef94",
        "colab": {
          "base_uri": "https://localhost:8080/",
          "height": 542
        }
      },
      "source": [
        "import plotly.express as px\n",
        "import plotly.io as pio\n",
        "fig = px.bar(driver_df[:30], y=\"top\", x=\"driverRef\", color='nationality')\n",
        "fig.show()"
      ],
      "execution_count": 143,
      "outputs": [
        {
          "output_type": "display_data",
          "data": {
            "text/html": [
              "<html>\n",
              "<head><meta charset=\"utf-8\" /></head>\n",
              "<body>\n",
              "    <div>\n",
              "            <script src=\"https://cdnjs.cloudflare.com/ajax/libs/mathjax/2.7.5/MathJax.js?config=TeX-AMS-MML_SVG\"></script><script type=\"text/javascript\">if (window.MathJax) {MathJax.Hub.Config({SVG: {font: \"STIX-Web\"}});}</script>\n",
              "                <script type=\"text/javascript\">window.PlotlyConfig = {MathJaxConfig: 'local'};</script>\n",
              "        <script src=\"https://cdn.plot.ly/plotly-latest.min.js\"></script>    \n",
              "            <div id=\"b8e0af73-be06-4452-9fb0-bb0239625aa0\" class=\"plotly-graph-div\" style=\"height:525px; width:100%;\"></div>\n",
              "            <script type=\"text/javascript\">\n",
              "                \n",
              "                    window.PLOTLYENV=window.PLOTLYENV || {};\n",
              "                    \n",
              "                if (document.getElementById(\"b8e0af73-be06-4452-9fb0-bb0239625aa0\")) {\n",
              "                    Plotly.newPlot(\n",
              "                        'b8e0af73-be06-4452-9fb0-bb0239625aa0',\n",
              "                        [{\"alignmentgroup\": \"True\", \"hoverlabel\": {\"namelength\": 0}, \"hovertemplate\": \"nationality=German<br>driverRef=%{x}<br>top=%{y}\", \"legendgroup\": \"nationality=German\", \"marker\": {\"color\": \"#636efa\"}, \"name\": \"nationality=German\", \"offsetgroup\": \"nationality=German\", \"orientation\": \"v\", \"showlegend\": true, \"textposition\": \"auto\", \"type\": \"bar\", \"x\": [\"michael_schumacher\", \"vettel\", \"rosberg\"], \"xaxis\": \"x\", \"y\": [91, 47, 23], \"yaxis\": \"y\"}, {\"alignmentgroup\": \"True\", \"hoverlabel\": {\"namelength\": 0}, \"hovertemplate\": \"nationality=British<br>driverRef=%{x}<br>top=%{y}\", \"legendgroup\": \"nationality=British\", \"marker\": {\"color\": \"#EF553B\"}, \"name\": \"nationality=British\", \"offsetgroup\": \"nationality=British\", \"orientation\": \"v\", \"showlegend\": true, \"textposition\": \"auto\", \"type\": \"bar\", \"x\": [\"hamilton\", \"mansell\", \"stewart\", \"clark\", \"damon_hill\", \"moss\", \"button\", \"hill\", \"coulthard\", \"hunt\"], \"xaxis\": \"x\", \"y\": [62, 31, 27, 25, 22, 16, 15, 14, 13, 10], \"yaxis\": \"y\"}, {\"alignmentgroup\": \"True\", \"hoverlabel\": {\"namelength\": 0}, \"hovertemplate\": \"nationality=French<br>driverRef=%{x}<br>top=%{y}\", \"legendgroup\": \"nationality=French\", \"marker\": {\"color\": \"#00cc96\"}, \"name\": \"nationality=French\", \"offsetgroup\": \"nationality=French\", \"orientation\": \"v\", \"showlegend\": true, \"textposition\": \"auto\", \"type\": \"bar\", \"x\": [\"prost\"], \"xaxis\": \"x\", \"y\": [51], \"yaxis\": \"y\"}, {\"alignmentgroup\": \"True\", \"hoverlabel\": {\"namelength\": 0}, \"hovertemplate\": \"nationality=Brazilian<br>driverRef=%{x}<br>top=%{y}\", \"legendgroup\": \"nationality=Brazilian\", \"marker\": {\"color\": \"#ab63fa\"}, \"name\": \"nationality=Brazilian\", \"offsetgroup\": \"nationality=Brazilian\", \"orientation\": \"v\", \"showlegend\": true, \"textposition\": \"auto\", \"type\": \"bar\", \"x\": [\"senna\", \"piquet\", \"emerson_fittipaldi\", \"massa\", \"barrichello\"], \"xaxis\": \"x\", \"y\": [41, 23, 14, 11, 11], \"yaxis\": \"y\"}, {\"alignmentgroup\": \"True\", \"hoverlabel\": {\"namelength\": 0}, \"hovertemplate\": \"nationality=Spanish<br>driverRef=%{x}<br>top=%{y}\", \"legendgroup\": \"nationality=Spanish\", \"marker\": {\"color\": \"#FFA15A\"}, \"name\": \"nationality=Spanish\", \"offsetgroup\": \"nationality=Spanish\", \"orientation\": \"v\", \"showlegend\": true, \"textposition\": \"auto\", \"type\": \"bar\", \"x\": [\"alonso\"], \"xaxis\": \"x\", \"y\": [32], \"yaxis\": \"y\"}, {\"alignmentgroup\": \"True\", \"hoverlabel\": {\"namelength\": 0}, \"hovertemplate\": \"nationality=Austrian<br>driverRef=%{x}<br>top=%{y}\", \"legendgroup\": \"nationality=Austrian\", \"marker\": {\"color\": \"#19d3f3\"}, \"name\": \"nationality=Austrian\", \"offsetgroup\": \"nationality=Austrian\", \"orientation\": \"v\", \"showlegend\": true, \"textposition\": \"auto\", \"type\": \"bar\", \"x\": [\"lauda\"], \"xaxis\": \"x\", \"y\": [25], \"yaxis\": \"y\"}, {\"alignmentgroup\": \"True\", \"hoverlabel\": {\"namelength\": 0}, \"hovertemplate\": \"nationality=Argentine<br>driverRef=%{x}<br>top=%{y}\", \"legendgroup\": \"nationality=Argentine\", \"marker\": {\"color\": \"#FF6692\"}, \"name\": \"nationality=Argentine\", \"offsetgroup\": \"nationality=Argentine\", \"orientation\": \"v\", \"showlegend\": true, \"textposition\": \"auto\", \"type\": \"bar\", \"x\": [\"fangio\", \"reutemann\"], \"xaxis\": \"x\", \"y\": [22, 12], \"yaxis\": \"y\"}, {\"alignmentgroup\": \"True\", \"hoverlabel\": {\"namelength\": 0}, \"hovertemplate\": \"nationality=Finnish<br>driverRef=%{x}<br>top=%{y}\", \"legendgroup\": \"nationality=Finnish\", \"marker\": {\"color\": \"#B6E880\"}, \"name\": \"nationality=Finnish\", \"offsetgroup\": \"nationality=Finnish\", \"orientation\": \"v\", \"showlegend\": true, \"textposition\": \"auto\", \"type\": \"bar\", \"x\": [\"raikkonen\", \"hakkinen\"], \"xaxis\": \"x\", \"y\": [20, 20], \"yaxis\": \"y\"}, {\"alignmentgroup\": \"True\", \"hoverlabel\": {\"namelength\": 0}, \"hovertemplate\": \"nationality=Australian<br>driverRef=%{x}<br>top=%{y}\", \"legendgroup\": \"nationality=Australian\", \"marker\": {\"color\": \"#FF97FF\"}, \"name\": \"nationality=Australian\", \"offsetgroup\": \"nationality=Australian\", \"orientation\": \"v\", \"showlegend\": true, \"textposition\": \"auto\", \"type\": \"bar\", \"x\": [\"jack_brabham\", \"jones\"], \"xaxis\": \"x\", \"y\": [14, 12], \"yaxis\": \"y\"}, {\"alignmentgroup\": \"True\", \"hoverlabel\": {\"namelength\": 0}, \"hovertemplate\": \"nationality=Italian<br>driverRef=%{x}<br>top=%{y}\", \"legendgroup\": \"nationality=Italian\", \"marker\": {\"color\": \"#FECB52\"}, \"name\": \"nationality=Italian\", \"offsetgroup\": \"nationality=Italian\", \"orientation\": \"v\", \"showlegend\": true, \"textposition\": \"auto\", \"type\": \"bar\", \"x\": [\"ascari\"], \"xaxis\": \"x\", \"y\": [13], \"yaxis\": \"y\"}, {\"alignmentgroup\": \"True\", \"hoverlabel\": {\"namelength\": 0}, \"hovertemplate\": \"nationality=American<br>driverRef=%{x}<br>top=%{y}\", \"legendgroup\": \"nationality=American\", \"marker\": {\"color\": \"#636efa\"}, \"name\": \"nationality=American\", \"offsetgroup\": \"nationality=American\", \"orientation\": \"v\", \"showlegend\": true, \"textposition\": \"auto\", \"type\": \"bar\", \"x\": [\"mario_andretti\"], \"xaxis\": \"x\", \"y\": [12], \"yaxis\": \"y\"}, {\"alignmentgroup\": \"True\", \"hoverlabel\": {\"namelength\": 0}, \"hovertemplate\": \"nationality=Canadian<br>driverRef=%{x}<br>top=%{y}\", \"legendgroup\": \"nationality=Canadian\", \"marker\": {\"color\": \"#EF553B\"}, \"name\": \"nationality=Canadian\", \"offsetgroup\": \"nationality=Canadian\", \"orientation\": \"v\", \"showlegend\": true, \"textposition\": \"auto\", \"type\": \"bar\", \"x\": [\"villeneuve\"], \"xaxis\": \"x\", \"y\": [11], \"yaxis\": \"y\"}],\n",
              "                        {\"barmode\": \"relative\", \"legend\": {\"tracegroupgap\": 0}, \"margin\": {\"t\": 60}, \"template\": {\"data\": {\"bar\": [{\"error_x\": {\"color\": \"#2a3f5f\"}, \"error_y\": {\"color\": \"#2a3f5f\"}, \"marker\": {\"line\": {\"color\": \"#E5ECF6\", \"width\": 0.5}}, \"type\": \"bar\"}], \"barpolar\": [{\"marker\": {\"line\": {\"color\": \"#E5ECF6\", \"width\": 0.5}}, \"type\": \"barpolar\"}], \"carpet\": [{\"aaxis\": {\"endlinecolor\": \"#2a3f5f\", \"gridcolor\": \"white\", \"linecolor\": \"white\", \"minorgridcolor\": \"white\", \"startlinecolor\": \"#2a3f5f\"}, \"baxis\": {\"endlinecolor\": \"#2a3f5f\", \"gridcolor\": \"white\", \"linecolor\": \"white\", \"minorgridcolor\": \"white\", \"startlinecolor\": \"#2a3f5f\"}, \"type\": \"carpet\"}], \"choropleth\": [{\"colorbar\": {\"outlinewidth\": 0, \"ticks\": \"\"}, \"type\": \"choropleth\"}], \"contour\": [{\"colorbar\": {\"outlinewidth\": 0, \"ticks\": \"\"}, \"colorscale\": [[0.0, \"#0d0887\"], [0.1111111111111111, \"#46039f\"], [0.2222222222222222, \"#7201a8\"], [0.3333333333333333, \"#9c179e\"], [0.4444444444444444, \"#bd3786\"], [0.5555555555555556, \"#d8576b\"], [0.6666666666666666, \"#ed7953\"], [0.7777777777777778, \"#fb9f3a\"], [0.8888888888888888, \"#fdca26\"], [1.0, \"#f0f921\"]], \"type\": \"contour\"}], \"contourcarpet\": [{\"colorbar\": {\"outlinewidth\": 0, \"ticks\": \"\"}, \"type\": \"contourcarpet\"}], \"heatmap\": [{\"colorbar\": {\"outlinewidth\": 0, \"ticks\": \"\"}, \"colorscale\": [[0.0, \"#0d0887\"], [0.1111111111111111, \"#46039f\"], [0.2222222222222222, \"#7201a8\"], [0.3333333333333333, \"#9c179e\"], [0.4444444444444444, \"#bd3786\"], [0.5555555555555556, \"#d8576b\"], [0.6666666666666666, \"#ed7953\"], [0.7777777777777778, \"#fb9f3a\"], [0.8888888888888888, \"#fdca26\"], [1.0, \"#f0f921\"]], \"type\": \"heatmap\"}], \"heatmapgl\": [{\"colorbar\": {\"outlinewidth\": 0, \"ticks\": \"\"}, \"colorscale\": [[0.0, \"#0d0887\"], [0.1111111111111111, \"#46039f\"], [0.2222222222222222, \"#7201a8\"], [0.3333333333333333, \"#9c179e\"], [0.4444444444444444, \"#bd3786\"], [0.5555555555555556, \"#d8576b\"], [0.6666666666666666, \"#ed7953\"], [0.7777777777777778, \"#fb9f3a\"], [0.8888888888888888, \"#fdca26\"], [1.0, \"#f0f921\"]], \"type\": \"heatmapgl\"}], \"histogram\": [{\"marker\": {\"colorbar\": {\"outlinewidth\": 0, \"ticks\": \"\"}}, \"type\": \"histogram\"}], \"histogram2d\": [{\"colorbar\": {\"outlinewidth\": 0, \"ticks\": \"\"}, \"colorscale\": [[0.0, \"#0d0887\"], [0.1111111111111111, \"#46039f\"], [0.2222222222222222, \"#7201a8\"], [0.3333333333333333, \"#9c179e\"], [0.4444444444444444, \"#bd3786\"], [0.5555555555555556, \"#d8576b\"], [0.6666666666666666, \"#ed7953\"], [0.7777777777777778, \"#fb9f3a\"], [0.8888888888888888, \"#fdca26\"], [1.0, \"#f0f921\"]], \"type\": \"histogram2d\"}], \"histogram2dcontour\": [{\"colorbar\": {\"outlinewidth\": 0, \"ticks\": \"\"}, \"colorscale\": [[0.0, \"#0d0887\"], [0.1111111111111111, \"#46039f\"], [0.2222222222222222, \"#7201a8\"], [0.3333333333333333, \"#9c179e\"], [0.4444444444444444, \"#bd3786\"], [0.5555555555555556, \"#d8576b\"], [0.6666666666666666, \"#ed7953\"], [0.7777777777777778, \"#fb9f3a\"], [0.8888888888888888, \"#fdca26\"], [1.0, \"#f0f921\"]], \"type\": \"histogram2dcontour\"}], \"mesh3d\": [{\"colorbar\": {\"outlinewidth\": 0, \"ticks\": \"\"}, \"type\": \"mesh3d\"}], \"parcoords\": [{\"line\": {\"colorbar\": {\"outlinewidth\": 0, \"ticks\": \"\"}}, \"type\": \"parcoords\"}], \"pie\": [{\"automargin\": true, \"type\": \"pie\"}], \"scatter\": [{\"marker\": {\"colorbar\": {\"outlinewidth\": 0, \"ticks\": \"\"}}, \"type\": \"scatter\"}], \"scatter3d\": [{\"line\": {\"colorbar\": {\"outlinewidth\": 0, \"ticks\": \"\"}}, \"marker\": {\"colorbar\": {\"outlinewidth\": 0, \"ticks\": \"\"}}, \"type\": \"scatter3d\"}], \"scattercarpet\": [{\"marker\": {\"colorbar\": {\"outlinewidth\": 0, \"ticks\": \"\"}}, \"type\": \"scattercarpet\"}], \"scattergeo\": [{\"marker\": {\"colorbar\": {\"outlinewidth\": 0, \"ticks\": \"\"}}, \"type\": \"scattergeo\"}], \"scattergl\": [{\"marker\": {\"colorbar\": {\"outlinewidth\": 0, \"ticks\": \"\"}}, \"type\": \"scattergl\"}], \"scattermapbox\": [{\"marker\": {\"colorbar\": {\"outlinewidth\": 0, \"ticks\": \"\"}}, \"type\": \"scattermapbox\"}], \"scatterpolar\": [{\"marker\": {\"colorbar\": {\"outlinewidth\": 0, \"ticks\": \"\"}}, \"type\": \"scatterpolar\"}], \"scatterpolargl\": [{\"marker\": {\"colorbar\": {\"outlinewidth\": 0, \"ticks\": \"\"}}, \"type\": \"scatterpolargl\"}], \"scatterternary\": [{\"marker\": {\"colorbar\": {\"outlinewidth\": 0, \"ticks\": \"\"}}, \"type\": \"scatterternary\"}], \"surface\": [{\"colorbar\": {\"outlinewidth\": 0, \"ticks\": \"\"}, \"colorscale\": [[0.0, \"#0d0887\"], [0.1111111111111111, \"#46039f\"], [0.2222222222222222, \"#7201a8\"], [0.3333333333333333, \"#9c179e\"], [0.4444444444444444, \"#bd3786\"], [0.5555555555555556, \"#d8576b\"], [0.6666666666666666, \"#ed7953\"], [0.7777777777777778, \"#fb9f3a\"], [0.8888888888888888, \"#fdca26\"], [1.0, \"#f0f921\"]], \"type\": \"surface\"}], \"table\": [{\"cells\": {\"fill\": {\"color\": \"#EBF0F8\"}, \"line\": {\"color\": \"white\"}}, \"header\": {\"fill\": {\"color\": \"#C8D4E3\"}, \"line\": {\"color\": \"white\"}}, \"type\": \"table\"}]}, \"layout\": {\"annotationdefaults\": {\"arrowcolor\": \"#2a3f5f\", \"arrowhead\": 0, \"arrowwidth\": 1}, \"coloraxis\": {\"colorbar\": {\"outlinewidth\": 0, \"ticks\": \"\"}}, \"colorscale\": {\"diverging\": [[0, \"#8e0152\"], [0.1, \"#c51b7d\"], [0.2, \"#de77ae\"], [0.3, \"#f1b6da\"], [0.4, \"#fde0ef\"], [0.5, \"#f7f7f7\"], [0.6, \"#e6f5d0\"], [0.7, \"#b8e186\"], [0.8, \"#7fbc41\"], [0.9, \"#4d9221\"], [1, \"#276419\"]], \"sequential\": [[0.0, \"#0d0887\"], [0.1111111111111111, \"#46039f\"], [0.2222222222222222, \"#7201a8\"], [0.3333333333333333, \"#9c179e\"], [0.4444444444444444, \"#bd3786\"], [0.5555555555555556, \"#d8576b\"], [0.6666666666666666, \"#ed7953\"], [0.7777777777777778, \"#fb9f3a\"], [0.8888888888888888, \"#fdca26\"], [1.0, \"#f0f921\"]], \"sequentialminus\": [[0.0, \"#0d0887\"], [0.1111111111111111, \"#46039f\"], [0.2222222222222222, \"#7201a8\"], [0.3333333333333333, \"#9c179e\"], [0.4444444444444444, \"#bd3786\"], [0.5555555555555556, \"#d8576b\"], [0.6666666666666666, \"#ed7953\"], [0.7777777777777778, \"#fb9f3a\"], [0.8888888888888888, \"#fdca26\"], [1.0, \"#f0f921\"]]}, \"colorway\": [\"#636efa\", \"#EF553B\", \"#00cc96\", \"#ab63fa\", \"#FFA15A\", \"#19d3f3\", \"#FF6692\", \"#B6E880\", \"#FF97FF\", \"#FECB52\"], \"font\": {\"color\": \"#2a3f5f\"}, \"geo\": {\"bgcolor\": \"white\", \"lakecolor\": \"white\", \"landcolor\": \"#E5ECF6\", \"showlakes\": true, \"showland\": true, \"subunitcolor\": \"white\"}, \"hoverlabel\": {\"align\": \"left\"}, \"hovermode\": \"closest\", \"mapbox\": {\"style\": \"light\"}, \"paper_bgcolor\": \"white\", \"plot_bgcolor\": \"#E5ECF6\", \"polar\": {\"angularaxis\": {\"gridcolor\": \"white\", \"linecolor\": \"white\", \"ticks\": \"\"}, \"bgcolor\": \"#E5ECF6\", \"radialaxis\": {\"gridcolor\": \"white\", \"linecolor\": \"white\", \"ticks\": \"\"}}, \"scene\": {\"xaxis\": {\"backgroundcolor\": \"#E5ECF6\", \"gridcolor\": \"white\", \"gridwidth\": 2, \"linecolor\": \"white\", \"showbackground\": true, \"ticks\": \"\", \"zerolinecolor\": \"white\"}, \"yaxis\": {\"backgroundcolor\": \"#E5ECF6\", \"gridcolor\": \"white\", \"gridwidth\": 2, \"linecolor\": \"white\", \"showbackground\": true, \"ticks\": \"\", \"zerolinecolor\": \"white\"}, \"zaxis\": {\"backgroundcolor\": \"#E5ECF6\", \"gridcolor\": \"white\", \"gridwidth\": 2, \"linecolor\": \"white\", \"showbackground\": true, \"ticks\": \"\", \"zerolinecolor\": \"white\"}}, \"shapedefaults\": {\"line\": {\"color\": \"#2a3f5f\"}}, \"ternary\": {\"aaxis\": {\"gridcolor\": \"white\", \"linecolor\": \"white\", \"ticks\": \"\"}, \"baxis\": {\"gridcolor\": \"white\", \"linecolor\": \"white\", \"ticks\": \"\"}, \"bgcolor\": \"#E5ECF6\", \"caxis\": {\"gridcolor\": \"white\", \"linecolor\": \"white\", \"ticks\": \"\"}}, \"title\": {\"x\": 0.05}, \"xaxis\": {\"automargin\": true, \"gridcolor\": \"white\", \"linecolor\": \"white\", \"ticks\": \"\", \"title\": {\"standoff\": 15}, \"zerolinecolor\": \"white\", \"zerolinewidth\": 2}, \"yaxis\": {\"automargin\": true, \"gridcolor\": \"white\", \"linecolor\": \"white\", \"ticks\": \"\", \"title\": {\"standoff\": 15}, \"zerolinecolor\": \"white\", \"zerolinewidth\": 2}}}, \"xaxis\": {\"anchor\": \"y\", \"domain\": [0.0, 1.0], \"title\": {\"text\": \"driverRef\"}}, \"yaxis\": {\"anchor\": \"x\", \"domain\": [0.0, 1.0], \"title\": {\"text\": \"top\"}}},\n",
              "                        {\"responsive\": true}\n",
              "                    ).then(function(){\n",
              "                            \n",
              "var gd = document.getElementById('b8e0af73-be06-4452-9fb0-bb0239625aa0');\n",
              "var x = new MutationObserver(function (mutations, observer) {{\n",
              "        var display = window.getComputedStyle(gd).display;\n",
              "        if (!display || display === 'none') {{\n",
              "            console.log([gd, 'removed!']);\n",
              "            Plotly.purge(gd);\n",
              "            observer.disconnect();\n",
              "        }}\n",
              "}});\n",
              "\n",
              "// Listen for the removal of the full notebook cells\n",
              "var notebookContainer = gd.closest('#notebook-container');\n",
              "if (notebookContainer) {{\n",
              "    x.observe(notebookContainer, {childList: true});\n",
              "}}\n",
              "\n",
              "// Listen for the clearing of the current output cell\n",
              "var outputEl = gd.closest('.output');\n",
              "if (outputEl) {{\n",
              "    x.observe(outputEl, {childList: true});\n",
              "}}\n",
              "\n",
              "                        })\n",
              "                };\n",
              "                \n",
              "            </script>\n",
              "        </div>\n",
              "</body>\n",
              "</html>"
            ]
          },
          "metadata": {
            "tags": []
          }
        }
      ]
    },
    {
      "cell_type": "code",
      "metadata": {
        "id": "rBvg4i-NBjhW",
        "colab_type": "code",
        "colab": {
          "base_uri": "https://localhost:8080/",
          "height": 542
        },
        "outputId": "8c3de5f0-2162-4727-b364-36af142826ba"
      },
      "source": [
        "fig = px.bar(final_freq[:30], y=\"top_position\", x=\"constructor_name\", color='nationality')\n",
        "fig.show()"
      ],
      "execution_count": 144,
      "outputs": [
        {
          "output_type": "display_data",
          "data": {
            "text/html": [
              "<html>\n",
              "<head><meta charset=\"utf-8\" /></head>\n",
              "<body>\n",
              "    <div>\n",
              "            <script src=\"https://cdnjs.cloudflare.com/ajax/libs/mathjax/2.7.5/MathJax.js?config=TeX-AMS-MML_SVG\"></script><script type=\"text/javascript\">if (window.MathJax) {MathJax.Hub.Config({SVG: {font: \"STIX-Web\"}});}</script>\n",
              "                <script type=\"text/javascript\">window.PlotlyConfig = {MathJaxConfig: 'local'};</script>\n",
              "        <script src=\"https://cdn.plot.ly/plotly-latest.min.js\"></script>    \n",
              "            <div id=\"a282dc4e-6bdb-4798-a231-7ecaa8a5c021\" class=\"plotly-graph-div\" style=\"height:525px; width:100%;\"></div>\n",
              "            <script type=\"text/javascript\">\n",
              "                \n",
              "                    window.PLOTLYENV=window.PLOTLYENV || {};\n",
              "                    \n",
              "                if (document.getElementById(\"a282dc4e-6bdb-4798-a231-7ecaa8a5c021\")) {\n",
              "                    Plotly.newPlot(\n",
              "                        'a282dc4e-6bdb-4798-a231-7ecaa8a5c021',\n",
              "                        [{\"alignmentgroup\": \"True\", \"hoverlabel\": {\"namelength\": 0}, \"hovertemplate\": \"nationality=Italian<br>constructor_name=%{x}<br>top_position=%{y}\", \"legendgroup\": \"nationality=Italian\", \"marker\": {\"color\": \"#636efa\"}, \"name\": \"nationality=Italian\", \"offsetgroup\": \"nationality=Italian\", \"orientation\": \"v\", \"showlegend\": true, \"textposition\": \"auto\", \"type\": \"bar\", \"x\": [\"Ferrari\", \"Benetton\", \"Alfa Romeo\", \"Maserati\"], \"xaxis\": \"x\", \"y\": [229, 27, 10, 9], \"yaxis\": \"y\"}, {\"alignmentgroup\": \"True\", \"hoverlabel\": {\"namelength\": 0}, \"hovertemplate\": \"nationality=British<br>constructor_name=%{x}<br>top_position=%{y}\", \"legendgroup\": \"nationality=British\", \"marker\": {\"color\": \"#EF553B\"}, \"name\": \"nationality=British\", \"offsetgroup\": \"nationality=British\", \"orientation\": \"v\", \"showlegend\": true, \"textposition\": \"auto\", \"type\": \"bar\", \"x\": [\"McLaren\", \"Williams\", \"Team Lotus\", \"Tyrrell\", \"Brabham\", \"Lotus-Climax\", \"BRM\", \"Cooper-Climax\", \"Lotus-Ford\", \"Vanwall\", \"Brabham-Repco\", \"Brawn\", \"McLaren-Ford\", \"March\", \"Brabham-Ford\"], \"xaxis\": \"x\", \"y\": [178, 114, 45, 23, 23, 22, 17, 12, 11, 9, 8, 8, 4, 3, 2], \"yaxis\": \"y\"}, {\"alignmentgroup\": \"True\", \"hoverlabel\": {\"namelength\": 0}, \"hovertemplate\": \"nationality=German<br>constructor_name=%{x}<br>top_position=%{y}\", \"legendgroup\": \"nationality=German\", \"marker\": {\"color\": \"#00cc96\"}, \"name\": \"nationality=German\", \"offsetgroup\": \"nationality=German\", \"orientation\": \"v\", \"showlegend\": true, \"textposition\": \"auto\", \"type\": \"bar\", \"x\": [\"Mercedes\"], \"xaxis\": \"x\", \"y\": [76], \"yaxis\": \"y\"}, {\"alignmentgroup\": \"True\", \"hoverlabel\": {\"namelength\": 0}, \"hovertemplate\": \"nationality=Austrian<br>constructor_name=%{x}<br>top_position=%{y}\", \"legendgroup\": \"nationality=Austrian\", \"marker\": {\"color\": \"#ab63fa\"}, \"name\": \"nationality=Austrian\", \"offsetgroup\": \"nationality=Austrian\", \"orientation\": \"v\", \"showlegend\": true, \"textposition\": \"auto\", \"type\": \"bar\", \"x\": [\"Red Bull\"], \"xaxis\": \"x\", \"y\": [55], \"yaxis\": \"y\"}, {\"alignmentgroup\": \"True\", \"hoverlabel\": {\"namelength\": 0}, \"hovertemplate\": \"nationality=French<br>constructor_name=%{x}<br>top_position=%{y}\", \"legendgroup\": \"nationality=French\", \"marker\": {\"color\": \"#FFA15A\"}, \"name\": \"nationality=French\", \"offsetgroup\": \"nationality=French\", \"orientation\": \"v\", \"showlegend\": true, \"textposition\": \"auto\", \"type\": \"bar\", \"x\": [\"Renault\", \"Ligier\", \"Matra-Ford\"], \"xaxis\": \"x\", \"y\": [35, 9, 9], \"yaxis\": \"y\"}, {\"alignmentgroup\": \"True\", \"hoverlabel\": {\"namelength\": 0}, \"hovertemplate\": \"nationality=American<br>constructor_name=%{x}<br>top_position=%{y}\", \"legendgroup\": \"nationality=American\", \"marker\": {\"color\": \"#19d3f3\"}, \"name\": \"nationality=American\", \"offsetgroup\": \"nationality=American\", \"orientation\": \"v\", \"showlegend\": true, \"textposition\": \"auto\", \"type\": \"bar\", \"x\": [\"Kurtis Kraft\", \"Watson\", \"Epperly\"], \"xaxis\": \"x\", \"y\": [5, 3, 2], \"yaxis\": \"y\"}, {\"alignmentgroup\": \"True\", \"hoverlabel\": {\"namelength\": 0}, \"hovertemplate\": \"nationality=Irish<br>constructor_name=%{x}<br>top_position=%{y}\", \"legendgroup\": \"nationality=Irish\", \"marker\": {\"color\": \"#FF6692\"}, \"name\": \"nationality=Irish\", \"offsetgroup\": \"nationality=Irish\", \"orientation\": \"v\", \"showlegend\": true, \"textposition\": \"auto\", \"type\": \"bar\", \"x\": [\"Jordan\"], \"xaxis\": \"x\", \"y\": [4], \"yaxis\": \"y\"}, {\"alignmentgroup\": \"True\", \"hoverlabel\": {\"namelength\": 0}, \"hovertemplate\": \"nationality=Japanese<br>constructor_name=%{x}<br>top_position=%{y}\", \"legendgroup\": \"nationality=Japanese\", \"marker\": {\"color\": \"#B6E880\"}, \"name\": \"nationality=Japanese\", \"offsetgroup\": \"nationality=Japanese\", \"orientation\": \"v\", \"showlegend\": true, \"textposition\": \"auto\", \"type\": \"bar\", \"x\": [\"Honda\"], \"xaxis\": \"x\", \"y\": [3], \"yaxis\": \"y\"}, {\"alignmentgroup\": \"True\", \"hoverlabel\": {\"namelength\": 0}, \"hovertemplate\": \"nationality=Canadian<br>constructor_name=%{x}<br>top_position=%{y}\", \"legendgroup\": \"nationality=Canadian\", \"marker\": {\"color\": \"#FF97FF\"}, \"name\": \"nationality=Canadian\", \"offsetgroup\": \"nationality=Canadian\", \"orientation\": \"v\", \"showlegend\": true, \"textposition\": \"auto\", \"type\": \"bar\", \"x\": [\"Wolf\"], \"xaxis\": \"x\", \"y\": [3], \"yaxis\": \"y\"}],\n",
              "                        {\"barmode\": \"relative\", \"legend\": {\"tracegroupgap\": 0}, \"margin\": {\"t\": 60}, \"template\": {\"data\": {\"bar\": [{\"error_x\": {\"color\": \"#2a3f5f\"}, \"error_y\": {\"color\": \"#2a3f5f\"}, \"marker\": {\"line\": {\"color\": \"#E5ECF6\", \"width\": 0.5}}, \"type\": \"bar\"}], \"barpolar\": [{\"marker\": {\"line\": {\"color\": \"#E5ECF6\", \"width\": 0.5}}, \"type\": \"barpolar\"}], \"carpet\": [{\"aaxis\": {\"endlinecolor\": \"#2a3f5f\", \"gridcolor\": \"white\", \"linecolor\": \"white\", \"minorgridcolor\": \"white\", \"startlinecolor\": \"#2a3f5f\"}, \"baxis\": {\"endlinecolor\": \"#2a3f5f\", \"gridcolor\": \"white\", \"linecolor\": \"white\", \"minorgridcolor\": \"white\", \"startlinecolor\": \"#2a3f5f\"}, \"type\": \"carpet\"}], \"choropleth\": [{\"colorbar\": {\"outlinewidth\": 0, \"ticks\": \"\"}, \"type\": \"choropleth\"}], \"contour\": [{\"colorbar\": {\"outlinewidth\": 0, \"ticks\": \"\"}, \"colorscale\": [[0.0, \"#0d0887\"], [0.1111111111111111, \"#46039f\"], [0.2222222222222222, \"#7201a8\"], [0.3333333333333333, \"#9c179e\"], [0.4444444444444444, \"#bd3786\"], [0.5555555555555556, \"#d8576b\"], [0.6666666666666666, \"#ed7953\"], [0.7777777777777778, \"#fb9f3a\"], [0.8888888888888888, \"#fdca26\"], [1.0, \"#f0f921\"]], \"type\": \"contour\"}], \"contourcarpet\": [{\"colorbar\": {\"outlinewidth\": 0, \"ticks\": \"\"}, \"type\": \"contourcarpet\"}], \"heatmap\": [{\"colorbar\": {\"outlinewidth\": 0, \"ticks\": \"\"}, \"colorscale\": [[0.0, \"#0d0887\"], [0.1111111111111111, \"#46039f\"], [0.2222222222222222, \"#7201a8\"], [0.3333333333333333, \"#9c179e\"], [0.4444444444444444, \"#bd3786\"], [0.5555555555555556, \"#d8576b\"], [0.6666666666666666, \"#ed7953\"], [0.7777777777777778, \"#fb9f3a\"], [0.8888888888888888, \"#fdca26\"], [1.0, \"#f0f921\"]], \"type\": \"heatmap\"}], \"heatmapgl\": [{\"colorbar\": {\"outlinewidth\": 0, \"ticks\": \"\"}, \"colorscale\": [[0.0, \"#0d0887\"], [0.1111111111111111, \"#46039f\"], [0.2222222222222222, \"#7201a8\"], [0.3333333333333333, \"#9c179e\"], [0.4444444444444444, \"#bd3786\"], [0.5555555555555556, \"#d8576b\"], [0.6666666666666666, \"#ed7953\"], [0.7777777777777778, \"#fb9f3a\"], [0.8888888888888888, \"#fdca26\"], [1.0, \"#f0f921\"]], \"type\": \"heatmapgl\"}], \"histogram\": [{\"marker\": {\"colorbar\": {\"outlinewidth\": 0, \"ticks\": \"\"}}, \"type\": \"histogram\"}], \"histogram2d\": [{\"colorbar\": {\"outlinewidth\": 0, \"ticks\": \"\"}, \"colorscale\": [[0.0, \"#0d0887\"], [0.1111111111111111, \"#46039f\"], [0.2222222222222222, \"#7201a8\"], [0.3333333333333333, \"#9c179e\"], [0.4444444444444444, \"#bd3786\"], [0.5555555555555556, \"#d8576b\"], [0.6666666666666666, \"#ed7953\"], [0.7777777777777778, \"#fb9f3a\"], [0.8888888888888888, \"#fdca26\"], [1.0, \"#f0f921\"]], \"type\": \"histogram2d\"}], \"histogram2dcontour\": [{\"colorbar\": {\"outlinewidth\": 0, \"ticks\": \"\"}, \"colorscale\": [[0.0, \"#0d0887\"], [0.1111111111111111, \"#46039f\"], [0.2222222222222222, \"#7201a8\"], [0.3333333333333333, \"#9c179e\"], [0.4444444444444444, \"#bd3786\"], [0.5555555555555556, \"#d8576b\"], [0.6666666666666666, \"#ed7953\"], [0.7777777777777778, \"#fb9f3a\"], [0.8888888888888888, \"#fdca26\"], [1.0, \"#f0f921\"]], \"type\": \"histogram2dcontour\"}], \"mesh3d\": [{\"colorbar\": {\"outlinewidth\": 0, \"ticks\": \"\"}, \"type\": \"mesh3d\"}], \"parcoords\": [{\"line\": {\"colorbar\": {\"outlinewidth\": 0, \"ticks\": \"\"}}, \"type\": \"parcoords\"}], \"pie\": [{\"automargin\": true, \"type\": \"pie\"}], \"scatter\": [{\"marker\": {\"colorbar\": {\"outlinewidth\": 0, \"ticks\": \"\"}}, \"type\": \"scatter\"}], \"scatter3d\": [{\"line\": {\"colorbar\": {\"outlinewidth\": 0, \"ticks\": \"\"}}, \"marker\": {\"colorbar\": {\"outlinewidth\": 0, \"ticks\": \"\"}}, \"type\": \"scatter3d\"}], \"scattercarpet\": [{\"marker\": {\"colorbar\": {\"outlinewidth\": 0, \"ticks\": \"\"}}, \"type\": \"scattercarpet\"}], \"scattergeo\": [{\"marker\": {\"colorbar\": {\"outlinewidth\": 0, \"ticks\": \"\"}}, \"type\": \"scattergeo\"}], \"scattergl\": [{\"marker\": {\"colorbar\": {\"outlinewidth\": 0, \"ticks\": \"\"}}, \"type\": \"scattergl\"}], \"scattermapbox\": [{\"marker\": {\"colorbar\": {\"outlinewidth\": 0, \"ticks\": \"\"}}, \"type\": \"scattermapbox\"}], \"scatterpolar\": [{\"marker\": {\"colorbar\": {\"outlinewidth\": 0, \"ticks\": \"\"}}, \"type\": \"scatterpolar\"}], \"scatterpolargl\": [{\"marker\": {\"colorbar\": {\"outlinewidth\": 0, \"ticks\": \"\"}}, \"type\": \"scatterpolargl\"}], \"scatterternary\": [{\"marker\": {\"colorbar\": {\"outlinewidth\": 0, \"ticks\": \"\"}}, \"type\": \"scatterternary\"}], \"surface\": [{\"colorbar\": {\"outlinewidth\": 0, \"ticks\": \"\"}, \"colorscale\": [[0.0, \"#0d0887\"], [0.1111111111111111, \"#46039f\"], [0.2222222222222222, \"#7201a8\"], [0.3333333333333333, \"#9c179e\"], [0.4444444444444444, \"#bd3786\"], [0.5555555555555556, \"#d8576b\"], [0.6666666666666666, \"#ed7953\"], [0.7777777777777778, \"#fb9f3a\"], [0.8888888888888888, \"#fdca26\"], [1.0, \"#f0f921\"]], \"type\": \"surface\"}], \"table\": [{\"cells\": {\"fill\": {\"color\": \"#EBF0F8\"}, \"line\": {\"color\": \"white\"}}, \"header\": {\"fill\": {\"color\": \"#C8D4E3\"}, \"line\": {\"color\": \"white\"}}, \"type\": \"table\"}]}, \"layout\": {\"annotationdefaults\": {\"arrowcolor\": \"#2a3f5f\", \"arrowhead\": 0, \"arrowwidth\": 1}, \"coloraxis\": {\"colorbar\": {\"outlinewidth\": 0, \"ticks\": \"\"}}, \"colorscale\": {\"diverging\": [[0, \"#8e0152\"], [0.1, \"#c51b7d\"], [0.2, \"#de77ae\"], [0.3, \"#f1b6da\"], [0.4, \"#fde0ef\"], [0.5, \"#f7f7f7\"], [0.6, \"#e6f5d0\"], [0.7, \"#b8e186\"], [0.8, \"#7fbc41\"], [0.9, \"#4d9221\"], [1, \"#276419\"]], \"sequential\": [[0.0, \"#0d0887\"], [0.1111111111111111, \"#46039f\"], [0.2222222222222222, \"#7201a8\"], [0.3333333333333333, \"#9c179e\"], [0.4444444444444444, \"#bd3786\"], [0.5555555555555556, \"#d8576b\"], [0.6666666666666666, \"#ed7953\"], [0.7777777777777778, \"#fb9f3a\"], [0.8888888888888888, \"#fdca26\"], [1.0, \"#f0f921\"]], \"sequentialminus\": [[0.0, \"#0d0887\"], [0.1111111111111111, \"#46039f\"], [0.2222222222222222, \"#7201a8\"], [0.3333333333333333, \"#9c179e\"], [0.4444444444444444, \"#bd3786\"], [0.5555555555555556, \"#d8576b\"], [0.6666666666666666, \"#ed7953\"], [0.7777777777777778, \"#fb9f3a\"], [0.8888888888888888, \"#fdca26\"], [1.0, \"#f0f921\"]]}, \"colorway\": [\"#636efa\", \"#EF553B\", \"#00cc96\", \"#ab63fa\", \"#FFA15A\", \"#19d3f3\", \"#FF6692\", \"#B6E880\", \"#FF97FF\", \"#FECB52\"], \"font\": {\"color\": \"#2a3f5f\"}, \"geo\": {\"bgcolor\": \"white\", \"lakecolor\": \"white\", \"landcolor\": \"#E5ECF6\", \"showlakes\": true, \"showland\": true, \"subunitcolor\": \"white\"}, \"hoverlabel\": {\"align\": \"left\"}, \"hovermode\": \"closest\", \"mapbox\": {\"style\": \"light\"}, \"paper_bgcolor\": \"white\", \"plot_bgcolor\": \"#E5ECF6\", \"polar\": {\"angularaxis\": {\"gridcolor\": \"white\", \"linecolor\": \"white\", \"ticks\": \"\"}, \"bgcolor\": \"#E5ECF6\", \"radialaxis\": {\"gridcolor\": \"white\", \"linecolor\": \"white\", \"ticks\": \"\"}}, \"scene\": {\"xaxis\": {\"backgroundcolor\": \"#E5ECF6\", \"gridcolor\": \"white\", \"gridwidth\": 2, \"linecolor\": \"white\", \"showbackground\": true, \"ticks\": \"\", \"zerolinecolor\": \"white\"}, \"yaxis\": {\"backgroundcolor\": \"#E5ECF6\", \"gridcolor\": \"white\", \"gridwidth\": 2, \"linecolor\": \"white\", \"showbackground\": true, \"ticks\": \"\", \"zerolinecolor\": \"white\"}, \"zaxis\": {\"backgroundcolor\": \"#E5ECF6\", \"gridcolor\": \"white\", \"gridwidth\": 2, \"linecolor\": \"white\", \"showbackground\": true, \"ticks\": \"\", \"zerolinecolor\": \"white\"}}, \"shapedefaults\": {\"line\": {\"color\": \"#2a3f5f\"}}, \"ternary\": {\"aaxis\": {\"gridcolor\": \"white\", \"linecolor\": \"white\", \"ticks\": \"\"}, \"baxis\": {\"gridcolor\": \"white\", \"linecolor\": \"white\", \"ticks\": \"\"}, \"bgcolor\": \"#E5ECF6\", \"caxis\": {\"gridcolor\": \"white\", \"linecolor\": \"white\", \"ticks\": \"\"}}, \"title\": {\"x\": 0.05}, \"xaxis\": {\"automargin\": true, \"gridcolor\": \"white\", \"linecolor\": \"white\", \"ticks\": \"\", \"title\": {\"standoff\": 15}, \"zerolinecolor\": \"white\", \"zerolinewidth\": 2}, \"yaxis\": {\"automargin\": true, \"gridcolor\": \"white\", \"linecolor\": \"white\", \"ticks\": \"\", \"title\": {\"standoff\": 15}, \"zerolinecolor\": \"white\", \"zerolinewidth\": 2}}}, \"xaxis\": {\"anchor\": \"y\", \"domain\": [0.0, 1.0], \"title\": {\"text\": \"constructor_name\"}}, \"yaxis\": {\"anchor\": \"x\", \"domain\": [0.0, 1.0], \"title\": {\"text\": \"top_position\"}}},\n",
              "                        {\"responsive\": true}\n",
              "                    ).then(function(){\n",
              "                            \n",
              "var gd = document.getElementById('a282dc4e-6bdb-4798-a231-7ecaa8a5c021');\n",
              "var x = new MutationObserver(function (mutations, observer) {{\n",
              "        var display = window.getComputedStyle(gd).display;\n",
              "        if (!display || display === 'none') {{\n",
              "            console.log([gd, 'removed!']);\n",
              "            Plotly.purge(gd);\n",
              "            observer.disconnect();\n",
              "        }}\n",
              "}});\n",
              "\n",
              "// Listen for the removal of the full notebook cells\n",
              "var notebookContainer = gd.closest('#notebook-container');\n",
              "if (notebookContainer) {{\n",
              "    x.observe(notebookContainer, {childList: true});\n",
              "}}\n",
              "\n",
              "// Listen for the clearing of the current output cell\n",
              "var outputEl = gd.closest('.output');\n",
              "if (outputEl) {{\n",
              "    x.observe(outputEl, {childList: true});\n",
              "}}\n",
              "\n",
              "                        })\n",
              "                };\n",
              "                \n",
              "            </script>\n",
              "        </div>\n",
              "</body>\n",
              "</html>"
            ]
          },
          "metadata": {
            "tags": []
          }
        }
      ]
    },
    {
      "cell_type": "code",
      "metadata": {
        "id": "LN1ALxnHJmF-",
        "colab_type": "code",
        "colab": {}
      },
      "source": [
        ""
      ],
      "execution_count": 0,
      "outputs": []
    },
    {
      "cell_type": "code",
      "metadata": {
        "id": "94bw-lUJBjhY",
        "colab_type": "code",
        "colab": {}
      },
      "source": [
        "temp_df3 = temp_df2[temp_df2['fastestLapSpeed'].notna()]"
      ],
      "execution_count": 0,
      "outputs": []
    },
    {
      "cell_type": "code",
      "metadata": {
        "id": "_mYAzmXhIatx",
        "colab_type": "code",
        "colab": {
          "base_uri": "https://localhost:8080/",
          "height": 139
        },
        "outputId": "fe2f8e73-2fb1-4767-a744-ad80db7d0546"
      },
      "source": [
        "temp_df3.sort_values(by=['fastestLapSpeed'],inplace=True,ascending=False)"
      ],
      "execution_count": 159,
      "outputs": [
        {
          "output_type": "stream",
          "text": [
            "/usr/local/lib/python3.6/dist-packages/ipykernel_launcher.py:1: SettingWithCopyWarning:\n",
            "\n",
            "\n",
            "A value is trying to be set on a copy of a slice from a DataFrame\n",
            "\n",
            "See the caveats in the documentation: https://pandas.pydata.org/pandas-docs/stable/user_guide/indexing.html#returning-a-view-versus-a-copy\n",
            "\n"
          ],
          "name": "stderr"
        }
      ]
    },
    {
      "cell_type": "code",
      "metadata": {
        "id": "qwpUoEhQQ74c",
        "colab_type": "code",
        "colab": {}
      },
      "source": [
        "temp_df3_10 = temp_df3[:10]"
      ],
      "execution_count": 0,
      "outputs": []
    },
    {
      "cell_type": "code",
      "metadata": {
        "id": "uQ5Uuhq5Yc55",
        "colab_type": "code",
        "colab": {}
      },
      "source": [
        "drivers_list = ['barrichello', 'michael_schumacher', 'raikkonen', 'montoya', 'alonso', 'pizzonia', 'raikkonen', 'michael_schumacher','fisichella', 'fisichella' ]"
      ],
      "execution_count": 0,
      "outputs": []
    },
    {
      "cell_type": "code",
      "metadata": {
        "id": "MbEa9F92aFvb",
        "colab_type": "code",
        "colab": {
          "base_uri": "https://localhost:8080/",
          "height": 156
        },
        "outputId": "9c5c452b-1160-48a9-cfe4-c58666fd5e2b"
      },
      "source": [
        "temp_df3_10['driver_name']=drivers_list"
      ],
      "execution_count": 174,
      "outputs": [
        {
          "output_type": "stream",
          "text": [
            "/usr/local/lib/python3.6/dist-packages/ipykernel_launcher.py:1: SettingWithCopyWarning:\n",
            "\n",
            "\n",
            "A value is trying to be set on a copy of a slice from a DataFrame.\n",
            "Try using .loc[row_indexer,col_indexer] = value instead\n",
            "\n",
            "See the caveats in the documentation: https://pandas.pydata.org/pandas-docs/stable/user_guide/indexing.html#returning-a-view-versus-a-copy\n",
            "\n"
          ],
          "name": "stderr"
        }
      ]
    },
    {
      "cell_type": "code",
      "metadata": {
        "id": "Xvb-0bqwaLw4",
        "colab_type": "code",
        "colab": {}
      },
      "source": [
        "temp_df3_10.to_csv('drivers_lap.csv')"
      ],
      "execution_count": 0,
      "outputs": []
    },
    {
      "cell_type": "code",
      "metadata": {
        "id": "kPMny4zyabos",
        "colab_type": "code",
        "colab": {}
      },
      "source": [
        "driver_df = driver_df[['top', 'top3', 'top5', 'top10']]"
      ],
      "execution_count": 0,
      "outputs": []
    },
    {
      "cell_type": "code",
      "metadata": {
        "id": "EVoV3vjLdYA0",
        "colab_type": "code",
        "colab": {
          "base_uri": "https://localhost:8080/",
          "height": 286
        },
        "outputId": "fd2637c0-ae95-45cb-bde7-3c88a4acfaf7"
      },
      "source": [
        "corr = driver_df.corr()\n",
        "mask = np.zeros_like(corr)\n",
        "sns.heatmap(corr,center=0.8,annot=True,cmap=\"YlGnBu\",mask=mask)"
      ],
      "execution_count": 193,
      "outputs": [
        {
          "output_type": "execute_result",
          "data": {
            "text/plain": [
              "<matplotlib.axes._subplots.AxesSubplot at 0x7faea6867320>"
            ]
          },
          "metadata": {
            "tags": []
          },
          "execution_count": 193
        },
        {
          "output_type": "display_data",
          "data": {
            "image/png": "[encoded data removed]",
            "text/plain": [
              "<Figure size 432x288 with 2 Axes>"
            ]
          },
          "metadata": {
            "tags": [],
            "needs_background": "light"
          }
        }
      ]
    },
    {
      "cell_type": "code",
      "metadata": {
        "id": "6Bhem-Qinq45",
        "colab_type": "code",
        "colab": {}
      },
      "source": [
        ""
      ],
      "execution_count": 0,
      "outputs": []
    },
    {
      "cell_type": "code",
      "metadata": {
        "id": "wBOn9_09o9u1",
        "colab_type": "code",
        "colab": {}
      },
      "source": [
        ""
      ],
      "execution_count": 0,
      "outputs": []
    }
  ]
}