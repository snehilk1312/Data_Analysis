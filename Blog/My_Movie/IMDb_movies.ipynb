{
  "nbformat": 4,
  "nbformat_minor": 0,
  "metadata": {
    "colab": {
      "name": "IMDb_movies.ipynb",
      "provenance": []
    },
    "kernelspec": {
      "name": "python3",
      "display_name": "Python 3"
    }
  },
  "cells": [
    {
      "cell_type": "code",
      "metadata": {
        "id": "QYiFbf7bnjX9",
        "colab_type": "code",
        "colab": {}
      },
      "source": [
        "import pandas as pd\n",
        "import numpy as np\n",
        "import matplotlib.pyplot as plt\n",
        "import seaborn as sns\n",
        "import statsmodels.api as sm"
      ],
      "execution_count": 0,
      "outputs": []
    },
    {
      "cell_type": "code",
      "metadata": {
        "id": "-6nwBFZxnw3s",
        "colab_type": "code",
        "colab": {}
      },
      "source": [
        "da = pd.read_csv('/content/ratings.csv', encoding='latin')"
      ],
      "execution_count": 0,
      "outputs": []
    },
    {
      "cell_type": "code",
      "metadata": {
        "id": "-JEshWQcoFCq",
        "colab_type": "code",
        "colab": {
          "base_uri": "https://localhost:8080/",
          "height": 34
        },
        "outputId": "13bfbe10-da96-4e42-84e7-4a8a8bc304b1"
      },
      "source": [
        "da.shape"
      ],
      "execution_count": 522,
      "outputs": [
        {
          "output_type": "execute_result",
          "data": {
            "text/plain": [
              "(228, 13)"
            ]
          },
          "metadata": {
            "tags": []
          },
          "execution_count": 522
        }
      ]
    },
    {
      "cell_type": "code",
      "metadata": {
        "id": "fT_J5mMdoNtE",
        "colab_type": "code",
        "colab": {}
      },
      "source": [
        "da=da[['Your Rating','Title','Title Type', 'IMDb Rating', 'Runtime (mins)','Year','Num Votes', 'Genres','Directors']]"
      ],
      "execution_count": 0,
      "outputs": []
    },
    {
      "cell_type": "code",
      "metadata": {
        "id": "ynkHBMN0o8xj",
        "colab_type": "code",
        "colab": {
          "base_uri": "https://localhost:8080/",
          "height": 206
        },
        "outputId": "b4a35073-70f1-4076-c1d9-cedb4aa342c0"
      },
      "source": [
        "da.head()"
      ],
      "execution_count": 524,
      "outputs": [
        {
          "output_type": "execute_result",
          "data": {
            "text/html": [
              "<div>\n",
              "<style scoped>\n",
              "    .dataframe tbody tr th:only-of-type {\n",
              "        vertical-align: middle;\n",
              "    }\n",
              "\n",
              "    .dataframe tbody tr th {\n",
              "        vertical-align: top;\n",
              "    }\n",
              "\n",
              "    .dataframe thead th {\n",
              "        text-align: right;\n",
              "    }\n",
              "</style>\n",
              "<table border=\"1\" class=\"dataframe\">\n",
              "  <thead>\n",
              "    <tr style=\"text-align: right;\">\n",
              "      <th></th>\n",
              "      <th>Your Rating</th>\n",
              "      <th>Title</th>\n",
              "      <th>Title Type</th>\n",
              "      <th>IMDb Rating</th>\n",
              "      <th>Runtime (mins)</th>\n",
              "      <th>Year</th>\n",
              "      <th>Num Votes</th>\n",
              "      <th>Genres</th>\n",
              "      <th>Directors</th>\n",
              "    </tr>\n",
              "  </thead>\n",
              "  <tbody>\n",
              "    <tr>\n",
              "      <th>0</th>\n",
              "      <td>10</td>\n",
              "      <td>(500) Days of Summer</td>\n",
              "      <td>movie</td>\n",
              "      <td>7.7</td>\n",
              "      <td>95.0</td>\n",
              "      <td>2009</td>\n",
              "      <td>458965</td>\n",
              "      <td>Comedy, Drama, Romance</td>\n",
              "      <td>Marc Webb</td>\n",
              "    </tr>\n",
              "    <tr>\n",
              "      <th>1</th>\n",
              "      <td>9</td>\n",
              "      <td>Argo</td>\n",
              "      <td>movie</td>\n",
              "      <td>7.7</td>\n",
              "      <td>120.0</td>\n",
              "      <td>2012</td>\n",
              "      <td>557346</td>\n",
              "      <td>Biography, Drama, Thriller</td>\n",
              "      <td>Ben Affleck</td>\n",
              "    </tr>\n",
              "    <tr>\n",
              "      <th>2</th>\n",
              "      <td>7</td>\n",
              "      <td>The Silence of the Lambs</td>\n",
              "      <td>movie</td>\n",
              "      <td>8.6</td>\n",
              "      <td>118.0</td>\n",
              "      <td>1991</td>\n",
              "      <td>1212480</td>\n",
              "      <td>Crime, Drama, Thriller</td>\n",
              "      <td>Jonathan Demme</td>\n",
              "    </tr>\n",
              "    <tr>\n",
              "      <th>3</th>\n",
              "      <td>10</td>\n",
              "      <td>Alias Grace</td>\n",
              "      <td>tvMiniSeries</td>\n",
              "      <td>7.8</td>\n",
              "      <td>60.0</td>\n",
              "      <td>2017</td>\n",
              "      <td>22390</td>\n",
              "      <td>Biography, Crime, Drama, Thriller</td>\n",
              "      <td>NaN</td>\n",
              "    </tr>\n",
              "    <tr>\n",
              "      <th>4</th>\n",
              "      <td>10</td>\n",
              "      <td>Silicon Valley: RussFest</td>\n",
              "      <td>tvEpisode</td>\n",
              "      <td>8.6</td>\n",
              "      <td>34.0</td>\n",
              "      <td>2019</td>\n",
              "      <td>991</td>\n",
              "      <td>Comedy</td>\n",
              "      <td>Matt Ross</td>\n",
              "    </tr>\n",
              "  </tbody>\n",
              "</table>\n",
              "</div>"
            ],
            "text/plain": [
              "   Your Rating  ...       Directors\n",
              "0           10  ...       Marc Webb\n",
              "1            9  ...     Ben Affleck\n",
              "2            7  ...  Jonathan Demme\n",
              "3           10  ...             NaN\n",
              "4           10  ...       Matt Ross\n",
              "\n",
              "[5 rows x 9 columns]"
            ]
          },
          "metadata": {
            "tags": []
          },
          "execution_count": 524
        }
      ]
    },
    {
      "cell_type": "code",
      "metadata": {
        "id": "9B9fJygHpQQV",
        "colab_type": "code",
        "colab": {
          "base_uri": "https://localhost:8080/",
          "height": 34
        },
        "outputId": "393c257c-574c-46b5-ff64-98cae39439c3"
      },
      "source": [
        "da['Title Type'].isnull().sum()"
      ],
      "execution_count": 525,
      "outputs": [
        {
          "output_type": "execute_result",
          "data": {
            "text/plain": [
              "0"
            ]
          },
          "metadata": {
            "tags": []
          },
          "execution_count": 525
        }
      ]
    },
    {
      "cell_type": "code",
      "metadata": {
        "id": "SL9vHn73pVSY",
        "colab_type": "code",
        "colab": {
          "base_uri": "https://localhost:8080/",
          "height": 52
        },
        "outputId": "9e10a9f8-760d-49d3-992a-ad269cebe4ca"
      },
      "source": [
        "da['Title Type'].unique()"
      ],
      "execution_count": 526,
      "outputs": [
        {
          "output_type": "execute_result",
          "data": {
            "text/plain": [
              "array(['movie', 'tvMiniSeries', 'tvEpisode', 'tvSeries', 'video',\n",
              "       'tvMovie'], dtype=object)"
            ]
          },
          "metadata": {
            "tags": []
          },
          "execution_count": 526
        }
      ]
    },
    {
      "cell_type": "code",
      "metadata": {
        "id": "6ecjh77zpgsy",
        "colab_type": "code",
        "colab": {
          "base_uri": "https://localhost:8080/",
          "height": 34
        },
        "outputId": "0cb20c97-4914-4735-824a-9317795799dc"
      },
      "source": [
        "da['Title Type'].replace({'tvMiniSeries':'tvSeries','tvMovie':'movie','video':'movie'},inplace=True)\n",
        "da['Title Type'].unique()"
      ],
      "execution_count": 527,
      "outputs": [
        {
          "output_type": "execute_result",
          "data": {
            "text/plain": [
              "array(['movie', 'tvSeries', 'tvEpisode'], dtype=object)"
            ]
          },
          "metadata": {
            "tags": []
          },
          "execution_count": 527
        }
      ]
    },
    {
      "cell_type": "code",
      "metadata": {
        "id": "xwvgYJ1Xpl2t",
        "colab_type": "code",
        "colab": {
          "base_uri": "https://localhost:8080/",
          "height": 143
        },
        "outputId": "f233e2bc-1227-44f5-947e-74bb43827565"
      },
      "source": [
        "da[da['Title Type']=='tvEpisode']"
      ],
      "execution_count": 528,
      "outputs": [
        {
          "output_type": "execute_result",
          "data": {
            "text/html": [
              "<div>\n",
              "<style scoped>\n",
              "    .dataframe tbody tr th:only-of-type {\n",
              "        vertical-align: middle;\n",
              "    }\n",
              "\n",
              "    .dataframe tbody tr th {\n",
              "        vertical-align: top;\n",
              "    }\n",
              "\n",
              "    .dataframe thead th {\n",
              "        text-align: right;\n",
              "    }\n",
              "</style>\n",
              "<table border=\"1\" class=\"dataframe\">\n",
              "  <thead>\n",
              "    <tr style=\"text-align: right;\">\n",
              "      <th></th>\n",
              "      <th>Your Rating</th>\n",
              "      <th>Title</th>\n",
              "      <th>Title Type</th>\n",
              "      <th>IMDb Rating</th>\n",
              "      <th>Runtime (mins)</th>\n",
              "      <th>Year</th>\n",
              "      <th>Num Votes</th>\n",
              "      <th>Genres</th>\n",
              "      <th>Directors</th>\n",
              "    </tr>\n",
              "  </thead>\n",
              "  <tbody>\n",
              "    <tr>\n",
              "      <th>4</th>\n",
              "      <td>10</td>\n",
              "      <td>Silicon Valley: RussFest</td>\n",
              "      <td>tvEpisode</td>\n",
              "      <td>8.6</td>\n",
              "      <td>34.0</td>\n",
              "      <td>2019</td>\n",
              "      <td>991</td>\n",
              "      <td>Comedy</td>\n",
              "      <td>Matt Ross</td>\n",
              "    </tr>\n",
              "    <tr>\n",
              "      <th>190</th>\n",
              "      <td>10</td>\n",
              "      <td>Gotham: A Dark Knight: Things That Go Boom</td>\n",
              "      <td>tvEpisode</td>\n",
              "      <td>8.5</td>\n",
              "      <td>43.0</td>\n",
              "      <td>2017</td>\n",
              "      <td>1491</td>\n",
              "      <td>Action, Crime, Drama, Mystery, Sci-Fi, Thriller</td>\n",
              "      <td>Louis Shaw Milito</td>\n",
              "    </tr>\n",
              "    <tr>\n",
              "      <th>203</th>\n",
              "      <td>10</td>\n",
              "      <td>Mr. Robot: 407 Proxy Authentication Required</td>\n",
              "      <td>tvEpisode</td>\n",
              "      <td>9.9</td>\n",
              "      <td>56.0</td>\n",
              "      <td>2019</td>\n",
              "      <td>17071</td>\n",
              "      <td>Crime, Drama, Thriller</td>\n",
              "      <td>Sam Esmail</td>\n",
              "    </tr>\n",
              "  </tbody>\n",
              "</table>\n",
              "</div>"
            ],
            "text/plain": [
              "     Your Rating  ...          Directors\n",
              "4             10  ...          Matt Ross\n",
              "190           10  ...  Louis Shaw Milito\n",
              "203           10  ...         Sam Esmail\n",
              "\n",
              "[3 rows x 9 columns]"
            ]
          },
          "metadata": {
            "tags": []
          },
          "execution_count": 528
        }
      ]
    },
    {
      "cell_type": "code",
      "metadata": {
        "id": "O6xHY1KfptqM",
        "colab_type": "code",
        "colab": {
          "base_uri": "https://localhost:8080/",
          "height": 34
        },
        "outputId": "109876bc-87a1-4fc2-fda1-0537176c93c6"
      },
      "source": [
        "da.drop([4,190,203],inplace=True,axis=0)\n",
        "da['Title Type'].unique()"
      ],
      "execution_count": 529,
      "outputs": [
        {
          "output_type": "execute_result",
          "data": {
            "text/plain": [
              "array(['movie', 'tvSeries'], dtype=object)"
            ]
          },
          "metadata": {
            "tags": []
          },
          "execution_count": 529
        }
      ]
    },
    {
      "cell_type": "code",
      "metadata": {
        "id": "4MkTrSRyAMgl",
        "colab_type": "code",
        "colab": {}
      },
      "source": [
        "da_ = da.copy()"
      ],
      "execution_count": 0,
      "outputs": []
    },
    {
      "cell_type": "code",
      "metadata": {
        "id": "rCjcLAGgqVIj",
        "colab_type": "code",
        "colab": {}
      },
      "source": [
        "from pandas import Series, DataFrame\n",
        "s = da['Genres'].str.split(',').apply(Series,1).stack()\n",
        "s.index = s.index.droplevel(-1)\n",
        "s.name = 'Genres'\n",
        "del da['Genres']\n",
        "da = da.join(s)\n",
        "\n"
      ],
      "execution_count": 0,
      "outputs": []
    },
    {
      "cell_type": "code",
      "metadata": {
        "id": "BxDFRq-rqcMn",
        "colab_type": "code",
        "colab": {
          "base_uri": "https://localhost:8080/",
          "height": 206
        },
        "outputId": "d14cad69-7c8f-4fb2-a657-c568d5ebd9b3"
      },
      "source": [
        "da.head()"
      ],
      "execution_count": 532,
      "outputs": [
        {
          "output_type": "execute_result",
          "data": {
            "text/html": [
              "<div>\n",
              "<style scoped>\n",
              "    .dataframe tbody tr th:only-of-type {\n",
              "        vertical-align: middle;\n",
              "    }\n",
              "\n",
              "    .dataframe tbody tr th {\n",
              "        vertical-align: top;\n",
              "    }\n",
              "\n",
              "    .dataframe thead th {\n",
              "        text-align: right;\n",
              "    }\n",
              "</style>\n",
              "<table border=\"1\" class=\"dataframe\">\n",
              "  <thead>\n",
              "    <tr style=\"text-align: right;\">\n",
              "      <th></th>\n",
              "      <th>Your Rating</th>\n",
              "      <th>Title</th>\n",
              "      <th>Title Type</th>\n",
              "      <th>IMDb Rating</th>\n",
              "      <th>Runtime (mins)</th>\n",
              "      <th>Year</th>\n",
              "      <th>Num Votes</th>\n",
              "      <th>Directors</th>\n",
              "      <th>Genres</th>\n",
              "    </tr>\n",
              "  </thead>\n",
              "  <tbody>\n",
              "    <tr>\n",
              "      <th>0</th>\n",
              "      <td>10</td>\n",
              "      <td>(500) Days of Summer</td>\n",
              "      <td>movie</td>\n",
              "      <td>7.7</td>\n",
              "      <td>95.0</td>\n",
              "      <td>2009</td>\n",
              "      <td>458965</td>\n",
              "      <td>Marc Webb</td>\n",
              "      <td>Comedy</td>\n",
              "    </tr>\n",
              "    <tr>\n",
              "      <th>0</th>\n",
              "      <td>10</td>\n",
              "      <td>(500) Days of Summer</td>\n",
              "      <td>movie</td>\n",
              "      <td>7.7</td>\n",
              "      <td>95.0</td>\n",
              "      <td>2009</td>\n",
              "      <td>458965</td>\n",
              "      <td>Marc Webb</td>\n",
              "      <td>Drama</td>\n",
              "    </tr>\n",
              "    <tr>\n",
              "      <th>0</th>\n",
              "      <td>10</td>\n",
              "      <td>(500) Days of Summer</td>\n",
              "      <td>movie</td>\n",
              "      <td>7.7</td>\n",
              "      <td>95.0</td>\n",
              "      <td>2009</td>\n",
              "      <td>458965</td>\n",
              "      <td>Marc Webb</td>\n",
              "      <td>Romance</td>\n",
              "    </tr>\n",
              "    <tr>\n",
              "      <th>1</th>\n",
              "      <td>9</td>\n",
              "      <td>Argo</td>\n",
              "      <td>movie</td>\n",
              "      <td>7.7</td>\n",
              "      <td>120.0</td>\n",
              "      <td>2012</td>\n",
              "      <td>557346</td>\n",
              "      <td>Ben Affleck</td>\n",
              "      <td>Biography</td>\n",
              "    </tr>\n",
              "    <tr>\n",
              "      <th>1</th>\n",
              "      <td>9</td>\n",
              "      <td>Argo</td>\n",
              "      <td>movie</td>\n",
              "      <td>7.7</td>\n",
              "      <td>120.0</td>\n",
              "      <td>2012</td>\n",
              "      <td>557346</td>\n",
              "      <td>Ben Affleck</td>\n",
              "      <td>Drama</td>\n",
              "    </tr>\n",
              "  </tbody>\n",
              "</table>\n",
              "</div>"
            ],
            "text/plain": [
              "   Your Rating                 Title  ...    Directors     Genres\n",
              "0           10  (500) Days of Summer  ...    Marc Webb     Comedy\n",
              "0           10  (500) Days of Summer  ...    Marc Webb      Drama\n",
              "0           10  (500) Days of Summer  ...    Marc Webb    Romance\n",
              "1            9                  Argo  ...  Ben Affleck  Biography\n",
              "1            9                  Argo  ...  Ben Affleck      Drama\n",
              "\n",
              "[5 rows x 9 columns]"
            ]
          },
          "metadata": {
            "tags": []
          },
          "execution_count": 532
        }
      ]
    },
    {
      "cell_type": "code",
      "metadata": {
        "id": "88aNoesLqegU",
        "colab_type": "code",
        "colab": {
          "base_uri": "https://localhost:8080/",
          "height": 1000
        },
        "outputId": "6b259461-3040-45ad-b1a2-ee724769f52d"
      },
      "source": [
        "gp_obj1 = da.groupby('Genres')\n",
        "gp_obj1.groups"
      ],
      "execution_count": 533,
      "outputs": [
        {
          "output_type": "execute_result",
          "data": {
            "text/plain": [
              "{' Action': Int64Index([95], dtype='int64'),\n",
              " ' Adventure': Int64Index([ 16,  32,  35,  39,  41,  42,  45,  46,  47,  50,  58,  64,  65,\n",
              "              68,  72,  73,  74,  76,  84,  94,  95,  96, 104, 109, 111, 114,\n",
              "             116, 123, 125, 128, 133, 134, 137, 138, 143, 144, 145, 147, 148,\n",
              "             163, 167, 195, 196, 199, 200, 207, 211, 212, 216, 218, 221, 222],\n",
              "            dtype='int64'),\n",
              " ' Biography': Int64Index([91, 127, 164, 194], dtype='int64'),\n",
              " ' Comedy': Int64Index([46, 76, 109, 128, 137, 138, 163, 167, 188, 213], dtype='int64'),\n",
              " ' Crime': Int64Index([  3,  22,  35,  71,  75,  89,  90,  91, 106, 110, 119, 120, 124,\n",
              "             125, 135, 149, 153, 162, 178, 196, 197, 226, 227],\n",
              "            dtype='int64'),\n",
              " ' Drama': Int64Index([  0,   1,   2,   3,   5,   6,   9,  12,  17,  19,  21,  23,  24,\n",
              "              25,  26,  28,  31,  32,  36,  43,  48,  55,  56,  61,  63,  64,\n",
              "              71,  75,  77,  78,  79,  82,  86,  88,  89,  90,  92,  97,  98,\n",
              "             100, 103, 105, 106, 108, 112, 113, 114, 115, 117, 118, 119, 120,\n",
              "             124, 125, 126, 127, 131, 135, 140, 141, 145, 146, 149, 152, 153,\n",
              "             154, 156, 161, 162, 163, 164, 170, 171, 174, 178, 179, 182, 185,\n",
              "             186, 187, 188, 189, 193, 194, 197, 201, 206, 210, 215, 217, 218,\n",
              "             220, 223, 226, 227],\n",
              "            dtype='int64'),\n",
              " ' Family': Int64Index([70, 93, 95, 113, 137, 142, 158, 204, 224], dtype='int64'),\n",
              " ' Fantasy': Int64Index([ 25,  26,  31,  32,  41,  50,  55,  56,  65,  70,  86,  92,  93,\n",
              "              95,  96, 113, 119, 123, 128, 130, 137, 142, 148, 150, 158, 169,\n",
              "             195, 200, 202, 204, 211, 218, 221, 223],\n",
              "            dtype='int64'),\n",
              " ' History': Int64Index([9, 50, 77, 81, 91, 161], dtype='int64'),\n",
              " ' Horror': Int64Index([51, 95, 130, 150, 173, 205], dtype='int64'),\n",
              " ' Music': Int64Index([97, 101, 188, 202], dtype='int64'),\n",
              " ' Musical': Int64Index([184, 202], dtype='int64'),\n",
              " ' Mystery': Int64Index([ 17,  23,  26,  30,  31,  35,  43,  48,  54,  57,  69,  72,  82,\n",
              "              85,  88, 130, 135, 141, 149, 150, 155, 157, 165, 166, 169, 173,\n",
              "             209, 219],\n",
              "            dtype='int64'),\n",
              " ' News': Int64Index([129], dtype='int64'),\n",
              " ' Romance': Int64Index([  0,   5,  10,  11,  14,  18,  19,  20,  24,  27,  35,  38,  50,\n",
              "              53,  61,  66,  78,  83,  87, 102, 115, 121, 122, 126, 131, 132,\n",
              "             136, 139, 158, 160, 169, 171, 177, 179, 192, 202, 214, 218, 223],\n",
              "            dtype='int64'),\n",
              " ' Sci-Fi': Int64Index([ 16,  28,  36,  37,  41,  42,  45,  46,  47,  58,  66,  68,  72,\n",
              "              73,  74,  76,  80,  84,  89,  94,  95,  96, 104, 109, 111, 114,\n",
              "             116, 118, 119, 120, 122, 126, 128, 134, 135, 138, 141, 143, 144,\n",
              "             145, 147, 148, 150, 155, 157, 167, 175, 181, 185, 195, 198, 199,\n",
              "             200, 206, 208, 211, 213, 216, 219, 221],\n",
              "            dtype='int64'),\n",
              " ' Sport': Int64Index([19, 22, 164], dtype='int64'),\n",
              " ' Talk-Show': Int64Index([129], dtype='int64'),\n",
              " ' Thriller': Int64Index([  1,   2,   3,   6,  15,  17,  23,  30,  35,  36,  42,  43,  48,\n",
              "              50,  51,  54,  57,  70,  72,  73,  74,  75,  79,  80,  85,  88,\n",
              "              89, 104, 106, 108, 118, 119, 120, 124, 125, 126, 135, 146, 149,\n",
              "             150, 153, 156, 157, 161, 163, 165, 166, 173, 174, 175, 178, 186,\n",
              "             189, 197, 206, 208, 209, 215, 216, 219],\n",
              "            dtype='int64'),\n",
              " ' War': Int64Index([18, 33, 79, 81, 97, 103, 148, 161, 163], dtype='int64'),\n",
              " ' Western': Int64Index([168], dtype='int64'),\n",
              " 'Action': Int64Index([ 16,  32,  35,  36,  37,  39,  41,  42,  45,  46,  47,  50,  58,\n",
              "              64,  65,  68,  72,  73,  74,  75,  76,  84,  89,  94,  96, 104,\n",
              "             110, 111, 114, 116, 118, 119, 120, 123, 124, 125, 128, 130, 133,\n",
              "             134, 135, 138, 141, 143, 144, 145, 147, 148, 149, 153, 161, 163,\n",
              "             164, 167, 178, 195, 196, 199, 200, 207, 208, 211, 212, 216, 218,\n",
              "             221, 222],\n",
              "            dtype='int64'),\n",
              " 'Adventure': Int64Index([25, 26, 55, 56, 70, 92, 93, 113, 127, 142, 158, 181, 182, 194, 204,\n",
              "             206, 213],\n",
              "            dtype='int64'),\n",
              " 'Animation': Int64Index([95, 109, 137, 223], dtype='int64'),\n",
              " 'Biography': Int64Index([1, 3, 9, 63, 71, 77, 79, 97, 105, 106, 117, 187, 188, 226, 227], dtype='int64'),\n",
              " 'Comedy': Int64Index([  0,   5,   8,  10,  19,  21,  22,  24,  28,  34,  49,  52,  61,\n",
              "              62,  78,  86,  90,  98,  99, 100, 103, 115, 126, 129, 131, 132,\n",
              "             139, 140, 151, 152, 154, 159, 160, 162, 170, 171, 172, 179, 180,\n",
              "             186, 192, 197, 202, 210, 214, 217, 220, 225],\n",
              "            dtype='int64'),\n",
              " 'Crime': Int64Index([  2,   6,  12,  17,  23,  31,  43,  48,  82,  88, 108, 112, 146,\n",
              "             156, 174, 185, 189, 193, 201, 215],\n",
              "            dtype='int64'),\n",
              " 'Documentary': Int64Index([91], dtype='int64'),\n",
              " 'Drama': Int64Index([  7,  11,  13,  14,  18,  20,  27,  29,  30,  33,  38,  40,  51,\n",
              "              53,  54,  57,  59,  60,  66,  67,  69,  80,  81,  83,  85,  87,\n",
              "             101, 102, 121, 122, 136, 150, 155, 157, 168, 169, 173, 175, 177,\n",
              "             183, 184, 191, 205, 219, 224],\n",
              "            dtype='int64'),\n",
              " 'Horror': Int64Index([44, 165, 166, 176, 198, 209], dtype='int64'),\n",
              " 'Mystery': Int64Index([15], dtype='int64'),\n",
              " 'Romance': Int64Index([107], dtype='int64')}"
            ]
          },
          "metadata": {
            "tags": []
          },
          "execution_count": 533
        }
      ]
    },
    {
      "cell_type": "code",
      "metadata": {
        "id": "genI9a4hqjB8",
        "colab_type": "code",
        "colab": {
          "base_uri": "https://localhost:8080/",
          "height": 34
        },
        "outputId": "8f360d57-3bf6-4d8d-ee8b-293c6e875fdb"
      },
      "source": [
        "da.shape"
      ],
      "execution_count": 534,
      "outputs": [
        {
          "output_type": "execute_result",
          "data": {
            "text/plain": [
              "(673, 9)"
            ]
          },
          "metadata": {
            "tags": []
          },
          "execution_count": 534
        }
      ]
    },
    {
      "cell_type": "code",
      "metadata": {
        "id": "qjWBt8fVqlZ2",
        "colab_type": "code",
        "colab": {}
      },
      "source": [
        "da_movie=da[da['Title Type']=='movie']\n",
        "da_tv=da[da['Title Type']=='tvSeries']"
      ],
      "execution_count": 0,
      "outputs": []
    },
    {
      "cell_type": "code",
      "metadata": {
        "id": "K_4FkiT6qoP4",
        "colab_type": "code",
        "colab": {
          "base_uri": "https://localhost:8080/",
          "height": 513
        },
        "outputId": "8346a7cf-34bc-4b4b-b340-7f13e0374d5a"
      },
      "source": [
        "# Get movies seen of  year, create new data frame\n",
        "da_movie_yr = pd.DataFrame(da_movie.groupby('Year').Title.nunique())\n",
        "da_movie_yr.plot.line(title = 'Movies seen by year',color='DarkBlue',figsize=(10, 8));"
      ],
      "execution_count": 536,
      "outputs": [
        {
          "output_type": "display_data",
          "data": {
            "image/png": "[encoded data removed]",
            "text/plain": [
              "<Figure size 720x576 with 1 Axes>"
            ]
          },
          "metadata": {
            "tags": [],
            "needs_background": "light"
          }
        }
      ]
    },
    {
      "cell_type": "code",
      "metadata": {
        "id": "9Jf_QVO5q1J3",
        "colab_type": "code",
        "colab": {
          "base_uri": "https://localhost:8080/",
          "height": 206
        },
        "outputId": "117c0c7e-7674-4469-a29e-46d7e3c5095c"
      },
      "source": [
        "da_movie_yr['year']=da_movie_yr.index\n",
        "da_movie_yr.reset_index(drop=True,inplace=True)\n",
        "da_movie_yr.head()\n",
        "\n"
      ],
      "execution_count": 537,
      "outputs": [
        {
          "output_type": "execute_result",
          "data": {
            "text/html": [
              "<div>\n",
              "<style scoped>\n",
              "    .dataframe tbody tr th:only-of-type {\n",
              "        vertical-align: middle;\n",
              "    }\n",
              "\n",
              "    .dataframe tbody tr th {\n",
              "        vertical-align: top;\n",
              "    }\n",
              "\n",
              "    .dataframe thead th {\n",
              "        text-align: right;\n",
              "    }\n",
              "</style>\n",
              "<table border=\"1\" class=\"dataframe\">\n",
              "  <thead>\n",
              "    <tr style=\"text-align: right;\">\n",
              "      <th></th>\n",
              "      <th>Title</th>\n",
              "      <th>year</th>\n",
              "    </tr>\n",
              "  </thead>\n",
              "  <tbody>\n",
              "    <tr>\n",
              "      <th>0</th>\n",
              "      <td>1</td>\n",
              "      <td>1960</td>\n",
              "    </tr>\n",
              "    <tr>\n",
              "      <th>1</th>\n",
              "      <td>1</td>\n",
              "      <td>1964</td>\n",
              "    </tr>\n",
              "    <tr>\n",
              "      <th>2</th>\n",
              "      <td>1</td>\n",
              "      <td>1967</td>\n",
              "    </tr>\n",
              "    <tr>\n",
              "      <th>3</th>\n",
              "      <td>1</td>\n",
              "      <td>1968</td>\n",
              "    </tr>\n",
              "    <tr>\n",
              "      <th>4</th>\n",
              "      <td>1</td>\n",
              "      <td>1969</td>\n",
              "    </tr>\n",
              "  </tbody>\n",
              "</table>\n",
              "</div>"
            ],
            "text/plain": [
              "   Title  year\n",
              "0      1  1960\n",
              "1      1  1964\n",
              "2      1  1967\n",
              "3      1  1968\n",
              "4      1  1969"
            ]
          },
          "metadata": {
            "tags": []
          },
          "execution_count": 537
        }
      ]
    },
    {
      "cell_type": "code",
      "metadata": {
        "id": "bZnmCvvkrDd5",
        "colab_type": "code",
        "colab": {}
      },
      "source": [
        ""
      ],
      "execution_count": 0,
      "outputs": []
    },
    {
      "cell_type": "code",
      "metadata": {
        "id": "k_xnCXTzrOsW",
        "colab_type": "code",
        "colab": {}
      },
      "source": [
        "labels = list(da_movie_yr['year'].unique())"
      ],
      "execution_count": 0,
      "outputs": []
    },
    {
      "cell_type": "code",
      "metadata": {
        "id": "EscZIT2ksVP3",
        "colab_type": "code",
        "colab": {}
      },
      "source": [
        "x_pos = np.arange(len(labels))"
      ],
      "execution_count": 0,
      "outputs": []
    },
    {
      "cell_type": "code",
      "metadata": {
        "id": "SR-_ax5ZsqHQ",
        "colab_type": "code",
        "colab": {}
      },
      "source": [
        "count = list(da_movie_yr['Title'])"
      ],
      "execution_count": 0,
      "outputs": []
    },
    {
      "cell_type": "code",
      "metadata": {
        "id": "z_DnUnPAuvn_",
        "colab_type": "code",
        "colab": {}
      },
      "source": [
        "from matplotlib.cm import ScalarMappable"
      ],
      "execution_count": 0,
      "outputs": []
    },
    {
      "cell_type": "code",
      "metadata": {
        "id": "OawFBNTbtPTc",
        "colab_type": "code",
        "colab": {
          "base_uri": "https://localhost:8080/",
          "height": 518
        },
        "outputId": "d9c25631-945b-4c16-b159-d33a23c6895e"
      },
      "source": [
        "data_color = [x/max(count) for x in count]\n",
        "my_cmap = plt.cm.get_cmap('coolwarm')\n",
        "colors = my_cmap(data_color)\n",
        "fig, ax = plt.subplots()\n",
        "barlist=ax.bar(x_pos, count, align='center', ecolor='black', capsize=10,color=colors)\n",
        "fig.set_size_inches(18,8)\n",
        "ax.set_ylabel('number of movies by year')\n",
        "ax.set_xlabel('year')\n",
        "ax.set_xticks(x_pos)\n",
        "ax.set_xticklabels(labels, rotation=60, ha=\"right\")\n",
        "ax.yaxis.grid(True)\n",
        "ax.xaxis.grid(False)\n",
        "sm = ScalarMappable(cmap=my_cmap)\n",
        "sm.set_array([])\n",
        "\n",
        "cbar = plt.colorbar(sm)\n",
        "cbar.set_label('Color', rotation=270,labelpad=25)\n",
        "from google.colab import files\n",
        "plt.savefig('movies_by_yr.pdf')\n",
        "files.download('movies_by_yr.pdf')"
      ],
      "execution_count": 542,
      "outputs": [
        {
          "output_type": "display_data",
          "data": {
            "image/png": "[encoded data removed]",
            "text/plain": [
              "<Figure size 1296x576 with 2 Axes>"
            ]
          },
          "metadata": {
            "tags": [],
            "needs_background": "light"
          }
        }
      ]
    },
    {
      "cell_type": "code",
      "metadata": {
        "id": "97DFzSjA2hP5",
        "colab_type": "code",
        "colab": {
          "base_uri": "https://localhost:8080/",
          "height": 424
        },
        "outputId": "4d075333-6177-42bc-f6ee-3834f20f08fd"
      },
      "source": [
        "df_obj = pd.DataFrame(da_movie['Genres'])\n",
        "df_obj"
      ],
      "execution_count": 543,
      "outputs": [
        {
          "output_type": "execute_result",
          "data": {
            "text/html": [
              "<div>\n",
              "<style scoped>\n",
              "    .dataframe tbody tr th:only-of-type {\n",
              "        vertical-align: middle;\n",
              "    }\n",
              "\n",
              "    .dataframe tbody tr th {\n",
              "        vertical-align: top;\n",
              "    }\n",
              "\n",
              "    .dataframe thead th {\n",
              "        text-align: right;\n",
              "    }\n",
              "</style>\n",
              "<table border=\"1\" class=\"dataframe\">\n",
              "  <thead>\n",
              "    <tr style=\"text-align: right;\">\n",
              "      <th></th>\n",
              "      <th>Genres</th>\n",
              "    </tr>\n",
              "  </thead>\n",
              "  <tbody>\n",
              "    <tr>\n",
              "      <th>0</th>\n",
              "      <td>Comedy</td>\n",
              "    </tr>\n",
              "    <tr>\n",
              "      <th>0</th>\n",
              "      <td>Drama</td>\n",
              "    </tr>\n",
              "    <tr>\n",
              "      <th>0</th>\n",
              "      <td>Romance</td>\n",
              "    </tr>\n",
              "    <tr>\n",
              "      <th>1</th>\n",
              "      <td>Biography</td>\n",
              "    </tr>\n",
              "    <tr>\n",
              "      <th>1</th>\n",
              "      <td>Drama</td>\n",
              "    </tr>\n",
              "    <tr>\n",
              "      <th>...</th>\n",
              "      <td>...</td>\n",
              "    </tr>\n",
              "    <tr>\n",
              "      <th>226</th>\n",
              "      <td>Crime</td>\n",
              "    </tr>\n",
              "    <tr>\n",
              "      <th>226</th>\n",
              "      <td>Drama</td>\n",
              "    </tr>\n",
              "    <tr>\n",
              "      <th>227</th>\n",
              "      <td>Biography</td>\n",
              "    </tr>\n",
              "    <tr>\n",
              "      <th>227</th>\n",
              "      <td>Crime</td>\n",
              "    </tr>\n",
              "    <tr>\n",
              "      <th>227</th>\n",
              "      <td>Drama</td>\n",
              "    </tr>\n",
              "  </tbody>\n",
              "</table>\n",
              "<p>540 rows × 1 columns</p>\n",
              "</div>"
            ],
            "text/plain": [
              "        Genres\n",
              "0       Comedy\n",
              "0        Drama\n",
              "0      Romance\n",
              "1    Biography\n",
              "1        Drama\n",
              "..         ...\n",
              "226      Crime\n",
              "226      Drama\n",
              "227  Biography\n",
              "227      Crime\n",
              "227      Drama\n",
              "\n",
              "[540 rows x 1 columns]"
            ]
          },
          "metadata": {
            "tags": []
          },
          "execution_count": 543
        }
      ]
    },
    {
      "cell_type": "code",
      "metadata": {
        "id": "z4l2PVwQ4-Fr",
        "colab_type": "code",
        "colab": {
          "base_uri": "https://localhost:8080/",
          "height": 121
        },
        "outputId": "1871707f-6b13-4a27-b12a-e0173be98cd3"
      },
      "source": [
        "da_movie[df_obj.columns] = df_obj.apply(lambda x: x.str.strip())"
      ],
      "execution_count": 544,
      "outputs": [
        {
          "output_type": "stream",
          "text": [
            "/usr/local/lib/python3.6/dist-packages/pandas/core/frame.py:2963: SettingWithCopyWarning: \n",
            "A value is trying to be set on a copy of a slice from a DataFrame.\n",
            "Try using .loc[row_indexer,col_indexer] = value instead\n",
            "\n",
            "See the caveats in the documentation: https://pandas.pydata.org/pandas-docs/stable/user_guide/indexing.html#returning-a-view-versus-a-copy\n",
            "  self[k1] = value[k2]\n"
          ],
          "name": "stderr"
        }
      ]
    },
    {
      "cell_type": "code",
      "metadata": {
        "id": "N_ijWNxdtUsJ",
        "colab_type": "code",
        "colab": {}
      },
      "source": [
        "da_movies_genres = (pd.DataFrame(da_movie.groupby('Genres').Title.nunique())).sort_values('Title',ascending=False)"
      ],
      "execution_count": 0,
      "outputs": []
    },
    {
      "cell_type": "code",
      "metadata": {
        "id": "i7YyNRJIvQHJ",
        "colab_type": "code",
        "colab": {
          "base_uri": "https://localhost:8080/",
          "height": 238
        },
        "outputId": "50de141b-6700-4262-ab4c-22e5b67f3677"
      },
      "source": [
        "da_movies_genres.head()"
      ],
      "execution_count": 546,
      "outputs": [
        {
          "output_type": "execute_result",
          "data": {
            "text/html": [
              "<div>\n",
              "<style scoped>\n",
              "    .dataframe tbody tr th:only-of-type {\n",
              "        vertical-align: middle;\n",
              "    }\n",
              "\n",
              "    .dataframe tbody tr th {\n",
              "        vertical-align: top;\n",
              "    }\n",
              "\n",
              "    .dataframe thead th {\n",
              "        text-align: right;\n",
              "    }\n",
              "</style>\n",
              "<table border=\"1\" class=\"dataframe\">\n",
              "  <thead>\n",
              "    <tr style=\"text-align: right;\">\n",
              "      <th></th>\n",
              "      <th>Title</th>\n",
              "    </tr>\n",
              "    <tr>\n",
              "      <th>Genres</th>\n",
              "      <th></th>\n",
              "    </tr>\n",
              "  </thead>\n",
              "  <tbody>\n",
              "    <tr>\n",
              "      <th>Drama</th>\n",
              "      <td>108</td>\n",
              "    </tr>\n",
              "    <tr>\n",
              "      <th>Adventure</th>\n",
              "      <td>64</td>\n",
              "    </tr>\n",
              "    <tr>\n",
              "      <th>Action</th>\n",
              "      <td>59</td>\n",
              "    </tr>\n",
              "    <tr>\n",
              "      <th>Sci-Fi</th>\n",
              "      <td>50</td>\n",
              "    </tr>\n",
              "    <tr>\n",
              "      <th>Thriller</th>\n",
              "      <td>42</td>\n",
              "    </tr>\n",
              "  </tbody>\n",
              "</table>\n",
              "</div>"
            ],
            "text/plain": [
              "           Title\n",
              "Genres          \n",
              "Drama        108\n",
              "Adventure     64\n",
              "Action        59\n",
              "Sci-Fi        50\n",
              "Thriller      42"
            ]
          },
          "metadata": {
            "tags": []
          },
          "execution_count": 546
        }
      ]
    },
    {
      "cell_type": "code",
      "metadata": {
        "id": "xYxzRnUuxYjc",
        "colab_type": "code",
        "colab": {
          "base_uri": "https://localhost:8080/",
          "height": 206
        },
        "outputId": "e1484191-9600-4877-9553-b049e3ca5079"
      },
      "source": [
        "da_movies_genres['genres']=da_movies_genres.index\n",
        "da_movies_genres.reset_index(drop=True,inplace=True)\n",
        "da_movies_genres.head()\n"
      ],
      "execution_count": 547,
      "outputs": [
        {
          "output_type": "execute_result",
          "data": {
            "text/html": [
              "<div>\n",
              "<style scoped>\n",
              "    .dataframe tbody tr th:only-of-type {\n",
              "        vertical-align: middle;\n",
              "    }\n",
              "\n",
              "    .dataframe tbody tr th {\n",
              "        vertical-align: top;\n",
              "    }\n",
              "\n",
              "    .dataframe thead th {\n",
              "        text-align: right;\n",
              "    }\n",
              "</style>\n",
              "<table border=\"1\" class=\"dataframe\">\n",
              "  <thead>\n",
              "    <tr style=\"text-align: right;\">\n",
              "      <th></th>\n",
              "      <th>Title</th>\n",
              "      <th>genres</th>\n",
              "    </tr>\n",
              "  </thead>\n",
              "  <tbody>\n",
              "    <tr>\n",
              "      <th>0</th>\n",
              "      <td>108</td>\n",
              "      <td>Drama</td>\n",
              "    </tr>\n",
              "    <tr>\n",
              "      <th>1</th>\n",
              "      <td>64</td>\n",
              "      <td>Adventure</td>\n",
              "    </tr>\n",
              "    <tr>\n",
              "      <th>2</th>\n",
              "      <td>59</td>\n",
              "      <td>Action</td>\n",
              "    </tr>\n",
              "    <tr>\n",
              "      <th>3</th>\n",
              "      <td>50</td>\n",
              "      <td>Sci-Fi</td>\n",
              "    </tr>\n",
              "    <tr>\n",
              "      <th>4</th>\n",
              "      <td>42</td>\n",
              "      <td>Thriller</td>\n",
              "    </tr>\n",
              "  </tbody>\n",
              "</table>\n",
              "</div>"
            ],
            "text/plain": [
              "   Title     genres\n",
              "0    108      Drama\n",
              "1     64  Adventure\n",
              "2     59     Action\n",
              "3     50     Sci-Fi\n",
              "4     42   Thriller"
            ]
          },
          "metadata": {
            "tags": []
          },
          "execution_count": 547
        }
      ]
    },
    {
      "cell_type": "code",
      "metadata": {
        "id": "w5O461Qkxihm",
        "colab_type": "code",
        "colab": {}
      },
      "source": [
        "labels_ = list(da_movies_genres['genres'].unique())"
      ],
      "execution_count": 0,
      "outputs": []
    },
    {
      "cell_type": "code",
      "metadata": {
        "id": "_GlMUKl3yIlP",
        "colab_type": "code",
        "colab": {}
      },
      "source": [
        "x_pos_ = np.arange(len(labels_))\n",
        "count_ = list(da_movies_genres['Title'])"
      ],
      "execution_count": 0,
      "outputs": []
    },
    {
      "cell_type": "code",
      "metadata": {
        "id": "lGPtkh2vyX4K",
        "colab_type": "code",
        "colab": {
          "base_uri": "https://localhost:8080/",
          "height": 500
        },
        "outputId": "df87d0b7-17ad-400a-bdff-29f6316622a2"
      },
      "source": [
        "data_color_ = [x/max(count_) for x in count_]\n",
        "my_cmap_ = plt.cm.get_cmap('coolwarm')\n",
        "colors_ = my_cmap_(data_color_)\n",
        "fig, ax = plt.subplots()\n",
        "barlist=ax.bar(x_pos_, count_, align='center', ecolor='black', capsize=10,color=colors_)\n",
        "fig.set_size_inches(12,7)\n",
        "ax.set_ylabel('number of movies by Genres')\n",
        "ax.set_xlabel('Genres')\n",
        "ax.set_xticks(x_pos_)\n",
        "ax.set_xticklabels(labels_, rotation=60, ha=\"right\")\n",
        "ax.yaxis.grid(True)\n",
        "ax.xaxis.grid(False)\n",
        "sm_ = ScalarMappable(cmap=my_cmap_)\n",
        "sm_.set_array([])\n",
        "\n",
        "cbar = plt.colorbar(sm_)\n",
        "cbar.set_label('Color', rotation=270,labelpad=25)\n",
        "from google.colab import files\n",
        "plt.savefig('movies_genres.pdf')\n",
        "files.download('movies_genres.pdf')"
      ],
      "execution_count": 550,
      "outputs": [
        {
          "output_type": "display_data",
          "data": {
            "image/png": "[encoded data removed]",
            "text/plain": [
              "<Figure size 864x504 with 2 Axes>"
            ]
          },
          "metadata": {
            "tags": [],
            "needs_background": "light"
          }
        }
      ]
    },
    {
      "cell_type": "code",
      "metadata": {
        "id": "1_TcGEAGy9D7",
        "colab_type": "code",
        "colab": {
          "base_uri": "https://localhost:8080/",
          "height": 86
        },
        "outputId": "a527fb4d-c56a-41bf-843a-f294bbbee398"
      },
      "source": [
        "da_movie['Genres'].unique()"
      ],
      "execution_count": 551,
      "outputs": [
        {
          "output_type": "execute_result",
          "data": {
            "text/plain": [
              "array(['Comedy', 'Drama', 'Romance', 'Biography', 'Thriller', 'Crime',\n",
              "       'History', 'Mystery', 'Action', 'Adventure', 'Sci-Fi', 'War',\n",
              "       'Sport', 'Fantasy', 'Horror', 'Family', 'Documentary', 'Animation',\n",
              "       'Music', 'Musical'], dtype=object)"
            ]
          },
          "metadata": {
            "tags": []
          },
          "execution_count": 551
        }
      ]
    },
    {
      "cell_type": "code",
      "metadata": {
        "id": "XyfnseYGzn02",
        "colab_type": "code",
        "colab": {}
      },
      "source": [
        "#lola=da_movie[da_movie['Genres'].str.contains(' ')]"
      ],
      "execution_count": 0,
      "outputs": []
    },
    {
      "cell_type": "code",
      "metadata": {
        "id": "U97HpR8R0xWR",
        "colab_type": "code",
        "colab": {}
      },
      "source": [
        "da_movies_genres.set_index('genres', drop=True,inplace=True)"
      ],
      "execution_count": 0,
      "outputs": []
    },
    {
      "cell_type": "code",
      "metadata": {
        "id": "rMrkhSaL6gZC",
        "colab_type": "code",
        "colab": {}
      },
      "source": [
        "watch_type = (pd.DataFrame(da.groupby('Title Type').Title.nunique())).sort_values('Title',ascending=False)"
      ],
      "execution_count": 0,
      "outputs": []
    },
    {
      "cell_type": "code",
      "metadata": {
        "id": "KlBLcGs96iZR",
        "colab_type": "code",
        "colab": {
          "base_uri": "https://localhost:8080/",
          "height": 143
        },
        "outputId": "9d4c2934-d2fc-4904-c2ab-3d6504a60feb"
      },
      "source": [
        "watch_type"
      ],
      "execution_count": 555,
      "outputs": [
        {
          "output_type": "execute_result",
          "data": {
            "text/html": [
              "<div>\n",
              "<style scoped>\n",
              "    .dataframe tbody tr th:only-of-type {\n",
              "        vertical-align: middle;\n",
              "    }\n",
              "\n",
              "    .dataframe tbody tr th {\n",
              "        vertical-align: top;\n",
              "    }\n",
              "\n",
              "    .dataframe thead th {\n",
              "        text-align: right;\n",
              "    }\n",
              "</style>\n",
              "<table border=\"1\" class=\"dataframe\">\n",
              "  <thead>\n",
              "    <tr style=\"text-align: right;\">\n",
              "      <th></th>\n",
              "      <th>Title</th>\n",
              "    </tr>\n",
              "    <tr>\n",
              "      <th>Title Type</th>\n",
              "      <th></th>\n",
              "    </tr>\n",
              "  </thead>\n",
              "  <tbody>\n",
              "    <tr>\n",
              "      <th>movie</th>\n",
              "      <td>181</td>\n",
              "    </tr>\n",
              "    <tr>\n",
              "      <th>tvSeries</th>\n",
              "      <td>44</td>\n",
              "    </tr>\n",
              "  </tbody>\n",
              "</table>\n",
              "</div>"
            ],
            "text/plain": [
              "            Title\n",
              "Title Type       \n",
              "movie         181\n",
              "tvSeries       44"
            ]
          },
          "metadata": {
            "tags": []
          },
          "execution_count": 555
        }
      ]
    },
    {
      "cell_type": "code",
      "metadata": {
        "id": "_CbOZ93B9lXA",
        "colab_type": "code",
        "colab": {
          "base_uri": "https://localhost:8080/",
          "height": 427
        },
        "outputId": "31fa3ea2-84e5-46cd-d58b-500e51da01c1"
      },
      "source": [
        "watch_type['Title'].plot.pie(title= 'Movies and show in %', figsize=(7,7), autopct='%1.1f%%',fontsize=15);\n",
        "from google.colab import files\n",
        "plt.savefig('tv vs movie.pdf')\n",
        "files.download('tv vs movie.pdf')"
      ],
      "execution_count": 556,
      "outputs": [
        {
          "output_type": "display_data",
          "data": {
            "image/png": "[encoded data removed]",
            "text/plain": [
              "<Figure size 504x504 with 1 Axes>"
            ]
          },
          "metadata": {
            "tags": []
          }
        }
      ]
    },
    {
      "cell_type": "code",
      "metadata": {
        "id": "c-puclF4_GOx",
        "colab_type": "code",
        "colab": {
          "base_uri": "https://localhost:8080/",
          "height": 206
        },
        "outputId": "96f2d9db-79af-465c-a801-c76a717597ad"
      },
      "source": [
        "da_movie.head()"
      ],
      "execution_count": 557,
      "outputs": [
        {
          "output_type": "execute_result",
          "data": {
            "text/html": [
              "<div>\n",
              "<style scoped>\n",
              "    .dataframe tbody tr th:only-of-type {\n",
              "        vertical-align: middle;\n",
              "    }\n",
              "\n",
              "    .dataframe tbody tr th {\n",
              "        vertical-align: top;\n",
              "    }\n",
              "\n",
              "    .dataframe thead th {\n",
              "        text-align: right;\n",
              "    }\n",
              "</style>\n",
              "<table border=\"1\" class=\"dataframe\">\n",
              "  <thead>\n",
              "    <tr style=\"text-align: right;\">\n",
              "      <th></th>\n",
              "      <th>Your Rating</th>\n",
              "      <th>Title</th>\n",
              "      <th>Title Type</th>\n",
              "      <th>IMDb Rating</th>\n",
              "      <th>Runtime (mins)</th>\n",
              "      <th>Year</th>\n",
              "      <th>Num Votes</th>\n",
              "      <th>Directors</th>\n",
              "      <th>Genres</th>\n",
              "    </tr>\n",
              "  </thead>\n",
              "  <tbody>\n",
              "    <tr>\n",
              "      <th>0</th>\n",
              "      <td>10</td>\n",
              "      <td>(500) Days of Summer</td>\n",
              "      <td>movie</td>\n",
              "      <td>7.7</td>\n",
              "      <td>95.0</td>\n",
              "      <td>2009</td>\n",
              "      <td>458965</td>\n",
              "      <td>Marc Webb</td>\n",
              "      <td>Comedy</td>\n",
              "    </tr>\n",
              "    <tr>\n",
              "      <th>0</th>\n",
              "      <td>10</td>\n",
              "      <td>(500) Days of Summer</td>\n",
              "      <td>movie</td>\n",
              "      <td>7.7</td>\n",
              "      <td>95.0</td>\n",
              "      <td>2009</td>\n",
              "      <td>458965</td>\n",
              "      <td>Marc Webb</td>\n",
              "      <td>Drama</td>\n",
              "    </tr>\n",
              "    <tr>\n",
              "      <th>0</th>\n",
              "      <td>10</td>\n",
              "      <td>(500) Days of Summer</td>\n",
              "      <td>movie</td>\n",
              "      <td>7.7</td>\n",
              "      <td>95.0</td>\n",
              "      <td>2009</td>\n",
              "      <td>458965</td>\n",
              "      <td>Marc Webb</td>\n",
              "      <td>Romance</td>\n",
              "    </tr>\n",
              "    <tr>\n",
              "      <th>1</th>\n",
              "      <td>9</td>\n",
              "      <td>Argo</td>\n",
              "      <td>movie</td>\n",
              "      <td>7.7</td>\n",
              "      <td>120.0</td>\n",
              "      <td>2012</td>\n",
              "      <td>557346</td>\n",
              "      <td>Ben Affleck</td>\n",
              "      <td>Biography</td>\n",
              "    </tr>\n",
              "    <tr>\n",
              "      <th>1</th>\n",
              "      <td>9</td>\n",
              "      <td>Argo</td>\n",
              "      <td>movie</td>\n",
              "      <td>7.7</td>\n",
              "      <td>120.0</td>\n",
              "      <td>2012</td>\n",
              "      <td>557346</td>\n",
              "      <td>Ben Affleck</td>\n",
              "      <td>Drama</td>\n",
              "    </tr>\n",
              "  </tbody>\n",
              "</table>\n",
              "</div>"
            ],
            "text/plain": [
              "   Your Rating                 Title  ...    Directors     Genres\n",
              "0           10  (500) Days of Summer  ...    Marc Webb     Comedy\n",
              "0           10  (500) Days of Summer  ...    Marc Webb      Drama\n",
              "0           10  (500) Days of Summer  ...    Marc Webb    Romance\n",
              "1            9                  Argo  ...  Ben Affleck  Biography\n",
              "1            9                  Argo  ...  Ben Affleck      Drama\n",
              "\n",
              "[5 rows x 9 columns]"
            ]
          },
          "metadata": {
            "tags": []
          },
          "execution_count": 557
        }
      ]
    },
    {
      "cell_type": "code",
      "metadata": {
        "id": "QnQYC2BY_26T",
        "colab_type": "code",
        "colab": {
          "base_uri": "https://localhost:8080/",
          "height": 424
        },
        "outputId": "9a65c138-69a3-47a5-9629-aba95f76604f"
      },
      "source": [
        "da_# = pd.read_csv('/content/ratings.csv', encoding='latin')"
      ],
      "execution_count": 558,
      "outputs": [
        {
          "output_type": "execute_result",
          "data": {
            "text/html": [
              "<div>\n",
              "<style scoped>\n",
              "    .dataframe tbody tr th:only-of-type {\n",
              "        vertical-align: middle;\n",
              "    }\n",
              "\n",
              "    .dataframe tbody tr th {\n",
              "        vertical-align: top;\n",
              "    }\n",
              "\n",
              "    .dataframe thead th {\n",
              "        text-align: right;\n",
              "    }\n",
              "</style>\n",
              "<table border=\"1\" class=\"dataframe\">\n",
              "  <thead>\n",
              "    <tr style=\"text-align: right;\">\n",
              "      <th></th>\n",
              "      <th>Your Rating</th>\n",
              "      <th>Title</th>\n",
              "      <th>Title Type</th>\n",
              "      <th>IMDb Rating</th>\n",
              "      <th>Runtime (mins)</th>\n",
              "      <th>Year</th>\n",
              "      <th>Num Votes</th>\n",
              "      <th>Genres</th>\n",
              "      <th>Directors</th>\n",
              "    </tr>\n",
              "  </thead>\n",
              "  <tbody>\n",
              "    <tr>\n",
              "      <th>0</th>\n",
              "      <td>10</td>\n",
              "      <td>(500) Days of Summer</td>\n",
              "      <td>movie</td>\n",
              "      <td>7.7</td>\n",
              "      <td>95.0</td>\n",
              "      <td>2009</td>\n",
              "      <td>458965</td>\n",
              "      <td>Comedy, Drama, Romance</td>\n",
              "      <td>Marc Webb</td>\n",
              "    </tr>\n",
              "    <tr>\n",
              "      <th>1</th>\n",
              "      <td>9</td>\n",
              "      <td>Argo</td>\n",
              "      <td>movie</td>\n",
              "      <td>7.7</td>\n",
              "      <td>120.0</td>\n",
              "      <td>2012</td>\n",
              "      <td>557346</td>\n",
              "      <td>Biography, Drama, Thriller</td>\n",
              "      <td>Ben Affleck</td>\n",
              "    </tr>\n",
              "    <tr>\n",
              "      <th>2</th>\n",
              "      <td>7</td>\n",
              "      <td>The Silence of the Lambs</td>\n",
              "      <td>movie</td>\n",
              "      <td>8.6</td>\n",
              "      <td>118.0</td>\n",
              "      <td>1991</td>\n",
              "      <td>1212480</td>\n",
              "      <td>Crime, Drama, Thriller</td>\n",
              "      <td>Jonathan Demme</td>\n",
              "    </tr>\n",
              "    <tr>\n",
              "      <th>3</th>\n",
              "      <td>10</td>\n",
              "      <td>Alias Grace</td>\n",
              "      <td>tvSeries</td>\n",
              "      <td>7.8</td>\n",
              "      <td>60.0</td>\n",
              "      <td>2017</td>\n",
              "      <td>22390</td>\n",
              "      <td>Biography, Crime, Drama, Thriller</td>\n",
              "      <td>NaN</td>\n",
              "    </tr>\n",
              "    <tr>\n",
              "      <th>5</th>\n",
              "      <td>10</td>\n",
              "      <td>Silver Linings Playbook</td>\n",
              "      <td>movie</td>\n",
              "      <td>7.7</td>\n",
              "      <td>122.0</td>\n",
              "      <td>2012</td>\n",
              "      <td>644436</td>\n",
              "      <td>Comedy, Drama, Romance</td>\n",
              "      <td>David O. Russell</td>\n",
              "    </tr>\n",
              "    <tr>\n",
              "      <th>...</th>\n",
              "      <td>...</td>\n",
              "      <td>...</td>\n",
              "      <td>...</td>\n",
              "      <td>...</td>\n",
              "      <td>...</td>\n",
              "      <td>...</td>\n",
              "      <td>...</td>\n",
              "      <td>...</td>\n",
              "      <td>...</td>\n",
              "    </tr>\n",
              "    <tr>\n",
              "      <th>223</th>\n",
              "      <td>10</td>\n",
              "      <td>J'ai perdu mon corps</td>\n",
              "      <td>movie</td>\n",
              "      <td>7.6</td>\n",
              "      <td>81.0</td>\n",
              "      <td>2019</td>\n",
              "      <td>21209</td>\n",
              "      <td>Animation, Drama, Fantasy, Romance</td>\n",
              "      <td>Jérémy Clapin</td>\n",
              "    </tr>\n",
              "    <tr>\n",
              "      <th>224</th>\n",
              "      <td>9</td>\n",
              "      <td>Taare Zameen Par</td>\n",
              "      <td>movie</td>\n",
              "      <td>8.4</td>\n",
              "      <td>165.0</td>\n",
              "      <td>2007</td>\n",
              "      <td>156833</td>\n",
              "      <td>Drama, Family</td>\n",
              "      <td>Aamir Khan, Amole Gupte</td>\n",
              "    </tr>\n",
              "    <tr>\n",
              "      <th>225</th>\n",
              "      <td>10</td>\n",
              "      <td>Seinfeld</td>\n",
              "      <td>tvSeries</td>\n",
              "      <td>8.8</td>\n",
              "      <td>22.0</td>\n",
              "      <td>1989</td>\n",
              "      <td>241558</td>\n",
              "      <td>Comedy</td>\n",
              "      <td>NaN</td>\n",
              "    </tr>\n",
              "    <tr>\n",
              "      <th>226</th>\n",
              "      <td>10</td>\n",
              "      <td>The Wolf of Wall Street</td>\n",
              "      <td>movie</td>\n",
              "      <td>8.2</td>\n",
              "      <td>180.0</td>\n",
              "      <td>2013</td>\n",
              "      <td>1115426</td>\n",
              "      <td>Biography, Crime, Drama</td>\n",
              "      <td>Martin Scorsese</td>\n",
              "    </tr>\n",
              "    <tr>\n",
              "      <th>227</th>\n",
              "      <td>8</td>\n",
              "      <td>Goodfellas</td>\n",
              "      <td>movie</td>\n",
              "      <td>8.7</td>\n",
              "      <td>146.0</td>\n",
              "      <td>1990</td>\n",
              "      <td>973996</td>\n",
              "      <td>Biography, Crime, Drama</td>\n",
              "      <td>Martin Scorsese</td>\n",
              "    </tr>\n",
              "  </tbody>\n",
              "</table>\n",
              "<p>225 rows × 9 columns</p>\n",
              "</div>"
            ],
            "text/plain": [
              "     Your Rating  ...                Directors\n",
              "0             10  ...                Marc Webb\n",
              "1              9  ...              Ben Affleck\n",
              "2              7  ...           Jonathan Demme\n",
              "3             10  ...                      NaN\n",
              "5             10  ...         David O. Russell\n",
              "..           ...  ...                      ...\n",
              "223           10  ...            Jérémy Clapin\n",
              "224            9  ...  Aamir Khan, Amole Gupte\n",
              "225           10  ...                      NaN\n",
              "226           10  ...          Martin Scorsese\n",
              "227            8  ...          Martin Scorsese\n",
              "\n",
              "[225 rows x 9 columns]"
            ]
          },
          "metadata": {
            "tags": []
          },
          "execution_count": 558
        }
      ]
    },
    {
      "cell_type": "code",
      "metadata": {
        "id": "ij4WRLNU_MXw",
        "colab_type": "code",
        "colab": {}
      },
      "source": [
        "da_['duration']=pd.to_numeric(da_['Runtime (mins)'])\n"
      ],
      "execution_count": 0,
      "outputs": []
    },
    {
      "cell_type": "code",
      "metadata": {
        "id": "KmnnjWzSAyjR",
        "colab_type": "code",
        "colab": {
          "base_uri": "https://localhost:8080/",
          "height": 34
        },
        "outputId": "4a14a3a9-c92f-427e-ea8c-81f6196458c6"
      },
      "source": [
        "da_['Title Type'].unique()"
      ],
      "execution_count": 560,
      "outputs": [
        {
          "output_type": "execute_result",
          "data": {
            "text/plain": [
              "array(['movie', 'tvSeries'], dtype=object)"
            ]
          },
          "metadata": {
            "tags": []
          },
          "execution_count": 560
        }
      ]
    },
    {
      "cell_type": "code",
      "metadata": {
        "id": "hFs45sBMAdst",
        "colab_type": "code",
        "colab": {}
      },
      "source": [
        "da_movie_=da_[da_['Title Type']=='movie']"
      ],
      "execution_count": 0,
      "outputs": []
    },
    {
      "cell_type": "code",
      "metadata": {
        "id": "28R5SAv0_St5",
        "colab_type": "code",
        "colab": {
          "base_uri": "https://localhost:8080/",
          "height": 283
        },
        "outputId": "8d6b90ac-0808-4cc2-e2da-e5d2fee0332d"
      },
      "source": [
        "sns.distplot(da_movie_['duration'])\n",
        "from google.colab import files\n",
        "plt.savefig('movie_dur.pdf')\n",
        "files.download('movie_dur.pdf')"
      ],
      "execution_count": 562,
      "outputs": [
        {
          "output_type": "display_data",
          "data": {
            "image/png": "[encoded data removed]",
            "text/plain": [
              "<Figure size 432x288 with 1 Axes>"
            ]
          },
          "metadata": {
            "tags": [],
            "needs_background": "light"
          }
        }
      ]
    },
    {
      "cell_type": "code",
      "metadata": {
        "id": "5MTV75-g_WbP",
        "colab_type": "code",
        "colab": {
          "base_uri": "https://localhost:8080/",
          "height": 173
        },
        "outputId": "96678c84-8231-4cf6-8297-e11647bfec51"
      },
      "source": [
        "da_movie_['duration'].describe()"
      ],
      "execution_count": 563,
      "outputs": [
        {
          "output_type": "execute_result",
          "data": {
            "text/plain": [
              "count    181.000000\n",
              "mean     128.342541\n",
              "std       27.857052\n",
              "min       75.000000\n",
              "25%      109.000000\n",
              "50%      126.000000\n",
              "75%      140.000000\n",
              "max      321.000000\n",
              "Name: duration, dtype: float64"
            ]
          },
          "metadata": {
            "tags": []
          },
          "execution_count": 563
        }
      ]
    },
    {
      "cell_type": "code",
      "metadata": {
        "id": "LAdcBs_e_ZJi",
        "colab_type": "code",
        "colab": {
          "base_uri": "https://localhost:8080/",
          "height": 81
        },
        "outputId": "a3ec301c-26b4-444a-b31c-d5dfc15066ba"
      },
      "source": [
        "da_movie_[da_movie_['duration']==da_movie_['duration'].min()]"
      ],
      "execution_count": 564,
      "outputs": [
        {
          "output_type": "execute_result",
          "data": {
            "text/html": [
              "<div>\n",
              "<style scoped>\n",
              "    .dataframe tbody tr th:only-of-type {\n",
              "        vertical-align: middle;\n",
              "    }\n",
              "\n",
              "    .dataframe tbody tr th {\n",
              "        vertical-align: top;\n",
              "    }\n",
              "\n",
              "    .dataframe thead th {\n",
              "        text-align: right;\n",
              "    }\n",
              "</style>\n",
              "<table border=\"1\" class=\"dataframe\">\n",
              "  <thead>\n",
              "    <tr style=\"text-align: right;\">\n",
              "      <th></th>\n",
              "      <th>Your Rating</th>\n",
              "      <th>Title</th>\n",
              "      <th>Title Type</th>\n",
              "      <th>IMDb Rating</th>\n",
              "      <th>Runtime (mins)</th>\n",
              "      <th>Year</th>\n",
              "      <th>Num Votes</th>\n",
              "      <th>Genres</th>\n",
              "      <th>Directors</th>\n",
              "      <th>duration</th>\n",
              "    </tr>\n",
              "  </thead>\n",
              "  <tbody>\n",
              "    <tr>\n",
              "      <th>95</th>\n",
              "      <td>10</td>\n",
              "      <td>Justice League Dark</td>\n",
              "      <td>movie</td>\n",
              "      <td>7.1</td>\n",
              "      <td>75.0</td>\n",
              "      <td>2017</td>\n",
              "      <td>19394</td>\n",
              "      <td>Animation, Action, Adventure, Family, Fantasy,...</td>\n",
              "      <td>Jay Oliva</td>\n",
              "      <td>75.0</td>\n",
              "    </tr>\n",
              "  </tbody>\n",
              "</table>\n",
              "</div>"
            ],
            "text/plain": [
              "    Your Rating                Title  ...  Directors  duration\n",
              "95           10  Justice League Dark  ...  Jay Oliva      75.0\n",
              "\n",
              "[1 rows x 10 columns]"
            ]
          },
          "metadata": {
            "tags": []
          },
          "execution_count": 564
        }
      ]
    },
    {
      "cell_type": "code",
      "metadata": {
        "id": "jCPGnnM1BYlc",
        "colab_type": "code",
        "colab": {
          "base_uri": "https://localhost:8080/",
          "height": 81
        },
        "outputId": "9db4a057-acd7-4b9d-87d8-f82d2e0381ff"
      },
      "source": [
        "da_movie_[da_movie_['duration']==da_movie_['duration'].max()]"
      ],
      "execution_count": 565,
      "outputs": [
        {
          "output_type": "execute_result",
          "data": {
            "text/html": [
              "<div>\n",
              "<style scoped>\n",
              "    .dataframe tbody tr th:only-of-type {\n",
              "        vertical-align: middle;\n",
              "    }\n",
              "\n",
              "    .dataframe tbody tr th {\n",
              "        vertical-align: top;\n",
              "    }\n",
              "\n",
              "    .dataframe thead th {\n",
              "        text-align: right;\n",
              "    }\n",
              "</style>\n",
              "<table border=\"1\" class=\"dataframe\">\n",
              "  <thead>\n",
              "    <tr style=\"text-align: right;\">\n",
              "      <th></th>\n",
              "      <th>Your Rating</th>\n",
              "      <th>Title</th>\n",
              "      <th>Title Type</th>\n",
              "      <th>IMDb Rating</th>\n",
              "      <th>Runtime (mins)</th>\n",
              "      <th>Year</th>\n",
              "      <th>Num Votes</th>\n",
              "      <th>Genres</th>\n",
              "      <th>Directors</th>\n",
              "      <th>duration</th>\n",
              "    </tr>\n",
              "  </thead>\n",
              "  <tbody>\n",
              "    <tr>\n",
              "      <th>75</th>\n",
              "      <td>10</td>\n",
              "      <td>Gangs of Wasseypur</td>\n",
              "      <td>movie</td>\n",
              "      <td>8.2</td>\n",
              "      <td>321.0</td>\n",
              "      <td>2012</td>\n",
              "      <td>75363</td>\n",
              "      <td>Action, Crime, Drama, Thriller</td>\n",
              "      <td>Anurag Kashyap</td>\n",
              "      <td>321.0</td>\n",
              "    </tr>\n",
              "  </tbody>\n",
              "</table>\n",
              "</div>"
            ],
            "text/plain": [
              "    Your Rating               Title  ...       Directors  duration\n",
              "75           10  Gangs of Wasseypur  ...  Anurag Kashyap     321.0\n",
              "\n",
              "[1 rows x 10 columns]"
            ]
          },
          "metadata": {
            "tags": []
          },
          "execution_count": 565
        }
      ]
    },
    {
      "cell_type": "code",
      "metadata": {
        "id": "UxjlHMzIBhk8",
        "colab_type": "code",
        "colab": {
          "base_uri": "https://localhost:8080/",
          "height": 112
        },
        "outputId": "47c20378-6190-47fb-d42c-0896d319567c"
      },
      "source": [
        "da[['Your Rating','IMDb Rating']].corr()"
      ],
      "execution_count": 566,
      "outputs": [
        {
          "output_type": "execute_result",
          "data": {
            "text/html": [
              "<div>\n",
              "<style scoped>\n",
              "    .dataframe tbody tr th:only-of-type {\n",
              "        vertical-align: middle;\n",
              "    }\n",
              "\n",
              "    .dataframe tbody tr th {\n",
              "        vertical-align: top;\n",
              "    }\n",
              "\n",
              "    .dataframe thead th {\n",
              "        text-align: right;\n",
              "    }\n",
              "</style>\n",
              "<table border=\"1\" class=\"dataframe\">\n",
              "  <thead>\n",
              "    <tr style=\"text-align: right;\">\n",
              "      <th></th>\n",
              "      <th>Your Rating</th>\n",
              "      <th>IMDb Rating</th>\n",
              "    </tr>\n",
              "  </thead>\n",
              "  <tbody>\n",
              "    <tr>\n",
              "      <th>Your Rating</th>\n",
              "      <td>1.000000</td>\n",
              "      <td>0.229332</td>\n",
              "    </tr>\n",
              "    <tr>\n",
              "      <th>IMDb Rating</th>\n",
              "      <td>0.229332</td>\n",
              "      <td>1.000000</td>\n",
              "    </tr>\n",
              "  </tbody>\n",
              "</table>\n",
              "</div>"
            ],
            "text/plain": [
              "             Your Rating  IMDb Rating\n",
              "Your Rating     1.000000     0.229332\n",
              "IMDb Rating     0.229332     1.000000"
            ]
          },
          "metadata": {
            "tags": []
          },
          "execution_count": 566
        }
      ]
    },
    {
      "cell_type": "code",
      "metadata": {
        "id": "WoBLbvm8BxHx",
        "colab_type": "code",
        "colab": {
          "base_uri": "https://localhost:8080/",
          "height": 279
        },
        "outputId": "062b10f9-d516-47a4-e409-7eb41b7e7153"
      },
      "source": [
        "fig, ax = plt.subplots()\n",
        "sns.scatterplot(y='Your Rating',x='IMDb Rating',data=da, alpha=0.4)\n",
        "ax.set_xlim([4,10])\n",
        "from google.colab import files\n",
        "plt.savefig('my_rating_vs_imdb.pdf')\n",
        "files.download('my_rating_vs_imdb.pdf')\n"
      ],
      "execution_count": 567,
      "outputs": [
        {
          "output_type": "display_data",
          "data": {
            "image/png": "[encoded data removed]",
            "text/plain": [
              "<Figure size 432x288 with 1 Axes>"
            ]
          },
          "metadata": {
            "tags": [],
            "needs_background": "light"
          }
        }
      ]
    },
    {
      "cell_type": "code",
      "metadata": {
        "id": "UzBWqo-2B3y4",
        "colab_type": "code",
        "colab": {}
      },
      "source": [
        "da_['Rating_jittered'] = da_['Your Rating'] + 0.3 * np.random.rand(len(da_['Your Rating']))"
      ],
      "execution_count": 0,
      "outputs": []
    },
    {
      "cell_type": "code",
      "metadata": {
        "id": "qAzr8CV5CniJ",
        "colab_type": "code",
        "colab": {
          "base_uri": "https://localhost:8080/",
          "height": 424
        },
        "outputId": "388590f6-0848-474b-b18a-b591889d358a"
      },
      "source": [
        "da_[['Rating_jittered','Your Rating']]"
      ],
      "execution_count": 646,
      "outputs": [
        {
          "output_type": "execute_result",
          "data": {
            "text/html": [
              "<div>\n",
              "<style scoped>\n",
              "    .dataframe tbody tr th:only-of-type {\n",
              "        vertical-align: middle;\n",
              "    }\n",
              "\n",
              "    .dataframe tbody tr th {\n",
              "        vertical-align: top;\n",
              "    }\n",
              "\n",
              "    .dataframe thead th {\n",
              "        text-align: right;\n",
              "    }\n",
              "</style>\n",
              "<table border=\"1\" class=\"dataframe\">\n",
              "  <thead>\n",
              "    <tr style=\"text-align: right;\">\n",
              "      <th></th>\n",
              "      <th>Rating_jittered</th>\n",
              "      <th>Your Rating</th>\n",
              "    </tr>\n",
              "  </thead>\n",
              "  <tbody>\n",
              "    <tr>\n",
              "      <th>0</th>\n",
              "      <td>10.119750</td>\n",
              "      <td>10</td>\n",
              "    </tr>\n",
              "    <tr>\n",
              "      <th>1</th>\n",
              "      <td>9.132510</td>\n",
              "      <td>9</td>\n",
              "    </tr>\n",
              "    <tr>\n",
              "      <th>2</th>\n",
              "      <td>7.118807</td>\n",
              "      <td>7</td>\n",
              "    </tr>\n",
              "    <tr>\n",
              "      <th>3</th>\n",
              "      <td>10.007770</td>\n",
              "      <td>10</td>\n",
              "    </tr>\n",
              "    <tr>\n",
              "      <th>5</th>\n",
              "      <td>10.244290</td>\n",
              "      <td>10</td>\n",
              "    </tr>\n",
              "    <tr>\n",
              "      <th>...</th>\n",
              "      <td>...</td>\n",
              "      <td>...</td>\n",
              "    </tr>\n",
              "    <tr>\n",
              "      <th>223</th>\n",
              "      <td>10.208553</td>\n",
              "      <td>10</td>\n",
              "    </tr>\n",
              "    <tr>\n",
              "      <th>224</th>\n",
              "      <td>9.125402</td>\n",
              "      <td>9</td>\n",
              "    </tr>\n",
              "    <tr>\n",
              "      <th>225</th>\n",
              "      <td>10.233535</td>\n",
              "      <td>10</td>\n",
              "    </tr>\n",
              "    <tr>\n",
              "      <th>226</th>\n",
              "      <td>10.005928</td>\n",
              "      <td>10</td>\n",
              "    </tr>\n",
              "    <tr>\n",
              "      <th>227</th>\n",
              "      <td>8.046147</td>\n",
              "      <td>8</td>\n",
              "    </tr>\n",
              "  </tbody>\n",
              "</table>\n",
              "<p>225 rows × 2 columns</p>\n",
              "</div>"
            ],
            "text/plain": [
              "     Rating_jittered  Your Rating\n",
              "0          10.119750           10\n",
              "1           9.132510            9\n",
              "2           7.118807            7\n",
              "3          10.007770           10\n",
              "5          10.244290           10\n",
              "..               ...          ...\n",
              "223        10.208553           10\n",
              "224         9.125402            9\n",
              "225        10.233535           10\n",
              "226        10.005928           10\n",
              "227         8.046147            8\n",
              "\n",
              "[225 rows x 2 columns]"
            ]
          },
          "metadata": {
            "tags": []
          },
          "execution_count": 646
        }
      ]
    },
    {
      "cell_type": "code",
      "metadata": {
        "id": "jqBAyNdTFpgK",
        "colab_type": "code",
        "colab": {
          "base_uri": "https://localhost:8080/",
          "height": 34
        },
        "outputId": "8adeb6d4-5c8f-4a6b-f3ac-153de4bfa2f4"
      },
      "source": [
        "da_['Title Type'].unique()"
      ],
      "execution_count": 647,
      "outputs": [
        {
          "output_type": "execute_result",
          "data": {
            "text/plain": [
              "array(['movie', 'tvSeries'], dtype=object)"
            ]
          },
          "metadata": {
            "tags": []
          },
          "execution_count": 647
        }
      ]
    },
    {
      "cell_type": "code",
      "metadata": {
        "id": "D6nYqWcnFeL7",
        "colab_type": "code",
        "colab": {}
      },
      "source": [
        "da_['title_type_num'] = da_['Title Type'].replace({'movie':1,'tvSeries':2})"
      ],
      "execution_count": 0,
      "outputs": []
    },
    {
      "cell_type": "code",
      "metadata": {
        "id": "5ZkmrU5LEc8N",
        "colab_type": "code",
        "colab": {
          "base_uri": "https://localhost:8080/",
          "height": 621
        },
        "outputId": "8a4a12d2-7a8d-4268-9063-9d05189af998"
      },
      "source": [
        "import matplotlib.cm as cm\n",
        "fig, ax = plt.subplots()\n",
        "fig.set_size_inches(10, 10)\n",
        "scatter = ax.scatter(da_['IMDb Rating'], da_['Rating_jittered'] , c=da_['title_type_num'], marker='o',cmap=cm.coolwarm)\n",
        "ax.set_xlabel('IMDb Rating')\n",
        "ax.set_ylabel('My Rating')\n",
        "ax.set_title('Jittered Scatter Plot')\n",
        "# produce a legend with the unique colors from the scatter\n",
        "legend1 = ax.legend(*scatter.legend_elements(), title=\"Title Type\")\n",
        "legend1.get_texts()[0].set_text('movie')\n",
        "legend1.get_texts()[1].set_text('Tv series')\n",
        "ax.add_artist(legend1)\n",
        "from google.colab import files\n",
        "plt.savefig('jitter_.pdf')\n",
        "files.download('jitter_.pdf')"
      ],
      "execution_count": 650,
      "outputs": [
        {
          "output_type": "display_data",
          "data": {
            "image/png": "[encoded data removed]",
            "text/plain": [
              "<Figure size 720x720 with 1 Axes>"
            ]
          },
          "metadata": {
            "tags": [],
            "needs_background": "light"
          }
        }
      ]
    },
    {
      "cell_type": "code",
      "metadata": {
        "id": "hYi0YWceFSXc",
        "colab_type": "code",
        "colab": {}
      },
      "source": [
        "director_type = (pd.DataFrame(da.groupby('Directors').Title.nunique())).sort_values('Title',ascending=False)"
      ],
      "execution_count": 0,
      "outputs": []
    },
    {
      "cell_type": "code",
      "metadata": {
        "id": "MB_EbyGFGkwK",
        "colab_type": "code",
        "colab": {
          "base_uri": "https://localhost:8080/",
          "height": 551
        },
        "outputId": "a87aee3d-6449-42ac-a821-eb64e455d1be"
      },
      "source": [
        "director_type = director_type.head(15)\n",
        "director_type"
      ],
      "execution_count": 574,
      "outputs": [
        {
          "output_type": "execute_result",
          "data": {
            "text/html": [
              "<div>\n",
              "<style scoped>\n",
              "    .dataframe tbody tr th:only-of-type {\n",
              "        vertical-align: middle;\n",
              "    }\n",
              "\n",
              "    .dataframe tbody tr th {\n",
              "        vertical-align: top;\n",
              "    }\n",
              "\n",
              "    .dataframe thead th {\n",
              "        text-align: right;\n",
              "    }\n",
              "</style>\n",
              "<table border=\"1\" class=\"dataframe\">\n",
              "  <thead>\n",
              "    <tr style=\"text-align: right;\">\n",
              "      <th></th>\n",
              "      <th>Title</th>\n",
              "    </tr>\n",
              "    <tr>\n",
              "      <th>Directors</th>\n",
              "      <th></th>\n",
              "    </tr>\n",
              "  </thead>\n",
              "  <tbody>\n",
              "    <tr>\n",
              "      <th>Steven Spielberg</th>\n",
              "      <td>7</td>\n",
              "    </tr>\n",
              "    <tr>\n",
              "      <th>Christopher Nolan</th>\n",
              "      <td>6</td>\n",
              "    </tr>\n",
              "    <tr>\n",
              "      <th>Stanley Kubrick</th>\n",
              "      <td>5</td>\n",
              "    </tr>\n",
              "    <tr>\n",
              "      <th>Francis Lawrence</th>\n",
              "      <td>4</td>\n",
              "    </tr>\n",
              "    <tr>\n",
              "      <th>Richard Linklater</th>\n",
              "      <td>4</td>\n",
              "    </tr>\n",
              "    <tr>\n",
              "      <th>Martin Scorsese</th>\n",
              "      <td>4</td>\n",
              "    </tr>\n",
              "    <tr>\n",
              "      <th>Zack Snyder</th>\n",
              "      <td>3</td>\n",
              "    </tr>\n",
              "    <tr>\n",
              "      <th>J.J. Abrams</th>\n",
              "      <td>3</td>\n",
              "    </tr>\n",
              "    <tr>\n",
              "      <th>Ridley Scott</th>\n",
              "      <td>3</td>\n",
              "    </tr>\n",
              "    <tr>\n",
              "      <th>David Fincher</th>\n",
              "      <td>3</td>\n",
              "    </tr>\n",
              "    <tr>\n",
              "      <th>Robert Zemeckis</th>\n",
              "      <td>3</td>\n",
              "    </tr>\n",
              "    <tr>\n",
              "      <th>Sam Raimi</th>\n",
              "      <td>3</td>\n",
              "    </tr>\n",
              "    <tr>\n",
              "      <th>Peter Jackson</th>\n",
              "      <td>3</td>\n",
              "    </tr>\n",
              "    <tr>\n",
              "      <th>James Mangold</th>\n",
              "      <td>2</td>\n",
              "    </tr>\n",
              "    <tr>\n",
              "      <th>Peter Weir</th>\n",
              "      <td>2</td>\n",
              "    </tr>\n",
              "  </tbody>\n",
              "</table>\n",
              "</div>"
            ],
            "text/plain": [
              "                   Title\n",
              "Directors               \n",
              "Steven Spielberg       7\n",
              "Christopher Nolan      6\n",
              "Stanley Kubrick        5\n",
              "Francis Lawrence       4\n",
              "Richard Linklater      4\n",
              "Martin Scorsese        4\n",
              "Zack Snyder            3\n",
              "J.J. Abrams            3\n",
              "Ridley Scott           3\n",
              "David Fincher          3\n",
              "Robert Zemeckis        3\n",
              "Sam Raimi              3\n",
              "Peter Jackson          3\n",
              "James Mangold          2\n",
              "Peter Weir             2"
            ]
          },
          "metadata": {
            "tags": []
          },
          "execution_count": 574
        }
      ]
    },
    {
      "cell_type": "code",
      "metadata": {
        "id": "ZhC86SydGva3",
        "colab_type": "code",
        "colab": {
          "base_uri": "https://localhost:8080/",
          "height": 206
        },
        "outputId": "9bfa0e78-2740-43b5-ccde-ce8c923c9780"
      },
      "source": [
        "director_type['directors']=director_type.index\n",
        "director_type.reset_index(drop=True,inplace=True)\n",
        "director_type.head()\n"
      ],
      "execution_count": 575,
      "outputs": [
        {
          "output_type": "execute_result",
          "data": {
            "text/html": [
              "<div>\n",
              "<style scoped>\n",
              "    .dataframe tbody tr th:only-of-type {\n",
              "        vertical-align: middle;\n",
              "    }\n",
              "\n",
              "    .dataframe tbody tr th {\n",
              "        vertical-align: top;\n",
              "    }\n",
              "\n",
              "    .dataframe thead th {\n",
              "        text-align: right;\n",
              "    }\n",
              "</style>\n",
              "<table border=\"1\" class=\"dataframe\">\n",
              "  <thead>\n",
              "    <tr style=\"text-align: right;\">\n",
              "      <th></th>\n",
              "      <th>Title</th>\n",
              "      <th>directors</th>\n",
              "    </tr>\n",
              "  </thead>\n",
              "  <tbody>\n",
              "    <tr>\n",
              "      <th>0</th>\n",
              "      <td>7</td>\n",
              "      <td>Steven Spielberg</td>\n",
              "    </tr>\n",
              "    <tr>\n",
              "      <th>1</th>\n",
              "      <td>6</td>\n",
              "      <td>Christopher Nolan</td>\n",
              "    </tr>\n",
              "    <tr>\n",
              "      <th>2</th>\n",
              "      <td>5</td>\n",
              "      <td>Stanley Kubrick</td>\n",
              "    </tr>\n",
              "    <tr>\n",
              "      <th>3</th>\n",
              "      <td>4</td>\n",
              "      <td>Francis Lawrence</td>\n",
              "    </tr>\n",
              "    <tr>\n",
              "      <th>4</th>\n",
              "      <td>4</td>\n",
              "      <td>Richard Linklater</td>\n",
              "    </tr>\n",
              "  </tbody>\n",
              "</table>\n",
              "</div>"
            ],
            "text/plain": [
              "   Title          directors\n",
              "0      7   Steven Spielberg\n",
              "1      6  Christopher Nolan\n",
              "2      5    Stanley Kubrick\n",
              "3      4   Francis Lawrence\n",
              "4      4  Richard Linklater"
            ]
          },
          "metadata": {
            "tags": []
          },
          "execution_count": 575
        }
      ]
    },
    {
      "cell_type": "code",
      "metadata": {
        "id": "1csAL_IsHjMa",
        "colab_type": "code",
        "colab": {}
      },
      "source": [
        "labels_ = list(director_type['directors'].unique())\n",
        "x_pos_ = np.arange(len(labels_))\n",
        "count_ = list(director_type['Title'])"
      ],
      "execution_count": 0,
      "outputs": []
    },
    {
      "cell_type": "code",
      "metadata": {
        "id": "rfPWq0V_H43Y",
        "colab_type": "code",
        "colab": {
          "base_uri": "https://localhost:8080/",
          "height": 520
        },
        "outputId": "344209e8-95d7-4a0a-d632-9f5ecf9c6992"
      },
      "source": [
        "data_color_ = [x/max(count_) for x in count_]\n",
        "my_cmap_ = plt.cm.get_cmap('binary')\n",
        "colors_ = my_cmap_(data_color_)\n",
        "fig, ax = plt.subplots()\n",
        "barlist=ax.bar(x_pos_, count_, align='center', ecolor='black', capsize=10,color=colors_)\n",
        "fig.set_size_inches(9.5,7)\n",
        "ax.set_ylabel('num of films')\n",
        "ax.set_xlabel('Directors')\n",
        "ax.set_xticks(x_pos_)\n",
        "ax.set_xticklabels(labels_, rotation=60, ha=\"right\")\n",
        "ax.yaxis.grid(True)\n",
        "ax.xaxis.grid(False)\n",
        "sm_ = ScalarMappable(cmap=my_cmap_)\n",
        "sm_.set_array([])\n",
        "\n",
        "cbar = plt.colorbar(sm_)\n",
        "cbar.set_label('Color', rotation=270,labelpad=25)\n",
        "from google.colab import files\n",
        "plt.savefig('directors_.pdf')\n",
        "files.download('directors_.pdf')"
      ],
      "execution_count": 577,
      "outputs": [
        {
          "output_type": "display_data",
          "data": {
            "image/png": "[encoded data removed]",
            "text/plain": [
              "<Figure size 684x504 with 2 Axes>"
            ]
          },
          "metadata": {
            "tags": [],
            "needs_background": "light"
          }
        }
      ]
    },
    {
      "cell_type": "code",
      "metadata": {
        "id": "EiioMVM2IYlS",
        "colab_type": "code",
        "colab": {}
      },
      "source": [
        ""
      ],
      "execution_count": 0,
      "outputs": []
    },
    {
      "cell_type": "code",
      "metadata": {
        "id": "nRR7xoPnUjk8",
        "colab_type": "code",
        "colab": {
          "base_uri": "https://localhost:8080/",
          "height": 69
        },
        "outputId": "6651fe1b-d014-42b2-8d45-d656b1993d0c"
      },
      "source": [
        "da_movie_.columns"
      ],
      "execution_count": 581,
      "outputs": [
        {
          "output_type": "execute_result",
          "data": {
            "text/plain": [
              "Index(['Your Rating', 'Title', 'Title Type', 'IMDb Rating', 'Runtime (mins)',\n",
              "       'Year', 'Num Votes', 'Genres', 'Directors', 'duration'],\n",
              "      dtype='object')"
            ]
          },
          "metadata": {
            "tags": []
          },
          "execution_count": 581
        }
      ]
    },
    {
      "cell_type": "code",
      "metadata": {
        "id": "WU2jqYizMpWV",
        "colab_type": "code",
        "colab": {
          "base_uri": "https://localhost:8080/",
          "height": 104
        },
        "outputId": "7f843625-3073-4021-c39c-f0cb54ae243a"
      },
      "source": [
        "da_movie_.sort_values(by=['Num Votes'],ascending=False,inplace=True)"
      ],
      "execution_count": 583,
      "outputs": [
        {
          "output_type": "stream",
          "text": [
            "/usr/local/lib/python3.6/dist-packages/ipykernel_launcher.py:1: SettingWithCopyWarning: \n",
            "A value is trying to be set on a copy of a slice from a DataFrame\n",
            "\n",
            "See the caveats in the documentation: https://pandas.pydata.org/pandas-docs/stable/user_guide/indexing.html#returning-a-view-versus-a-copy\n",
            "  \"\"\"Entry point for launching an IPython kernel.\n"
          ],
          "name": "stderr"
        }
      ]
    },
    {
      "cell_type": "code",
      "metadata": {
        "id": "LII2W25RUm-h",
        "colab_type": "code",
        "colab": {}
      },
      "source": [
        "# Top 15 most popular movies in my list\n",
        "movie_15 = da_movie_.head(15)"
      ],
      "execution_count": 0,
      "outputs": []
    },
    {
      "cell_type": "code",
      "metadata": {
        "id": "O4C-8S1iVHjC",
        "colab_type": "code",
        "colab": {
          "base_uri": "https://localhost:8080/",
          "height": 520
        },
        "outputId": "0a0bba3b-2db0-4f40-a1cb-7bd20c1800eb"
      },
      "source": [
        "movie_15"
      ],
      "execution_count": 587,
      "outputs": [
        {
          "output_type": "execute_result",
          "data": {
            "text/html": [
              "<div>\n",
              "<style scoped>\n",
              "    .dataframe tbody tr th:only-of-type {\n",
              "        vertical-align: middle;\n",
              "    }\n",
              "\n",
              "    .dataframe tbody tr th {\n",
              "        vertical-align: top;\n",
              "    }\n",
              "\n",
              "    .dataframe thead th {\n",
              "        text-align: right;\n",
              "    }\n",
              "</style>\n",
              "<table border=\"1\" class=\"dataframe\">\n",
              "  <thead>\n",
              "    <tr style=\"text-align: right;\">\n",
              "      <th></th>\n",
              "      <th>Your Rating</th>\n",
              "      <th>Title</th>\n",
              "      <th>Title Type</th>\n",
              "      <th>IMDb Rating</th>\n",
              "      <th>Runtime (mins)</th>\n",
              "      <th>Year</th>\n",
              "      <th>Num Votes</th>\n",
              "      <th>Genres</th>\n",
              "      <th>Directors</th>\n",
              "      <th>duration</th>\n",
              "    </tr>\n",
              "  </thead>\n",
              "  <tbody>\n",
              "    <tr>\n",
              "      <th>13</th>\n",
              "      <td>10</td>\n",
              "      <td>The Shawshank Redemption</td>\n",
              "      <td>movie</td>\n",
              "      <td>9.3</td>\n",
              "      <td>142.0</td>\n",
              "      <td>1994</td>\n",
              "      <td>2238830</td>\n",
              "      <td>Drama</td>\n",
              "      <td>Frank Darabont</td>\n",
              "      <td>142.0</td>\n",
              "    </tr>\n",
              "    <tr>\n",
              "      <th>153</th>\n",
              "      <td>10</td>\n",
              "      <td>The Dark Knight</td>\n",
              "      <td>movie</td>\n",
              "      <td>9.0</td>\n",
              "      <td>152.0</td>\n",
              "      <td>2008</td>\n",
              "      <td>2208881</td>\n",
              "      <td>Action, Crime, Drama, Thriller</td>\n",
              "      <td>Christopher Nolan</td>\n",
              "      <td>152.0</td>\n",
              "    </tr>\n",
              "    <tr>\n",
              "      <th>40</th>\n",
              "      <td>10</td>\n",
              "      <td>Fight Club</td>\n",
              "      <td>movie</td>\n",
              "      <td>8.8</td>\n",
              "      <td>139.0</td>\n",
              "      <td>1999</td>\n",
              "      <td>1781767</td>\n",
              "      <td>Drama</td>\n",
              "      <td>David Fincher</td>\n",
              "      <td>139.0</td>\n",
              "    </tr>\n",
              "    <tr>\n",
              "      <th>12</th>\n",
              "      <td>10</td>\n",
              "      <td>Pulp Fiction</td>\n",
              "      <td>movie</td>\n",
              "      <td>8.9</td>\n",
              "      <td>154.0</td>\n",
              "      <td>1994</td>\n",
              "      <td>1754160</td>\n",
              "      <td>Crime, Drama</td>\n",
              "      <td>Quentin Tarantino</td>\n",
              "      <td>154.0</td>\n",
              "    </tr>\n",
              "    <tr>\n",
              "      <th>11</th>\n",
              "      <td>10</td>\n",
              "      <td>Forrest Gump</td>\n",
              "      <td>movie</td>\n",
              "      <td>8.8</td>\n",
              "      <td>142.0</td>\n",
              "      <td>1994</td>\n",
              "      <td>1726089</td>\n",
              "      <td>Drama, Romance</td>\n",
              "      <td>Robert Zemeckis</td>\n",
              "      <td>142.0</td>\n",
              "    </tr>\n",
              "    <tr>\n",
              "      <th>37</th>\n",
              "      <td>8</td>\n",
              "      <td>The Matrix</td>\n",
              "      <td>movie</td>\n",
              "      <td>8.7</td>\n",
              "      <td>136.0</td>\n",
              "      <td>1999</td>\n",
              "      <td>1606770</td>\n",
              "      <td>Action, Sci-Fi</td>\n",
              "      <td>Lilly Wachowski, Lana Wachowski</td>\n",
              "      <td>136.0</td>\n",
              "    </tr>\n",
              "    <tr>\n",
              "      <th>32</th>\n",
              "      <td>9</td>\n",
              "      <td>The Lord of the Rings: The Fellowship of the Ring</td>\n",
              "      <td>movie</td>\n",
              "      <td>8.8</td>\n",
              "      <td>178.0</td>\n",
              "      <td>2001</td>\n",
              "      <td>1596477</td>\n",
              "      <td>Action, Adventure, Drama, Fantasy</td>\n",
              "      <td>Peter Jackson</td>\n",
              "      <td>178.0</td>\n",
              "    </tr>\n",
              "    <tr>\n",
              "      <th>55</th>\n",
              "      <td>9</td>\n",
              "      <td>The Lord of the Rings: The Return of the King</td>\n",
              "      <td>movie</td>\n",
              "      <td>8.9</td>\n",
              "      <td>201.0</td>\n",
              "      <td>2003</td>\n",
              "      <td>1583192</td>\n",
              "      <td>Adventure, Drama, Fantasy</td>\n",
              "      <td>Peter Jackson</td>\n",
              "      <td>201.0</td>\n",
              "    </tr>\n",
              "    <tr>\n",
              "      <th>39</th>\n",
              "      <td>10</td>\n",
              "      <td>The Dark Knight Rises</td>\n",
              "      <td>movie</td>\n",
              "      <td>8.4</td>\n",
              "      <td>164.0</td>\n",
              "      <td>2012</td>\n",
              "      <td>1460735</td>\n",
              "      <td>Action, Adventure</td>\n",
              "      <td>Christopher Nolan</td>\n",
              "      <td>164.0</td>\n",
              "    </tr>\n",
              "    <tr>\n",
              "      <th>56</th>\n",
              "      <td>9</td>\n",
              "      <td>The Lord of the Rings: The Two Towers</td>\n",
              "      <td>movie</td>\n",
              "      <td>8.7</td>\n",
              "      <td>179.0</td>\n",
              "      <td>2002</td>\n",
              "      <td>1430220</td>\n",
              "      <td>Adventure, Drama, Fantasy</td>\n",
              "      <td>Peter Jackson</td>\n",
              "      <td>179.0</td>\n",
              "    </tr>\n",
              "    <tr>\n",
              "      <th>206</th>\n",
              "      <td>9</td>\n",
              "      <td>Interstellar</td>\n",
              "      <td>movie</td>\n",
              "      <td>8.6</td>\n",
              "      <td>169.0</td>\n",
              "      <td>2014</td>\n",
              "      <td>1413707</td>\n",
              "      <td>Adventure, Drama, Sci-Fi, Thriller</td>\n",
              "      <td>Christopher Nolan</td>\n",
              "      <td>169.0</td>\n",
              "    </tr>\n",
              "    <tr>\n",
              "      <th>17</th>\n",
              "      <td>9</td>\n",
              "      <td>Se7en</td>\n",
              "      <td>movie</td>\n",
              "      <td>8.6</td>\n",
              "      <td>127.0</td>\n",
              "      <td>1995</td>\n",
              "      <td>1378085</td>\n",
              "      <td>Crime, Drama, Mystery, Thriller</td>\n",
              "      <td>David Fincher</td>\n",
              "      <td>127.0</td>\n",
              "    </tr>\n",
              "    <tr>\n",
              "      <th>64</th>\n",
              "      <td>8</td>\n",
              "      <td>Gladiator</td>\n",
              "      <td>movie</td>\n",
              "      <td>8.5</td>\n",
              "      <td>155.0</td>\n",
              "      <td>2000</td>\n",
              "      <td>1288011</td>\n",
              "      <td>Action, Adventure, Drama</td>\n",
              "      <td>Ridley Scott</td>\n",
              "      <td>155.0</td>\n",
              "    </tr>\n",
              "    <tr>\n",
              "      <th>133</th>\n",
              "      <td>10</td>\n",
              "      <td>Batman Begins</td>\n",
              "      <td>movie</td>\n",
              "      <td>8.2</td>\n",
              "      <td>140.0</td>\n",
              "      <td>2005</td>\n",
              "      <td>1260347</td>\n",
              "      <td>Action, Adventure</td>\n",
              "      <td>Christopher Nolan</td>\n",
              "      <td>140.0</td>\n",
              "    </tr>\n",
              "    <tr>\n",
              "      <th>2</th>\n",
              "      <td>7</td>\n",
              "      <td>The Silence of the Lambs</td>\n",
              "      <td>movie</td>\n",
              "      <td>8.6</td>\n",
              "      <td>118.0</td>\n",
              "      <td>1991</td>\n",
              "      <td>1212480</td>\n",
              "      <td>Crime, Drama, Thriller</td>\n",
              "      <td>Jonathan Demme</td>\n",
              "      <td>118.0</td>\n",
              "    </tr>\n",
              "  </tbody>\n",
              "</table>\n",
              "</div>"
            ],
            "text/plain": [
              "     Your Rating  ... duration\n",
              "13            10  ...    142.0\n",
              "153           10  ...    152.0\n",
              "40            10  ...    139.0\n",
              "12            10  ...    154.0\n",
              "11            10  ...    142.0\n",
              "37             8  ...    136.0\n",
              "32             9  ...    178.0\n",
              "55             9  ...    201.0\n",
              "39            10  ...    164.0\n",
              "56             9  ...    179.0\n",
              "206            9  ...    169.0\n",
              "17             9  ...    127.0\n",
              "64             8  ...    155.0\n",
              "133           10  ...    140.0\n",
              "2              7  ...    118.0\n",
              "\n",
              "[15 rows x 10 columns]"
            ]
          },
          "metadata": {
            "tags": []
          },
          "execution_count": 587
        }
      ]
    },
    {
      "cell_type": "code",
      "metadata": {
        "id": "idxHioOCVJJS",
        "colab_type": "code",
        "colab": {
          "base_uri": "https://localhost:8080/",
          "height": 719
        },
        "outputId": "8640b1eb-7744-4e12-b79d-1e28a195b4f6"
      },
      "source": [
        "fig, ax = plt.subplots(figsize=(10,8))\n",
        "sns.barplot(x='Title', y='Num Votes', data=movie_15, palette=\"PuBuGn_d\")\n",
        "label = list(movie_15['Title'])\n",
        "ax.set_title('most popular films in my library(Num Votes in Million)')\n",
        "_ = ax.set_xticklabels(label, rotation=60, ha=\"right\")\n",
        "from google.colab import files\n",
        "plt.savefig('popularity.pdf')\n",
        "files.download('popularity.pdf')"
      ],
      "execution_count": 599,
      "outputs": [
        {
          "output_type": "display_data",
          "data": {
            "image/png": "[encoded data removed]",
            "text/plain": [
              "<Figure size 720x576 with 1 Axes>"
            ]
          },
          "metadata": {
            "tags": [],
            "needs_background": "light"
          }
        }
      ]
    },
    {
      "cell_type": "code",
      "metadata": {
        "id": "0fNEJIYjVSzd",
        "colab_type": "code",
        "colab": {
          "base_uri": "https://localhost:8080/",
          "height": 34
        },
        "outputId": "d0883103-b896-4be5-eec1-e52e694f3e93"
      },
      "source": [
        "tv = da_[da_['Title Type']=='tvSeries']\n",
        "tv.shape"
      ],
      "execution_count": 602,
      "outputs": [
        {
          "output_type": "execute_result",
          "data": {
            "text/plain": [
              "(44, 10)"
            ]
          },
          "metadata": {
            "tags": []
          },
          "execution_count": 602
        }
      ]
    },
    {
      "cell_type": "code",
      "metadata": {
        "id": "NfaLDiqKXVWE",
        "colab_type": "code",
        "colab": {
          "base_uri": "https://localhost:8080/",
          "height": 104
        },
        "outputId": "4e1e7d79-e506-4001-aa41-73e63f6eb64c"
      },
      "source": [
        "tv.sort_values(by=['Num Votes'],ascending=False,inplace=True)"
      ],
      "execution_count": 603,
      "outputs": [
        {
          "output_type": "stream",
          "text": [
            "/usr/local/lib/python3.6/dist-packages/ipykernel_launcher.py:1: SettingWithCopyWarning: \n",
            "A value is trying to be set on a copy of a slice from a DataFrame\n",
            "\n",
            "See the caveats in the documentation: https://pandas.pydata.org/pandas-docs/stable/user_guide/indexing.html#returning-a-view-versus-a-copy\n",
            "  \"\"\"Entry point for launching an IPython kernel.\n"
          ],
          "name": "stderr"
        }
      ]
    },
    {
      "cell_type": "code",
      "metadata": {
        "id": "21Y3JE1JXm6_",
        "colab_type": "code",
        "colab": {}
      },
      "source": [
        "# Top 15 most popular series in my list\n",
        "tv_15 = tv.head(15)"
      ],
      "execution_count": 0,
      "outputs": []
    },
    {
      "cell_type": "code",
      "metadata": {
        "id": "yeDSEsvJXwab",
        "colab_type": "code",
        "colab": {
          "base_uri": "https://localhost:8080/",
          "height": 598
        },
        "outputId": "25ccd2c6-6ae7-4b88-836b-a6bbdeea1072"
      },
      "source": [
        "fig, ax = plt.subplots(figsize=(10,8))\n",
        "sns.barplot(x='Title', y='Num Votes', data=tv_15, palette=\"PuBuGn_d\")\n",
        "label = list(tv_15['Title'])\n",
        "ax.set_title('most popular Series in my library(Num Votes in Million)')\n",
        "_ = ax.set_xticklabels(label, rotation=60, ha=\"right\")\n",
        "from google.colab import files\n",
        "plt.savefig('popularity_tv.pdf')\n",
        "files.download('popularity_tv.pdf')"
      ],
      "execution_count": 605,
      "outputs": [
        {
          "output_type": "display_data",
          "data": {
            "image/png": "[encoded data removed]",
            "text/plain": [
              "<Figure size 720x576 with 1 Axes>"
            ]
          },
          "metadata": {
            "tags": [],
            "needs_background": "light"
          }
        }
      ]
    },
    {
      "cell_type": "code",
      "metadata": {
        "id": "7wIbw0I_X8NJ",
        "colab_type": "code",
        "colab": {
          "base_uri": "https://localhost:8080/",
          "height": 34
        },
        "outputId": "f953aa0a-60e7-493a-eaf8-51fa896076f8"
      },
      "source": [
        "da_['Title Type'].unique()"
      ],
      "execution_count": 609,
      "outputs": [
        {
          "output_type": "execute_result",
          "data": {
            "text/plain": [
              "array(['movie', 'tvSeries'], dtype=object)"
            ]
          },
          "metadata": {
            "tags": []
          },
          "execution_count": 609
        }
      ]
    },
    {
      "cell_type": "code",
      "metadata": {
        "id": "J280k7FVY5DA",
        "colab_type": "code",
        "colab": {
          "base_uri": "https://localhost:8080/",
          "height": 34
        },
        "outputId": "cfef0ef7-b632-489f-d568-c1fe1cacf29c"
      },
      "source": [
        "da_['IMDb Rating'].corr(da_['Num Votes'])"
      ],
      "execution_count": 610,
      "outputs": [
        {
          "output_type": "execute_result",
          "data": {
            "text/plain": [
              "0.484445854596323"
            ]
          },
          "metadata": {
            "tags": []
          },
          "execution_count": 610
        }
      ]
    },
    {
      "cell_type": "code",
      "metadata": {
        "id": "j-Qs5XogaBnd",
        "colab_type": "code",
        "colab": {
          "base_uri": "https://localhost:8080/",
          "height": 369
        },
        "outputId": "83a78637-8135-45e1-93e4-2fca9e58a2d2"
      },
      "source": [
        "sns.lmplot(x='IMDb Rating', y='Num Votes', data=da_, hue='Title Type')\n",
        "fig = plt.gcf()\n",
        "ax = plt.gca()\n",
        "ax.set_xlim(5,10)\n",
        "fig.set_size_inches(10,5)\n",
        "from google.colab import files\n",
        "plt.savefig('rating vs pop.pdf')\n",
        "files.download('rating vs pop.pdf')"
      ],
      "execution_count": 643,
      "outputs": [
        {
          "output_type": "display_data",
          "data": {
            "image/png": "[encoded data removed]",
            "text/plain": [
              "<Figure size 720x360 with 1 Axes>"
            ]
          },
          "metadata": {
            "tags": [],
            "needs_background": "light"
          }
        }
      ]
    },
    {
      "cell_type": "code",
      "metadata": {
        "id": "hRsBK4LQaSjO",
        "colab_type": "code",
        "colab": {
          "base_uri": "https://localhost:8080/",
          "height": 424
        },
        "outputId": "b90cf489-9301-4159-ad96-98507778d814"
      },
      "source": [
        "da"
      ],
      "execution_count": 644,
      "outputs": [
        {
          "output_type": "execute_result",
          "data": {
            "text/html": [
              "<div>\n",
              "<style scoped>\n",
              "    .dataframe tbody tr th:only-of-type {\n",
              "        vertical-align: middle;\n",
              "    }\n",
              "\n",
              "    .dataframe tbody tr th {\n",
              "        vertical-align: top;\n",
              "    }\n",
              "\n",
              "    .dataframe thead th {\n",
              "        text-align: right;\n",
              "    }\n",
              "</style>\n",
              "<table border=\"1\" class=\"dataframe\">\n",
              "  <thead>\n",
              "    <tr style=\"text-align: right;\">\n",
              "      <th></th>\n",
              "      <th>Your Rating</th>\n",
              "      <th>Title</th>\n",
              "      <th>Title Type</th>\n",
              "      <th>IMDb Rating</th>\n",
              "      <th>Runtime (mins)</th>\n",
              "      <th>Year</th>\n",
              "      <th>Num Votes</th>\n",
              "      <th>Directors</th>\n",
              "      <th>Genres</th>\n",
              "      <th>Rating_jittered</th>\n",
              "      <th>title_type_num</th>\n",
              "    </tr>\n",
              "  </thead>\n",
              "  <tbody>\n",
              "    <tr>\n",
              "      <th>0</th>\n",
              "      <td>10</td>\n",
              "      <td>(500) Days of Summer</td>\n",
              "      <td>movie</td>\n",
              "      <td>7.7</td>\n",
              "      <td>95.0</td>\n",
              "      <td>2009</td>\n",
              "      <td>458965</td>\n",
              "      <td>Marc Webb</td>\n",
              "      <td>Comedy</td>\n",
              "      <td>10.044817</td>\n",
              "      <td>1</td>\n",
              "    </tr>\n",
              "    <tr>\n",
              "      <th>0</th>\n",
              "      <td>10</td>\n",
              "      <td>(500) Days of Summer</td>\n",
              "      <td>movie</td>\n",
              "      <td>7.7</td>\n",
              "      <td>95.0</td>\n",
              "      <td>2009</td>\n",
              "      <td>458965</td>\n",
              "      <td>Marc Webb</td>\n",
              "      <td>Drama</td>\n",
              "      <td>10.252713</td>\n",
              "      <td>1</td>\n",
              "    </tr>\n",
              "    <tr>\n",
              "      <th>0</th>\n",
              "      <td>10</td>\n",
              "      <td>(500) Days of Summer</td>\n",
              "      <td>movie</td>\n",
              "      <td>7.7</td>\n",
              "      <td>95.0</td>\n",
              "      <td>2009</td>\n",
              "      <td>458965</td>\n",
              "      <td>Marc Webb</td>\n",
              "      <td>Romance</td>\n",
              "      <td>10.075484</td>\n",
              "      <td>1</td>\n",
              "    </tr>\n",
              "    <tr>\n",
              "      <th>1</th>\n",
              "      <td>9</td>\n",
              "      <td>Argo</td>\n",
              "      <td>movie</td>\n",
              "      <td>7.7</td>\n",
              "      <td>120.0</td>\n",
              "      <td>2012</td>\n",
              "      <td>557346</td>\n",
              "      <td>Ben Affleck</td>\n",
              "      <td>Biography</td>\n",
              "      <td>9.288814</td>\n",
              "      <td>1</td>\n",
              "    </tr>\n",
              "    <tr>\n",
              "      <th>1</th>\n",
              "      <td>9</td>\n",
              "      <td>Argo</td>\n",
              "      <td>movie</td>\n",
              "      <td>7.7</td>\n",
              "      <td>120.0</td>\n",
              "      <td>2012</td>\n",
              "      <td>557346</td>\n",
              "      <td>Ben Affleck</td>\n",
              "      <td>Drama</td>\n",
              "      <td>9.093444</td>\n",
              "      <td>1</td>\n",
              "    </tr>\n",
              "    <tr>\n",
              "      <th>...</th>\n",
              "      <td>...</td>\n",
              "      <td>...</td>\n",
              "      <td>...</td>\n",
              "      <td>...</td>\n",
              "      <td>...</td>\n",
              "      <td>...</td>\n",
              "      <td>...</td>\n",
              "      <td>...</td>\n",
              "      <td>...</td>\n",
              "      <td>...</td>\n",
              "      <td>...</td>\n",
              "    </tr>\n",
              "    <tr>\n",
              "      <th>226</th>\n",
              "      <td>10</td>\n",
              "      <td>The Wolf of Wall Street</td>\n",
              "      <td>movie</td>\n",
              "      <td>8.2</td>\n",
              "      <td>180.0</td>\n",
              "      <td>2013</td>\n",
              "      <td>1115426</td>\n",
              "      <td>Martin Scorsese</td>\n",
              "      <td>Crime</td>\n",
              "      <td>10.223088</td>\n",
              "      <td>1</td>\n",
              "    </tr>\n",
              "    <tr>\n",
              "      <th>226</th>\n",
              "      <td>10</td>\n",
              "      <td>The Wolf of Wall Street</td>\n",
              "      <td>movie</td>\n",
              "      <td>8.2</td>\n",
              "      <td>180.0</td>\n",
              "      <td>2013</td>\n",
              "      <td>1115426</td>\n",
              "      <td>Martin Scorsese</td>\n",
              "      <td>Drama</td>\n",
              "      <td>10.253238</td>\n",
              "      <td>1</td>\n",
              "    </tr>\n",
              "    <tr>\n",
              "      <th>227</th>\n",
              "      <td>8</td>\n",
              "      <td>Goodfellas</td>\n",
              "      <td>movie</td>\n",
              "      <td>8.7</td>\n",
              "      <td>146.0</td>\n",
              "      <td>1990</td>\n",
              "      <td>973996</td>\n",
              "      <td>Martin Scorsese</td>\n",
              "      <td>Biography</td>\n",
              "      <td>8.158846</td>\n",
              "      <td>1</td>\n",
              "    </tr>\n",
              "    <tr>\n",
              "      <th>227</th>\n",
              "      <td>8</td>\n",
              "      <td>Goodfellas</td>\n",
              "      <td>movie</td>\n",
              "      <td>8.7</td>\n",
              "      <td>146.0</td>\n",
              "      <td>1990</td>\n",
              "      <td>973996</td>\n",
              "      <td>Martin Scorsese</td>\n",
              "      <td>Crime</td>\n",
              "      <td>8.043110</td>\n",
              "      <td>1</td>\n",
              "    </tr>\n",
              "    <tr>\n",
              "      <th>227</th>\n",
              "      <td>8</td>\n",
              "      <td>Goodfellas</td>\n",
              "      <td>movie</td>\n",
              "      <td>8.7</td>\n",
              "      <td>146.0</td>\n",
              "      <td>1990</td>\n",
              "      <td>973996</td>\n",
              "      <td>Martin Scorsese</td>\n",
              "      <td>Drama</td>\n",
              "      <td>8.023327</td>\n",
              "      <td>1</td>\n",
              "    </tr>\n",
              "  </tbody>\n",
              "</table>\n",
              "<p>673 rows × 11 columns</p>\n",
              "</div>"
            ],
            "text/plain": [
              "     Your Rating                    Title  ... Rating_jittered  title_type_num\n",
              "0             10     (500) Days of Summer  ...       10.044817               1\n",
              "0             10     (500) Days of Summer  ...       10.252713               1\n",
              "0             10     (500) Days of Summer  ...       10.075484               1\n",
              "1              9                     Argo  ...        9.288814               1\n",
              "1              9                     Argo  ...        9.093444               1\n",
              "..           ...                      ...  ...             ...             ...\n",
              "226           10  The Wolf of Wall Street  ...       10.223088               1\n",
              "226           10  The Wolf of Wall Street  ...       10.253238               1\n",
              "227            8               Goodfellas  ...        8.158846               1\n",
              "227            8               Goodfellas  ...        8.043110               1\n",
              "227            8               Goodfellas  ...        8.023327               1\n",
              "\n",
              "[673 rows x 11 columns]"
            ]
          },
          "metadata": {
            "tags": []
          },
          "execution_count": 644
        }
      ]
    },
    {
      "cell_type": "code",
      "metadata": {
        "id": "ni10zG6NfFkA",
        "colab_type": "code",
        "colab": {
          "base_uri": "https://localhost:8080/",
          "height": 424
        },
        "outputId": "79cffa7a-e867-41bf-d076-2c85be1e0bb6"
      },
      "source": [
        "da_"
      ],
      "execution_count": 651,
      "outputs": [
        {
          "output_type": "execute_result",
          "data": {
            "text/html": [
              "<div>\n",
              "<style scoped>\n",
              "    .dataframe tbody tr th:only-of-type {\n",
              "        vertical-align: middle;\n",
              "    }\n",
              "\n",
              "    .dataframe tbody tr th {\n",
              "        vertical-align: top;\n",
              "    }\n",
              "\n",
              "    .dataframe thead th {\n",
              "        text-align: right;\n",
              "    }\n",
              "</style>\n",
              "<table border=\"1\" class=\"dataframe\">\n",
              "  <thead>\n",
              "    <tr style=\"text-align: right;\">\n",
              "      <th></th>\n",
              "      <th>Your Rating</th>\n",
              "      <th>Title</th>\n",
              "      <th>Title Type</th>\n",
              "      <th>IMDb Rating</th>\n",
              "      <th>Runtime (mins)</th>\n",
              "      <th>Year</th>\n",
              "      <th>Num Votes</th>\n",
              "      <th>Genres</th>\n",
              "      <th>Directors</th>\n",
              "      <th>duration</th>\n",
              "      <th>Rating_jittered</th>\n",
              "      <th>title_type_num</th>\n",
              "    </tr>\n",
              "  </thead>\n",
              "  <tbody>\n",
              "    <tr>\n",
              "      <th>0</th>\n",
              "      <td>10</td>\n",
              "      <td>(500) Days of Summer</td>\n",
              "      <td>movie</td>\n",
              "      <td>7.7</td>\n",
              "      <td>95.0</td>\n",
              "      <td>2009</td>\n",
              "      <td>458965</td>\n",
              "      <td>Comedy, Drama, Romance</td>\n",
              "      <td>Marc Webb</td>\n",
              "      <td>95.0</td>\n",
              "      <td>10.119750</td>\n",
              "      <td>1</td>\n",
              "    </tr>\n",
              "    <tr>\n",
              "      <th>1</th>\n",
              "      <td>9</td>\n",
              "      <td>Argo</td>\n",
              "      <td>movie</td>\n",
              "      <td>7.7</td>\n",
              "      <td>120.0</td>\n",
              "      <td>2012</td>\n",
              "      <td>557346</td>\n",
              "      <td>Biography, Drama, Thriller</td>\n",
              "      <td>Ben Affleck</td>\n",
              "      <td>120.0</td>\n",
              "      <td>9.132510</td>\n",
              "      <td>1</td>\n",
              "    </tr>\n",
              "    <tr>\n",
              "      <th>2</th>\n",
              "      <td>7</td>\n",
              "      <td>The Silence of the Lambs</td>\n",
              "      <td>movie</td>\n",
              "      <td>8.6</td>\n",
              "      <td>118.0</td>\n",
              "      <td>1991</td>\n",
              "      <td>1212480</td>\n",
              "      <td>Crime, Drama, Thriller</td>\n",
              "      <td>Jonathan Demme</td>\n",
              "      <td>118.0</td>\n",
              "      <td>7.118807</td>\n",
              "      <td>1</td>\n",
              "    </tr>\n",
              "    <tr>\n",
              "      <th>3</th>\n",
              "      <td>10</td>\n",
              "      <td>Alias Grace</td>\n",
              "      <td>tvSeries</td>\n",
              "      <td>7.8</td>\n",
              "      <td>60.0</td>\n",
              "      <td>2017</td>\n",
              "      <td>22390</td>\n",
              "      <td>Biography, Crime, Drama, Thriller</td>\n",
              "      <td>NaN</td>\n",
              "      <td>60.0</td>\n",
              "      <td>10.007770</td>\n",
              "      <td>2</td>\n",
              "    </tr>\n",
              "    <tr>\n",
              "      <th>5</th>\n",
              "      <td>10</td>\n",
              "      <td>Silver Linings Playbook</td>\n",
              "      <td>movie</td>\n",
              "      <td>7.7</td>\n",
              "      <td>122.0</td>\n",
              "      <td>2012</td>\n",
              "      <td>644436</td>\n",
              "      <td>Comedy, Drama, Romance</td>\n",
              "      <td>David O. Russell</td>\n",
              "      <td>122.0</td>\n",
              "      <td>10.244290</td>\n",
              "      <td>1</td>\n",
              "    </tr>\n",
              "    <tr>\n",
              "      <th>...</th>\n",
              "      <td>...</td>\n",
              "      <td>...</td>\n",
              "      <td>...</td>\n",
              "      <td>...</td>\n",
              "      <td>...</td>\n",
              "      <td>...</td>\n",
              "      <td>...</td>\n",
              "      <td>...</td>\n",
              "      <td>...</td>\n",
              "      <td>...</td>\n",
              "      <td>...</td>\n",
              "      <td>...</td>\n",
              "    </tr>\n",
              "    <tr>\n",
              "      <th>223</th>\n",
              "      <td>10</td>\n",
              "      <td>J'ai perdu mon corps</td>\n",
              "      <td>movie</td>\n",
              "      <td>7.6</td>\n",
              "      <td>81.0</td>\n",
              "      <td>2019</td>\n",
              "      <td>21209</td>\n",
              "      <td>Animation, Drama, Fantasy, Romance</td>\n",
              "      <td>Jérémy Clapin</td>\n",
              "      <td>81.0</td>\n",
              "      <td>10.208553</td>\n",
              "      <td>1</td>\n",
              "    </tr>\n",
              "    <tr>\n",
              "      <th>224</th>\n",
              "      <td>9</td>\n",
              "      <td>Taare Zameen Par</td>\n",
              "      <td>movie</td>\n",
              "      <td>8.4</td>\n",
              "      <td>165.0</td>\n",
              "      <td>2007</td>\n",
              "      <td>156833</td>\n",
              "      <td>Drama, Family</td>\n",
              "      <td>Aamir Khan, Amole Gupte</td>\n",
              "      <td>165.0</td>\n",
              "      <td>9.125402</td>\n",
              "      <td>1</td>\n",
              "    </tr>\n",
              "    <tr>\n",
              "      <th>225</th>\n",
              "      <td>10</td>\n",
              "      <td>Seinfeld</td>\n",
              "      <td>tvSeries</td>\n",
              "      <td>8.8</td>\n",
              "      <td>22.0</td>\n",
              "      <td>1989</td>\n",
              "      <td>241558</td>\n",
              "      <td>Comedy</td>\n",
              "      <td>NaN</td>\n",
              "      <td>22.0</td>\n",
              "      <td>10.233535</td>\n",
              "      <td>2</td>\n",
              "    </tr>\n",
              "    <tr>\n",
              "      <th>226</th>\n",
              "      <td>10</td>\n",
              "      <td>The Wolf of Wall Street</td>\n",
              "      <td>movie</td>\n",
              "      <td>8.2</td>\n",
              "      <td>180.0</td>\n",
              "      <td>2013</td>\n",
              "      <td>1115426</td>\n",
              "      <td>Biography, Crime, Drama</td>\n",
              "      <td>Martin Scorsese</td>\n",
              "      <td>180.0</td>\n",
              "      <td>10.005928</td>\n",
              "      <td>1</td>\n",
              "    </tr>\n",
              "    <tr>\n",
              "      <th>227</th>\n",
              "      <td>8</td>\n",
              "      <td>Goodfellas</td>\n",
              "      <td>movie</td>\n",
              "      <td>8.7</td>\n",
              "      <td>146.0</td>\n",
              "      <td>1990</td>\n",
              "      <td>973996</td>\n",
              "      <td>Biography, Crime, Drama</td>\n",
              "      <td>Martin Scorsese</td>\n",
              "      <td>146.0</td>\n",
              "      <td>8.046147</td>\n",
              "      <td>1</td>\n",
              "    </tr>\n",
              "  </tbody>\n",
              "</table>\n",
              "<p>225 rows × 12 columns</p>\n",
              "</div>"
            ],
            "text/plain": [
              "     Your Rating                     Title  ... Rating_jittered  title_type_num\n",
              "0             10      (500) Days of Summer  ...       10.119750               1\n",
              "1              9                      Argo  ...        9.132510               1\n",
              "2              7  The Silence of the Lambs  ...        7.118807               1\n",
              "3             10               Alias Grace  ...       10.007770               2\n",
              "5             10   Silver Linings Playbook  ...       10.244290               1\n",
              "..           ...                       ...  ...             ...             ...\n",
              "223           10      J'ai perdu mon corps  ...       10.208553               1\n",
              "224            9          Taare Zameen Par  ...        9.125402               1\n",
              "225           10                  Seinfeld  ...       10.233535               2\n",
              "226           10   The Wolf of Wall Street  ...       10.005928               1\n",
              "227            8                Goodfellas  ...        8.046147               1\n",
              "\n",
              "[225 rows x 12 columns]"
            ]
          },
          "metadata": {
            "tags": []
          },
          "execution_count": 651
        }
      ]
    },
    {
      "cell_type": "code",
      "metadata": {
        "id": "7CZCrn3kgGzX",
        "colab_type": "code",
        "colab": {}
      },
      "source": [
        ""
      ],
      "execution_count": 0,
      "outputs": []
    },
    {
      "cell_type": "code",
      "metadata": {
        "id": "2PeEW6LEg75v",
        "colab_type": "code",
        "colab": {}
      },
      "source": [
        ""
      ],
      "execution_count": 0,
      "outputs": []
    }
  ]
}