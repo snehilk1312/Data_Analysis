{
  "nbformat": 4,
  "nbformat_minor": 0,
  "metadata": {
    "colab": {
      "name": "tarantino.ipynb",
      "provenance": [],
      "collapsed_sections": []
    },
    "kernelspec": {
      "name": "python3",
      "display_name": "Python 3"
    }
  },
  "cells": [
    {
      "cell_type": "code",
      "metadata": {
        "id": "7WXzwcw1Z7ty",
        "colab_type": "code",
        "colab": {}
      },
      "source": [
        "import pandas as pd\n",
        "import numpy as np\n",
        "import seaborn as sns\n",
        "import matplotlib.pyplot as plt\n",
        "%matplotlib inline"
      ],
      "execution_count": 0,
      "outputs": []
    },
    {
      "cell_type": "code",
      "metadata": {
        "id": "lJvcs7iWdpYC",
        "colab_type": "code",
        "outputId": "1de64749-83fd-466f-c4b1-4741f28483a4",
        "colab": {
          "base_uri": "https://localhost:8080/",
          "height": 206
        }
      },
      "source": [
        "da = pd.read_csv('/content/tarantino.csv')\n",
        "da.head()"
      ],
      "execution_count": 465,
      "outputs": [
        {
          "output_type": "execute_result",
          "data": {
            "text/html": [
              "<div>\n",
              "<style scoped>\n",
              "    .dataframe tbody tr th:only-of-type {\n",
              "        vertical-align: middle;\n",
              "    }\n",
              "\n",
              "    .dataframe tbody tr th {\n",
              "        vertical-align: top;\n",
              "    }\n",
              "\n",
              "    .dataframe thead th {\n",
              "        text-align: right;\n",
              "    }\n",
              "</style>\n",
              "<table border=\"1\" class=\"dataframe\">\n",
              "  <thead>\n",
              "    <tr style=\"text-align: right;\">\n",
              "      <th></th>\n",
              "      <th>movie</th>\n",
              "      <th>type</th>\n",
              "      <th>word</th>\n",
              "      <th>minutes_in</th>\n",
              "    </tr>\n",
              "  </thead>\n",
              "  <tbody>\n",
              "    <tr>\n",
              "      <th>0</th>\n",
              "      <td>Reservoir Dogs</td>\n",
              "      <td>word</td>\n",
              "      <td>dick</td>\n",
              "      <td>0.40</td>\n",
              "    </tr>\n",
              "    <tr>\n",
              "      <th>1</th>\n",
              "      <td>Reservoir Dogs</td>\n",
              "      <td>word</td>\n",
              "      <td>dicks</td>\n",
              "      <td>0.43</td>\n",
              "    </tr>\n",
              "    <tr>\n",
              "      <th>2</th>\n",
              "      <td>Reservoir Dogs</td>\n",
              "      <td>word</td>\n",
              "      <td>fucked</td>\n",
              "      <td>0.55</td>\n",
              "    </tr>\n",
              "    <tr>\n",
              "      <th>3</th>\n",
              "      <td>Reservoir Dogs</td>\n",
              "      <td>word</td>\n",
              "      <td>fucking</td>\n",
              "      <td>0.61</td>\n",
              "    </tr>\n",
              "    <tr>\n",
              "      <th>4</th>\n",
              "      <td>Reservoir Dogs</td>\n",
              "      <td>word</td>\n",
              "      <td>bullshit</td>\n",
              "      <td>0.61</td>\n",
              "    </tr>\n",
              "  </tbody>\n",
              "</table>\n",
              "</div>"
            ],
            "text/plain": [
              "            movie  type      word  minutes_in\n",
              "0  Reservoir Dogs  word      dick        0.40\n",
              "1  Reservoir Dogs  word     dicks        0.43\n",
              "2  Reservoir Dogs  word    fucked        0.55\n",
              "3  Reservoir Dogs  word   fucking        0.61\n",
              "4  Reservoir Dogs  word  bullshit        0.61"
            ]
          },
          "metadata": {
            "tags": []
          },
          "execution_count": 465
        }
      ]
    },
    {
      "cell_type": "code",
      "metadata": {
        "id": "2HJR5mhpdy6y",
        "colab_type": "code",
        "outputId": "976558dc-42f5-451a-9a6f-76972e9773b8",
        "colab": {
          "base_uri": "https://localhost:8080/",
          "height": 424
        }
      },
      "source": [
        "df=da[da['type']=='death']\n",
        "df"
      ],
      "execution_count": 466,
      "outputs": [
        {
          "output_type": "execute_result",
          "data": {
            "text/html": [
              "<div>\n",
              "<style scoped>\n",
              "    .dataframe tbody tr th:only-of-type {\n",
              "        vertical-align: middle;\n",
              "    }\n",
              "\n",
              "    .dataframe tbody tr th {\n",
              "        vertical-align: top;\n",
              "    }\n",
              "\n",
              "    .dataframe thead th {\n",
              "        text-align: right;\n",
              "    }\n",
              "</style>\n",
              "<table border=\"1\" class=\"dataframe\">\n",
              "  <thead>\n",
              "    <tr style=\"text-align: right;\">\n",
              "      <th></th>\n",
              "      <th>movie</th>\n",
              "      <th>type</th>\n",
              "      <th>word</th>\n",
              "      <th>minutes_in</th>\n",
              "    </tr>\n",
              "  </thead>\n",
              "  <tbody>\n",
              "    <tr>\n",
              "      <th>268</th>\n",
              "      <td>Reservoir Dogs</td>\n",
              "      <td>death</td>\n",
              "      <td>NaN</td>\n",
              "      <td>59.93</td>\n",
              "    </tr>\n",
              "    <tr>\n",
              "      <th>385</th>\n",
              "      <td>Reservoir Dogs</td>\n",
              "      <td>death</td>\n",
              "      <td>NaN</td>\n",
              "      <td>85.58</td>\n",
              "    </tr>\n",
              "    <tr>\n",
              "      <th>386</th>\n",
              "      <td>Reservoir Dogs</td>\n",
              "      <td>death</td>\n",
              "      <td>NaN</td>\n",
              "      <td>85.58</td>\n",
              "    </tr>\n",
              "    <tr>\n",
              "      <th>387</th>\n",
              "      <td>Reservoir Dogs</td>\n",
              "      <td>death</td>\n",
              "      <td>NaN</td>\n",
              "      <td>85.81</td>\n",
              "    </tr>\n",
              "    <tr>\n",
              "      <th>389</th>\n",
              "      <td>Reservoir Dogs</td>\n",
              "      <td>death</td>\n",
              "      <td>NaN</td>\n",
              "      <td>86.55</td>\n",
              "    </tr>\n",
              "    <tr>\n",
              "      <th>...</th>\n",
              "      <td>...</td>\n",
              "      <td>...</td>\n",
              "      <td>...</td>\n",
              "      <td>...</td>\n",
              "    </tr>\n",
              "    <tr>\n",
              "      <th>1521</th>\n",
              "      <td>Django Unchained</td>\n",
              "      <td>death</td>\n",
              "      <td>NaN</td>\n",
              "      <td>160.45</td>\n",
              "    </tr>\n",
              "    <tr>\n",
              "      <th>1625</th>\n",
              "      <td>Jackie Brown</td>\n",
              "      <td>death</td>\n",
              "      <td>NaN</td>\n",
              "      <td>23.08</td>\n",
              "    </tr>\n",
              "    <tr>\n",
              "      <th>1807</th>\n",
              "      <td>Jackie Brown</td>\n",
              "      <td>death</td>\n",
              "      <td>NaN</td>\n",
              "      <td>113.28</td>\n",
              "    </tr>\n",
              "    <tr>\n",
              "      <th>1840</th>\n",
              "      <td>Jackie Brown</td>\n",
              "      <td>death</td>\n",
              "      <td>NaN</td>\n",
              "      <td>125.43</td>\n",
              "    </tr>\n",
              "    <tr>\n",
              "      <th>1893</th>\n",
              "      <td>Jackie Brown</td>\n",
              "      <td>death</td>\n",
              "      <td>NaN</td>\n",
              "      <td>143.13</td>\n",
              "    </tr>\n",
              "  </tbody>\n",
              "</table>\n",
              "<p>190 rows × 4 columns</p>\n",
              "</div>"
            ],
            "text/plain": [
              "                 movie   type word  minutes_in\n",
              "268     Reservoir Dogs  death  NaN       59.93\n",
              "385     Reservoir Dogs  death  NaN       85.58\n",
              "386     Reservoir Dogs  death  NaN       85.58\n",
              "387     Reservoir Dogs  death  NaN       85.81\n",
              "389     Reservoir Dogs  death  NaN       86.55\n",
              "...                ...    ...  ...         ...\n",
              "1521  Django Unchained  death  NaN      160.45\n",
              "1625      Jackie Brown  death  NaN       23.08\n",
              "1807      Jackie Brown  death  NaN      113.28\n",
              "1840      Jackie Brown  death  NaN      125.43\n",
              "1893      Jackie Brown  death  NaN      143.13\n",
              "\n",
              "[190 rows x 4 columns]"
            ]
          },
          "metadata": {
            "tags": []
          },
          "execution_count": 466
        }
      ]
    },
    {
      "cell_type": "code",
      "metadata": {
        "id": "hsNWnG59d4au",
        "colab_type": "code",
        "outputId": "9e8a865a-7e8c-4a08-8c0e-cbcc362ed81f",
        "colab": {
          "base_uri": "https://localhost:8080/",
          "height": 208
        }
      },
      "source": [
        "da['word'].unique()"
      ],
      "execution_count": 467,
      "outputs": [
        {
          "output_type": "execute_result",
          "data": {
            "text/plain": [
              "array(['dick', 'dicks', 'fucked', 'fucking', 'bullshit', 'fuck', 'shit',\n",
              "       'motherfucker', 'pussy', 'fucks', 'hell', 'jap', 'bastard',\n",
              "       'goddamn', 'motherfuckers', 'asshole', 'ass', 'assholes',\n",
              "       'n-word ', 'asses', 'bitch', 'fuckup', 'fucker', 'shitty',\n",
              "       'asshead', 'damn', nan, 'damned', 'bitches', 'wetback', 'faggot',\n",
              "       'cocksucker', 'gook', 'fuckers', 'gooks', 'motherfucking',\n",
              "       'dickless', 'chickenshit', 'slope', 'fuckhead', 'merde',\n",
              "       'shithead', 'cunt', 'cunts', 'fuckface', 'cockblockery', 'japs',\n",
              "       'jew (verb)', 'bastards', 'horeshit', 'shitless', 'shitting',\n",
              "       'negro ', 'squaw', 'slut', 'goddamned', 'jackass', 'horseshit',\n",
              "       'shittiest', 'shitload', 'dumbass'], dtype=object)"
            ]
          },
          "metadata": {
            "tags": []
          },
          "execution_count": 467
        }
      ]
    },
    {
      "cell_type": "code",
      "metadata": {
        "id": "jggIrhjMrYwT",
        "colab_type": "code",
        "outputId": "71b97873-7e2a-494e-9495-54eebf813bab",
        "colab": {
          "base_uri": "https://localhost:8080/",
          "height": 52
        }
      },
      "source": [
        "new_df = da[da['word'].str.contains('(fuck)', regex= True, na=False)]\n",
        "da=da[da['word'].str.contains('(fuck)', regex= True, na=False)!=True]\n",
        "\n",
        "new_df1 = da[da['word'].str.contains('(dick)', regex= True, na=False)]\n",
        "da=da[da['word'].str.contains('(dick)', regex= True, na=False)!=True]\n",
        "\n",
        "new_df2 = da[da['word'].str.contains('(cunt)', regex= True, na=False)]\n",
        "da=da[da['word'].str.contains('(cunt)', regex= True, na=False)!=True]\n",
        "\n",
        "new_df3 = da[da['word'].str.contains('(ass)', regex= True, na=False)]\n",
        "da=da[da['word'].str.contains('(ass)', regex= True, na=False)!=True]\n",
        "\n",
        "new_df4 = da[da['word'].str.contains('(shit)', regex= True, na=False)]\n",
        "da=da[da['word'].str.contains('(shit)', regex= True, na=False)!=True]\n",
        "\n",
        "new_df5 = da[da['word'].str.contains('(bitch)', regex= True, na=False)]\n",
        "da=da[da['word'].str.contains('(bitch)', regex= True, na=False)!=True]\n",
        "\n",
        "new_df6 = da[da['word'].str.contains('(gook)', regex= True, na=False)]\n",
        "da=da[da['word'].str.contains('(gook)', regex= True, na=False)!=True]\n",
        "\n",
        "new_df7 = da[da['word'].str.contains('(damn)', regex= True, na=False)]\n",
        "da=da[da['word'].str.contains('(damn)', regex= True, na=False)!=True]\n",
        "\n",
        "new_df8 = da[da['word'].str.contains('(jap)', regex= True, na=False)]\n",
        "da=da[da['word'].str.contains('(jap)', regex= True, na=False)!=True]\n",
        "\n",
        "new_df9 = da[da['word'].str.contains('(cock)', regex= True, na=False)]\n",
        "da=da[da['word'].str.contains('(cock)', regex= True, na=False)!=True]\n"
      ],
      "execution_count": 468,
      "outputs": [
        {
          "output_type": "stream",
          "text": [
            "/usr/local/lib/python3.6/dist-packages/pandas/core/strings.py:1954: UserWarning: This pattern has match groups. To actually get the groups, use str.extract.\n",
            "  return func(self, *args, **kwargs)\n"
          ],
          "name": "stderr"
        }
      ]
    },
    {
      "cell_type": "code",
      "metadata": {
        "id": "A9dWQnhAoxaY",
        "colab_type": "code",
        "colab": {}
      },
      "source": [
        "new_df['swear']='fuck'\n",
        "new_df1['swear']='dick'\n",
        "new_df2['swear']='cunt'\n",
        "new_df3['swear']='ass'\n",
        "new_df4['swear']='shit'\n",
        "new_df5['swear']='bitch'\n",
        "new_df6['swear']='gook'\n",
        "new_df7['swear']='damn'\n",
        "new_df8['swear']='jap'\n",
        "new_df9['swear']='cock'\n",
        "da['swear']=da['word']"
      ],
      "execution_count": 0,
      "outputs": []
    },
    {
      "cell_type": "code",
      "metadata": {
        "id": "MLoqWvi4pI7B",
        "colab_type": "code",
        "outputId": "be249d23-c41f-4782-dba9-088f30e24240",
        "colab": {
          "base_uri": "https://localhost:8080/",
          "height": 206
        }
      },
      "source": [
        "data = pd.concat([da, new_df,new_df1,new_df2,new_df3,new_df4,new_df5,new_df6,new_df7,new_df8,new_df9], ignore_index=True, sort =False)\n",
        "data.head()"
      ],
      "execution_count": 470,
      "outputs": [
        {
          "output_type": "execute_result",
          "data": {
            "text/html": [
              "<div>\n",
              "<style scoped>\n",
              "    .dataframe tbody tr th:only-of-type {\n",
              "        vertical-align: middle;\n",
              "    }\n",
              "\n",
              "    .dataframe tbody tr th {\n",
              "        vertical-align: top;\n",
              "    }\n",
              "\n",
              "    .dataframe thead th {\n",
              "        text-align: right;\n",
              "    }\n",
              "</style>\n",
              "<table border=\"1\" class=\"dataframe\">\n",
              "  <thead>\n",
              "    <tr style=\"text-align: right;\">\n",
              "      <th></th>\n",
              "      <th>movie</th>\n",
              "      <th>type</th>\n",
              "      <th>word</th>\n",
              "      <th>minutes_in</th>\n",
              "      <th>swear</th>\n",
              "    </tr>\n",
              "  </thead>\n",
              "  <tbody>\n",
              "    <tr>\n",
              "      <th>0</th>\n",
              "      <td>Reservoir Dogs</td>\n",
              "      <td>word</td>\n",
              "      <td>pussy</td>\n",
              "      <td>2.15</td>\n",
              "      <td>pussy</td>\n",
              "    </tr>\n",
              "    <tr>\n",
              "      <th>1</th>\n",
              "      <td>Reservoir Dogs</td>\n",
              "      <td>word</td>\n",
              "      <td>hell</td>\n",
              "      <td>2.48</td>\n",
              "      <td>hell</td>\n",
              "    </tr>\n",
              "    <tr>\n",
              "      <th>2</th>\n",
              "      <td>Reservoir Dogs</td>\n",
              "      <td>word</td>\n",
              "      <td>bastard</td>\n",
              "      <td>7.38</td>\n",
              "      <td>bastard</td>\n",
              "    </tr>\n",
              "    <tr>\n",
              "      <th>3</th>\n",
              "      <td>Reservoir Dogs</td>\n",
              "      <td>word</td>\n",
              "      <td>hell</td>\n",
              "      <td>27.21</td>\n",
              "      <td>hell</td>\n",
              "    </tr>\n",
              "    <tr>\n",
              "      <th>4</th>\n",
              "      <td>Reservoir Dogs</td>\n",
              "      <td>word</td>\n",
              "      <td>hell</td>\n",
              "      <td>29.18</td>\n",
              "      <td>hell</td>\n",
              "    </tr>\n",
              "  </tbody>\n",
              "</table>\n",
              "</div>"
            ],
            "text/plain": [
              "            movie  type     word  minutes_in    swear\n",
              "0  Reservoir Dogs  word    pussy        2.15    pussy\n",
              "1  Reservoir Dogs  word     hell        2.48     hell\n",
              "2  Reservoir Dogs  word  bastard        7.38  bastard\n",
              "3  Reservoir Dogs  word     hell       27.21     hell\n",
              "4  Reservoir Dogs  word     hell       29.18     hell"
            ]
          },
          "metadata": {
            "tags": []
          },
          "execution_count": 470
        }
      ]
    },
    {
      "cell_type": "code",
      "metadata": {
        "id": "I0nsmCS6rHrq",
        "colab_type": "code",
        "outputId": "7f287272-f324-4862-da9a-a2b8d0ca9a27",
        "colab": {
          "base_uri": "https://localhost:8080/",
          "height": 34
        }
      },
      "source": [
        "data['swear'].unique()\n",
        "len(data)"
      ],
      "execution_count": 471,
      "outputs": [
        {
          "output_type": "execute_result",
          "data": {
            "text/plain": [
              "1894"
            ]
          },
          "metadata": {
            "tags": []
          },
          "execution_count": 471
        }
      ]
    },
    {
      "cell_type": "code",
      "metadata": {
        "id": "rWFhQHR-tCsC",
        "colab_type": "code",
        "colab": {}
      },
      "source": [
        "data[\"time_in\"] = pd.cut(data.minutes_in, [10*i for i in range(18)])"
      ],
      "execution_count": 0,
      "outputs": []
    },
    {
      "cell_type": "code",
      "metadata": {
        "id": "ntuBKiuvtGeh",
        "colab_type": "code",
        "outputId": "f4afb38c-8098-4643-afb5-7b848f5a3fe9",
        "colab": {
          "base_uri": "https://localhost:8080/",
          "height": 424
        }
      },
      "source": [
        "data"
      ],
      "execution_count": 473,
      "outputs": [
        {
          "output_type": "execute_result",
          "data": {
            "text/html": [
              "<div>\n",
              "<style scoped>\n",
              "    .dataframe tbody tr th:only-of-type {\n",
              "        vertical-align: middle;\n",
              "    }\n",
              "\n",
              "    .dataframe tbody tr th {\n",
              "        vertical-align: top;\n",
              "    }\n",
              "\n",
              "    .dataframe thead th {\n",
              "        text-align: right;\n",
              "    }\n",
              "</style>\n",
              "<table border=\"1\" class=\"dataframe\">\n",
              "  <thead>\n",
              "    <tr style=\"text-align: right;\">\n",
              "      <th></th>\n",
              "      <th>movie</th>\n",
              "      <th>type</th>\n",
              "      <th>word</th>\n",
              "      <th>minutes_in</th>\n",
              "      <th>swear</th>\n",
              "      <th>time_in</th>\n",
              "    </tr>\n",
              "  </thead>\n",
              "  <tbody>\n",
              "    <tr>\n",
              "      <th>0</th>\n",
              "      <td>Reservoir Dogs</td>\n",
              "      <td>word</td>\n",
              "      <td>pussy</td>\n",
              "      <td>2.15</td>\n",
              "      <td>pussy</td>\n",
              "      <td>(0, 10]</td>\n",
              "    </tr>\n",
              "    <tr>\n",
              "      <th>1</th>\n",
              "      <td>Reservoir Dogs</td>\n",
              "      <td>word</td>\n",
              "      <td>hell</td>\n",
              "      <td>2.48</td>\n",
              "      <td>hell</td>\n",
              "      <td>(0, 10]</td>\n",
              "    </tr>\n",
              "    <tr>\n",
              "      <th>2</th>\n",
              "      <td>Reservoir Dogs</td>\n",
              "      <td>word</td>\n",
              "      <td>bastard</td>\n",
              "      <td>7.38</td>\n",
              "      <td>bastard</td>\n",
              "      <td>(0, 10]</td>\n",
              "    </tr>\n",
              "    <tr>\n",
              "      <th>3</th>\n",
              "      <td>Reservoir Dogs</td>\n",
              "      <td>word</td>\n",
              "      <td>hell</td>\n",
              "      <td>27.21</td>\n",
              "      <td>hell</td>\n",
              "      <td>(20, 30]</td>\n",
              "    </tr>\n",
              "    <tr>\n",
              "      <th>4</th>\n",
              "      <td>Reservoir Dogs</td>\n",
              "      <td>word</td>\n",
              "      <td>hell</td>\n",
              "      <td>29.18</td>\n",
              "      <td>hell</td>\n",
              "      <td>(20, 30]</td>\n",
              "    </tr>\n",
              "    <tr>\n",
              "      <th>...</th>\n",
              "      <td>...</td>\n",
              "      <td>...</td>\n",
              "      <td>...</td>\n",
              "      <td>...</td>\n",
              "      <td>...</td>\n",
              "      <td>...</td>\n",
              "    </tr>\n",
              "    <tr>\n",
              "      <th>1889</th>\n",
              "      <td>Kill Bill: Vol. 2</td>\n",
              "      <td>word</td>\n",
              "      <td>japs</td>\n",
              "      <td>15.53</td>\n",
              "      <td>jap</td>\n",
              "      <td>(10, 20]</td>\n",
              "    </tr>\n",
              "    <tr>\n",
              "      <th>1890</th>\n",
              "      <td>Kill Bill: Vol. 2</td>\n",
              "      <td>word</td>\n",
              "      <td>japs</td>\n",
              "      <td>49.20</td>\n",
              "      <td>jap</td>\n",
              "      <td>(40, 50]</td>\n",
              "    </tr>\n",
              "    <tr>\n",
              "      <th>1891</th>\n",
              "      <td>Reservoir Dogs</td>\n",
              "      <td>word</td>\n",
              "      <td>cocksucker</td>\n",
              "      <td>90.91</td>\n",
              "      <td>cock</td>\n",
              "      <td>(90, 100]</td>\n",
              "    </tr>\n",
              "    <tr>\n",
              "      <th>1892</th>\n",
              "      <td>Kill Bill: Vol. 1</td>\n",
              "      <td>word</td>\n",
              "      <td>cocksucker</td>\n",
              "      <td>19.73</td>\n",
              "      <td>cock</td>\n",
              "      <td>(10, 20]</td>\n",
              "    </tr>\n",
              "    <tr>\n",
              "      <th>1893</th>\n",
              "      <td>Kill Bill: Vol. 2</td>\n",
              "      <td>word</td>\n",
              "      <td>cockblockery</td>\n",
              "      <td>9.62</td>\n",
              "      <td>cock</td>\n",
              "      <td>(0, 10]</td>\n",
              "    </tr>\n",
              "  </tbody>\n",
              "</table>\n",
              "<p>1894 rows × 6 columns</p>\n",
              "</div>"
            ],
            "text/plain": [
              "                  movie  type          word  minutes_in    swear    time_in\n",
              "0        Reservoir Dogs  word         pussy        2.15    pussy    (0, 10]\n",
              "1        Reservoir Dogs  word          hell        2.48     hell    (0, 10]\n",
              "2        Reservoir Dogs  word       bastard        7.38  bastard    (0, 10]\n",
              "3        Reservoir Dogs  word          hell       27.21     hell   (20, 30]\n",
              "4        Reservoir Dogs  word          hell       29.18     hell   (20, 30]\n",
              "...                 ...   ...           ...         ...      ...        ...\n",
              "1889  Kill Bill: Vol. 2  word          japs       15.53      jap   (10, 20]\n",
              "1890  Kill Bill: Vol. 2  word          japs       49.20      jap   (40, 50]\n",
              "1891     Reservoir Dogs  word    cocksucker       90.91     cock  (90, 100]\n",
              "1892  Kill Bill: Vol. 1  word    cocksucker       19.73     cock   (10, 20]\n",
              "1893  Kill Bill: Vol. 2  word  cockblockery        9.62     cock    (0, 10]\n",
              "\n",
              "[1894 rows x 6 columns]"
            ]
          },
          "metadata": {
            "tags": []
          },
          "execution_count": 473
        }
      ]
    },
    {
      "cell_type": "code",
      "metadata": {
        "id": "CfB-jibtxc2K",
        "colab_type": "code",
        "outputId": "9d021a0d-f823-42eb-c0ab-32b41c4a4d34",
        "colab": {
          "base_uri": "https://localhost:8080/",
          "height": 139
        }
      },
      "source": [
        "data.isnull().sum()"
      ],
      "execution_count": 474,
      "outputs": [
        {
          "output_type": "execute_result",
          "data": {
            "text/plain": [
              "movie           0\n",
              "type            0\n",
              "word          190\n",
              "minutes_in      0\n",
              "swear         190\n",
              "time_in         0\n",
              "dtype: int64"
            ]
          },
          "metadata": {
            "tags": []
          },
          "execution_count": 474
        }
      ]
    },
    {
      "cell_type": "code",
      "metadata": {
        "id": "oZMXe7isyBSs",
        "colab_type": "code",
        "colab": {}
      },
      "source": [
        "data.dropna(inplace=True)\n"
      ],
      "execution_count": 0,
      "outputs": []
    },
    {
      "cell_type": "code",
      "metadata": {
        "id": "AjfqXaPR4AVo",
        "colab_type": "code",
        "outputId": "a325c443-87a1-42fa-e316-b860bec48872",
        "colab": {
          "base_uri": "https://localhost:8080/",
          "height": 206
        }
      },
      "source": [
        "data.head()"
      ],
      "execution_count": 476,
      "outputs": [
        {
          "output_type": "execute_result",
          "data": {
            "text/html": [
              "<div>\n",
              "<style scoped>\n",
              "    .dataframe tbody tr th:only-of-type {\n",
              "        vertical-align: middle;\n",
              "    }\n",
              "\n",
              "    .dataframe tbody tr th {\n",
              "        vertical-align: top;\n",
              "    }\n",
              "\n",
              "    .dataframe thead th {\n",
              "        text-align: right;\n",
              "    }\n",
              "</style>\n",
              "<table border=\"1\" class=\"dataframe\">\n",
              "  <thead>\n",
              "    <tr style=\"text-align: right;\">\n",
              "      <th></th>\n",
              "      <th>movie</th>\n",
              "      <th>type</th>\n",
              "      <th>word</th>\n",
              "      <th>minutes_in</th>\n",
              "      <th>swear</th>\n",
              "      <th>time_in</th>\n",
              "    </tr>\n",
              "  </thead>\n",
              "  <tbody>\n",
              "    <tr>\n",
              "      <th>0</th>\n",
              "      <td>Reservoir Dogs</td>\n",
              "      <td>word</td>\n",
              "      <td>pussy</td>\n",
              "      <td>2.15</td>\n",
              "      <td>pussy</td>\n",
              "      <td>(0, 10]</td>\n",
              "    </tr>\n",
              "    <tr>\n",
              "      <th>1</th>\n",
              "      <td>Reservoir Dogs</td>\n",
              "      <td>word</td>\n",
              "      <td>hell</td>\n",
              "      <td>2.48</td>\n",
              "      <td>hell</td>\n",
              "      <td>(0, 10]</td>\n",
              "    </tr>\n",
              "    <tr>\n",
              "      <th>2</th>\n",
              "      <td>Reservoir Dogs</td>\n",
              "      <td>word</td>\n",
              "      <td>bastard</td>\n",
              "      <td>7.38</td>\n",
              "      <td>bastard</td>\n",
              "      <td>(0, 10]</td>\n",
              "    </tr>\n",
              "    <tr>\n",
              "      <th>3</th>\n",
              "      <td>Reservoir Dogs</td>\n",
              "      <td>word</td>\n",
              "      <td>hell</td>\n",
              "      <td>27.21</td>\n",
              "      <td>hell</td>\n",
              "      <td>(20, 30]</td>\n",
              "    </tr>\n",
              "    <tr>\n",
              "      <th>4</th>\n",
              "      <td>Reservoir Dogs</td>\n",
              "      <td>word</td>\n",
              "      <td>hell</td>\n",
              "      <td>29.18</td>\n",
              "      <td>hell</td>\n",
              "      <td>(20, 30]</td>\n",
              "    </tr>\n",
              "  </tbody>\n",
              "</table>\n",
              "</div>"
            ],
            "text/plain": [
              "            movie  type     word  minutes_in    swear   time_in\n",
              "0  Reservoir Dogs  word    pussy        2.15    pussy   (0, 10]\n",
              "1  Reservoir Dogs  word     hell        2.48     hell   (0, 10]\n",
              "2  Reservoir Dogs  word  bastard        7.38  bastard   (0, 10]\n",
              "3  Reservoir Dogs  word     hell       27.21     hell  (20, 30]\n",
              "4  Reservoir Dogs  word     hell       29.18     hell  (20, 30]"
            ]
          },
          "metadata": {
            "tags": []
          },
          "execution_count": 476
        }
      ]
    },
    {
      "cell_type": "code",
      "metadata": {
        "id": "k7wYJO2b5b6x",
        "colab_type": "code",
        "outputId": "fa056564-cb02-401d-c7d2-6a4e9b2b324d",
        "colab": {
          "base_uri": "https://localhost:8080/",
          "height": 416
        }
      },
      "source": [
        "my_list=list(data['swear'].unique())\n",
        "my_list=sorted(my_list)\n",
        "my_list"
      ],
      "execution_count": 477,
      "outputs": [
        {
          "output_type": "execute_result",
          "data": {
            "text/plain": [
              "['ass',\n",
              " 'bastard',\n",
              " 'bastards',\n",
              " 'bitch',\n",
              " 'cock',\n",
              " 'cunt',\n",
              " 'damn',\n",
              " 'dick',\n",
              " 'faggot',\n",
              " 'fuck',\n",
              " 'gook',\n",
              " 'hell',\n",
              " 'jap',\n",
              " 'jew (verb)',\n",
              " 'merde',\n",
              " 'n-word ',\n",
              " 'negro ',\n",
              " 'pussy',\n",
              " 'shit',\n",
              " 'slope',\n",
              " 'slut',\n",
              " 'squaw',\n",
              " 'wetback']"
            ]
          },
          "metadata": {
            "tags": []
          },
          "execution_count": 477
        }
      ]
    },
    {
      "cell_type": "code",
      "metadata": {
        "id": "Zgw6x9U03uR7",
        "colab_type": "code",
        "outputId": "56ddd860-cee0-4c7c-b467-db7aff870df8",
        "colab": {
          "base_uri": "https://localhost:8080/",
          "height": 370
        }
      },
      "source": [
        "count_data=data.groupby(['movie','swear']).agg({\"swear\":np.size}).unstack()\n",
        "count_data.columns=my_list\n",
        "count_data"
      ],
      "execution_count": 478,
      "outputs": [
        {
          "output_type": "execute_result",
          "data": {
            "text/html": [
              "<div>\n",
              "<style scoped>\n",
              "    .dataframe tbody tr th:only-of-type {\n",
              "        vertical-align: middle;\n",
              "    }\n",
              "\n",
              "    .dataframe tbody tr th {\n",
              "        vertical-align: top;\n",
              "    }\n",
              "\n",
              "    .dataframe thead th {\n",
              "        text-align: right;\n",
              "    }\n",
              "</style>\n",
              "<table border=\"1\" class=\"dataframe\">\n",
              "  <thead>\n",
              "    <tr style=\"text-align: right;\">\n",
              "      <th></th>\n",
              "      <th>ass</th>\n",
              "      <th>bastard</th>\n",
              "      <th>bastards</th>\n",
              "      <th>bitch</th>\n",
              "      <th>cock</th>\n",
              "      <th>cunt</th>\n",
              "      <th>damn</th>\n",
              "      <th>dick</th>\n",
              "      <th>faggot</th>\n",
              "      <th>fuck</th>\n",
              "      <th>gook</th>\n",
              "      <th>hell</th>\n",
              "      <th>jap</th>\n",
              "      <th>jew (verb)</th>\n",
              "      <th>merde</th>\n",
              "      <th>n-word</th>\n",
              "      <th>negro</th>\n",
              "      <th>pussy</th>\n",
              "      <th>shit</th>\n",
              "      <th>slope</th>\n",
              "      <th>slut</th>\n",
              "      <th>squaw</th>\n",
              "      <th>wetback</th>\n",
              "    </tr>\n",
              "    <tr>\n",
              "      <th>movie</th>\n",
              "      <th></th>\n",
              "      <th></th>\n",
              "      <th></th>\n",
              "      <th></th>\n",
              "      <th></th>\n",
              "      <th></th>\n",
              "      <th></th>\n",
              "      <th></th>\n",
              "      <th></th>\n",
              "      <th></th>\n",
              "      <th></th>\n",
              "      <th></th>\n",
              "      <th></th>\n",
              "      <th></th>\n",
              "      <th></th>\n",
              "      <th></th>\n",
              "      <th></th>\n",
              "      <th></th>\n",
              "      <th></th>\n",
              "      <th></th>\n",
              "      <th></th>\n",
              "      <th></th>\n",
              "      <th></th>\n",
              "    </tr>\n",
              "  </thead>\n",
              "  <tbody>\n",
              "    <tr>\n",
              "      <th>Django Unchained</th>\n",
              "      <td>29.0</td>\n",
              "      <td>1.0</td>\n",
              "      <td>NaN</td>\n",
              "      <td>15.0</td>\n",
              "      <td>NaN</td>\n",
              "      <td>NaN</td>\n",
              "      <td>42.0</td>\n",
              "      <td>NaN</td>\n",
              "      <td>NaN</td>\n",
              "      <td>32.0</td>\n",
              "      <td>NaN</td>\n",
              "      <td>10.0</td>\n",
              "      <td>NaN</td>\n",
              "      <td>NaN</td>\n",
              "      <td>NaN</td>\n",
              "      <td>114.0</td>\n",
              "      <td>NaN</td>\n",
              "      <td>NaN</td>\n",
              "      <td>19.0</td>\n",
              "      <td>NaN</td>\n",
              "      <td>NaN</td>\n",
              "      <td>NaN</td>\n",
              "      <td>NaN</td>\n",
              "    </tr>\n",
              "    <tr>\n",
              "      <th>Inglorious Basterds</th>\n",
              "      <td>6.0</td>\n",
              "      <td>NaN</td>\n",
              "      <td>NaN</td>\n",
              "      <td>2.0</td>\n",
              "      <td>NaN</td>\n",
              "      <td>NaN</td>\n",
              "      <td>12.0</td>\n",
              "      <td>NaN</td>\n",
              "      <td>NaN</td>\n",
              "      <td>21.0</td>\n",
              "      <td>NaN</td>\n",
              "      <td>4.0</td>\n",
              "      <td>NaN</td>\n",
              "      <td>NaN</td>\n",
              "      <td>NaN</td>\n",
              "      <td>NaN</td>\n",
              "      <td>5.0</td>\n",
              "      <td>NaN</td>\n",
              "      <td>6.0</td>\n",
              "      <td>NaN</td>\n",
              "      <td>1.0</td>\n",
              "      <td>1.0</td>\n",
              "      <td>NaN</td>\n",
              "    </tr>\n",
              "    <tr>\n",
              "      <th>Jackie Brown</th>\n",
              "      <td>53.0</td>\n",
              "      <td>NaN</td>\n",
              "      <td>NaN</td>\n",
              "      <td>14.0</td>\n",
              "      <td>NaN</td>\n",
              "      <td>NaN</td>\n",
              "      <td>36.0</td>\n",
              "      <td>1.0</td>\n",
              "      <td>NaN</td>\n",
              "      <td>140.0</td>\n",
              "      <td>NaN</td>\n",
              "      <td>10.0</td>\n",
              "      <td>NaN</td>\n",
              "      <td>NaN</td>\n",
              "      <td>NaN</td>\n",
              "      <td>39.0</td>\n",
              "      <td>NaN</td>\n",
              "      <td>1.0</td>\n",
              "      <td>74.0</td>\n",
              "      <td>NaN</td>\n",
              "      <td>NaN</td>\n",
              "      <td>NaN</td>\n",
              "      <td>NaN</td>\n",
              "    </tr>\n",
              "    <tr>\n",
              "      <th>Kill Bill: Vol. 1</th>\n",
              "      <td>3.0</td>\n",
              "      <td>2.0</td>\n",
              "      <td>NaN</td>\n",
              "      <td>8.0</td>\n",
              "      <td>1.0</td>\n",
              "      <td>2.0</td>\n",
              "      <td>9.0</td>\n",
              "      <td>1.0</td>\n",
              "      <td>NaN</td>\n",
              "      <td>17.0</td>\n",
              "      <td>NaN</td>\n",
              "      <td>3.0</td>\n",
              "      <td>NaN</td>\n",
              "      <td>NaN</td>\n",
              "      <td>NaN</td>\n",
              "      <td>NaN</td>\n",
              "      <td>NaN</td>\n",
              "      <td>1.0</td>\n",
              "      <td>10.0</td>\n",
              "      <td>NaN</td>\n",
              "      <td>NaN</td>\n",
              "      <td>NaN</td>\n",
              "      <td>NaN</td>\n",
              "    </tr>\n",
              "    <tr>\n",
              "      <th>Kill Bill: Vol. 2</th>\n",
              "      <td>9.0</td>\n",
              "      <td>2.0</td>\n",
              "      <td>1.0</td>\n",
              "      <td>6.0</td>\n",
              "      <td>1.0</td>\n",
              "      <td>1.0</td>\n",
              "      <td>7.0</td>\n",
              "      <td>NaN</td>\n",
              "      <td>NaN</td>\n",
              "      <td>24.0</td>\n",
              "      <td>NaN</td>\n",
              "      <td>1.0</td>\n",
              "      <td>2.0</td>\n",
              "      <td>1.0</td>\n",
              "      <td>NaN</td>\n",
              "      <td>NaN</td>\n",
              "      <td>NaN</td>\n",
              "      <td>4.0</td>\n",
              "      <td>10.0</td>\n",
              "      <td>NaN</td>\n",
              "      <td>NaN</td>\n",
              "      <td>NaN</td>\n",
              "      <td>NaN</td>\n",
              "    </tr>\n",
              "    <tr>\n",
              "      <th>Pulp Fiction</th>\n",
              "      <td>38.0</td>\n",
              "      <td>NaN</td>\n",
              "      <td>NaN</td>\n",
              "      <td>15.0</td>\n",
              "      <td>NaN</td>\n",
              "      <td>NaN</td>\n",
              "      <td>36.0</td>\n",
              "      <td>2.0</td>\n",
              "      <td>NaN</td>\n",
              "      <td>267.0</td>\n",
              "      <td>3.0</td>\n",
              "      <td>5.0</td>\n",
              "      <td>NaN</td>\n",
              "      <td>NaN</td>\n",
              "      <td>1.0</td>\n",
              "      <td>21.0</td>\n",
              "      <td>NaN</td>\n",
              "      <td>1.0</td>\n",
              "      <td>78.0</td>\n",
              "      <td>1.0</td>\n",
              "      <td>NaN</td>\n",
              "      <td>NaN</td>\n",
              "      <td>1.0</td>\n",
              "    </tr>\n",
              "    <tr>\n",
              "      <th>Reservoir Dogs</th>\n",
              "      <td>24.0</td>\n",
              "      <td>5.0</td>\n",
              "      <td>NaN</td>\n",
              "      <td>13.0</td>\n",
              "      <td>1.0</td>\n",
              "      <td>NaN</td>\n",
              "      <td>12.0</td>\n",
              "      <td>16.0</td>\n",
              "      <td>1.0</td>\n",
              "      <td>271.0</td>\n",
              "      <td>NaN</td>\n",
              "      <td>12.0</td>\n",
              "      <td>1.0</td>\n",
              "      <td>NaN</td>\n",
              "      <td>NaN</td>\n",
              "      <td>5.0</td>\n",
              "      <td>NaN</td>\n",
              "      <td>4.0</td>\n",
              "      <td>55.0</td>\n",
              "      <td>NaN</td>\n",
              "      <td>NaN</td>\n",
              "      <td>NaN</td>\n",
              "      <td>1.0</td>\n",
              "    </tr>\n",
              "  </tbody>\n",
              "</table>\n",
              "</div>"
            ],
            "text/plain": [
              "                      ass  bastard  bastards  ...  slut  squaw  wetback\n",
              "movie                                         ...                      \n",
              "Django Unchained     29.0      1.0       NaN  ...   NaN    NaN      NaN\n",
              "Inglorious Basterds   6.0      NaN       NaN  ...   1.0    1.0      NaN\n",
              "Jackie Brown         53.0      NaN       NaN  ...   NaN    NaN      NaN\n",
              "Kill Bill: Vol. 1     3.0      2.0       NaN  ...   NaN    NaN      NaN\n",
              "Kill Bill: Vol. 2     9.0      2.0       1.0  ...   NaN    NaN      NaN\n",
              "Pulp Fiction         38.0      NaN       NaN  ...   NaN    NaN      1.0\n",
              "Reservoir Dogs       24.0      5.0       NaN  ...   NaN    NaN      1.0\n",
              "\n",
              "[7 rows x 23 columns]"
            ]
          },
          "metadata": {
            "tags": []
          },
          "execution_count": 478
        }
      ]
    },
    {
      "cell_type": "code",
      "metadata": {
        "id": "30EmVIIj7ULY",
        "colab_type": "code",
        "outputId": "e0529491-4b05-42c7-a94a-992e519ffde1",
        "colab": {
          "base_uri": "https://localhost:8080/",
          "height": 771
        }
      },
      "source": [
        "x=pd.DataFrame(data['swear'].value_counts())\n",
        "x"
      ],
      "execution_count": 479,
      "outputs": [
        {
          "output_type": "execute_result",
          "data": {
            "text/html": [
              "<div>\n",
              "<style scoped>\n",
              "    .dataframe tbody tr th:only-of-type {\n",
              "        vertical-align: middle;\n",
              "    }\n",
              "\n",
              "    .dataframe tbody tr th {\n",
              "        vertical-align: top;\n",
              "    }\n",
              "\n",
              "    .dataframe thead th {\n",
              "        text-align: right;\n",
              "    }\n",
              "</style>\n",
              "<table border=\"1\" class=\"dataframe\">\n",
              "  <thead>\n",
              "    <tr style=\"text-align: right;\">\n",
              "      <th></th>\n",
              "      <th>swear</th>\n",
              "    </tr>\n",
              "  </thead>\n",
              "  <tbody>\n",
              "    <tr>\n",
              "      <th>fuck</th>\n",
              "      <td>772</td>\n",
              "    </tr>\n",
              "    <tr>\n",
              "      <th>shit</th>\n",
              "      <td>252</td>\n",
              "    </tr>\n",
              "    <tr>\n",
              "      <th>n-word</th>\n",
              "      <td>179</td>\n",
              "    </tr>\n",
              "    <tr>\n",
              "      <th>ass</th>\n",
              "      <td>162</td>\n",
              "    </tr>\n",
              "    <tr>\n",
              "      <th>damn</th>\n",
              "      <td>154</td>\n",
              "    </tr>\n",
              "    <tr>\n",
              "      <th>bitch</th>\n",
              "      <td>73</td>\n",
              "    </tr>\n",
              "    <tr>\n",
              "      <th>hell</th>\n",
              "      <td>45</td>\n",
              "    </tr>\n",
              "    <tr>\n",
              "      <th>dick</th>\n",
              "      <td>20</td>\n",
              "    </tr>\n",
              "    <tr>\n",
              "      <th>pussy</th>\n",
              "      <td>11</td>\n",
              "    </tr>\n",
              "    <tr>\n",
              "      <th>bastard</th>\n",
              "      <td>10</td>\n",
              "    </tr>\n",
              "    <tr>\n",
              "      <th>negro</th>\n",
              "      <td>5</td>\n",
              "    </tr>\n",
              "    <tr>\n",
              "      <th>jap</th>\n",
              "      <td>3</td>\n",
              "    </tr>\n",
              "    <tr>\n",
              "      <th>cunt</th>\n",
              "      <td>3</td>\n",
              "    </tr>\n",
              "    <tr>\n",
              "      <th>gook</th>\n",
              "      <td>3</td>\n",
              "    </tr>\n",
              "    <tr>\n",
              "      <th>cock</th>\n",
              "      <td>3</td>\n",
              "    </tr>\n",
              "    <tr>\n",
              "      <th>wetback</th>\n",
              "      <td>2</td>\n",
              "    </tr>\n",
              "    <tr>\n",
              "      <th>squaw</th>\n",
              "      <td>1</td>\n",
              "    </tr>\n",
              "    <tr>\n",
              "      <th>jew (verb)</th>\n",
              "      <td>1</td>\n",
              "    </tr>\n",
              "    <tr>\n",
              "      <th>faggot</th>\n",
              "      <td>1</td>\n",
              "    </tr>\n",
              "    <tr>\n",
              "      <th>slut</th>\n",
              "      <td>1</td>\n",
              "    </tr>\n",
              "    <tr>\n",
              "      <th>merde</th>\n",
              "      <td>1</td>\n",
              "    </tr>\n",
              "    <tr>\n",
              "      <th>slope</th>\n",
              "      <td>1</td>\n",
              "    </tr>\n",
              "    <tr>\n",
              "      <th>bastards</th>\n",
              "      <td>1</td>\n",
              "    </tr>\n",
              "  </tbody>\n",
              "</table>\n",
              "</div>"
            ],
            "text/plain": [
              "            swear\n",
              "fuck          772\n",
              "shit          252\n",
              "n-word        179\n",
              "ass           162\n",
              "damn          154\n",
              "bitch          73\n",
              "hell           45\n",
              "dick           20\n",
              "pussy          11\n",
              "bastard        10\n",
              "negro           5\n",
              "jap             3\n",
              "cunt            3\n",
              "gook            3\n",
              "cock            3\n",
              "wetback         2\n",
              "squaw           1\n",
              "jew (verb)      1\n",
              "faggot          1\n",
              "slut            1\n",
              "merde           1\n",
              "slope           1\n",
              "bastards        1"
            ]
          },
          "metadata": {
            "tags": []
          },
          "execution_count": 479
        }
      ]
    },
    {
      "cell_type": "code",
      "metadata": {
        "id": "wF5xQzL7Jzyc",
        "colab_type": "code",
        "outputId": "bc004fba-793d-4b8f-e93a-9dde6a8d02e3",
        "colab": {
          "base_uri": "https://localhost:8080/",
          "height": 771
        }
      },
      "source": [
        "x/x.sum()"
      ],
      "execution_count": 480,
      "outputs": [
        {
          "output_type": "execute_result",
          "data": {
            "text/html": [
              "<div>\n",
              "<style scoped>\n",
              "    .dataframe tbody tr th:only-of-type {\n",
              "        vertical-align: middle;\n",
              "    }\n",
              "\n",
              "    .dataframe tbody tr th {\n",
              "        vertical-align: top;\n",
              "    }\n",
              "\n",
              "    .dataframe thead th {\n",
              "        text-align: right;\n",
              "    }\n",
              "</style>\n",
              "<table border=\"1\" class=\"dataframe\">\n",
              "  <thead>\n",
              "    <tr style=\"text-align: right;\">\n",
              "      <th></th>\n",
              "      <th>swear</th>\n",
              "    </tr>\n",
              "  </thead>\n",
              "  <tbody>\n",
              "    <tr>\n",
              "      <th>fuck</th>\n",
              "      <td>0.453052</td>\n",
              "    </tr>\n",
              "    <tr>\n",
              "      <th>shit</th>\n",
              "      <td>0.147887</td>\n",
              "    </tr>\n",
              "    <tr>\n",
              "      <th>n-word</th>\n",
              "      <td>0.105047</td>\n",
              "    </tr>\n",
              "    <tr>\n",
              "      <th>ass</th>\n",
              "      <td>0.095070</td>\n",
              "    </tr>\n",
              "    <tr>\n",
              "      <th>damn</th>\n",
              "      <td>0.090376</td>\n",
              "    </tr>\n",
              "    <tr>\n",
              "      <th>bitch</th>\n",
              "      <td>0.042840</td>\n",
              "    </tr>\n",
              "    <tr>\n",
              "      <th>hell</th>\n",
              "      <td>0.026408</td>\n",
              "    </tr>\n",
              "    <tr>\n",
              "      <th>dick</th>\n",
              "      <td>0.011737</td>\n",
              "    </tr>\n",
              "    <tr>\n",
              "      <th>pussy</th>\n",
              "      <td>0.006455</td>\n",
              "    </tr>\n",
              "    <tr>\n",
              "      <th>bastard</th>\n",
              "      <td>0.005869</td>\n",
              "    </tr>\n",
              "    <tr>\n",
              "      <th>negro</th>\n",
              "      <td>0.002934</td>\n",
              "    </tr>\n",
              "    <tr>\n",
              "      <th>jap</th>\n",
              "      <td>0.001761</td>\n",
              "    </tr>\n",
              "    <tr>\n",
              "      <th>cunt</th>\n",
              "      <td>0.001761</td>\n",
              "    </tr>\n",
              "    <tr>\n",
              "      <th>gook</th>\n",
              "      <td>0.001761</td>\n",
              "    </tr>\n",
              "    <tr>\n",
              "      <th>cock</th>\n",
              "      <td>0.001761</td>\n",
              "    </tr>\n",
              "    <tr>\n",
              "      <th>wetback</th>\n",
              "      <td>0.001174</td>\n",
              "    </tr>\n",
              "    <tr>\n",
              "      <th>squaw</th>\n",
              "      <td>0.000587</td>\n",
              "    </tr>\n",
              "    <tr>\n",
              "      <th>jew (verb)</th>\n",
              "      <td>0.000587</td>\n",
              "    </tr>\n",
              "    <tr>\n",
              "      <th>faggot</th>\n",
              "      <td>0.000587</td>\n",
              "    </tr>\n",
              "    <tr>\n",
              "      <th>slut</th>\n",
              "      <td>0.000587</td>\n",
              "    </tr>\n",
              "    <tr>\n",
              "      <th>merde</th>\n",
              "      <td>0.000587</td>\n",
              "    </tr>\n",
              "    <tr>\n",
              "      <th>slope</th>\n",
              "      <td>0.000587</td>\n",
              "    </tr>\n",
              "    <tr>\n",
              "      <th>bastards</th>\n",
              "      <td>0.000587</td>\n",
              "    </tr>\n",
              "  </tbody>\n",
              "</table>\n",
              "</div>"
            ],
            "text/plain": [
              "               swear\n",
              "fuck        0.453052\n",
              "shit        0.147887\n",
              "n-word      0.105047\n",
              "ass         0.095070\n",
              "damn        0.090376\n",
              "bitch       0.042840\n",
              "hell        0.026408\n",
              "dick        0.011737\n",
              "pussy       0.006455\n",
              "bastard     0.005869\n",
              "negro       0.002934\n",
              "jap         0.001761\n",
              "cunt        0.001761\n",
              "gook        0.001761\n",
              "cock        0.001761\n",
              "wetback     0.001174\n",
              "squaw       0.000587\n",
              "jew (verb)  0.000587\n",
              "faggot      0.000587\n",
              "slut        0.000587\n",
              "merde       0.000587\n",
              "slope       0.000587\n",
              "bastards    0.000587"
            ]
          },
          "metadata": {
            "tags": []
          },
          "execution_count": 480
        }
      ]
    },
    {
      "cell_type": "code",
      "metadata": {
        "id": "_d9DJEmzKNDV",
        "colab_type": "code",
        "outputId": "b5bcaec0-0946-4ff7-f765-445975440107",
        "colab": {
          "base_uri": "https://localhost:8080/",
          "height": 771
        }
      },
      "source": [
        "x['swear_word']=x.index\n",
        "x"
      ],
      "execution_count": 481,
      "outputs": [
        {
          "output_type": "execute_result",
          "data": {
            "text/html": [
              "<div>\n",
              "<style scoped>\n",
              "    .dataframe tbody tr th:only-of-type {\n",
              "        vertical-align: middle;\n",
              "    }\n",
              "\n",
              "    .dataframe tbody tr th {\n",
              "        vertical-align: top;\n",
              "    }\n",
              "\n",
              "    .dataframe thead th {\n",
              "        text-align: right;\n",
              "    }\n",
              "</style>\n",
              "<table border=\"1\" class=\"dataframe\">\n",
              "  <thead>\n",
              "    <tr style=\"text-align: right;\">\n",
              "      <th></th>\n",
              "      <th>swear</th>\n",
              "      <th>swear_word</th>\n",
              "    </tr>\n",
              "  </thead>\n",
              "  <tbody>\n",
              "    <tr>\n",
              "      <th>fuck</th>\n",
              "      <td>772</td>\n",
              "      <td>fuck</td>\n",
              "    </tr>\n",
              "    <tr>\n",
              "      <th>shit</th>\n",
              "      <td>252</td>\n",
              "      <td>shit</td>\n",
              "    </tr>\n",
              "    <tr>\n",
              "      <th>n-word</th>\n",
              "      <td>179</td>\n",
              "      <td>n-word</td>\n",
              "    </tr>\n",
              "    <tr>\n",
              "      <th>ass</th>\n",
              "      <td>162</td>\n",
              "      <td>ass</td>\n",
              "    </tr>\n",
              "    <tr>\n",
              "      <th>damn</th>\n",
              "      <td>154</td>\n",
              "      <td>damn</td>\n",
              "    </tr>\n",
              "    <tr>\n",
              "      <th>bitch</th>\n",
              "      <td>73</td>\n",
              "      <td>bitch</td>\n",
              "    </tr>\n",
              "    <tr>\n",
              "      <th>hell</th>\n",
              "      <td>45</td>\n",
              "      <td>hell</td>\n",
              "    </tr>\n",
              "    <tr>\n",
              "      <th>dick</th>\n",
              "      <td>20</td>\n",
              "      <td>dick</td>\n",
              "    </tr>\n",
              "    <tr>\n",
              "      <th>pussy</th>\n",
              "      <td>11</td>\n",
              "      <td>pussy</td>\n",
              "    </tr>\n",
              "    <tr>\n",
              "      <th>bastard</th>\n",
              "      <td>10</td>\n",
              "      <td>bastard</td>\n",
              "    </tr>\n",
              "    <tr>\n",
              "      <th>negro</th>\n",
              "      <td>5</td>\n",
              "      <td>negro</td>\n",
              "    </tr>\n",
              "    <tr>\n",
              "      <th>jap</th>\n",
              "      <td>3</td>\n",
              "      <td>jap</td>\n",
              "    </tr>\n",
              "    <tr>\n",
              "      <th>cunt</th>\n",
              "      <td>3</td>\n",
              "      <td>cunt</td>\n",
              "    </tr>\n",
              "    <tr>\n",
              "      <th>gook</th>\n",
              "      <td>3</td>\n",
              "      <td>gook</td>\n",
              "    </tr>\n",
              "    <tr>\n",
              "      <th>cock</th>\n",
              "      <td>3</td>\n",
              "      <td>cock</td>\n",
              "    </tr>\n",
              "    <tr>\n",
              "      <th>wetback</th>\n",
              "      <td>2</td>\n",
              "      <td>wetback</td>\n",
              "    </tr>\n",
              "    <tr>\n",
              "      <th>squaw</th>\n",
              "      <td>1</td>\n",
              "      <td>squaw</td>\n",
              "    </tr>\n",
              "    <tr>\n",
              "      <th>jew (verb)</th>\n",
              "      <td>1</td>\n",
              "      <td>jew (verb)</td>\n",
              "    </tr>\n",
              "    <tr>\n",
              "      <th>faggot</th>\n",
              "      <td>1</td>\n",
              "      <td>faggot</td>\n",
              "    </tr>\n",
              "    <tr>\n",
              "      <th>slut</th>\n",
              "      <td>1</td>\n",
              "      <td>slut</td>\n",
              "    </tr>\n",
              "    <tr>\n",
              "      <th>merde</th>\n",
              "      <td>1</td>\n",
              "      <td>merde</td>\n",
              "    </tr>\n",
              "    <tr>\n",
              "      <th>slope</th>\n",
              "      <td>1</td>\n",
              "      <td>slope</td>\n",
              "    </tr>\n",
              "    <tr>\n",
              "      <th>bastards</th>\n",
              "      <td>1</td>\n",
              "      <td>bastards</td>\n",
              "    </tr>\n",
              "  </tbody>\n",
              "</table>\n",
              "</div>"
            ],
            "text/plain": [
              "            swear  swear_word\n",
              "fuck          772        fuck\n",
              "shit          252        shit\n",
              "n-word        179     n-word \n",
              "ass           162         ass\n",
              "damn          154        damn\n",
              "bitch          73       bitch\n",
              "hell           45        hell\n",
              "dick           20        dick\n",
              "pussy          11       pussy\n",
              "bastard        10     bastard\n",
              "negro           5      negro \n",
              "jap             3         jap\n",
              "cunt            3        cunt\n",
              "gook            3        gook\n",
              "cock            3        cock\n",
              "wetback         2     wetback\n",
              "squaw           1       squaw\n",
              "jew (verb)      1  jew (verb)\n",
              "faggot          1      faggot\n",
              "slut            1        slut\n",
              "merde           1       merde\n",
              "slope           1       slope\n",
              "bastards        1    bastards"
            ]
          },
          "metadata": {
            "tags": []
          },
          "execution_count": 481
        }
      ]
    },
    {
      "cell_type": "code",
      "metadata": {
        "id": "cPMkFI-GK1cJ",
        "colab_type": "code",
        "outputId": "8377a2b2-3255-45b6-93d7-aeac72055e0a",
        "colab": {
          "base_uri": "https://localhost:8080/",
          "height": 623
        }
      },
      "source": [
        "a4_dims = (10,10)\n",
        "fig, ax = plt.subplots(figsize=a4_dims)\n",
        "\n",
        "sns.barplot(ax=ax,x='swear', y='swear_word',data=x)"
      ],
      "execution_count": 497,
      "outputs": [
        {
          "output_type": "execute_result",
          "data": {
            "text/plain": [
              "<matplotlib.axes._subplots.AxesSubplot at 0x7fac7241db00>"
            ]
          },
          "metadata": {
            "tags": []
          },
          "execution_count": 497
        },
        {
          "output_type": "display_data",
          "data": {
            "image/png": "[encoded data removed]",
            "text/plain": [
              "<Figure size 720x720 with 1 Axes>"
            ]
          },
          "metadata": {
            "tags": [],
            "needs_background": "light"
          }
        }
      ]
    },
    {
      "cell_type": "code",
      "metadata": {
        "id": "4GAc5h6CMJQb",
        "colab_type": "code",
        "outputId": "e22b0ac4-f454-412f-f077-264249bded94",
        "colab": {
          "base_uri": "https://localhost:8080/",
          "height": 297
        }
      },
      "source": [
        "sns.distplot(data['minutes_in'])"
      ],
      "execution_count": 483,
      "outputs": [
        {
          "output_type": "execute_result",
          "data": {
            "text/plain": [
              "<matplotlib.axes._subplots.AxesSubplot at 0x7fac72813780>"
            ]
          },
          "metadata": {
            "tags": []
          },
          "execution_count": 483
        },
        {
          "output_type": "display_data",
          "data": {
            "image/png": "[encoded data removed]",
            "text/plain": [
              "<Figure size 432x288 with 1 Axes>"
            ]
          },
          "metadata": {
            "tags": [],
            "needs_background": "light"
          }
        }
      ]
    },
    {
      "cell_type": "code",
      "metadata": {
        "id": "9mVJf2rWMa2U",
        "colab_type": "code",
        "outputId": "4c0ce083-b84c-425e-9c23-f4b780546b0b",
        "colab": {
          "base_uri": "https://localhost:8080/",
          "height": 895
        }
      },
      "source": [
        "a4_dims = (15,15)\n",
        "fig, ax = plt.subplots(figsize=a4_dims)\n",
        "\n",
        "sns.barplot(ax=ax,y='swear', x='minutes_in',data=data)\n"
      ],
      "execution_count": 484,
      "outputs": [
        {
          "output_type": "execute_result",
          "data": {
            "text/plain": [
              "<matplotlib.axes._subplots.AxesSubplot at 0x7fac762459e8>"
            ]
          },
          "metadata": {
            "tags": []
          },
          "execution_count": 484
        },
        {
          "output_type": "display_data",
          "data": {
            "image/png": "[encoded data removed]",
            "text/plain": [
              "<Figure size 1080x1080 with 1 Axes>"
            ]
          },
          "metadata": {
            "tags": [],
            "needs_background": "light"
          }
        }
      ]
    },
    {
      "cell_type": "code",
      "metadata": {
        "id": "XGXvuD0iNvDJ",
        "colab_type": "code",
        "outputId": "f9bf96aa-b234-4bb7-dccd-9f8af28b2d4f",
        "colab": {
          "base_uri": "https://localhost:8080/",
          "height": 86
        }
      },
      "source": [
        "data['swear'].unique()"
      ],
      "execution_count": 485,
      "outputs": [
        {
          "output_type": "execute_result",
          "data": {
            "text/plain": [
              "array(['pussy', 'hell', 'bastard', 'n-word ', 'wetback', 'faggot',\n",
              "       'slope', 'merde', 'jew (verb)', 'bastards', 'negro ', 'squaw',\n",
              "       'slut', 'fuck', 'dick', 'cunt', 'ass', 'shit', 'bitch', 'gook',\n",
              "       'damn', 'jap', 'cock'], dtype=object)"
            ]
          },
          "metadata": {
            "tags": []
          },
          "execution_count": 485
        }
      ]
    },
    {
      "cell_type": "code",
      "metadata": {
        "id": "fFxd4wFO6DDz",
        "colab_type": "code",
        "colab": {
          "base_uri": "https://localhost:8080/",
          "height": 269
        },
        "outputId": "db0a77de-708f-4ff8-d823-3b0b37e5ed23"
      },
      "source": [
        "gp2=pd.DataFrame((gp_obj2['swear'].agg(np.size)))\n",
        "gp2.columns=['count']\n",
        "gp2['movie']=gp2.index\n",
        "gp2=gp2.reset_index(drop=True)\n",
        "gp2"
      ],
      "execution_count": 486,
      "outputs": [
        {
          "output_type": "execute_result",
          "data": {
            "text/html": [
              "<div>\n",
              "<style scoped>\n",
              "    .dataframe tbody tr th:only-of-type {\n",
              "        vertical-align: middle;\n",
              "    }\n",
              "\n",
              "    .dataframe tbody tr th {\n",
              "        vertical-align: top;\n",
              "    }\n",
              "\n",
              "    .dataframe thead th {\n",
              "        text-align: right;\n",
              "    }\n",
              "</style>\n",
              "<table border=\"1\" class=\"dataframe\">\n",
              "  <thead>\n",
              "    <tr style=\"text-align: right;\">\n",
              "      <th></th>\n",
              "      <th>count</th>\n",
              "      <th>movie</th>\n",
              "    </tr>\n",
              "  </thead>\n",
              "  <tbody>\n",
              "    <tr>\n",
              "      <th>0</th>\n",
              "      <td>262</td>\n",
              "      <td>Django Unchained</td>\n",
              "    </tr>\n",
              "    <tr>\n",
              "      <th>1</th>\n",
              "      <td>58</td>\n",
              "      <td>Inglorious Basterds</td>\n",
              "    </tr>\n",
              "    <tr>\n",
              "      <th>2</th>\n",
              "      <td>368</td>\n",
              "      <td>Jackie Brown</td>\n",
              "    </tr>\n",
              "    <tr>\n",
              "      <th>3</th>\n",
              "      <td>57</td>\n",
              "      <td>Kill Bill: Vol. 1</td>\n",
              "    </tr>\n",
              "    <tr>\n",
              "      <th>4</th>\n",
              "      <td>69</td>\n",
              "      <td>Kill Bill: Vol. 2</td>\n",
              "    </tr>\n",
              "    <tr>\n",
              "      <th>5</th>\n",
              "      <td>469</td>\n",
              "      <td>Pulp Fiction</td>\n",
              "    </tr>\n",
              "    <tr>\n",
              "      <th>6</th>\n",
              "      <td>421</td>\n",
              "      <td>Reservoir Dogs</td>\n",
              "    </tr>\n",
              "  </tbody>\n",
              "</table>\n",
              "</div>"
            ],
            "text/plain": [
              "   count                movie\n",
              "0    262     Django Unchained\n",
              "1     58  Inglorious Basterds\n",
              "2    368         Jackie Brown\n",
              "3     57    Kill Bill: Vol. 1\n",
              "4     69    Kill Bill: Vol. 2\n",
              "5    469         Pulp Fiction\n",
              "6    421       Reservoir Dogs"
            ]
          },
          "metadata": {
            "tags": []
          },
          "execution_count": 486
        }
      ]
    },
    {
      "cell_type": "code",
      "metadata": {
        "id": "bcnDI1TJ67Nh",
        "colab_type": "code",
        "colab": {
          "base_uri": "https://localhost:8080/",
          "height": 514
        },
        "outputId": "06a432e1-ec74-4320-8df5-d335cc92556b"
      },
      "source": [
        "a4_dims = (8,8)\n",
        "fig, ax = plt.subplots(figsize=a4_dims)\n",
        "\n",
        "sns.barplot(ax=ax,y='movie',x='count',data=gp2)"
      ],
      "execution_count": 487,
      "outputs": [
        {
          "output_type": "execute_result",
          "data": {
            "text/plain": [
              "<matplotlib.axes._subplots.AxesSubplot at 0x7fac761185c0>"
            ]
          },
          "metadata": {
            "tags": []
          },
          "execution_count": 487
        },
        {
          "output_type": "display_data",
          "data": {
            "image/png": "[encoded data removed]",
            "text/plain": [
              "<Figure size 576x576 with 1 Axes>"
            ]
          },
          "metadata": {
            "tags": [],
            "needs_background": "light"
          }
        }
      ]
    },
    {
      "cell_type": "code",
      "metadata": {
        "id": "zCyddtKk7h3i",
        "colab_type": "code",
        "colab": {}
      },
      "source": [
        ""
      ],
      "execution_count": 0,
      "outputs": []
    },
    {
      "cell_type": "code",
      "metadata": {
        "id": "jZaCmNU48o6i",
        "colab_type": "code",
        "colab": {
          "base_uri": "https://localhost:8080/",
          "height": 69
        },
        "outputId": "f5468f05-c03f-4e09-b936-c7269eff9e1f"
      },
      "source": [
        "data['movie'].unique()"
      ],
      "execution_count": 488,
      "outputs": [
        {
          "output_type": "execute_result",
          "data": {
            "text/plain": [
              "array(['Reservoir Dogs', 'Pulp Fiction', 'Kill Bill: Vol. 1',\n",
              "       'Kill Bill: Vol. 2', 'Inglorious Basterds', 'Django Unchained',\n",
              "       'Jackie Brown'], dtype=object)"
            ]
          },
          "metadata": {
            "tags": []
          },
          "execution_count": 488
        }
      ]
    },
    {
      "cell_type": "code",
      "metadata": {
        "id": "EkZV1gHv9PaH",
        "colab_type": "code",
        "colab": {
          "base_uri": "https://localhost:8080/",
          "height": 1000
        },
        "outputId": "c5c51a3f-e728-4d49-956c-b4a4d4e24013"
      },
      "source": [
        "c1=1\n",
        "fig = plt.figure(figsize=(20,20))\n",
        "for i in data['movie'].unique():\n",
        "  df='df_'+i\n",
        "  #print(df)\n",
        "  df=data[data['movie']==i].reset_index(drop=True)\n",
        "  df=df.groupby('swear')\n",
        "  df=pd.DataFrame((df['swear'].agg(np.size)))\n",
        "  df.columns=['count']\n",
        "  df['swear']=df.index\n",
        "  df=df.reset_index(drop=True)\n",
        "  #a4_dims = (10,10)\n",
        "  #fig, ax = plt.subplots(figsize=a4_dims)\n",
        "  plt.subplot(3, 3, c1)\n",
        "  #plt.plot(x, y)\n",
        "  sns.barplot(y='swear', x='count',data=df).set_title(i)\n",
        "  c1+=1\n",
        "from google.colab import files\n",
        "plt.savefig('test.png')\n",
        "files.download('test.png')"
      ],
      "execution_count": 489,
      "outputs": [
        {
          "output_type": "display_data",
          "data": {
            "image/png": "[encoded data removed]",
            "text/plain": [
              "<Figure size 1440x1440 with 7 Axes>"
            ]
          },
          "metadata": {
            "tags": [],
            "needs_background": "light"
          }
        }
      ]
    },
    {
      "cell_type": "code",
      "metadata": {
        "id": "5ARIN043HAd7",
        "colab_type": "code",
        "colab": {
          "base_uri": "https://localhost:8080/",
          "height": 206
        },
        "outputId": "1f9bf781-34c3-4413-e35a-bcf5d86d4873"
      },
      "source": [
        "data.head()"
      ],
      "execution_count": 490,
      "outputs": [
        {
          "output_type": "execute_result",
          "data": {
            "text/html": [
              "<div>\n",
              "<style scoped>\n",
              "    .dataframe tbody tr th:only-of-type {\n",
              "        vertical-align: middle;\n",
              "    }\n",
              "\n",
              "    .dataframe tbody tr th {\n",
              "        vertical-align: top;\n",
              "    }\n",
              "\n",
              "    .dataframe thead th {\n",
              "        text-align: right;\n",
              "    }\n",
              "</style>\n",
              "<table border=\"1\" class=\"dataframe\">\n",
              "  <thead>\n",
              "    <tr style=\"text-align: right;\">\n",
              "      <th></th>\n",
              "      <th>movie</th>\n",
              "      <th>type</th>\n",
              "      <th>word</th>\n",
              "      <th>minutes_in</th>\n",
              "      <th>swear</th>\n",
              "      <th>time_in</th>\n",
              "    </tr>\n",
              "  </thead>\n",
              "  <tbody>\n",
              "    <tr>\n",
              "      <th>0</th>\n",
              "      <td>Reservoir Dogs</td>\n",
              "      <td>word</td>\n",
              "      <td>pussy</td>\n",
              "      <td>2.15</td>\n",
              "      <td>pussy</td>\n",
              "      <td>(0, 10]</td>\n",
              "    </tr>\n",
              "    <tr>\n",
              "      <th>1</th>\n",
              "      <td>Reservoir Dogs</td>\n",
              "      <td>word</td>\n",
              "      <td>hell</td>\n",
              "      <td>2.48</td>\n",
              "      <td>hell</td>\n",
              "      <td>(0, 10]</td>\n",
              "    </tr>\n",
              "    <tr>\n",
              "      <th>2</th>\n",
              "      <td>Reservoir Dogs</td>\n",
              "      <td>word</td>\n",
              "      <td>bastard</td>\n",
              "      <td>7.38</td>\n",
              "      <td>bastard</td>\n",
              "      <td>(0, 10]</td>\n",
              "    </tr>\n",
              "    <tr>\n",
              "      <th>3</th>\n",
              "      <td>Reservoir Dogs</td>\n",
              "      <td>word</td>\n",
              "      <td>hell</td>\n",
              "      <td>27.21</td>\n",
              "      <td>hell</td>\n",
              "      <td>(20, 30]</td>\n",
              "    </tr>\n",
              "    <tr>\n",
              "      <th>4</th>\n",
              "      <td>Reservoir Dogs</td>\n",
              "      <td>word</td>\n",
              "      <td>hell</td>\n",
              "      <td>29.18</td>\n",
              "      <td>hell</td>\n",
              "      <td>(20, 30]</td>\n",
              "    </tr>\n",
              "  </tbody>\n",
              "</table>\n",
              "</div>"
            ],
            "text/plain": [
              "            movie  type     word  minutes_in    swear   time_in\n",
              "0  Reservoir Dogs  word    pussy        2.15    pussy   (0, 10]\n",
              "1  Reservoir Dogs  word     hell        2.48     hell   (0, 10]\n",
              "2  Reservoir Dogs  word  bastard        7.38  bastard   (0, 10]\n",
              "3  Reservoir Dogs  word     hell       27.21     hell  (20, 30]\n",
              "4  Reservoir Dogs  word     hell       29.18     hell  (20, 30]"
            ]
          },
          "metadata": {
            "tags": []
          },
          "execution_count": 490
        }
      ]
    },
    {
      "cell_type": "code",
      "metadata": {
        "id": "QJo_frjbcEMs",
        "colab_type": "code",
        "colab": {
          "base_uri": "https://localhost:8080/",
          "height": 206
        },
        "outputId": "270949c4-eead-4094-e772-c6bc661fffb1"
      },
      "source": [
        "da = pd.read_csv('/content/tarantino.csv')\n",
        "da.head()"
      ],
      "execution_count": 498,
      "outputs": [
        {
          "output_type": "execute_result",
          "data": {
            "text/html": [
              "<div>\n",
              "<style scoped>\n",
              "    .dataframe tbody tr th:only-of-type {\n",
              "        vertical-align: middle;\n",
              "    }\n",
              "\n",
              "    .dataframe tbody tr th {\n",
              "        vertical-align: top;\n",
              "    }\n",
              "\n",
              "    .dataframe thead th {\n",
              "        text-align: right;\n",
              "    }\n",
              "</style>\n",
              "<table border=\"1\" class=\"dataframe\">\n",
              "  <thead>\n",
              "    <tr style=\"text-align: right;\">\n",
              "      <th></th>\n",
              "      <th>movie</th>\n",
              "      <th>type</th>\n",
              "      <th>word</th>\n",
              "      <th>minutes_in</th>\n",
              "    </tr>\n",
              "  </thead>\n",
              "  <tbody>\n",
              "    <tr>\n",
              "      <th>0</th>\n",
              "      <td>Reservoir Dogs</td>\n",
              "      <td>word</td>\n",
              "      <td>dick</td>\n",
              "      <td>0.40</td>\n",
              "    </tr>\n",
              "    <tr>\n",
              "      <th>1</th>\n",
              "      <td>Reservoir Dogs</td>\n",
              "      <td>word</td>\n",
              "      <td>dicks</td>\n",
              "      <td>0.43</td>\n",
              "    </tr>\n",
              "    <tr>\n",
              "      <th>2</th>\n",
              "      <td>Reservoir Dogs</td>\n",
              "      <td>word</td>\n",
              "      <td>fucked</td>\n",
              "      <td>0.55</td>\n",
              "    </tr>\n",
              "    <tr>\n",
              "      <th>3</th>\n",
              "      <td>Reservoir Dogs</td>\n",
              "      <td>word</td>\n",
              "      <td>fucking</td>\n",
              "      <td>0.61</td>\n",
              "    </tr>\n",
              "    <tr>\n",
              "      <th>4</th>\n",
              "      <td>Reservoir Dogs</td>\n",
              "      <td>word</td>\n",
              "      <td>bullshit</td>\n",
              "      <td>0.61</td>\n",
              "    </tr>\n",
              "  </tbody>\n",
              "</table>\n",
              "</div>"
            ],
            "text/plain": [
              "            movie  type      word  minutes_in\n",
              "0  Reservoir Dogs  word      dick        0.40\n",
              "1  Reservoir Dogs  word     dicks        0.43\n",
              "2  Reservoir Dogs  word    fucked        0.55\n",
              "3  Reservoir Dogs  word   fucking        0.61\n",
              "4  Reservoir Dogs  word  bullshit        0.61"
            ]
          },
          "metadata": {
            "tags": []
          },
          "execution_count": 498
        }
      ]
    },
    {
      "cell_type": "code",
      "metadata": {
        "id": "X1TQbLEPcXLF",
        "colab_type": "code",
        "colab": {
          "base_uri": "https://localhost:8080/",
          "height": 300
        },
        "outputId": "f8f8ca4d-75fe-4c16-bdb5-e1ea4c5947ef"
      },
      "source": [
        "new_da = pd.DataFrame(da.groupby(['movie','type']).agg({\"type\": np.size}).unstack())\n",
        "new_da.columns=['death','swear']\n",
        "new_da"
      ],
      "execution_count": 512,
      "outputs": [
        {
          "output_type": "execute_result",
          "data": {
            "text/html": [
              "<div>\n",
              "<style scoped>\n",
              "    .dataframe tbody tr th:only-of-type {\n",
              "        vertical-align: middle;\n",
              "    }\n",
              "\n",
              "    .dataframe tbody tr th {\n",
              "        vertical-align: top;\n",
              "    }\n",
              "\n",
              "    .dataframe thead th {\n",
              "        text-align: right;\n",
              "    }\n",
              "</style>\n",
              "<table border=\"1\" class=\"dataframe\">\n",
              "  <thead>\n",
              "    <tr style=\"text-align: right;\">\n",
              "      <th></th>\n",
              "      <th>death</th>\n",
              "      <th>swear</th>\n",
              "    </tr>\n",
              "    <tr>\n",
              "      <th>movie</th>\n",
              "      <th></th>\n",
              "      <th></th>\n",
              "    </tr>\n",
              "  </thead>\n",
              "  <tbody>\n",
              "    <tr>\n",
              "      <th>Django Unchained</th>\n",
              "      <td>47</td>\n",
              "      <td>262</td>\n",
              "    </tr>\n",
              "    <tr>\n",
              "      <th>Inglorious Basterds</th>\n",
              "      <td>48</td>\n",
              "      <td>58</td>\n",
              "    </tr>\n",
              "    <tr>\n",
              "      <th>Jackie Brown</th>\n",
              "      <td>4</td>\n",
              "      <td>368</td>\n",
              "    </tr>\n",
              "    <tr>\n",
              "      <th>Kill Bill: Vol. 1</th>\n",
              "      <td>63</td>\n",
              "      <td>57</td>\n",
              "    </tr>\n",
              "    <tr>\n",
              "      <th>Kill Bill: Vol. 2</th>\n",
              "      <td>11</td>\n",
              "      <td>69</td>\n",
              "    </tr>\n",
              "    <tr>\n",
              "      <th>Pulp Fiction</th>\n",
              "      <td>7</td>\n",
              "      <td>469</td>\n",
              "    </tr>\n",
              "    <tr>\n",
              "      <th>Reservoir Dogs</th>\n",
              "      <td>10</td>\n",
              "      <td>421</td>\n",
              "    </tr>\n",
              "  </tbody>\n",
              "</table>\n",
              "</div>"
            ],
            "text/plain": [
              "                     death  swear\n",
              "movie                            \n",
              "Django Unchained        47    262\n",
              "Inglorious Basterds     48     58\n",
              "Jackie Brown             4    368\n",
              "Kill Bill: Vol. 1       63     57\n",
              "Kill Bill: Vol. 2       11     69\n",
              "Pulp Fiction             7    469\n",
              "Reservoir Dogs          10    421"
            ]
          },
          "metadata": {
            "tags": []
          },
          "execution_count": 512
        }
      ]
    },
    {
      "cell_type": "code",
      "metadata": {
        "id": "Myg-XA8Fd8hn",
        "colab_type": "code",
        "colab": {
          "base_uri": "https://localhost:8080/",
          "height": 300
        },
        "outputId": "d6bad4fd-e34c-4f72-a46b-52b74676ed21"
      },
      "source": [
        "# high ratio means less deadly but more profane\n",
        "new_da['swear_death_ratio']=new_da['swear']/new_da['death']\n",
        "new_da"
      ],
      "execution_count": 516,
      "outputs": [
        {
          "output_type": "execute_result",
          "data": {
            "text/html": [
              "<div>\n",
              "<style scoped>\n",
              "    .dataframe tbody tr th:only-of-type {\n",
              "        vertical-align: middle;\n",
              "    }\n",
              "\n",
              "    .dataframe tbody tr th {\n",
              "        vertical-align: top;\n",
              "    }\n",
              "\n",
              "    .dataframe thead th {\n",
              "        text-align: right;\n",
              "    }\n",
              "</style>\n",
              "<table border=\"1\" class=\"dataframe\">\n",
              "  <thead>\n",
              "    <tr style=\"text-align: right;\">\n",
              "      <th></th>\n",
              "      <th>death</th>\n",
              "      <th>swear</th>\n",
              "      <th>swear_death_ratio</th>\n",
              "    </tr>\n",
              "    <tr>\n",
              "      <th>movie</th>\n",
              "      <th></th>\n",
              "      <th></th>\n",
              "      <th></th>\n",
              "    </tr>\n",
              "  </thead>\n",
              "  <tbody>\n",
              "    <tr>\n",
              "      <th>Django Unchained</th>\n",
              "      <td>47</td>\n",
              "      <td>262</td>\n",
              "      <td>5.574468</td>\n",
              "    </tr>\n",
              "    <tr>\n",
              "      <th>Inglorious Basterds</th>\n",
              "      <td>48</td>\n",
              "      <td>58</td>\n",
              "      <td>1.208333</td>\n",
              "    </tr>\n",
              "    <tr>\n",
              "      <th>Jackie Brown</th>\n",
              "      <td>4</td>\n",
              "      <td>368</td>\n",
              "      <td>92.000000</td>\n",
              "    </tr>\n",
              "    <tr>\n",
              "      <th>Kill Bill: Vol. 1</th>\n",
              "      <td>63</td>\n",
              "      <td>57</td>\n",
              "      <td>0.904762</td>\n",
              "    </tr>\n",
              "    <tr>\n",
              "      <th>Kill Bill: Vol. 2</th>\n",
              "      <td>11</td>\n",
              "      <td>69</td>\n",
              "      <td>6.272727</td>\n",
              "    </tr>\n",
              "    <tr>\n",
              "      <th>Pulp Fiction</th>\n",
              "      <td>7</td>\n",
              "      <td>469</td>\n",
              "      <td>67.000000</td>\n",
              "    </tr>\n",
              "    <tr>\n",
              "      <th>Reservoir Dogs</th>\n",
              "      <td>10</td>\n",
              "      <td>421</td>\n",
              "      <td>42.100000</td>\n",
              "    </tr>\n",
              "  </tbody>\n",
              "</table>\n",
              "</div>"
            ],
            "text/plain": [
              "                     death  swear  swear_death_ratio\n",
              "movie                                               \n",
              "Django Unchained        47    262           5.574468\n",
              "Inglorious Basterds     48     58           1.208333\n",
              "Jackie Brown             4    368          92.000000\n",
              "Kill Bill: Vol. 1       63     57           0.904762\n",
              "Kill Bill: Vol. 2       11     69           6.272727\n",
              "Pulp Fiction             7    469          67.000000\n",
              "Reservoir Dogs          10    421          42.100000"
            ]
          },
          "metadata": {
            "tags": []
          },
          "execution_count": 516
        }
      ]
    },
    {
      "cell_type": "code",
      "metadata": {
        "id": "xtFYW1HAfcTe",
        "colab_type": "code",
        "colab": {
          "base_uri": "https://localhost:8080/",
          "height": 206
        },
        "outputId": "0a861234-c3c6-4892-ba5a-73d9ad7f163c"
      },
      "source": [
        "data.head()"
      ],
      "execution_count": 517,
      "outputs": [
        {
          "output_type": "execute_result",
          "data": {
            "text/html": [
              "<div>\n",
              "<style scoped>\n",
              "    .dataframe tbody tr th:only-of-type {\n",
              "        vertical-align: middle;\n",
              "    }\n",
              "\n",
              "    .dataframe tbody tr th {\n",
              "        vertical-align: top;\n",
              "    }\n",
              "\n",
              "    .dataframe thead th {\n",
              "        text-align: right;\n",
              "    }\n",
              "</style>\n",
              "<table border=\"1\" class=\"dataframe\">\n",
              "  <thead>\n",
              "    <tr style=\"text-align: right;\">\n",
              "      <th></th>\n",
              "      <th>movie</th>\n",
              "      <th>type</th>\n",
              "      <th>word</th>\n",
              "      <th>minutes_in</th>\n",
              "      <th>swear</th>\n",
              "      <th>time_in</th>\n",
              "    </tr>\n",
              "  </thead>\n",
              "  <tbody>\n",
              "    <tr>\n",
              "      <th>0</th>\n",
              "      <td>Reservoir Dogs</td>\n",
              "      <td>word</td>\n",
              "      <td>pussy</td>\n",
              "      <td>2.15</td>\n",
              "      <td>pussy</td>\n",
              "      <td>(0, 10]</td>\n",
              "    </tr>\n",
              "    <tr>\n",
              "      <th>1</th>\n",
              "      <td>Reservoir Dogs</td>\n",
              "      <td>word</td>\n",
              "      <td>hell</td>\n",
              "      <td>2.48</td>\n",
              "      <td>hell</td>\n",
              "      <td>(0, 10]</td>\n",
              "    </tr>\n",
              "    <tr>\n",
              "      <th>2</th>\n",
              "      <td>Reservoir Dogs</td>\n",
              "      <td>word</td>\n",
              "      <td>bastard</td>\n",
              "      <td>7.38</td>\n",
              "      <td>bastard</td>\n",
              "      <td>(0, 10]</td>\n",
              "    </tr>\n",
              "    <tr>\n",
              "      <th>3</th>\n",
              "      <td>Reservoir Dogs</td>\n",
              "      <td>word</td>\n",
              "      <td>hell</td>\n",
              "      <td>27.21</td>\n",
              "      <td>hell</td>\n",
              "      <td>(20, 30]</td>\n",
              "    </tr>\n",
              "    <tr>\n",
              "      <th>4</th>\n",
              "      <td>Reservoir Dogs</td>\n",
              "      <td>word</td>\n",
              "      <td>hell</td>\n",
              "      <td>29.18</td>\n",
              "      <td>hell</td>\n",
              "      <td>(20, 30]</td>\n",
              "    </tr>\n",
              "  </tbody>\n",
              "</table>\n",
              "</div>"
            ],
            "text/plain": [
              "            movie  type     word  minutes_in    swear   time_in\n",
              "0  Reservoir Dogs  word    pussy        2.15    pussy   (0, 10]\n",
              "1  Reservoir Dogs  word     hell        2.48     hell   (0, 10]\n",
              "2  Reservoir Dogs  word  bastard        7.38  bastard   (0, 10]\n",
              "3  Reservoir Dogs  word     hell       27.21     hell  (20, 30]\n",
              "4  Reservoir Dogs  word     hell       29.18     hell  (20, 30]"
            ]
          },
          "metadata": {
            "tags": []
          },
          "execution_count": 517
        }
      ]
    },
    {
      "cell_type": "code",
      "metadata": {
        "id": "Zc7AZDrjftcR",
        "colab_type": "code",
        "colab": {
          "base_uri": "https://localhost:8080/",
          "height": 583
        },
        "outputId": "ce926f18-59c0-454e-cdbc-00937411568b"
      },
      "source": [
        "dn = pd.DataFrame(data.groupby([\"time_in\"]).agg({\"swear\": np.size}).unstack())\n",
        "dn.columns=['count']\n",
        "dn['time']=dn.index\n",
        "dn=df = dn.reset_index(drop=True)\n",
        "dn"
      ],
      "execution_count": 522,
      "outputs": [
        {
          "output_type": "execute_result",
          "data": {
            "text/html": [
              "<div>\n",
              "<style scoped>\n",
              "    .dataframe tbody tr th:only-of-type {\n",
              "        vertical-align: middle;\n",
              "    }\n",
              "\n",
              "    .dataframe tbody tr th {\n",
              "        vertical-align: top;\n",
              "    }\n",
              "\n",
              "    .dataframe thead th {\n",
              "        text-align: right;\n",
              "    }\n",
              "</style>\n",
              "<table border=\"1\" class=\"dataframe\">\n",
              "  <thead>\n",
              "    <tr style=\"text-align: right;\">\n",
              "      <th></th>\n",
              "      <th>count</th>\n",
              "      <th>time</th>\n",
              "    </tr>\n",
              "  </thead>\n",
              "  <tbody>\n",
              "    <tr>\n",
              "      <th>0</th>\n",
              "      <td>124</td>\n",
              "      <td>(swear, (0, 10])</td>\n",
              "    </tr>\n",
              "    <tr>\n",
              "      <th>1</th>\n",
              "      <td>178</td>\n",
              "      <td>(swear, (10, 20])</td>\n",
              "    </tr>\n",
              "    <tr>\n",
              "      <th>2</th>\n",
              "      <td>154</td>\n",
              "      <td>(swear, (20, 30])</td>\n",
              "    </tr>\n",
              "    <tr>\n",
              "      <th>3</th>\n",
              "      <td>109</td>\n",
              "      <td>(swear, (30, 40])</td>\n",
              "    </tr>\n",
              "    <tr>\n",
              "      <th>4</th>\n",
              "      <td>131</td>\n",
              "      <td>(swear, (40, 50])</td>\n",
              "    </tr>\n",
              "    <tr>\n",
              "      <th>5</th>\n",
              "      <td>97</td>\n",
              "      <td>(swear, (50, 60])</td>\n",
              "    </tr>\n",
              "    <tr>\n",
              "      <th>6</th>\n",
              "      <td>89</td>\n",
              "      <td>(swear, (60, 70])</td>\n",
              "    </tr>\n",
              "    <tr>\n",
              "      <th>7</th>\n",
              "      <td>126</td>\n",
              "      <td>(swear, (70, 80])</td>\n",
              "    </tr>\n",
              "    <tr>\n",
              "      <th>8</th>\n",
              "      <td>84</td>\n",
              "      <td>(swear, (80, 90])</td>\n",
              "    </tr>\n",
              "    <tr>\n",
              "      <th>9</th>\n",
              "      <td>94</td>\n",
              "      <td>(swear, (90, 100])</td>\n",
              "    </tr>\n",
              "    <tr>\n",
              "      <th>10</th>\n",
              "      <td>73</td>\n",
              "      <td>(swear, (100, 110])</td>\n",
              "    </tr>\n",
              "    <tr>\n",
              "      <th>11</th>\n",
              "      <td>128</td>\n",
              "      <td>(swear, (110, 120])</td>\n",
              "    </tr>\n",
              "    <tr>\n",
              "      <th>12</th>\n",
              "      <td>104</td>\n",
              "      <td>(swear, (120, 130])</td>\n",
              "    </tr>\n",
              "    <tr>\n",
              "      <th>13</th>\n",
              "      <td>110</td>\n",
              "      <td>(swear, (130, 140])</td>\n",
              "    </tr>\n",
              "    <tr>\n",
              "      <th>14</th>\n",
              "      <td>78</td>\n",
              "      <td>(swear, (140, 150])</td>\n",
              "    </tr>\n",
              "    <tr>\n",
              "      <th>15</th>\n",
              "      <td>23</td>\n",
              "      <td>(swear, (150, 160])</td>\n",
              "    </tr>\n",
              "    <tr>\n",
              "      <th>16</th>\n",
              "      <td>2</td>\n",
              "      <td>(swear, (160, 170])</td>\n",
              "    </tr>\n",
              "  </tbody>\n",
              "</table>\n",
              "</div>"
            ],
            "text/plain": [
              "    count                 time\n",
              "0     124     (swear, (0, 10])\n",
              "1     178    (swear, (10, 20])\n",
              "2     154    (swear, (20, 30])\n",
              "3     109    (swear, (30, 40])\n",
              "4     131    (swear, (40, 50])\n",
              "5      97    (swear, (50, 60])\n",
              "6      89    (swear, (60, 70])\n",
              "7     126    (swear, (70, 80])\n",
              "8      84    (swear, (80, 90])\n",
              "9      94   (swear, (90, 100])\n",
              "10     73  (swear, (100, 110])\n",
              "11    128  (swear, (110, 120])\n",
              "12    104  (swear, (120, 130])\n",
              "13    110  (swear, (130, 140])\n",
              "14     78  (swear, (140, 150])\n",
              "15     23  (swear, (150, 160])\n",
              "16      2  (swear, (160, 170])"
            ]
          },
          "metadata": {
            "tags": []
          },
          "execution_count": 522
        }
      ]
    },
    {
      "cell_type": "code",
      "metadata": {
        "id": "_CSrI-lHgjuA",
        "colab_type": "code",
        "colab": {
          "base_uri": "https://localhost:8080/",
          "height": 296
        },
        "outputId": "63d38fae-485d-445c-e081-60ffef3c72c3"
      },
      "source": [
        "sns.barplot(y='time',x='count',data=dn)"
      ],
      "execution_count": 524,
      "outputs": [
        {
          "output_type": "execute_result",
          "data": {
            "text/plain": [
              "<matplotlib.axes._subplots.AxesSubplot at 0x7fac75efa940>"
            ]
          },
          "metadata": {
            "tags": []
          },
          "execution_count": 524
        },
        {
          "output_type": "display_data",
          "data": {
            "image/png": "[encoded data removed]",
            "text/plain": [
              "<Figure size 432x288 with 1 Axes>"
            ]
          },
          "metadata": {
            "tags": [],
            "needs_background": "light"
          }
        }
      ]
    },
    {
      "cell_type": "code",
      "metadata": {
        "id": "__K0HU7Wh1en",
        "colab_type": "code",
        "colab": {}
      },
      "source": [
        ""
      ],
      "execution_count": 0,
      "outputs": []
    }
  ]
}