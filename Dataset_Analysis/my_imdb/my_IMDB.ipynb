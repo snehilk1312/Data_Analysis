{
  "nbformat": 4,
  "nbformat_minor": 0,
  "metadata": {
    "colab": {
      "name": "my_IMDB.ipynb",
      "provenance": [],
      "collapsed_sections": []
    },
    "kernelspec": {
      "name": "python3",
      "display_name": "Python 3"
    }
  },
  "cells": [
    {
      "cell_type": "code",
      "metadata": {
        "id": "0BtdNaCsTBo4",
        "colab_type": "code",
        "colab": {}
      },
      "source": [
        "import pandas as pd\n",
        "import matplotlib.pyplot as plt\n",
        "import numpy as np\n",
        "import seaborn as sns\n",
        "%matplotlib inline"
      ],
      "execution_count": 0,
      "outputs": []
    },
    {
      "cell_type": "code",
      "metadata": {
        "id": "7UXC6L7JUaBa",
        "colab_type": "code",
        "colab": {
          "base_uri": "https://localhost:8080/",
          "height": 310
        },
        "outputId": "deae2f4b-18f7-4841-c503-8fdbce4d7e0e"
      },
      "source": [
        "da=pd.read_csv('/content/ratings.csv')\n",
        "da.head()"
      ],
      "execution_count": 70,
      "outputs": [
        {
          "output_type": "execute_result",
          "data": {
            "text/html": [
              "<div>\n",
              "<style scoped>\n",
              "    .dataframe tbody tr th:only-of-type {\n",
              "        vertical-align: middle;\n",
              "    }\n",
              "\n",
              "    .dataframe tbody tr th {\n",
              "        vertical-align: top;\n",
              "    }\n",
              "\n",
              "    .dataframe thead th {\n",
              "        text-align: right;\n",
              "    }\n",
              "</style>\n",
              "<table border=\"1\" class=\"dataframe\">\n",
              "  <thead>\n",
              "    <tr style=\"text-align: right;\">\n",
              "      <th></th>\n",
              "      <th>Const</th>\n",
              "      <th>Your Rating</th>\n",
              "      <th>Date Rated</th>\n",
              "      <th>Title</th>\n",
              "      <th>URL</th>\n",
              "      <th>Title Type</th>\n",
              "      <th>IMDb Rating</th>\n",
              "      <th>Runtime (mins)</th>\n",
              "      <th>Year</th>\n",
              "      <th>Genres</th>\n",
              "      <th>Num Votes</th>\n",
              "      <th>Release Date</th>\n",
              "      <th>Directors</th>\n",
              "    </tr>\n",
              "  </thead>\n",
              "  <tbody>\n",
              "    <tr>\n",
              "      <th>0</th>\n",
              "      <td>tt1022603</td>\n",
              "      <td>10</td>\n",
              "      <td>2017-12-05</td>\n",
              "      <td>(500) Days of Summer</td>\n",
              "      <td>https://www.imdb.com/title/tt1022603/</td>\n",
              "      <td>movie</td>\n",
              "      <td>7.7</td>\n",
              "      <td>95.0</td>\n",
              "      <td>2009</td>\n",
              "      <td>Comedy, Drama, Romance</td>\n",
              "      <td>457096</td>\n",
              "      <td>2009-01-17</td>\n",
              "      <td>Marc Webb</td>\n",
              "    </tr>\n",
              "    <tr>\n",
              "      <th>1</th>\n",
              "      <td>tt1024648</td>\n",
              "      <td>9</td>\n",
              "      <td>2018-07-31</td>\n",
              "      <td>Argo</td>\n",
              "      <td>https://www.imdb.com/title/tt1024648/</td>\n",
              "      <td>movie</td>\n",
              "      <td>7.7</td>\n",
              "      <td>120.0</td>\n",
              "      <td>2012</td>\n",
              "      <td>Biography, Drama, Thriller</td>\n",
              "      <td>555233</td>\n",
              "      <td>2012-08-31</td>\n",
              "      <td>Ben Affleck</td>\n",
              "    </tr>\n",
              "    <tr>\n",
              "      <th>2</th>\n",
              "      <td>tt0102926</td>\n",
              "      <td>7</td>\n",
              "      <td>2020-04-21</td>\n",
              "      <td>The Silence of the Lambs</td>\n",
              "      <td>https://www.imdb.com/title/tt0102926/</td>\n",
              "      <td>movie</td>\n",
              "      <td>8.6</td>\n",
              "      <td>118.0</td>\n",
              "      <td>1991</td>\n",
              "      <td>Crime, Drama, Thriller</td>\n",
              "      <td>1205163</td>\n",
              "      <td>1991-01-30</td>\n",
              "      <td>Jonathan Demme</td>\n",
              "    </tr>\n",
              "    <tr>\n",
              "      <th>3</th>\n",
              "      <td>tt1034007</td>\n",
              "      <td>10</td>\n",
              "      <td>2017-12-22</td>\n",
              "      <td>Alias Grace</td>\n",
              "      <td>https://www.imdb.com/title/tt1034007/</td>\n",
              "      <td>tvMiniSeries</td>\n",
              "      <td>7.8</td>\n",
              "      <td>60.0</td>\n",
              "      <td>2017</td>\n",
              "      <td>Biography, Crime, Drama, Thriller</td>\n",
              "      <td>21860</td>\n",
              "      <td>2017-09-12</td>\n",
              "      <td>NaN</td>\n",
              "    </tr>\n",
              "    <tr>\n",
              "      <th>4</th>\n",
              "      <td>tt10422436</td>\n",
              "      <td>10</td>\n",
              "      <td>2019-12-04</td>\n",
              "      <td>Silicon Valley: RussFest</td>\n",
              "      <td>https://www.imdb.com/title/tt10422436/</td>\n",
              "      <td>tvEpisode</td>\n",
              "      <td>8.6</td>\n",
              "      <td>34.0</td>\n",
              "      <td>2019</td>\n",
              "      <td>Comedy</td>\n",
              "      <td>954</td>\n",
              "      <td>2019-12-01</td>\n",
              "      <td>Matt Ross</td>\n",
              "    </tr>\n",
              "  </tbody>\n",
              "</table>\n",
              "</div>"
            ],
            "text/plain": [
              "        Const  Your Rating  Date Rated  ... Num Votes Release Date       Directors\n",
              "0   tt1022603           10  2017-12-05  ...    457096   2009-01-17       Marc Webb\n",
              "1   tt1024648            9  2018-07-31  ...    555233   2012-08-31     Ben Affleck\n",
              "2   tt0102926            7  2020-04-21  ...   1205163   1991-01-30  Jonathan Demme\n",
              "3   tt1034007           10  2017-12-22  ...     21860   2017-09-12             NaN\n",
              "4  tt10422436           10  2019-12-04  ...       954   2019-12-01       Matt Ross\n",
              "\n",
              "[5 rows x 13 columns]"
            ]
          },
          "metadata": {
            "tags": []
          },
          "execution_count": 70
        }
      ]
    },
    {
      "cell_type": "code",
      "metadata": {
        "id": "XywXuFgoUivA",
        "colab_type": "code",
        "colab": {
          "base_uri": "https://localhost:8080/",
          "height": 206
        },
        "outputId": "aca75ce5-62a4-42d3-ea4d-fb1998d373c4"
      },
      "source": [
        "da=da[['Your Rating','Title','Title Type', 'IMDb Rating', 'Runtime (mins)','Year', 'Genres','Directors']]\n",
        "da.head()"
      ],
      "execution_count": 71,
      "outputs": [
        {
          "output_type": "execute_result",
          "data": {
            "text/html": [
              "<div>\n",
              "<style scoped>\n",
              "    .dataframe tbody tr th:only-of-type {\n",
              "        vertical-align: middle;\n",
              "    }\n",
              "\n",
              "    .dataframe tbody tr th {\n",
              "        vertical-align: top;\n",
              "    }\n",
              "\n",
              "    .dataframe thead th {\n",
              "        text-align: right;\n",
              "    }\n",
              "</style>\n",
              "<table border=\"1\" class=\"dataframe\">\n",
              "  <thead>\n",
              "    <tr style=\"text-align: right;\">\n",
              "      <th></th>\n",
              "      <th>Your Rating</th>\n",
              "      <th>Title</th>\n",
              "      <th>Title Type</th>\n",
              "      <th>IMDb Rating</th>\n",
              "      <th>Runtime (mins)</th>\n",
              "      <th>Year</th>\n",
              "      <th>Genres</th>\n",
              "      <th>Directors</th>\n",
              "    </tr>\n",
              "  </thead>\n",
              "  <tbody>\n",
              "    <tr>\n",
              "      <th>0</th>\n",
              "      <td>10</td>\n",
              "      <td>(500) Days of Summer</td>\n",
              "      <td>movie</td>\n",
              "      <td>7.7</td>\n",
              "      <td>95.0</td>\n",
              "      <td>2009</td>\n",
              "      <td>Comedy, Drama, Romance</td>\n",
              "      <td>Marc Webb</td>\n",
              "    </tr>\n",
              "    <tr>\n",
              "      <th>1</th>\n",
              "      <td>9</td>\n",
              "      <td>Argo</td>\n",
              "      <td>movie</td>\n",
              "      <td>7.7</td>\n",
              "      <td>120.0</td>\n",
              "      <td>2012</td>\n",
              "      <td>Biography, Drama, Thriller</td>\n",
              "      <td>Ben Affleck</td>\n",
              "    </tr>\n",
              "    <tr>\n",
              "      <th>2</th>\n",
              "      <td>7</td>\n",
              "      <td>The Silence of the Lambs</td>\n",
              "      <td>movie</td>\n",
              "      <td>8.6</td>\n",
              "      <td>118.0</td>\n",
              "      <td>1991</td>\n",
              "      <td>Crime, Drama, Thriller</td>\n",
              "      <td>Jonathan Demme</td>\n",
              "    </tr>\n",
              "    <tr>\n",
              "      <th>3</th>\n",
              "      <td>10</td>\n",
              "      <td>Alias Grace</td>\n",
              "      <td>tvMiniSeries</td>\n",
              "      <td>7.8</td>\n",
              "      <td>60.0</td>\n",
              "      <td>2017</td>\n",
              "      <td>Biography, Crime, Drama, Thriller</td>\n",
              "      <td>NaN</td>\n",
              "    </tr>\n",
              "    <tr>\n",
              "      <th>4</th>\n",
              "      <td>10</td>\n",
              "      <td>Silicon Valley: RussFest</td>\n",
              "      <td>tvEpisode</td>\n",
              "      <td>8.6</td>\n",
              "      <td>34.0</td>\n",
              "      <td>2019</td>\n",
              "      <td>Comedy</td>\n",
              "      <td>Matt Ross</td>\n",
              "    </tr>\n",
              "  </tbody>\n",
              "</table>\n",
              "</div>"
            ],
            "text/plain": [
              "   Your Rating  ...       Directors\n",
              "0           10  ...       Marc Webb\n",
              "1            9  ...     Ben Affleck\n",
              "2            7  ...  Jonathan Demme\n",
              "3           10  ...             NaN\n",
              "4           10  ...       Matt Ross\n",
              "\n",
              "[5 rows x 8 columns]"
            ]
          },
          "metadata": {
            "tags": []
          },
          "execution_count": 71
        }
      ]
    },
    {
      "cell_type": "code",
      "metadata": {
        "id": "AAfEb0m_VBSn",
        "colab_type": "code",
        "colab": {
          "base_uri": "https://localhost:8080/",
          "height": 34
        },
        "outputId": "9bdd7e70-930e-433e-8ac8-c094033a6c00"
      },
      "source": [
        "da['Title Type'].isnull().sum()"
      ],
      "execution_count": 72,
      "outputs": [
        {
          "output_type": "execute_result",
          "data": {
            "text/plain": [
              "0"
            ]
          },
          "metadata": {
            "tags": []
          },
          "execution_count": 72
        }
      ]
    },
    {
      "cell_type": "code",
      "metadata": {
        "id": "K7ujc3IvVQ4r",
        "colab_type": "code",
        "colab": {
          "base_uri": "https://localhost:8080/",
          "height": 52
        },
        "outputId": "f82f709d-bf8d-4acd-ad9b-556a4a834f6b"
      },
      "source": [
        "da['Title Type'].unique()"
      ],
      "execution_count": 73,
      "outputs": [
        {
          "output_type": "execute_result",
          "data": {
            "text/plain": [
              "array(['movie', 'tvMiniSeries', 'tvEpisode', 'tvSeries', 'video',\n",
              "       'tvMovie'], dtype=object)"
            ]
          },
          "metadata": {
            "tags": []
          },
          "execution_count": 73
        }
      ]
    },
    {
      "cell_type": "code",
      "metadata": {
        "id": "k5gACdLoVYhp",
        "colab_type": "code",
        "colab": {
          "base_uri": "https://localhost:8080/",
          "height": 34
        },
        "outputId": "d71c588d-d181-43ca-9f0a-febf6f3888f5"
      },
      "source": [
        "da['Title Type'].replace({'tvMiniSeries':'tvSeries','tvMovie':'movie','video':'movie'},inplace=True)\n",
        "da['Title Type'].unique()"
      ],
      "execution_count": 74,
      "outputs": [
        {
          "output_type": "execute_result",
          "data": {
            "text/plain": [
              "array(['movie', 'tvSeries', 'tvEpisode'], dtype=object)"
            ]
          },
          "metadata": {
            "tags": []
          },
          "execution_count": 74
        }
      ]
    },
    {
      "cell_type": "code",
      "metadata": {
        "id": "gt0YKmi3W2X3",
        "colab_type": "code",
        "colab": {
          "base_uri": "https://localhost:8080/",
          "height": 34
        },
        "outputId": "305ced6a-87f6-49c0-ae5f-61940a098817"
      },
      "source": [
        "da.drop([4,180,192],inplace=True,axis=0)\n",
        "da['Title Type'].unique()"
      ],
      "execution_count": 75,
      "outputs": [
        {
          "output_type": "execute_result",
          "data": {
            "text/plain": [
              "array(['movie', 'tvSeries'], dtype=object)"
            ]
          },
          "metadata": {
            "tags": []
          },
          "execution_count": 75
        }
      ]
    },
    {
      "cell_type": "code",
      "metadata": {
        "id": "mN5S_QInXqW7",
        "colab_type": "code",
        "colab": {
          "base_uri": "https://localhost:8080/",
          "height": 206
        },
        "outputId": "a2a8f4f0-39e3-44d3-8ea9-67501c09714c"
      },
      "source": [
        "da.head()"
      ],
      "execution_count": 76,
      "outputs": [
        {
          "output_type": "execute_result",
          "data": {
            "text/html": [
              "<div>\n",
              "<style scoped>\n",
              "    .dataframe tbody tr th:only-of-type {\n",
              "        vertical-align: middle;\n",
              "    }\n",
              "\n",
              "    .dataframe tbody tr th {\n",
              "        vertical-align: top;\n",
              "    }\n",
              "\n",
              "    .dataframe thead th {\n",
              "        text-align: right;\n",
              "    }\n",
              "</style>\n",
              "<table border=\"1\" class=\"dataframe\">\n",
              "  <thead>\n",
              "    <tr style=\"text-align: right;\">\n",
              "      <th></th>\n",
              "      <th>Your Rating</th>\n",
              "      <th>Title</th>\n",
              "      <th>Title Type</th>\n",
              "      <th>IMDb Rating</th>\n",
              "      <th>Runtime (mins)</th>\n",
              "      <th>Year</th>\n",
              "      <th>Genres</th>\n",
              "      <th>Directors</th>\n",
              "    </tr>\n",
              "  </thead>\n",
              "  <tbody>\n",
              "    <tr>\n",
              "      <th>0</th>\n",
              "      <td>10</td>\n",
              "      <td>(500) Days of Summer</td>\n",
              "      <td>movie</td>\n",
              "      <td>7.7</td>\n",
              "      <td>95.0</td>\n",
              "      <td>2009</td>\n",
              "      <td>Comedy, Drama, Romance</td>\n",
              "      <td>Marc Webb</td>\n",
              "    </tr>\n",
              "    <tr>\n",
              "      <th>1</th>\n",
              "      <td>9</td>\n",
              "      <td>Argo</td>\n",
              "      <td>movie</td>\n",
              "      <td>7.7</td>\n",
              "      <td>120.0</td>\n",
              "      <td>2012</td>\n",
              "      <td>Biography, Drama, Thriller</td>\n",
              "      <td>Ben Affleck</td>\n",
              "    </tr>\n",
              "    <tr>\n",
              "      <th>2</th>\n",
              "      <td>7</td>\n",
              "      <td>The Silence of the Lambs</td>\n",
              "      <td>movie</td>\n",
              "      <td>8.6</td>\n",
              "      <td>118.0</td>\n",
              "      <td>1991</td>\n",
              "      <td>Crime, Drama, Thriller</td>\n",
              "      <td>Jonathan Demme</td>\n",
              "    </tr>\n",
              "    <tr>\n",
              "      <th>3</th>\n",
              "      <td>10</td>\n",
              "      <td>Alias Grace</td>\n",
              "      <td>tvSeries</td>\n",
              "      <td>7.8</td>\n",
              "      <td>60.0</td>\n",
              "      <td>2017</td>\n",
              "      <td>Biography, Crime, Drama, Thriller</td>\n",
              "      <td>NaN</td>\n",
              "    </tr>\n",
              "    <tr>\n",
              "      <th>5</th>\n",
              "      <td>10</td>\n",
              "      <td>Silver Linings Playbook</td>\n",
              "      <td>movie</td>\n",
              "      <td>7.7</td>\n",
              "      <td>122.0</td>\n",
              "      <td>2012</td>\n",
              "      <td>Comedy, Drama, Romance</td>\n",
              "      <td>David O. Russell</td>\n",
              "    </tr>\n",
              "  </tbody>\n",
              "</table>\n",
              "</div>"
            ],
            "text/plain": [
              "   Your Rating  ...         Directors\n",
              "0           10  ...         Marc Webb\n",
              "1            9  ...       Ben Affleck\n",
              "2            7  ...    Jonathan Demme\n",
              "3           10  ...               NaN\n",
              "5           10  ...  David O. Russell\n",
              "\n",
              "[5 rows x 8 columns]"
            ]
          },
          "metadata": {
            "tags": []
          },
          "execution_count": 76
        }
      ]
    },
    {
      "cell_type": "code",
      "metadata": {
        "id": "LYr7NuBZYF96",
        "colab_type": "code",
        "colab": {}
      },
      "source": [
        "from pandas import Series, DataFrame\n",
        "s = da['Genres'].str.split(',').apply(Series,1).stack()\n",
        "s.index = s.index.droplevel(-1)\n",
        "s.name = 'Genres'\n",
        "del da['Genres']\n",
        "da = da.join(s)\n"
      ],
      "execution_count": 0,
      "outputs": []
    },
    {
      "cell_type": "code",
      "metadata": {
        "id": "0eOdueas59c9",
        "colab_type": "code",
        "colab": {
          "base_uri": "https://localhost:8080/",
          "height": 206
        },
        "outputId": "48ecc059-444b-4651-8dfd-50c093f3e440"
      },
      "source": [
        "da.head()"
      ],
      "execution_count": 78,
      "outputs": [
        {
          "output_type": "execute_result",
          "data": {
            "text/html": [
              "<div>\n",
              "<style scoped>\n",
              "    .dataframe tbody tr th:only-of-type {\n",
              "        vertical-align: middle;\n",
              "    }\n",
              "\n",
              "    .dataframe tbody tr th {\n",
              "        vertical-align: top;\n",
              "    }\n",
              "\n",
              "    .dataframe thead th {\n",
              "        text-align: right;\n",
              "    }\n",
              "</style>\n",
              "<table border=\"1\" class=\"dataframe\">\n",
              "  <thead>\n",
              "    <tr style=\"text-align: right;\">\n",
              "      <th></th>\n",
              "      <th>Your Rating</th>\n",
              "      <th>Title</th>\n",
              "      <th>Title Type</th>\n",
              "      <th>IMDb Rating</th>\n",
              "      <th>Runtime (mins)</th>\n",
              "      <th>Year</th>\n",
              "      <th>Directors</th>\n",
              "      <th>Genres</th>\n",
              "    </tr>\n",
              "  </thead>\n",
              "  <tbody>\n",
              "    <tr>\n",
              "      <th>0</th>\n",
              "      <td>10</td>\n",
              "      <td>(500) Days of Summer</td>\n",
              "      <td>movie</td>\n",
              "      <td>7.7</td>\n",
              "      <td>95.0</td>\n",
              "      <td>2009</td>\n",
              "      <td>Marc Webb</td>\n",
              "      <td>Comedy</td>\n",
              "    </tr>\n",
              "    <tr>\n",
              "      <th>0</th>\n",
              "      <td>10</td>\n",
              "      <td>(500) Days of Summer</td>\n",
              "      <td>movie</td>\n",
              "      <td>7.7</td>\n",
              "      <td>95.0</td>\n",
              "      <td>2009</td>\n",
              "      <td>Marc Webb</td>\n",
              "      <td>Drama</td>\n",
              "    </tr>\n",
              "    <tr>\n",
              "      <th>0</th>\n",
              "      <td>10</td>\n",
              "      <td>(500) Days of Summer</td>\n",
              "      <td>movie</td>\n",
              "      <td>7.7</td>\n",
              "      <td>95.0</td>\n",
              "      <td>2009</td>\n",
              "      <td>Marc Webb</td>\n",
              "      <td>Romance</td>\n",
              "    </tr>\n",
              "    <tr>\n",
              "      <th>1</th>\n",
              "      <td>9</td>\n",
              "      <td>Argo</td>\n",
              "      <td>movie</td>\n",
              "      <td>7.7</td>\n",
              "      <td>120.0</td>\n",
              "      <td>2012</td>\n",
              "      <td>Ben Affleck</td>\n",
              "      <td>Biography</td>\n",
              "    </tr>\n",
              "    <tr>\n",
              "      <th>1</th>\n",
              "      <td>9</td>\n",
              "      <td>Argo</td>\n",
              "      <td>movie</td>\n",
              "      <td>7.7</td>\n",
              "      <td>120.0</td>\n",
              "      <td>2012</td>\n",
              "      <td>Ben Affleck</td>\n",
              "      <td>Drama</td>\n",
              "    </tr>\n",
              "  </tbody>\n",
              "</table>\n",
              "</div>"
            ],
            "text/plain": [
              "   Your Rating                 Title Title Type  ...  Year    Directors     Genres\n",
              "0           10  (500) Days of Summer      movie  ...  2009    Marc Webb     Comedy\n",
              "0           10  (500) Days of Summer      movie  ...  2009    Marc Webb      Drama\n",
              "0           10  (500) Days of Summer      movie  ...  2009    Marc Webb    Romance\n",
              "1            9                  Argo      movie  ...  2012  Ben Affleck  Biography\n",
              "1            9                  Argo      movie  ...  2012  Ben Affleck      Drama\n",
              "\n",
              "[5 rows x 8 columns]"
            ]
          },
          "metadata": {
            "tags": []
          },
          "execution_count": 78
        }
      ]
    },
    {
      "cell_type": "code",
      "metadata": {
        "id": "RX2fJSrX6MGT",
        "colab_type": "code",
        "colab": {
          "base_uri": "https://localhost:8080/",
          "height": 1000
        },
        "outputId": "bb395b44-41b6-47b6-ffa2-ac25a12ff9f2"
      },
      "source": [
        "gp_obj1 = da.groupby('Genres')\n",
        "gp_obj1.groups"
      ],
      "execution_count": 79,
      "outputs": [
        {
          "output_type": "execute_result",
          "data": {
            "text/plain": [
              "{' Action': Int64Index([89], dtype='int64'),\n",
              " ' Adventure': Int64Index([ 16,  31,  33,  37,  39,  40,  43,  44,  45,  48,  55,  61,  62,\n",
              "              65,  69,  70,  71,  73,  80,  88,  89,  90,  98, 103, 105, 107,\n",
              "             109, 116, 121, 126, 127, 130, 131, 136, 137, 138, 140, 141, 155,\n",
              "             159, 184, 185, 188, 189, 196, 199, 200, 204, 206, 209, 210],\n",
              "            dtype='int64'),\n",
              " ' Biography': Int64Index([120, 156, 183], dtype='int64'),\n",
              " ' Comedy': Int64Index([44, 73, 103, 121, 130, 131, 155, 159, 178, 201], dtype='int64'),\n",
              " ' Crime': Int64Index([  3,  33,  68,  72,  84,  85, 100, 104, 112, 113, 117, 118, 128,\n",
              "             142, 146, 169, 185, 186, 214],\n",
              "            dtype='int64'),\n",
              " ' Drama': Int64Index([  0,   1,   2,   3,   5,   6,   9,  12,  17,  19,  21,  22,  23,\n",
              "              24,  25,  27,  30,  31,  34,  41,  46,  52,  53,  58,  60,  61,\n",
              "              68,  72,  74,  75,  76,  79,  82,  83,  84,  85,  86,  91,  92,\n",
              "              94,  97,  99, 100, 102, 106, 107, 108, 110, 111, 112, 113, 117,\n",
              "             118, 119, 120, 124, 128, 133, 134, 138, 139, 142, 145, 146, 147,\n",
              "             149, 154, 155, 156, 162, 163, 165, 169, 170, 175, 176, 177, 178,\n",
              "             179, 182, 183, 186, 190, 195, 203, 205, 206, 208, 211, 214],\n",
              "            dtype='int64'),\n",
              " ' Family': Int64Index([67, 87, 89, 106, 130, 135, 151, 193, 212], dtype='int64'),\n",
              " ' Fantasy': Int64Index([ 24,  25,  30,  31,  39,  52,  53,  62,  67,  82,  86,  87,  89,\n",
              "              90, 106, 112, 116, 121, 123, 130, 135, 141, 143, 151, 161, 184,\n",
              "             189, 191, 193, 199, 206, 209, 211],\n",
              "            dtype='int64'),\n",
              " ' History': Int64Index([9, 48, 74, 78, 154], dtype='int64'),\n",
              " ' Horror': Int64Index([49, 89, 123, 143, 194], dtype='int64'),\n",
              " ' Music': Int64Index([91, 95, 178, 191], dtype='int64'),\n",
              " ' Musical': Int64Index([174, 191], dtype='int64'),\n",
              " ' Mystery': Int64Index([ 17,  22,  25,  29,  30,  33,  41,  46,  54,  66,  79,  81,  83,\n",
              "             123, 128, 134, 142, 143, 148, 150, 157, 158, 161, 198, 207],\n",
              "            dtype='int64'),\n",
              " ' News': Int64Index([122], dtype='int64'),\n",
              " ' Romance': Int64Index([  0,   5,  10,  11,  14,  18,  19,  20,  23,  26,  33,  36,  48,\n",
              "              51,  58,  63,  75,  96, 108, 114, 115, 119, 124, 125, 129, 132,\n",
              "             151, 153, 161, 163, 168, 170, 191, 202, 206, 211],\n",
              "            dtype='int64'),\n",
              " ' Sci-Fi': Int64Index([ 16,  27,  34,  35,  39,  40,  43,  44,  45,  55,  63,  65,  69,\n",
              "              70,  71,  73,  77,  80,  84,  88,  89,  90,  98, 103, 105, 107,\n",
              "             109, 111, 112, 113, 115, 119, 121, 127, 128, 131, 134, 136, 137,\n",
              "             138, 140, 141, 143, 148, 150, 159, 166, 172, 175, 184, 187, 188,\n",
              "             189, 195, 197, 199, 201, 204, 207, 209],\n",
              "            dtype='int64'),\n",
              " ' Sport': Int64Index([19, 156], dtype='int64'),\n",
              " ' Talk-Show': Int64Index([122], dtype='int64'),\n",
              " ' Thriller': Int64Index([  1,   2,   3,   6,  15,  17,  22,  29,  33,  34,  40,  41,  46,\n",
              "              48,  49,  54,  67,  69,  70,  71,  72,  76,  77,  81,  83,  84,\n",
              "              98, 100, 102, 111, 112, 113, 117, 118, 119, 128, 139, 142, 143,\n",
              "             146, 149, 150, 154, 155, 157, 158, 165, 166, 169, 176, 179, 186,\n",
              "             195, 197, 198, 203, 204, 207],\n",
              "            dtype='int64'),\n",
              " ' War': Int64Index([18, 32, 76, 78, 91, 97, 141, 154, 155], dtype='int64'),\n",
              " ' Western': Int64Index([148, 160], dtype='int64'),\n",
              " 'Action': Int64Index([ 16,  31,  33,  34,  35,  37,  39,  40,  43,  44,  45,  48,  55,\n",
              "              61,  62,  65,  69,  70,  71,  72,  73,  80,  84,  88,  90,  98,\n",
              "             104, 105, 107, 109, 111, 112, 113, 116, 117, 118, 121, 123, 126,\n",
              "             127, 128, 131, 134, 136, 137, 138, 140, 141, 142, 146, 154, 155,\n",
              "             156, 159, 169, 184, 185, 188, 189, 196, 197, 199, 200, 204, 206,\n",
              "             209, 210],\n",
              "            dtype='int64'),\n",
              " 'Adventure': Int64Index([24, 25, 52, 53, 67, 86, 87, 106, 120, 135, 151, 172, 183, 193, 195,\n",
              "             201],\n",
              "            dtype='int64'),\n",
              " 'Animation': Int64Index([89, 103, 130, 211], dtype='int64'),\n",
              " 'Biography': Int64Index([1, 3, 9, 60, 68, 74, 76, 91, 99, 100, 110, 177, 178, 214], dtype='int64'),\n",
              " 'Comedy': Int64Index([  0,   5,   8,  10,  19,  21,  23,  27,  47,  50,  58,  59,  75,\n",
              "              82,  85,  92,  93,  94,  97, 108, 119, 122, 124, 125, 132, 133,\n",
              "             144, 145, 147, 152, 153, 162, 163, 164, 170, 171, 176, 186, 191,\n",
              "             202, 205, 208, 213],\n",
              "            dtype='int64'),\n",
              " 'Crime': Int64Index([  2,   6,  12,  17,  22,  30,  41,  46,  79,  83, 102, 139, 149,\n",
              "             165, 175, 179, 182, 190, 203],\n",
              "            dtype='int64'),\n",
              " 'Drama': Int64Index([  7,  11,  13,  14,  18,  20,  26,  28,  29,  32,  36,  38,  49,\n",
              "              51,  54,  56,  57,  63,  64,  66,  77,  78,  81,  95,  96, 114,\n",
              "             115, 129, 143, 148, 150, 160, 161, 166, 168, 173, 174, 181, 194,\n",
              "             207, 212],\n",
              "            dtype='int64'),\n",
              " 'Horror': Int64Index([42, 157, 158, 167, 187, 198], dtype='int64'),\n",
              " 'Mystery': Int64Index([15], dtype='int64'),\n",
              " 'Romance': Int64Index([101], dtype='int64')}"
            ]
          },
          "metadata": {
            "tags": []
          },
          "execution_count": 79
        }
      ]
    },
    {
      "cell_type": "code",
      "metadata": {
        "id": "0cbvoGuQ6ce4",
        "colab_type": "code",
        "colab": {
          "base_uri": "https://localhost:8080/",
          "height": 34
        },
        "outputId": "70885b27-6a50-4569-e151-32496e654053"
      },
      "source": [
        "da.shape"
      ],
      "execution_count": 80,
      "outputs": [
        {
          "output_type": "execute_result",
          "data": {
            "text/plain": [
              "(638, 8)"
            ]
          },
          "metadata": {
            "tags": []
          },
          "execution_count": 80
        }
      ]
    },
    {
      "cell_type": "code",
      "metadata": {
        "id": "jFuNCEFs6kaf",
        "colab_type": "code",
        "colab": {}
      },
      "source": [
        "\n",
        "da_movie=da[da['Title Type']=='movie']\n",
        "da_tv=da[da['Title Type']=='tvSeries']\n"
      ],
      "execution_count": 0,
      "outputs": []
    },
    {
      "cell_type": "code",
      "metadata": {
        "id": "VqTFffiL9Z5k",
        "colab_type": "code",
        "colab": {}
      },
      "source": [
        ""
      ],
      "execution_count": 0,
      "outputs": []
    },
    {
      "cell_type": "code",
      "metadata": {
        "id": "zG4_4rKw7PEj",
        "colab_type": "code",
        "colab": {
          "base_uri": "https://localhost:8080/",
          "height": 513
        },
        "outputId": "83271ff0-f352-4b4e-9c7e-2a678741ab4d"
      },
      "source": [
        "# Get movies seen of  year, create new data frame\n",
        "da_movie_yr = pd.DataFrame(da_movie.groupby('Year').Title.nunique())\n",
        "da_movie_yr.plot.line(title = 'Movies seen by year',color='DarkBlue',figsize=(10, 8));"
      ],
      "execution_count": 82,
      "outputs": [
        {
          "output_type": "display_data",
          "data": {
            "image/png": "[encoded data removed]",
            "text/plain": [
              "<Figure size 720x576 with 1 Axes>"
            ]
          },
          "metadata": {
            "tags": [],
            "needs_background": "light"
          }
        }
      ]
    },
    {
      "cell_type": "code",
      "metadata": {
        "id": "1Ph_hqms9mB0",
        "colab_type": "code",
        "colab": {
          "base_uri": "https://localhost:8080/",
          "height": 206
        },
        "outputId": "b5fe6178-b36c-4efd-b78d-a6d4c700152f"
      },
      "source": [
        "da_movie_yr['year']=da_movie_yr.index\n",
        "da_movie_yr.reset_index(drop=True,inplace=True)\n",
        "da_movie_yr.head()"
      ],
      "execution_count": 83,
      "outputs": [
        {
          "output_type": "execute_result",
          "data": {
            "text/html": [
              "<div>\n",
              "<style scoped>\n",
              "    .dataframe tbody tr th:only-of-type {\n",
              "        vertical-align: middle;\n",
              "    }\n",
              "\n",
              "    .dataframe tbody tr th {\n",
              "        vertical-align: top;\n",
              "    }\n",
              "\n",
              "    .dataframe thead th {\n",
              "        text-align: right;\n",
              "    }\n",
              "</style>\n",
              "<table border=\"1\" class=\"dataframe\">\n",
              "  <thead>\n",
              "    <tr style=\"text-align: right;\">\n",
              "      <th></th>\n",
              "      <th>Title</th>\n",
              "      <th>year</th>\n",
              "    </tr>\n",
              "  </thead>\n",
              "  <tbody>\n",
              "    <tr>\n",
              "      <th>0</th>\n",
              "      <td>1</td>\n",
              "      <td>1960</td>\n",
              "    </tr>\n",
              "    <tr>\n",
              "      <th>1</th>\n",
              "      <td>1</td>\n",
              "      <td>1964</td>\n",
              "    </tr>\n",
              "    <tr>\n",
              "      <th>2</th>\n",
              "      <td>1</td>\n",
              "      <td>1967</td>\n",
              "    </tr>\n",
              "    <tr>\n",
              "      <th>3</th>\n",
              "      <td>1</td>\n",
              "      <td>1968</td>\n",
              "    </tr>\n",
              "    <tr>\n",
              "      <th>4</th>\n",
              "      <td>2</td>\n",
              "      <td>1971</td>\n",
              "    </tr>\n",
              "  </tbody>\n",
              "</table>\n",
              "</div>"
            ],
            "text/plain": [
              "   Title  year\n",
              "0      1  1960\n",
              "1      1  1964\n",
              "2      1  1967\n",
              "3      1  1968\n",
              "4      2  1971"
            ]
          },
          "metadata": {
            "tags": []
          },
          "execution_count": 83
        }
      ]
    },
    {
      "cell_type": "markdown",
      "metadata": {
        "id": "X5ouzqsp9lv1",
        "colab_type": "text"
      },
      "source": [
        ""
      ]
    },
    {
      "cell_type": "code",
      "metadata": {
        "id": "N2QHuQpf7moJ",
        "colab_type": "code",
        "colab": {
          "base_uri": "https://localhost:8080/",
          "height": 729
        },
        "outputId": "944b6b93-8fc3-4bf1-94f4-d0b317216b13"
      },
      "source": [
        "#barplot of movies seen by year\n",
        "a4_dims = (15,10)\n",
        "fig, ax = plt.subplots(figsize=a4_dims)\n",
        "sns.barplot(ax=ax,y='Title',x='year',data=da_movie_yr)\n",
        "ax.set_xticklabels(ax.get_xticklabels(), rotation=60, ha=\"right\")\n",
        "plt.tight_layout()\n",
        "from google.colab import files\n",
        "plt.savefig('movies_seen_as_yr.pdf')\n",
        "files.download('movies_seen_as_yr.pdf')\n",
        "plt.show()"
      ],
      "execution_count": 126,
      "outputs": [
        {
          "output_type": "display_data",
          "data": {
            "image/png": "[encoded data removed]",
            "text/plain": [
              "<Figure size 1080x720 with 1 Axes>"
            ]
          },
          "metadata": {
            "tags": [],
            "needs_background": "light"
          }
        }
      ]
    },
    {
      "cell_type": "code",
      "metadata": {
        "id": "cjb4Q6dX9CKa",
        "colab_type": "code",
        "colab": {}
      },
      "source": [
        "da_movies_genres = (pd.DataFrame(da_movies.groupby('Genres').Title.nunique())).sort_values('Title',ascending=False)"
      ],
      "execution_count": 0,
      "outputs": []
    },
    {
      "cell_type": "code",
      "metadata": {
        "id": "7_p9-QrhGWG3",
        "colab_type": "code",
        "colab": {
          "base_uri": "https://localhost:8080/",
          "height": 238
        },
        "outputId": "b055a68e-92b1-4a94-9d7f-a9879fa51036"
      },
      "source": [
        "da_movies_genres.head()"
      ],
      "execution_count": 100,
      "outputs": [
        {
          "output_type": "execute_result",
          "data": {
            "text/html": [
              "<div>\n",
              "<style scoped>\n",
              "    .dataframe tbody tr th:only-of-type {\n",
              "        vertical-align: middle;\n",
              "    }\n",
              "\n",
              "    .dataframe tbody tr th {\n",
              "        vertical-align: top;\n",
              "    }\n",
              "\n",
              "    .dataframe thead th {\n",
              "        text-align: right;\n",
              "    }\n",
              "</style>\n",
              "<table border=\"1\" class=\"dataframe\">\n",
              "  <thead>\n",
              "    <tr style=\"text-align: right;\">\n",
              "      <th></th>\n",
              "      <th>Title</th>\n",
              "    </tr>\n",
              "    <tr>\n",
              "      <th>Genres</th>\n",
              "      <th></th>\n",
              "    </tr>\n",
              "  </thead>\n",
              "  <tbody>\n",
              "    <tr>\n",
              "      <th>Drama</th>\n",
              "      <td>68</td>\n",
              "    </tr>\n",
              "    <tr>\n",
              "      <th>Action</th>\n",
              "      <td>58</td>\n",
              "    </tr>\n",
              "    <tr>\n",
              "      <th>Sci-Fi</th>\n",
              "      <td>50</td>\n",
              "    </tr>\n",
              "    <tr>\n",
              "      <th>Adventure</th>\n",
              "      <td>47</td>\n",
              "    </tr>\n",
              "    <tr>\n",
              "      <th>Thriller</th>\n",
              "      <td>40</td>\n",
              "    </tr>\n",
              "  </tbody>\n",
              "</table>\n",
              "</div>"
            ],
            "text/plain": [
              "            Title\n",
              "Genres           \n",
              " Drama         68\n",
              "Action         58\n",
              " Sci-Fi        50\n",
              " Adventure     47\n",
              " Thriller      40"
            ]
          },
          "metadata": {
            "tags": []
          },
          "execution_count": 100
        }
      ]
    },
    {
      "cell_type": "code",
      "metadata": {
        "id": "vQ6vSyw-GaEx",
        "colab_type": "code",
        "colab": {
          "base_uri": "https://localhost:8080/",
          "height": 1000
        },
        "outputId": "e179f8f6-594c-4c57-c299-532c2a5f203b"
      },
      "source": [
        "da_movies_genres['Title'].plot.pie(title= 'Movies per Genre in %', figsize=(20,20), autopct='%1.1f%%',fontsize=15)\n",
        "from google.colab import files\n",
        "plt.savefig('movies_genres.pdf')\n",
        "files.download('movies_genres.pdf')"
      ],
      "execution_count": 121,
      "outputs": [
        {
          "output_type": "display_data",
          "data": {
            "image/png": "[encoded data removed]",
            "text/plain": [
              "<Figure size 1440x1440 with 1 Axes>"
            ]
          },
          "metadata": {
            "tags": []
          }
        }
      ]
    },
    {
      "cell_type": "code",
      "metadata": {
        "id": "vh32__VIGiit",
        "colab_type": "code",
        "colab": {}
      },
      "source": [
        "watch_type = (pd.DataFrame(da.groupby('Title Type').Title.nunique())).sort_values('Title',ascending=False)"
      ],
      "execution_count": 0,
      "outputs": []
    },
    {
      "cell_type": "code",
      "metadata": {
        "id": "kRggMBJ3KITr",
        "colab_type": "code",
        "colab": {
          "base_uri": "https://localhost:8080/",
          "height": 143
        },
        "outputId": "97cf01b9-7755-47de-cf0b-d1d128291782"
      },
      "source": [
        "watch_type"
      ],
      "execution_count": 106,
      "outputs": [
        {
          "output_type": "execute_result",
          "data": {
            "text/html": [
              "<div>\n",
              "<style scoped>\n",
              "    .dataframe tbody tr th:only-of-type {\n",
              "        vertical-align: middle;\n",
              "    }\n",
              "\n",
              "    .dataframe tbody tr th {\n",
              "        vertical-align: top;\n",
              "    }\n",
              "\n",
              "    .dataframe thead th {\n",
              "        text-align: right;\n",
              "    }\n",
              "</style>\n",
              "<table border=\"1\" class=\"dataframe\">\n",
              "  <thead>\n",
              "    <tr style=\"text-align: right;\">\n",
              "      <th></th>\n",
              "      <th>Title</th>\n",
              "    </tr>\n",
              "    <tr>\n",
              "      <th>Title Type</th>\n",
              "      <th></th>\n",
              "    </tr>\n",
              "  </thead>\n",
              "  <tbody>\n",
              "    <tr>\n",
              "      <th>movie</th>\n",
              "      <td>171</td>\n",
              "    </tr>\n",
              "    <tr>\n",
              "      <th>tvSeries</th>\n",
              "      <td>41</td>\n",
              "    </tr>\n",
              "  </tbody>\n",
              "</table>\n",
              "</div>"
            ],
            "text/plain": [
              "            Title\n",
              "Title Type       \n",
              "movie         171\n",
              "tvSeries       41"
            ]
          },
          "metadata": {
            "tags": []
          },
          "execution_count": 106
        }
      ]
    },
    {
      "cell_type": "code",
      "metadata": {
        "id": "phUcNUB_KJjo",
        "colab_type": "code",
        "colab": {
          "base_uri": "https://localhost:8080/",
          "height": 427
        },
        "outputId": "0003c70c-32bd-4f1d-ee66-112015cc96e6"
      },
      "source": [
        "watch_type['Title'].plot.pie(title= 'Movies and show in %', figsize=(7,7), autopct='%1.1f%%',fontsize=15);"
      ],
      "execution_count": 107,
      "outputs": [
        {
          "output_type": "display_data",
          "data": {
            "image/png": "[encoded data removed]",
            "text/plain": [
              "<Figure size 504x504 with 1 Axes>"
            ]
          },
          "metadata": {
            "tags": []
          }
        }
      ]
    },
    {
      "cell_type": "code",
      "metadata": {
        "id": "ylWH2b5rKUl2",
        "colab_type": "code",
        "colab": {
          "base_uri": "https://localhost:8080/",
          "height": 206
        },
        "outputId": "6978044c-32b0-4b55-c6e5-96aa264020d0"
      },
      "source": [
        "da_movies.head()"
      ],
      "execution_count": 108,
      "outputs": [
        {
          "output_type": "execute_result",
          "data": {
            "text/html": [
              "<div>\n",
              "<style scoped>\n",
              "    .dataframe tbody tr th:only-of-type {\n",
              "        vertical-align: middle;\n",
              "    }\n",
              "\n",
              "    .dataframe tbody tr th {\n",
              "        vertical-align: top;\n",
              "    }\n",
              "\n",
              "    .dataframe thead th {\n",
              "        text-align: right;\n",
              "    }\n",
              "</style>\n",
              "<table border=\"1\" class=\"dataframe\">\n",
              "  <thead>\n",
              "    <tr style=\"text-align: right;\">\n",
              "      <th></th>\n",
              "      <th>Your Rating</th>\n",
              "      <th>Title</th>\n",
              "      <th>Title Type</th>\n",
              "      <th>IMDb Rating</th>\n",
              "      <th>Runtime (mins)</th>\n",
              "      <th>Year</th>\n",
              "      <th>Directors</th>\n",
              "      <th>Genres</th>\n",
              "    </tr>\n",
              "  </thead>\n",
              "  <tbody>\n",
              "    <tr>\n",
              "      <th>0</th>\n",
              "      <td>10</td>\n",
              "      <td>(500) Days of Summer</td>\n",
              "      <td>movie</td>\n",
              "      <td>7.7</td>\n",
              "      <td>95.0</td>\n",
              "      <td>2009</td>\n",
              "      <td>Marc Webb</td>\n",
              "      <td>Comedy</td>\n",
              "    </tr>\n",
              "    <tr>\n",
              "      <th>0</th>\n",
              "      <td>10</td>\n",
              "      <td>(500) Days of Summer</td>\n",
              "      <td>movie</td>\n",
              "      <td>7.7</td>\n",
              "      <td>95.0</td>\n",
              "      <td>2009</td>\n",
              "      <td>Marc Webb</td>\n",
              "      <td>Drama</td>\n",
              "    </tr>\n",
              "    <tr>\n",
              "      <th>0</th>\n",
              "      <td>10</td>\n",
              "      <td>(500) Days of Summer</td>\n",
              "      <td>movie</td>\n",
              "      <td>7.7</td>\n",
              "      <td>95.0</td>\n",
              "      <td>2009</td>\n",
              "      <td>Marc Webb</td>\n",
              "      <td>Romance</td>\n",
              "    </tr>\n",
              "    <tr>\n",
              "      <th>1</th>\n",
              "      <td>9</td>\n",
              "      <td>Argo</td>\n",
              "      <td>movie</td>\n",
              "      <td>7.7</td>\n",
              "      <td>120.0</td>\n",
              "      <td>2012</td>\n",
              "      <td>Ben Affleck</td>\n",
              "      <td>Biography</td>\n",
              "    </tr>\n",
              "    <tr>\n",
              "      <th>1</th>\n",
              "      <td>9</td>\n",
              "      <td>Argo</td>\n",
              "      <td>movie</td>\n",
              "      <td>7.7</td>\n",
              "      <td>120.0</td>\n",
              "      <td>2012</td>\n",
              "      <td>Ben Affleck</td>\n",
              "      <td>Drama</td>\n",
              "    </tr>\n",
              "  </tbody>\n",
              "</table>\n",
              "</div>"
            ],
            "text/plain": [
              "   Your Rating                 Title Title Type  ...  Year    Directors     Genres\n",
              "0           10  (500) Days of Summer      movie  ...  2009    Marc Webb     Comedy\n",
              "0           10  (500) Days of Summer      movie  ...  2009    Marc Webb      Drama\n",
              "0           10  (500) Days of Summer      movie  ...  2009    Marc Webb    Romance\n",
              "1            9                  Argo      movie  ...  2012  Ben Affleck  Biography\n",
              "1            9                  Argo      movie  ...  2012  Ben Affleck      Drama\n",
              "\n",
              "[5 rows x 8 columns]"
            ]
          },
          "metadata": {
            "tags": []
          },
          "execution_count": 108
        }
      ]
    },
    {
      "cell_type": "code",
      "metadata": {
        "id": "3O1NXYBQKjPi",
        "colab_type": "code",
        "colab": {
          "base_uri": "https://localhost:8080/",
          "height": 310
        },
        "outputId": "df288241-817e-488a-abf3-37e7245a694d"
      },
      "source": [
        "da_movie['duration']=pd.to_numeric(da_movie['Runtime (mins)'])\n",
        "da_movie.head()"
      ],
      "execution_count": 109,
      "outputs": [
        {
          "output_type": "stream",
          "text": [
            "/usr/local/lib/python3.6/dist-packages/ipykernel_launcher.py:1: SettingWithCopyWarning: \n",
            "A value is trying to be set on a copy of a slice from a DataFrame.\n",
            "Try using .loc[row_indexer,col_indexer] = value instead\n",
            "\n",
            "See the caveats in the documentation: https://pandas.pydata.org/pandas-docs/stable/user_guide/indexing.html#returning-a-view-versus-a-copy\n",
            "  \"\"\"Entry point for launching an IPython kernel.\n"
          ],
          "name": "stderr"
        },
        {
          "output_type": "execute_result",
          "data": {
            "text/html": [
              "<div>\n",
              "<style scoped>\n",
              "    .dataframe tbody tr th:only-of-type {\n",
              "        vertical-align: middle;\n",
              "    }\n",
              "\n",
              "    .dataframe tbody tr th {\n",
              "        vertical-align: top;\n",
              "    }\n",
              "\n",
              "    .dataframe thead th {\n",
              "        text-align: right;\n",
              "    }\n",
              "</style>\n",
              "<table border=\"1\" class=\"dataframe\">\n",
              "  <thead>\n",
              "    <tr style=\"text-align: right;\">\n",
              "      <th></th>\n",
              "      <th>Your Rating</th>\n",
              "      <th>Title</th>\n",
              "      <th>Title Type</th>\n",
              "      <th>IMDb Rating</th>\n",
              "      <th>Runtime (mins)</th>\n",
              "      <th>Year</th>\n",
              "      <th>Directors</th>\n",
              "      <th>Genres</th>\n",
              "      <th>duration</th>\n",
              "    </tr>\n",
              "  </thead>\n",
              "  <tbody>\n",
              "    <tr>\n",
              "      <th>0</th>\n",
              "      <td>10</td>\n",
              "      <td>(500) Days of Summer</td>\n",
              "      <td>movie</td>\n",
              "      <td>7.7</td>\n",
              "      <td>95.0</td>\n",
              "      <td>2009</td>\n",
              "      <td>Marc Webb</td>\n",
              "      <td>Comedy</td>\n",
              "      <td>95.0</td>\n",
              "    </tr>\n",
              "    <tr>\n",
              "      <th>0</th>\n",
              "      <td>10</td>\n",
              "      <td>(500) Days of Summer</td>\n",
              "      <td>movie</td>\n",
              "      <td>7.7</td>\n",
              "      <td>95.0</td>\n",
              "      <td>2009</td>\n",
              "      <td>Marc Webb</td>\n",
              "      <td>Drama</td>\n",
              "      <td>95.0</td>\n",
              "    </tr>\n",
              "    <tr>\n",
              "      <th>0</th>\n",
              "      <td>10</td>\n",
              "      <td>(500) Days of Summer</td>\n",
              "      <td>movie</td>\n",
              "      <td>7.7</td>\n",
              "      <td>95.0</td>\n",
              "      <td>2009</td>\n",
              "      <td>Marc Webb</td>\n",
              "      <td>Romance</td>\n",
              "      <td>95.0</td>\n",
              "    </tr>\n",
              "    <tr>\n",
              "      <th>1</th>\n",
              "      <td>9</td>\n",
              "      <td>Argo</td>\n",
              "      <td>movie</td>\n",
              "      <td>7.7</td>\n",
              "      <td>120.0</td>\n",
              "      <td>2012</td>\n",
              "      <td>Ben Affleck</td>\n",
              "      <td>Biography</td>\n",
              "      <td>120.0</td>\n",
              "    </tr>\n",
              "    <tr>\n",
              "      <th>1</th>\n",
              "      <td>9</td>\n",
              "      <td>Argo</td>\n",
              "      <td>movie</td>\n",
              "      <td>7.7</td>\n",
              "      <td>120.0</td>\n",
              "      <td>2012</td>\n",
              "      <td>Ben Affleck</td>\n",
              "      <td>Drama</td>\n",
              "      <td>120.0</td>\n",
              "    </tr>\n",
              "  </tbody>\n",
              "</table>\n",
              "</div>"
            ],
            "text/plain": [
              "   Your Rating                 Title  ...     Genres  duration\n",
              "0           10  (500) Days of Summer  ...     Comedy      95.0\n",
              "0           10  (500) Days of Summer  ...      Drama      95.0\n",
              "0           10  (500) Days of Summer  ...    Romance      95.0\n",
              "1            9                  Argo  ...  Biography     120.0\n",
              "1            9                  Argo  ...      Drama     120.0\n",
              "\n",
              "[5 rows x 9 columns]"
            ]
          },
          "metadata": {
            "tags": []
          },
          "execution_count": 109
        }
      ]
    },
    {
      "cell_type": "code",
      "metadata": {
        "id": "BI7vOJohK810",
        "colab_type": "code",
        "colab": {
          "base_uri": "https://localhost:8080/",
          "height": 296
        },
        "outputId": "51cf420d-65ce-40ad-bfff-02d3a728237c"
      },
      "source": [
        "sns.distplot(da_movie['duration'])"
      ],
      "execution_count": 110,
      "outputs": [
        {
          "output_type": "execute_result",
          "data": {
            "text/plain": [
              "<matplotlib.axes._subplots.AxesSubplot at 0x7f1ba3df9710>"
            ]
          },
          "metadata": {
            "tags": []
          },
          "execution_count": 110
        },
        {
          "output_type": "display_data",
          "data": {
            "image/png": "[encoded data removed]",
            "text/plain": [
              "<Figure size 432x288 with 1 Axes>"
            ]
          },
          "metadata": {
            "tags": [],
            "needs_background": "light"
          }
        }
      ]
    },
    {
      "cell_type": "code",
      "metadata": {
        "id": "11rhe4zSLHWR",
        "colab_type": "code",
        "colab": {
          "base_uri": "https://localhost:8080/",
          "height": 173
        },
        "outputId": "6453b4ec-396e-4bae-8847-e62143e13ac1"
      },
      "source": [
        "da_movie['duration'].describe()"
      ],
      "execution_count": 111,
      "outputs": [
        {
          "output_type": "execute_result",
          "data": {
            "text/plain": [
              "count    509.000000\n",
              "mean     129.640472\n",
              "std       29.492332\n",
              "min       75.000000\n",
              "25%      110.000000\n",
              "50%      127.000000\n",
              "75%      141.000000\n",
              "max      321.000000\n",
              "Name: duration, dtype: float64"
            ]
          },
          "metadata": {
            "tags": []
          },
          "execution_count": 111
        }
      ]
    },
    {
      "cell_type": "code",
      "metadata": {
        "id": "BW1_EeTALOBN",
        "colab_type": "code",
        "colab": {
          "base_uri": "https://localhost:8080/",
          "height": 112
        },
        "outputId": "c8b76f1e-9da3-4f3f-bdc3-0b20f037c6a7"
      },
      "source": [
        "da[['Your Rating','IMDb Rating']].corr()"
      ],
      "execution_count": 112,
      "outputs": [
        {
          "output_type": "execute_result",
          "data": {
            "text/html": [
              "<div>\n",
              "<style scoped>\n",
              "    .dataframe tbody tr th:only-of-type {\n",
              "        vertical-align: middle;\n",
              "    }\n",
              "\n",
              "    .dataframe tbody tr th {\n",
              "        vertical-align: top;\n",
              "    }\n",
              "\n",
              "    .dataframe thead th {\n",
              "        text-align: right;\n",
              "    }\n",
              "</style>\n",
              "<table border=\"1\" class=\"dataframe\">\n",
              "  <thead>\n",
              "    <tr style=\"text-align: right;\">\n",
              "      <th></th>\n",
              "      <th>Your Rating</th>\n",
              "      <th>IMDb Rating</th>\n",
              "    </tr>\n",
              "  </thead>\n",
              "  <tbody>\n",
              "    <tr>\n",
              "      <th>Your Rating</th>\n",
              "      <td>1.000000</td>\n",
              "      <td>0.234653</td>\n",
              "    </tr>\n",
              "    <tr>\n",
              "      <th>IMDb Rating</th>\n",
              "      <td>0.234653</td>\n",
              "      <td>1.000000</td>\n",
              "    </tr>\n",
              "  </tbody>\n",
              "</table>\n",
              "</div>"
            ],
            "text/plain": [
              "             Your Rating  IMDb Rating\n",
              "Your Rating     1.000000     0.234653\n",
              "IMDb Rating     0.234653     1.000000"
            ]
          },
          "metadata": {
            "tags": []
          },
          "execution_count": 112
        }
      ]
    },
    {
      "cell_type": "code",
      "metadata": {
        "id": "iVN8j6PoLu2v",
        "colab_type": "code",
        "colab": {
          "base_uri": "https://localhost:8080/",
          "height": 279
        },
        "outputId": "b03e5939-b7d3-4173-c05b-581ebd768e2e"
      },
      "source": [
        "sns.scatterplot(x='Your Rating',y='IMDb Rating',data=da)\n",
        "from google.colab import files\n",
        "plt.savefig('my_rating_vs_imdb.pdf')\n",
        "files.download('my_rating_vs_imdb.pdf')"
      ],
      "execution_count": 122,
      "outputs": [
        {
          "output_type": "display_data",
          "data": {
            "image/png": "[encoded data removed]",
            "text/plain": [
              "<Figure size 432x288 with 1 Axes>"
            ]
          },
          "metadata": {
            "tags": [],
            "needs_background": "light"
          }
        }
      ]
    },
    {
      "cell_type": "code",
      "metadata": {
        "id": "HAUFUHjjMPQw",
        "colab_type": "code",
        "colab": {}
      },
      "source": [
        "direcor_type = (pd.DataFrame(da.groupby('Directors').Title.nunique())).sort_values('Title',ascending=False)"
      ],
      "execution_count": 0,
      "outputs": []
    },
    {
      "cell_type": "code",
      "metadata": {
        "id": "LKnF_EaYOQt6",
        "colab_type": "code",
        "colab": {
          "base_uri": "https://localhost:8080/",
          "height": 238
        },
        "outputId": "965605eb-7699-4208-9899-a3be02c4990b"
      },
      "source": [
        "direcor_type.head()"
      ],
      "execution_count": 118,
      "outputs": [
        {
          "output_type": "execute_result",
          "data": {
            "text/html": [
              "<div>\n",
              "<style scoped>\n",
              "    .dataframe tbody tr th:only-of-type {\n",
              "        vertical-align: middle;\n",
              "    }\n",
              "\n",
              "    .dataframe tbody tr th {\n",
              "        vertical-align: top;\n",
              "    }\n",
              "\n",
              "    .dataframe thead th {\n",
              "        text-align: right;\n",
              "    }\n",
              "</style>\n",
              "<table border=\"1\" class=\"dataframe\">\n",
              "  <thead>\n",
              "    <tr style=\"text-align: right;\">\n",
              "      <th></th>\n",
              "      <th>Title</th>\n",
              "    </tr>\n",
              "    <tr>\n",
              "      <th>Directors</th>\n",
              "      <th></th>\n",
              "    </tr>\n",
              "  </thead>\n",
              "  <tbody>\n",
              "    <tr>\n",
              "      <th>Steven Spielberg</th>\n",
              "      <td>7</td>\n",
              "    </tr>\n",
              "    <tr>\n",
              "      <th>Christopher Nolan</th>\n",
              "      <td>6</td>\n",
              "    </tr>\n",
              "    <tr>\n",
              "      <th>Stanley Kubrick</th>\n",
              "      <td>5</td>\n",
              "    </tr>\n",
              "    <tr>\n",
              "      <th>Francis Lawrence</th>\n",
              "      <td>4</td>\n",
              "    </tr>\n",
              "    <tr>\n",
              "      <th>Robert Zemeckis</th>\n",
              "      <td>3</td>\n",
              "    </tr>\n",
              "  </tbody>\n",
              "</table>\n",
              "</div>"
            ],
            "text/plain": [
              "                   Title\n",
              "Directors               \n",
              "Steven Spielberg       7\n",
              "Christopher Nolan      6\n",
              "Stanley Kubrick        5\n",
              "Francis Lawrence       4\n",
              "Robert Zemeckis        3"
            ]
          },
          "metadata": {
            "tags": []
          },
          "execution_count": 118
        }
      ]
    },
    {
      "cell_type": "code",
      "metadata": {
        "id": "NrVkbTfkOSx7",
        "colab_type": "code",
        "colab": {}
      },
      "source": [
        ""
      ],
      "execution_count": 0,
      "outputs": []
    }
  ]
}