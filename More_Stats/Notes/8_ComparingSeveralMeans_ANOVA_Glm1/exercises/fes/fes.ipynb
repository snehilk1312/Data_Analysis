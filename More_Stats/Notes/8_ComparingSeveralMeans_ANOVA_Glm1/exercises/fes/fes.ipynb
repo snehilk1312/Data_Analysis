{
 "cells": [
  {
   "cell_type": "code",
   "execution_count": 50,
   "metadata": {},
   "outputs": [],
   "source": [
    "import numpy as np\n",
    "import pandas as pd\n",
    "import matplotlib.pyplot as plt\n",
    "import seaborn as sns\n",
    "import scipy.stats as st\n",
    "import pingouin as pg\n",
    "\n",
    "import statsmodels.api as sm\n",
    "from statsmodels.formula.api import ols\n",
    "import statsmodels.stats.outliers_influence as sms\n",
    "from statsmodels.tools.tools import add_constant\n",
    "\n",
    "from patsy.contrasts import ContrastMatrix\n",
    "from patsy.contrasts import Poly\n",
    "%matplotlib inline"
   ]
  },
  {
   "cell_type": "code",
   "execution_count": 51,
   "metadata": {},
   "outputs": [],
   "source": [
    "data = pd.read_csv('gats_fes.csv')"
   ]
  },
  {
   "cell_type": "code",
   "execution_count": 52,
   "metadata": {},
   "outputs": [],
   "source": [
    "data['musicx'] = data['music'].replace({'Crusty':2,'Indie Kid':3, 'Metaller':4 , 'No Musical Affiliation':1})"
   ]
  },
  {
   "cell_type": "code",
   "execution_count": null,
   "metadata": {},
   "outputs": [],
   "source": []
  },
  {
   "cell_type": "code",
   "execution_count": 53,
   "metadata": {},
   "outputs": [],
   "source": [
    "data = data[data['change']!=' ']\n",
    "data.reset_index(drop=True, inplace=True)"
   ]
  },
  {
   "cell_type": "code",
   "execution_count": 54,
   "metadata": {},
   "outputs": [],
   "source": [
    "data['change'] = pd.to_numeric(data['change'])"
   ]
  },
  {
   "cell_type": "code",
   "execution_count": 55,
   "metadata": {},
   "outputs": [
    {
     "data": {
      "text/html": [
       "<table class=\"simpletable\">\n",
       "<caption>OLS Regression Results</caption>\n",
       "<tr>\n",
       "  <th>Dep. Variable:</th>         <td>change</td>      <th>  R-squared:         </th> <td>   0.076</td>\n",
       "</tr>\n",
       "<tr>\n",
       "  <th>Model:</th>                   <td>OLS</td>       <th>  Adj. R-squared:    </th> <td>   0.053</td>\n",
       "</tr>\n",
       "<tr>\n",
       "  <th>Method:</th>             <td>Least Squares</td>  <th>  F-statistic:       </th> <td>   3.270</td>\n",
       "</tr>\n",
       "<tr>\n",
       "  <th>Date:</th>             <td>Sat, 25 Jul 2020</td> <th>  Prob (F-statistic):</th>  <td>0.0237</td> \n",
       "</tr>\n",
       "<tr>\n",
       "  <th>Time:</th>                 <td>23:42:32</td>     <th>  Log-Likelihood:    </th> <td> -126.53</td>\n",
       "</tr>\n",
       "<tr>\n",
       "  <th>No. Observations:</th>      <td>   123</td>      <th>  AIC:               </th> <td>   261.1</td>\n",
       "</tr>\n",
       "<tr>\n",
       "  <th>Df Residuals:</th>          <td>   119</td>      <th>  BIC:               </th> <td>   272.3</td>\n",
       "</tr>\n",
       "<tr>\n",
       "  <th>Df Model:</th>              <td>     3</td>      <th>                     </th>     <td> </td>   \n",
       "</tr>\n",
       "<tr>\n",
       "  <th>Covariance Type:</th>      <td>nonrobust</td>    <th>                     </th>     <td> </td>   \n",
       "</tr>\n",
       "</table>\n",
       "<table class=\"simpletable\">\n",
       "<tr>\n",
       "         <td></td>           <th>coef</th>     <th>std err</th>      <th>t</th>      <th>P>|t|</th>  <th>[0.025</th>    <th>0.975]</th>  \n",
       "</tr>\n",
       "<tr>\n",
       "  <th>Intercept</th>      <td>   -0.5543</td> <td>    0.090</td> <td>   -6.134</td> <td> 0.000</td> <td>   -0.733</td> <td>   -0.375</td>\n",
       "</tr>\n",
       "<tr>\n",
       "  <th>C(musicx)[T.2]</th> <td>   -0.4115</td> <td>    0.167</td> <td>   -2.464</td> <td> 0.015</td> <td>   -0.742</td> <td>   -0.081</td>\n",
       "</tr>\n",
       "<tr>\n",
       "  <th>C(musicx)[T.3]</th> <td>   -0.4100</td> <td>    0.205</td> <td>   -2.001</td> <td> 0.048</td> <td>   -0.816</td> <td>   -0.004</td>\n",
       "</tr>\n",
       "<tr>\n",
       "  <th>C(musicx)[T.4]</th> <td>    0.0284</td> <td>    0.160</td> <td>    0.177</td> <td> 0.860</td> <td>   -0.289</td> <td>    0.346</td>\n",
       "</tr>\n",
       "</table>\n",
       "<table class=\"simpletable\">\n",
       "<tr>\n",
       "  <th>Omnibus:</th>       <td> 0.870</td> <th>  Durbin-Watson:     </th> <td>   1.893</td>\n",
       "</tr>\n",
       "<tr>\n",
       "  <th>Prob(Omnibus):</th> <td> 0.647</td> <th>  Jarque-Bera (JB):  </th> <td>   0.881</td>\n",
       "</tr>\n",
       "<tr>\n",
       "  <th>Skew:</th>          <td>-0.197</td> <th>  Prob(JB):          </th> <td>   0.644</td>\n",
       "</tr>\n",
       "<tr>\n",
       "  <th>Kurtosis:</th>      <td> 2.871</td> <th>  Cond. No.          </th> <td>    3.96</td>\n",
       "</tr>\n",
       "</table><br/><br/>Warnings:<br/>[1] Standard Errors assume that the covariance matrix of the errors is correctly specified."
      ],
      "text/plain": [
       "<class 'statsmodels.iolib.summary.Summary'>\n",
       "\"\"\"\n",
       "                            OLS Regression Results                            \n",
       "==============================================================================\n",
       "Dep. Variable:                 change   R-squared:                       0.076\n",
       "Model:                            OLS   Adj. R-squared:                  0.053\n",
       "Method:                 Least Squares   F-statistic:                     3.270\n",
       "Date:                Sat, 25 Jul 2020   Prob (F-statistic):             0.0237\n",
       "Time:                        23:42:32   Log-Likelihood:                -126.53\n",
       "No. Observations:                 123   AIC:                             261.1\n",
       "Df Residuals:                     119   BIC:                             272.3\n",
       "Df Model:                           3                                         \n",
       "Covariance Type:            nonrobust                                         \n",
       "==================================================================================\n",
       "                     coef    std err          t      P>|t|      [0.025      0.975]\n",
       "----------------------------------------------------------------------------------\n",
       "Intercept         -0.5543      0.090     -6.134      0.000      -0.733      -0.375\n",
       "C(musicx)[T.2]    -0.4115      0.167     -2.464      0.015      -0.742      -0.081\n",
       "C(musicx)[T.3]    -0.4100      0.205     -2.001      0.048      -0.816      -0.004\n",
       "C(musicx)[T.4]     0.0284      0.160      0.177      0.860      -0.289       0.346\n",
       "==============================================================================\n",
       "Omnibus:                        0.870   Durbin-Watson:                   1.893\n",
       "Prob(Omnibus):                  0.647   Jarque-Bera (JB):                0.881\n",
       "Skew:                          -0.197   Prob(JB):                        0.644\n",
       "Kurtosis:                       2.871   Cond. No.                         3.96\n",
       "==============================================================================\n",
       "\n",
       "Warnings:\n",
       "[1] Standard Errors assume that the covariance matrix of the errors is correctly specified.\n",
       "\"\"\""
      ]
     },
     "execution_count": 55,
     "metadata": {},
     "output_type": "execute_result"
    }
   ],
   "source": [
    "m01 = ols('change~C(musicx)', data=data).fit()\n",
    "m01.summary()"
   ]
  },
  {
   "cell_type": "code",
   "execution_count": 56,
   "metadata": {},
   "outputs": [],
   "source": [
    "data.drop(['ticknumb', 'day1', 'day2', 'day3'], axis=1, inplace=True)"
   ]
  },
  {
   "cell_type": "code",
   "execution_count": 57,
   "metadata": {},
   "outputs": [
    {
     "data": {
      "text/html": [
       "<div>\n",
       "<style scoped>\n",
       "    .dataframe tbody tr th:only-of-type {\n",
       "        vertical-align: middle;\n",
       "    }\n",
       "\n",
       "    .dataframe tbody tr th {\n",
       "        vertical-align: top;\n",
       "    }\n",
       "\n",
       "    .dataframe thead th {\n",
       "        text-align: right;\n",
       "    }\n",
       "</style>\n",
       "<table border=\"1\" class=\"dataframe\">\n",
       "  <thead>\n",
       "    <tr style=\"text-align: right;\">\n",
       "      <th></th>\n",
       "      <th>music</th>\n",
       "      <th>change</th>\n",
       "      <th>musicx</th>\n",
       "    </tr>\n",
       "  </thead>\n",
       "  <tbody>\n",
       "    <tr>\n",
       "      <th>0</th>\n",
       "      <td>Metaller</td>\n",
       "      <td>-1.04</td>\n",
       "      <td>4</td>\n",
       "    </tr>\n",
       "    <tr>\n",
       "      <th>1</th>\n",
       "      <td>Crusty</td>\n",
       "      <td>-0.68</td>\n",
       "      <td>2</td>\n",
       "    </tr>\n",
       "    <tr>\n",
       "      <th>2</th>\n",
       "      <td>No Musical Affiliation</td>\n",
       "      <td>-0.56</td>\n",
       "      <td>1</td>\n",
       "    </tr>\n",
       "    <tr>\n",
       "      <th>3</th>\n",
       "      <td>Crusty</td>\n",
       "      <td>-0.35</td>\n",
       "      <td>2</td>\n",
       "    </tr>\n",
       "    <tr>\n",
       "      <th>4</th>\n",
       "      <td>No Musical Affiliation</td>\n",
       "      <td>-0.18</td>\n",
       "      <td>1</td>\n",
       "    </tr>\n",
       "    <tr>\n",
       "      <th>...</th>\n",
       "      <td>...</td>\n",
       "      <td>...</td>\n",
       "      <td>...</td>\n",
       "    </tr>\n",
       "    <tr>\n",
       "      <th>118</th>\n",
       "      <td>Indie Kid</td>\n",
       "      <td>-0.48</td>\n",
       "      <td>3</td>\n",
       "    </tr>\n",
       "    <tr>\n",
       "      <th>119</th>\n",
       "      <td>No Musical Affiliation</td>\n",
       "      <td>0.53</td>\n",
       "      <td>1</td>\n",
       "    </tr>\n",
       "    <tr>\n",
       "      <th>120</th>\n",
       "      <td>No Musical Affiliation</td>\n",
       "      <td>-0.12</td>\n",
       "      <td>1</td>\n",
       "    </tr>\n",
       "    <tr>\n",
       "      <th>121</th>\n",
       "      <td>Indie Kid</td>\n",
       "      <td>-0.91</td>\n",
       "      <td>3</td>\n",
       "    </tr>\n",
       "    <tr>\n",
       "      <th>122</th>\n",
       "      <td>Metaller</td>\n",
       "      <td>-0.12</td>\n",
       "      <td>4</td>\n",
       "    </tr>\n",
       "  </tbody>\n",
       "</table>\n",
       "<p>123 rows × 3 columns</p>\n",
       "</div>"
      ],
      "text/plain": [
       "                      music  change  musicx\n",
       "0                  Metaller   -1.04       4\n",
       "1                    Crusty   -0.68       2\n",
       "2    No Musical Affiliation   -0.56       1\n",
       "3                    Crusty   -0.35       2\n",
       "4    No Musical Affiliation   -0.18       1\n",
       "..                      ...     ...     ...\n",
       "118               Indie Kid   -0.48       3\n",
       "119  No Musical Affiliation    0.53       1\n",
       "120  No Musical Affiliation   -0.12       1\n",
       "121               Indie Kid   -0.91       3\n",
       "122                Metaller   -0.12       4\n",
       "\n",
       "[123 rows x 3 columns]"
      ]
     },
     "execution_count": 57,
     "metadata": {},
     "output_type": "execute_result"
    }
   ],
   "source": [
    "data"
   ]
  },
  {
   "cell_type": "code",
   "execution_count": 58,
   "metadata": {},
   "outputs": [],
   "source": [
    "data_1 = data[data['musicx']==1]\n",
    "data_2 = data[data['musicx']==2]\n",
    "data_3 = data[data['musicx']==3]\n",
    "data_4 = data[data['musicx']==4]"
   ]
  },
  {
   "cell_type": "code",
   "execution_count": 59,
   "metadata": {},
   "outputs": [
    {
     "name": "stdout",
     "output_type": "stream",
     "text": [
      "0.7672943020921851 0.5145482212741821\n"
     ]
    }
   ],
   "source": [
    "stat, p = st.levene(data_1['change'], data_2['change'], data_3['change'],data_4['change'])\n",
    "print(stat, p)"
   ]
  },
  {
   "cell_type": "code",
   "execution_count": 60,
   "metadata": {},
   "outputs": [
    {
     "data": {
      "text/html": [
       "<div>\n",
       "<style scoped>\n",
       "    .dataframe tbody tr th:only-of-type {\n",
       "        vertical-align: middle;\n",
       "    }\n",
       "\n",
       "    .dataframe tbody tr th {\n",
       "        vertical-align: top;\n",
       "    }\n",
       "\n",
       "    .dataframe thead th {\n",
       "        text-align: right;\n",
       "    }\n",
       "</style>\n",
       "<table border=\"1\" class=\"dataframe\">\n",
       "  <thead>\n",
       "    <tr style=\"text-align: right;\">\n",
       "      <th></th>\n",
       "      <th>df</th>\n",
       "      <th>sum_sq</th>\n",
       "      <th>mean_sq</th>\n",
       "      <th>F</th>\n",
       "      <th>PR(&gt;F)</th>\n",
       "    </tr>\n",
       "  </thead>\n",
       "  <tbody>\n",
       "    <tr>\n",
       "      <th>C(musicx)</th>\n",
       "      <td>3.0</td>\n",
       "      <td>4.646474</td>\n",
       "      <td>1.548825</td>\n",
       "      <td>3.270357</td>\n",
       "      <td>0.023687</td>\n",
       "    </tr>\n",
       "    <tr>\n",
       "      <th>Residual</th>\n",
       "      <td>119.0</td>\n",
       "      <td>56.357800</td>\n",
       "      <td>0.473595</td>\n",
       "      <td>NaN</td>\n",
       "      <td>NaN</td>\n",
       "    </tr>\n",
       "  </tbody>\n",
       "</table>\n",
       "</div>"
      ],
      "text/plain": [
       "              df     sum_sq   mean_sq         F    PR(>F)\n",
       "C(musicx)    3.0   4.646474  1.548825  3.270357  0.023687\n",
       "Residual   119.0  56.357800  0.473595       NaN       NaN"
      ]
     },
     "execution_count": 60,
     "metadata": {},
     "output_type": "execute_result"
    }
   ],
   "source": [
    "anova_table = sm.stats.anova_lm(m01)\n",
    "anova_table"
   ]
  },
  {
   "cell_type": "code",
   "execution_count": 61,
   "metadata": {},
   "outputs": [],
   "source": [
    "levels = [1,2,3,4]"
   ]
  },
  {
   "cell_type": "code",
   "execution_count": 62,
   "metadata": {},
   "outputs": [],
   "source": [
    "def _name_levels(prefix, levels):\n",
    "    return [\"[%s%s]\" % (prefix, level) for level in levels]\n",
    "\n",
    "class Simple(object):\n",
    "    def _simple_contrast(self, levels):\n",
    "        nlevels = len(levels)\n",
    "        contr = -1./nlevels * np.ones((nlevels, nlevels-1))\n",
    "        contr[1:][np.diag_indices(nlevels-1)] = (nlevels-1.)/nlevels\n",
    "        return contr\n",
    "\n",
    "    def code_with_intercept(self, levels):\n",
    "        contrast = np.column_stack((np.ones(len(levels)),\n",
    "                                    self._simple_contrast(levels)))\n",
    "        return ContrastMatrix(contrast, _name_levels(\"Simp.\", levels))\n",
    "\n",
    "    def code_without_intercept(self, levels):\n",
    "        contrast = self._simple_contrast(levels)\n",
    "        return ContrastMatrix(contrast, _name_levels(\"Simp.\", levels[:-1]))"
   ]
  },
  {
   "cell_type": "code",
   "execution_count": 63,
   "metadata": {},
   "outputs": [
    {
     "name": "stdout",
     "output_type": "stream",
     "text": [
      "[[-0.25 -0.25 -0.25]\n",
      " [ 0.75 -0.25 -0.25]\n",
      " [-0.25  0.75 -0.25]\n",
      " [-0.25 -0.25  0.75]]\n"
     ]
    }
   ],
   "source": [
    "contrast = Simple().code_without_intercept(levels)\n",
    "print(contrast.matrix)"
   ]
  },
  {
   "cell_type": "code",
   "execution_count": 66,
   "metadata": {},
   "outputs": [
    {
     "name": "stdout",
     "output_type": "stream",
     "text": [
      "                            OLS Regression Results                            \n",
      "==============================================================================\n",
      "Dep. Variable:                 change   R-squared:                       0.076\n",
      "Model:                            OLS   Adj. R-squared:                  0.053\n",
      "Method:                 Least Squares   F-statistic:                     3.270\n",
      "Date:                Sat, 25 Jul 2020   Prob (F-statistic):             0.0237\n",
      "Time:                        23:51:04   Log-Likelihood:                -126.53\n",
      "No. Observations:                 123   AIC:                             261.1\n",
      "Df Residuals:                     119   BIC:                             272.3\n",
      "Df Model:                           3                                         \n",
      "Covariance Type:            nonrobust                                         \n",
      "=============================================================================================\n",
      "                                coef    std err          t      P>|t|      [0.025      0.975]\n",
      "---------------------------------------------------------------------------------------------\n",
      "Intercept                    -0.7526      0.070    -10.692      0.000      -0.892      -0.613\n",
      "C(musicx, Simple)[Simp.1]    -0.4115      0.167     -2.464      0.015      -0.742      -0.081\n",
      "C(musicx, Simple)[Simp.2]    -0.4100      0.205     -2.001      0.048      -0.816      -0.004\n",
      "C(musicx, Simple)[Simp.3]     0.0284      0.160      0.177      0.860      -0.289       0.346\n",
      "==============================================================================\n",
      "Omnibus:                        0.870   Durbin-Watson:                   1.893\n",
      "Prob(Omnibus):                  0.647   Jarque-Bera (JB):                0.881\n",
      "Skew:                          -0.197   Prob(JB):                        0.644\n",
      "Kurtosis:                       2.871   Cond. No.                         3.71\n",
      "==============================================================================\n",
      "\n",
      "Warnings:\n",
      "[1] Standard Errors assume that the covariance matrix of the errors is correctly specified.\n"
     ]
    }
   ],
   "source": [
    "mod = ols(\"change ~ C(musicx, Simple)\", data=data)\n",
    "res = mod.fit()\n",
    "print(res.summary())"
   ]
  },
  {
   "cell_type": "markdown",
   "metadata": {},
   "source": [
    "#### ***The output above shows the results of the contrasts comparing No Music Affiliation with each of the other levels of the variable musicusingcontr.SAS() and you might notice that it is the same  as  the  output  from  Chapter  7,  Section  7.12.2  above. The  first  level  of  the musicvariable is Crusty, therefore music1represents the contrast comparing people with no music affiliation  with  crusties.  The  beta  value  represents  the  differenceinthe  change  in hygiene scores for a crusty, relative to someone with no music affiliation. The t-test is significant (p = .015),  and  the  beta  value  has  a  negative  value (−0.41), so  we  could  say  that  the  change  in hygiene  scores  goes  down  as  a  person  changes  from  having  no  music  affiliation  to  being  a crusty.  Bear  in  mind  that  a  decrease  in  hygiene  scores  represents  greater  change  (you’re becoming smellier) so what this actually means is that hygiene decreased significantly more in crusties compared to those with no music affiliation.   Music2 represents  the  contrast  comparing indie kids to those with no music affiliation. The beta value represents the difference in the change in hygiene scores for an indie kid, relative to  someone  with  no  music  affiliation. The t-test  is again  significant (p = .048),  and  the  beta value  is  also  a  negative  value  (−0.41)  so,  as  with  the  first  contrast,  we  could  say  that  the change in hygiene scores goes down as a person changes from having no music affiliation to being an indie kid. Bear in mind that a decrease in hygiene scores represents more change (you’re becoming smellier) so what this actually means is that hygiene decreased significantly more in indie kids compared to those with no music affiliation.The  final  contrast,  music3  represents  the  contrast  comparing  metallers  to  those  with  no music affiliation. The beta value represents the difference in the change in hygiene scores for a metaller, relative to someone with no music affiliation This time the t-test is non significant (p = .86) and the beta value is a positive value (0.03). We could conclude that the change in hygiene  scores  is  similar  if  a  person  changes  from  having  no  music  affiliation  to  being  a metaller:  the  change  in  hygiene scores is not predicted  by  whether  someone  is  a  metaller compared to if they have no music affiliation. So,  overall  this  analysis  has  shown  that  compared  to  having  no  music  affiliation,  crusties and  indie  kids  get  significantly  smellier  across  the  three  days  of  the  music  festival,  but metallers don’t.***"
   ]
  },
  {
   "cell_type": "code",
   "execution_count": null,
   "metadata": {},
   "outputs": [],
   "source": []
  }
 ],
 "metadata": {
  "kernelspec": {
   "display_name": "Python 3",
   "language": "python",
   "name": "python3"
  },
  "language_info": {
   "codemirror_mode": {
    "name": "ipython",
    "version": 3
   },
   "file_extension": ".py",
   "mimetype": "text/x-python",
   "name": "python",
   "nbconvert_exporter": "python",
   "pygments_lexer": "ipython3",
   "version": "3.7.6"
  }
 },
 "nbformat": 4,
 "nbformat_minor": 4
}
