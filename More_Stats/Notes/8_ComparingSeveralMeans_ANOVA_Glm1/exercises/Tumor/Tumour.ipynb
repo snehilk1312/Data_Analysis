{
 "cells": [
  {
   "cell_type": "code",
   "execution_count": 1,
   "metadata": {},
   "outputs": [],
   "source": [
    "import numpy as np\n",
    "import pandas as pd\n",
    "import matplotlib.pyplot as plt\n",
    "import seaborn as sns\n",
    "import scipy.stats as st\n",
    "import pingouin as pg\n",
    "\n",
    "import statsmodels.api as sm\n",
    "from statsmodels.formula.api import ols\n",
    "import statsmodels.stats.outliers_influence as sms\n",
    "from statsmodels.tools.tools import add_constant\n",
    "\n",
    "from patsy.contrasts import ContrastMatrix\n",
    "from patsy.contrasts import Poly\n",
    "%matplotlib inline"
   ]
  },
  {
   "cell_type": "code",
   "execution_count": 2,
   "metadata": {},
   "outputs": [],
   "source": [
    "data = pd.read_csv('Tumour.csv')"
   ]
  },
  {
   "cell_type": "code",
   "execution_count": 3,
   "metadata": {},
   "outputs": [
    {
     "data": {
      "text/html": [
       "<div>\n",
       "<style scoped>\n",
       "    .dataframe tbody tr th:only-of-type {\n",
       "        vertical-align: middle;\n",
       "    }\n",
       "\n",
       "    .dataframe tbody tr th {\n",
       "        vertical-align: top;\n",
       "    }\n",
       "\n",
       "    .dataframe thead th {\n",
       "        text-align: right;\n",
       "    }\n",
       "</style>\n",
       "<table border=\"1\" class=\"dataframe\">\n",
       "  <thead>\n",
       "    <tr style=\"text-align: right;\">\n",
       "      <th></th>\n",
       "      <th>usage</th>\n",
       "      <th>tumor</th>\n",
       "    </tr>\n",
       "  </thead>\n",
       "  <tbody>\n",
       "    <tr>\n",
       "      <th>0</th>\n",
       "      <td>0</td>\n",
       "      <td>0.018204</td>\n",
       "    </tr>\n",
       "    <tr>\n",
       "      <th>1</th>\n",
       "      <td>0</td>\n",
       "      <td>0.000744</td>\n",
       "    </tr>\n",
       "    <tr>\n",
       "      <th>2</th>\n",
       "      <td>0</td>\n",
       "      <td>0.005511</td>\n",
       "    </tr>\n",
       "    <tr>\n",
       "      <th>3</th>\n",
       "      <td>0</td>\n",
       "      <td>0.007209</td>\n",
       "    </tr>\n",
       "    <tr>\n",
       "      <th>4</th>\n",
       "      <td>0</td>\n",
       "      <td>0.037119</td>\n",
       "    </tr>\n",
       "    <tr>\n",
       "      <th>...</th>\n",
       "      <td>...</td>\n",
       "      <td>...</td>\n",
       "    </tr>\n",
       "    <tr>\n",
       "      <th>115</th>\n",
       "      <td>5</td>\n",
       "      <td>3.671347</td>\n",
       "    </tr>\n",
       "    <tr>\n",
       "      <th>116</th>\n",
       "      <td>5</td>\n",
       "      <td>4.425939</td>\n",
       "    </tr>\n",
       "    <tr>\n",
       "      <th>117</th>\n",
       "      <td>5</td>\n",
       "      <td>4.618617</td>\n",
       "    </tr>\n",
       "    <tr>\n",
       "      <th>118</th>\n",
       "      <td>5</td>\n",
       "      <td>5.108129</td>\n",
       "    </tr>\n",
       "    <tr>\n",
       "      <th>119</th>\n",
       "      <td>5</td>\n",
       "      <td>5.546140</td>\n",
       "    </tr>\n",
       "  </tbody>\n",
       "</table>\n",
       "<p>120 rows × 2 columns</p>\n",
       "</div>"
      ],
      "text/plain": [
       "     usage     tumor\n",
       "0        0  0.018204\n",
       "1        0  0.000744\n",
       "2        0  0.005511\n",
       "3        0  0.007209\n",
       "4        0  0.037119\n",
       "..     ...       ...\n",
       "115      5  3.671347\n",
       "116      5  4.425939\n",
       "117      5  4.618617\n",
       "118      5  5.108129\n",
       "119      5  5.546140\n",
       "\n",
       "[120 rows x 2 columns]"
      ]
     },
     "execution_count": 3,
     "metadata": {},
     "output_type": "execute_result"
    }
   ],
   "source": [
    "data"
   ]
  },
  {
   "cell_type": "code",
   "execution_count": 8,
   "metadata": {},
   "outputs": [
    {
     "data": {
      "text/html": [
       "<div>\n",
       "<style scoped>\n",
       "    .dataframe tbody tr th:only-of-type {\n",
       "        vertical-align: middle;\n",
       "    }\n",
       "\n",
       "    .dataframe tbody tr th {\n",
       "        vertical-align: top;\n",
       "    }\n",
       "\n",
       "    .dataframe thead th {\n",
       "        text-align: right;\n",
       "    }\n",
       "</style>\n",
       "<table border=\"1\" class=\"dataframe\">\n",
       "  <thead>\n",
       "    <tr style=\"text-align: right;\">\n",
       "      <th></th>\n",
       "      <th>count</th>\n",
       "      <th>mean</th>\n",
       "      <th>std</th>\n",
       "      <th>min</th>\n",
       "      <th>25%</th>\n",
       "      <th>50%</th>\n",
       "      <th>75%</th>\n",
       "      <th>max</th>\n",
       "    </tr>\n",
       "    <tr>\n",
       "      <th>usage</th>\n",
       "      <th></th>\n",
       "      <th></th>\n",
       "      <th></th>\n",
       "      <th></th>\n",
       "      <th></th>\n",
       "      <th></th>\n",
       "      <th></th>\n",
       "      <th></th>\n",
       "    </tr>\n",
       "  </thead>\n",
       "  <tbody>\n",
       "    <tr>\n",
       "      <th>0</th>\n",
       "      <td>20.0</td>\n",
       "      <td>0.017550</td>\n",
       "      <td>0.012127</td>\n",
       "      <td>0.000744</td>\n",
       "      <td>0.006692</td>\n",
       "      <td>0.016071</td>\n",
       "      <td>0.029029</td>\n",
       "      <td>0.037119</td>\n",
       "    </tr>\n",
       "    <tr>\n",
       "      <th>1</th>\n",
       "      <td>20.0</td>\n",
       "      <td>0.514886</td>\n",
       "      <td>0.284192</td>\n",
       "      <td>0.002875</td>\n",
       "      <td>0.318947</td>\n",
       "      <td>0.547676</td>\n",
       "      <td>0.746559</td>\n",
       "      <td>0.940278</td>\n",
       "    </tr>\n",
       "    <tr>\n",
       "      <th>2</th>\n",
       "      <td>20.0</td>\n",
       "      <td>1.261363</td>\n",
       "      <td>0.492176</td>\n",
       "      <td>0.477527</td>\n",
       "      <td>0.953307</td>\n",
       "      <td>1.240071</td>\n",
       "      <td>1.644405</td>\n",
       "      <td>2.342072</td>\n",
       "    </tr>\n",
       "    <tr>\n",
       "      <th>3</th>\n",
       "      <td>20.0</td>\n",
       "      <td>3.021594</td>\n",
       "      <td>0.765556</td>\n",
       "      <td>1.774236</td>\n",
       "      <td>2.541288</td>\n",
       "      <td>2.940136</td>\n",
       "      <td>3.602811</td>\n",
       "      <td>4.306406</td>\n",
       "    </tr>\n",
       "    <tr>\n",
       "      <th>4</th>\n",
       "      <td>20.0</td>\n",
       "      <td>4.887795</td>\n",
       "      <td>0.696255</td>\n",
       "      <td>3.038391</td>\n",
       "      <td>4.638579</td>\n",
       "      <td>5.127214</td>\n",
       "      <td>5.308325</td>\n",
       "      <td>6.048880</td>\n",
       "    </tr>\n",
       "    <tr>\n",
       "      <th>5</th>\n",
       "      <td>20.0</td>\n",
       "      <td>4.730594</td>\n",
       "      <td>0.781626</td>\n",
       "      <td>2.702742</td>\n",
       "      <td>4.350807</td>\n",
       "      <td>4.865420</td>\n",
       "      <td>5.264826</td>\n",
       "      <td>6.139896</td>\n",
       "    </tr>\n",
       "  </tbody>\n",
       "</table>\n",
       "</div>"
      ],
      "text/plain": [
       "       count      mean       std       min       25%       50%       75%  \\\n",
       "usage                                                                      \n",
       "0       20.0  0.017550  0.012127  0.000744  0.006692  0.016071  0.029029   \n",
       "1       20.0  0.514886  0.284192  0.002875  0.318947  0.547676  0.746559   \n",
       "2       20.0  1.261363  0.492176  0.477527  0.953307  1.240071  1.644405   \n",
       "3       20.0  3.021594  0.765556  1.774236  2.541288  2.940136  3.602811   \n",
       "4       20.0  4.887795  0.696255  3.038391  4.638579  5.127214  5.308325   \n",
       "5       20.0  4.730594  0.781626  2.702742  4.350807  4.865420  5.264826   \n",
       "\n",
       "            max  \n",
       "usage            \n",
       "0      0.037119  \n",
       "1      0.940278  \n",
       "2      2.342072  \n",
       "3      4.306406  \n",
       "4      6.048880  \n",
       "5      6.139896  "
      ]
     },
     "execution_count": 8,
     "metadata": {},
     "output_type": "execute_result"
    }
   ],
   "source": [
    "data.groupby('usage')['tumor'].describe()"
   ]
  },
  {
   "cell_type": "code",
   "execution_count": 9,
   "metadata": {},
   "outputs": [
    {
     "data": {
      "image/png": "[encoded data removed]",
      "text/plain": [
       "<Figure size 432x288 with 1 Axes>"
      ]
     },
     "metadata": {
      "needs_background": "light"
     },
     "output_type": "display_data"
    }
   ],
   "source": [
    "_ = sns.boxplot(x='usage', y='tumor', data=data)"
   ]
  },
  {
   "cell_type": "code",
   "execution_count": 10,
   "metadata": {},
   "outputs": [
    {
     "data": {
      "image/png": "[encoded data removed]",
      "text/plain": [
       "<Figure size 432x288 with 1 Axes>"
      ]
     },
     "metadata": {
      "needs_background": "light"
     },
     "output_type": "display_data"
    }
   ],
   "source": [
    "_ = sns.lineplot(x='usage', y='tumor',data=data, err_style='bars')"
   ]
  },
  {
   "cell_type": "code",
   "execution_count": 12,
   "metadata": {},
   "outputs": [
    {
     "data": {
      "text/html": [
       "<table class=\"simpletable\">\n",
       "<caption>OLS Regression Results</caption>\n",
       "<tr>\n",
       "  <th>Dep. Variable:</th>          <td>tumor</td>      <th>  R-squared:         </th> <td>   0.922</td>\n",
       "</tr>\n",
       "<tr>\n",
       "  <th>Model:</th>                   <td>OLS</td>       <th>  Adj. R-squared:    </th> <td>   0.919</td>\n",
       "</tr>\n",
       "<tr>\n",
       "  <th>Method:</th>             <td>Least Squares</td>  <th>  F-statistic:       </th> <td>   269.7</td>\n",
       "</tr>\n",
       "<tr>\n",
       "  <th>Date:</th>             <td>Sat, 25 Jul 2020</td> <th>  Prob (F-statistic):</th> <td>2.01e-61</td>\n",
       "</tr>\n",
       "<tr>\n",
       "  <th>Time:</th>                 <td>22:52:57</td>     <th>  Log-Likelihood:    </th> <td> -101.43</td>\n",
       "</tr>\n",
       "<tr>\n",
       "  <th>No. Observations:</th>      <td>   120</td>      <th>  AIC:               </th> <td>   214.9</td>\n",
       "</tr>\n",
       "<tr>\n",
       "  <th>Df Residuals:</th>          <td>   114</td>      <th>  BIC:               </th> <td>   231.6</td>\n",
       "</tr>\n",
       "<tr>\n",
       "  <th>Df Model:</th>              <td>     5</td>      <th>                     </th>     <td> </td>   \n",
       "</tr>\n",
       "<tr>\n",
       "  <th>Covariance Type:</th>      <td>nonrobust</td>    <th>                     </th>     <td> </td>   \n",
       "</tr>\n",
       "</table>\n",
       "<table class=\"simpletable\">\n",
       "<tr>\n",
       "        <td></td>           <th>coef</th>     <th>std err</th>      <th>t</th>      <th>P>|t|</th>  <th>[0.025</th>    <th>0.975]</th>  \n",
       "</tr>\n",
       "<tr>\n",
       "  <th>Intercept</th>     <td>    0.0175</td> <td>    0.129</td> <td>    0.136</td> <td> 0.892</td> <td>   -0.239</td> <td>    0.274</td>\n",
       "</tr>\n",
       "<tr>\n",
       "  <th>C(usage)[T.1]</th> <td>    0.4973</td> <td>    0.183</td> <td>    2.721</td> <td> 0.008</td> <td>    0.135</td> <td>    0.859</td>\n",
       "</tr>\n",
       "<tr>\n",
       "  <th>C(usage)[T.2]</th> <td>    1.2438</td> <td>    0.183</td> <td>    6.804</td> <td> 0.000</td> <td>    0.882</td> <td>    1.606</td>\n",
       "</tr>\n",
       "<tr>\n",
       "  <th>C(usage)[T.3]</th> <td>    3.0040</td> <td>    0.183</td> <td>   16.434</td> <td> 0.000</td> <td>    2.642</td> <td>    3.366</td>\n",
       "</tr>\n",
       "<tr>\n",
       "  <th>C(usage)[T.4]</th> <td>    4.8702</td> <td>    0.183</td> <td>   26.643</td> <td> 0.000</td> <td>    4.508</td> <td>    5.232</td>\n",
       "</tr>\n",
       "<tr>\n",
       "  <th>C(usage)[T.5]</th> <td>    4.7130</td> <td>    0.183</td> <td>   25.783</td> <td> 0.000</td> <td>    4.351</td> <td>    5.075</td>\n",
       "</tr>\n",
       "</table>\n",
       "<table class=\"simpletable\">\n",
       "<tr>\n",
       "  <th>Omnibus:</th>       <td>12.599</td> <th>  Durbin-Watson:     </th> <td>   2.013</td>\n",
       "</tr>\n",
       "<tr>\n",
       "  <th>Prob(Omnibus):</th> <td> 0.002</td> <th>  Jarque-Bera (JB):  </th> <td>  18.025</td>\n",
       "</tr>\n",
       "<tr>\n",
       "  <th>Skew:</th>          <td>-0.534</td> <th>  Prob(JB):          </th> <td>0.000122</td>\n",
       "</tr>\n",
       "<tr>\n",
       "  <th>Kurtosis:</th>      <td> 4.569</td> <th>  Cond. No.          </th> <td>    6.85</td>\n",
       "</tr>\n",
       "</table><br/><br/>Warnings:<br/>[1] Standard Errors assume that the covariance matrix of the errors is correctly specified."
      ],
      "text/plain": [
       "<class 'statsmodels.iolib.summary.Summary'>\n",
       "\"\"\"\n",
       "                            OLS Regression Results                            \n",
       "==============================================================================\n",
       "Dep. Variable:                  tumor   R-squared:                       0.922\n",
       "Model:                            OLS   Adj. R-squared:                  0.919\n",
       "Method:                 Least Squares   F-statistic:                     269.7\n",
       "Date:                Sat, 25 Jul 2020   Prob (F-statistic):           2.01e-61\n",
       "Time:                        22:52:57   Log-Likelihood:                -101.43\n",
       "No. Observations:                 120   AIC:                             214.9\n",
       "Df Residuals:                     114   BIC:                             231.6\n",
       "Df Model:                           5                                         \n",
       "Covariance Type:            nonrobust                                         \n",
       "=================================================================================\n",
       "                    coef    std err          t      P>|t|      [0.025      0.975]\n",
       "---------------------------------------------------------------------------------\n",
       "Intercept         0.0175      0.129      0.136      0.892      -0.239       0.274\n",
       "C(usage)[T.1]     0.4973      0.183      2.721      0.008       0.135       0.859\n",
       "C(usage)[T.2]     1.2438      0.183      6.804      0.000       0.882       1.606\n",
       "C(usage)[T.3]     3.0040      0.183     16.434      0.000       2.642       3.366\n",
       "C(usage)[T.4]     4.8702      0.183     26.643      0.000       4.508       5.232\n",
       "C(usage)[T.5]     4.7130      0.183     25.783      0.000       4.351       5.075\n",
       "==============================================================================\n",
       "Omnibus:                       12.599   Durbin-Watson:                   2.013\n",
       "Prob(Omnibus):                  0.002   Jarque-Bera (JB):               18.025\n",
       "Skew:                          -0.534   Prob(JB):                     0.000122\n",
       "Kurtosis:                       4.569   Cond. No.                         6.85\n",
       "==============================================================================\n",
       "\n",
       "Warnings:\n",
       "[1] Standard Errors assume that the covariance matrix of the errors is correctly specified.\n",
       "\"\"\""
      ]
     },
     "execution_count": 12,
     "metadata": {},
     "output_type": "execute_result"
    }
   ],
   "source": [
    "m01 = ols('tumor~C(usage)', data=data).fit()\n",
    "m01.summary()"
   ]
  },
  {
   "cell_type": "code",
   "execution_count": 13,
   "metadata": {},
   "outputs": [],
   "source": [
    "data_0 = data[data['usage']==0]\n",
    "data_1 = data[data['usage']==1]\n",
    "data_2 = data[data['usage']==2]\n",
    "data_3 = data[data['usage']==3]\n",
    "data_4 = data[data['usage']==4]\n",
    "data_5 = data[data['usage']==5]"
   ]
  },
  {
   "cell_type": "code",
   "execution_count": 14,
   "metadata": {},
   "outputs": [
    {
     "data": {
      "text/html": [
       "<div>\n",
       "<style scoped>\n",
       "    .dataframe tbody tr th:only-of-type {\n",
       "        vertical-align: middle;\n",
       "    }\n",
       "\n",
       "    .dataframe tbody tr th {\n",
       "        vertical-align: top;\n",
       "    }\n",
       "\n",
       "    .dataframe thead th {\n",
       "        text-align: right;\n",
       "    }\n",
       "</style>\n",
       "<table border=\"1\" class=\"dataframe\">\n",
       "  <thead>\n",
       "    <tr style=\"text-align: right;\">\n",
       "      <th></th>\n",
       "      <th>df</th>\n",
       "      <th>sum_sq</th>\n",
       "      <th>mean_sq</th>\n",
       "      <th>F</th>\n",
       "      <th>PR(&gt;F)</th>\n",
       "    </tr>\n",
       "  </thead>\n",
       "  <tbody>\n",
       "    <tr>\n",
       "      <th>C(usage)</th>\n",
       "      <td>5.0</td>\n",
       "      <td>450.664018</td>\n",
       "      <td>90.132804</td>\n",
       "      <td>269.732848</td>\n",
       "      <td>2.007786e-61</td>\n",
       "    </tr>\n",
       "    <tr>\n",
       "      <th>Residual</th>\n",
       "      <td>114.0</td>\n",
       "      <td>38.093765</td>\n",
       "      <td>0.334156</td>\n",
       "      <td>NaN</td>\n",
       "      <td>NaN</td>\n",
       "    </tr>\n",
       "  </tbody>\n",
       "</table>\n",
       "</div>"
      ],
      "text/plain": [
       "             df      sum_sq    mean_sq           F        PR(>F)\n",
       "C(usage)    5.0  450.664018  90.132804  269.732848  2.007786e-61\n",
       "Residual  114.0   38.093765   0.334156         NaN           NaN"
      ]
     },
     "execution_count": 14,
     "metadata": {},
     "output_type": "execute_result"
    }
   ],
   "source": [
    "anova_table = sm.stats.anova_lm(m01)\n",
    "anova_table"
   ]
  },
  {
   "cell_type": "code",
   "execution_count": 15,
   "metadata": {},
   "outputs": [
    {
     "data": {
      "text/html": [
       "<div>\n",
       "<style scoped>\n",
       "    .dataframe tbody tr th:only-of-type {\n",
       "        vertical-align: middle;\n",
       "    }\n",
       "\n",
       "    .dataframe tbody tr th {\n",
       "        vertical-align: top;\n",
       "    }\n",
       "\n",
       "    .dataframe thead th {\n",
       "        text-align: right;\n",
       "    }\n",
       "</style>\n",
       "<table border=\"1\" class=\"dataframe\">\n",
       "  <thead>\n",
       "    <tr style=\"text-align: right;\">\n",
       "      <th></th>\n",
       "      <th>predicted</th>\n",
       "    </tr>\n",
       "  </thead>\n",
       "  <tbody>\n",
       "    <tr>\n",
       "      <th>0</th>\n",
       "      <td>0.01755</td>\n",
       "    </tr>\n",
       "    <tr>\n",
       "      <th>1</th>\n",
       "      <td>0.01755</td>\n",
       "    </tr>\n",
       "    <tr>\n",
       "      <th>2</th>\n",
       "      <td>0.01755</td>\n",
       "    </tr>\n",
       "    <tr>\n",
       "      <th>3</th>\n",
       "      <td>0.01755</td>\n",
       "    </tr>\n",
       "    <tr>\n",
       "      <th>4</th>\n",
       "      <td>0.01755</td>\n",
       "    </tr>\n",
       "  </tbody>\n",
       "</table>\n",
       "</div>"
      ],
      "text/plain": [
       "   predicted\n",
       "0    0.01755\n",
       "1    0.01755\n",
       "2    0.01755\n",
       "3    0.01755\n",
       "4    0.01755"
      ]
     },
     "execution_count": 15,
     "metadata": {},
     "output_type": "execute_result"
    }
   ],
   "source": [
    "prediction = pd.DataFrame(m01.fittedvalues)\n",
    "prediction.columns = ['predicted'] \n",
    "prediction.head()"
   ]
  },
  {
   "cell_type": "code",
   "execution_count": 16,
   "metadata": {},
   "outputs": [],
   "source": [
    "prediction['standarized_prediction']  = (prediction['predicted']-prediction['predicted'].mean())/prediction['predicted'].std()"
   ]
  },
  {
   "cell_type": "code",
   "execution_count": 17,
   "metadata": {},
   "outputs": [],
   "source": [
    "summary_frame = sms.OLSInfluence(m01).summary_frame()"
   ]
  },
  {
   "cell_type": "code",
   "execution_count": 18,
   "metadata": {},
   "outputs": [],
   "source": [
    "summary_frame = pd.merge(summary_frame, prediction, how = 'inner', left_index = True, right_index = True)"
   ]
  },
  {
   "cell_type": "code",
   "execution_count": 19,
   "metadata": {},
   "outputs": [
    {
     "data": {
      "text/html": [
       "<div>\n",
       "<style scoped>\n",
       "    .dataframe tbody tr th:only-of-type {\n",
       "        vertical-align: middle;\n",
       "    }\n",
       "\n",
       "    .dataframe tbody tr th {\n",
       "        vertical-align: top;\n",
       "    }\n",
       "\n",
       "    .dataframe thead th {\n",
       "        text-align: right;\n",
       "    }\n",
       "</style>\n",
       "<table border=\"1\" class=\"dataframe\">\n",
       "  <thead>\n",
       "    <tr style=\"text-align: right;\">\n",
       "      <th></th>\n",
       "      <th>dfb_Intercept</th>\n",
       "      <th>dfb_C(usage)[T.1]</th>\n",
       "      <th>dfb_C(usage)[T.2]</th>\n",
       "      <th>dfb_C(usage)[T.3]</th>\n",
       "      <th>dfb_C(usage)[T.4]</th>\n",
       "      <th>dfb_C(usage)[T.5]</th>\n",
       "      <th>cooks_d</th>\n",
       "      <th>standard_resid</th>\n",
       "      <th>hat_diag</th>\n",
       "      <th>dffits_internal</th>\n",
       "      <th>student_resid</th>\n",
       "      <th>dffits</th>\n",
       "      <th>predicted</th>\n",
       "      <th>standarized_prediction</th>\n",
       "    </tr>\n",
       "  </thead>\n",
       "  <tbody>\n",
       "    <tr>\n",
       "      <th>0</th>\n",
       "      <td>0.000265</td>\n",
       "      <td>-0.000188</td>\n",
       "      <td>-0.000188</td>\n",
       "      <td>-0.000188</td>\n",
       "      <td>-0.000188</td>\n",
       "      <td>-0.000188</td>\n",
       "      <td>1.183400e-08</td>\n",
       "      <td>0.001161</td>\n",
       "      <td>0.05</td>\n",
       "      <td>0.000266</td>\n",
       "      <td>0.001156</td>\n",
       "      <td>0.000265</td>\n",
       "      <td>0.01755</td>\n",
       "      <td>-1.227145</td>\n",
       "    </tr>\n",
       "    <tr>\n",
       "      <th>1</th>\n",
       "      <td>-0.006813</td>\n",
       "      <td>0.004817</td>\n",
       "      <td>0.004817</td>\n",
       "      <td>0.004817</td>\n",
       "      <td>0.004817</td>\n",
       "      <td>0.004817</td>\n",
       "      <td>7.804341e-06</td>\n",
       "      <td>-0.029828</td>\n",
       "      <td>0.05</td>\n",
       "      <td>-0.006843</td>\n",
       "      <td>-0.029697</td>\n",
       "      <td>-0.006813</td>\n",
       "      <td>0.01755</td>\n",
       "      <td>-1.227145</td>\n",
       "    </tr>\n",
       "    <tr>\n",
       "      <th>2</th>\n",
       "      <td>-0.004881</td>\n",
       "      <td>0.003451</td>\n",
       "      <td>0.003451</td>\n",
       "      <td>0.003451</td>\n",
       "      <td>0.003451</td>\n",
       "      <td>0.003451</td>\n",
       "      <td>4.005003e-06</td>\n",
       "      <td>-0.021368</td>\n",
       "      <td>0.05</td>\n",
       "      <td>-0.004902</td>\n",
       "      <td>-0.021274</td>\n",
       "      <td>-0.004881</td>\n",
       "      <td>0.01755</td>\n",
       "      <td>-1.227145</td>\n",
       "    </tr>\n",
       "    <tr>\n",
       "      <th>3</th>\n",
       "      <td>-0.004192</td>\n",
       "      <td>0.002964</td>\n",
       "      <td>0.002964</td>\n",
       "      <td>0.002964</td>\n",
       "      <td>0.002964</td>\n",
       "      <td>0.002964</td>\n",
       "      <td>2.955004e-06</td>\n",
       "      <td>-0.018354</td>\n",
       "      <td>0.05</td>\n",
       "      <td>-0.004211</td>\n",
       "      <td>-0.018273</td>\n",
       "      <td>-0.004192</td>\n",
       "      <td>0.01755</td>\n",
       "      <td>-1.227145</td>\n",
       "    </tr>\n",
       "    <tr>\n",
       "      <th>4</th>\n",
       "      <td>0.007933</td>\n",
       "      <td>-0.005610</td>\n",
       "      <td>-0.005610</td>\n",
       "      <td>-0.005610</td>\n",
       "      <td>-0.005610</td>\n",
       "      <td>-0.005610</td>\n",
       "      <td>1.058185e-05</td>\n",
       "      <td>0.034732</td>\n",
       "      <td>0.05</td>\n",
       "      <td>0.007968</td>\n",
       "      <td>0.034580</td>\n",
       "      <td>0.007933</td>\n",
       "      <td>0.01755</td>\n",
       "      <td>-1.227145</td>\n",
       "    </tr>\n",
       "  </tbody>\n",
       "</table>\n",
       "</div>"
      ],
      "text/plain": [
       "   dfb_Intercept  dfb_C(usage)[T.1]  dfb_C(usage)[T.2]  dfb_C(usage)[T.3]  \\\n",
       "0       0.000265          -0.000188          -0.000188          -0.000188   \n",
       "1      -0.006813           0.004817           0.004817           0.004817   \n",
       "2      -0.004881           0.003451           0.003451           0.003451   \n",
       "3      -0.004192           0.002964           0.002964           0.002964   \n",
       "4       0.007933          -0.005610          -0.005610          -0.005610   \n",
       "\n",
       "   dfb_C(usage)[T.4]  dfb_C(usage)[T.5]       cooks_d  standard_resid  \\\n",
       "0          -0.000188          -0.000188  1.183400e-08        0.001161   \n",
       "1           0.004817           0.004817  7.804341e-06       -0.029828   \n",
       "2           0.003451           0.003451  4.005003e-06       -0.021368   \n",
       "3           0.002964           0.002964  2.955004e-06       -0.018354   \n",
       "4          -0.005610          -0.005610  1.058185e-05        0.034732   \n",
       "\n",
       "   hat_diag  dffits_internal  student_resid    dffits  predicted  \\\n",
       "0      0.05         0.000266       0.001156  0.000265    0.01755   \n",
       "1      0.05        -0.006843      -0.029697 -0.006813    0.01755   \n",
       "2      0.05        -0.004902      -0.021274 -0.004881    0.01755   \n",
       "3      0.05        -0.004211      -0.018273 -0.004192    0.01755   \n",
       "4      0.05         0.007968       0.034580  0.007933    0.01755   \n",
       "\n",
       "   standarized_prediction  \n",
       "0               -1.227145  \n",
       "1               -1.227145  \n",
       "2               -1.227145  \n",
       "3               -1.227145  \n",
       "4               -1.227145  "
      ]
     },
     "execution_count": 19,
     "metadata": {},
     "output_type": "execute_result"
    }
   ],
   "source": [
    "summary_frame .head()"
   ]
  },
  {
   "cell_type": "code",
   "execution_count": 23,
   "metadata": {},
   "outputs": [
    {
     "name": "stdout",
     "output_type": "stream",
     "text": [
      "8.395289505831853 8.680626542678236e-07\n"
     ]
    }
   ],
   "source": [
    "stat, p = st.levene(data_0['tumor'],data_1['tumor'], data_2['tumor'], data_3['tumor'],data_4['tumor'],data_5['tumor'])\n",
    "print(stat, p)"
   ]
  },
  {
   "cell_type": "code",
   "execution_count": 20,
   "metadata": {},
   "outputs": [
    {
     "data": {
      "image/png": "[encoded data removed]",
      "text/plain": [
       "<Figure size 432x288 with 1 Axes>"
      ]
     },
     "metadata": {
      "needs_background": "light"
     },
     "output_type": "display_data"
    }
   ],
   "source": [
    "_ = sns.scatterplot(x = 'standard_resid', y='standarized_prediction', data = summary_frame)\n",
    "_ = plt.axhline(y=0)"
   ]
  },
  {
   "cell_type": "code",
   "execution_count": 21,
   "metadata": {},
   "outputs": [
    {
     "data": {
      "text/plain": [
       "(0.8832380175590515, 2.9838474802090786e-08)"
      ]
     },
     "execution_count": 21,
     "metadata": {},
     "output_type": "execute_result"
    }
   ],
   "source": [
    "st.shapiro(data['tumor'])"
   ]
  },
  {
   "cell_type": "code",
   "execution_count": 22,
   "metadata": {},
   "outputs": [
    {
     "data": {
      "image/png": "[encoded data removed]",
      "text/plain": [
       "<Figure size 360x288 with 1 Axes>"
      ]
     },
     "metadata": {
      "needs_background": "light"
     },
     "output_type": "display_data"
    }
   ],
   "source": [
    "_ = pg.qqplot(summary_frame['standard_resid'], confidence=False)"
   ]
  },
  {
   "cell_type": "code",
   "execution_count": 24,
   "metadata": {},
   "outputs": [
    {
     "data": {
      "text/html": [
       "<div>\n",
       "<style scoped>\n",
       "    .dataframe tbody tr th:only-of-type {\n",
       "        vertical-align: middle;\n",
       "    }\n",
       "\n",
       "    .dataframe tbody tr th {\n",
       "        vertical-align: top;\n",
       "    }\n",
       "\n",
       "    .dataframe thead th {\n",
       "        text-align: right;\n",
       "    }\n",
       "</style>\n",
       "<table border=\"1\" class=\"dataframe\">\n",
       "  <thead>\n",
       "    <tr style=\"text-align: right;\">\n",
       "      <th></th>\n",
       "      <th>Source</th>\n",
       "      <th>ddof1</th>\n",
       "      <th>ddof2</th>\n",
       "      <th>F</th>\n",
       "      <th>p-unc</th>\n",
       "      <th>np2</th>\n",
       "    </tr>\n",
       "  </thead>\n",
       "  <tbody>\n",
       "    <tr>\n",
       "      <th>0</th>\n",
       "      <td>usage</td>\n",
       "      <td>5</td>\n",
       "      <td>44.390252</td>\n",
       "      <td>414.925978</td>\n",
       "      <td>4.528544e-36</td>\n",
       "      <td>0.92206</td>\n",
       "    </tr>\n",
       "  </tbody>\n",
       "</table>\n",
       "</div>"
      ],
      "text/plain": [
       "  Source  ddof1      ddof2           F         p-unc      np2\n",
       "0  usage      5  44.390252  414.925978  4.528544e-36  0.92206"
      ]
     },
     "execution_count": 24,
     "metadata": {},
     "output_type": "execute_result"
    }
   ],
   "source": [
    "aov = pg.welch_anova(dv='tumor', between='usage', data=data)\n",
    "aov"
   ]
  },
  {
   "cell_type": "code",
   "execution_count": 25,
   "metadata": {},
   "outputs": [],
   "source": [
    "from statsmodels.sandbox.stats.multicomp import MultiComparison"
   ]
  },
  {
   "cell_type": "code",
   "execution_count": 26,
   "metadata": {},
   "outputs": [],
   "source": [
    "multicomp = MultiComparison(data['tumor'], data['usage'])   # testfunc"
   ]
  },
  {
   "cell_type": "code",
   "execution_count": 27,
   "metadata": {},
   "outputs": [
    {
     "name": "stdout",
     "output_type": "stream",
     "text": [
      "Test Multiple Comparison ttest_ind \n",
      "FWER=0.05 method=fdr_bh\n",
      "alphacSidak=0.00, alphacBonf=0.003\n",
      "==============================================\n",
      "group1 group2   stat    pval  pval_corr reject\n",
      "----------------------------------------------\n",
      "     0      1  -7.8191    0.0       0.0   True\n",
      "     0      2 -11.2984    0.0       0.0   True\n",
      "     0      3 -17.5465    0.0       0.0   True\n",
      "     0      4 -31.2775    0.0       0.0   True\n",
      "     0      5 -26.9628    0.0       0.0   True\n",
      "     1      2  -5.8739    0.0       0.0   True\n",
      "     1      3  -13.728    0.0       0.0   True\n",
      "     1      4 -26.0049    0.0       0.0   True\n",
      "     1      5 -22.6686    0.0       0.0   True\n",
      "     2      3  -8.6494    0.0       0.0   True\n",
      "     2      4 -19.0206    0.0       0.0   True\n",
      "     2      5 -16.7969    0.0       0.0   True\n",
      "     3      4  -8.0651    0.0       0.0   True\n",
      "     3      5  -6.9857    0.0       0.0   True\n",
      "     4      5   0.6716 0.5059    0.5059  False\n",
      "----------------------------------------------\n"
     ]
    }
   ],
   "source": [
    "# Benjamini-Hochberg\n",
    "com_bh = multicomp.allpairtest(st.ttest_ind, method='fdr_bh')\n",
    "print(com_bh[0])"
   ]
  },
  {
   "cell_type": "markdown",
   "metadata": {},
   "source": [
    "#### ***It  is  clear  from  the  table  that  each  group  of  participants  is  compared  to  all  of  the  remaining groups.  At  the  bottom  of  the  table, we  can  see  that  group  5  is  compared  to the groups  that used their phones 0, 1, 2, 3 and 4 hours a day and reveals a significant difference in all cases (all  the  values  in  the  columns are less than .05) except for the comparison between the 4-and 5-hour  groups.  In  the  next  part  of  the  table,  the 4-hour  group  is  compared  to  all  other groups. Again all comparisons are significant (all the values in the columns are less than .05). In fact, all of the comparisons appear to be highly significant except the comparison between the 4- and 5-hour groups, which is non-significant because the value is bigger than .05***"
   ]
  },
  {
   "cell_type": "markdown",
   "metadata": {},
   "source": [
    "### calculating effect size"
   ]
  },
  {
   "cell_type": "code",
   "execution_count": 28,
   "metadata": {},
   "outputs": [],
   "source": [
    "SSm = 450.664018\n",
    "SSr = 38.09\n",
    "SSt = SSm+SSr"
   ]
  },
  {
   "cell_type": "code",
   "execution_count": 29,
   "metadata": {},
   "outputs": [],
   "source": [
    "MSm = 90.132804\n",
    "MSr = .3341"
   ]
  },
  {
   "cell_type": "code",
   "execution_count": 32,
   "metadata": {},
   "outputs": [
    {
     "data": {
      "text/plain": [
       "0.918021725483832"
      ]
     },
     "execution_count": 32,
     "metadata": {},
     "output_type": "execute_result"
    }
   ],
   "source": [
    "ω_squared = (SSm-5*MSr)/(SSt+MSr)   # here ω_squared is like adjusted R_squared\n",
    "ω_squared"
   ]
  },
  {
   "cell_type": "code",
   "execution_count": 33,
   "metadata": {},
   "outputs": [
    {
     "data": {
      "text/plain": [
       "0.9581345028146268"
      ]
     },
     "execution_count": 33,
     "metadata": {},
     "output_type": "execute_result"
    }
   ],
   "source": [
    "ω = np.sqrt(ω_squared)       # ω, more accurate measure of R\n",
    "ω"
   ]
  },
  {
   "cell_type": "markdown",
   "metadata": {},
   "source": [
    "### Interpreting and writing the result\n",
    "#### We could report the main finding as:•Levene’s  test  indicated  that  the  assumption  of  homogeneity  of  variance  had  been violated, F(5, 114) = 8.40, p < .001. Transforming the data did not rectify this problem and so F-tests are reported nevertheless. The results show that using a mobile phone significantly  affected  the  size  of  brain  tumour  found  in  participants, F(5,  114)  = 269.73, p < .001, ω2 = .92. The effect size indicated that the effect of phone use on tumour size was substantial.The next thing that needs to be reported are the post hoc comparisons. It is customary just to summarize these tests in very general terms like this:•Benjamini–Hochbergpost  hoc tests revealed significant differences between all groups (p < .001 for all tests) except between 4 and 5 hours (ns)"
   ]
  },
  {
   "cell_type": "code",
   "execution_count": null,
   "metadata": {},
   "outputs": [],
   "source": []
  }
 ],
 "metadata": {
  "kernelspec": {
   "display_name": "Python 3",
   "language": "python",
   "name": "python3"
  },
  "language_info": {
   "codemirror_mode": {
    "name": "ipython",
    "version": 3
   },
   "file_extension": ".py",
   "mimetype": "text/x-python",
   "name": "python",
   "nbconvert_exporter": "python",
   "pygments_lexer": "ipython3",
   "version": "3.7.6"
  }
 },
 "nbformat": 4,
 "nbformat_minor": 4
}
