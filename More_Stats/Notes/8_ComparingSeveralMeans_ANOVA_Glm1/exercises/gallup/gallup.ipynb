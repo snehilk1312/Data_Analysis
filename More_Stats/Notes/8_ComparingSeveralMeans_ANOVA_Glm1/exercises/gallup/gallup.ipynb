{
 "cells": [
  {
   "cell_type": "markdown",
   "metadata": {},
   "source": [
    "#### Importing Libraries"
   ]
  },
  {
   "cell_type": "code",
   "execution_count": 1,
   "metadata": {},
   "outputs": [],
   "source": [
    "import numpy as np\n",
    "import pandas as pd\n",
    "import matplotlib.pyplot as plt\n",
    "import seaborn as sns\n",
    "import scipy.stats as st\n",
    "import pingouin as pg\n",
    "\n",
    "import statsmodels.api as sm\n",
    "from statsmodels.formula.api import ols\n",
    "import statsmodels.stats.outliers_influence as sms\n",
    "from statsmodels.tools.tools import add_constant\n",
    "\n",
    "from patsy.contrasts import ContrastMatrix\n",
    "from patsy.contrasts import Poly\n",
    "%matplotlib inline"
   ]
  },
  {
   "cell_type": "code",
   "execution_count": 2,
   "metadata": {},
   "outputs": [],
   "source": [
    "data = pd.read_csv('gallup.csv')"
   ]
  },
  {
   "cell_type": "code",
   "execution_count": 3,
   "metadata": {},
   "outputs": [],
   "source": [
    "data['Phallusx'] = data['Phallus'].replace({'No Coronal Ridge':1,'Minimal Coronal Ridge':2, 'Coronal Ridge':3  })"
   ]
  },
  {
   "cell_type": "code",
   "execution_count": 4,
   "metadata": {},
   "outputs": [
    {
     "data": {
      "text/html": [
       "<div>\n",
       "<style scoped>\n",
       "    .dataframe tbody tr th:only-of-type {\n",
       "        vertical-align: middle;\n",
       "    }\n",
       "\n",
       "    .dataframe tbody tr th {\n",
       "        vertical-align: top;\n",
       "    }\n",
       "\n",
       "    .dataframe thead th {\n",
       "        text-align: right;\n",
       "    }\n",
       "</style>\n",
       "<table border=\"1\" class=\"dataframe\">\n",
       "  <thead>\n",
       "    <tr style=\"text-align: right;\">\n",
       "      <th></th>\n",
       "      <th>Phallus</th>\n",
       "      <th>Displacement</th>\n",
       "      <th>Phallusx</th>\n",
       "    </tr>\n",
       "  </thead>\n",
       "  <tbody>\n",
       "    <tr>\n",
       "      <th>0</th>\n",
       "      <td>No Coronal Ridge</td>\n",
       "      <td>21.487603</td>\n",
       "      <td>1</td>\n",
       "    </tr>\n",
       "    <tr>\n",
       "      <th>1</th>\n",
       "      <td>No Coronal Ridge</td>\n",
       "      <td>35.830619</td>\n",
       "      <td>1</td>\n",
       "    </tr>\n",
       "    <tr>\n",
       "      <th>2</th>\n",
       "      <td>No Coronal Ridge</td>\n",
       "      <td>61.744966</td>\n",
       "      <td>1</td>\n",
       "    </tr>\n",
       "    <tr>\n",
       "      <th>3</th>\n",
       "      <td>No Coronal Ridge</td>\n",
       "      <td>22.014925</td>\n",
       "      <td>1</td>\n",
       "    </tr>\n",
       "    <tr>\n",
       "      <th>4</th>\n",
       "      <td>No Coronal Ridge</td>\n",
       "      <td>35.497836</td>\n",
       "      <td>1</td>\n",
       "    </tr>\n",
       "    <tr>\n",
       "      <th>5</th>\n",
       "      <td>Minimal Coronal Ridge</td>\n",
       "      <td>93.117409</td>\n",
       "      <td>2</td>\n",
       "    </tr>\n",
       "    <tr>\n",
       "      <th>6</th>\n",
       "      <td>Minimal Coronal Ridge</td>\n",
       "      <td>80.769231</td>\n",
       "      <td>2</td>\n",
       "    </tr>\n",
       "    <tr>\n",
       "      <th>7</th>\n",
       "      <td>Minimal Coronal Ridge</td>\n",
       "      <td>91.056911</td>\n",
       "      <td>2</td>\n",
       "    </tr>\n",
       "    <tr>\n",
       "      <th>8</th>\n",
       "      <td>Minimal Coronal Ridge</td>\n",
       "      <td>97.435897</td>\n",
       "      <td>2</td>\n",
       "    </tr>\n",
       "    <tr>\n",
       "      <th>9</th>\n",
       "      <td>Minimal Coronal Ridge</td>\n",
       "      <td>93.165468</td>\n",
       "      <td>2</td>\n",
       "    </tr>\n",
       "    <tr>\n",
       "      <th>10</th>\n",
       "      <td>Coronal Ridge</td>\n",
       "      <td>99.221790</td>\n",
       "      <td>3</td>\n",
       "    </tr>\n",
       "    <tr>\n",
       "      <th>11</th>\n",
       "      <td>Coronal Ridge</td>\n",
       "      <td>79.735683</td>\n",
       "      <td>3</td>\n",
       "    </tr>\n",
       "    <tr>\n",
       "      <th>12</th>\n",
       "      <td>Coronal Ridge</td>\n",
       "      <td>91.005291</td>\n",
       "      <td>3</td>\n",
       "    </tr>\n",
       "    <tr>\n",
       "      <th>13</th>\n",
       "      <td>Coronal Ridge</td>\n",
       "      <td>99.245283</td>\n",
       "      <td>3</td>\n",
       "    </tr>\n",
       "    <tr>\n",
       "      <th>14</th>\n",
       "      <td>Coronal Ridge</td>\n",
       "      <td>86.904762</td>\n",
       "      <td>3</td>\n",
       "    </tr>\n",
       "  </tbody>\n",
       "</table>\n",
       "</div>"
      ],
      "text/plain": [
       "                  Phallus  Displacement  Phallusx\n",
       "0        No Coronal Ridge     21.487603         1\n",
       "1        No Coronal Ridge     35.830619         1\n",
       "2        No Coronal Ridge     61.744966         1\n",
       "3        No Coronal Ridge     22.014925         1\n",
       "4        No Coronal Ridge     35.497836         1\n",
       "5   Minimal Coronal Ridge     93.117409         2\n",
       "6   Minimal Coronal Ridge     80.769231         2\n",
       "7   Minimal Coronal Ridge     91.056911         2\n",
       "8   Minimal Coronal Ridge     97.435897         2\n",
       "9   Minimal Coronal Ridge     93.165468         2\n",
       "10          Coronal Ridge     99.221790         3\n",
       "11          Coronal Ridge     79.735683         3\n",
       "12          Coronal Ridge     91.005291         3\n",
       "13          Coronal Ridge     99.245283         3\n",
       "14          Coronal Ridge     86.904762         3"
      ]
     },
     "execution_count": 4,
     "metadata": {},
     "output_type": "execute_result"
    }
   ],
   "source": [
    "data"
   ]
  },
  {
   "cell_type": "code",
   "execution_count": 5,
   "metadata": {},
   "outputs": [
    {
     "data": {
      "text/html": [
       "<div>\n",
       "<style scoped>\n",
       "    .dataframe tbody tr th:only-of-type {\n",
       "        vertical-align: middle;\n",
       "    }\n",
       "\n",
       "    .dataframe tbody tr th {\n",
       "        vertical-align: top;\n",
       "    }\n",
       "\n",
       "    .dataframe thead th {\n",
       "        text-align: right;\n",
       "    }\n",
       "</style>\n",
       "<table border=\"1\" class=\"dataframe\">\n",
       "  <thead>\n",
       "    <tr style=\"text-align: right;\">\n",
       "      <th></th>\n",
       "      <th>low</th>\n",
       "      <th>high</th>\n",
       "    </tr>\n",
       "  </thead>\n",
       "  <tbody>\n",
       "    <tr>\n",
       "      <th>0</th>\n",
       "      <td>0</td>\n",
       "      <td>0</td>\n",
       "    </tr>\n",
       "    <tr>\n",
       "      <th>1</th>\n",
       "      <td>0</td>\n",
       "      <td>0</td>\n",
       "    </tr>\n",
       "    <tr>\n",
       "      <th>2</th>\n",
       "      <td>0</td>\n",
       "      <td>0</td>\n",
       "    </tr>\n",
       "    <tr>\n",
       "      <th>3</th>\n",
       "      <td>0</td>\n",
       "      <td>0</td>\n",
       "    </tr>\n",
       "    <tr>\n",
       "      <th>4</th>\n",
       "      <td>0</td>\n",
       "      <td>0</td>\n",
       "    </tr>\n",
       "    <tr>\n",
       "      <th>5</th>\n",
       "      <td>1</td>\n",
       "      <td>0</td>\n",
       "    </tr>\n",
       "    <tr>\n",
       "      <th>6</th>\n",
       "      <td>1</td>\n",
       "      <td>0</td>\n",
       "    </tr>\n",
       "    <tr>\n",
       "      <th>7</th>\n",
       "      <td>1</td>\n",
       "      <td>0</td>\n",
       "    </tr>\n",
       "    <tr>\n",
       "      <th>8</th>\n",
       "      <td>1</td>\n",
       "      <td>0</td>\n",
       "    </tr>\n",
       "    <tr>\n",
       "      <th>9</th>\n",
       "      <td>1</td>\n",
       "      <td>0</td>\n",
       "    </tr>\n",
       "    <tr>\n",
       "      <th>10</th>\n",
       "      <td>0</td>\n",
       "      <td>1</td>\n",
       "    </tr>\n",
       "    <tr>\n",
       "      <th>11</th>\n",
       "      <td>0</td>\n",
       "      <td>1</td>\n",
       "    </tr>\n",
       "    <tr>\n",
       "      <th>12</th>\n",
       "      <td>0</td>\n",
       "      <td>1</td>\n",
       "    </tr>\n",
       "    <tr>\n",
       "      <th>13</th>\n",
       "      <td>0</td>\n",
       "      <td>1</td>\n",
       "    </tr>\n",
       "    <tr>\n",
       "      <th>14</th>\n",
       "      <td>0</td>\n",
       "      <td>1</td>\n",
       "    </tr>\n",
       "  </tbody>\n",
       "</table>\n",
       "</div>"
      ],
      "text/plain": [
       "    low  high\n",
       "0     0     0\n",
       "1     0     0\n",
       "2     0     0\n",
       "3     0     0\n",
       "4     0     0\n",
       "5     1     0\n",
       "6     1     0\n",
       "7     1     0\n",
       "8     1     0\n",
       "9     1     0\n",
       "10    0     1\n",
       "11    0     1\n",
       "12    0     1\n",
       "13    0     1\n",
       "14    0     1"
      ]
     },
     "execution_count": 5,
     "metadata": {},
     "output_type": "execute_result"
    }
   ],
   "source": [
    "dummies = pd.get_dummies(data['Phallusx'])\n",
    "dummy = dummies.iloc[:,1: ]\n",
    "dummy.columns = ['low', 'high']\n",
    "dummy"
   ]
  },
  {
   "cell_type": "code",
   "execution_count": 6,
   "metadata": {},
   "outputs": [],
   "source": [
    "data = pd.merge(data, dummy, how = 'inner', left_index = True, right_index = True)"
   ]
  },
  {
   "cell_type": "code",
   "execution_count": 7,
   "metadata": {},
   "outputs": [
    {
     "data": {
      "text/html": [
       "<div>\n",
       "<style scoped>\n",
       "    .dataframe tbody tr th:only-of-type {\n",
       "        vertical-align: middle;\n",
       "    }\n",
       "\n",
       "    .dataframe tbody tr th {\n",
       "        vertical-align: top;\n",
       "    }\n",
       "\n",
       "    .dataframe thead th {\n",
       "        text-align: right;\n",
       "    }\n",
       "</style>\n",
       "<table border=\"1\" class=\"dataframe\">\n",
       "  <thead>\n",
       "    <tr style=\"text-align: right;\">\n",
       "      <th></th>\n",
       "      <th>const</th>\n",
       "      <th>Phallus</th>\n",
       "      <th>Displacement</th>\n",
       "      <th>Phallusx</th>\n",
       "      <th>low</th>\n",
       "      <th>high</th>\n",
       "    </tr>\n",
       "  </thead>\n",
       "  <tbody>\n",
       "    <tr>\n",
       "      <th>0</th>\n",
       "      <td>1.0</td>\n",
       "      <td>No Coronal Ridge</td>\n",
       "      <td>21.487603</td>\n",
       "      <td>1</td>\n",
       "      <td>0</td>\n",
       "      <td>0</td>\n",
       "    </tr>\n",
       "    <tr>\n",
       "      <th>1</th>\n",
       "      <td>1.0</td>\n",
       "      <td>No Coronal Ridge</td>\n",
       "      <td>35.830619</td>\n",
       "      <td>1</td>\n",
       "      <td>0</td>\n",
       "      <td>0</td>\n",
       "    </tr>\n",
       "    <tr>\n",
       "      <th>2</th>\n",
       "      <td>1.0</td>\n",
       "      <td>No Coronal Ridge</td>\n",
       "      <td>61.744966</td>\n",
       "      <td>1</td>\n",
       "      <td>0</td>\n",
       "      <td>0</td>\n",
       "    </tr>\n",
       "    <tr>\n",
       "      <th>3</th>\n",
       "      <td>1.0</td>\n",
       "      <td>No Coronal Ridge</td>\n",
       "      <td>22.014925</td>\n",
       "      <td>1</td>\n",
       "      <td>0</td>\n",
       "      <td>0</td>\n",
       "    </tr>\n",
       "    <tr>\n",
       "      <th>4</th>\n",
       "      <td>1.0</td>\n",
       "      <td>No Coronal Ridge</td>\n",
       "      <td>35.497836</td>\n",
       "      <td>1</td>\n",
       "      <td>0</td>\n",
       "      <td>0</td>\n",
       "    </tr>\n",
       "  </tbody>\n",
       "</table>\n",
       "</div>"
      ],
      "text/plain": [
       "   const           Phallus  Displacement  Phallusx  low  high\n",
       "0    1.0  No Coronal Ridge     21.487603         1    0     0\n",
       "1    1.0  No Coronal Ridge     35.830619         1    0     0\n",
       "2    1.0  No Coronal Ridge     61.744966         1    0     0\n",
       "3    1.0  No Coronal Ridge     22.014925         1    0     0\n",
       "4    1.0  No Coronal Ridge     35.497836         1    0     0"
      ]
     },
     "execution_count": 7,
     "metadata": {},
     "output_type": "execute_result"
    }
   ],
   "source": [
    "data = add_constant(data)\n",
    "data.head()"
   ]
  },
  {
   "cell_type": "code",
   "execution_count": 8,
   "metadata": {},
   "outputs": [],
   "source": [
    "m01  = ols('Displacement~low+high', data=data).fit()"
   ]
  },
  {
   "cell_type": "code",
   "execution_count": 9,
   "metadata": {},
   "outputs": [
    {
     "name": "stderr",
     "output_type": "stream",
     "text": [
      "/home/atrides/anaconda3/lib/python3.7/site-packages/scipy/stats/stats.py:1535: UserWarning: kurtosistest only valid for n>=20 ... continuing anyway, n=15\n",
      "  \"anyway, n=%i\" % int(n))\n"
     ]
    },
    {
     "data": {
      "text/html": [
       "<table class=\"simpletable\">\n",
       "<caption>OLS Regression Results</caption>\n",
       "<tr>\n",
       "  <th>Dep. Variable:</th>      <td>Displacement</td>   <th>  R-squared:         </th> <td>   0.874</td>\n",
       "</tr>\n",
       "<tr>\n",
       "  <th>Model:</th>                   <td>OLS</td>       <th>  Adj. R-squared:    </th> <td>   0.853</td>\n",
       "</tr>\n",
       "<tr>\n",
       "  <th>Method:</th>             <td>Least Squares</td>  <th>  F-statistic:       </th> <td>   41.56</td>\n",
       "</tr>\n",
       "<tr>\n",
       "  <th>Date:</th>             <td>Sat, 25 Jul 2020</td> <th>  Prob (F-statistic):</th> <td>4.03e-06</td>\n",
       "</tr>\n",
       "<tr>\n",
       "  <th>Time:</th>                 <td>19:46:32</td>     <th>  Log-Likelihood:    </th> <td> -55.828</td>\n",
       "</tr>\n",
       "<tr>\n",
       "  <th>No. Observations:</th>      <td>    15</td>      <th>  AIC:               </th> <td>   117.7</td>\n",
       "</tr>\n",
       "<tr>\n",
       "  <th>Df Residuals:</th>          <td>    12</td>      <th>  BIC:               </th> <td>   119.8</td>\n",
       "</tr>\n",
       "<tr>\n",
       "  <th>Df Model:</th>              <td>     2</td>      <th>                     </th>     <td> </td>   \n",
       "</tr>\n",
       "<tr>\n",
       "  <th>Covariance Type:</th>      <td>nonrobust</td>    <th>                     </th>     <td> </td>   \n",
       "</tr>\n",
       "</table>\n",
       "<table class=\"simpletable\">\n",
       "<tr>\n",
       "      <td></td>         <th>coef</th>     <th>std err</th>      <th>t</th>      <th>P>|t|</th>  <th>[0.025</th>    <th>0.975]</th>  \n",
       "</tr>\n",
       "<tr>\n",
       "  <th>Intercept</th> <td>   35.3152</td> <td>    5.002</td> <td>    7.060</td> <td> 0.000</td> <td>   24.417</td> <td>   46.213</td>\n",
       "</tr>\n",
       "<tr>\n",
       "  <th>low</th>       <td>   55.7938</td> <td>    7.074</td> <td>    7.887</td> <td> 0.000</td> <td>   40.381</td> <td>   71.206</td>\n",
       "</tr>\n",
       "<tr>\n",
       "  <th>high</th>      <td>   55.9074</td> <td>    7.074</td> <td>    7.904</td> <td> 0.000</td> <td>   40.495</td> <td>   71.320</td>\n",
       "</tr>\n",
       "</table>\n",
       "<table class=\"simpletable\">\n",
       "<tr>\n",
       "  <th>Omnibus:</th>       <td> 4.867</td> <th>  Durbin-Watson:     </th> <td>   2.478</td>\n",
       "</tr>\n",
       "<tr>\n",
       "  <th>Prob(Omnibus):</th> <td> 0.088</td> <th>  Jarque-Bera (JB):  </th> <td>   2.189</td>\n",
       "</tr>\n",
       "<tr>\n",
       "  <th>Skew:</th>          <td> 0.803</td> <th>  Prob(JB):          </th> <td>   0.335</td>\n",
       "</tr>\n",
       "<tr>\n",
       "  <th>Kurtosis:</th>      <td> 3.960</td> <th>  Cond. No.          </th> <td>    3.73</td>\n",
       "</tr>\n",
       "</table><br/><br/>Warnings:<br/>[1] Standard Errors assume that the covariance matrix of the errors is correctly specified."
      ],
      "text/plain": [
       "<class 'statsmodels.iolib.summary.Summary'>\n",
       "\"\"\"\n",
       "                            OLS Regression Results                            \n",
       "==============================================================================\n",
       "Dep. Variable:           Displacement   R-squared:                       0.874\n",
       "Model:                            OLS   Adj. R-squared:                  0.853\n",
       "Method:                 Least Squares   F-statistic:                     41.56\n",
       "Date:                Sat, 25 Jul 2020   Prob (F-statistic):           4.03e-06\n",
       "Time:                        19:46:32   Log-Likelihood:                -55.828\n",
       "No. Observations:                  15   AIC:                             117.7\n",
       "Df Residuals:                      12   BIC:                             119.8\n",
       "Df Model:                           2                                         \n",
       "Covariance Type:            nonrobust                                         \n",
       "==============================================================================\n",
       "                 coef    std err          t      P>|t|      [0.025      0.975]\n",
       "------------------------------------------------------------------------------\n",
       "Intercept     35.3152      5.002      7.060      0.000      24.417      46.213\n",
       "low           55.7938      7.074      7.887      0.000      40.381      71.206\n",
       "high          55.9074      7.074      7.904      0.000      40.495      71.320\n",
       "==============================================================================\n",
       "Omnibus:                        4.867   Durbin-Watson:                   2.478\n",
       "Prob(Omnibus):                  0.088   Jarque-Bera (JB):                2.189\n",
       "Skew:                           0.803   Prob(JB):                        0.335\n",
       "Kurtosis:                       3.960   Cond. No.                         3.73\n",
       "==============================================================================\n",
       "\n",
       "Warnings:\n",
       "[1] Standard Errors assume that the covariance matrix of the errors is correctly specified.\n",
       "\"\"\""
      ]
     },
     "execution_count": 9,
     "metadata": {},
     "output_type": "execute_result"
    }
   ],
   "source": [
    "m01.summary()"
   ]
  },
  {
   "cell_type": "markdown",
   "metadata": {},
   "source": [
    "#### Checking homogeneity of variance using levene test"
   ]
  },
  {
   "cell_type": "code",
   "execution_count": 10,
   "metadata": {},
   "outputs": [],
   "source": [
    "data_1 = data[data['Phallusx']==1]\n",
    "data_2 = data[data['Phallusx']==2]\n",
    "data_3 = data[data['Phallusx']==3]"
   ]
  },
  {
   "cell_type": "code",
   "execution_count": 11,
   "metadata": {},
   "outputs": [
    {
     "name": "stdout",
     "output_type": "stream",
     "text": [
      "1.1516046614783768 0.34872775150178337\n"
     ]
    }
   ],
   "source": [
    "stat, p = st.levene(data_1['Displacement'], data_2['Displacement'], data_3['Displacement'])\n",
    "print(stat, p)"
   ]
  },
  {
   "cell_type": "markdown",
   "metadata": {},
   "source": [
    "#### dataset analysis"
   ]
  },
  {
   "cell_type": "code",
   "execution_count": 12,
   "metadata": {},
   "outputs": [
    {
     "data": {
      "image/png": "[encoded data removed]",
      "text/plain": [
       "<Figure size 432x288 with 1 Axes>"
      ]
     },
     "metadata": {
      "needs_background": "light"
     },
     "output_type": "display_data"
    }
   ],
   "source": [
    "_ = sns.boxplot(x='Phallus', y='Displacement', data=data)"
   ]
  },
  {
   "cell_type": "code",
   "execution_count": 13,
   "metadata": {},
   "outputs": [
    {
     "data": {
      "image/png": "[encoded data removed]",
      "text/plain": [
       "<Figure size 432x288 with 1 Axes>"
      ]
     },
     "metadata": {
      "needs_background": "light"
     },
     "output_type": "display_data"
    }
   ],
   "source": [
    "_ = sns.lineplot(x='Phallus', y='Displacement', data=data, err_style='bars')"
   ]
  },
  {
   "cell_type": "markdown",
   "metadata": {},
   "source": [
    "#### Anova"
   ]
  },
  {
   "cell_type": "code",
   "execution_count": 14,
   "metadata": {},
   "outputs": [],
   "source": [
    "model  = ols('Displacement~C(Phallus)', data=data).fit()"
   ]
  },
  {
   "cell_type": "code",
   "execution_count": 15,
   "metadata": {},
   "outputs": [
    {
     "data": {
      "text/html": [
       "<div>\n",
       "<style scoped>\n",
       "    .dataframe tbody tr th:only-of-type {\n",
       "        vertical-align: middle;\n",
       "    }\n",
       "\n",
       "    .dataframe tbody tr th {\n",
       "        vertical-align: top;\n",
       "    }\n",
       "\n",
       "    .dataframe thead th {\n",
       "        text-align: right;\n",
       "    }\n",
       "</style>\n",
       "<table border=\"1\" class=\"dataframe\">\n",
       "  <thead>\n",
       "    <tr style=\"text-align: right;\">\n",
       "      <th></th>\n",
       "      <th>df</th>\n",
       "      <th>sum_sq</th>\n",
       "      <th>mean_sq</th>\n",
       "      <th>F</th>\n",
       "      <th>PR(&gt;F)</th>\n",
       "    </tr>\n",
       "  </thead>\n",
       "  <tbody>\n",
       "    <tr>\n",
       "      <th>C(Phallus)</th>\n",
       "      <td>2.0</td>\n",
       "      <td>10397.657466</td>\n",
       "      <td>5198.828733</td>\n",
       "      <td>41.559379</td>\n",
       "      <td>0.000004</td>\n",
       "    </tr>\n",
       "    <tr>\n",
       "      <th>Residual</th>\n",
       "      <td>12.0</td>\n",
       "      <td>1501.127937</td>\n",
       "      <td>125.093995</td>\n",
       "      <td>NaN</td>\n",
       "      <td>NaN</td>\n",
       "    </tr>\n",
       "  </tbody>\n",
       "</table>\n",
       "</div>"
      ],
      "text/plain": [
       "              df        sum_sq      mean_sq          F    PR(>F)\n",
       "C(Phallus)   2.0  10397.657466  5198.828733  41.559379  0.000004\n",
       "Residual    12.0   1501.127937   125.093995        NaN       NaN"
      ]
     },
     "execution_count": 15,
     "metadata": {},
     "output_type": "execute_result"
    }
   ],
   "source": [
    "anova_table = sm.stats.anova_lm(model)\n",
    "anova_table"
   ]
  },
  {
   "cell_type": "code",
   "execution_count": 16,
   "metadata": {},
   "outputs": [
    {
     "data": {
      "text/html": [
       "<div>\n",
       "<style scoped>\n",
       "    .dataframe tbody tr th:only-of-type {\n",
       "        vertical-align: middle;\n",
       "    }\n",
       "\n",
       "    .dataframe tbody tr th {\n",
       "        vertical-align: top;\n",
       "    }\n",
       "\n",
       "    .dataframe thead th {\n",
       "        text-align: right;\n",
       "    }\n",
       "</style>\n",
       "<table border=\"1\" class=\"dataframe\">\n",
       "  <thead>\n",
       "    <tr style=\"text-align: right;\">\n",
       "      <th></th>\n",
       "      <th>predicted</th>\n",
       "    </tr>\n",
       "  </thead>\n",
       "  <tbody>\n",
       "    <tr>\n",
       "      <th>0</th>\n",
       "      <td>35.31519</td>\n",
       "    </tr>\n",
       "    <tr>\n",
       "      <th>1</th>\n",
       "      <td>35.31519</td>\n",
       "    </tr>\n",
       "    <tr>\n",
       "      <th>2</th>\n",
       "      <td>35.31519</td>\n",
       "    </tr>\n",
       "    <tr>\n",
       "      <th>3</th>\n",
       "      <td>35.31519</td>\n",
       "    </tr>\n",
       "    <tr>\n",
       "      <th>4</th>\n",
       "      <td>35.31519</td>\n",
       "    </tr>\n",
       "  </tbody>\n",
       "</table>\n",
       "</div>"
      ],
      "text/plain": [
       "   predicted\n",
       "0   35.31519\n",
       "1   35.31519\n",
       "2   35.31519\n",
       "3   35.31519\n",
       "4   35.31519"
      ]
     },
     "execution_count": 16,
     "metadata": {},
     "output_type": "execute_result"
    }
   ],
   "source": [
    "prediction = pd.DataFrame(model.fittedvalues)\n",
    "prediction.columns = ['predicted'] \n",
    "prediction.head()"
   ]
  },
  {
   "cell_type": "code",
   "execution_count": 17,
   "metadata": {},
   "outputs": [],
   "source": [
    "prediction['standarized_prediction']  = (prediction['predicted']-prediction['predicted'].mean())/prediction['predicted'].std()"
   ]
  },
  {
   "cell_type": "code",
   "execution_count": 18,
   "metadata": {},
   "outputs": [],
   "source": [
    "summary_frame = sms.OLSInfluence(model).summary_frame()"
   ]
  },
  {
   "cell_type": "code",
   "execution_count": 19,
   "metadata": {},
   "outputs": [],
   "source": [
    "summary_frame = pd.merge(summary_frame, prediction, how = 'inner', left_index = True, right_index = True)"
   ]
  },
  {
   "cell_type": "code",
   "execution_count": 20,
   "metadata": {},
   "outputs": [
    {
     "data": {
      "text/html": [
       "<div>\n",
       "<style scoped>\n",
       "    .dataframe tbody tr th:only-of-type {\n",
       "        vertical-align: middle;\n",
       "    }\n",
       "\n",
       "    .dataframe tbody tr th {\n",
       "        vertical-align: top;\n",
       "    }\n",
       "\n",
       "    .dataframe thead th {\n",
       "        text-align: right;\n",
       "    }\n",
       "</style>\n",
       "<table border=\"1\" class=\"dataframe\">\n",
       "  <thead>\n",
       "    <tr style=\"text-align: right;\">\n",
       "      <th></th>\n",
       "      <th>dfb_Intercept</th>\n",
       "      <th>dfb_C(Phallus)[T.Minimal Coronal Ridge]</th>\n",
       "      <th>dfb_C(Phallus)[T.No Coronal Ridge]</th>\n",
       "      <th>cooks_d</th>\n",
       "      <th>standard_resid</th>\n",
       "      <th>hat_diag</th>\n",
       "      <th>dffits_internal</th>\n",
       "      <th>student_resid</th>\n",
       "      <th>dffits</th>\n",
       "      <th>predicted</th>\n",
       "      <th>standarized_prediction</th>\n",
       "    </tr>\n",
       "  </thead>\n",
       "  <tbody>\n",
       "    <tr>\n",
       "      <th>0</th>\n",
       "      <td>-2.966541e-15</td>\n",
       "      <td>-1.048831e-15</td>\n",
       "      <td>-0.510272</td>\n",
       "      <td>0.159215</td>\n",
       "      <td>-1.382239</td>\n",
       "      <td>0.2</td>\n",
       "      <td>-0.691120</td>\n",
       "      <td>-1.443266</td>\n",
       "      <td>-0.721633</td>\n",
       "      <td>35.31519</td>\n",
       "      <td>-1.366258</td>\n",
       "    </tr>\n",
       "    <tr>\n",
       "      <th>1</th>\n",
       "      <td>-2.720450e-15</td>\n",
       "      <td>-9.618243e-16</td>\n",
       "      <td>0.017443</td>\n",
       "      <td>0.000221</td>\n",
       "      <td>0.051524</td>\n",
       "      <td>0.2</td>\n",
       "      <td>0.025762</td>\n",
       "      <td>0.049335</td>\n",
       "      <td>0.024668</td>\n",
       "      <td>35.31519</td>\n",
       "      <td>-1.366258</td>\n",
       "    </tr>\n",
       "    <tr>\n",
       "      <th>2</th>\n",
       "      <td>-4.205668e-15</td>\n",
       "      <td>-2.230392e-15</td>\n",
       "      <td>1.382717</td>\n",
       "      <td>0.581674</td>\n",
       "      <td>2.641985</td>\n",
       "      <td>0.2</td>\n",
       "      <td>1.320992</td>\n",
       "      <td>3.910914</td>\n",
       "      <td>1.955457</td>\n",
       "      <td>35.31519</td>\n",
       "      <td>-1.366258</td>\n",
       "    </tr>\n",
       "    <tr>\n",
       "      <th>3</th>\n",
       "      <td>-2.945747e-15</td>\n",
       "      <td>-1.041479e-15</td>\n",
       "      <td>-0.487372</td>\n",
       "      <td>0.147303</td>\n",
       "      <td>-1.329527</td>\n",
       "      <td>0.2</td>\n",
       "      <td>-0.664763</td>\n",
       "      <td>-1.378496</td>\n",
       "      <td>-0.689248</td>\n",
       "      <td>35.31519</td>\n",
       "      <td>-1.366258</td>\n",
       "    </tr>\n",
       "    <tr>\n",
       "      <th>4</th>\n",
       "      <td>-2.720187e-15</td>\n",
       "      <td>-1.442597e-15</td>\n",
       "      <td>0.006180</td>\n",
       "      <td>0.000028</td>\n",
       "      <td>0.018258</td>\n",
       "      <td>0.2</td>\n",
       "      <td>0.009129</td>\n",
       "      <td>0.017481</td>\n",
       "      <td>0.008740</td>\n",
       "      <td>35.31519</td>\n",
       "      <td>-1.366258</td>\n",
       "    </tr>\n",
       "  </tbody>\n",
       "</table>\n",
       "</div>"
      ],
      "text/plain": [
       "   dfb_Intercept  dfb_C(Phallus)[T.Minimal Coronal Ridge]  \\\n",
       "0  -2.966541e-15                            -1.048831e-15   \n",
       "1  -2.720450e-15                            -9.618243e-16   \n",
       "2  -4.205668e-15                            -2.230392e-15   \n",
       "3  -2.945747e-15                            -1.041479e-15   \n",
       "4  -2.720187e-15                            -1.442597e-15   \n",
       "\n",
       "   dfb_C(Phallus)[T.No Coronal Ridge]   cooks_d  standard_resid  hat_diag  \\\n",
       "0                           -0.510272  0.159215       -1.382239       0.2   \n",
       "1                            0.017443  0.000221        0.051524       0.2   \n",
       "2                            1.382717  0.581674        2.641985       0.2   \n",
       "3                           -0.487372  0.147303       -1.329527       0.2   \n",
       "4                            0.006180  0.000028        0.018258       0.2   \n",
       "\n",
       "   dffits_internal  student_resid    dffits  predicted  standarized_prediction  \n",
       "0        -0.691120      -1.443266 -0.721633   35.31519               -1.366258  \n",
       "1         0.025762       0.049335  0.024668   35.31519               -1.366258  \n",
       "2         1.320992       3.910914  1.955457   35.31519               -1.366258  \n",
       "3        -0.664763      -1.378496 -0.689248   35.31519               -1.366258  \n",
       "4         0.009129       0.017481  0.008740   35.31519               -1.366258  "
      ]
     },
     "execution_count": 20,
     "metadata": {},
     "output_type": "execute_result"
    }
   ],
   "source": [
    "summary_frame .head()"
   ]
  },
  {
   "cell_type": "markdown",
   "metadata": {},
   "source": [
    "#### checking anova assumptions are met or not"
   ]
  },
  {
   "cell_type": "code",
   "execution_count": 21,
   "metadata": {},
   "outputs": [
    {
     "data": {
      "image/png": "[encoded data removed]",
      "text/plain": [
       "<Figure size 432x288 with 1 Axes>"
      ]
     },
     "metadata": {
      "needs_background": "light"
     },
     "output_type": "display_data"
    }
   ],
   "source": [
    "_ = sns.scatterplot(x = 'standard_resid', y='standarized_prediction', data = summary_frame)\n",
    "_ = plt.axhline(y=0)"
   ]
  },
  {
   "cell_type": "markdown",
   "metadata": {},
   "source": [
    "### The plot we have shows points that are equally spread for the three groups, which implies that variances are similar across groups (which was also the conclusion reached by Levene’s test"
   ]
  },
  {
   "cell_type": "code",
   "execution_count": 22,
   "metadata": {},
   "outputs": [
    {
     "data": {
      "text/plain": [
       "(0.7985606789588928, 0.0035234233364462852)"
      ]
     },
     "execution_count": 22,
     "metadata": {},
     "output_type": "execute_result"
    }
   ],
   "source": [
    "st.shapiro(data['Displacement'])"
   ]
  },
  {
   "cell_type": "code",
   "execution_count": 23,
   "metadata": {},
   "outputs": [
    {
     "data": {
      "image/png": "[encoded data removed]",
      "text/plain": [
       "<Figure size 360x288 with 1 Axes>"
      ]
     },
     "metadata": {
      "needs_background": "light"
     },
     "output_type": "display_data"
    }
   ],
   "source": [
    "_ = pg.qqplot(summary_frame['standard_resid'], confidence=False)"
   ]
  },
  {
   "cell_type": "markdown",
   "metadata": {},
   "source": [
    "### The second plot is a Q-Q plot and shapiro-wilk test , which tells us something about the normality of residuals in the model. We want our residuals to be normally distributed, which means that the dots on the graph should cling lovingly to the diagonal line. Ours look like they have had a bit of an argument with the diagonal line, which suggests that we may not be able to assume normality of errors and should perhaps use a robust version of ANOVA instead"
   ]
  },
  {
   "cell_type": "code",
   "execution_count": 24,
   "metadata": {},
   "outputs": [
    {
     "data": {
      "text/html": [
       "<div>\n",
       "<style scoped>\n",
       "    .dataframe tbody tr th:only-of-type {\n",
       "        vertical-align: middle;\n",
       "    }\n",
       "\n",
       "    .dataframe tbody tr th {\n",
       "        vertical-align: top;\n",
       "    }\n",
       "\n",
       "    .dataframe thead th {\n",
       "        text-align: right;\n",
       "    }\n",
       "</style>\n",
       "<table border=\"1\" class=\"dataframe\">\n",
       "  <thead>\n",
       "    <tr style=\"text-align: right;\">\n",
       "      <th></th>\n",
       "      <th>Source</th>\n",
       "      <th>ddof1</th>\n",
       "      <th>ddof2</th>\n",
       "      <th>F</th>\n",
       "      <th>p-unc</th>\n",
       "      <th>np2</th>\n",
       "    </tr>\n",
       "  </thead>\n",
       "  <tbody>\n",
       "    <tr>\n",
       "      <th>0</th>\n",
       "      <td>Phallusx</td>\n",
       "      <td>2</td>\n",
       "      <td>7.308604</td>\n",
       "      <td>24.48803</td>\n",
       "      <td>0.000576</td>\n",
       "      <td>0.873842</td>\n",
       "    </tr>\n",
       "  </tbody>\n",
       "</table>\n",
       "</div>"
      ],
      "text/plain": [
       "     Source  ddof1     ddof2         F     p-unc       np2\n",
       "0  Phallusx      2  7.308604  24.48803  0.000576  0.873842"
      ]
     },
     "execution_count": 24,
     "metadata": {},
     "output_type": "execute_result"
    }
   ],
   "source": [
    "aov = pg.welch_anova(dv='Displacement', between='Phallusx', data=data)\n",
    "aov"
   ]
  },
  {
   "cell_type": "markdown",
   "metadata": {},
   "source": [
    "## Robust anova"
   ]
  },
  {
   "cell_type": "code",
   "execution_count": 25,
   "metadata": {},
   "outputs": [
    {
     "data": {
      "text/plain": [
       "KruskalResult(statistic=9.379999999999995, pvalue=0.009186686156244689)"
      ]
     },
     "execution_count": 25,
     "metadata": {},
     "output_type": "execute_result"
    }
   ],
   "source": [
    "st.kruskal(data_1['Displacement'], data_2['Displacement'], data_3['Displacement'])"
   ]
  },
  {
   "cell_type": "markdown",
   "metadata": {},
   "source": [
    "#### significant from robust anova too"
   ]
  },
  {
   "cell_type": "markdown",
   "metadata": {},
   "source": [
    "## Planned Comparisons"
   ]
  },
  {
   "cell_type": "code",
   "execution_count": null,
   "metadata": {},
   "outputs": [],
   "source": []
  },
  {
   "cell_type": "code",
   "execution_count": 26,
   "metadata": {},
   "outputs": [],
   "source": [
    "contrast1 = [-2,1,1]\n",
    "contrast2 = [0,-1,1]"
   ]
  },
  {
   "cell_type": "code",
   "execution_count": 27,
   "metadata": {},
   "outputs": [],
   "source": [
    "contrast = np.vstack((contrast1, contrast2))"
   ]
  },
  {
   "cell_type": "code",
   "execution_count": 28,
   "metadata": {},
   "outputs": [],
   "source": [
    "contrast = contrast.T"
   ]
  },
  {
   "cell_type": "code",
   "execution_count": 29,
   "metadata": {},
   "outputs": [
    {
     "name": "stdout",
     "output_type": "stream",
     "text": [
      "[[-2  0]\n",
      " [ 1 -1]\n",
      " [ 1  1]]\n"
     ]
    }
   ],
   "source": [
    "print(contrast)"
   ]
  },
  {
   "cell_type": "code",
   "execution_count": 30,
   "metadata": {},
   "outputs": [
    {
     "name": "stdout",
     "output_type": "stream",
     "text": [
      "                            OLS Regression Results                            \n",
      "==============================================================================\n",
      "Dep. Variable:           Displacement   R-squared:                       0.874\n",
      "Model:                            OLS   Adj. R-squared:                  0.853\n",
      "Method:                 Least Squares   F-statistic:                     41.56\n",
      "Date:                Sat, 25 Jul 2020   Prob (F-statistic):           4.03e-06\n",
      "Time:                        19:46:39   Log-Likelihood:                -55.828\n",
      "No. Observations:                  15   AIC:                             117.7\n",
      "Df Residuals:                      12   BIC:                             119.8\n",
      "Df Model:                           2                                         \n",
      "Covariance Type:            nonrobust                                         \n",
      "==================================================================================================\n",
      "                                     coef    std err          t      P>|t|      [0.025      0.975]\n",
      "--------------------------------------------------------------------------------------------------\n",
      "Intercept                         72.5489      2.888     25.122      0.000      66.257      78.841\n",
      "C(Phallusx, contrast)[custom0]    18.6169      2.042      9.117      0.000      14.168      23.066\n",
      "C(Phallusx, contrast)[custom1]     0.0568      3.537      0.016      0.987      -7.649       7.763\n",
      "==============================================================================\n",
      "Omnibus:                        4.867   Durbin-Watson:                   2.478\n",
      "Prob(Omnibus):                  0.088   Jarque-Bera (JB):                2.189\n",
      "Skew:                           0.803   Prob(JB):                        0.335\n",
      "Kurtosis:                       3.960   Cond. No.                         1.73\n",
      "==============================================================================\n",
      "\n",
      "Warnings:\n",
      "[1] Standard Errors assume that the covariance matrix of the errors is correctly specified.\n"
     ]
    },
    {
     "name": "stderr",
     "output_type": "stream",
     "text": [
      "/home/atrides/anaconda3/lib/python3.7/site-packages/scipy/stats/stats.py:1535: UserWarning: kurtosistest only valid for n>=20 ... continuing anyway, n=15\n",
      "  \"anyway, n=%i\" % int(n))\n"
     ]
    }
   ],
   "source": [
    "mod_custom = ols(\"Displacement ~ C(Phallusx, contrast)\", data=data)\n",
    "res_custom = mod_custom.fit()\n",
    "print(res_custom.summary())"
   ]
  },
  {
   "cell_type": "markdown",
   "metadata": {},
   "source": [
    "### Contrast 1 tells us that hypothesis 1 is supported: having some kind of ridge led to greater sperm  displacement  than  not  having  a  ridge, t(12)  =  9.12, p < .001. Contrast 2 shows that hypothesis  2  is  not  supported:  the  amount  of  sperm  displaced  by  the  normal  coronal  ridge was not significantly different from the amount displaced by a minimal coronal ridge, t(12)  = 0.02, p = .99. "
   ]
  },
  {
   "cell_type": "markdown",
   "metadata": {},
   "source": [
    "## Trend analysis"
   ]
  },
  {
   "cell_type": "code",
   "execution_count": null,
   "metadata": {},
   "outputs": [],
   "source": []
  },
  {
   "cell_type": "code",
   "execution_count": null,
   "metadata": {},
   "outputs": [],
   "source": []
  },
  {
   "cell_type": "code",
   "execution_count": 31,
   "metadata": {},
   "outputs": [
    {
     "name": "stdout",
     "output_type": "stream",
     "text": [
      "[[-7.07106781e-01  4.08248290e-01]\n",
      " [-4.43378006e-17 -8.16496581e-01]\n",
      " [ 7.07106781e-01  4.08248290e-01]]\n"
     ]
    }
   ],
   "source": [
    "levels = data.Phallusx.unique().tolist()\n",
    "contrast = Poly().code_without_intercept(levels)\n",
    "print(contrast.matrix)"
   ]
  },
  {
   "cell_type": "code",
   "execution_count": 32,
   "metadata": {},
   "outputs": [
    {
     "name": "stdout",
     "output_type": "stream",
     "text": [
      "                            OLS Regression Results                            \n",
      "==============================================================================\n",
      "Dep. Variable:           Displacement   R-squared:                       0.874\n",
      "Model:                            OLS   Adj. R-squared:                  0.853\n",
      "Method:                 Least Squares   F-statistic:                     41.56\n",
      "Date:                Sat, 25 Jul 2020   Prob (F-statistic):           4.03e-06\n",
      "Time:                        19:46:39   Log-Likelihood:                -55.828\n",
      "No. Observations:                  15   AIC:                             117.7\n",
      "Df Residuals:                      12   BIC:                             119.8\n",
      "Df Model:                           2                                         \n",
      "Covariance Type:            nonrobust                                         \n",
      "===============================================================================================\n",
      "                                  coef    std err          t      P>|t|      [0.025      0.975]\n",
      "-----------------------------------------------------------------------------------------------\n",
      "Intercept                      72.5489      2.888     25.122      0.000      66.257      78.841\n",
      "C(Phallusx, Poly).Linear       39.5325      5.002      7.904      0.000      28.634      50.431\n",
      "C(Phallusx, Poly).Quadratic   -22.7314      5.002     -4.545      0.001     -33.630     -11.833\n",
      "==============================================================================\n",
      "Omnibus:                        4.867   Durbin-Watson:                   2.478\n",
      "Prob(Omnibus):                  0.088   Jarque-Bera (JB):                2.189\n",
      "Skew:                           0.803   Prob(JB):                        0.335\n",
      "Kurtosis:                       3.960   Cond. No.                         1.73\n",
      "==============================================================================\n",
      "\n",
      "Warnings:\n",
      "[1] Standard Errors assume that the covariance matrix of the errors is correctly specified.\n"
     ]
    }
   ],
   "source": [
    "mod_poly = ols(\"Displacement~ C(Phallusx, Poly)\", data=data)\n",
    "res_poly = mod_poly.fit()\n",
    "print(res_poly.summary())"
   ]
  },
  {
   "cell_type": "markdown",
   "metadata": {},
   "source": [
    "#### The main ANOVA tells us that there was a significant effect of the type of phallus, F(2, 12) = 41.56, p <.001. (This is exactly the same result as reported in the paper on page 280.) The is a significant linear trend, t(12) = 7.90, p < .001, indicating that more sperm was displaced as the  ridge  increased  (however,  note  from  the  graph  that  this  effect  reflects  the  increase  in displacement  as  we  go  from  no  ridge  to  having  a  ridge;  there  is  no  extra  increase  from ‘minimal  ridge’  to  ‘coronal  ridge’). There is also  a  significant  quadratic  trend,  indicating  that the pattern of means is curvilinear (i.e., is represented by a curve that has one bend), t(12) = −4.55, p<.001. This suggests that having a coronal  ridge  compared  to  having  no  coronal ridge enhances semen displacement but then as the coronal ridge increases beyond a certain point the percentage semen displacement decreases again. This makes sense when looking at  the  error  bar  graph,  there  was  very little  difference  between  ‘minimal  coronal  ridge’  and ‘coronal ridge’."
   ]
  },
  {
   "cell_type": "code",
   "execution_count": null,
   "metadata": {},
   "outputs": [],
   "source": []
  }
 ],
 "metadata": {
  "kernelspec": {
   "display_name": "Python 3",
   "language": "python",
   "name": "python3"
  },
  "language_info": {
   "codemirror_mode": {
    "name": "ipython",
    "version": 3
   },
   "file_extension": ".py",
   "mimetype": "text/x-python",
   "name": "python",
   "nbconvert_exporter": "python",
   "pygments_lexer": "ipython3",
   "version": "3.7.6"
  }
 },
 "nbformat": 4,
 "nbformat_minor": 4
}
