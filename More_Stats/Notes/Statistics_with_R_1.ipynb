{
 "cells": [
  {
   "cell_type": "markdown",
   "metadata": {},
   "source": [
    "### correlation , causality, cause and effect"
   ]
  },
  {
   "cell_type": "markdown",
   "metadata": {},
   "source": [
    "aid  that  to  infer  cause  and  effect:  (1)  cause  and effect must occur close together in time (contiguity); (2) the cause must occur before an effect does; and (3) the effect should never occur with-out the presence of the cause. "
   ]
  },
  {
   "cell_type": "markdown",
   "metadata": {},
   "source": [
    "Confounding Variable:\n",
    "it is unlikely that having breast implants causes you to commit suicide – presumably, there is an external factor (or factors) that causes both; for example, low self-esteem might lead you to have breast implants and also attempt suicide. These extraneous factors are sometimes called confounding variables or confounds for short"
   ]
  },
  {
   "cell_type": "markdown",
   "metadata": {},
   "source": [
    "### Two methods of Data Collection"
   ]
  },
  {
   "cell_type": "markdown",
   "metadata": {},
   "source": [
    "i) between-groups, between-subjects, or independent design\n",
    "\n",
    "ii)within-subject or repeated-measures design"
   ]
  },
  {
   "cell_type": "markdown",
   "metadata": {},
   "source": [
    "### Two types of variation:\n",
    "\n",
    "i)Systematic variation: This variation is due to the experimenter doing something to all of the participants in one condition but not in the other condition.\n",
    "\n",
    "ii)Unsystematic variation: This variation results from random factors that exist between the experimental conditions (natural differences in ability, the time of day, etc.).\n",
    "\n",
    "    "
   ]
  },
  {
   "cell_type": "markdown",
   "metadata": {},
   "source": [
    "The role of statistics is to discover how much variation there is in performance, and then to work out how much of this is systematic and how much is unsystematic.\n",
    "\n",
    "\n",
    "In independent designs we have differences in innate ability contributing to the unsystematic variation. Therefore, this error variation will almost always be much larger than if the same participants had been used. When we look at the effect of our experimental manipulation, it is always against a background of ‘noise’ caused by random, uncontrollable differences between our conditions. In a repeated-measures design this ‘noise’ is kept to a minimum and so the effect of the experiment is more likely to show up. This means that, other things being equal, repeated-measures designs have more power to detect effects than independ-ent designs\n",
    "\n",
    "\n",
    "\n",
    "In both repeated-measures and independent-measures designs it is important to try to keep the unsystematic variation to a minimum."
   ]
  },
  {
   "cell_type": "markdown",
   "metadata": {},
   "source": [
    "### Analyzing Data"
   ]
  },
  {
   "cell_type": "markdown",
   "metadata": {},
   "source": [
    "#### i) Frequency Distribution"
   ]
  },
  {
   "cell_type": "markdown",
   "metadata": {},
   "source": [
    "There are two main ways in which a distribution can deviate from normal:\n",
    "\n",
    "(1) lack of symmetry (called skew) and\n",
    "\n",
    "(2) pointyness (called kurtosis). "
   ]
  },
  {
   "cell_type": "code",
   "execution_count": null,
   "metadata": {},
   "outputs": [],
   "source": []
  }
 ],
 "metadata": {
  "kernelspec": {
   "display_name": "Python 3",
   "language": "python",
   "name": "python3"
  },
  "language_info": {
   "codemirror_mode": {
    "name": "ipython",
    "version": 3
   },
   "file_extension": ".py",
   "mimetype": "text/x-python",
   "name": "python",
   "nbconvert_exporter": "python",
   "pygments_lexer": "ipython3",
   "version": "3.7.6"
  }
 },
 "nbformat": 4,
 "nbformat_minor": 4
}
