{
 "cells": [
  {
   "cell_type": "code",
   "execution_count": 7,
   "metadata": {},
   "outputs": [],
   "source": [
    "import pandas as pd\n",
    "import numpy as np\n",
    "import matplotlib.pyplot as plt\n",
    "import seaborn as sns\n",
    "import scipy.stats as st\n",
    "import statsmodels.formula.api as smf\n",
    "import statsmodels.api as sm\n",
    "import pingouin as pg\n",
    "%matplotlib inline"
   ]
  },
  {
   "cell_type": "code",
   "execution_count": 8,
   "metadata": {},
   "outputs": [],
   "source": [
    "data = pd.read_csv('Wii.dat',sep=\"\\t\")"
   ]
  },
  {
   "cell_type": "code",
   "execution_count": 10,
   "metadata": {},
   "outputs": [
    {
     "data": {
      "text/html": [
       "<div>\n",
       "<style scoped>\n",
       "    .dataframe tbody tr th:only-of-type {\n",
       "        vertical-align: middle;\n",
       "    }\n",
       "\n",
       "    .dataframe tbody tr th {\n",
       "        vertical-align: top;\n",
       "    }\n",
       "\n",
       "    .dataframe thead th {\n",
       "        text-align: right;\n",
       "    }\n",
       "</style>\n",
       "<table border=\"1\" class=\"dataframe\">\n",
       "  <thead>\n",
       "    <tr style=\"text-align: right;\">\n",
       "      <th></th>\n",
       "      <th>athlete</th>\n",
       "      <th>stretch</th>\n",
       "      <th>wii</th>\n",
       "      <th>injury</th>\n",
       "    </tr>\n",
       "  </thead>\n",
       "  <tbody>\n",
       "    <tr>\n",
       "      <th>0</th>\n",
       "      <td>Athlete</td>\n",
       "      <td>Stretching</td>\n",
       "      <td>Playing Wii</td>\n",
       "      <td>2</td>\n",
       "    </tr>\n",
       "    <tr>\n",
       "      <th>1</th>\n",
       "      <td>Athlete</td>\n",
       "      <td>Stretching</td>\n",
       "      <td>Playing Wii</td>\n",
       "      <td>2</td>\n",
       "    </tr>\n",
       "    <tr>\n",
       "      <th>2</th>\n",
       "      <td>Athlete</td>\n",
       "      <td>Stretching</td>\n",
       "      <td>Playing Wii</td>\n",
       "      <td>1</td>\n",
       "    </tr>\n",
       "    <tr>\n",
       "      <th>3</th>\n",
       "      <td>Athlete</td>\n",
       "      <td>Stretching</td>\n",
       "      <td>Playing Wii</td>\n",
       "      <td>2</td>\n",
       "    </tr>\n",
       "    <tr>\n",
       "      <th>4</th>\n",
       "      <td>Athlete</td>\n",
       "      <td>Stretching</td>\n",
       "      <td>Playing Wii</td>\n",
       "      <td>0</td>\n",
       "    </tr>\n",
       "    <tr>\n",
       "      <th>5</th>\n",
       "      <td>Athlete</td>\n",
       "      <td>Stretching</td>\n",
       "      <td>Playing Wii</td>\n",
       "      <td>1</td>\n",
       "    </tr>\n",
       "    <tr>\n",
       "      <th>6</th>\n",
       "      <td>Athlete</td>\n",
       "      <td>Stretching</td>\n",
       "      <td>Playing Wii</td>\n",
       "      <td>2</td>\n",
       "    </tr>\n",
       "    <tr>\n",
       "      <th>7</th>\n",
       "      <td>Athlete</td>\n",
       "      <td>Stretching</td>\n",
       "      <td>Playing Wii</td>\n",
       "      <td>0</td>\n",
       "    </tr>\n",
       "    <tr>\n",
       "      <th>8</th>\n",
       "      <td>Athlete</td>\n",
       "      <td>Stretching</td>\n",
       "      <td>Playing Wii</td>\n",
       "      <td>2</td>\n",
       "    </tr>\n",
       "    <tr>\n",
       "      <th>9</th>\n",
       "      <td>Athlete</td>\n",
       "      <td>Stretching</td>\n",
       "      <td>Playing Wii</td>\n",
       "      <td>2</td>\n",
       "    </tr>\n",
       "  </tbody>\n",
       "</table>\n",
       "</div>"
      ],
      "text/plain": [
       "   athlete     stretch          wii  injury\n",
       "0  Athlete  Stretching  Playing Wii       2\n",
       "1  Athlete  Stretching  Playing Wii       2\n",
       "2  Athlete  Stretching  Playing Wii       1\n",
       "3  Athlete  Stretching  Playing Wii       2\n",
       "4  Athlete  Stretching  Playing Wii       0\n",
       "5  Athlete  Stretching  Playing Wii       1\n",
       "6  Athlete  Stretching  Playing Wii       2\n",
       "7  Athlete  Stretching  Playing Wii       0\n",
       "8  Athlete  Stretching  Playing Wii       2\n",
       "9  Athlete  Stretching  Playing Wii       2"
      ]
     },
     "execution_count": 10,
     "metadata": {},
     "output_type": "execute_result"
    }
   ],
   "source": [
    "data.head(10)"
   ]
  },
  {
   "cell_type": "code",
   "execution_count": 11,
   "metadata": {},
   "outputs": [
    {
     "data": {
      "text/plain": [
       "array(['Athlete', 'Non-Athlete'], dtype=object)"
      ]
     },
     "execution_count": 11,
     "metadata": {},
     "output_type": "execute_result"
    }
   ],
   "source": [
    "data['athlete'].unique()"
   ]
  },
  {
   "cell_type": "code",
   "execution_count": 12,
   "metadata": {},
   "outputs": [
    {
     "data": {
      "text/plain": [
       "array(['Stretching', 'No Stretching'], dtype=object)"
      ]
     },
     "execution_count": 12,
     "metadata": {},
     "output_type": "execute_result"
    }
   ],
   "source": [
    "data['stretch'].unique()"
   ]
  },
  {
   "cell_type": "code",
   "execution_count": 13,
   "metadata": {},
   "outputs": [
    {
     "data": {
      "text/plain": [
       "array(['Playing Wii', 'Watching Wii'], dtype=object)"
      ]
     },
     "execution_count": 13,
     "metadata": {},
     "output_type": "execute_result"
    }
   ],
   "source": [
    "data['wii'].unique()"
   ]
  },
  {
   "cell_type": "code",
   "execution_count": 14,
   "metadata": {},
   "outputs": [
    {
     "data": {
      "text/html": [
       "<div>\n",
       "<style scoped>\n",
       "    .dataframe tbody tr th:only-of-type {\n",
       "        vertical-align: middle;\n",
       "    }\n",
       "\n",
       "    .dataframe tbody tr th {\n",
       "        vertical-align: top;\n",
       "    }\n",
       "\n",
       "    .dataframe thead th {\n",
       "        text-align: right;\n",
       "    }\n",
       "</style>\n",
       "<table border=\"1\" class=\"dataframe\">\n",
       "  <thead>\n",
       "    <tr style=\"text-align: right;\">\n",
       "      <th></th>\n",
       "      <th></th>\n",
       "      <th></th>\n",
       "      <th>count</th>\n",
       "      <th>mean</th>\n",
       "      <th>std</th>\n",
       "      <th>min</th>\n",
       "      <th>25%</th>\n",
       "      <th>50%</th>\n",
       "      <th>75%</th>\n",
       "      <th>max</th>\n",
       "    </tr>\n",
       "    <tr>\n",
       "      <th>athlete</th>\n",
       "      <th>stretch</th>\n",
       "      <th>wii</th>\n",
       "      <th></th>\n",
       "      <th></th>\n",
       "      <th></th>\n",
       "      <th></th>\n",
       "      <th></th>\n",
       "      <th></th>\n",
       "      <th></th>\n",
       "      <th></th>\n",
       "    </tr>\n",
       "  </thead>\n",
       "  <tbody>\n",
       "    <tr>\n",
       "      <th rowspan=\"4\" valign=\"top\">Athlete</th>\n",
       "      <th rowspan=\"2\" valign=\"top\">No Stretching</th>\n",
       "      <th>Playing Wii</th>\n",
       "      <td>15.0</td>\n",
       "      <td>2.466667</td>\n",
       "      <td>1.060099</td>\n",
       "      <td>1.0</td>\n",
       "      <td>2.0</td>\n",
       "      <td>2.0</td>\n",
       "      <td>3.0</td>\n",
       "      <td>4.0</td>\n",
       "    </tr>\n",
       "    <tr>\n",
       "      <th>Watching Wii</th>\n",
       "      <td>15.0</td>\n",
       "      <td>2.000000</td>\n",
       "      <td>1.000000</td>\n",
       "      <td>0.0</td>\n",
       "      <td>1.5</td>\n",
       "      <td>2.0</td>\n",
       "      <td>2.5</td>\n",
       "      <td>4.0</td>\n",
       "    </tr>\n",
       "    <tr>\n",
       "      <th rowspan=\"2\" valign=\"top\">Stretching</th>\n",
       "      <th>Playing Wii</th>\n",
       "      <td>15.0</td>\n",
       "      <td>1.666667</td>\n",
       "      <td>0.975900</td>\n",
       "      <td>0.0</td>\n",
       "      <td>1.0</td>\n",
       "      <td>2.0</td>\n",
       "      <td>2.0</td>\n",
       "      <td>4.0</td>\n",
       "    </tr>\n",
       "    <tr>\n",
       "      <th>Watching Wii</th>\n",
       "      <td>15.0</td>\n",
       "      <td>1.800000</td>\n",
       "      <td>1.146423</td>\n",
       "      <td>0.0</td>\n",
       "      <td>1.0</td>\n",
       "      <td>2.0</td>\n",
       "      <td>3.0</td>\n",
       "      <td>3.0</td>\n",
       "    </tr>\n",
       "    <tr>\n",
       "      <th rowspan=\"4\" valign=\"top\">Non-Athlete</th>\n",
       "      <th rowspan=\"2\" valign=\"top\">No Stretching</th>\n",
       "      <th>Playing Wii</th>\n",
       "      <td>15.0</td>\n",
       "      <td>6.600000</td>\n",
       "      <td>1.956674</td>\n",
       "      <td>4.0</td>\n",
       "      <td>5.0</td>\n",
       "      <td>7.0</td>\n",
       "      <td>8.0</td>\n",
       "      <td>10.0</td>\n",
       "    </tr>\n",
       "    <tr>\n",
       "      <th>Watching Wii</th>\n",
       "      <td>15.0</td>\n",
       "      <td>2.000000</td>\n",
       "      <td>1.195229</td>\n",
       "      <td>0.0</td>\n",
       "      <td>1.0</td>\n",
       "      <td>2.0</td>\n",
       "      <td>3.0</td>\n",
       "      <td>4.0</td>\n",
       "    </tr>\n",
       "    <tr>\n",
       "      <th rowspan=\"2\" valign=\"top\">Stretching</th>\n",
       "      <th>Playing Wii</th>\n",
       "      <td>15.0</td>\n",
       "      <td>4.200000</td>\n",
       "      <td>1.146423</td>\n",
       "      <td>2.0</td>\n",
       "      <td>3.5</td>\n",
       "      <td>4.0</td>\n",
       "      <td>5.0</td>\n",
       "      <td>6.0</td>\n",
       "    </tr>\n",
       "    <tr>\n",
       "      <th>Watching Wii</th>\n",
       "      <td>15.0</td>\n",
       "      <td>2.400000</td>\n",
       "      <td>1.121224</td>\n",
       "      <td>1.0</td>\n",
       "      <td>1.5</td>\n",
       "      <td>2.0</td>\n",
       "      <td>3.0</td>\n",
       "      <td>4.0</td>\n",
       "    </tr>\n",
       "  </tbody>\n",
       "</table>\n",
       "</div>"
      ],
      "text/plain": [
       "                                        count      mean       std  min  25%  \\\n",
       "athlete     stretch       wii                                                 \n",
       "Athlete     No Stretching Playing Wii    15.0  2.466667  1.060099  1.0  2.0   \n",
       "                          Watching Wii   15.0  2.000000  1.000000  0.0  1.5   \n",
       "            Stretching    Playing Wii    15.0  1.666667  0.975900  0.0  1.0   \n",
       "                          Watching Wii   15.0  1.800000  1.146423  0.0  1.0   \n",
       "Non-Athlete No Stretching Playing Wii    15.0  6.600000  1.956674  4.0  5.0   \n",
       "                          Watching Wii   15.0  2.000000  1.195229  0.0  1.0   \n",
       "            Stretching    Playing Wii    15.0  4.200000  1.146423  2.0  3.5   \n",
       "                          Watching Wii   15.0  2.400000  1.121224  1.0  1.5   \n",
       "\n",
       "                                        50%  75%   max  \n",
       "athlete     stretch       wii                           \n",
       "Athlete     No Stretching Playing Wii   2.0  3.0   4.0  \n",
       "                          Watching Wii  2.0  2.5   4.0  \n",
       "            Stretching    Playing Wii   2.0  2.0   4.0  \n",
       "                          Watching Wii  2.0  3.0   3.0  \n",
       "Non-Athlete No Stretching Playing Wii   7.0  8.0  10.0  \n",
       "                          Watching Wii  2.0  3.0   4.0  \n",
       "            Stretching    Playing Wii   4.0  5.0   6.0  \n",
       "                          Watching Wii  2.0  3.0   4.0  "
      ]
     },
     "execution_count": 14,
     "metadata": {},
     "output_type": "execute_result"
    }
   ],
   "source": [
    "data.groupby(['athlete','stretch','wii'])['injury'].describe()"
   ]
  },
  {
   "cell_type": "code",
   "execution_count": 17,
   "metadata": {},
   "outputs": [
    {
     "data": {
      "text/plain": [
       "[1, 2, 3, 4, 5, 6, 7, 8]"
      ]
     },
     "execution_count": 17,
     "metadata": {},
     "output_type": "execute_result"
    }
   ],
   "source": [
    "unique_list = [1,2,3,4,5,6,7,8]\n",
    "unique_list"
   ]
  },
  {
   "cell_type": "code",
   "execution_count": 20,
   "metadata": {},
   "outputs": [],
   "source": [
    "data['interaction']=0"
   ]
  },
  {
   "cell_type": "code",
   "execution_count": 21,
   "metadata": {},
   "outputs": [],
   "source": [
    "for i in range(8):\n",
    "    for j in range(15):\n",
    "        data.at[15*i+j,'interaction'] = unique_list[i]  "
   ]
  },
  {
   "cell_type": "code",
   "execution_count": 24,
   "metadata": {},
   "outputs": [
    {
     "data": {
      "text/html": [
       "<div>\n",
       "<style scoped>\n",
       "    .dataframe tbody tr th:only-of-type {\n",
       "        vertical-align: middle;\n",
       "    }\n",
       "\n",
       "    .dataframe tbody tr th {\n",
       "        vertical-align: top;\n",
       "    }\n",
       "\n",
       "    .dataframe thead th {\n",
       "        text-align: right;\n",
       "    }\n",
       "</style>\n",
       "<table border=\"1\" class=\"dataframe\">\n",
       "  <thead>\n",
       "    <tr style=\"text-align: right;\">\n",
       "      <th></th>\n",
       "      <th>W</th>\n",
       "      <th>pval</th>\n",
       "      <th>equal_var</th>\n",
       "    </tr>\n",
       "  </thead>\n",
       "  <tbody>\n",
       "    <tr>\n",
       "      <th>levene</th>\n",
       "      <td>2.137803</td>\n",
       "      <td>0.045231</td>\n",
       "      <td>False</td>\n",
       "    </tr>\n",
       "  </tbody>\n",
       "</table>\n",
       "</div>"
      ],
      "text/plain": [
       "               W      pval  equal_var\n",
       "levene  2.137803  0.045231      False"
      ]
     },
     "execution_count": 24,
     "metadata": {},
     "output_type": "execute_result"
    }
   ],
   "source": [
    "pg.homoscedasticity(data, dv='injury',group='interaction')"
   ]
  },
  {
   "cell_type": "code",
   "execution_count": 26,
   "metadata": {},
   "outputs": [
    {
     "data": {
      "text/plain": [
       "array([[ 1],\n",
       "       [-1]])"
      ]
     },
     "execution_count": 26,
     "metadata": {},
     "output_type": "execute_result"
    }
   ],
   "source": [
    "contrast_ath = np.array([[1,-1]])\n",
    "contrast_ath =contrast_ath.reshape(2,1)\n",
    "contrast_ath"
   ]
  },
  {
   "cell_type": "code",
   "execution_count": 27,
   "metadata": {},
   "outputs": [
    {
     "data": {
      "text/plain": [
       "array([[ 1],\n",
       "       [-1]])"
      ]
     },
     "execution_count": 27,
     "metadata": {},
     "output_type": "execute_result"
    }
   ],
   "source": [
    "contrast_str = np.array([[1,-1]])\n",
    "contrast_str =contrast_str.reshape(2,1)\n",
    "contrast_str"
   ]
  },
  {
   "cell_type": "code",
   "execution_count": 28,
   "metadata": {},
   "outputs": [
    {
     "data": {
      "text/plain": [
       "array([[ 1],\n",
       "       [-1]])"
      ]
     },
     "execution_count": 28,
     "metadata": {},
     "output_type": "execute_result"
    }
   ],
   "source": [
    "contrast_wii = np.array([[1,-1]])\n",
    "contrast_wii =contrast_wii.reshape(2,1)\n",
    "contrast_wii"
   ]
  },
  {
   "cell_type": "code",
   "execution_count": 33,
   "metadata": {},
   "outputs": [
    {
     "data": {
      "text/html": [
       "<table class=\"simpletable\">\n",
       "<caption>OLS Regression Results</caption>\n",
       "<tr>\n",
       "  <th>Dep. Variable:</th>         <td>injury</td>      <th>  R-squared:         </th> <td>   0.639</td>\n",
       "</tr>\n",
       "<tr>\n",
       "  <th>Model:</th>                   <td>OLS</td>       <th>  Adj. R-squared:    </th> <td>   0.616</td>\n",
       "</tr>\n",
       "<tr>\n",
       "  <th>Method:</th>             <td>Least Squares</td>  <th>  F-statistic:       </th> <td>   28.30</td>\n",
       "</tr>\n",
       "<tr>\n",
       "  <th>Date:</th>             <td>Tue, 11 Aug 2020</td> <th>  Prob (F-statistic):</th> <td>4.38e-22</td>\n",
       "</tr>\n",
       "<tr>\n",
       "  <th>Time:</th>                 <td>13:16:57</td>     <th>  Log-Likelihood:    </th> <td> -191.55</td>\n",
       "</tr>\n",
       "<tr>\n",
       "  <th>No. Observations:</th>      <td>   120</td>      <th>  AIC:               </th> <td>   399.1</td>\n",
       "</tr>\n",
       "<tr>\n",
       "  <th>Df Residuals:</th>          <td>   112</td>      <th>  BIC:               </th> <td>   421.4</td>\n",
       "</tr>\n",
       "<tr>\n",
       "  <th>Df Model:</th>              <td>     7</td>      <th>                     </th>     <td> </td>   \n",
       "</tr>\n",
       "<tr>\n",
       "  <th>Covariance Type:</th>      <td>nonrobust</td>    <th>                     </th>     <td> </td>   \n",
       "</tr>\n",
       "</table>\n",
       "<table class=\"simpletable\">\n",
       "<tr>\n",
       "                                                  <td></td>                                                     <th>coef</th>     <th>std err</th>      <th>t</th>      <th>P>|t|</th>  <th>[0.025</th>    <th>0.975]</th>  \n",
       "</tr>\n",
       "<tr>\n",
       "  <th>Intercept</th>                                                                                         <td>    2.8917</td> <td>    0.113</td> <td>   25.631</td> <td> 0.000</td> <td>    2.668</td> <td>    3.115</td>\n",
       "</tr>\n",
       "<tr>\n",
       "  <th>C(athlete, contrast_ath)[custom0]</th>                                                                 <td>   -0.9083</td> <td>    0.113</td> <td>   -8.051</td> <td> 0.000</td> <td>   -1.132</td> <td>   -0.685</td>\n",
       "</tr>\n",
       "<tr>\n",
       "  <th>C(stretch, contrast_str)[custom0]</th>                                                                 <td>    0.3750</td> <td>    0.113</td> <td>    3.324</td> <td> 0.001</td> <td>    0.151</td> <td>    0.599</td>\n",
       "</tr>\n",
       "<tr>\n",
       "  <th>C(wii, contrast_wii)[custom0]</th>                                                                     <td>    0.8417</td> <td>    0.113</td> <td>    7.460</td> <td> 0.000</td> <td>    0.618</td> <td>    1.065</td>\n",
       "</tr>\n",
       "<tr>\n",
       "  <th>C(athlete, contrast_ath)[custom0]:C(stretch, contrast_str)[custom0]</th>                               <td>   -0.1250</td> <td>    0.113</td> <td>   -1.108</td> <td> 0.270</td> <td>   -0.349</td> <td>    0.099</td>\n",
       "</tr>\n",
       "<tr>\n",
       "  <th>C(athlete, contrast_ath)[custom0]:C(wii, contrast_wii)[custom0]</th>                                   <td>   -0.7583</td> <td>    0.113</td> <td>   -6.722</td> <td> 0.000</td> <td>   -0.982</td> <td>   -0.535</td>\n",
       "</tr>\n",
       "<tr>\n",
       "  <th>C(stretch, contrast_str)[custom0]:C(wii, contrast_wii)[custom0]</th>                                   <td>    0.4250</td> <td>    0.113</td> <td>    3.767</td> <td> 0.000</td> <td>    0.201</td> <td>    0.649</td>\n",
       "</tr>\n",
       "<tr>\n",
       "  <th>C(athlete, contrast_ath)[custom0]:C(stretch, contrast_str)[custom0]:C(wii, contrast_wii)[custom0]</th> <td>   -0.2750</td> <td>    0.113</td> <td>   -2.438</td> <td> 0.016</td> <td>   -0.499</td> <td>   -0.051</td>\n",
       "</tr>\n",
       "</table>\n",
       "<table class=\"simpletable\">\n",
       "<tr>\n",
       "  <th>Omnibus:</th>       <td> 0.261</td> <th>  Durbin-Watson:     </th> <td>   2.276</td>\n",
       "</tr>\n",
       "<tr>\n",
       "  <th>Prob(Omnibus):</th> <td> 0.878</td> <th>  Jarque-Bera (JB):  </th> <td>   0.435</td>\n",
       "</tr>\n",
       "<tr>\n",
       "  <th>Skew:</th>          <td>-0.002</td> <th>  Prob(JB):          </th> <td>   0.804</td>\n",
       "</tr>\n",
       "<tr>\n",
       "  <th>Kurtosis:</th>      <td> 2.705</td> <th>  Cond. No.          </th> <td>    1.00</td>\n",
       "</tr>\n",
       "</table><br/><br/>Warnings:<br/>[1] Standard Errors assume that the covariance matrix of the errors is correctly specified."
      ],
      "text/plain": [
       "<class 'statsmodels.iolib.summary.Summary'>\n",
       "\"\"\"\n",
       "                            OLS Regression Results                            \n",
       "==============================================================================\n",
       "Dep. Variable:                 injury   R-squared:                       0.639\n",
       "Model:                            OLS   Adj. R-squared:                  0.616\n",
       "Method:                 Least Squares   F-statistic:                     28.30\n",
       "Date:                Tue, 11 Aug 2020   Prob (F-statistic):           4.38e-22\n",
       "Time:                        13:16:57   Log-Likelihood:                -191.55\n",
       "No. Observations:                 120   AIC:                             399.1\n",
       "Df Residuals:                     112   BIC:                             421.4\n",
       "Df Model:                           7                                         \n",
       "Covariance Type:            nonrobust                                         \n",
       "=====================================================================================================================================================================\n",
       "                                                                                                        coef    std err          t      P>|t|      [0.025      0.975]\n",
       "---------------------------------------------------------------------------------------------------------------------------------------------------------------------\n",
       "Intercept                                                                                             2.8917      0.113     25.631      0.000       2.668       3.115\n",
       "C(athlete, contrast_ath)[custom0]                                                                    -0.9083      0.113     -8.051      0.000      -1.132      -0.685\n",
       "C(stretch, contrast_str)[custom0]                                                                     0.3750      0.113      3.324      0.001       0.151       0.599\n",
       "C(wii, contrast_wii)[custom0]                                                                         0.8417      0.113      7.460      0.000       0.618       1.065\n",
       "C(athlete, contrast_ath)[custom0]:C(stretch, contrast_str)[custom0]                                  -0.1250      0.113     -1.108      0.270      -0.349       0.099\n",
       "C(athlete, contrast_ath)[custom0]:C(wii, contrast_wii)[custom0]                                      -0.7583      0.113     -6.722      0.000      -0.982      -0.535\n",
       "C(stretch, contrast_str)[custom0]:C(wii, contrast_wii)[custom0]                                       0.4250      0.113      3.767      0.000       0.201       0.649\n",
       "C(athlete, contrast_ath)[custom0]:C(stretch, contrast_str)[custom0]:C(wii, contrast_wii)[custom0]    -0.2750      0.113     -2.438      0.016      -0.499      -0.051\n",
       "==============================================================================\n",
       "Omnibus:                        0.261   Durbin-Watson:                   2.276\n",
       "Prob(Omnibus):                  0.878   Jarque-Bera (JB):                0.435\n",
       "Skew:                          -0.002   Prob(JB):                        0.804\n",
       "Kurtosis:                       2.705   Cond. No.                         1.00\n",
       "==============================================================================\n",
       "\n",
       "Warnings:\n",
       "[1] Standard Errors assume that the covariance matrix of the errors is correctly specified.\n",
       "\"\"\""
      ]
     },
     "execution_count": 33,
     "metadata": {},
     "output_type": "execute_result"
    }
   ],
   "source": [
    "m01 = smf.ols('injury~C(athlete,contrast_ath)*C(stretch,contrast_str)*C(wii,contrast_wii)',data=data).fit()\n",
    "m01.summary()"
   ]
  },
  {
   "cell_type": "code",
   "execution_count": 34,
   "metadata": {},
   "outputs": [
    {
     "data": {
      "text/html": [
       "<div>\n",
       "<style scoped>\n",
       "    .dataframe tbody tr th:only-of-type {\n",
       "        vertical-align: middle;\n",
       "    }\n",
       "\n",
       "    .dataframe tbody tr th {\n",
       "        vertical-align: top;\n",
       "    }\n",
       "\n",
       "    .dataframe thead th {\n",
       "        text-align: right;\n",
       "    }\n",
       "</style>\n",
       "<table border=\"1\" class=\"dataframe\">\n",
       "  <thead>\n",
       "    <tr style=\"text-align: right;\">\n",
       "      <th></th>\n",
       "      <th>sum_sq</th>\n",
       "      <th>df</th>\n",
       "      <th>F</th>\n",
       "      <th>PR(&gt;F)</th>\n",
       "    </tr>\n",
       "  </thead>\n",
       "  <tbody>\n",
       "    <tr>\n",
       "      <th>Intercept</th>\n",
       "      <td>1003.408333</td>\n",
       "      <td>1.0</td>\n",
       "      <td>656.946999</td>\n",
       "      <td>1.137387e-48</td>\n",
       "    </tr>\n",
       "    <tr>\n",
       "      <th>C(athlete, contrast_ath)</th>\n",
       "      <td>99.008333</td>\n",
       "      <td>1.0</td>\n",
       "      <td>64.822292</td>\n",
       "      <td>9.595121e-13</td>\n",
       "    </tr>\n",
       "    <tr>\n",
       "      <th>C(stretch, contrast_str)</th>\n",
       "      <td>16.875000</td>\n",
       "      <td>1.0</td>\n",
       "      <td>11.048324</td>\n",
       "      <td>1.200092e-03</td>\n",
       "    </tr>\n",
       "    <tr>\n",
       "      <th>C(wii, contrast_wii)</th>\n",
       "      <td>85.008333</td>\n",
       "      <td>1.0</td>\n",
       "      <td>55.656274</td>\n",
       "      <td>1.982232e-11</td>\n",
       "    </tr>\n",
       "    <tr>\n",
       "      <th>C(athlete, contrast_ath):C(stretch, contrast_str)</th>\n",
       "      <td>1.875000</td>\n",
       "      <td>1.0</td>\n",
       "      <td>1.227592</td>\n",
       "      <td>2.702496e-01</td>\n",
       "    </tr>\n",
       "    <tr>\n",
       "      <th>C(athlete, contrast_ath):C(wii, contrast_wii)</th>\n",
       "      <td>69.008333</td>\n",
       "      <td>1.0</td>\n",
       "      <td>45.180826</td>\n",
       "      <td>7.869216e-10</td>\n",
       "    </tr>\n",
       "    <tr>\n",
       "      <th>C(stretch, contrast_str):C(wii, contrast_wii)</th>\n",
       "      <td>21.675000</td>\n",
       "      <td>1.0</td>\n",
       "      <td>14.190959</td>\n",
       "      <td>2.650680e-04</td>\n",
       "    </tr>\n",
       "    <tr>\n",
       "      <th>C(athlete, contrast_ath):C(stretch, contrast_str):C(wii, contrast_wii)</th>\n",
       "      <td>9.075000</td>\n",
       "      <td>1.0</td>\n",
       "      <td>5.941543</td>\n",
       "      <td>1.636123e-02</td>\n",
       "    </tr>\n",
       "    <tr>\n",
       "      <th>Residual</th>\n",
       "      <td>171.066667</td>\n",
       "      <td>112.0</td>\n",
       "      <td>NaN</td>\n",
       "      <td>NaN</td>\n",
       "    </tr>\n",
       "  </tbody>\n",
       "</table>\n",
       "</div>"
      ],
      "text/plain": [
       "                                                         sum_sq     df  \\\n",
       "Intercept                                           1003.408333    1.0   \n",
       "C(athlete, contrast_ath)                              99.008333    1.0   \n",
       "C(stretch, contrast_str)                              16.875000    1.0   \n",
       "C(wii, contrast_wii)                                  85.008333    1.0   \n",
       "C(athlete, contrast_ath):C(stretch, contrast_str)      1.875000    1.0   \n",
       "C(athlete, contrast_ath):C(wii, contrast_wii)         69.008333    1.0   \n",
       "C(stretch, contrast_str):C(wii, contrast_wii)         21.675000    1.0   \n",
       "C(athlete, contrast_ath):C(stretch, contrast_st...     9.075000    1.0   \n",
       "Residual                                             171.066667  112.0   \n",
       "\n",
       "                                                             F        PR(>F)  \n",
       "Intercept                                           656.946999  1.137387e-48  \n",
       "C(athlete, contrast_ath)                             64.822292  9.595121e-13  \n",
       "C(stretch, contrast_str)                             11.048324  1.200092e-03  \n",
       "C(wii, contrast_wii)                                 55.656274  1.982232e-11  \n",
       "C(athlete, contrast_ath):C(stretch, contrast_str)     1.227592  2.702496e-01  \n",
       "C(athlete, contrast_ath):C(wii, contrast_wii)        45.180826  7.869216e-10  \n",
       "C(stretch, contrast_str):C(wii, contrast_wii)        14.190959  2.650680e-04  \n",
       "C(athlete, contrast_ath):C(stretch, contrast_st...    5.941543  1.636123e-02  \n",
       "Residual                                                   NaN           NaN  "
      ]
     },
     "execution_count": 34,
     "metadata": {},
     "output_type": "execute_result"
    }
   ],
   "source": [
    "sm.stats.anova_lm(m01,typ=3)"
   ]
  },
  {
   "cell_type": "markdown",
   "metadata": {},
   "source": [
    "# **Making barplots and interaction plot**"
   ]
  },
  {
   "cell_type": "code",
   "execution_count": 56,
   "metadata": {},
   "outputs": [
    {
     "data": {
      "image/png": "[encoded data removed]",
      "text/plain": [
       "<Figure size 432x288 with 1 Axes>"
      ]
     },
     "metadata": {
      "needs_background": "light"
     },
     "output_type": "display_data"
    }
   ],
   "source": [
    "_ = sns.barplot(x='athlete',y='injury',data=data)"
   ]
  },
  {
   "cell_type": "code",
   "execution_count": 36,
   "metadata": {},
   "outputs": [
    {
     "data": {
      "image/png": "[encoded data removed]",
      "text/plain": [
       "<Figure size 432x288 with 1 Axes>"
      ]
     },
     "metadata": {
      "needs_background": "light"
     },
     "output_type": "display_data"
    }
   ],
   "source": [
    "_ = sns.barplot(x='stretch',y='injury',data=data)"
   ]
  },
  {
   "cell_type": "code",
   "execution_count": 37,
   "metadata": {},
   "outputs": [
    {
     "data": {
      "image/png": "[encoded data removed]",
      "text/plain": [
       "<Figure size 432x288 with 1 Axes>"
      ]
     },
     "metadata": {
      "needs_background": "light"
     },
     "output_type": "display_data"
    }
   ],
   "source": [
    "_ = sns.barplot(x='wii',y='injury',data=data)"
   ]
  },
  {
   "cell_type": "code",
   "execution_count": 57,
   "metadata": {},
   "outputs": [
    {
     "data": {
      "image/png": "[encoded data removed]",
      "text/plain": [
       "<Figure size 432x288 with 1 Axes>"
      ]
     },
     "metadata": {
      "needs_background": "light"
     },
     "output_type": "display_data"
    }
   ],
   "source": [
    "from statsmodels.graphics.factorplots import interaction_plot\n",
    "# athlete-stretch , non-significant\n",
    "fig = interaction_plot(data.stretch, data.athlete, data.injury,\n",
    "             colors=['red','blue'], markers=['D','^'], ms=10)"
   ]
  },
  {
   "cell_type": "code",
   "execution_count": 59,
   "metadata": {},
   "outputs": [
    {
     "data": {
      "image/png": "[encoded data removed]",
      "text/plain": [
       "<Figure size 432x288 with 1 Axes>"
      ]
     },
     "metadata": {
      "needs_background": "light"
     },
     "output_type": "display_data"
    }
   ],
   "source": [
    "# athlete-wii, significant\n",
    "fig = interaction_plot(data.wii, data.athlete, data.injury,\n",
    "             colors=['red','blue'], markers=['D','^'], ms=10)"
   ]
  },
  {
   "cell_type": "code",
   "execution_count": 60,
   "metadata": {},
   "outputs": [
    {
     "data": {
      "image/png": "[encoded data removed]",
      "text/plain": [
       "<Figure size 432x288 with 1 Axes>"
      ]
     },
     "metadata": {
      "needs_background": "light"
     },
     "output_type": "display_data"
    }
   ],
   "source": [
    "# stretch-wii , significant\n",
    "fig = interaction_plot(data.wii, data.stretch, data.injury,\n",
    "             colors=['red','blue'], markers=['D','^'], ms=10)"
   ]
  },
  {
   "cell_type": "code",
   "execution_count": 68,
   "metadata": {},
   "outputs": [],
   "source": [
    "data_play = data[data['wii']=='Playing Wii']\n",
    "data_watch = data[data['wii']=='Watching Wii']"
   ]
  },
  {
   "cell_type": "code",
   "execution_count": 71,
   "metadata": {},
   "outputs": [
    {
     "data": {
      "image/png": "[encoded data removed]",
      "text/plain": [
       "<Figure size 432x288 with 1 Axes>"
      ]
     },
     "metadata": {
      "needs_background": "light"
     },
     "output_type": "display_data"
    }
   ],
   "source": [
    "data_play.reset_index(inplace=True, drop=True)\n",
    "# seeing the below 2 graph for stretch*wii*athlete interaction and its clear that the this interaction is present from the graph\n",
    "fig = interaction_plot(data_play.stretch, data_play.athlete, data_play.injury,\n",
    "             colors=['red','blue'], markers=['D','^'], ms=10)"
   ]
  },
  {
   "cell_type": "code",
   "execution_count": 72,
   "metadata": {},
   "outputs": [
    {
     "data": {
      "image/png": "[encoded data removed]",
      "text/plain": [
       "<Figure size 432x288 with 1 Axes>"
      ]
     },
     "metadata": {
      "needs_background": "light"
     },
     "output_type": "display_data"
    }
   ],
   "source": [
    "data_watch.reset_index(inplace=True, drop=True)\n",
    "fig = interaction_plot(data_watch.stretch, data_watch.athlete, data_watch.injury,\n",
    "             colors=['red','blue'], markers=['D','^'], ms=10)"
   ]
  },
  {
   "cell_type": "code",
   "execution_count": 90,
   "metadata": {},
   "outputs": [
    {
     "data": {
      "image/png": "[encoded data removed]",
      "text/plain": [
       "<IPython.core.display.Image object>"
      ]
     },
     "execution_count": 90,
     "metadata": {},
     "output_type": "execute_result"
    }
   ],
   "source": [
    "from IPython.display import Image\n",
    "Image('triple_interaction.png')"
   ]
  },
  {
   "cell_type": "code",
   "execution_count": 73,
   "metadata": {},
   "outputs": [
    {
     "data": {
      "text/html": [
       "<table class=\"simpletable\">\n",
       "<caption>OLS Regression Results</caption>\n",
       "<tr>\n",
       "  <th>Dep. Variable:</th>         <td>injury</td>      <th>  R-squared:         </th> <td>   0.639</td>\n",
       "</tr>\n",
       "<tr>\n",
       "  <th>Model:</th>                   <td>OLS</td>       <th>  Adj. R-squared:    </th> <td>   0.616</td>\n",
       "</tr>\n",
       "<tr>\n",
       "  <th>Method:</th>             <td>Least Squares</td>  <th>  F-statistic:       </th> <td>   28.30</td>\n",
       "</tr>\n",
       "<tr>\n",
       "  <th>Date:</th>             <td>Tue, 11 Aug 2020</td> <th>  Prob (F-statistic):</th> <td>4.38e-22</td>\n",
       "</tr>\n",
       "<tr>\n",
       "  <th>Time:</th>                 <td>14:07:10</td>     <th>  Log-Likelihood:    </th> <td> -191.55</td>\n",
       "</tr>\n",
       "<tr>\n",
       "  <th>No. Observations:</th>      <td>   120</td>      <th>  AIC:               </th> <td>   399.1</td>\n",
       "</tr>\n",
       "<tr>\n",
       "  <th>Df Residuals:</th>          <td>   112</td>      <th>  BIC:               </th> <td>   421.4</td>\n",
       "</tr>\n",
       "<tr>\n",
       "  <th>Df Model:</th>              <td>     7</td>      <th>                     </th>     <td> </td>   \n",
       "</tr>\n",
       "<tr>\n",
       "  <th>Covariance Type:</th>      <td>nonrobust</td>    <th>                     </th>     <td> </td>   \n",
       "</tr>\n",
       "</table>\n",
       "<table class=\"simpletable\">\n",
       "<tr>\n",
       "                                      <td></td>                                         <th>coef</th>     <th>std err</th>      <th>t</th>      <th>P>|t|</th>  <th>[0.025</th>    <th>0.975]</th>  \n",
       "</tr>\n",
       "<tr>\n",
       "  <th>Intercept</th>                                                                 <td>    2.4667</td> <td>    0.319</td> <td>    7.730</td> <td> 0.000</td> <td>    1.834</td> <td>    3.099</td>\n",
       "</tr>\n",
       "<tr>\n",
       "  <th>C(athlete)[T.Non-Athlete]</th>                                                 <td>    4.1333</td> <td>    0.451</td> <td>    9.159</td> <td> 0.000</td> <td>    3.239</td> <td>    5.027</td>\n",
       "</tr>\n",
       "<tr>\n",
       "  <th>C(stretch)[T.Stretching]</th>                                                  <td>   -0.8000</td> <td>    0.451</td> <td>   -1.773</td> <td> 0.079</td> <td>   -1.694</td> <td>    0.094</td>\n",
       "</tr>\n",
       "<tr>\n",
       "  <th>C(wii)[T.Watching Wii]</th>                                                    <td>   -0.4667</td> <td>    0.451</td> <td>   -1.034</td> <td> 0.303</td> <td>   -1.361</td> <td>    0.427</td>\n",
       "</tr>\n",
       "<tr>\n",
       "  <th>C(athlete)[T.Non-Athlete]:C(stretch)[T.Stretching]</th>                        <td>   -1.6000</td> <td>    0.638</td> <td>   -2.507</td> <td> 0.014</td> <td>   -2.865</td> <td>   -0.335</td>\n",
       "</tr>\n",
       "<tr>\n",
       "  <th>C(athlete)[T.Non-Athlete]:C(wii)[T.Watching Wii]</th>                          <td>   -4.1333</td> <td>    0.638</td> <td>   -6.477</td> <td> 0.000</td> <td>   -5.398</td> <td>   -2.869</td>\n",
       "</tr>\n",
       "<tr>\n",
       "  <th>C(stretch)[T.Stretching]:C(wii)[T.Watching Wii]</th>                           <td>    0.6000</td> <td>    0.638</td> <td>    0.940</td> <td> 0.349</td> <td>   -0.665</td> <td>    1.865</td>\n",
       "</tr>\n",
       "<tr>\n",
       "  <th>C(athlete)[T.Non-Athlete]:C(stretch)[T.Stretching]:C(wii)[T.Watching Wii]</th> <td>    2.2000</td> <td>    0.903</td> <td>    2.438</td> <td> 0.016</td> <td>    0.412</td> <td>    3.988</td>\n",
       "</tr>\n",
       "</table>\n",
       "<table class=\"simpletable\">\n",
       "<tr>\n",
       "  <th>Omnibus:</th>       <td> 0.261</td> <th>  Durbin-Watson:     </th> <td>   2.276</td>\n",
       "</tr>\n",
       "<tr>\n",
       "  <th>Prob(Omnibus):</th> <td> 0.878</td> <th>  Jarque-Bera (JB):  </th> <td>   0.435</td>\n",
       "</tr>\n",
       "<tr>\n",
       "  <th>Skew:</th>          <td>-0.002</td> <th>  Prob(JB):          </th> <td>   0.804</td>\n",
       "</tr>\n",
       "<tr>\n",
       "  <th>Kurtosis:</th>      <td> 2.705</td> <th>  Cond. No.          </th> <td>    17.9</td>\n",
       "</tr>\n",
       "</table><br/><br/>Warnings:<br/>[1] Standard Errors assume that the covariance matrix of the errors is correctly specified."
      ],
      "text/plain": [
       "<class 'statsmodels.iolib.summary.Summary'>\n",
       "\"\"\"\n",
       "                            OLS Regression Results                            \n",
       "==============================================================================\n",
       "Dep. Variable:                 injury   R-squared:                       0.639\n",
       "Model:                            OLS   Adj. R-squared:                  0.616\n",
       "Method:                 Least Squares   F-statistic:                     28.30\n",
       "Date:                Tue, 11 Aug 2020   Prob (F-statistic):           4.38e-22\n",
       "Time:                        14:07:10   Log-Likelihood:                -191.55\n",
       "No. Observations:                 120   AIC:                             399.1\n",
       "Df Residuals:                     112   BIC:                             421.4\n",
       "Df Model:                           7                                         \n",
       "Covariance Type:            nonrobust                                         \n",
       "=============================================================================================================================================\n",
       "                                                                                coef    std err          t      P>|t|      [0.025      0.975]\n",
       "---------------------------------------------------------------------------------------------------------------------------------------------\n",
       "Intercept                                                                     2.4667      0.319      7.730      0.000       1.834       3.099\n",
       "C(athlete)[T.Non-Athlete]                                                     4.1333      0.451      9.159      0.000       3.239       5.027\n",
       "C(stretch)[T.Stretching]                                                     -0.8000      0.451     -1.773      0.079      -1.694       0.094\n",
       "C(wii)[T.Watching Wii]                                                       -0.4667      0.451     -1.034      0.303      -1.361       0.427\n",
       "C(athlete)[T.Non-Athlete]:C(stretch)[T.Stretching]                           -1.6000      0.638     -2.507      0.014      -2.865      -0.335\n",
       "C(athlete)[T.Non-Athlete]:C(wii)[T.Watching Wii]                             -4.1333      0.638     -6.477      0.000      -5.398      -2.869\n",
       "C(stretch)[T.Stretching]:C(wii)[T.Watching Wii]                               0.6000      0.638      0.940      0.349      -0.665       1.865\n",
       "C(athlete)[T.Non-Athlete]:C(stretch)[T.Stretching]:C(wii)[T.Watching Wii]     2.2000      0.903      2.438      0.016       0.412       3.988\n",
       "==============================================================================\n",
       "Omnibus:                        0.261   Durbin-Watson:                   2.276\n",
       "Prob(Omnibus):                  0.878   Jarque-Bera (JB):                0.435\n",
       "Skew:                          -0.002   Prob(JB):                        0.804\n",
       "Kurtosis:                       2.705   Cond. No.                         17.9\n",
       "==============================================================================\n",
       "\n",
       "Warnings:\n",
       "[1] Standard Errors assume that the covariance matrix of the errors is correctly specified.\n",
       "\"\"\""
      ]
     },
     "execution_count": 73,
     "metadata": {},
     "output_type": "execute_result"
    }
   ],
   "source": [
    "m02 = smf.ols('injury~C(athlete)*C(stretch)*C(wii)',data=data).fit()\n",
    "m02.summary()"
   ]
  },
  {
   "cell_type": "code",
   "execution_count": 74,
   "metadata": {},
   "outputs": [
    {
     "data": {
      "text/html": [
       "<div>\n",
       "<style scoped>\n",
       "    .dataframe tbody tr th:only-of-type {\n",
       "        vertical-align: middle;\n",
       "    }\n",
       "\n",
       "    .dataframe tbody tr th {\n",
       "        vertical-align: top;\n",
       "    }\n",
       "\n",
       "    .dataframe thead th {\n",
       "        text-align: right;\n",
       "    }\n",
       "</style>\n",
       "<table border=\"1\" class=\"dataframe\">\n",
       "  <thead>\n",
       "    <tr style=\"text-align: right;\">\n",
       "      <th></th>\n",
       "      <th>predicted</th>\n",
       "    </tr>\n",
       "  </thead>\n",
       "  <tbody>\n",
       "    <tr>\n",
       "      <th>115</th>\n",
       "      <td>2.0</td>\n",
       "    </tr>\n",
       "    <tr>\n",
       "      <th>116</th>\n",
       "      <td>2.0</td>\n",
       "    </tr>\n",
       "    <tr>\n",
       "      <th>117</th>\n",
       "      <td>2.0</td>\n",
       "    </tr>\n",
       "    <tr>\n",
       "      <th>118</th>\n",
       "      <td>2.0</td>\n",
       "    </tr>\n",
       "    <tr>\n",
       "      <th>119</th>\n",
       "      <td>2.0</td>\n",
       "    </tr>\n",
       "  </tbody>\n",
       "</table>\n",
       "</div>"
      ],
      "text/plain": [
       "     predicted\n",
       "115        2.0\n",
       "116        2.0\n",
       "117        2.0\n",
       "118        2.0\n",
       "119        2.0"
      ]
     },
     "execution_count": 74,
     "metadata": {},
     "output_type": "execute_result"
    }
   ],
   "source": [
    "prediction = pd.DataFrame(m02.fittedvalues)\n",
    "prediction.columns = ['predicted'] \n",
    "prediction.tail()"
   ]
  },
  {
   "cell_type": "code",
   "execution_count": 76,
   "metadata": {},
   "outputs": [],
   "source": [
    "prediction['standarized_prediction']  = (prediction['predicted']-prediction['predicted'].mean())/prediction['predicted'].std()"
   ]
  },
  {
   "cell_type": "code",
   "execution_count": 77,
   "metadata": {},
   "outputs": [],
   "source": [
    "import statsmodels.stats.outliers_influence as sms"
   ]
  },
  {
   "cell_type": "code",
   "execution_count": 78,
   "metadata": {},
   "outputs": [],
   "source": [
    "summary_frame = sms.OLSInfluence(m01).summary_frame()"
   ]
  },
  {
   "cell_type": "code",
   "execution_count": 79,
   "metadata": {},
   "outputs": [],
   "source": [
    "summary_frame = pd.merge(summary_frame, prediction, how = 'inner', left_index = True, right_index = True)"
   ]
  },
  {
   "cell_type": "code",
   "execution_count": 80,
   "metadata": {},
   "outputs": [
    {
     "data": {
      "image/png": "[encoded data removed]",
      "text/plain": [
       "<Figure size 432x288 with 1 Axes>"
      ]
     },
     "metadata": {
      "needs_background": "light"
     },
     "output_type": "display_data"
    }
   ],
   "source": [
    "_ = sns.scatterplot(y = 'standard_resid', x='standarized_prediction', data = summary_frame)\n",
    "_ = plt.axhline(y=0)"
   ]
  },
  {
   "cell_type": "code",
   "execution_count": 81,
   "metadata": {},
   "outputs": [
    {
     "data": {
      "image/png": "[encoded data removed]",
      "text/plain": [
       "<Figure size 360x288 with 1 Axes>"
      ]
     },
     "metadata": {
      "needs_background": "light"
     },
     "output_type": "display_data"
    }
   ],
   "source": [
    "_ = pg.qqplot(summary_frame['standard_resid'], confidence=False)"
   ]
  },
  {
   "cell_type": "markdown",
   "metadata": {},
   "source": [
    "# **Robust Anova**"
   ]
  },
  {
   "cell_type": "code",
   "execution_count": 87,
   "metadata": {},
   "outputs": [],
   "source": [
    "data_1 = data[data['interaction']==1]\n",
    "data_2 = data[data['interaction']==2]\n",
    "data_3 = data[data['interaction']==3]\n",
    "data_4 = data[data['interaction']==4]\n",
    "data_5 = data[data['interaction']==5]\n",
    "data_6 = data[data['interaction']==6]\n",
    "data_7 = data[data['interaction']==7]\n",
    "data_8 = data[data['interaction']==8]"
   ]
  },
  {
   "cell_type": "code",
   "execution_count": 88,
   "metadata": {},
   "outputs": [
    {
     "data": {
      "text/plain": [
       "KruskalResult(statistic=61.545023015930425, pvalue=7.413698398894002e-11)"
      ]
     },
     "execution_count": 88,
     "metadata": {},
     "output_type": "execute_result"
    }
   ],
   "source": [
    "st.kruskal(data_1['injury'], data_2['injury'], data_3['injury'],data_4['injury'],data_5['injury'],data_6['injury'],data_7['injury'],data_8['injury'])"
   ]
  },
  {
   "cell_type": "code",
   "execution_count": null,
   "metadata": {},
   "outputs": [],
   "source": []
  },
  {
   "cell_type": "code",
   "execution_count": 89,
   "metadata": {},
   "outputs": [
    {
     "data": {
      "text/html": [
       "<div>\n",
       "<style scoped>\n",
       "    .dataframe tbody tr th:only-of-type {\n",
       "        vertical-align: middle;\n",
       "    }\n",
       "\n",
       "    .dataframe tbody tr th {\n",
       "        vertical-align: top;\n",
       "    }\n",
       "\n",
       "    .dataframe thead th {\n",
       "        text-align: right;\n",
       "    }\n",
       "</style>\n",
       "<table border=\"1\" class=\"dataframe\">\n",
       "  <thead>\n",
       "    <tr style=\"text-align: right;\">\n",
       "      <th></th>\n",
       "      <th>sum_sq</th>\n",
       "      <th>df</th>\n",
       "      <th>F</th>\n",
       "      <th>PR(&gt;F)</th>\n",
       "    </tr>\n",
       "  </thead>\n",
       "  <tbody>\n",
       "    <tr>\n",
       "      <th>Intercept</th>\n",
       "      <td>936.514444</td>\n",
       "      <td>1.0</td>\n",
       "      <td>613.150533</td>\n",
       "      <td>3.050217e-47</td>\n",
       "    </tr>\n",
       "    <tr>\n",
       "      <th>C(athlete, contrast_ath)</th>\n",
       "      <td>92.407778</td>\n",
       "      <td>1.0</td>\n",
       "      <td>60.500805</td>\n",
       "      <td>3.917340e-12</td>\n",
       "    </tr>\n",
       "    <tr>\n",
       "      <th>C(stretch, contrast_str)</th>\n",
       "      <td>15.750000</td>\n",
       "      <td>1.0</td>\n",
       "      <td>10.311769</td>\n",
       "      <td>1.725570e-03</td>\n",
       "    </tr>\n",
       "    <tr>\n",
       "      <th>C(wii, contrast_wii)</th>\n",
       "      <td>79.341111</td>\n",
       "      <td>1.0</td>\n",
       "      <td>51.945856</td>\n",
       "      <td>7.096708e-11</td>\n",
       "    </tr>\n",
       "    <tr>\n",
       "      <th>C(athlete, contrast_ath):C(stretch, contrast_str)</th>\n",
       "      <td>1.750000</td>\n",
       "      <td>1.0</td>\n",
       "      <td>1.145752</td>\n",
       "      <td>2.867415e-01</td>\n",
       "    </tr>\n",
       "    <tr>\n",
       "      <th>C(athlete, contrast_ath):C(wii, contrast_wii)</th>\n",
       "      <td>64.407778</td>\n",
       "      <td>1.0</td>\n",
       "      <td>42.168771</td>\n",
       "      <td>2.380554e-09</td>\n",
       "    </tr>\n",
       "    <tr>\n",
       "      <th>C(stretch, contrast_str):C(wii, contrast_wii)</th>\n",
       "      <td>20.230000</td>\n",
       "      <td>1.0</td>\n",
       "      <td>13.244895</td>\n",
       "      <td>4.150403e-04</td>\n",
       "    </tr>\n",
       "    <tr>\n",
       "      <th>C(athlete, contrast_ath):C(stretch, contrast_str):C(wii, contrast_wii)</th>\n",
       "      <td>8.470000</td>\n",
       "      <td>1.0</td>\n",
       "      <td>5.545440</td>\n",
       "      <td>2.026973e-02</td>\n",
       "    </tr>\n",
       "    <tr>\n",
       "      <th>Residual</th>\n",
       "      <td>171.066667</td>\n",
       "      <td>112.0</td>\n",
       "      <td>NaN</td>\n",
       "      <td>NaN</td>\n",
       "    </tr>\n",
       "  </tbody>\n",
       "</table>\n",
       "</div>"
      ],
      "text/plain": [
       "                                                        sum_sq     df  \\\n",
       "Intercept                                           936.514444    1.0   \n",
       "C(athlete, contrast_ath)                             92.407778    1.0   \n",
       "C(stretch, contrast_str)                             15.750000    1.0   \n",
       "C(wii, contrast_wii)                                 79.341111    1.0   \n",
       "C(athlete, contrast_ath):C(stretch, contrast_str)     1.750000    1.0   \n",
       "C(athlete, contrast_ath):C(wii, contrast_wii)        64.407778    1.0   \n",
       "C(stretch, contrast_str):C(wii, contrast_wii)        20.230000    1.0   \n",
       "C(athlete, contrast_ath):C(stretch, contrast_st...    8.470000    1.0   \n",
       "Residual                                            171.066667  112.0   \n",
       "\n",
       "                                                             F        PR(>F)  \n",
       "Intercept                                           613.150533  3.050217e-47  \n",
       "C(athlete, contrast_ath)                             60.500805  3.917340e-12  \n",
       "C(stretch, contrast_str)                             10.311769  1.725570e-03  \n",
       "C(wii, contrast_wii)                                 51.945856  7.096708e-11  \n",
       "C(athlete, contrast_ath):C(stretch, contrast_str)     1.145752  2.867415e-01  \n",
       "C(athlete, contrast_ath):C(wii, contrast_wii)        42.168771  2.380554e-09  \n",
       "C(stretch, contrast_str):C(wii, contrast_wii)        13.244895  4.150403e-04  \n",
       "C(athlete, contrast_ath):C(stretch, contrast_st...    5.545440  2.026973e-02  \n",
       "Residual                                                   NaN           NaN  "
      ]
     },
     "execution_count": 89,
     "metadata": {},
     "output_type": "execute_result"
    }
   ],
   "source": [
    "sm.stats.anova_lm(m01,typ=3,robust=\"hc3\")"
   ]
  },
  {
   "cell_type": "code",
   "execution_count": null,
   "metadata": {},
   "outputs": [],
   "source": []
  },
  {
   "cell_type": "code",
   "execution_count": null,
   "metadata": {},
   "outputs": [],
   "source": []
  }
 ],
 "metadata": {
  "kernelspec": {
   "display_name": "Python 3",
   "language": "python",
   "name": "python3"
  },
  "language_info": {
   "codemirror_mode": {
    "name": "ipython",
    "version": 3
   },
   "file_extension": ".py",
   "mimetype": "text/x-python",
   "name": "python",
   "nbconvert_exporter": "python",
   "pygments_lexer": "ipython3",
   "version": "3.7.6"
  }
 },
 "nbformat": 4,
 "nbformat_minor": 4
}
