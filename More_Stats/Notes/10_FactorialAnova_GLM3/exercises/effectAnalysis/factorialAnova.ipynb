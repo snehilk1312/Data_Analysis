{
 "cells": [
  {
   "cell_type": "code",
   "execution_count": 10,
   "metadata": {},
   "outputs": [],
   "source": [
    "import pandas as pd\n",
    "import numpy as np\n",
    "import matplotlib.pyplot as plt\n",
    "import seaborn as sns\n",
    "import scipy.stats as st\n",
    "import statsmodels.formula.api as smf\n",
    "import statsmodels.api as sm\n",
    "import pingouin as pg\n",
    "%matplotlib inline"
   ]
  },
  {
   "cell_type": "code",
   "execution_count": 11,
   "metadata": {},
   "outputs": [],
   "source": [
    "data = pd.read_csv('goggles.csv')"
   ]
  },
  {
   "cell_type": "code",
   "execution_count": null,
   "metadata": {},
   "outputs": [],
   "source": []
  },
  {
   "cell_type": "code",
   "execution_count": 12,
   "metadata": {},
   "outputs": [],
   "source": [
    "data['genderX'] = data['gender'].replace({'Male':1, 'Female':2})\n",
    "data['alcoholX'] = data['alcohol'].replace({'None':1, '2 Pints':2,'4 Pints':3})"
   ]
  },
  {
   "cell_type": "code",
   "execution_count": 13,
   "metadata": {},
   "outputs": [],
   "source": [
    "data['interaction'] =0"
   ]
  },
  {
   "cell_type": "code",
   "execution_count": 14,
   "metadata": {},
   "outputs": [
    {
     "data": {
      "text/plain": [
       "[1, 2, 3, 4, 5, 6]"
      ]
     },
     "execution_count": 14,
     "metadata": {},
     "output_type": "execute_result"
    }
   ],
   "source": [
    "unique_list = [1,2,3,4,5,6]\n",
    "unique_list"
   ]
  },
  {
   "cell_type": "code",
   "execution_count": 15,
   "metadata": {},
   "outputs": [],
   "source": [
    "for i in range(6):\n",
    "    for j in range(8):\n",
    "        data.at[8*i+j,'interaction'] = unique_list[i]"
   ]
  },
  {
   "cell_type": "markdown",
   "metadata": {},
   "source": [
    "## **Simple Effect Analysis**\n",
    "\n",
    "#### Effect of alchohol on different level of gender"
   ]
  },
  {
   "cell_type": "code",
   "execution_count": 16,
   "metadata": {},
   "outputs": [],
   "source": [
    "con1=[1,1,1,-1,-1,-1]\n",
    "con2=[-2,1,1,0,0,0]\n",
    "con3=[0,0,0,-2,1,1]\n",
    "con4=[0,-1,1,0,0,0]\n",
    "con5=[0,0,0,0,-1,1]"
   ]
  },
  {
   "cell_type": "code",
   "execution_count": 17,
   "metadata": {},
   "outputs": [
    {
     "data": {
      "text/plain": [
       "array([[ 1, -2,  0,  0,  0],\n",
       "       [ 1,  1,  0, -1,  0],\n",
       "       [ 1,  1,  0,  1,  0],\n",
       "       [-1,  0, -2,  0,  0],\n",
       "       [-1,  0,  1,  0, -1],\n",
       "       [-1,  0,  1,  0,  1]])"
      ]
     },
     "execution_count": 17,
     "metadata": {},
     "output_type": "execute_result"
    }
   ],
   "source": [
    "final_contrast = np.vstack((con1, con2, con3, con4, con5))\n",
    "final_contrast = final_contrast.T\n",
    "final_contrast "
   ]
  },
  {
   "cell_type": "code",
   "execution_count": 18,
   "metadata": {},
   "outputs": [
    {
     "data": {
      "text/html": [
       "<table class=\"simpletable\">\n",
       "<caption>OLS Regression Results</caption>\n",
       "<tr>\n",
       "  <th>Dep. Variable:</th>     <td>attractiveness</td>  <th>  R-squared:         </th> <td>   0.611</td>\n",
       "</tr>\n",
       "<tr>\n",
       "  <th>Model:</th>                   <td>OLS</td>       <th>  Adj. R-squared:    </th> <td>   0.565</td>\n",
       "</tr>\n",
       "<tr>\n",
       "  <th>Method:</th>             <td>Least Squares</td>  <th>  F-statistic:       </th> <td>   13.20</td>\n",
       "</tr>\n",
       "<tr>\n",
       "  <th>Date:</th>             <td>Tue, 11 Aug 2020</td> <th>  Prob (F-statistic):</th> <td>9.61e-08</td>\n",
       "</tr>\n",
       "<tr>\n",
       "  <th>Time:</th>                 <td>11:34:35</td>     <th>  Log-Likelihood:    </th> <td> -170.97</td>\n",
       "</tr>\n",
       "<tr>\n",
       "  <th>No. Observations:</th>      <td>    48</td>      <th>  AIC:               </th> <td>   353.9</td>\n",
       "</tr>\n",
       "<tr>\n",
       "  <th>Df Residuals:</th>          <td>    42</td>      <th>  BIC:               </th> <td>   365.2</td>\n",
       "</tr>\n",
       "<tr>\n",
       "  <th>Df Model:</th>              <td>     5</td>      <th>                     </th>     <td> </td>   \n",
       "</tr>\n",
       "<tr>\n",
       "  <th>Covariance Type:</th>      <td>nonrobust</td>    <th>                     </th>     <td> </td>   \n",
       "</tr>\n",
       "</table>\n",
       "<table class=\"simpletable\">\n",
       "<tr>\n",
       "                     <td></td>                        <th>coef</th>     <th>std err</th>      <th>t</th>      <th>P>|t|</th>  <th>[0.025</th>    <th>0.975]</th>  \n",
       "</tr>\n",
       "<tr>\n",
       "  <th>Intercept</th>                               <td>   58.3333</td> <td>    1.315</td> <td>   44.351</td> <td> 0.000</td> <td>   55.679</td> <td>   60.988</td>\n",
       "</tr>\n",
       "<tr>\n",
       "  <th>C(interaction, final_contrast)[custom0]</th> <td>    1.8750</td> <td>    1.315</td> <td>    1.426</td> <td> 0.161</td> <td>   -0.779</td> <td>    4.529</td>\n",
       "</tr>\n",
       "<tr>\n",
       "  <th>C(interaction, final_contrast)[custom1]</th> <td>   -0.2083</td> <td>    1.315</td> <td>   -0.158</td> <td> 0.875</td> <td>   -2.863</td> <td>    2.446</td>\n",
       "</tr>\n",
       "<tr>\n",
       "  <th>C(interaction, final_contrast)[custom2]</th> <td>   -5.2083</td> <td>    1.315</td> <td>   -3.960</td> <td> 0.000</td> <td>   -7.863</td> <td>   -2.554</td>\n",
       "</tr>\n",
       "<tr>\n",
       "  <th>C(interaction, final_contrast)[custom3]</th> <td>   -2.5000</td> <td>    2.278</td> <td>   -1.097</td> <td> 0.279</td> <td>   -7.097</td> <td>    2.097</td>\n",
       "</tr>\n",
       "<tr>\n",
       "  <th>C(interaction, final_contrast)[custom4]</th> <td>  -15.6250</td> <td>    2.278</td> <td>   -6.859</td> <td> 0.000</td> <td>  -20.222</td> <td>  -11.028</td>\n",
       "</tr>\n",
       "</table>\n",
       "<table class=\"simpletable\">\n",
       "<tr>\n",
       "  <th>Omnibus:</th>       <td> 0.446</td> <th>  Durbin-Watson:     </th> <td>   1.846</td>\n",
       "</tr>\n",
       "<tr>\n",
       "  <th>Prob(Omnibus):</th> <td> 0.800</td> <th>  Jarque-Bera (JB):  </th> <td>   0.057</td>\n",
       "</tr>\n",
       "<tr>\n",
       "  <th>Skew:</th>          <td>-0.041</td> <th>  Prob(JB):          </th> <td>   0.972</td>\n",
       "</tr>\n",
       "<tr>\n",
       "  <th>Kurtosis:</th>      <td> 3.147</td> <th>  Cond. No.          </th> <td>    1.73</td>\n",
       "</tr>\n",
       "</table><br/><br/>Warnings:<br/>[1] Standard Errors assume that the covariance matrix of the errors is correctly specified."
      ],
      "text/plain": [
       "<class 'statsmodels.iolib.summary.Summary'>\n",
       "\"\"\"\n",
       "                            OLS Regression Results                            \n",
       "==============================================================================\n",
       "Dep. Variable:         attractiveness   R-squared:                       0.611\n",
       "Model:                            OLS   Adj. R-squared:                  0.565\n",
       "Method:                 Least Squares   F-statistic:                     13.20\n",
       "Date:                Tue, 11 Aug 2020   Prob (F-statistic):           9.61e-08\n",
       "Time:                        11:34:35   Log-Likelihood:                -170.97\n",
       "No. Observations:                  48   AIC:                             353.9\n",
       "Df Residuals:                      42   BIC:                             365.2\n",
       "Df Model:                           5                                         \n",
       "Covariance Type:            nonrobust                                         \n",
       "===========================================================================================================\n",
       "                                              coef    std err          t      P>|t|      [0.025      0.975]\n",
       "-----------------------------------------------------------------------------------------------------------\n",
       "Intercept                                  58.3333      1.315     44.351      0.000      55.679      60.988\n",
       "C(interaction, final_contrast)[custom0]     1.8750      1.315      1.426      0.161      -0.779       4.529\n",
       "C(interaction, final_contrast)[custom1]    -0.2083      1.315     -0.158      0.875      -2.863       2.446\n",
       "C(interaction, final_contrast)[custom2]    -5.2083      1.315     -3.960      0.000      -7.863      -2.554\n",
       "C(interaction, final_contrast)[custom3]    -2.5000      2.278     -1.097      0.279      -7.097       2.097\n",
       "C(interaction, final_contrast)[custom4]   -15.6250      2.278     -6.859      0.000     -20.222     -11.028\n",
       "==============================================================================\n",
       "Omnibus:                        0.446   Durbin-Watson:                   1.846\n",
       "Prob(Omnibus):                  0.800   Jarque-Bera (JB):                0.057\n",
       "Skew:                          -0.041   Prob(JB):                        0.972\n",
       "Kurtosis:                       3.147   Cond. No.                         1.73\n",
       "==============================================================================\n",
       "\n",
       "Warnings:\n",
       "[1] Standard Errors assume that the covariance matrix of the errors is correctly specified.\n",
       "\"\"\""
      ]
     },
     "execution_count": 18,
     "metadata": {},
     "output_type": "execute_result"
    }
   ],
   "source": [
    "m03 = smf.ols('attractiveness~C(interaction,final_contrast)', data=data).fit()\n",
    "m03.summary()"
   ]
  },
  {
   "cell_type": "code",
   "execution_count": null,
   "metadata": {},
   "outputs": [],
   "source": []
  },
  {
   "cell_type": "code",
   "execution_count": null,
   "metadata": {},
   "outputs": [],
   "source": []
  },
  {
   "cell_type": "code",
   "execution_count": null,
   "metadata": {},
   "outputs": [],
   "source": []
  }
 ],
 "metadata": {
  "kernelspec": {
   "display_name": "Python 3",
   "language": "python",
   "name": "python3"
  },
  "language_info": {
   "codemirror_mode": {
    "name": "ipython",
    "version": 3
   },
   "file_extension": ".py",
   "mimetype": "text/x-python",
   "name": "python",
   "nbconvert_exporter": "python",
   "pygments_lexer": "ipython3",
   "version": "3.7.6"
  }
 },
 "nbformat": 4,
 "nbformat_minor": 4
}
