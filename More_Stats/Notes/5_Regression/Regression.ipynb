{
 "cells": [
  {
   "cell_type": "code",
   "execution_count": 308,
   "metadata": {},
   "outputs": [],
   "source": [
    "import pandas as pd\n",
    "import numpy as np\n",
    "import matplotlib.pyplot as plt\n",
    "import seaborn as sns\n",
    "import scipy.stats as st\n",
    "import statsmodels.api as sm\n",
    "import pingouin as pg\n",
    "%matplotlib inline"
   ]
  },
  {
   "cell_type": "markdown",
   "metadata": {},
   "source": [
    "# Regression"
   ]
  },
  {
   "cell_type": "markdown",
   "metadata": {},
   "source": [
    "## Simple Regression"
   ]
  },
  {
   "cell_type": "markdown",
   "metadata": {},
   "source": [
    "Outcome = (Model) + error"
   ]
  },
  {
   "cell_type": "markdown",
   "metadata": {},
   "source": [
    "i)total_sum_of_squares(ss_t) =  it is the total amount of differences present when the most basic model(mean) is applied to the data.\n",
    "\n",
    "\n",
    "ii)residual_sum_of_squares(ss_r) = This value represents the degree of inaccuracy when the best model is fitted to the data.\n",
    "\n",
    "\n",
    "iii)model sum of squares(ss_m) = ss_t - ss_r"
   ]
  },
  {
   "cell_type": "markdown",
   "metadata": {},
   "source": [
    "R_squared = ss_m/ss_t"
   ]
  },
  {
   "cell_type": "markdown",
   "metadata": {},
   "source": [
    "## F and the t-statistic is based on the ratio of explained variance against unexplained variance or error."
   ]
  },
  {
   "cell_type": "markdown",
   "metadata": {},
   "source": [
    "#### In  regression,  the  degrees  of  freedom  are N − p −  1,  where N  is  the  total sample  size  and p  is  the  number  of  predictors.  In  simple  regression  when  we  have  only one  predictor,  so  this  gives N −  2. "
   ]
  },
  {
   "cell_type": "code",
   "execution_count": 309,
   "metadata": {},
   "outputs": [
    {
     "data": {
      "text/html": [
       "<div>\n",
       "<style scoped>\n",
       "    .dataframe tbody tr th:only-of-type {\n",
       "        vertical-align: middle;\n",
       "    }\n",
       "\n",
       "    .dataframe tbody tr th {\n",
       "        vertical-align: top;\n",
       "    }\n",
       "\n",
       "    .dataframe thead th {\n",
       "        text-align: right;\n",
       "    }\n",
       "</style>\n",
       "<table border=\"1\" class=\"dataframe\">\n",
       "  <thead>\n",
       "    <tr style=\"text-align: right;\">\n",
       "      <th></th>\n",
       "      <th>adverts</th>\n",
       "      <th>sales</th>\n",
       "    </tr>\n",
       "  </thead>\n",
       "  <tbody>\n",
       "    <tr>\n",
       "      <th>0</th>\n",
       "      <td>10.256</td>\n",
       "      <td>330</td>\n",
       "    </tr>\n",
       "    <tr>\n",
       "      <th>1</th>\n",
       "      <td>985.685</td>\n",
       "      <td>120</td>\n",
       "    </tr>\n",
       "    <tr>\n",
       "      <th>2</th>\n",
       "      <td>1445.563</td>\n",
       "      <td>360</td>\n",
       "    </tr>\n",
       "    <tr>\n",
       "      <th>3</th>\n",
       "      <td>1188.193</td>\n",
       "      <td>270</td>\n",
       "    </tr>\n",
       "    <tr>\n",
       "      <th>4</th>\n",
       "      <td>574.513</td>\n",
       "      <td>220</td>\n",
       "    </tr>\n",
       "  </tbody>\n",
       "</table>\n",
       "</div>"
      ],
      "text/plain": [
       "    adverts  sales\n",
       "0    10.256    330\n",
       "1   985.685    120\n",
       "2  1445.563    360\n",
       "3  1188.193    270\n",
       "4   574.513    220"
      ]
     },
     "execution_count": 309,
     "metadata": {},
     "output_type": "execute_result"
    }
   ],
   "source": [
    "data = pd.read_csv('Album.csv')\n",
    "data.head()"
   ]
  },
  {
   "cell_type": "code",
   "execution_count": 310,
   "metadata": {},
   "outputs": [
    {
     "data": {
      "image/png": "[encoded data removed]",
      "text/plain": [
       "<Figure size 360x360 with 1 Axes>"
      ]
     },
     "metadata": {
      "needs_background": "light"
     },
     "output_type": "display_data"
    }
   ],
   "source": [
    "_ = sns.lmplot(x='adverts', y='sales', data=data)"
   ]
  },
  {
   "cell_type": "code",
   "execution_count": null,
   "metadata": {},
   "outputs": [],
   "source": []
  },
  {
   "cell_type": "code",
   "execution_count": 311,
   "metadata": {},
   "outputs": [
    {
     "name": "stdout",
     "output_type": "stream",
     "text": [
      "                            OLS Regression Results                            \n",
      "==============================================================================\n",
      "Dep. Variable:                  sales   R-squared:                       0.335\n",
      "Model:                            OLS   Adj. R-squared:                  0.331\n",
      "Method:                 Least Squares   F-statistic:                     99.59\n",
      "Date:                Sat, 20 Jun 2020   Prob (F-statistic):           2.94e-19\n",
      "Time:                        07:34:20   Log-Likelihood:                -1120.7\n",
      "No. Observations:                 200   AIC:                             2245.\n",
      "Df Residuals:                     198   BIC:                             2252.\n",
      "Df Model:                           1                                         \n",
      "Covariance Type:            nonrobust                                         \n",
      "==============================================================================\n",
      "                 coef    std err          t      P>|t|      [0.025      0.975]\n",
      "------------------------------------------------------------------------------\n",
      "Intercept    134.1399      7.537     17.799      0.000     119.278     149.002\n",
      "adverts        0.0961      0.010      9.979      0.000       0.077       0.115\n",
      "==============================================================================\n",
      "Omnibus:                        4.961   Durbin-Watson:                   2.032\n",
      "Prob(Omnibus):                  0.084   Jarque-Bera (JB):                4.556\n",
      "Skew:                           0.339   Prob(JB):                        0.102\n",
      "Kurtosis:                       3.294   Cond. No.                     1.26e+03\n",
      "==============================================================================\n",
      "\n",
      "Warnings:\n",
      "[1] Standard Errors assume that the covariance matrix of the errors is correctly specified.\n",
      "[2] The condition number is large, 1.26e+03. This might indicate that there are\n",
      "strong multicollinearity or other numerical problems.\n"
     ]
    }
   ],
   "source": [
    "model = sm.OLS.from_formula('sales ~ adverts',data=data)\n",
    "res = model.fit()\n",
    "print(res.summary())"
   ]
  },
  {
   "cell_type": "markdown",
   "metadata": {},
   "source": [
    "#### For  these  data, F  is  99.59,  which  is  significant  at p<  .001  (because  the  value labelled p-value is less than .001). This result tells us that there is less than a 0.1% chance that  an F-ratio  this  large  would  happen  if  the  null  hypothesis  were  true.  Therefore,  we can conclude that our regression model results in significantly better prediction of album sales than if we used the mean value of album sales."
   ]
  },
  {
   "cell_type": "markdown",
   "metadata": {},
   "source": [
    "#### R^2, which tells us how much variance is explained by the model compared to how much variance there is to explain in the first place. It is the proportion of variance in the outcome variable that is shared by the predictor variable"
   ]
  },
  {
   "cell_type": "markdown",
   "metadata": {},
   "source": [
    "#### F, which tells us how much variability the model can explain relative to how much it can’t explain (i.e., it’s the ratio of how good the model is compared to how bad it is)."
   ]
  },
  {
   "cell_type": "markdown",
   "metadata": {},
   "source": [
    "## Multiple Regression"
   ]
  },
  {
   "cell_type": "markdown",
   "metadata": {},
   "source": [
    "outcome = (model) + error"
   ]
  },
  {
   "cell_type": "markdown",
   "metadata": {},
   "source": [
    "#### Akaike information criterion (AIC)"
   ]
  },
  {
   "cell_type": "markdown",
   "metadata": {},
   "source": [
    "AIC = n\\*ln(SSE/n) + 2*k\n",
    "\n",
    "\n",
    "where,  n  is  the  number  of  cases  in  the  model,  ln  is  the  natural  log,  SSE  is  the  sum  of square errors for the model, and k is the number of predictor variables."
   ]
  },
  {
   "cell_type": "markdown",
   "metadata": {},
   "source": [
    "The Akaike information criterion (AIC) is an estimator of out-of-sample prediction error and thereby relative quality of statistical models for a given set of data.Given a collection of models for the data, AIC estimates the quality of each model, relative to each of the other models. Thus, AIC provides a means for model selection. "
   ]
  },
  {
   "cell_type": "code",
   "execution_count": 312,
   "metadata": {},
   "outputs": [],
   "source": [
    "pubs = pd.read_csv('pubs.csv')"
   ]
  },
  {
   "cell_type": "code",
   "execution_count": 313,
   "metadata": {},
   "outputs": [
    {
     "data": {
      "text/html": [
       "<div>\n",
       "<style scoped>\n",
       "    .dataframe tbody tr th:only-of-type {\n",
       "        vertical-align: middle;\n",
       "    }\n",
       "\n",
       "    .dataframe tbody tr th {\n",
       "        vertical-align: top;\n",
       "    }\n",
       "\n",
       "    .dataframe thead th {\n",
       "        text-align: right;\n",
       "    }\n",
       "</style>\n",
       "<table border=\"1\" class=\"dataframe\">\n",
       "  <thead>\n",
       "    <tr style=\"text-align: right;\">\n",
       "      <th></th>\n",
       "      <th>pubs</th>\n",
       "      <th>mortality</th>\n",
       "    </tr>\n",
       "  </thead>\n",
       "  <tbody>\n",
       "    <tr>\n",
       "      <th>0</th>\n",
       "      <td>10</td>\n",
       "      <td>1000</td>\n",
       "    </tr>\n",
       "    <tr>\n",
       "      <th>1</th>\n",
       "      <td>20</td>\n",
       "      <td>2000</td>\n",
       "    </tr>\n",
       "    <tr>\n",
       "      <th>2</th>\n",
       "      <td>30</td>\n",
       "      <td>3000</td>\n",
       "    </tr>\n",
       "    <tr>\n",
       "      <th>3</th>\n",
       "      <td>40</td>\n",
       "      <td>4000</td>\n",
       "    </tr>\n",
       "    <tr>\n",
       "      <th>4</th>\n",
       "      <td>50</td>\n",
       "      <td>5000</td>\n",
       "    </tr>\n",
       "    <tr>\n",
       "      <th>5</th>\n",
       "      <td>60</td>\n",
       "      <td>6000</td>\n",
       "    </tr>\n",
       "    <tr>\n",
       "      <th>6</th>\n",
       "      <td>70</td>\n",
       "      <td>7000</td>\n",
       "    </tr>\n",
       "    <tr>\n",
       "      <th>7</th>\n",
       "      <td>500</td>\n",
       "      <td>10000</td>\n",
       "    </tr>\n",
       "  </tbody>\n",
       "</table>\n",
       "</div>"
      ],
      "text/plain": [
       "   pubs  mortality\n",
       "0    10       1000\n",
       "1    20       2000\n",
       "2    30       3000\n",
       "3    40       4000\n",
       "4    50       5000\n",
       "5    60       6000\n",
       "6    70       7000\n",
       "7   500      10000"
      ]
     },
     "execution_count": 313,
     "metadata": {},
     "output_type": "execute_result"
    }
   ],
   "source": [
    "pubs"
   ]
  },
  {
   "cell_type": "code",
   "execution_count": 314,
   "metadata": {},
   "outputs": [
    {
     "data": {
      "image/png": "[encoded data removed]",
      "text/plain": [
       "<Figure size 360x360 with 1 Axes>"
      ]
     },
     "metadata": {
      "needs_background": "light"
     },
     "output_type": "display_data"
    }
   ],
   "source": [
    "_ = sns.lmplot(x='pubs', y='mortality', data=pubs)"
   ]
  },
  {
   "cell_type": "code",
   "execution_count": 315,
   "metadata": {},
   "outputs": [
    {
     "data": {
      "image/png": "[encoded data removed]",
      "text/plain": [
       "<Figure size 360x360 with 1 Axes>"
      ]
     },
     "metadata": {
      "needs_background": "light"
     },
     "output_type": "display_data"
    }
   ],
   "source": [
    "_ = sns.lmplot(x='pubs', y='mortality', data=pubs[:7])"
   ]
  },
  {
   "cell_type": "code",
   "execution_count": 316,
   "metadata": {},
   "outputs": [
    {
     "name": "stderr",
     "output_type": "stream",
     "text": [
      "/home/atrides/anaconda3/lib/python3.7/site-packages/scipy/stats/stats.py:1535: UserWarning: kurtosistest only valid for n>=20 ... continuing anyway, n=8\n",
      "  \"anyway, n=%i\" % int(n))\n"
     ]
    },
    {
     "data": {
      "text/html": [
       "<table class=\"simpletable\">\n",
       "<caption>OLS Regression Results</caption>\n",
       "<tr>\n",
       "  <th>Dep. Variable:</th>        <td>mortality</td>    <th>  R-squared:         </th> <td>   0.649</td>\n",
       "</tr>\n",
       "<tr>\n",
       "  <th>Model:</th>                   <td>OLS</td>       <th>  Adj. R-squared:    </th> <td>   0.591</td>\n",
       "</tr>\n",
       "<tr>\n",
       "  <th>Method:</th>             <td>Least Squares</td>  <th>  F-statistic:       </th> <td>   11.12</td>\n",
       "</tr>\n",
       "<tr>\n",
       "  <th>Date:</th>             <td>Sat, 20 Jun 2020</td> <th>  Prob (F-statistic):</th>  <td>0.0157</td> \n",
       "</tr>\n",
       "<tr>\n",
       "  <th>Time:</th>                 <td>07:34:22</td>     <th>  Log-Likelihood:    </th> <td> -70.446</td>\n",
       "</tr>\n",
       "<tr>\n",
       "  <th>No. Observations:</th>      <td>     8</td>      <th>  AIC:               </th> <td>   144.9</td>\n",
       "</tr>\n",
       "<tr>\n",
       "  <th>Df Residuals:</th>          <td>     6</td>      <th>  BIC:               </th> <td>   145.1</td>\n",
       "</tr>\n",
       "<tr>\n",
       "  <th>Df Model:</th>              <td>     1</td>      <th>                     </th>     <td> </td>   \n",
       "</tr>\n",
       "<tr>\n",
       "  <th>Covariance Type:</th>      <td>nonrobust</td>    <th>                     </th>     <td> </td>   \n",
       "</tr>\n",
       "</table>\n",
       "<table class=\"simpletable\">\n",
       "<tr>\n",
       "      <td></td>         <th>coef</th>     <th>std err</th>      <th>t</th>      <th>P>|t|</th>  <th>[0.025</th>    <th>0.975]</th>  \n",
       "</tr>\n",
       "<tr>\n",
       "  <th>Intercept</th> <td> 3351.9553</td> <td>  781.236</td> <td>    4.291</td> <td> 0.005</td> <td> 1440.341</td> <td> 5263.570</td>\n",
       "</tr>\n",
       "<tr>\n",
       "  <th>pubs</th>      <td>   14.3389</td> <td>    4.301</td> <td>    3.334</td> <td> 0.016</td> <td>    3.816</td> <td>   24.862</td>\n",
       "</tr>\n",
       "</table>\n",
       "<table class=\"simpletable\">\n",
       "<tr>\n",
       "  <th>Omnibus:</th>       <td> 0.252</td> <th>  Durbin-Watson:     </th> <td>   0.692</td>\n",
       "</tr>\n",
       "<tr>\n",
       "  <th>Prob(Omnibus):</th> <td> 0.882</td> <th>  Jarque-Bera (JB):  </th> <td>   0.387</td>\n",
       "</tr>\n",
       "<tr>\n",
       "  <th>Skew:</th>          <td> 0.132</td> <th>  Prob(JB):          </th> <td>   0.824</td>\n",
       "</tr>\n",
       "<tr>\n",
       "  <th>Kurtosis:</th>      <td> 1.955</td> <th>  Cond. No.          </th> <td>    215.</td>\n",
       "</tr>\n",
       "</table><br/><br/>Warnings:<br/>[1] Standard Errors assume that the covariance matrix of the errors is correctly specified."
      ],
      "text/plain": [
       "<class 'statsmodels.iolib.summary.Summary'>\n",
       "\"\"\"\n",
       "                            OLS Regression Results                            \n",
       "==============================================================================\n",
       "Dep. Variable:              mortality   R-squared:                       0.649\n",
       "Model:                            OLS   Adj. R-squared:                  0.591\n",
       "Method:                 Least Squares   F-statistic:                     11.12\n",
       "Date:                Sat, 20 Jun 2020   Prob (F-statistic):             0.0157\n",
       "Time:                        07:34:22   Log-Likelihood:                -70.446\n",
       "No. Observations:                   8   AIC:                             144.9\n",
       "Df Residuals:                       6   BIC:                             145.1\n",
       "Df Model:                           1                                         \n",
       "Covariance Type:            nonrobust                                         \n",
       "==============================================================================\n",
       "                 coef    std err          t      P>|t|      [0.025      0.975]\n",
       "------------------------------------------------------------------------------\n",
       "Intercept   3351.9553    781.236      4.291      0.005    1440.341    5263.570\n",
       "pubs          14.3389      4.301      3.334      0.016       3.816      24.862\n",
       "==============================================================================\n",
       "Omnibus:                        0.252   Durbin-Watson:                   0.692\n",
       "Prob(Omnibus):                  0.882   Jarque-Bera (JB):                0.387\n",
       "Skew:                           0.132   Prob(JB):                        0.824\n",
       "Kurtosis:                       1.955   Cond. No.                         215.\n",
       "==============================================================================\n",
       "\n",
       "Warnings:\n",
       "[1] Standard Errors assume that the covariance matrix of the errors is correctly specified.\n",
       "\"\"\""
      ]
     },
     "execution_count": 316,
     "metadata": {},
     "output_type": "execute_result"
    }
   ],
   "source": [
    "model = sm.OLS.from_formula( \"mortality~pubs\",data=pubs)\n",
    "res=model.fit()\n",
    "res.summary()"
   ]
  },
  {
   "cell_type": "code",
   "execution_count": 317,
   "metadata": {},
   "outputs": [
    {
     "name": "stderr",
     "output_type": "stream",
     "text": [
      "/home/atrides/anaconda3/lib/python3.7/site-packages/statsmodels/stats/stattools.py:71: ValueWarning: omni_normtest is not valid with less than 8 observations; 7 samples were given.\n",
      "  \"samples were given.\" % int(n), ValueWarning)\n"
     ]
    },
    {
     "data": {
      "text/html": [
       "<table class=\"simpletable\">\n",
       "<caption>OLS Regression Results</caption>\n",
       "<tr>\n",
       "  <th>Dep. Variable:</th>        <td>mortality</td>    <th>  R-squared:         </th> <td>   1.000</td> \n",
       "</tr>\n",
       "<tr>\n",
       "  <th>Model:</th>                   <td>OLS</td>       <th>  Adj. R-squared:    </th> <td>   1.000</td> \n",
       "</tr>\n",
       "<tr>\n",
       "  <th>Method:</th>             <td>Least Squares</td>  <th>  F-statistic:       </th> <td>1.692e+32</td>\n",
       "</tr>\n",
       "<tr>\n",
       "  <th>Date:</th>             <td>Sat, 20 Jun 2020</td> <th>  Prob (F-statistic):</th> <td>5.09e-80</td> \n",
       "</tr>\n",
       "<tr>\n",
       "  <th>Time:</th>                 <td>07:34:22</td>     <th>  Log-Likelihood:    </th> <td>  190.96</td> \n",
       "</tr>\n",
       "<tr>\n",
       "  <th>No. Observations:</th>      <td>     7</td>      <th>  AIC:               </th> <td>  -377.9</td> \n",
       "</tr>\n",
       "<tr>\n",
       "  <th>Df Residuals:</th>          <td>     5</td>      <th>  BIC:               </th> <td>  -378.0</td> \n",
       "</tr>\n",
       "<tr>\n",
       "  <th>Df Model:</th>              <td>     1</td>      <th>                     </th>     <td> </td>    \n",
       "</tr>\n",
       "<tr>\n",
       "  <th>Covariance Type:</th>      <td>nonrobust</td>    <th>                     </th>     <td> </td>    \n",
       "</tr>\n",
       "</table>\n",
       "<table class=\"simpletable\">\n",
       "<tr>\n",
       "      <td></td>         <th>coef</th>     <th>std err</th>      <th>t</th>      <th>P>|t|</th>  <th>[0.025</th>    <th>0.975]</th>  \n",
       "</tr>\n",
       "<tr>\n",
       "  <th>Intercept</th> <td>-4.547e-13</td> <td> 3.44e-13</td> <td>   -1.323</td> <td> 0.243</td> <td>-1.34e-12</td> <td> 4.29e-13</td>\n",
       "</tr>\n",
       "<tr>\n",
       "  <th>pubs</th>      <td>  100.0000</td> <td> 7.69e-15</td> <td>  1.3e+16</td> <td> 0.000</td> <td>  100.000</td> <td>  100.000</td>\n",
       "</tr>\n",
       "</table>\n",
       "<table class=\"simpletable\">\n",
       "<tr>\n",
       "  <th>Omnibus:</th>       <td>   nan</td> <th>  Durbin-Watson:     </th> <td>   0.250</td>\n",
       "</tr>\n",
       "<tr>\n",
       "  <th>Prob(Omnibus):</th> <td>   nan</td> <th>  Jarque-Bera (JB):  </th> <td>   1.169</td>\n",
       "</tr>\n",
       "<tr>\n",
       "  <th>Skew:</th>          <td>-0.289</td> <th>  Prob(JB):          </th> <td>   0.557</td>\n",
       "</tr>\n",
       "<tr>\n",
       "  <th>Kurtosis:</th>      <td> 1.083</td> <th>  Cond. No.          </th> <td>    100.</td>\n",
       "</tr>\n",
       "</table><br/><br/>Warnings:<br/>[1] Standard Errors assume that the covariance matrix of the errors is correctly specified."
      ],
      "text/plain": [
       "<class 'statsmodels.iolib.summary.Summary'>\n",
       "\"\"\"\n",
       "                            OLS Regression Results                            \n",
       "==============================================================================\n",
       "Dep. Variable:              mortality   R-squared:                       1.000\n",
       "Model:                            OLS   Adj. R-squared:                  1.000\n",
       "Method:                 Least Squares   F-statistic:                 1.692e+32\n",
       "Date:                Sat, 20 Jun 2020   Prob (F-statistic):           5.09e-80\n",
       "Time:                        07:34:22   Log-Likelihood:                 190.96\n",
       "No. Observations:                   7   AIC:                            -377.9\n",
       "Df Residuals:                       5   BIC:                            -378.0\n",
       "Df Model:                           1                                         \n",
       "Covariance Type:            nonrobust                                         \n",
       "==============================================================================\n",
       "                 coef    std err          t      P>|t|      [0.025      0.975]\n",
       "------------------------------------------------------------------------------\n",
       "Intercept  -4.547e-13   3.44e-13     -1.323      0.243   -1.34e-12    4.29e-13\n",
       "pubs         100.0000   7.69e-15    1.3e+16      0.000     100.000     100.000\n",
       "==============================================================================\n",
       "Omnibus:                          nan   Durbin-Watson:                   0.250\n",
       "Prob(Omnibus):                    nan   Jarque-Bera (JB):                1.169\n",
       "Skew:                          -0.289   Prob(JB):                        0.557\n",
       "Kurtosis:                       1.083   Cond. No.                         100.\n",
       "==============================================================================\n",
       "\n",
       "Warnings:\n",
       "[1] Standard Errors assume that the covariance matrix of the errors is correctly specified.\n",
       "\"\"\""
      ]
     },
     "execution_count": 317,
     "metadata": {},
     "output_type": "execute_result"
    }
   ],
   "source": [
    "model = sm.OLS.from_formula( \"mortality~pubs\",data=pubs[:7])\n",
    "res=model.fit()\n",
    "res.summary()"
   ]
  },
  {
   "cell_type": "markdown",
   "metadata": {},
   "source": [
    "##  b1  in simple regression is same as Pearson’s correlation coefficient"
   ]
  },
  {
   "cell_type": "markdown",
   "metadata": {},
   "source": [
    "#### With simple linear regression (i.e., only 1 covariate), the slope b1 is the same as Pearson's r if both variables were standardized first. \n",
    "https://stats.stackexchange.com/questions/22718/what-is-the-difference-between-linear-regression-on-y-with-x-and-x-with-y/22721#22721"
   ]
  },
  {
   "cell_type": "code",
   "execution_count": 318,
   "metadata": {},
   "outputs": [
    {
     "data": {
      "text/html": [
       "<div>\n",
       "<style scoped>\n",
       "    .dataframe tbody tr th:only-of-type {\n",
       "        vertical-align: middle;\n",
       "    }\n",
       "\n",
       "    .dataframe tbody tr th {\n",
       "        vertical-align: top;\n",
       "    }\n",
       "\n",
       "    .dataframe thead th {\n",
       "        text-align: right;\n",
       "    }\n",
       "</style>\n",
       "<table border=\"1\" class=\"dataframe\">\n",
       "  <thead>\n",
       "    <tr style=\"text-align: right;\">\n",
       "      <th></th>\n",
       "      <th>pubs</th>\n",
       "      <th>mortality</th>\n",
       "    </tr>\n",
       "  </thead>\n",
       "  <tbody>\n",
       "    <tr>\n",
       "      <th>count</th>\n",
       "      <td>8.000000</td>\n",
       "      <td>8.000000</td>\n",
       "    </tr>\n",
       "    <tr>\n",
       "      <th>mean</th>\n",
       "      <td>97.500000</td>\n",
       "      <td>4750.000000</td>\n",
       "    </tr>\n",
       "    <tr>\n",
       "      <th>std</th>\n",
       "      <td>163.859696</td>\n",
       "      <td>2915.475947</td>\n",
       "    </tr>\n",
       "    <tr>\n",
       "      <th>min</th>\n",
       "      <td>10.000000</td>\n",
       "      <td>1000.000000</td>\n",
       "    </tr>\n",
       "    <tr>\n",
       "      <th>25%</th>\n",
       "      <td>27.500000</td>\n",
       "      <td>2750.000000</td>\n",
       "    </tr>\n",
       "    <tr>\n",
       "      <th>50%</th>\n",
       "      <td>45.000000</td>\n",
       "      <td>4500.000000</td>\n",
       "    </tr>\n",
       "    <tr>\n",
       "      <th>75%</th>\n",
       "      <td>62.500000</td>\n",
       "      <td>6250.000000</td>\n",
       "    </tr>\n",
       "    <tr>\n",
       "      <th>max</th>\n",
       "      <td>500.000000</td>\n",
       "      <td>10000.000000</td>\n",
       "    </tr>\n",
       "  </tbody>\n",
       "</table>\n",
       "</div>"
      ],
      "text/plain": [
       "             pubs     mortality\n",
       "count    8.000000      8.000000\n",
       "mean    97.500000   4750.000000\n",
       "std    163.859696   2915.475947\n",
       "min     10.000000   1000.000000\n",
       "25%     27.500000   2750.000000\n",
       "50%     45.000000   4500.000000\n",
       "75%     62.500000   6250.000000\n",
       "max    500.000000  10000.000000"
      ]
     },
     "execution_count": 318,
     "metadata": {},
     "output_type": "execute_result"
    }
   ],
   "source": [
    "pubs.describe()"
   ]
  },
  {
   "cell_type": "code",
   "execution_count": 319,
   "metadata": {},
   "outputs": [
    {
     "data": {
      "text/html": [
       "<div>\n",
       "<style scoped>\n",
       "    .dataframe tbody tr th:only-of-type {\n",
       "        vertical-align: middle;\n",
       "    }\n",
       "\n",
       "    .dataframe tbody tr th {\n",
       "        vertical-align: top;\n",
       "    }\n",
       "\n",
       "    .dataframe thead th {\n",
       "        text-align: right;\n",
       "    }\n",
       "</style>\n",
       "<table border=\"1\" class=\"dataframe\">\n",
       "  <thead>\n",
       "    <tr style=\"text-align: right;\">\n",
       "      <th></th>\n",
       "      <th>pubs</th>\n",
       "      <th>mortality</th>\n",
       "    </tr>\n",
       "  </thead>\n",
       "  <tbody>\n",
       "    <tr>\n",
       "      <th>0</th>\n",
       "      <td>10</td>\n",
       "      <td>1000</td>\n",
       "    </tr>\n",
       "    <tr>\n",
       "      <th>1</th>\n",
       "      <td>20</td>\n",
       "      <td>2000</td>\n",
       "    </tr>\n",
       "    <tr>\n",
       "      <th>2</th>\n",
       "      <td>30</td>\n",
       "      <td>3000</td>\n",
       "    </tr>\n",
       "    <tr>\n",
       "      <th>3</th>\n",
       "      <td>40</td>\n",
       "      <td>4000</td>\n",
       "    </tr>\n",
       "    <tr>\n",
       "      <th>4</th>\n",
       "      <td>50</td>\n",
       "      <td>5000</td>\n",
       "    </tr>\n",
       "    <tr>\n",
       "      <th>5</th>\n",
       "      <td>60</td>\n",
       "      <td>6000</td>\n",
       "    </tr>\n",
       "    <tr>\n",
       "      <th>6</th>\n",
       "      <td>70</td>\n",
       "      <td>7000</td>\n",
       "    </tr>\n",
       "    <tr>\n",
       "      <th>7</th>\n",
       "      <td>500</td>\n",
       "      <td>10000</td>\n",
       "    </tr>\n",
       "  </tbody>\n",
       "</table>\n",
       "</div>"
      ],
      "text/plain": [
       "   pubs  mortality\n",
       "0    10       1000\n",
       "1    20       2000\n",
       "2    30       3000\n",
       "3    40       4000\n",
       "4    50       5000\n",
       "5    60       6000\n",
       "6    70       7000\n",
       "7   500      10000"
      ]
     },
     "execution_count": 319,
     "metadata": {},
     "output_type": "execute_result"
    }
   ],
   "source": [
    "pubs"
   ]
  },
  {
   "cell_type": "code",
   "execution_count": 320,
   "metadata": {},
   "outputs": [],
   "source": [
    "pubs['std_pubs']=(pubs['pubs']-97.5)/pubs['pubs'].std()"
   ]
  },
  {
   "cell_type": "code",
   "execution_count": 321,
   "metadata": {},
   "outputs": [],
   "source": [
    "pubs['std_mor']=(pubs['mortality']-4750)/pubs['mortality'].std()"
   ]
  },
  {
   "cell_type": "code",
   "execution_count": 322,
   "metadata": {},
   "outputs": [
    {
     "name": "stderr",
     "output_type": "stream",
     "text": [
      "/home/atrides/anaconda3/lib/python3.7/site-packages/scipy/stats/stats.py:1535: UserWarning: kurtosistest only valid for n>=20 ... continuing anyway, n=8\n",
      "  \"anyway, n=%i\" % int(n))\n"
     ]
    },
    {
     "data": {
      "text/html": [
       "<table class=\"simpletable\">\n",
       "<caption>OLS Regression Results</caption>\n",
       "<tr>\n",
       "  <th>Dep. Variable:</th>         <td>std_mor</td>     <th>  R-squared:         </th> <td>   0.649</td>\n",
       "</tr>\n",
       "<tr>\n",
       "  <th>Model:</th>                   <td>OLS</td>       <th>  Adj. R-squared:    </th> <td>   0.591</td>\n",
       "</tr>\n",
       "<tr>\n",
       "  <th>Method:</th>             <td>Least Squares</td>  <th>  F-statistic:       </th> <td>   11.12</td>\n",
       "</tr>\n",
       "<tr>\n",
       "  <th>Date:</th>             <td>Sat, 20 Jun 2020</td> <th>  Prob (F-statistic):</th>  <td>0.0157</td> \n",
       "</tr>\n",
       "<tr>\n",
       "  <th>Time:</th>                 <td>07:34:22</td>     <th>  Log-Likelihood:    </th> <td> -6.6242</td>\n",
       "</tr>\n",
       "<tr>\n",
       "  <th>No. Observations:</th>      <td>     8</td>      <th>  AIC:               </th> <td>   17.25</td>\n",
       "</tr>\n",
       "<tr>\n",
       "  <th>Df Residuals:</th>          <td>     6</td>      <th>  BIC:               </th> <td>   17.41</td>\n",
       "</tr>\n",
       "<tr>\n",
       "  <th>Df Model:</th>              <td>     1</td>      <th>                     </th>     <td> </td>   \n",
       "</tr>\n",
       "<tr>\n",
       "  <th>Covariance Type:</th>      <td>nonrobust</td>    <th>                     </th>     <td> </td>   \n",
       "</tr>\n",
       "</table>\n",
       "<table class=\"simpletable\">\n",
       "<tr>\n",
       "      <td></td>         <th>coef</th>     <th>std err</th>      <th>t</th>      <th>P>|t|</th>  <th>[0.025</th>    <th>0.975]</th>  \n",
       "</tr>\n",
       "<tr>\n",
       "  <th>Intercept</th> <td>-2.776e-17</td> <td>    0.226</td> <td>-1.23e-16</td> <td> 1.000</td> <td>   -0.553</td> <td>    0.553</td>\n",
       "</tr>\n",
       "<tr>\n",
       "  <th>std_pubs</th>  <td>    0.8059</td> <td>    0.242</td> <td>    3.334</td> <td> 0.016</td> <td>    0.214</td> <td>    1.397</td>\n",
       "</tr>\n",
       "</table>\n",
       "<table class=\"simpletable\">\n",
       "<tr>\n",
       "  <th>Omnibus:</th>       <td> 0.252</td> <th>  Durbin-Watson:     </th> <td>   0.692</td>\n",
       "</tr>\n",
       "<tr>\n",
       "  <th>Prob(Omnibus):</th> <td> 0.882</td> <th>  Jarque-Bera (JB):  </th> <td>   0.387</td>\n",
       "</tr>\n",
       "<tr>\n",
       "  <th>Skew:</th>          <td> 0.132</td> <th>  Prob(JB):          </th> <td>   0.824</td>\n",
       "</tr>\n",
       "<tr>\n",
       "  <th>Kurtosis:</th>      <td> 1.955</td> <th>  Cond. No.          </th> <td>    1.07</td>\n",
       "</tr>\n",
       "</table><br/><br/>Warnings:<br/>[1] Standard Errors assume that the covariance matrix of the errors is correctly specified."
      ],
      "text/plain": [
       "<class 'statsmodels.iolib.summary.Summary'>\n",
       "\"\"\"\n",
       "                            OLS Regression Results                            \n",
       "==============================================================================\n",
       "Dep. Variable:                std_mor   R-squared:                       0.649\n",
       "Model:                            OLS   Adj. R-squared:                  0.591\n",
       "Method:                 Least Squares   F-statistic:                     11.12\n",
       "Date:                Sat, 20 Jun 2020   Prob (F-statistic):             0.0157\n",
       "Time:                        07:34:22   Log-Likelihood:                -6.6242\n",
       "No. Observations:                   8   AIC:                             17.25\n",
       "Df Residuals:                       6   BIC:                             17.41\n",
       "Df Model:                           1                                         \n",
       "Covariance Type:            nonrobust                                         \n",
       "==============================================================================\n",
       "                 coef    std err          t      P>|t|      [0.025      0.975]\n",
       "------------------------------------------------------------------------------\n",
       "Intercept  -2.776e-17      0.226  -1.23e-16      1.000      -0.553       0.553\n",
       "std_pubs       0.8059      0.242      3.334      0.016       0.214       1.397\n",
       "==============================================================================\n",
       "Omnibus:                        0.252   Durbin-Watson:                   0.692\n",
       "Prob(Omnibus):                  0.882   Jarque-Bera (JB):                0.387\n",
       "Skew:                           0.132   Prob(JB):                        0.824\n",
       "Kurtosis:                       1.955   Cond. No.                         1.07\n",
       "==============================================================================\n",
       "\n",
       "Warnings:\n",
       "[1] Standard Errors assume that the covariance matrix of the errors is correctly specified.\n",
       "\"\"\""
      ]
     },
     "execution_count": 322,
     "metadata": {},
     "output_type": "execute_result"
    }
   ],
   "source": [
    "model = sm.OLS.from_formula( \"std_mor~std_pubs\",data=pubs)\n",
    "res=model.fit()\n",
    "res.summary()"
   ]
  },
  {
   "cell_type": "markdown",
   "metadata": {},
   "source": [
    "## ***Assessing the regression model: generalization***"
   ]
  },
  {
   "cell_type": "markdown",
   "metadata": {},
   "source": [
    "### 1.) **Assumptions checking**\n",
    "\n",
    "\n",
    "i)   Variable Types:  All  predictor  variables  must  be  quantitative  or  categorical  (with two  categories),  and  the  outcome  variable  must  be  quantitative,  continuous  and unbounded. \n",
    "\n",
    "\n",
    "ii)  Non-Zero Variance: The predictors should have some variation in value (i.e., they do not have variances of 0).\n",
    "\n",
    "\n",
    "iii) No perfect multicollinearity \n",
    "\n",
    "\n",
    "iv)  Predictors are uncorrelated with ‘external variables’\n",
    "\n",
    "\n",
    "v)   Homoscedasticity\n",
    "\n",
    "\n",
    "vi)  Normally distributed errors: It is assumed that the residuals in the model are random, normally distributed variables with a mean of 0.\n",
    "\n",
    "\n",
    "vii) Linearity:  The  mean  values  of  the  outcome  variable  for  each  increment  of  the predictor(s) lie along a straight line. \n",
    "\n",
    "\n",
    "viii) Independence: It is assumed that all of the values of the outcome variable are independent.\n",
    "\n",
    "\n",
    "ix)  Independent errors: For any two observations the residual terms should be uncorre-lated (or independent)."
   ]
  },
  {
   "cell_type": "markdown",
   "metadata": {},
   "source": [
    "###  **2.) Cross-validation of the model**"
   ]
  },
  {
   "cell_type": "markdown",
   "metadata": {},
   "source": [
    "cross-validation : Assessing the accuracy of a model across different samples is known as cross-validation. \n",
    "\n",
    "\n",
    "Once we have a regression model there are two main methods of cross-validation:\n",
    "\n",
    "\n",
    "i)  Data splitting\n",
    "\n",
    "\n",
    "ii) Adjusted R Squared: In Statsmodels, not only is the value of R2 calculated, but also an adjusted R2. This adjusted value indicates the loss of predictive power or shrinkage."
   ]
  },
  {
   "cell_type": "code",
   "execution_count": 323,
   "metadata": {},
   "outputs": [
    {
     "data": {
      "image/png": "[encoded data removed]",
      "text/plain": [
       "<IPython.core.display.Image object>"
      ]
     },
     "execution_count": 323,
     "metadata": {},
     "output_type": "execute_result"
    }
   ],
   "source": [
    "from IPython.display import Image\n",
    "Image(\"adjusted_r2.png\")"
   ]
  },
  {
   "cell_type": "markdown",
   "metadata": {},
   "source": [
    "###  **3.) Multicollinearity**"
   ]
  },
  {
   "cell_type": "markdown",
   "metadata": {},
   "source": [
    "#### Multicollinearity  exists  when  there  is  a  strong  correlation  between  two  or  more  predic-tors  in  a  regression  model ."
   ]
  },
  {
   "cell_type": "markdown",
   "metadata": {},
   "source": [
    "As collinearity increases there are three problems that arise:\n",
    "\n",
    "\n",
    "i) Untrustworthy bs:As collinearity increases so do the standard errors of the b coef-ficients. \n",
    "\n",
    "\n",
    "ii) It  limits  the  size  of R (correlation_coeffecient)\n",
    "\n",
    "\n",
    "iii) Importance of predictors: Multicollinearity between predictors makes it difficult to assess the individual importance of a predictor."
   ]
  },
  {
   "cell_type": "markdown",
   "metadata": {},
   "source": [
    "#### ***The consequences of multicollinearity depend, to some degree, on the ob­jectives of the analysis. If the goal is prediction, then multicollinearity need not present much of a problem, as  it  primarily affects the calculated importance of the explanatory variables. Even though the interpretation of the regression coefficients associated with the explanatory variables may be suspect, the re­sponse variable may still be able to be accurately predicted. However,   if the goal is explanation (that  is,  the aim is to identify  the strength of relation­ships between individual explanatory variables and the response variable), the presence of a high degree of multicollinearity poses a serious problem for the correct interpretation of the results. When conducting a multiple regression, one has to identify when multicollinearity is likely to present a problem and a strategy to deal with it must be decided upon.***"
   ]
  },
  {
   "cell_type": "markdown",
   "metadata": {},
   "source": [
    "lets see an example"
   ]
  },
  {
   "cell_type": "code",
   "execution_count": 324,
   "metadata": {},
   "outputs": [],
   "source": [
    "df = pd.DataFrame({'a':[i for i in range(100)], 'b':[2*i+5 for i in range(100)],'c':[3*i+12 for i in range(100)]})"
   ]
  },
  {
   "cell_type": "code",
   "execution_count": 325,
   "metadata": {},
   "outputs": [
    {
     "data": {
      "text/html": [
       "<div>\n",
       "<style scoped>\n",
       "    .dataframe tbody tr th:only-of-type {\n",
       "        vertical-align: middle;\n",
       "    }\n",
       "\n",
       "    .dataframe tbody tr th {\n",
       "        vertical-align: top;\n",
       "    }\n",
       "\n",
       "    .dataframe thead th {\n",
       "        text-align: right;\n",
       "    }\n",
       "</style>\n",
       "<table border=\"1\" class=\"dataframe\">\n",
       "  <thead>\n",
       "    <tr style=\"text-align: right;\">\n",
       "      <th></th>\n",
       "      <th>a</th>\n",
       "      <th>b</th>\n",
       "      <th>c</th>\n",
       "    </tr>\n",
       "  </thead>\n",
       "  <tbody>\n",
       "    <tr>\n",
       "      <th>0</th>\n",
       "      <td>0</td>\n",
       "      <td>5</td>\n",
       "      <td>12</td>\n",
       "    </tr>\n",
       "    <tr>\n",
       "      <th>1</th>\n",
       "      <td>1</td>\n",
       "      <td>7</td>\n",
       "      <td>15</td>\n",
       "    </tr>\n",
       "    <tr>\n",
       "      <th>2</th>\n",
       "      <td>2</td>\n",
       "      <td>9</td>\n",
       "      <td>18</td>\n",
       "    </tr>\n",
       "    <tr>\n",
       "      <th>3</th>\n",
       "      <td>3</td>\n",
       "      <td>11</td>\n",
       "      <td>21</td>\n",
       "    </tr>\n",
       "    <tr>\n",
       "      <th>4</th>\n",
       "      <td>4</td>\n",
       "      <td>13</td>\n",
       "      <td>24</td>\n",
       "    </tr>\n",
       "  </tbody>\n",
       "</table>\n",
       "</div>"
      ],
      "text/plain": [
       "   a   b   c\n",
       "0  0   5  12\n",
       "1  1   7  15\n",
       "2  2   9  18\n",
       "3  3  11  21\n",
       "4  4  13  24"
      ]
     },
     "execution_count": 325,
     "metadata": {},
     "output_type": "execute_result"
    }
   ],
   "source": [
    "df.head()"
   ]
  },
  {
   "cell_type": "code",
   "execution_count": 326,
   "metadata": {},
   "outputs": [
    {
     "data": {
      "text/html": [
       "<table class=\"simpletable\">\n",
       "<caption>OLS Regression Results</caption>\n",
       "<tr>\n",
       "  <th>Dep. Variable:</th>            <td>c</td>        <th>  R-squared:         </th> <td>   1.000</td> \n",
       "</tr>\n",
       "<tr>\n",
       "  <th>Model:</th>                   <td>OLS</td>       <th>  Adj. R-squared:    </th> <td>   1.000</td> \n",
       "</tr>\n",
       "<tr>\n",
       "  <th>Method:</th>             <td>Least Squares</td>  <th>  F-statistic:       </th> <td>4.837e+31</td>\n",
       "</tr>\n",
       "<tr>\n",
       "  <th>Date:</th>             <td>Sat, 20 Jun 2020</td> <th>  Prob (F-statistic):</th>  <td>  0.00</td>  \n",
       "</tr>\n",
       "<tr>\n",
       "  <th>Time:</th>                 <td>07:34:22</td>     <th>  Log-Likelihood:    </th> <td>  2830.6</td> \n",
       "</tr>\n",
       "<tr>\n",
       "  <th>No. Observations:</th>      <td>   100</td>      <th>  AIC:               </th> <td>  -5657.</td> \n",
       "</tr>\n",
       "<tr>\n",
       "  <th>Df Residuals:</th>          <td>    98</td>      <th>  BIC:               </th> <td>  -5652.</td> \n",
       "</tr>\n",
       "<tr>\n",
       "  <th>Df Model:</th>              <td>     1</td>      <th>                     </th>     <td> </td>    \n",
       "</tr>\n",
       "<tr>\n",
       "  <th>Covariance Type:</th>      <td>nonrobust</td>    <th>                     </th>     <td> </td>    \n",
       "</tr>\n",
       "</table>\n",
       "<table class=\"simpletable\">\n",
       "<tr>\n",
       "      <td></td>         <th>coef</th>     <th>std err</th>      <th>t</th>      <th>P>|t|</th>  <th>[0.025</th>    <th>0.975]</th>  \n",
       "</tr>\n",
       "<tr>\n",
       "  <th>Intercept</th> <td>    1.0000</td> <td> 4.24e-15</td> <td> 2.36e+14</td> <td> 0.000</td> <td>    1.000</td> <td>    1.000</td>\n",
       "</tr>\n",
       "<tr>\n",
       "  <th>a</th>         <td>   -1.4000</td> <td> 8.56e-15</td> <td>-1.63e+14</td> <td> 0.000</td> <td>   -1.400</td> <td>   -1.400</td>\n",
       "</tr>\n",
       "<tr>\n",
       "  <th>b</th>         <td>    2.2000</td> <td> 4.09e-15</td> <td> 5.37e+14</td> <td> 0.000</td> <td>    2.200</td> <td>    2.200</td>\n",
       "</tr>\n",
       "</table>\n",
       "<table class=\"simpletable\">\n",
       "<tr>\n",
       "  <th>Omnibus:</th>       <td> 6.256</td> <th>  Durbin-Watson:     </th> <td>   0.052</td>\n",
       "</tr>\n",
       "<tr>\n",
       "  <th>Prob(Omnibus):</th> <td> 0.044</td> <th>  Jarque-Bera (JB):  </th> <td>   6.195</td>\n",
       "</tr>\n",
       "<tr>\n",
       "  <th>Skew:</th>          <td>-0.565</td> <th>  Prob(JB):          </th> <td>  0.0452</td>\n",
       "</tr>\n",
       "<tr>\n",
       "  <th>Kurtosis:</th>      <td> 2.541</td> <th>  Cond. No.          </th> <td>4.26e+16</td>\n",
       "</tr>\n",
       "</table><br/><br/>Warnings:<br/>[1] Standard Errors assume that the covariance matrix of the errors is correctly specified.<br/>[2] The smallest eigenvalue is 9.6e-28. This might indicate that there are<br/>strong multicollinearity problems or that the design matrix is singular."
      ],
      "text/plain": [
       "<class 'statsmodels.iolib.summary.Summary'>\n",
       "\"\"\"\n",
       "                            OLS Regression Results                            \n",
       "==============================================================================\n",
       "Dep. Variable:                      c   R-squared:                       1.000\n",
       "Model:                            OLS   Adj. R-squared:                  1.000\n",
       "Method:                 Least Squares   F-statistic:                 4.837e+31\n",
       "Date:                Sat, 20 Jun 2020   Prob (F-statistic):               0.00\n",
       "Time:                        07:34:22   Log-Likelihood:                 2830.6\n",
       "No. Observations:                 100   AIC:                            -5657.\n",
       "Df Residuals:                      98   BIC:                            -5652.\n",
       "Df Model:                           1                                         \n",
       "Covariance Type:            nonrobust                                         \n",
       "==============================================================================\n",
       "                 coef    std err          t      P>|t|      [0.025      0.975]\n",
       "------------------------------------------------------------------------------\n",
       "Intercept      1.0000   4.24e-15   2.36e+14      0.000       1.000       1.000\n",
       "a             -1.4000   8.56e-15  -1.63e+14      0.000      -1.400      -1.400\n",
       "b              2.2000   4.09e-15   5.37e+14      0.000       2.200       2.200\n",
       "==============================================================================\n",
       "Omnibus:                        6.256   Durbin-Watson:                   0.052\n",
       "Prob(Omnibus):                  0.044   Jarque-Bera (JB):                6.195\n",
       "Skew:                          -0.565   Prob(JB):                       0.0452\n",
       "Kurtosis:                       2.541   Cond. No.                     4.26e+16\n",
       "==============================================================================\n",
       "\n",
       "Warnings:\n",
       "[1] Standard Errors assume that the covariance matrix of the errors is correctly specified.\n",
       "[2] The smallest eigenvalue is 9.6e-28. This might indicate that there are\n",
       "strong multicollinearity problems or that the design matrix is singular.\n",
       "\"\"\""
      ]
     },
     "execution_count": 326,
     "metadata": {},
     "output_type": "execute_result"
    }
   ],
   "source": [
    "# with multicollinearity\n",
    "\n",
    "model = sm.OLS.from_formula( \"c~a+b\",data=df)\n",
    "res=model.fit()\n",
    "res.summary()"
   ]
  },
  {
   "cell_type": "code",
   "execution_count": null,
   "metadata": {},
   "outputs": [],
   "source": []
  },
  {
   "cell_type": "code",
   "execution_count": 327,
   "metadata": {},
   "outputs": [
    {
     "data": {
      "text/html": [
       "<table class=\"simpletable\">\n",
       "<caption>OLS Regression Results</caption>\n",
       "<tr>\n",
       "  <th>Dep. Variable:</th>            <td>c</td>        <th>  R-squared:         </th> <td>   1.000</td> \n",
       "</tr>\n",
       "<tr>\n",
       "  <th>Model:</th>                   <td>OLS</td>       <th>  Adj. R-squared:    </th> <td>   1.000</td> \n",
       "</tr>\n",
       "<tr>\n",
       "  <th>Method:</th>             <td>Least Squares</td>  <th>  F-statistic:       </th> <td>9.162e+32</td>\n",
       "</tr>\n",
       "<tr>\n",
       "  <th>Date:</th>             <td>Sat, 20 Jun 2020</td> <th>  Prob (F-statistic):</th>  <td>  0.00</td>  \n",
       "</tr>\n",
       "<tr>\n",
       "  <th>Time:</th>                 <td>07:34:23</td>     <th>  Log-Likelihood:    </th> <td>  2977.6</td> \n",
       "</tr>\n",
       "<tr>\n",
       "  <th>No. Observations:</th>      <td>   100</td>      <th>  AIC:               </th> <td>  -5951.</td> \n",
       "</tr>\n",
       "<tr>\n",
       "  <th>Df Residuals:</th>          <td>    98</td>      <th>  BIC:               </th> <td>  -5946.</td> \n",
       "</tr>\n",
       "<tr>\n",
       "  <th>Df Model:</th>              <td>     1</td>      <th>                     </th>     <td> </td>    \n",
       "</tr>\n",
       "<tr>\n",
       "  <th>Covariance Type:</th>      <td>nonrobust</td>    <th>                     </th>     <td> </td>    \n",
       "</tr>\n",
       "</table>\n",
       "<table class=\"simpletable\">\n",
       "<tr>\n",
       "      <td></td>         <th>coef</th>     <th>std err</th>      <th>t</th>      <th>P>|t|</th>  <th>[0.025</th>    <th>0.975]</th>  \n",
       "</tr>\n",
       "<tr>\n",
       "  <th>Intercept</th> <td>   12.0000</td> <td> 5.68e-15</td> <td> 2.11e+15</td> <td> 0.000</td> <td>   12.000</td> <td>   12.000</td>\n",
       "</tr>\n",
       "<tr>\n",
       "  <th>a</th>         <td>    3.0000</td> <td> 9.91e-17</td> <td> 3.03e+16</td> <td> 0.000</td> <td>    3.000</td> <td>    3.000</td>\n",
       "</tr>\n",
       "</table>\n",
       "<table class=\"simpletable\">\n",
       "<tr>\n",
       "  <th>Omnibus:</th>       <td> 6.184</td> <th>  Durbin-Watson:     </th> <td>   0.066</td>\n",
       "</tr>\n",
       "<tr>\n",
       "  <th>Prob(Omnibus):</th> <td> 0.045</td> <th>  Jarque-Bera (JB):  </th> <td>   5.580</td>\n",
       "</tr>\n",
       "<tr>\n",
       "  <th>Skew:</th>          <td>-0.503</td> <th>  Prob(JB):          </th> <td>  0.0614</td>\n",
       "</tr>\n",
       "<tr>\n",
       "  <th>Kurtosis:</th>      <td> 2.430</td> <th>  Cond. No.          </th> <td>    114.</td>\n",
       "</tr>\n",
       "</table><br/><br/>Warnings:<br/>[1] Standard Errors assume that the covariance matrix of the errors is correctly specified."
      ],
      "text/plain": [
       "<class 'statsmodels.iolib.summary.Summary'>\n",
       "\"\"\"\n",
       "                            OLS Regression Results                            \n",
       "==============================================================================\n",
       "Dep. Variable:                      c   R-squared:                       1.000\n",
       "Model:                            OLS   Adj. R-squared:                  1.000\n",
       "Method:                 Least Squares   F-statistic:                 9.162e+32\n",
       "Date:                Sat, 20 Jun 2020   Prob (F-statistic):               0.00\n",
       "Time:                        07:34:23   Log-Likelihood:                 2977.6\n",
       "No. Observations:                 100   AIC:                            -5951.\n",
       "Df Residuals:                      98   BIC:                            -5946.\n",
       "Df Model:                           1                                         \n",
       "Covariance Type:            nonrobust                                         \n",
       "==============================================================================\n",
       "                 coef    std err          t      P>|t|      [0.025      0.975]\n",
       "------------------------------------------------------------------------------\n",
       "Intercept     12.0000   5.68e-15   2.11e+15      0.000      12.000      12.000\n",
       "a              3.0000   9.91e-17   3.03e+16      0.000       3.000       3.000\n",
       "==============================================================================\n",
       "Omnibus:                        6.184   Durbin-Watson:                   0.066\n",
       "Prob(Omnibus):                  0.045   Jarque-Bera (JB):                5.580\n",
       "Skew:                          -0.503   Prob(JB):                       0.0614\n",
       "Kurtosis:                       2.430   Cond. No.                         114.\n",
       "==============================================================================\n",
       "\n",
       "Warnings:\n",
       "[1] Standard Errors assume that the covariance matrix of the errors is correctly specified.\n",
       "\"\"\""
      ]
     },
     "execution_count": 327,
     "metadata": {},
     "output_type": "execute_result"
    }
   ],
   "source": [
    "# without multicollinearity \n",
    "\n",
    "model_wo = sm.OLS.from_formula( \"c~a\",data=df)\n",
    "res_wo=model_wo.fit()\n",
    "res_wo.summary()"
   ]
  },
  {
   "cell_type": "markdown",
   "metadata": {},
   "source": [
    "### **NOTE: if we go on and predict the values , the values will be almost same irrespective of the model we use.**"
   ]
  },
  {
   "cell_type": "code",
   "execution_count": null,
   "metadata": {},
   "outputs": [],
   "source": []
  },
  {
   "cell_type": "markdown",
   "metadata": {},
   "source": [
    "## **Multiple regression using Python**"
   ]
  },
  {
   "cell_type": "code",
   "execution_count": 328,
   "metadata": {},
   "outputs": [],
   "source": [
    "df = pd.read_csv('Album2.csv')"
   ]
  },
  {
   "cell_type": "code",
   "execution_count": 329,
   "metadata": {},
   "outputs": [
    {
     "data": {
      "text/html": [
       "<div>\n",
       "<style scoped>\n",
       "    .dataframe tbody tr th:only-of-type {\n",
       "        vertical-align: middle;\n",
       "    }\n",
       "\n",
       "    .dataframe tbody tr th {\n",
       "        vertical-align: top;\n",
       "    }\n",
       "\n",
       "    .dataframe thead th {\n",
       "        text-align: right;\n",
       "    }\n",
       "</style>\n",
       "<table border=\"1\" class=\"dataframe\">\n",
       "  <thead>\n",
       "    <tr style=\"text-align: right;\">\n",
       "      <th></th>\n",
       "      <th>adverts</th>\n",
       "      <th>sales</th>\n",
       "      <th>airplay</th>\n",
       "      <th>attract</th>\n",
       "    </tr>\n",
       "  </thead>\n",
       "  <tbody>\n",
       "    <tr>\n",
       "      <th>0</th>\n",
       "      <td>10.256</td>\n",
       "      <td>330</td>\n",
       "      <td>43</td>\n",
       "      <td>10</td>\n",
       "    </tr>\n",
       "    <tr>\n",
       "      <th>1</th>\n",
       "      <td>985.685</td>\n",
       "      <td>120</td>\n",
       "      <td>28</td>\n",
       "      <td>7</td>\n",
       "    </tr>\n",
       "    <tr>\n",
       "      <th>2</th>\n",
       "      <td>1445.563</td>\n",
       "      <td>360</td>\n",
       "      <td>35</td>\n",
       "      <td>7</td>\n",
       "    </tr>\n",
       "    <tr>\n",
       "      <th>3</th>\n",
       "      <td>1188.193</td>\n",
       "      <td>270</td>\n",
       "      <td>33</td>\n",
       "      <td>7</td>\n",
       "    </tr>\n",
       "    <tr>\n",
       "      <th>4</th>\n",
       "      <td>574.513</td>\n",
       "      <td>220</td>\n",
       "      <td>44</td>\n",
       "      <td>5</td>\n",
       "    </tr>\n",
       "  </tbody>\n",
       "</table>\n",
       "</div>"
      ],
      "text/plain": [
       "    adverts  sales  airplay  attract\n",
       "0    10.256    330       43       10\n",
       "1   985.685    120       28        7\n",
       "2  1445.563    360       35        7\n",
       "3  1188.193    270       33        7\n",
       "4   574.513    220       44        5"
      ]
     },
     "execution_count": 329,
     "metadata": {},
     "output_type": "execute_result"
    }
   ],
   "source": [
    "df.head()"
   ]
  },
  {
   "cell_type": "code",
   "execution_count": 330,
   "metadata": {},
   "outputs": [
    {
     "data": {
      "text/html": [
       "<table class=\"simpletable\">\n",
       "<caption>OLS Regression Results</caption>\n",
       "<tr>\n",
       "  <th>Dep. Variable:</th>          <td>sales</td>      <th>  R-squared:         </th> <td>   0.335</td>\n",
       "</tr>\n",
       "<tr>\n",
       "  <th>Model:</th>                   <td>OLS</td>       <th>  Adj. R-squared:    </th> <td>   0.331</td>\n",
       "</tr>\n",
       "<tr>\n",
       "  <th>Method:</th>             <td>Least Squares</td>  <th>  F-statistic:       </th> <td>   99.59</td>\n",
       "</tr>\n",
       "<tr>\n",
       "  <th>Date:</th>             <td>Sat, 20 Jun 2020</td> <th>  Prob (F-statistic):</th> <td>2.94e-19</td>\n",
       "</tr>\n",
       "<tr>\n",
       "  <th>Time:</th>                 <td>07:34:23</td>     <th>  Log-Likelihood:    </th> <td> -1120.7</td>\n",
       "</tr>\n",
       "<tr>\n",
       "  <th>No. Observations:</th>      <td>   200</td>      <th>  AIC:               </th> <td>   2245.</td>\n",
       "</tr>\n",
       "<tr>\n",
       "  <th>Df Residuals:</th>          <td>   198</td>      <th>  BIC:               </th> <td>   2252.</td>\n",
       "</tr>\n",
       "<tr>\n",
       "  <th>Df Model:</th>              <td>     1</td>      <th>                     </th>     <td> </td>   \n",
       "</tr>\n",
       "<tr>\n",
       "  <th>Covariance Type:</th>      <td>nonrobust</td>    <th>                     </th>     <td> </td>   \n",
       "</tr>\n",
       "</table>\n",
       "<table class=\"simpletable\">\n",
       "<tr>\n",
       "      <td></td>         <th>coef</th>     <th>std err</th>      <th>t</th>      <th>P>|t|</th>  <th>[0.025</th>    <th>0.975]</th>  \n",
       "</tr>\n",
       "<tr>\n",
       "  <th>Intercept</th> <td>  134.1399</td> <td>    7.537</td> <td>   17.799</td> <td> 0.000</td> <td>  119.278</td> <td>  149.002</td>\n",
       "</tr>\n",
       "<tr>\n",
       "  <th>adverts</th>   <td>    0.0961</td> <td>    0.010</td> <td>    9.979</td> <td> 0.000</td> <td>    0.077</td> <td>    0.115</td>\n",
       "</tr>\n",
       "</table>\n",
       "<table class=\"simpletable\">\n",
       "<tr>\n",
       "  <th>Omnibus:</th>       <td> 4.961</td> <th>  Durbin-Watson:     </th> <td>   2.032</td>\n",
       "</tr>\n",
       "<tr>\n",
       "  <th>Prob(Omnibus):</th> <td> 0.084</td> <th>  Jarque-Bera (JB):  </th> <td>   4.556</td>\n",
       "</tr>\n",
       "<tr>\n",
       "  <th>Skew:</th>          <td> 0.339</td> <th>  Prob(JB):          </th> <td>   0.102</td>\n",
       "</tr>\n",
       "<tr>\n",
       "  <th>Kurtosis:</th>      <td> 3.294</td> <th>  Cond. No.          </th> <td>1.26e+03</td>\n",
       "</tr>\n",
       "</table><br/><br/>Warnings:<br/>[1] Standard Errors assume that the covariance matrix of the errors is correctly specified.<br/>[2] The condition number is large, 1.26e+03. This might indicate that there are<br/>strong multicollinearity or other numerical problems."
      ],
      "text/plain": [
       "<class 'statsmodels.iolib.summary.Summary'>\n",
       "\"\"\"\n",
       "                            OLS Regression Results                            \n",
       "==============================================================================\n",
       "Dep. Variable:                  sales   R-squared:                       0.335\n",
       "Model:                            OLS   Adj. R-squared:                  0.331\n",
       "Method:                 Least Squares   F-statistic:                     99.59\n",
       "Date:                Sat, 20 Jun 2020   Prob (F-statistic):           2.94e-19\n",
       "Time:                        07:34:23   Log-Likelihood:                -1120.7\n",
       "No. Observations:                 200   AIC:                             2245.\n",
       "Df Residuals:                     198   BIC:                             2252.\n",
       "Df Model:                           1                                         \n",
       "Covariance Type:            nonrobust                                         \n",
       "==============================================================================\n",
       "                 coef    std err          t      P>|t|      [0.025      0.975]\n",
       "------------------------------------------------------------------------------\n",
       "Intercept    134.1399      7.537     17.799      0.000     119.278     149.002\n",
       "adverts        0.0961      0.010      9.979      0.000       0.077       0.115\n",
       "==============================================================================\n",
       "Omnibus:                        4.961   Durbin-Watson:                   2.032\n",
       "Prob(Omnibus):                  0.084   Jarque-Bera (JB):                4.556\n",
       "Skew:                           0.339   Prob(JB):                        0.102\n",
       "Kurtosis:                       3.294   Cond. No.                     1.26e+03\n",
       "==============================================================================\n",
       "\n",
       "Warnings:\n",
       "[1] Standard Errors assume that the covariance matrix of the errors is correctly specified.\n",
       "[2] The condition number is large, 1.26e+03. This might indicate that there are\n",
       "strong multicollinearity or other numerical problems.\n",
       "\"\"\""
      ]
     },
     "execution_count": 330,
     "metadata": {},
     "output_type": "execute_result"
    }
   ],
   "source": [
    "model_1 = sm.OLS.from_formula(\"sales~adverts\", data=df)\n",
    "res_1 = model_1.fit()\n",
    "res_1.summary()"
   ]
  },
  {
   "cell_type": "code",
   "execution_count": 331,
   "metadata": {},
   "outputs": [
    {
     "data": {
      "text/html": [
       "<table class=\"simpletable\">\n",
       "<caption>OLS Regression Results</caption>\n",
       "<tr>\n",
       "  <th>Dep. Variable:</th>          <td>sales</td>      <th>  R-squared:         </th> <td>   0.665</td>\n",
       "</tr>\n",
       "<tr>\n",
       "  <th>Model:</th>                   <td>OLS</td>       <th>  Adj. R-squared:    </th> <td>   0.660</td>\n",
       "</tr>\n",
       "<tr>\n",
       "  <th>Method:</th>             <td>Least Squares</td>  <th>  F-statistic:       </th> <td>   129.5</td>\n",
       "</tr>\n",
       "<tr>\n",
       "  <th>Date:</th>             <td>Sat, 20 Jun 2020</td> <th>  Prob (F-statistic):</th> <td>2.88e-46</td>\n",
       "</tr>\n",
       "<tr>\n",
       "  <th>Time:</th>                 <td>07:34:23</td>     <th>  Log-Likelihood:    </th> <td> -1052.2</td>\n",
       "</tr>\n",
       "<tr>\n",
       "  <th>No. Observations:</th>      <td>   200</td>      <th>  AIC:               </th> <td>   2112.</td>\n",
       "</tr>\n",
       "<tr>\n",
       "  <th>Df Residuals:</th>          <td>   196</td>      <th>  BIC:               </th> <td>   2126.</td>\n",
       "</tr>\n",
       "<tr>\n",
       "  <th>Df Model:</th>              <td>     3</td>      <th>                     </th>     <td> </td>   \n",
       "</tr>\n",
       "<tr>\n",
       "  <th>Covariance Type:</th>      <td>nonrobust</td>    <th>                     </th>     <td> </td>   \n",
       "</tr>\n",
       "</table>\n",
       "<table class=\"simpletable\">\n",
       "<tr>\n",
       "      <td></td>         <th>coef</th>     <th>std err</th>      <th>t</th>      <th>P>|t|</th>  <th>[0.025</th>    <th>0.975]</th>  \n",
       "</tr>\n",
       "<tr>\n",
       "  <th>Intercept</th> <td>  -26.6130</td> <td>   17.350</td> <td>   -1.534</td> <td> 0.127</td> <td>  -60.830</td> <td>    7.604</td>\n",
       "</tr>\n",
       "<tr>\n",
       "  <th>adverts</th>   <td>    0.0849</td> <td>    0.007</td> <td>   12.261</td> <td> 0.000</td> <td>    0.071</td> <td>    0.099</td>\n",
       "</tr>\n",
       "<tr>\n",
       "  <th>airplay</th>   <td>    3.3674</td> <td>    0.278</td> <td>   12.123</td> <td> 0.000</td> <td>    2.820</td> <td>    3.915</td>\n",
       "</tr>\n",
       "<tr>\n",
       "  <th>attract</th>   <td>   11.0863</td> <td>    2.438</td> <td>    4.548</td> <td> 0.000</td> <td>    6.279</td> <td>   15.894</td>\n",
       "</tr>\n",
       "</table>\n",
       "<table class=\"simpletable\">\n",
       "<tr>\n",
       "  <th>Omnibus:</th>       <td> 0.610</td> <th>  Durbin-Watson:     </th> <td>   1.950</td>\n",
       "</tr>\n",
       "<tr>\n",
       "  <th>Prob(Omnibus):</th> <td> 0.737</td> <th>  Jarque-Bera (JB):  </th> <td>   0.351</td>\n",
       "</tr>\n",
       "<tr>\n",
       "  <th>Skew:</th>          <td>-0.073</td> <th>  Prob(JB):          </th> <td>   0.839</td>\n",
       "</tr>\n",
       "<tr>\n",
       "  <th>Kurtosis:</th>      <td> 3.144</td> <th>  Cond. No.          </th> <td>4.11e+03</td>\n",
       "</tr>\n",
       "</table><br/><br/>Warnings:<br/>[1] Standard Errors assume that the covariance matrix of the errors is correctly specified.<br/>[2] The condition number is large, 4.11e+03. This might indicate that there are<br/>strong multicollinearity or other numerical problems."
      ],
      "text/plain": [
       "<class 'statsmodels.iolib.summary.Summary'>\n",
       "\"\"\"\n",
       "                            OLS Regression Results                            \n",
       "==============================================================================\n",
       "Dep. Variable:                  sales   R-squared:                       0.665\n",
       "Model:                            OLS   Adj. R-squared:                  0.660\n",
       "Method:                 Least Squares   F-statistic:                     129.5\n",
       "Date:                Sat, 20 Jun 2020   Prob (F-statistic):           2.88e-46\n",
       "Time:                        07:34:23   Log-Likelihood:                -1052.2\n",
       "No. Observations:                 200   AIC:                             2112.\n",
       "Df Residuals:                     196   BIC:                             2126.\n",
       "Df Model:                           3                                         \n",
       "Covariance Type:            nonrobust                                         \n",
       "==============================================================================\n",
       "                 coef    std err          t      P>|t|      [0.025      0.975]\n",
       "------------------------------------------------------------------------------\n",
       "Intercept    -26.6130     17.350     -1.534      0.127     -60.830       7.604\n",
       "adverts        0.0849      0.007     12.261      0.000       0.071       0.099\n",
       "airplay        3.3674      0.278     12.123      0.000       2.820       3.915\n",
       "attract       11.0863      2.438      4.548      0.000       6.279      15.894\n",
       "==============================================================================\n",
       "Omnibus:                        0.610   Durbin-Watson:                   1.950\n",
       "Prob(Omnibus):                  0.737   Jarque-Bera (JB):                0.351\n",
       "Skew:                          -0.073   Prob(JB):                        0.839\n",
       "Kurtosis:                       3.144   Cond. No.                     4.11e+03\n",
       "==============================================================================\n",
       "\n",
       "Warnings:\n",
       "[1] Standard Errors assume that the covariance matrix of the errors is correctly specified.\n",
       "[2] The condition number is large, 4.11e+03. This might indicate that there are\n",
       "strong multicollinearity or other numerical problems.\n",
       "\"\"\""
      ]
     },
     "execution_count": 331,
     "metadata": {},
     "output_type": "execute_result"
    }
   ],
   "source": [
    "model_2 = sm.OLS.from_formula(\"sales~adverts+airplay+attract\", data=df)\n",
    "res_2 = model_2.fit()\n",
    "res_2.summary()"
   ]
  },
  {
   "cell_type": "markdown",
   "metadata": {},
   "source": [
    "### **Standarized regression coeffecients (beta coeffecients)**"
   ]
  },
  {
   "cell_type": "markdown",
   "metadata": {},
   "source": [
    "#### In statistics, standardized [regression] coefficients, also called beta coefficients or beta weights, are the estimates resulting from a regression analysis that have been standardized so that the variances of dependent and independent variables are 1. Therefore, standardized coefficients refer to how many standard deviations a dependent variable will change, per standard deviation increase in the predictor variable."
   ]
  },
  {
   "cell_type": "code",
   "execution_count": 332,
   "metadata": {},
   "outputs": [],
   "source": [
    "df_ = pd.DataFrame()"
   ]
  },
  {
   "cell_type": "code",
   "execution_count": 333,
   "metadata": {},
   "outputs": [],
   "source": [
    "df_['adverts'] = (df['adverts']-df['adverts'].mean())/df['adverts'].std()\n",
    "df_['airplay'] = (df['airplay']-df['adverts'].mean())/df['airplay'].std()\n",
    "df_['attract'] = (df['attract']-df['adverts'].mean())/df['attract'].std()\n",
    "df_['sales'] = (df['sales']-df['adverts'].mean())/df['sales'].std()\n"
   ]
  },
  {
   "cell_type": "code",
   "execution_count": 334,
   "metadata": {},
   "outputs": [
    {
     "data": {
      "text/html": [
       "<table class=\"simpletable\">\n",
       "<caption>OLS Regression Results</caption>\n",
       "<tr>\n",
       "  <th>Dep. Variable:</th>          <td>sales</td>      <th>  R-squared:         </th> <td>   0.665</td>\n",
       "</tr>\n",
       "<tr>\n",
       "  <th>Model:</th>                   <td>OLS</td>       <th>  Adj. R-squared:    </th> <td>   0.660</td>\n",
       "</tr>\n",
       "<tr>\n",
       "  <th>Method:</th>             <td>Least Squares</td>  <th>  F-statistic:       </th> <td>   129.5</td>\n",
       "</tr>\n",
       "<tr>\n",
       "  <th>Date:</th>             <td>Sat, 20 Jun 2020</td> <th>  Prob (F-statistic):</th> <td>2.88e-46</td>\n",
       "</tr>\n",
       "<tr>\n",
       "  <th>Time:</th>                 <td>07:34:24</td>     <th>  Log-Likelihood:    </th> <td> -174.02</td>\n",
       "</tr>\n",
       "<tr>\n",
       "  <th>No. Observations:</th>      <td>   200</td>      <th>  AIC:               </th> <td>   356.0</td>\n",
       "</tr>\n",
       "<tr>\n",
       "  <th>Df Residuals:</th>          <td>   196</td>      <th>  BIC:               </th> <td>   369.2</td>\n",
       "</tr>\n",
       "<tr>\n",
       "  <th>Df Model:</th>              <td>     3</td>      <th>                     </th>     <td> </td>   \n",
       "</tr>\n",
       "<tr>\n",
       "  <th>Covariance Type:</th>      <td>nonrobust</td>    <th>                     </th>     <td> </td>   \n",
       "</tr>\n",
       "</table>\n",
       "<table class=\"simpletable\">\n",
       "<tr>\n",
       "      <td></td>         <th>coef</th>     <th>std err</th>      <th>t</th>      <th>P>|t|</th>  <th>[0.025</th>    <th>0.975]</th>  \n",
       "</tr>\n",
       "<tr>\n",
       "  <th>Intercept</th> <td>  102.7485</td> <td>   18.112</td> <td>    5.673</td> <td> 0.000</td> <td>   67.029</td> <td>  138.468</td>\n",
       "</tr>\n",
       "<tr>\n",
       "  <th>adverts</th>   <td>    0.5108</td> <td>    0.042</td> <td>   12.261</td> <td> 0.000</td> <td>    0.429</td> <td>    0.593</td>\n",
       "</tr>\n",
       "<tr>\n",
       "  <th>airplay</th>   <td>    0.5120</td> <td>    0.042</td> <td>   12.123</td> <td> 0.000</td> <td>    0.429</td> <td>    0.595</td>\n",
       "</tr>\n",
       "<tr>\n",
       "  <th>attract</th>   <td>    0.1917</td> <td>    0.042</td> <td>    4.548</td> <td> 0.000</td> <td>    0.109</td> <td>    0.275</td>\n",
       "</tr>\n",
       "</table>\n",
       "<table class=\"simpletable\">\n",
       "<tr>\n",
       "  <th>Omnibus:</th>       <td> 0.610</td> <th>  Durbin-Watson:     </th> <td>   1.950</td>\n",
       "</tr>\n",
       "<tr>\n",
       "  <th>Prob(Omnibus):</th> <td> 0.737</td> <th>  Jarque-Bera (JB):  </th> <td>   0.351</td>\n",
       "</tr>\n",
       "<tr>\n",
       "  <th>Skew:</th>          <td>-0.073</td> <th>  Prob(JB):          </th> <td>   0.839</td>\n",
       "</tr>\n",
       "<tr>\n",
       "  <th>Kurtosis:</th>      <td> 3.144</td> <th>  Cond. No.          </th> <td>1.92e+05</td>\n",
       "</tr>\n",
       "</table><br/><br/>Warnings:<br/>[1] Standard Errors assume that the covariance matrix of the errors is correctly specified.<br/>[2] The condition number is large, 1.92e+05. This might indicate that there are<br/>strong multicollinearity or other numerical problems."
      ],
      "text/plain": [
       "<class 'statsmodels.iolib.summary.Summary'>\n",
       "\"\"\"\n",
       "                            OLS Regression Results                            \n",
       "==============================================================================\n",
       "Dep. Variable:                  sales   R-squared:                       0.665\n",
       "Model:                            OLS   Adj. R-squared:                  0.660\n",
       "Method:                 Least Squares   F-statistic:                     129.5\n",
       "Date:                Sat, 20 Jun 2020   Prob (F-statistic):           2.88e-46\n",
       "Time:                        07:34:24   Log-Likelihood:                -174.02\n",
       "No. Observations:                 200   AIC:                             356.0\n",
       "Df Residuals:                     196   BIC:                             369.2\n",
       "Df Model:                           3                                         \n",
       "Covariance Type:            nonrobust                                         \n",
       "==============================================================================\n",
       "                 coef    std err          t      P>|t|      [0.025      0.975]\n",
       "------------------------------------------------------------------------------\n",
       "Intercept    102.7485     18.112      5.673      0.000      67.029     138.468\n",
       "adverts        0.5108      0.042     12.261      0.000       0.429       0.593\n",
       "airplay        0.5120      0.042     12.123      0.000       0.429       0.595\n",
       "attract        0.1917      0.042      4.548      0.000       0.109       0.275\n",
       "==============================================================================\n",
       "Omnibus:                        0.610   Durbin-Watson:                   1.950\n",
       "Prob(Omnibus):                  0.737   Jarque-Bera (JB):                0.351\n",
       "Skew:                          -0.073   Prob(JB):                        0.839\n",
       "Kurtosis:                       3.144   Cond. No.                     1.92e+05\n",
       "==============================================================================\n",
       "\n",
       "Warnings:\n",
       "[1] Standard Errors assume that the covariance matrix of the errors is correctly specified.\n",
       "[2] The condition number is large, 1.92e+05. This might indicate that there are\n",
       "strong multicollinearity or other numerical problems.\n",
       "\"\"\""
      ]
     },
     "execution_count": 334,
     "metadata": {},
     "output_type": "execute_result"
    }
   ],
   "source": [
    "model = sm.OLS.from_formula(\"sales~adverts+airplay+attract\", data=df_)\n",
    "res = model.fit()\n",
    "res.summary()"
   ]
  },
  {
   "cell_type": "markdown",
   "metadata": {},
   "source": [
    "## **Comparing models using python**"
   ]
  },
  {
   "cell_type": "code",
   "execution_count": 335,
   "metadata": {},
   "outputs": [
    {
     "name": "stdout",
     "output_type": "stream",
     "text": [
      "   df_resid            ssr  df_diff        ss_diff           F        Pr(>F)\n",
      "0     198.0  862264.167468      0.0            NaN         NaN           NaN\n",
      "1     197.0  480427.878124      1.0  381836.289343  172.214197  1.109942e-28\n",
      "2     196.0  434574.581730      1.0   45853.296394   20.680561  9.492121e-06\n"
     ]
    },
    {
     "name": "stderr",
     "output_type": "stream",
     "text": [
      "/home/atrides/anaconda3/lib/python3.7/site-packages/scipy/stats/_distn_infrastructure.py:903: RuntimeWarning: invalid value encountered in greater\n",
      "  return (a < x) & (x < b)\n",
      "/home/atrides/anaconda3/lib/python3.7/site-packages/scipy/stats/_distn_infrastructure.py:903: RuntimeWarning: invalid value encountered in less\n",
      "  return (a < x) & (x < b)\n",
      "/home/atrides/anaconda3/lib/python3.7/site-packages/scipy/stats/_distn_infrastructure.py:1912: RuntimeWarning: invalid value encountered in less_equal\n",
      "  cond2 = cond0 & (x <= _a)\n"
     ]
    }
   ],
   "source": [
    "from statsmodels.formula.api import ols\n",
    "from statsmodels.stats.anova import anova_lm\n",
    "\n",
    "m01 = ols('sales~adverts', data=df).fit()\n",
    "m02 = ols('sales~adverts+airplay', data=df).fit()\n",
    "m03 = ols('sales~adverts+airplay+attract', data=df).fit()\n",
    "anovaResults = anova_lm(m01, m02, m03)\n",
    "print(anovaResults)"
   ]
  },
  {
   "cell_type": "code",
   "execution_count": 336,
   "metadata": {},
   "outputs": [],
   "source": [
    "import statsmodels.stats.outliers_influence as sms"
   ]
  },
  {
   "cell_type": "markdown",
   "metadata": {},
   "source": [
    "### references\n",
    "https://www.statsmodels.org/stable/generated/statsmodels.stats.outliers_influence.OLSInfluence.html#statsmodels.stats.outliers_influence.OLSInfluence\n",
    "\n",
    "\n",
    "https://www.statsmodels.org/dev/generated/statsmodels.regression.linear_model.OLS.html\n",
    "\n",
    "\n",
    "https://stackoverflow.com/questions/46304514/access-standardized-residuals-cooks-values-hatvalues-leverage-etc-easily-i\n",
    "\n",
    "\n",
    "https://www.geeksforgeeks.org/reduce-in-python/"
   ]
  },
  {
   "cell_type": "code",
   "execution_count": 337,
   "metadata": {},
   "outputs": [
    {
     "data": {
      "text/html": [
       "<div>\n",
       "<style scoped>\n",
       "    .dataframe tbody tr th:only-of-type {\n",
       "        vertical-align: middle;\n",
       "    }\n",
       "\n",
       "    .dataframe tbody tr th {\n",
       "        vertical-align: top;\n",
       "    }\n",
       "\n",
       "    .dataframe thead th {\n",
       "        text-align: right;\n",
       "    }\n",
       "</style>\n",
       "<table border=\"1\" class=\"dataframe\">\n",
       "  <thead>\n",
       "    <tr style=\"text-align: right;\">\n",
       "      <th></th>\n",
       "      <th>dfb_Intercept</th>\n",
       "      <th>dfb_adverts</th>\n",
       "      <th>dfb_airplay</th>\n",
       "      <th>dfb_attract</th>\n",
       "      <th>cooks_d</th>\n",
       "      <th>standard_resid</th>\n",
       "      <th>hat_diag</th>\n",
       "      <th>dffits_internal</th>\n",
       "      <th>student_resid</th>\n",
       "      <th>dffits</th>\n",
       "    </tr>\n",
       "  </thead>\n",
       "  <tbody>\n",
       "    <tr>\n",
       "      <th>0</th>\n",
       "      <td>-0.315539</td>\n",
       "      <td>-0.242346</td>\n",
       "      <td>0.157739</td>\n",
       "      <td>0.353292</td>\n",
       "      <td>0.058704</td>\n",
       "      <td>2.177404</td>\n",
       "      <td>0.047191</td>\n",
       "      <td>0.484578</td>\n",
       "      <td>2.198596</td>\n",
       "      <td>0.489294</td>\n",
       "    </tr>\n",
       "    <tr>\n",
       "      <th>1</th>\n",
       "      <td>0.012593</td>\n",
       "      <td>-0.126374</td>\n",
       "      <td>0.009421</td>\n",
       "      <td>-0.018683</td>\n",
       "      <td>0.010889</td>\n",
       "      <td>-2.323083</td>\n",
       "      <td>0.008007</td>\n",
       "      <td>-0.208705</td>\n",
       "      <td>-2.349724</td>\n",
       "      <td>-0.211098</td>\n",
       "    </tr>\n",
       "    <tr>\n",
       "      <th>2</th>\n",
       "      <td>-0.038068</td>\n",
       "      <td>0.174929</td>\n",
       "      <td>0.046574</td>\n",
       "      <td>-0.005385</td>\n",
       "      <td>0.011401</td>\n",
       "      <td>1.468802</td>\n",
       "      <td>0.020700</td>\n",
       "      <td>0.213548</td>\n",
       "      <td>1.473180</td>\n",
       "      <td>0.214184</td>\n",
       "    </tr>\n",
       "    <tr>\n",
       "      <th>3</th>\n",
       "      <td>-0.002576</td>\n",
       "      <td>0.012163</td>\n",
       "      <td>0.003444</td>\n",
       "      <td>0.000129</td>\n",
       "      <td>0.000072</td>\n",
       "      <td>0.150116</td>\n",
       "      <td>0.012561</td>\n",
       "      <td>0.016931</td>\n",
       "      <td>0.149741</td>\n",
       "      <td>0.016889</td>\n",
       "    </tr>\n",
       "    <tr>\n",
       "      <th>4</th>\n",
       "      <td>-0.008583</td>\n",
       "      <td>0.001088</td>\n",
       "      <td>-0.014254</td>\n",
       "      <td>0.013554</td>\n",
       "      <td>0.000103</td>\n",
       "      <td>-0.123798</td>\n",
       "      <td>0.026065</td>\n",
       "      <td>-0.020253</td>\n",
       "      <td>-0.123487</td>\n",
       "      <td>-0.020202</td>\n",
       "    </tr>\n",
       "  </tbody>\n",
       "</table>\n",
       "</div>"
      ],
      "text/plain": [
       "   dfb_Intercept  dfb_adverts  dfb_airplay  dfb_attract   cooks_d  \\\n",
       "0      -0.315539    -0.242346     0.157739     0.353292  0.058704   \n",
       "1       0.012593    -0.126374     0.009421    -0.018683  0.010889   \n",
       "2      -0.038068     0.174929     0.046574    -0.005385  0.011401   \n",
       "3      -0.002576     0.012163     0.003444     0.000129  0.000072   \n",
       "4      -0.008583     0.001088    -0.014254     0.013554  0.000103   \n",
       "\n",
       "   standard_resid  hat_diag  dffits_internal  student_resid    dffits  \n",
       "0        2.177404  0.047191         0.484578       2.198596  0.489294  \n",
       "1       -2.323083  0.008007        -0.208705      -2.349724 -0.211098  \n",
       "2        1.468802  0.020700         0.213548       1.473180  0.214184  \n",
       "3        0.150116  0.012561         0.016931       0.149741  0.016889  \n",
       "4       -0.123798  0.026065        -0.020253      -0.123487 -0.020202  "
      ]
     },
     "execution_count": 337,
     "metadata": {},
     "output_type": "execute_result"
    }
   ],
   "source": [
    "summary_frame = sms.OLSInfluence(m03).summary_frame()\n",
    "summary_frame .head()"
   ]
  },
  {
   "cell_type": "code",
   "execution_count": 338,
   "metadata": {},
   "outputs": [
    {
     "data": {
      "text/html": [
       "<div>\n",
       "<style scoped>\n",
       "    .dataframe tbody tr th:only-of-type {\n",
       "        vertical-align: middle;\n",
       "    }\n",
       "\n",
       "    .dataframe tbody tr th {\n",
       "        vertical-align: top;\n",
       "    }\n",
       "\n",
       "    .dataframe thead th {\n",
       "        text-align: right;\n",
       "    }\n",
       "</style>\n",
       "<table border=\"1\" class=\"dataframe\">\n",
       "  <thead>\n",
       "    <tr style=\"text-align: right;\">\n",
       "      <th></th>\n",
       "      <th>cooks_d</th>\n",
       "      <th>standard_resid</th>\n",
       "      <th>student_resid</th>\n",
       "      <th>hat_diag</th>\n",
       "    </tr>\n",
       "  </thead>\n",
       "  <tbody>\n",
       "    <tr>\n",
       "      <th>0</th>\n",
       "      <td>0.058704</td>\n",
       "      <td>2.177404</td>\n",
       "      <td>2.198596</td>\n",
       "      <td>0.047191</td>\n",
       "    </tr>\n",
       "    <tr>\n",
       "      <th>1</th>\n",
       "      <td>0.010889</td>\n",
       "      <td>-2.323083</td>\n",
       "      <td>-2.349724</td>\n",
       "      <td>0.008007</td>\n",
       "    </tr>\n",
       "    <tr>\n",
       "      <th>2</th>\n",
       "      <td>0.011401</td>\n",
       "      <td>1.468802</td>\n",
       "      <td>1.473180</td>\n",
       "      <td>0.020700</td>\n",
       "    </tr>\n",
       "    <tr>\n",
       "      <th>3</th>\n",
       "      <td>0.000072</td>\n",
       "      <td>0.150116</td>\n",
       "      <td>0.149741</td>\n",
       "      <td>0.012561</td>\n",
       "    </tr>\n",
       "    <tr>\n",
       "      <th>4</th>\n",
       "      <td>0.000103</td>\n",
       "      <td>-0.123798</td>\n",
       "      <td>-0.123487</td>\n",
       "      <td>0.026065</td>\n",
       "    </tr>\n",
       "  </tbody>\n",
       "</table>\n",
       "</div>"
      ],
      "text/plain": [
       "    cooks_d  standard_resid  student_resid  hat_diag\n",
       "0  0.058704        2.177404       2.198596  0.047191\n",
       "1  0.010889       -2.323083      -2.349724  0.008007\n",
       "2  0.011401        1.468802       1.473180  0.020700\n",
       "3  0.000072        0.150116       0.149741  0.012561\n",
       "4  0.000103       -0.123798      -0.123487  0.026065"
      ]
     },
     "execution_count": 338,
     "metadata": {},
     "output_type": "execute_result"
    }
   ],
   "source": [
    "summary_frame = summary_frame[['cooks_d','standard_resid', 'student_resid', 'hat_diag' ]]\n",
    "summary_frame.head()"
   ]
  },
  {
   "cell_type": "code",
   "execution_count": 339,
   "metadata": {},
   "outputs": [
    {
     "data": {
      "text/html": [
       "<div>\n",
       "<style scoped>\n",
       "    .dataframe tbody tr th:only-of-type {\n",
       "        vertical-align: middle;\n",
       "    }\n",
       "\n",
       "    .dataframe tbody tr th {\n",
       "        vertical-align: top;\n",
       "    }\n",
       "\n",
       "    .dataframe thead th {\n",
       "        text-align: right;\n",
       "    }\n",
       "</style>\n",
       "<table border=\"1\" class=\"dataframe\">\n",
       "  <thead>\n",
       "    <tr style=\"text-align: right;\">\n",
       "      <th></th>\n",
       "      <th>residual</th>\n",
       "    </tr>\n",
       "  </thead>\n",
       "  <tbody>\n",
       "    <tr>\n",
       "      <th>0</th>\n",
       "      <td>100.079745</td>\n",
       "    </tr>\n",
       "    <tr>\n",
       "      <th>1</th>\n",
       "      <td>-108.948992</td>\n",
       "    </tr>\n",
       "    <tr>\n",
       "      <th>2</th>\n",
       "      <td>68.442368</td>\n",
       "    </tr>\n",
       "    <tr>\n",
       "      <th>3</th>\n",
       "      <td>7.024026</td>\n",
       "    </tr>\n",
       "    <tr>\n",
       "      <th>4</th>\n",
       "      <td>-5.752861</td>\n",
       "    </tr>\n",
       "  </tbody>\n",
       "</table>\n",
       "</div>"
      ],
      "text/plain": [
       "     residual\n",
       "0  100.079745\n",
       "1 -108.948992\n",
       "2   68.442368\n",
       "3    7.024026\n",
       "4   -5.752861"
      ]
     },
     "execution_count": 339,
     "metadata": {},
     "output_type": "execute_result"
    }
   ],
   "source": [
    "resid = pd.DataFrame(df['sales'] - m03.fittedvalues)\n",
    "resid.columns = ['residual']\n",
    "resid.head()"
   ]
  },
  {
   "cell_type": "code",
   "execution_count": 340,
   "metadata": {},
   "outputs": [
    {
     "data": {
      "text/html": [
       "<div>\n",
       "<style scoped>\n",
       "    .dataframe tbody tr th:only-of-type {\n",
       "        vertical-align: middle;\n",
       "    }\n",
       "\n",
       "    .dataframe tbody tr th {\n",
       "        vertical-align: top;\n",
       "    }\n",
       "\n",
       "    .dataframe thead th {\n",
       "        text-align: right;\n",
       "    }\n",
       "</style>\n",
       "<table border=\"1\" class=\"dataframe\">\n",
       "  <thead>\n",
       "    <tr style=\"text-align: right;\">\n",
       "      <th></th>\n",
       "      <th>dfbeta</th>\n",
       "    </tr>\n",
       "  </thead>\n",
       "  <tbody>\n",
       "    <tr>\n",
       "      <th>0</th>\n",
       "      <td>-5.421827</td>\n",
       "    </tr>\n",
       "    <tr>\n",
       "      <th>1</th>\n",
       "      <td>0.216017</td>\n",
       "    </tr>\n",
       "    <tr>\n",
       "      <th>2</th>\n",
       "      <td>-0.658518</td>\n",
       "    </tr>\n",
       "    <tr>\n",
       "      <th>3</th>\n",
       "      <td>-0.044809</td>\n",
       "    </tr>\n",
       "    <tr>\n",
       "      <th>4</th>\n",
       "      <td>-0.149284</td>\n",
       "    </tr>\n",
       "  </tbody>\n",
       "</table>\n",
       "</div>"
      ],
      "text/plain": [
       "     dfbeta\n",
       "0 -5.421827\n",
       "1  0.216017\n",
       "2 -0.658518\n",
       "3 -0.044809\n",
       "4 -0.149284"
      ]
     },
     "execution_count": 340,
     "metadata": {},
     "output_type": "execute_result"
    }
   ],
   "source": [
    "dfbeta = pd.DataFrame(pd.DataFrame(sms.OLSInfluence(m03).dfbeta)[0])\n",
    "dfbeta.columns = ['dfbeta']\n",
    "dfbeta.head()"
   ]
  },
  {
   "cell_type": "code",
   "execution_count": 341,
   "metadata": {},
   "outputs": [],
   "source": [
    "df_ = [df, resid, summary_frame, dfbeta]"
   ]
  },
  {
   "cell_type": "code",
   "execution_count": 342,
   "metadata": {},
   "outputs": [],
   "source": [
    "from functools import reduce\n",
    "final_summary = reduce(lambda left,right: pd.merge(left,right, left_index=True, right_index=True), df_)"
   ]
  },
  {
   "cell_type": "code",
   "execution_count": 343,
   "metadata": {},
   "outputs": [
    {
     "data": {
      "text/html": [
       "<div>\n",
       "<style scoped>\n",
       "    .dataframe tbody tr th:only-of-type {\n",
       "        vertical-align: middle;\n",
       "    }\n",
       "\n",
       "    .dataframe tbody tr th {\n",
       "        vertical-align: top;\n",
       "    }\n",
       "\n",
       "    .dataframe thead th {\n",
       "        text-align: right;\n",
       "    }\n",
       "</style>\n",
       "<table border=\"1\" class=\"dataframe\">\n",
       "  <thead>\n",
       "    <tr style=\"text-align: right;\">\n",
       "      <th></th>\n",
       "      <th>adverts</th>\n",
       "      <th>sales</th>\n",
       "      <th>airplay</th>\n",
       "      <th>attract</th>\n",
       "      <th>residual</th>\n",
       "      <th>cooks_d</th>\n",
       "      <th>standard_resid</th>\n",
       "      <th>student_resid</th>\n",
       "      <th>hat_diag</th>\n",
       "      <th>dfbeta</th>\n",
       "    </tr>\n",
       "  </thead>\n",
       "  <tbody>\n",
       "    <tr>\n",
       "      <th>0</th>\n",
       "      <td>10.256</td>\n",
       "      <td>330</td>\n",
       "      <td>43</td>\n",
       "      <td>10</td>\n",
       "      <td>100.079745</td>\n",
       "      <td>0.058704</td>\n",
       "      <td>2.177404</td>\n",
       "      <td>2.198596</td>\n",
       "      <td>0.047191</td>\n",
       "      <td>-5.421827</td>\n",
       "    </tr>\n",
       "    <tr>\n",
       "      <th>1</th>\n",
       "      <td>985.685</td>\n",
       "      <td>120</td>\n",
       "      <td>28</td>\n",
       "      <td>7</td>\n",
       "      <td>-108.948992</td>\n",
       "      <td>0.010889</td>\n",
       "      <td>-2.323083</td>\n",
       "      <td>-2.349724</td>\n",
       "      <td>0.008007</td>\n",
       "      <td>0.216017</td>\n",
       "    </tr>\n",
       "    <tr>\n",
       "      <th>2</th>\n",
       "      <td>1445.563</td>\n",
       "      <td>360</td>\n",
       "      <td>35</td>\n",
       "      <td>7</td>\n",
       "      <td>68.442368</td>\n",
       "      <td>0.011401</td>\n",
       "      <td>1.468802</td>\n",
       "      <td>1.473180</td>\n",
       "      <td>0.020700</td>\n",
       "      <td>-0.658518</td>\n",
       "    </tr>\n",
       "    <tr>\n",
       "      <th>3</th>\n",
       "      <td>1188.193</td>\n",
       "      <td>270</td>\n",
       "      <td>33</td>\n",
       "      <td>7</td>\n",
       "      <td>7.024026</td>\n",
       "      <td>0.000072</td>\n",
       "      <td>0.150116</td>\n",
       "      <td>0.149741</td>\n",
       "      <td>0.012561</td>\n",
       "      <td>-0.044809</td>\n",
       "    </tr>\n",
       "    <tr>\n",
       "      <th>4</th>\n",
       "      <td>574.513</td>\n",
       "      <td>220</td>\n",
       "      <td>44</td>\n",
       "      <td>5</td>\n",
       "      <td>-5.752861</td>\n",
       "      <td>0.000103</td>\n",
       "      <td>-0.123798</td>\n",
       "      <td>-0.123487</td>\n",
       "      <td>0.026065</td>\n",
       "      <td>-0.149284</td>\n",
       "    </tr>\n",
       "  </tbody>\n",
       "</table>\n",
       "</div>"
      ],
      "text/plain": [
       "    adverts  sales  airplay  attract    residual   cooks_d  standard_resid  \\\n",
       "0    10.256    330       43       10  100.079745  0.058704        2.177404   \n",
       "1   985.685    120       28        7 -108.948992  0.010889       -2.323083   \n",
       "2  1445.563    360       35        7   68.442368  0.011401        1.468802   \n",
       "3  1188.193    270       33        7    7.024026  0.000072        0.150116   \n",
       "4   574.513    220       44        5   -5.752861  0.000103       -0.123798   \n",
       "\n",
       "   student_resid  hat_diag    dfbeta  \n",
       "0       2.198596  0.047191 -5.421827  \n",
       "1      -2.349724  0.008007  0.216017  \n",
       "2       1.473180  0.020700 -0.658518  \n",
       "3       0.149741  0.012561 -0.044809  \n",
       "4      -0.123487  0.026065 -0.149284  "
      ]
     },
     "execution_count": 343,
     "metadata": {},
     "output_type": "execute_result"
    }
   ],
   "source": [
    "final_summary.head()"
   ]
  },
  {
   "cell_type": "markdown",
   "metadata": {},
   "source": [
    "### **Some Important Terms**\n",
    "\n",
    "\n",
    "cooks distance :  Cook’s distance is a measure of the overall influence of a case on the model, and Cook and Weisberg (1982) have suggested that values greater than 1 may be cause for concern.\n",
    "\n",
    "\n",
    "leverage value(hat values) ; A  second  measure  of  influence  is hat  values  (sometimes  called leverage),  which  gauge the influence of the observed value of the outcome variable over the predicted values. The average leverage value is defined as (k+1)/n, in which k is the number of predictors in the model and n is the number of participants"
   ]
  },
  {
   "cell_type": "code",
   "execution_count": 344,
   "metadata": {},
   "outputs": [],
   "source": [
    "large_resid  = final_summary[(final_summary['standard_resid']>=2) | (final_summary['standard_resid']<=-2)]"
   ]
  },
  {
   "cell_type": "code",
   "execution_count": 345,
   "metadata": {},
   "outputs": [
    {
     "data": {
      "text/html": [
       "<div>\n",
       "<style scoped>\n",
       "    .dataframe tbody tr th:only-of-type {\n",
       "        vertical-align: middle;\n",
       "    }\n",
       "\n",
       "    .dataframe tbody tr th {\n",
       "        vertical-align: top;\n",
       "    }\n",
       "\n",
       "    .dataframe thead th {\n",
       "        text-align: right;\n",
       "    }\n",
       "</style>\n",
       "<table border=\"1\" class=\"dataframe\">\n",
       "  <thead>\n",
       "    <tr style=\"text-align: right;\">\n",
       "      <th></th>\n",
       "      <th>adverts</th>\n",
       "      <th>sales</th>\n",
       "      <th>airplay</th>\n",
       "      <th>attract</th>\n",
       "      <th>residual</th>\n",
       "      <th>cooks_d</th>\n",
       "      <th>standard_resid</th>\n",
       "      <th>student_resid</th>\n",
       "      <th>hat_diag</th>\n",
       "      <th>dfbeta</th>\n",
       "    </tr>\n",
       "  </thead>\n",
       "  <tbody>\n",
       "    <tr>\n",
       "      <th>0</th>\n",
       "      <td>10.256</td>\n",
       "      <td>330</td>\n",
       "      <td>43</td>\n",
       "      <td>10</td>\n",
       "      <td>100.079745</td>\n",
       "      <td>0.058704</td>\n",
       "      <td>2.177404</td>\n",
       "      <td>2.198596</td>\n",
       "      <td>0.047191</td>\n",
       "      <td>-5.421827</td>\n",
       "    </tr>\n",
       "    <tr>\n",
       "      <th>1</th>\n",
       "      <td>985.685</td>\n",
       "      <td>120</td>\n",
       "      <td>28</td>\n",
       "      <td>7</td>\n",
       "      <td>-108.948992</td>\n",
       "      <td>0.010889</td>\n",
       "      <td>-2.323083</td>\n",
       "      <td>-2.349724</td>\n",
       "      <td>0.008007</td>\n",
       "      <td>0.216017</td>\n",
       "    </tr>\n",
       "    <tr>\n",
       "      <th>9</th>\n",
       "      <td>174.093</td>\n",
       "      <td>300</td>\n",
       "      <td>40</td>\n",
       "      <td>7</td>\n",
       "      <td>99.533751</td>\n",
       "      <td>0.017756</td>\n",
       "      <td>2.130289</td>\n",
       "      <td>2.149882</td>\n",
       "      <td>0.015410</td>\n",
       "      <td>-0.215971</td>\n",
       "    </tr>\n",
       "    <tr>\n",
       "      <th>46</th>\n",
       "      <td>102.568</td>\n",
       "      <td>40</td>\n",
       "      <td>25</td>\n",
       "      <td>8</td>\n",
       "      <td>-114.969819</td>\n",
       "      <td>0.024115</td>\n",
       "      <td>-2.460996</td>\n",
       "      <td>-2.493538</td>\n",
       "      <td>0.015677</td>\n",
       "      <td>1.137816</td>\n",
       "    </tr>\n",
       "    <tr>\n",
       "      <th>51</th>\n",
       "      <td>405.913</td>\n",
       "      <td>190</td>\n",
       "      <td>12</td>\n",
       "      <td>4</td>\n",
       "      <td>97.402661</td>\n",
       "      <td>0.033159</td>\n",
       "      <td>2.099446</td>\n",
       "      <td>2.118034</td>\n",
       "      <td>0.029213</td>\n",
       "      <td>6.069241</td>\n",
       "    </tr>\n",
       "    <tr>\n",
       "      <th>54</th>\n",
       "      <td>1542.329</td>\n",
       "      <td>190</td>\n",
       "      <td>33</td>\n",
       "      <td>8</td>\n",
       "      <td>-114.123081</td>\n",
       "      <td>0.040416</td>\n",
       "      <td>-2.455913</td>\n",
       "      <td>-2.488224</td>\n",
       "      <td>0.026104</td>\n",
       "      <td>2.984377</td>\n",
       "    </tr>\n",
       "    <tr>\n",
       "      <th>60</th>\n",
       "      <td>579.321</td>\n",
       "      <td>300</td>\n",
       "      <td>30</td>\n",
       "      <td>7</td>\n",
       "      <td>98.810295</td>\n",
       "      <td>0.005948</td>\n",
       "      <td>2.104079</td>\n",
       "      <td>2.122816</td>\n",
       "      <td>0.005346</td>\n",
       "      <td>0.014082</td>\n",
       "    </tr>\n",
       "    <tr>\n",
       "      <th>67</th>\n",
       "      <td>56.895</td>\n",
       "      <td>70</td>\n",
       "      <td>37</td>\n",
       "      <td>7</td>\n",
       "      <td>-110.415642</td>\n",
       "      <td>0.022289</td>\n",
       "      <td>-2.363549</td>\n",
       "      <td>-2.391845</td>\n",
       "      <td>0.015709</td>\n",
       "      <td>-0.048133</td>\n",
       "    </tr>\n",
       "    <tr>\n",
       "      <th>99</th>\n",
       "      <td>1000.000</td>\n",
       "      <td>250</td>\n",
       "      <td>5</td>\n",
       "      <td>7</td>\n",
       "      <td>97.286661</td>\n",
       "      <td>0.031364</td>\n",
       "      <td>2.095399</td>\n",
       "      <td>2.113858</td>\n",
       "      <td>0.027779</td>\n",
       "      <td>1.051349</td>\n",
       "    </tr>\n",
       "    <tr>\n",
       "      <th>163</th>\n",
       "      <td>9.104</td>\n",
       "      <td>120</td>\n",
       "      <td>53</td>\n",
       "      <td>8</td>\n",
       "      <td>-121.324049</td>\n",
       "      <td>0.070766</td>\n",
       "      <td>-2.628814</td>\n",
       "      <td>-2.669584</td>\n",
       "      <td>0.039349</td>\n",
       "      <td>3.072359</td>\n",
       "    </tr>\n",
       "    <tr>\n",
       "      <th>168</th>\n",
       "      <td>145.585</td>\n",
       "      <td>360</td>\n",
       "      <td>42</td>\n",
       "      <td>8</td>\n",
       "      <td>144.132462</td>\n",
       "      <td>0.050867</td>\n",
       "      <td>3.093333</td>\n",
       "      <td>3.163622</td>\n",
       "      <td>0.020821</td>\n",
       "      <td>-2.853187</td>\n",
       "    </tr>\n",
       "    <tr>\n",
       "      <th>199</th>\n",
       "      <td>785.694</td>\n",
       "      <td>110</td>\n",
       "      <td>20</td>\n",
       "      <td>9</td>\n",
       "      <td>-97.206060</td>\n",
       "      <td>0.025135</td>\n",
       "      <td>-2.088044</td>\n",
       "      <td>-2.106269</td>\n",
       "      <td>0.022540</td>\n",
       "      <td>2.860833</td>\n",
       "    </tr>\n",
       "  </tbody>\n",
       "</table>\n",
       "</div>"
      ],
      "text/plain": [
       "      adverts  sales  airplay  attract    residual   cooks_d  standard_resid  \\\n",
       "0      10.256    330       43       10  100.079745  0.058704        2.177404   \n",
       "1     985.685    120       28        7 -108.948992  0.010889       -2.323083   \n",
       "9     174.093    300       40        7   99.533751  0.017756        2.130289   \n",
       "46    102.568     40       25        8 -114.969819  0.024115       -2.460996   \n",
       "51    405.913    190       12        4   97.402661  0.033159        2.099446   \n",
       "54   1542.329    190       33        8 -114.123081  0.040416       -2.455913   \n",
       "60    579.321    300       30        7   98.810295  0.005948        2.104079   \n",
       "67     56.895     70       37        7 -110.415642  0.022289       -2.363549   \n",
       "99   1000.000    250        5        7   97.286661  0.031364        2.095399   \n",
       "163     9.104    120       53        8 -121.324049  0.070766       -2.628814   \n",
       "168   145.585    360       42        8  144.132462  0.050867        3.093333   \n",
       "199   785.694    110       20        9  -97.206060  0.025135       -2.088044   \n",
       "\n",
       "     student_resid  hat_diag    dfbeta  \n",
       "0         2.198596  0.047191 -5.421827  \n",
       "1        -2.349724  0.008007  0.216017  \n",
       "9         2.149882  0.015410 -0.215971  \n",
       "46       -2.493538  0.015677  1.137816  \n",
       "51        2.118034  0.029213  6.069241  \n",
       "54       -2.488224  0.026104  2.984377  \n",
       "60        2.122816  0.005346  0.014082  \n",
       "67       -2.391845  0.015709 -0.048133  \n",
       "99        2.113858  0.027779  1.051349  \n",
       "163      -2.669584  0.039349  3.072359  \n",
       "168       3.163622  0.020821 -2.853187  \n",
       "199      -2.106269  0.022540  2.860833  "
      ]
     },
     "execution_count": 345,
     "metadata": {},
     "output_type": "execute_result"
    }
   ],
   "source": [
    "large_resid"
   ]
  },
  {
   "cell_type": "markdown",
   "metadata": {},
   "source": [
    "####  Let’s  look  now  at  the leverage (hat value), Cook’s distance and covariance ratio for these 12 cases that have large residuals"
   ]
  },
  {
   "cell_type": "code",
   "execution_count": 346,
   "metadata": {},
   "outputs": [
    {
     "data": {
      "text/plain": [
       "0.02"
      ]
     },
     "execution_count": 346,
     "metadata": {},
     "output_type": "execute_result"
    }
   ],
   "source": [
    "k = 3 #number of predictors\n",
    "n = 200 #number of objervations\n",
    "\n",
    "average_leverage = (k+1)/n\n",
    "average_leverage"
   ]
  },
  {
   "cell_type": "markdown",
   "metadata": {},
   "source": [
    "The  average  leverage  can  be  calculated  as  0.02  (k +  1/n =4/200)  and so we are looking for values either twice as large as this (0.04) or three times as large (0.06)  depending  on  which  statistician  you  trust  most  . All  cases are within the boundary of three times the average and only case 1 is close to two times the average"
   ]
  },
  {
   "cell_type": "code",
   "execution_count": 347,
   "metadata": {},
   "outputs": [
    {
     "data": {
      "text/html": [
       "<div>\n",
       "<style scoped>\n",
       "    .dataframe tbody tr th:only-of-type {\n",
       "        vertical-align: middle;\n",
       "    }\n",
       "\n",
       "    .dataframe tbody tr th {\n",
       "        vertical-align: top;\n",
       "    }\n",
       "\n",
       "    .dataframe thead th {\n",
       "        text-align: right;\n",
       "    }\n",
       "</style>\n",
       "<table border=\"1\" class=\"dataframe\">\n",
       "  <thead>\n",
       "    <tr style=\"text-align: right;\">\n",
       "      <th></th>\n",
       "      <th>cov_ratio</th>\n",
       "    </tr>\n",
       "  </thead>\n",
       "  <tbody>\n",
       "    <tr>\n",
       "      <th>0</th>\n",
       "      <td>0.971275</td>\n",
       "    </tr>\n",
       "    <tr>\n",
       "      <th>1</th>\n",
       "      <td>0.920183</td>\n",
       "    </tr>\n",
       "    <tr>\n",
       "      <th>2</th>\n",
       "      <td>0.997110</td>\n",
       "    </tr>\n",
       "    <tr>\n",
       "      <th>3</th>\n",
       "      <td>1.033180</td>\n",
       "    </tr>\n",
       "    <tr>\n",
       "      <th>4</th>\n",
       "      <td>1.047660</td>\n",
       "    </tr>\n",
       "  </tbody>\n",
       "</table>\n",
       "</div>"
      ],
      "text/plain": [
       "   cov_ratio\n",
       "0   0.971275\n",
       "1   0.920183\n",
       "2   0.997110\n",
       "3   1.033180\n",
       "4   1.047660"
      ]
     },
     "execution_count": 347,
     "metadata": {},
     "output_type": "execute_result"
    }
   ],
   "source": [
    "cov_ratio = pd.DataFrame(sms.OLSInfluence(m03).cov_ratio)\n",
    "cov_ratio.columns = ['cov_ratio']\n",
    "cov_ratio.head()"
   ]
  },
  {
   "cell_type": "code",
   "execution_count": 348,
   "metadata": {},
   "outputs": [
    {
     "data": {
      "text/html": [
       "<div>\n",
       "<style scoped>\n",
       "    .dataframe tbody tr th:only-of-type {\n",
       "        vertical-align: middle;\n",
       "    }\n",
       "\n",
       "    .dataframe tbody tr th {\n",
       "        vertical-align: top;\n",
       "    }\n",
       "\n",
       "    .dataframe thead th {\n",
       "        text-align: right;\n",
       "    }\n",
       "</style>\n",
       "<table border=\"1\" class=\"dataframe\">\n",
       "  <thead>\n",
       "    <tr style=\"text-align: right;\">\n",
       "      <th></th>\n",
       "      <th>adverts</th>\n",
       "      <th>sales</th>\n",
       "      <th>airplay</th>\n",
       "      <th>attract</th>\n",
       "      <th>residual</th>\n",
       "      <th>cooks_d</th>\n",
       "      <th>standard_resid</th>\n",
       "      <th>student_resid</th>\n",
       "      <th>hat_diag</th>\n",
       "      <th>dfbeta</th>\n",
       "      <th>cov_ratio</th>\n",
       "    </tr>\n",
       "  </thead>\n",
       "  <tbody>\n",
       "    <tr>\n",
       "      <th>0</th>\n",
       "      <td>10.256</td>\n",
       "      <td>330</td>\n",
       "      <td>43</td>\n",
       "      <td>10</td>\n",
       "      <td>100.079745</td>\n",
       "      <td>0.058704</td>\n",
       "      <td>2.177404</td>\n",
       "      <td>2.198596</td>\n",
       "      <td>0.047191</td>\n",
       "      <td>-5.421827</td>\n",
       "      <td>0.971275</td>\n",
       "    </tr>\n",
       "    <tr>\n",
       "      <th>1</th>\n",
       "      <td>985.685</td>\n",
       "      <td>120</td>\n",
       "      <td>28</td>\n",
       "      <td>7</td>\n",
       "      <td>-108.948992</td>\n",
       "      <td>0.010889</td>\n",
       "      <td>-2.323083</td>\n",
       "      <td>-2.349724</td>\n",
       "      <td>0.008007</td>\n",
       "      <td>0.216017</td>\n",
       "      <td>0.920183</td>\n",
       "    </tr>\n",
       "    <tr>\n",
       "      <th>9</th>\n",
       "      <td>174.093</td>\n",
       "      <td>300</td>\n",
       "      <td>40</td>\n",
       "      <td>7</td>\n",
       "      <td>99.533751</td>\n",
       "      <td>0.017756</td>\n",
       "      <td>2.130289</td>\n",
       "      <td>2.149882</td>\n",
       "      <td>0.015410</td>\n",
       "      <td>-0.215971</td>\n",
       "      <td>0.943920</td>\n",
       "    </tr>\n",
       "    <tr>\n",
       "      <th>46</th>\n",
       "      <td>102.568</td>\n",
       "      <td>40</td>\n",
       "      <td>25</td>\n",
       "      <td>8</td>\n",
       "      <td>-114.969819</td>\n",
       "      <td>0.024115</td>\n",
       "      <td>-2.460996</td>\n",
       "      <td>-2.493538</td>\n",
       "      <td>0.015677</td>\n",
       "      <td>1.137816</td>\n",
       "      <td>0.914580</td>\n",
       "    </tr>\n",
       "    <tr>\n",
       "      <th>51</th>\n",
       "      <td>405.913</td>\n",
       "      <td>190</td>\n",
       "      <td>12</td>\n",
       "      <td>4</td>\n",
       "      <td>97.402661</td>\n",
       "      <td>0.033159</td>\n",
       "      <td>2.099446</td>\n",
       "      <td>2.118034</td>\n",
       "      <td>0.029213</td>\n",
       "      <td>6.069241</td>\n",
       "      <td>0.959953</td>\n",
       "    </tr>\n",
       "    <tr>\n",
       "      <th>54</th>\n",
       "      <td>1542.329</td>\n",
       "      <td>190</td>\n",
       "      <td>33</td>\n",
       "      <td>8</td>\n",
       "      <td>-114.123081</td>\n",
       "      <td>0.040416</td>\n",
       "      <td>-2.455913</td>\n",
       "      <td>-2.488224</td>\n",
       "      <td>0.026104</td>\n",
       "      <td>2.984377</td>\n",
       "      <td>0.924858</td>\n",
       "    </tr>\n",
       "    <tr>\n",
       "      <th>60</th>\n",
       "      <td>579.321</td>\n",
       "      <td>300</td>\n",
       "      <td>30</td>\n",
       "      <td>7</td>\n",
       "      <td>98.810295</td>\n",
       "      <td>0.005948</td>\n",
       "      <td>2.104079</td>\n",
       "      <td>2.122816</td>\n",
       "      <td>0.005346</td>\n",
       "      <td>0.014082</td>\n",
       "      <td>0.936538</td>\n",
       "    </tr>\n",
       "    <tr>\n",
       "      <th>67</th>\n",
       "      <td>56.895</td>\n",
       "      <td>70</td>\n",
       "      <td>37</td>\n",
       "      <td>7</td>\n",
       "      <td>-110.415642</td>\n",
       "      <td>0.022289</td>\n",
       "      <td>-2.363549</td>\n",
       "      <td>-2.391845</td>\n",
       "      <td>0.015709</td>\n",
       "      <td>-0.048133</td>\n",
       "      <td>0.923698</td>\n",
       "    </tr>\n",
       "    <tr>\n",
       "      <th>99</th>\n",
       "      <td>1000.000</td>\n",
       "      <td>250</td>\n",
       "      <td>5</td>\n",
       "      <td>7</td>\n",
       "      <td>97.286661</td>\n",
       "      <td>0.031364</td>\n",
       "      <td>2.095399</td>\n",
       "      <td>2.113858</td>\n",
       "      <td>0.027779</td>\n",
       "      <td>1.051349</td>\n",
       "      <td>0.958877</td>\n",
       "    </tr>\n",
       "    <tr>\n",
       "      <th>163</th>\n",
       "      <td>9.104</td>\n",
       "      <td>120</td>\n",
       "      <td>53</td>\n",
       "      <td>8</td>\n",
       "      <td>-121.324049</td>\n",
       "      <td>0.070766</td>\n",
       "      <td>-2.628814</td>\n",
       "      <td>-2.669584</td>\n",
       "      <td>0.039349</td>\n",
       "      <td>3.072359</td>\n",
       "      <td>0.920373</td>\n",
       "    </tr>\n",
       "    <tr>\n",
       "      <th>168</th>\n",
       "      <td>145.585</td>\n",
       "      <td>360</td>\n",
       "      <td>42</td>\n",
       "      <td>8</td>\n",
       "      <td>144.132462</td>\n",
       "      <td>0.050867</td>\n",
       "      <td>3.093333</td>\n",
       "      <td>3.163622</td>\n",
       "      <td>0.020821</td>\n",
       "      <td>-2.853187</td>\n",
       "      <td>0.853247</td>\n",
       "    </tr>\n",
       "    <tr>\n",
       "      <th>199</th>\n",
       "      <td>785.694</td>\n",
       "      <td>110</td>\n",
       "      <td>20</td>\n",
       "      <td>9</td>\n",
       "      <td>-97.206060</td>\n",
       "      <td>0.025135</td>\n",
       "      <td>-2.088044</td>\n",
       "      <td>-2.106269</td>\n",
       "      <td>0.022540</td>\n",
       "      <td>2.860833</td>\n",
       "      <td>0.954350</td>\n",
       "    </tr>\n",
       "  </tbody>\n",
       "</table>\n",
       "</div>"
      ],
      "text/plain": [
       "      adverts  sales  airplay  attract    residual   cooks_d  standard_resid  \\\n",
       "0      10.256    330       43       10  100.079745  0.058704        2.177404   \n",
       "1     985.685    120       28        7 -108.948992  0.010889       -2.323083   \n",
       "9     174.093    300       40        7   99.533751  0.017756        2.130289   \n",
       "46    102.568     40       25        8 -114.969819  0.024115       -2.460996   \n",
       "51    405.913    190       12        4   97.402661  0.033159        2.099446   \n",
       "54   1542.329    190       33        8 -114.123081  0.040416       -2.455913   \n",
       "60    579.321    300       30        7   98.810295  0.005948        2.104079   \n",
       "67     56.895     70       37        7 -110.415642  0.022289       -2.363549   \n",
       "99   1000.000    250        5        7   97.286661  0.031364        2.095399   \n",
       "163     9.104    120       53        8 -121.324049  0.070766       -2.628814   \n",
       "168   145.585    360       42        8  144.132462  0.050867        3.093333   \n",
       "199   785.694    110       20        9  -97.206060  0.025135       -2.088044   \n",
       "\n",
       "     student_resid  hat_diag    dfbeta  cov_ratio  \n",
       "0         2.198596  0.047191 -5.421827   0.971275  \n",
       "1        -2.349724  0.008007  0.216017   0.920183  \n",
       "9         2.149882  0.015410 -0.215971   0.943920  \n",
       "46       -2.493538  0.015677  1.137816   0.914580  \n",
       "51        2.118034  0.029213  6.069241   0.959953  \n",
       "54       -2.488224  0.026104  2.984377   0.924858  \n",
       "60        2.122816  0.005346  0.014082   0.936538  \n",
       "67       -2.391845  0.015709 -0.048133   0.923698  \n",
       "99        2.113858  0.027779  1.051349   0.958877  \n",
       "163      -2.669584  0.039349  3.072359   0.920373  \n",
       "168       3.163622  0.020821 -2.853187   0.853247  \n",
       "199      -2.106269  0.022540  2.860833   0.954350  "
      ]
     },
     "execution_count": 348,
     "metadata": {},
     "output_type": "execute_result"
    }
   ],
   "source": [
    "large_resid = pd.merge(large_resid, cov_ratio, how = 'left', right_index=True, left_index=True)\n",
    "large_resid"
   ]
  },
  {
   "cell_type": "code",
   "execution_count": 349,
   "metadata": {},
   "outputs": [
    {
     "data": {
      "text/plain": [
       "(0.94, 1.06)"
      ]
     },
     "execution_count": 349,
     "metadata": {},
     "output_type": "execute_result"
    }
   ],
   "source": [
    "cvr_limit_high = 1+3*average_leverage\n",
    "cvr_limit_low  = 1-3*average_leverage\n",
    "\n",
    "(cvr_limit_low, cvr_limit_high)"
   ]
  },
  {
   "cell_type": "markdown",
   "metadata": {},
   "source": [
    "Therefore, we are looking for any cases that deviate substantially from these boundaries. Most of our 12 potential outliers have CVR values within or just outside these boundaries. The only case that causes concern is case 169 (again) whose CVR is some way below the bottom limit. However, given the Cook’s distance for this case, there is probably little cause for alarm.\n",
    "\n",
    "\n",
    "\n",
    "none of them has a Cook’s distance greater than 1 (even case 169 is well below this criterion), so none of the cases is having an undue influence on  the  model. "
   ]
  },
  {
   "cell_type": "markdown",
   "metadata": {},
   "source": [
    "You could have requested other diagnostic statistics and from what you know from the earlier discussion of them you would be well advised to glance over them in case of  any  unusual  cases  in  the  data.  However,  from  this  minimal  set  of  diagnostics  we appear to have a fairly reliable model that has not been unduly influenced by any subset of cases."
   ]
  },
  {
   "cell_type": "markdown",
   "metadata": {},
   "source": [
    "### **So, for influental cases**"
   ]
  },
  {
   "cell_type": "markdown",
   "metadata": {},
   "source": [
    "#### You need to look for cases that might be influencing the regression model:\n",
    "\n",
    "i) Look at standardized residuals and check that no more than 5% of cases have absolute values above 2, and that no more than about 1% have absolute values above 2.5. Any case with a value above about 3 could be an outlier.\n",
    "\n",
    "\n",
    "ii)Look at the values of Cook’s distance: any value above 1 indicates a case that might be influencing the model.\n",
    "\n",
    "\n",
    "iii)Calculate the average leverage (the number of predictors plus 1, divided by the sample size) and then look for values greater than twice or three times this average value.\n",
    "\n",
    "\n",
    "iv)Calculate the upper and lower limit of acceptable values for the covariance ratio, CVR. The upper limit is 1 plus three times the average leverage, whereas the lower limit is 1 minus three times the average leverage. Cases that have a CVR falling outside these limits may be problematic"
   ]
  },
  {
   "cell_type": "markdown",
   "metadata": {},
   "source": [
    "## **Testing  the  assumption  of  independent  errors using the Durbin–Watson test**"
   ]
  },
  {
   "cell_type": "code",
   "execution_count": 350,
   "metadata": {},
   "outputs": [
    {
     "data": {
      "text/plain": [
       "1.9498189295800616"
      ]
     },
     "execution_count": 350,
     "metadata": {},
     "output_type": "execute_result"
    }
   ],
   "source": [
    "from statsmodels.stats.stattools import durbin_watson\n",
    "durbin_watson(m03.resid)"
   ]
  },
  {
   "cell_type": "markdown",
   "metadata": {},
   "source": [
    "The closer to 2 that the value is, the better, and for these data  the value is 1.950, which is so close to 2 that the assumption has almost certainly been met."
   ]
  },
  {
   "cell_type": "markdown",
   "metadata": {},
   "source": [
    "## **Assessing the assumption of no multicollinearity using VIF and tolerance**"
   ]
  },
  {
   "cell_type": "code",
   "execution_count": 351,
   "metadata": {},
   "outputs": [],
   "source": [
    "from statsmodels.tools.tools import add_constant\n",
    "from statsmodels.stats.outliers_influence import variance_inflation_factor"
   ]
  },
  {
   "cell_type": "code",
   "execution_count": 352,
   "metadata": {},
   "outputs": [
    {
     "data": {
      "text/html": [
       "<div>\n",
       "<style scoped>\n",
       "    .dataframe tbody tr th:only-of-type {\n",
       "        vertical-align: middle;\n",
       "    }\n",
       "\n",
       "    .dataframe tbody tr th {\n",
       "        vertical-align: top;\n",
       "    }\n",
       "\n",
       "    .dataframe thead th {\n",
       "        text-align: right;\n",
       "    }\n",
       "</style>\n",
       "<table border=\"1\" class=\"dataframe\">\n",
       "  <thead>\n",
       "    <tr style=\"text-align: right;\">\n",
       "      <th></th>\n",
       "      <th>const</th>\n",
       "      <th>adverts</th>\n",
       "      <th>sales</th>\n",
       "      <th>airplay</th>\n",
       "      <th>attract</th>\n",
       "    </tr>\n",
       "  </thead>\n",
       "  <tbody>\n",
       "    <tr>\n",
       "      <th>0</th>\n",
       "      <td>1.0</td>\n",
       "      <td>10.256</td>\n",
       "      <td>330</td>\n",
       "      <td>43</td>\n",
       "      <td>10</td>\n",
       "    </tr>\n",
       "    <tr>\n",
       "      <th>1</th>\n",
       "      <td>1.0</td>\n",
       "      <td>985.685</td>\n",
       "      <td>120</td>\n",
       "      <td>28</td>\n",
       "      <td>7</td>\n",
       "    </tr>\n",
       "    <tr>\n",
       "      <th>2</th>\n",
       "      <td>1.0</td>\n",
       "      <td>1445.563</td>\n",
       "      <td>360</td>\n",
       "      <td>35</td>\n",
       "      <td>7</td>\n",
       "    </tr>\n",
       "    <tr>\n",
       "      <th>3</th>\n",
       "      <td>1.0</td>\n",
       "      <td>1188.193</td>\n",
       "      <td>270</td>\n",
       "      <td>33</td>\n",
       "      <td>7</td>\n",
       "    </tr>\n",
       "    <tr>\n",
       "      <th>4</th>\n",
       "      <td>1.0</td>\n",
       "      <td>574.513</td>\n",
       "      <td>220</td>\n",
       "      <td>44</td>\n",
       "      <td>5</td>\n",
       "    </tr>\n",
       "  </tbody>\n",
       "</table>\n",
       "</div>"
      ],
      "text/plain": [
       "   const   adverts  sales  airplay  attract\n",
       "0    1.0    10.256    330       43       10\n",
       "1    1.0   985.685    120       28        7\n",
       "2    1.0  1445.563    360       35        7\n",
       "3    1.0  1188.193    270       33        7\n",
       "4    1.0   574.513    220       44        5"
      ]
     },
     "execution_count": 352,
     "metadata": {},
     "output_type": "execute_result"
    }
   ],
   "source": [
    "df_ = add_constant(df)\n",
    "df_.head()"
   ]
  },
  {
   "cell_type": "code",
   "execution_count": 353,
   "metadata": {},
   "outputs": [],
   "source": [
    "df_.drop(['sales'], inplace=True,axis=1)"
   ]
  },
  {
   "cell_type": "code",
   "execution_count": null,
   "metadata": {},
   "outputs": [],
   "source": []
  },
  {
   "cell_type": "code",
   "execution_count": 354,
   "metadata": {},
   "outputs": [],
   "source": [
    "vif = pd.Series([variance_inflation_factor(df_.values, i) \n",
    "               for i in range(1, df_.shape[1])], \n",
    "              index=df_.columns[1:])"
   ]
  },
  {
   "cell_type": "code",
   "execution_count": 355,
   "metadata": {},
   "outputs": [
    {
     "data": {
      "text/plain": [
       "adverts    1.014593\n",
       "airplay    1.042504\n",
       "attract    1.038455\n",
       "dtype: float64"
      ]
     },
     "execution_count": 355,
     "metadata": {},
     "output_type": "execute_result"
    }
   ],
   "source": [
    "vif"
   ]
  },
  {
   "cell_type": "code",
   "execution_count": 356,
   "metadata": {},
   "outputs": [
    {
     "data": {
      "text/plain": [
       "1.0318504825952803"
      ]
     },
     "execution_count": 356,
     "metadata": {},
     "output_type": "execute_result"
    }
   ],
   "source": [
    "avg_vif  = np.mean(vif)\n",
    "avg_vif"
   ]
  },
  {
   "cell_type": "code",
   "execution_count": 357,
   "metadata": {},
   "outputs": [],
   "source": [
    "tolerance  = 1/vif"
   ]
  },
  {
   "cell_type": "code",
   "execution_count": 358,
   "metadata": {},
   "outputs": [
    {
     "data": {
      "text/plain": [
       "adverts    0.985617\n",
       "airplay    0.959229\n",
       "attract    0.962969\n",
       "dtype: float64"
      ]
     },
     "execution_count": 358,
     "metadata": {},
     "output_type": "execute_result"
    }
   ],
   "source": [
    "tolerance"
   ]
  },
  {
   "cell_type": "markdown",
   "metadata": {},
   "source": [
    "### Here are a few guidelines from  that can be applied here:\n",
    "\n",
    "#### i)If the largest VIF is greater than 10 then there is cause for concern (Bowerman & O’Connell, 1990; Myers, 1990) .\n",
    "\n",
    "\n",
    "#### ii)If the average VIF is substantially greater than 1 then the regression may be biased (Bowerman & O’Connell, 1990) .\n",
    "\n",
    "\n",
    "#### iii)Tolerance below 0.1 indicates a serious problem.\n",
    "\n",
    "\n",
    "#### iv)Tolerance below 0.2 indicates a potential problem (Menard, 1995).\n",
    "\n",
    "#### For our current model the VIF values are all well below 10 and the tolerance statistics all well above 0.2. Also, the average VIF is very close to 1. Based on these measures we can safely conclude that there is no collinearity within our data. "
   ]
  },
  {
   "cell_type": "markdown",
   "metadata": {},
   "source": [
    "## **Checking assumptions about the residuals**\n",
    "\n",
    "\n",
    "### You need to check some of the assumptions of regression to make sure your model generalizes beyond your sample: \n",
    "\n",
    "\n",
    "#### i)Look at the graph of the standardized residuals plotted against the fitted (predicted) values. If it looks like a random array of dots then this is good. If the dots seem to get more or less spread out over the graph (look like a funnel) then this is probably a violation of the assumption of homogeneity of variance. If the dots have a pattern to them (i.e., a curved shape) then this is probably a violation of the assumption of linearity. If the dots seem to have a pattern and are more spread out at some points on the plot than others then this probably reflects violations of both homogeneity of variance and linearity. Any of these scenarios puts the validity of your model into question. Repeat the above for all partial plots too.\n",
    "\n",
    "\n",
    "\n",
    "#### ii)Look at a histogram of the residuals too. If the histogram looks like a normal distribution (and the Q-Q plot looks like a diago-nal line), then all is well. If the histogram looks non-normal, then things are less good. Be warned, though: distributions can look very non-normal in small samples even when they are normal! "
   ]
  },
  {
   "cell_type": "code",
   "execution_count": 359,
   "metadata": {},
   "outputs": [
    {
     "data": {
      "text/html": [
       "<div>\n",
       "<style scoped>\n",
       "    .dataframe tbody tr th:only-of-type {\n",
       "        vertical-align: middle;\n",
       "    }\n",
       "\n",
       "    .dataframe tbody tr th {\n",
       "        vertical-align: top;\n",
       "    }\n",
       "\n",
       "    .dataframe thead th {\n",
       "        text-align: right;\n",
       "    }\n",
       "</style>\n",
       "<table border=\"1\" class=\"dataframe\">\n",
       "  <thead>\n",
       "    <tr style=\"text-align: right;\">\n",
       "      <th></th>\n",
       "      <th>predicted</th>\n",
       "    </tr>\n",
       "  </thead>\n",
       "  <tbody>\n",
       "    <tr>\n",
       "      <th>0</th>\n",
       "      <td>229.920255</td>\n",
       "    </tr>\n",
       "    <tr>\n",
       "      <th>1</th>\n",
       "      <td>228.948992</td>\n",
       "    </tr>\n",
       "    <tr>\n",
       "      <th>2</th>\n",
       "      <td>291.557632</td>\n",
       "    </tr>\n",
       "    <tr>\n",
       "      <th>3</th>\n",
       "      <td>262.975974</td>\n",
       "    </tr>\n",
       "    <tr>\n",
       "      <th>4</th>\n",
       "      <td>225.752861</td>\n",
       "    </tr>\n",
       "  </tbody>\n",
       "</table>\n",
       "</div>"
      ],
      "text/plain": [
       "    predicted\n",
       "0  229.920255\n",
       "1  228.948992\n",
       "2  291.557632\n",
       "3  262.975974\n",
       "4  225.752861"
      ]
     },
     "execution_count": 359,
     "metadata": {},
     "output_type": "execute_result"
    }
   ],
   "source": [
    "prediction = pd.DataFrame(m03.fittedvalues)\n",
    "prediction.columns = ['predicted']\n",
    "prediction.head()"
   ]
  },
  {
   "cell_type": "code",
   "execution_count": 360,
   "metadata": {},
   "outputs": [],
   "source": [
    "prediction['standarized_prediction']  = (prediction['predicted']-prediction['predicted'].mean())/prediction['predicted'].std()"
   ]
  },
  {
   "cell_type": "code",
   "execution_count": 361,
   "metadata": {},
   "outputs": [
    {
     "data": {
      "text/html": [
       "<div>\n",
       "<style scoped>\n",
       "    .dataframe tbody tr th:only-of-type {\n",
       "        vertical-align: middle;\n",
       "    }\n",
       "\n",
       "    .dataframe tbody tr th {\n",
       "        vertical-align: top;\n",
       "    }\n",
       "\n",
       "    .dataframe thead th {\n",
       "        text-align: right;\n",
       "    }\n",
       "</style>\n",
       "<table border=\"1\" class=\"dataframe\">\n",
       "  <thead>\n",
       "    <tr style=\"text-align: right;\">\n",
       "      <th></th>\n",
       "      <th>adverts</th>\n",
       "      <th>sales</th>\n",
       "      <th>airplay</th>\n",
       "      <th>attract</th>\n",
       "      <th>residual</th>\n",
       "      <th>cooks_d</th>\n",
       "      <th>standard_resid</th>\n",
       "      <th>student_resid</th>\n",
       "      <th>hat_diag</th>\n",
       "      <th>dfbeta</th>\n",
       "    </tr>\n",
       "  </thead>\n",
       "  <tbody>\n",
       "    <tr>\n",
       "      <th>0</th>\n",
       "      <td>10.256</td>\n",
       "      <td>330</td>\n",
       "      <td>43</td>\n",
       "      <td>10</td>\n",
       "      <td>100.079745</td>\n",
       "      <td>0.058704</td>\n",
       "      <td>2.177404</td>\n",
       "      <td>2.198596</td>\n",
       "      <td>0.047191</td>\n",
       "      <td>-5.421827</td>\n",
       "    </tr>\n",
       "    <tr>\n",
       "      <th>1</th>\n",
       "      <td>985.685</td>\n",
       "      <td>120</td>\n",
       "      <td>28</td>\n",
       "      <td>7</td>\n",
       "      <td>-108.948992</td>\n",
       "      <td>0.010889</td>\n",
       "      <td>-2.323083</td>\n",
       "      <td>-2.349724</td>\n",
       "      <td>0.008007</td>\n",
       "      <td>0.216017</td>\n",
       "    </tr>\n",
       "    <tr>\n",
       "      <th>2</th>\n",
       "      <td>1445.563</td>\n",
       "      <td>360</td>\n",
       "      <td>35</td>\n",
       "      <td>7</td>\n",
       "      <td>68.442368</td>\n",
       "      <td>0.011401</td>\n",
       "      <td>1.468802</td>\n",
       "      <td>1.473180</td>\n",
       "      <td>0.020700</td>\n",
       "      <td>-0.658518</td>\n",
       "    </tr>\n",
       "    <tr>\n",
       "      <th>3</th>\n",
       "      <td>1188.193</td>\n",
       "      <td>270</td>\n",
       "      <td>33</td>\n",
       "      <td>7</td>\n",
       "      <td>7.024026</td>\n",
       "      <td>0.000072</td>\n",
       "      <td>0.150116</td>\n",
       "      <td>0.149741</td>\n",
       "      <td>0.012561</td>\n",
       "      <td>-0.044809</td>\n",
       "    </tr>\n",
       "    <tr>\n",
       "      <th>4</th>\n",
       "      <td>574.513</td>\n",
       "      <td>220</td>\n",
       "      <td>44</td>\n",
       "      <td>5</td>\n",
       "      <td>-5.752861</td>\n",
       "      <td>0.000103</td>\n",
       "      <td>-0.123798</td>\n",
       "      <td>-0.123487</td>\n",
       "      <td>0.026065</td>\n",
       "      <td>-0.149284</td>\n",
       "    </tr>\n",
       "  </tbody>\n",
       "</table>\n",
       "</div>"
      ],
      "text/plain": [
       "    adverts  sales  airplay  attract    residual   cooks_d  standard_resid  \\\n",
       "0    10.256    330       43       10  100.079745  0.058704        2.177404   \n",
       "1   985.685    120       28        7 -108.948992  0.010889       -2.323083   \n",
       "2  1445.563    360       35        7   68.442368  0.011401        1.468802   \n",
       "3  1188.193    270       33        7    7.024026  0.000072        0.150116   \n",
       "4   574.513    220       44        5   -5.752861  0.000103       -0.123798   \n",
       "\n",
       "   student_resid  hat_diag    dfbeta  \n",
       "0       2.198596  0.047191 -5.421827  \n",
       "1      -2.349724  0.008007  0.216017  \n",
       "2       1.473180  0.020700 -0.658518  \n",
       "3       0.149741  0.012561 -0.044809  \n",
       "4      -0.123487  0.026065 -0.149284  "
      ]
     },
     "execution_count": 361,
     "metadata": {},
     "output_type": "execute_result"
    }
   ],
   "source": [
    "final_summary.head()"
   ]
  },
  {
   "cell_type": "code",
   "execution_count": 362,
   "metadata": {},
   "outputs": [
    {
     "data": {
      "image/png": "[encoded data removed]",
      "text/plain": [
       "<IPython.core.display.Image object>"
      ]
     },
     "execution_count": 362,
     "metadata": {},
     "output_type": "execute_result"
    }
   ],
   "source": [
    "Image(\"res.png\")   # source:  © Andy Field, Jeremy Miles and Zoë Field 2012"
   ]
  },
  {
   "cell_type": "code",
   "execution_count": 363,
   "metadata": {},
   "outputs": [
    {
     "data": {
      "image/png": "[encoded data removed]",
      "text/plain": [
       "<Figure size 432x288 with 1 Axes>"
      ]
     },
     "metadata": {
      "needs_background": "light"
     },
     "output_type": "display_data"
    }
   ],
   "source": [
    "_ = sns.scatterplot(x= final_summary['standard_resid'], y = prediction['standarized_prediction'] )\n",
    "_ = plt.axhline(y=0)"
   ]
  },
  {
   "cell_type": "code",
   "execution_count": 364,
   "metadata": {},
   "outputs": [
    {
     "data": {
      "text/plain": [
       "<matplotlib.axes._subplots.AxesSubplot at 0x7fe9ae780690>"
      ]
     },
     "execution_count": 364,
     "metadata": {},
     "output_type": "execute_result"
    },
    {
     "data": {
      "image/png": "[encoded data removed]",
      "text/plain": [
       "<Figure size 360x288 with 1 Axes>"
      ]
     },
     "metadata": {
      "needs_background": "light"
     },
     "output_type": "display_data"
    }
   ],
   "source": [
    "pg.qqplot(final_summary['standard_resid'])"
   ]
  },
  {
   "cell_type": "code",
   "execution_count": 365,
   "metadata": {},
   "outputs": [],
   "source": [
    "d  =pd.merge(final_summary, prediction , how='inner', left_index=True, right_index=True)"
   ]
  },
  {
   "cell_type": "code",
   "execution_count": 366,
   "metadata": {},
   "outputs": [
    {
     "data": {
      "image/png": "[encoded data removed]",
      "text/plain": [
       "<Figure size 360x360 with 1 Axes>"
      ]
     },
     "metadata": {
      "needs_background": "light"
     },
     "output_type": "display_data"
    }
   ],
   "source": [
    "_= sns.lmplot(x ='predicted', y='residual', data=d)"
   ]
  },
  {
   "cell_type": "code",
   "execution_count": 367,
   "metadata": {},
   "outputs": [
    {
     "data": {
      "image/png": "[encoded data removed]",
      "text/plain": [
       "<Figure size 432x288 with 1 Axes>"
      ]
     },
     "metadata": {
      "needs_background": "light"
     },
     "output_type": "display_data"
    }
   ],
   "source": [
    "_ = sns.distplot(d['student_resid'],hist_kws=dict(edgecolor=\"k\", linewidth=2), bins=30)"
   ]
  },
  {
   "cell_type": "code",
   "execution_count": 368,
   "metadata": {},
   "outputs": [
    {
     "data": {
      "image/png": "[encoded data removed]",
      "text/plain": [
       "<Figure size 432x288 with 1 Axes>"
      ]
     },
     "metadata": {
      "needs_background": "light"
     },
     "output_type": "display_data"
    }
   ],
   "source": [
    "_ = sns.distplot(d['residual'],hist_kws=dict(edgecolor=\"k\", linewidth=2))"
   ]
  },
  {
   "cell_type": "code",
   "execution_count": 369,
   "metadata": {},
   "outputs": [
    {
     "data": {
      "image/png": "[encoded data removed]",
      "text/plain": [
       "<Figure size 432x288 with 1 Axes>"
      ]
     },
     "metadata": {
      "needs_background": "light"
     },
     "output_type": "display_data"
    }
   ],
   "source": [
    "_ = sns.distplot(d['standarized_prediction'],hist_kws=dict(edgecolor=\"k\", linewidth=2))"
   ]
  },
  {
   "cell_type": "code",
   "execution_count": 370,
   "metadata": {},
   "outputs": [
    {
     "data": {
      "text/plain": [
       "<matplotlib.axes._subplots.AxesSubplot at 0x7fe9ae279350>"
      ]
     },
     "execution_count": 370,
     "metadata": {},
     "output_type": "execute_result"
    },
    {
     "data": {
      "image/png": "[encoded data removed]",
      "text/plain": [
       "<Figure size 360x288 with 1 Axes>"
      ]
     },
     "metadata": {
      "needs_background": "light"
     },
     "output_type": "display_data"
    }
   ],
   "source": [
    "pg.qqplot(d['standarized_prediction'])"
   ]
  },
  {
   "cell_type": "markdown",
   "metadata": {},
   "source": [
    "## **What if I violate an assumption ?**"
   ]
  },
  {
   "cell_type": "markdown",
   "metadata": {},
   "source": [
    "### **Robust regression: bootstrapping**"
   ]
  },
  {
   "cell_type": "code",
   "execution_count": 371,
   "metadata": {},
   "outputs": [],
   "source": [
    "import statsmodels.api as sm"
   ]
  },
  {
   "cell_type": "code",
   "execution_count": 372,
   "metadata": {},
   "outputs": [],
   "source": [
    "a_ = df_[['const','adverts', 'airplay', 'attract']]\n",
    "b_ = df[['sales']]"
   ]
  },
  {
   "cell_type": "code",
   "execution_count": 373,
   "metadata": {},
   "outputs": [],
   "source": [
    "rlm_model = sm.RLM(b_, a_)"
   ]
  },
  {
   "cell_type": "code",
   "execution_count": null,
   "metadata": {},
   "outputs": [],
   "source": []
  },
  {
   "cell_type": "code",
   "execution_count": 374,
   "metadata": {},
   "outputs": [],
   "source": [
    "rlm_res = rlm_model.fit()"
   ]
  },
  {
   "cell_type": "code",
   "execution_count": 375,
   "metadata": {},
   "outputs": [
    {
     "data": {
      "text/html": [
       "<table class=\"simpletable\">\n",
       "<caption>Robust linear Model Regression Results</caption>\n",
       "<tr>\n",
       "  <th>Dep. Variable:</th>        <td>sales</td>      <th>  No. Observations:  </th> <td>   200</td>\n",
       "</tr>\n",
       "<tr>\n",
       "  <th>Model:</th>                 <td>RLM</td>       <th>  Df Residuals:      </th> <td>   196</td>\n",
       "</tr>\n",
       "<tr>\n",
       "  <th>Method:</th>               <td>IRLS</td>       <th>  Df Model:          </th> <td>     3</td>\n",
       "</tr>\n",
       "<tr>\n",
       "  <th>Norm:</th>                <td>HuberT</td>      <th>                     </th>    <td> </td>  \n",
       "</tr>\n",
       "<tr>\n",
       "  <th>Scale Est.:</th>            <td>mad</td>       <th>                     </th>    <td> </td>  \n",
       "</tr>\n",
       "<tr>\n",
       "  <th>Cov Type:</th>              <td>H1</td>        <th>                     </th>    <td> </td>  \n",
       "</tr>\n",
       "<tr>\n",
       "  <th>Date:</th>           <td>Sat, 20 Jun 2020</td> <th>                     </th>    <td> </td>  \n",
       "</tr>\n",
       "<tr>\n",
       "  <th>Time:</th>               <td>07:34:31</td>     <th>                     </th>    <td> </td>  \n",
       "</tr>\n",
       "<tr>\n",
       "  <th>No. Iterations:</th>        <td>10</td>        <th>                     </th>    <td> </td>  \n",
       "</tr>\n",
       "</table>\n",
       "<table class=\"simpletable\">\n",
       "<tr>\n",
       "     <td></td>        <th>coef</th>     <th>std err</th>      <th>z</th>      <th>P>|z|</th>  <th>[0.025</th>    <th>0.975]</th>  \n",
       "</tr>\n",
       "<tr>\n",
       "  <th>const</th>   <td>  -29.6912</td> <td>   17.386</td> <td>   -1.708</td> <td> 0.088</td> <td>  -63.768</td> <td>    4.385</td>\n",
       "</tr>\n",
       "<tr>\n",
       "  <th>adverts</th> <td>    0.0857</td> <td>    0.007</td> <td>   12.350</td> <td> 0.000</td> <td>    0.072</td> <td>    0.099</td>\n",
       "</tr>\n",
       "<tr>\n",
       "  <th>airplay</th> <td>    3.3930</td> <td>    0.278</td> <td>   12.189</td> <td> 0.000</td> <td>    2.847</td> <td>    3.939</td>\n",
       "</tr>\n",
       "<tr>\n",
       "  <th>attract</th> <td>   11.4426</td> <td>    2.443</td> <td>    4.684</td> <td> 0.000</td> <td>    6.655</td> <td>   16.231</td>\n",
       "</tr>\n",
       "</table><br/><br/>If the model instance has been used for another fit with different fit parameters, then the fit options might not be the correct ones anymore ."
      ],
      "text/plain": [
       "<class 'statsmodels.iolib.summary.Summary'>\n",
       "\"\"\"\n",
       "                    Robust linear Model Regression Results                    \n",
       "==============================================================================\n",
       "Dep. Variable:                  sales   No. Observations:                  200\n",
       "Model:                            RLM   Df Residuals:                      196\n",
       "Method:                          IRLS   Df Model:                            3\n",
       "Norm:                          HuberT                                         \n",
       "Scale Est.:                       mad                                         \n",
       "Cov Type:                          H1                                         \n",
       "Date:                Sat, 20 Jun 2020                                         \n",
       "Time:                        07:34:31                                         \n",
       "No. Iterations:                    10                                         \n",
       "==============================================================================\n",
       "                 coef    std err          z      P>|z|      [0.025      0.975]\n",
       "------------------------------------------------------------------------------\n",
       "const        -29.6912     17.386     -1.708      0.088     -63.768       4.385\n",
       "adverts        0.0857      0.007     12.350      0.000       0.072       0.099\n",
       "airplay        3.3930      0.278     12.189      0.000       2.847       3.939\n",
       "attract       11.4426      2.443      4.684      0.000       6.655      16.231\n",
       "==============================================================================\n",
       "\n",
       "If the model instance has been used for another fit with different fit parameters, then the fit options might not be the correct ones anymore .\n",
       "\"\"\""
      ]
     },
     "execution_count": 375,
     "metadata": {},
     "output_type": "execute_result"
    }
   ],
   "source": [
    "rlm_res.summary()"
   ]
  },
  {
   "cell_type": "code",
   "execution_count": null,
   "metadata": {},
   "outputs": [],
   "source": []
  },
  {
   "cell_type": "code",
   "execution_count": 376,
   "metadata": {},
   "outputs": [
    {
     "data": {
      "image/png": "[encoded data removed]",
      "text/plain": [
       "<IPython.core.display.Image object>"
      ]
     },
     "execution_count": 376,
     "metadata": {},
     "output_type": "execute_result"
    }
   ],
   "source": [
    "Image(\"represent.png\")    #    © Andy Field, Jeremy Miles and Zoë Field 2012"
   ]
  },
  {
   "cell_type": "markdown",
   "metadata": {},
   "source": [
    "## **Dummy coding**"
   ]
  },
  {
   "cell_type": "code",
   "execution_count": 511,
   "metadata": {},
   "outputs": [],
   "source": [
    "da = pd.read_csv('gats_fes.csv')"
   ]
  },
  {
   "cell_type": "code",
   "execution_count": 512,
   "metadata": {},
   "outputs": [
    {
     "data": {
      "text/html": [
       "<div>\n",
       "<style scoped>\n",
       "    .dataframe tbody tr th:only-of-type {\n",
       "        vertical-align: middle;\n",
       "    }\n",
       "\n",
       "    .dataframe tbody tr th {\n",
       "        vertical-align: top;\n",
       "    }\n",
       "\n",
       "    .dataframe thead th {\n",
       "        text-align: right;\n",
       "    }\n",
       "</style>\n",
       "<table border=\"1\" class=\"dataframe\">\n",
       "  <thead>\n",
       "    <tr style=\"text-align: right;\">\n",
       "      <th></th>\n",
       "      <th>ticknumb</th>\n",
       "      <th>music</th>\n",
       "      <th>day1</th>\n",
       "      <th>day2</th>\n",
       "      <th>day3</th>\n",
       "      <th>change</th>\n",
       "    </tr>\n",
       "  </thead>\n",
       "  <tbody>\n",
       "    <tr>\n",
       "      <th>0</th>\n",
       "      <td>2111</td>\n",
       "      <td>Metaller</td>\n",
       "      <td>2.65</td>\n",
       "      <td>1.35</td>\n",
       "      <td>1.61</td>\n",
       "      <td>-1.04</td>\n",
       "    </tr>\n",
       "    <tr>\n",
       "      <th>1</th>\n",
       "      <td>2229</td>\n",
       "      <td>Crusty</td>\n",
       "      <td>0.97</td>\n",
       "      <td>1.41</td>\n",
       "      <td>0.29</td>\n",
       "      <td>-0.68</td>\n",
       "    </tr>\n",
       "    <tr>\n",
       "      <th>2</th>\n",
       "      <td>2338</td>\n",
       "      <td>No Musical Affiliation</td>\n",
       "      <td>0.84</td>\n",
       "      <td></td>\n",
       "      <td></td>\n",
       "      <td></td>\n",
       "    </tr>\n",
       "    <tr>\n",
       "      <th>3</th>\n",
       "      <td>2384</td>\n",
       "      <td>Crusty</td>\n",
       "      <td>3.03</td>\n",
       "      <td></td>\n",
       "      <td></td>\n",
       "      <td></td>\n",
       "    </tr>\n",
       "    <tr>\n",
       "      <th>4</th>\n",
       "      <td>2401</td>\n",
       "      <td>No Musical Affiliation</td>\n",
       "      <td>0.88</td>\n",
       "      <td>0.08</td>\n",
       "      <td></td>\n",
       "      <td></td>\n",
       "    </tr>\n",
       "  </tbody>\n",
       "</table>\n",
       "</div>"
      ],
      "text/plain": [
       "   ticknumb                   music  day1  day2  day3 change\n",
       "0      2111                Metaller  2.65  1.35  1.61  -1.04\n",
       "1      2229                  Crusty  0.97  1.41  0.29  -0.68\n",
       "2      2338  No Musical Affiliation  0.84                   \n",
       "3      2384                  Crusty  3.03                   \n",
       "4      2401  No Musical Affiliation  0.88  0.08             "
      ]
     },
     "execution_count": 512,
     "metadata": {},
     "output_type": "execute_result"
    }
   ],
   "source": [
    "da.head()"
   ]
  },
  {
   "cell_type": "code",
   "execution_count": 513,
   "metadata": {},
   "outputs": [],
   "source": [
    "da.replace(' ' ,np.nan, inplace=True)"
   ]
  },
  {
   "cell_type": "code",
   "execution_count": 514,
   "metadata": {},
   "outputs": [
    {
     "data": {
      "text/plain": [
       "array(['Metaller', 'Crusty', 'No Musical Affiliation', 'Indie Kid'],\n",
       "      dtype=object)"
      ]
     },
     "execution_count": 514,
     "metadata": {},
     "output_type": "execute_result"
    }
   ],
   "source": [
    "da['music'].unique()"
   ]
  },
  {
   "cell_type": "code",
   "execution_count": 515,
   "metadata": {},
   "outputs": [],
   "source": [
    "da_ = da[da['change'].notna()]"
   ]
  },
  {
   "cell_type": "code",
   "execution_count": 516,
   "metadata": {},
   "outputs": [
    {
     "data": {
      "text/html": [
       "<div>\n",
       "<style scoped>\n",
       "    .dataframe tbody tr th:only-of-type {\n",
       "        vertical-align: middle;\n",
       "    }\n",
       "\n",
       "    .dataframe tbody tr th {\n",
       "        vertical-align: top;\n",
       "    }\n",
       "\n",
       "    .dataframe thead th {\n",
       "        text-align: right;\n",
       "    }\n",
       "</style>\n",
       "<table border=\"1\" class=\"dataframe\">\n",
       "  <thead>\n",
       "    <tr style=\"text-align: right;\">\n",
       "      <th></th>\n",
       "      <th>ticknumb</th>\n",
       "      <th>music</th>\n",
       "      <th>day1</th>\n",
       "      <th>day2</th>\n",
       "      <th>day3</th>\n",
       "      <th>change</th>\n",
       "    </tr>\n",
       "  </thead>\n",
       "  <tbody>\n",
       "    <tr>\n",
       "      <th>0</th>\n",
       "      <td>2111</td>\n",
       "      <td>Metaller</td>\n",
       "      <td>2.65</td>\n",
       "      <td>1.35</td>\n",
       "      <td>1.61</td>\n",
       "      <td>-1.04</td>\n",
       "    </tr>\n",
       "    <tr>\n",
       "      <th>1</th>\n",
       "      <td>2229</td>\n",
       "      <td>Crusty</td>\n",
       "      <td>0.97</td>\n",
       "      <td>1.41</td>\n",
       "      <td>0.29</td>\n",
       "      <td>-0.68</td>\n",
       "    </tr>\n",
       "    <tr>\n",
       "      <th>9</th>\n",
       "      <td>2504</td>\n",
       "      <td>No Musical Affiliation</td>\n",
       "      <td>1.11</td>\n",
       "      <td>0.44</td>\n",
       "      <td>0.55</td>\n",
       "      <td>-0.56</td>\n",
       "    </tr>\n",
       "    <tr>\n",
       "      <th>11</th>\n",
       "      <td>2510</td>\n",
       "      <td>Crusty</td>\n",
       "      <td>0.82</td>\n",
       "      <td>0.2</td>\n",
       "      <td>0.47</td>\n",
       "      <td>-0.35</td>\n",
       "    </tr>\n",
       "    <tr>\n",
       "      <th>13</th>\n",
       "      <td>2515</td>\n",
       "      <td>No Musical Affiliation</td>\n",
       "      <td>1.76</td>\n",
       "      <td>1.64</td>\n",
       "      <td>1.58</td>\n",
       "      <td>-0.18</td>\n",
       "    </tr>\n",
       "    <tr>\n",
       "      <th>...</th>\n",
       "      <td>...</td>\n",
       "      <td>...</td>\n",
       "      <td>...</td>\n",
       "      <td>...</td>\n",
       "      <td>...</td>\n",
       "      <td>...</td>\n",
       "    </tr>\n",
       "    <tr>\n",
       "      <th>777</th>\n",
       "      <td>4582</td>\n",
       "      <td>Indie Kid</td>\n",
       "      <td>1.29</td>\n",
       "      <td>1.58</td>\n",
       "      <td>0.81</td>\n",
       "      <td>-0.48</td>\n",
       "    </tr>\n",
       "    <tr>\n",
       "      <th>784</th>\n",
       "      <td>4654</td>\n",
       "      <td>No Musical Affiliation</td>\n",
       "      <td>2.02</td>\n",
       "      <td>1.78</td>\n",
       "      <td>2.55</td>\n",
       "      <td>0.53</td>\n",
       "    </tr>\n",
       "    <tr>\n",
       "      <th>787</th>\n",
       "      <td>4666</td>\n",
       "      <td>No Musical Affiliation</td>\n",
       "      <td>1.14</td>\n",
       "      <td>1.35</td>\n",
       "      <td>1.02</td>\n",
       "      <td>-0.12</td>\n",
       "    </tr>\n",
       "    <tr>\n",
       "      <th>790</th>\n",
       "      <td>4693</td>\n",
       "      <td>Indie Kid</td>\n",
       "      <td>1.35</td>\n",
       "      <td>0.17</td>\n",
       "      <td>0.44</td>\n",
       "      <td>-0.91</td>\n",
       "    </tr>\n",
       "    <tr>\n",
       "      <th>800</th>\n",
       "      <td>4724</td>\n",
       "      <td>Metaller</td>\n",
       "      <td>2.23</td>\n",
       "      <td>1.41</td>\n",
       "      <td>2.11</td>\n",
       "      <td>-0.12</td>\n",
       "    </tr>\n",
       "  </tbody>\n",
       "</table>\n",
       "<p>123 rows × 6 columns</p>\n",
       "</div>"
      ],
      "text/plain": [
       "     ticknumb                   music  day1  day2  day3 change\n",
       "0        2111                Metaller  2.65  1.35  1.61  -1.04\n",
       "1        2229                  Crusty  0.97  1.41  0.29  -0.68\n",
       "9        2504  No Musical Affiliation  1.11  0.44  0.55  -0.56\n",
       "11       2510                  Crusty  0.82   0.2  0.47  -0.35\n",
       "13       2515  No Musical Affiliation  1.76  1.64  1.58  -0.18\n",
       "..        ...                     ...   ...   ...   ...    ...\n",
       "777      4582               Indie Kid  1.29  1.58  0.81  -0.48\n",
       "784      4654  No Musical Affiliation  2.02  1.78  2.55   0.53\n",
       "787      4666  No Musical Affiliation  1.14  1.35  1.02  -0.12\n",
       "790      4693               Indie Kid  1.35  0.17  0.44  -0.91\n",
       "800      4724                Metaller  2.23  1.41  2.11  -0.12\n",
       "\n",
       "[123 rows x 6 columns]"
      ]
     },
     "execution_count": 516,
     "metadata": {},
     "output_type": "execute_result"
    }
   ],
   "source": [
    "da_"
   ]
  },
  {
   "cell_type": "code",
   "execution_count": 517,
   "metadata": {},
   "outputs": [
    {
     "data": {
      "text/html": [
       "<div>\n",
       "<style scoped>\n",
       "    .dataframe tbody tr th:only-of-type {\n",
       "        vertical-align: middle;\n",
       "    }\n",
       "\n",
       "    .dataframe tbody tr th {\n",
       "        vertical-align: top;\n",
       "    }\n",
       "\n",
       "    .dataframe thead th {\n",
       "        text-align: right;\n",
       "    }\n",
       "</style>\n",
       "<table border=\"1\" class=\"dataframe\">\n",
       "  <thead>\n",
       "    <tr style=\"text-align: right;\">\n",
       "      <th></th>\n",
       "      <th>Crusty</th>\n",
       "      <th>Indie Kid</th>\n",
       "      <th>Metaller</th>\n",
       "    </tr>\n",
       "  </thead>\n",
       "  <tbody>\n",
       "    <tr>\n",
       "      <th>0</th>\n",
       "      <td>0</td>\n",
       "      <td>0</td>\n",
       "      <td>1</td>\n",
       "    </tr>\n",
       "    <tr>\n",
       "      <th>1</th>\n",
       "      <td>1</td>\n",
       "      <td>0</td>\n",
       "      <td>0</td>\n",
       "    </tr>\n",
       "    <tr>\n",
       "      <th>9</th>\n",
       "      <td>0</td>\n",
       "      <td>0</td>\n",
       "      <td>0</td>\n",
       "    </tr>\n",
       "    <tr>\n",
       "      <th>11</th>\n",
       "      <td>1</td>\n",
       "      <td>0</td>\n",
       "      <td>0</td>\n",
       "    </tr>\n",
       "    <tr>\n",
       "      <th>13</th>\n",
       "      <td>0</td>\n",
       "      <td>0</td>\n",
       "      <td>0</td>\n",
       "    </tr>\n",
       "    <tr>\n",
       "      <th>...</th>\n",
       "      <td>...</td>\n",
       "      <td>...</td>\n",
       "      <td>...</td>\n",
       "    </tr>\n",
       "    <tr>\n",
       "      <th>777</th>\n",
       "      <td>0</td>\n",
       "      <td>1</td>\n",
       "      <td>0</td>\n",
       "    </tr>\n",
       "    <tr>\n",
       "      <th>784</th>\n",
       "      <td>0</td>\n",
       "      <td>0</td>\n",
       "      <td>0</td>\n",
       "    </tr>\n",
       "    <tr>\n",
       "      <th>787</th>\n",
       "      <td>0</td>\n",
       "      <td>0</td>\n",
       "      <td>0</td>\n",
       "    </tr>\n",
       "    <tr>\n",
       "      <th>790</th>\n",
       "      <td>0</td>\n",
       "      <td>1</td>\n",
       "      <td>0</td>\n",
       "    </tr>\n",
       "    <tr>\n",
       "      <th>800</th>\n",
       "      <td>0</td>\n",
       "      <td>0</td>\n",
       "      <td>1</td>\n",
       "    </tr>\n",
       "  </tbody>\n",
       "</table>\n",
       "<p>123 rows × 3 columns</p>\n",
       "</div>"
      ],
      "text/plain": [
       "     Crusty  Indie Kid  Metaller\n",
       "0         0          0         1\n",
       "1         1          0         0\n",
       "9         0          0         0\n",
       "11        1          0         0\n",
       "13        0          0         0\n",
       "..      ...        ...       ...\n",
       "777       0          1         0\n",
       "784       0          0         0\n",
       "787       0          0         0\n",
       "790       0          1         0\n",
       "800       0          0         1\n",
       "\n",
       "[123 rows x 3 columns]"
      ]
     },
     "execution_count": 517,
     "metadata": {},
     "output_type": "execute_result"
    }
   ],
   "source": [
    "dummies = pd.get_dummies(da_['music'])\n",
    "dummy = dummies.iloc[:,0:3]\n",
    "dummy"
   ]
  },
  {
   "cell_type": "code",
   "execution_count": 518,
   "metadata": {},
   "outputs": [],
   "source": [
    "da_ = pd.merge(da_, dummy, how='inner', left_index=True, right_index=True)"
   ]
  },
  {
   "cell_type": "code",
   "execution_count": 519,
   "metadata": {},
   "outputs": [
    {
     "data": {
      "text/html": [
       "<div>\n",
       "<style scoped>\n",
       "    .dataframe tbody tr th:only-of-type {\n",
       "        vertical-align: middle;\n",
       "    }\n",
       "\n",
       "    .dataframe tbody tr th {\n",
       "        vertical-align: top;\n",
       "    }\n",
       "\n",
       "    .dataframe thead th {\n",
       "        text-align: right;\n",
       "    }\n",
       "</style>\n",
       "<table border=\"1\" class=\"dataframe\">\n",
       "  <thead>\n",
       "    <tr style=\"text-align: right;\">\n",
       "      <th></th>\n",
       "      <th>ticknumb</th>\n",
       "      <th>music</th>\n",
       "      <th>day1</th>\n",
       "      <th>day2</th>\n",
       "      <th>day3</th>\n",
       "      <th>change</th>\n",
       "      <th>Crusty</th>\n",
       "      <th>Indie Kid</th>\n",
       "      <th>Metaller</th>\n",
       "    </tr>\n",
       "  </thead>\n",
       "  <tbody>\n",
       "    <tr>\n",
       "      <th>0</th>\n",
       "      <td>2111</td>\n",
       "      <td>Metaller</td>\n",
       "      <td>2.65</td>\n",
       "      <td>1.35</td>\n",
       "      <td>1.61</td>\n",
       "      <td>-1.04</td>\n",
       "      <td>0</td>\n",
       "      <td>0</td>\n",
       "      <td>1</td>\n",
       "    </tr>\n",
       "    <tr>\n",
       "      <th>1</th>\n",
       "      <td>2229</td>\n",
       "      <td>Crusty</td>\n",
       "      <td>0.97</td>\n",
       "      <td>1.41</td>\n",
       "      <td>0.29</td>\n",
       "      <td>-0.68</td>\n",
       "      <td>1</td>\n",
       "      <td>0</td>\n",
       "      <td>0</td>\n",
       "    </tr>\n",
       "    <tr>\n",
       "      <th>9</th>\n",
       "      <td>2504</td>\n",
       "      <td>No Musical Affiliation</td>\n",
       "      <td>1.11</td>\n",
       "      <td>0.44</td>\n",
       "      <td>0.55</td>\n",
       "      <td>-0.56</td>\n",
       "      <td>0</td>\n",
       "      <td>0</td>\n",
       "      <td>0</td>\n",
       "    </tr>\n",
       "    <tr>\n",
       "      <th>11</th>\n",
       "      <td>2510</td>\n",
       "      <td>Crusty</td>\n",
       "      <td>0.82</td>\n",
       "      <td>0.2</td>\n",
       "      <td>0.47</td>\n",
       "      <td>-0.35</td>\n",
       "      <td>1</td>\n",
       "      <td>0</td>\n",
       "      <td>0</td>\n",
       "    </tr>\n",
       "    <tr>\n",
       "      <th>13</th>\n",
       "      <td>2515</td>\n",
       "      <td>No Musical Affiliation</td>\n",
       "      <td>1.76</td>\n",
       "      <td>1.64</td>\n",
       "      <td>1.58</td>\n",
       "      <td>-0.18</td>\n",
       "      <td>0</td>\n",
       "      <td>0</td>\n",
       "      <td>0</td>\n",
       "    </tr>\n",
       "  </tbody>\n",
       "</table>\n",
       "</div>"
      ],
      "text/plain": [
       "    ticknumb                   music  day1  day2  day3 change  Crusty  \\\n",
       "0       2111                Metaller  2.65  1.35  1.61  -1.04       0   \n",
       "1       2229                  Crusty  0.97  1.41  0.29  -0.68       1   \n",
       "9       2504  No Musical Affiliation  1.11  0.44  0.55  -0.56       0   \n",
       "11      2510                  Crusty  0.82   0.2  0.47  -0.35       1   \n",
       "13      2515  No Musical Affiliation  1.76  1.64  1.58  -0.18       0   \n",
       "\n",
       "    Indie Kid  Metaller  \n",
       "0           0         1  \n",
       "1           0         0  \n",
       "9           0         0  \n",
       "11          0         0  \n",
       "13          0         0  "
      ]
     },
     "execution_count": 519,
     "metadata": {},
     "output_type": "execute_result"
    }
   ],
   "source": [
    "da_.head()"
   ]
  },
  {
   "cell_type": "code",
   "execution_count": 520,
   "metadata": {},
   "outputs": [],
   "source": [
    "col =list(da_.columns)"
   ]
  },
  {
   "cell_type": "code",
   "execution_count": 521,
   "metadata": {},
   "outputs": [],
   "source": [
    "col[-2]='Indie'"
   ]
  },
  {
   "cell_type": "code",
   "execution_count": 522,
   "metadata": {},
   "outputs": [],
   "source": [
    "da_.columns=col"
   ]
  },
  {
   "cell_type": "code",
   "execution_count": 523,
   "metadata": {},
   "outputs": [
    {
     "name": "stdout",
     "output_type": "stream",
     "text": [
      "<class 'pandas.core.frame.DataFrame'>\n",
      "Int64Index: 123 entries, 0 to 800\n",
      "Data columns (total 9 columns):\n",
      " #   Column    Non-Null Count  Dtype  \n",
      "---  ------    --------------  -----  \n",
      " 0   ticknumb  123 non-null    int64  \n",
      " 1   music     123 non-null    object \n",
      " 2   day1      123 non-null    float64\n",
      " 3   day2      123 non-null    object \n",
      " 4   day3      123 non-null    object \n",
      " 5   change    123 non-null    object \n",
      " 6   Crusty    123 non-null    uint8  \n",
      " 7   Indie     123 non-null    uint8  \n",
      " 8   Metaller  123 non-null    uint8  \n",
      "dtypes: float64(1), int64(1), object(4), uint8(3)\n",
      "memory usage: 12.1+ KB\n"
     ]
    }
   ],
   "source": [
    "da_.info()"
   ]
  },
  {
   "cell_type": "code",
   "execution_count": null,
   "metadata": {},
   "outputs": [],
   "source": []
  },
  {
   "cell_type": "code",
   "execution_count": 524,
   "metadata": {},
   "outputs": [],
   "source": [
    "da_['change']=pd.to_numeric(da_['change'])"
   ]
  },
  {
   "cell_type": "code",
   "execution_count": 525,
   "metadata": {},
   "outputs": [],
   "source": [
    "m04 = ols('change~Crusty+Indie+Metaller', data=da_).fit()"
   ]
  },
  {
   "cell_type": "code",
   "execution_count": 526,
   "metadata": {},
   "outputs": [
    {
     "data": {
      "text/html": [
       "<table class=\"simpletable\">\n",
       "<caption>OLS Regression Results</caption>\n",
       "<tr>\n",
       "  <th>Dep. Variable:</th>         <td>change</td>      <th>  R-squared:         </th> <td>   0.076</td>\n",
       "</tr>\n",
       "<tr>\n",
       "  <th>Model:</th>                   <td>OLS</td>       <th>  Adj. R-squared:    </th> <td>   0.053</td>\n",
       "</tr>\n",
       "<tr>\n",
       "  <th>Method:</th>             <td>Least Squares</td>  <th>  F-statistic:       </th> <td>   3.270</td>\n",
       "</tr>\n",
       "<tr>\n",
       "  <th>Date:</th>             <td>Sat, 20 Jun 2020</td> <th>  Prob (F-statistic):</th>  <td>0.0237</td> \n",
       "</tr>\n",
       "<tr>\n",
       "  <th>Time:</th>                 <td>07:48:54</td>     <th>  Log-Likelihood:    </th> <td> -126.53</td>\n",
       "</tr>\n",
       "<tr>\n",
       "  <th>No. Observations:</th>      <td>   123</td>      <th>  AIC:               </th> <td>   261.1</td>\n",
       "</tr>\n",
       "<tr>\n",
       "  <th>Df Residuals:</th>          <td>   119</td>      <th>  BIC:               </th> <td>   272.3</td>\n",
       "</tr>\n",
       "<tr>\n",
       "  <th>Df Model:</th>              <td>     3</td>      <th>                     </th>     <td> </td>   \n",
       "</tr>\n",
       "<tr>\n",
       "  <th>Covariance Type:</th>      <td>nonrobust</td>    <th>                     </th>     <td> </td>   \n",
       "</tr>\n",
       "</table>\n",
       "<table class=\"simpletable\">\n",
       "<tr>\n",
       "      <td></td>         <th>coef</th>     <th>std err</th>      <th>t</th>      <th>P>|t|</th>  <th>[0.025</th>    <th>0.975]</th>  \n",
       "</tr>\n",
       "<tr>\n",
       "  <th>Intercept</th> <td>   -0.5543</td> <td>    0.090</td> <td>   -6.134</td> <td> 0.000</td> <td>   -0.733</td> <td>   -0.375</td>\n",
       "</tr>\n",
       "<tr>\n",
       "  <th>Crusty</th>    <td>   -0.4115</td> <td>    0.167</td> <td>   -2.464</td> <td> 0.015</td> <td>   -0.742</td> <td>   -0.081</td>\n",
       "</tr>\n",
       "<tr>\n",
       "  <th>Indie</th>     <td>   -0.4100</td> <td>    0.205</td> <td>   -2.001</td> <td> 0.048</td> <td>   -0.816</td> <td>   -0.004</td>\n",
       "</tr>\n",
       "<tr>\n",
       "  <th>Metaller</th>  <td>    0.0284</td> <td>    0.160</td> <td>    0.177</td> <td> 0.860</td> <td>   -0.289</td> <td>    0.346</td>\n",
       "</tr>\n",
       "</table>\n",
       "<table class=\"simpletable\">\n",
       "<tr>\n",
       "  <th>Omnibus:</th>       <td> 0.870</td> <th>  Durbin-Watson:     </th> <td>   1.893</td>\n",
       "</tr>\n",
       "<tr>\n",
       "  <th>Prob(Omnibus):</th> <td> 0.647</td> <th>  Jarque-Bera (JB):  </th> <td>   0.881</td>\n",
       "</tr>\n",
       "<tr>\n",
       "  <th>Skew:</th>          <td>-0.197</td> <th>  Prob(JB):          </th> <td>   0.644</td>\n",
       "</tr>\n",
       "<tr>\n",
       "  <th>Kurtosis:</th>      <td> 2.871</td> <th>  Cond. No.          </th> <td>    3.96</td>\n",
       "</tr>\n",
       "</table><br/><br/>Warnings:<br/>[1] Standard Errors assume that the covariance matrix of the errors is correctly specified."
      ],
      "text/plain": [
       "<class 'statsmodels.iolib.summary.Summary'>\n",
       "\"\"\"\n",
       "                            OLS Regression Results                            \n",
       "==============================================================================\n",
       "Dep. Variable:                 change   R-squared:                       0.076\n",
       "Model:                            OLS   Adj. R-squared:                  0.053\n",
       "Method:                 Least Squares   F-statistic:                     3.270\n",
       "Date:                Sat, 20 Jun 2020   Prob (F-statistic):             0.0237\n",
       "Time:                        07:48:54   Log-Likelihood:                -126.53\n",
       "No. Observations:                 123   AIC:                             261.1\n",
       "Df Residuals:                     119   BIC:                             272.3\n",
       "Df Model:                           3                                         \n",
       "Covariance Type:            nonrobust                                         \n",
       "==============================================================================\n",
       "                 coef    std err          t      P>|t|      [0.025      0.975]\n",
       "------------------------------------------------------------------------------\n",
       "Intercept     -0.5543      0.090     -6.134      0.000      -0.733      -0.375\n",
       "Crusty        -0.4115      0.167     -2.464      0.015      -0.742      -0.081\n",
       "Indie         -0.4100      0.205     -2.001      0.048      -0.816      -0.004\n",
       "Metaller       0.0284      0.160      0.177      0.860      -0.289       0.346\n",
       "==============================================================================\n",
       "Omnibus:                        0.870   Durbin-Watson:                   1.893\n",
       "Prob(Omnibus):                  0.647   Jarque-Bera (JB):                0.881\n",
       "Skew:                          -0.197   Prob(JB):                        0.644\n",
       "Kurtosis:                       2.871   Cond. No.                         3.96\n",
       "==============================================================================\n",
       "\n",
       "Warnings:\n",
       "[1] Standard Errors assume that the covariance matrix of the errors is correctly specified.\n",
       "\"\"\""
      ]
     },
     "execution_count": 526,
     "metadata": {},
     "output_type": "execute_result"
    }
   ],
   "source": [
    "m04.summary()"
   ]
  },
  {
   "cell_type": "code",
   "execution_count": 528,
   "metadata": {},
   "outputs": [
    {
     "data": {
      "text/html": [
       "<div>\n",
       "<style scoped>\n",
       "    .dataframe tbody tr th:only-of-type {\n",
       "        vertical-align: middle;\n",
       "    }\n",
       "\n",
       "    .dataframe tbody tr th {\n",
       "        vertical-align: top;\n",
       "    }\n",
       "\n",
       "    .dataframe thead th {\n",
       "        text-align: right;\n",
       "    }\n",
       "</style>\n",
       "<table border=\"1\" class=\"dataframe\">\n",
       "  <thead>\n",
       "    <tr style=\"text-align: right;\">\n",
       "      <th></th>\n",
       "      <th>dfb_Intercept</th>\n",
       "      <th>dfb_Crusty</th>\n",
       "      <th>dfb_Indie</th>\n",
       "      <th>dfb_Metaller</th>\n",
       "      <th>cooks_d</th>\n",
       "      <th>standard_resid</th>\n",
       "      <th>hat_diag</th>\n",
       "      <th>dffits_internal</th>\n",
       "      <th>student_resid</th>\n",
       "      <th>dffits</th>\n",
       "    </tr>\n",
       "  </thead>\n",
       "  <tbody>\n",
       "    <tr>\n",
       "      <th>0</th>\n",
       "      <td>-4.905781e-15</td>\n",
       "      <td>-3.317546e-16</td>\n",
       "      <td>1.352029e-15</td>\n",
       "      <td>-1.231013e-01</td>\n",
       "      <td>5.571876e-03</td>\n",
       "      <td>-0.761233</td>\n",
       "      <td>0.037037</td>\n",
       "      <td>-0.149290</td>\n",
       "      <td>-0.759880</td>\n",
       "      <td>-0.149025</td>\n",
       "    </tr>\n",
       "    <tr>\n",
       "      <th>1</th>\n",
       "      <td>2.448764e-15</td>\n",
       "      <td>7.414646e-02</td>\n",
       "      <td>-2.429558e-15</td>\n",
       "      <td>-2.415224e-15</td>\n",
       "      <td>1.956655e-03</td>\n",
       "      <td>0.424279</td>\n",
       "      <td>0.041667</td>\n",
       "      <td>0.088468</td>\n",
       "      <td>0.422812</td>\n",
       "      <td>0.088162</td>\n",
       "    </tr>\n",
       "    <tr>\n",
       "      <th>9</th>\n",
       "      <td>-1.099991e-03</td>\n",
       "      <td>5.950972e-04</td>\n",
       "      <td>4.850505e-04</td>\n",
       "      <td>6.199571e-04</td>\n",
       "      <td>3.050585e-07</td>\n",
       "      <td>-0.008340</td>\n",
       "      <td>0.017241</td>\n",
       "      <td>-0.001105</td>\n",
       "      <td>-0.008305</td>\n",
       "      <td>-0.001100</td>\n",
       "    </tr>\n",
       "    <tr>\n",
       "      <th>11</th>\n",
       "      <td>-2.455548e-15</td>\n",
       "      <td>1.601925e-01</td>\n",
       "      <td>-4.601878e-15</td>\n",
       "      <td>-1.124460e-15</td>\n",
       "      <td>9.082698e-03</td>\n",
       "      <td>0.914116</td>\n",
       "      <td>0.041667</td>\n",
       "      <td>0.190606</td>\n",
       "      <td>0.913480</td>\n",
       "      <td>0.190474</td>\n",
       "    </tr>\n",
       "    <tr>\n",
       "      <th>13</th>\n",
       "      <td>7.245777e-02</td>\n",
       "      <td>-3.919978e-02</td>\n",
       "      <td>-3.195087e-02</td>\n",
       "      <td>-4.083733e-02</td>\n",
       "      <td>1.320307e-03</td>\n",
       "      <td>0.548662</td>\n",
       "      <td>0.017241</td>\n",
       "      <td>0.072672</td>\n",
       "      <td>0.547044</td>\n",
       "      <td>0.072458</td>\n",
       "    </tr>\n",
       "  </tbody>\n",
       "</table>\n",
       "</div>"
      ],
      "text/plain": [
       "    dfb_Intercept    dfb_Crusty     dfb_Indie  dfb_Metaller       cooks_d  \\\n",
       "0   -4.905781e-15 -3.317546e-16  1.352029e-15 -1.231013e-01  5.571876e-03   \n",
       "1    2.448764e-15  7.414646e-02 -2.429558e-15 -2.415224e-15  1.956655e-03   \n",
       "9   -1.099991e-03  5.950972e-04  4.850505e-04  6.199571e-04  3.050585e-07   \n",
       "11  -2.455548e-15  1.601925e-01 -4.601878e-15 -1.124460e-15  9.082698e-03   \n",
       "13   7.245777e-02 -3.919978e-02 -3.195087e-02 -4.083733e-02  1.320307e-03   \n",
       "\n",
       "    standard_resid  hat_diag  dffits_internal  student_resid    dffits  \n",
       "0        -0.761233  0.037037        -0.149290      -0.759880 -0.149025  \n",
       "1         0.424279  0.041667         0.088468       0.422812  0.088162  \n",
       "9        -0.008340  0.017241        -0.001105      -0.008305 -0.001100  \n",
       "11        0.914116  0.041667         0.190606       0.913480  0.190474  \n",
       "13        0.548662  0.017241         0.072672       0.547044  0.072458  "
      ]
     },
     "execution_count": 528,
     "metadata": {},
     "output_type": "execute_result"
    }
   ],
   "source": [
    "summary_ = sms.OLSInfluence(m04).summary_frame()\n",
    "summary_ .head()"
   ]
  },
  {
   "cell_type": "code",
   "execution_count": null,
   "metadata": {},
   "outputs": [],
   "source": []
  },
  {
   "cell_type": "code",
   "execution_count": 529,
   "metadata": {},
   "outputs": [
    {
     "data": {
      "text/html": [
       "<div>\n",
       "<style scoped>\n",
       "    .dataframe tbody tr th:only-of-type {\n",
       "        vertical-align: middle;\n",
       "    }\n",
       "\n",
       "    .dataframe tbody tr th {\n",
       "        vertical-align: top;\n",
       "    }\n",
       "\n",
       "    .dataframe thead th {\n",
       "        text-align: right;\n",
       "    }\n",
       "</style>\n",
       "<table border=\"1\" class=\"dataframe\">\n",
       "  <thead>\n",
       "    <tr style=\"text-align: right;\">\n",
       "      <th></th>\n",
       "      <th>cooks_d</th>\n",
       "      <th>standard_resid</th>\n",
       "      <th>student_resid</th>\n",
       "      <th>hat_diag</th>\n",
       "    </tr>\n",
       "  </thead>\n",
       "  <tbody>\n",
       "    <tr>\n",
       "      <th>0</th>\n",
       "      <td>5.571876e-03</td>\n",
       "      <td>-0.761233</td>\n",
       "      <td>-0.759880</td>\n",
       "      <td>0.037037</td>\n",
       "    </tr>\n",
       "    <tr>\n",
       "      <th>1</th>\n",
       "      <td>1.956655e-03</td>\n",
       "      <td>0.424279</td>\n",
       "      <td>0.422812</td>\n",
       "      <td>0.041667</td>\n",
       "    </tr>\n",
       "    <tr>\n",
       "      <th>2</th>\n",
       "      <td>3.050585e-07</td>\n",
       "      <td>-0.008340</td>\n",
       "      <td>-0.008305</td>\n",
       "      <td>0.017241</td>\n",
       "    </tr>\n",
       "    <tr>\n",
       "      <th>3</th>\n",
       "      <td>9.082698e-03</td>\n",
       "      <td>0.914116</td>\n",
       "      <td>0.913480</td>\n",
       "      <td>0.041667</td>\n",
       "    </tr>\n",
       "    <tr>\n",
       "      <th>4</th>\n",
       "      <td>1.320307e-03</td>\n",
       "      <td>0.548662</td>\n",
       "      <td>0.547044</td>\n",
       "      <td>0.017241</td>\n",
       "    </tr>\n",
       "  </tbody>\n",
       "</table>\n",
       "</div>"
      ],
      "text/plain": [
       "        cooks_d  standard_resid  student_resid  hat_diag\n",
       "0  5.571876e-03       -0.761233      -0.759880  0.037037\n",
       "1  1.956655e-03        0.424279       0.422812  0.041667\n",
       "2  3.050585e-07       -0.008340      -0.008305  0.017241\n",
       "3  9.082698e-03        0.914116       0.913480  0.041667\n",
       "4  1.320307e-03        0.548662       0.547044  0.017241"
      ]
     },
     "execution_count": 529,
     "metadata": {},
     "output_type": "execute_result"
    }
   ],
   "source": [
    "summary_ = summary_[['cooks_d','standard_resid', 'student_resid', 'hat_diag' ]]\n",
    "summary_.reset_index(inplace=True, drop=True)\n",
    "summary_.head()"
   ]
  },
  {
   "cell_type": "code",
   "execution_count": 532,
   "metadata": {},
   "outputs": [],
   "source": [
    "da_.reset_index(inplace=True, drop=True)"
   ]
  },
  {
   "cell_type": "code",
   "execution_count": 533,
   "metadata": {},
   "outputs": [
    {
     "data": {
      "text/html": [
       "<div>\n",
       "<style scoped>\n",
       "    .dataframe tbody tr th:only-of-type {\n",
       "        vertical-align: middle;\n",
       "    }\n",
       "\n",
       "    .dataframe tbody tr th {\n",
       "        vertical-align: top;\n",
       "    }\n",
       "\n",
       "    .dataframe thead th {\n",
       "        text-align: right;\n",
       "    }\n",
       "</style>\n",
       "<table border=\"1\" class=\"dataframe\">\n",
       "  <thead>\n",
       "    <tr style=\"text-align: right;\">\n",
       "      <th></th>\n",
       "      <th>residual</th>\n",
       "    </tr>\n",
       "  </thead>\n",
       "  <tbody>\n",
       "    <tr>\n",
       "      <th>0</th>\n",
       "      <td>-0.514074</td>\n",
       "    </tr>\n",
       "    <tr>\n",
       "      <th>1</th>\n",
       "      <td>0.285833</td>\n",
       "    </tr>\n",
       "    <tr>\n",
       "      <th>2</th>\n",
       "      <td>NaN</td>\n",
       "    </tr>\n",
       "    <tr>\n",
       "      <th>3</th>\n",
       "      <td>NaN</td>\n",
       "    </tr>\n",
       "    <tr>\n",
       "      <th>4</th>\n",
       "      <td>NaN</td>\n",
       "    </tr>\n",
       "  </tbody>\n",
       "</table>\n",
       "</div>"
      ],
      "text/plain": [
       "   residual\n",
       "0 -0.514074\n",
       "1  0.285833\n",
       "2       NaN\n",
       "3       NaN\n",
       "4       NaN"
      ]
     },
     "execution_count": 533,
     "metadata": {},
     "output_type": "execute_result"
    }
   ],
   "source": [
    "resid = pd.DataFrame(da_['change'] - m04.fittedvalues)\n",
    "resid.columns = ['residual']\n",
    "resid.reset_index(inplace=True, drop=True)\n",
    "resid.head()"
   ]
  },
  {
   "cell_type": "code",
   "execution_count": 534,
   "metadata": {},
   "outputs": [
    {
     "data": {
      "text/html": [
       "<div>\n",
       "<style scoped>\n",
       "    .dataframe tbody tr th:only-of-type {\n",
       "        vertical-align: middle;\n",
       "    }\n",
       "\n",
       "    .dataframe tbody tr th {\n",
       "        vertical-align: top;\n",
       "    }\n",
       "\n",
       "    .dataframe thead th {\n",
       "        text-align: right;\n",
       "    }\n",
       "</style>\n",
       "<table border=\"1\" class=\"dataframe\">\n",
       "  <thead>\n",
       "    <tr style=\"text-align: right;\">\n",
       "      <th></th>\n",
       "      <th>dfbeta</th>\n",
       "    </tr>\n",
       "  </thead>\n",
       "  <tbody>\n",
       "    <tr>\n",
       "      <th>0</th>\n",
       "      <td>-4.440892e-16</td>\n",
       "    </tr>\n",
       "    <tr>\n",
       "      <th>1</th>\n",
       "      <td>2.220446e-16</td>\n",
       "    </tr>\n",
       "    <tr>\n",
       "      <th>2</th>\n",
       "      <td>-9.981851e-05</td>\n",
       "    </tr>\n",
       "    <tr>\n",
       "      <th>3</th>\n",
       "      <td>-2.220446e-16</td>\n",
       "    </tr>\n",
       "    <tr>\n",
       "      <th>4</th>\n",
       "      <td>6.566848e-03</td>\n",
       "    </tr>\n",
       "  </tbody>\n",
       "</table>\n",
       "</div>"
      ],
      "text/plain": [
       "         dfbeta\n",
       "0 -4.440892e-16\n",
       "1  2.220446e-16\n",
       "2 -9.981851e-05\n",
       "3 -2.220446e-16\n",
       "4  6.566848e-03"
      ]
     },
     "execution_count": 534,
     "metadata": {},
     "output_type": "execute_result"
    }
   ],
   "source": [
    "dfbeta = pd.DataFrame(pd.DataFrame(sms.OLSInfluence(m04).dfbeta)[0])\n",
    "dfbeta.columns = ['dfbeta']\n",
    "dfbeta.head()"
   ]
  },
  {
   "cell_type": "code",
   "execution_count": 535,
   "metadata": {},
   "outputs": [],
   "source": [
    "dq = [da_, resid, summary_, dfbeta]"
   ]
  },
  {
   "cell_type": "code",
   "execution_count": 536,
   "metadata": {},
   "outputs": [
    {
     "data": {
      "text/html": [
       "<div>\n",
       "<style scoped>\n",
       "    .dataframe tbody tr th:only-of-type {\n",
       "        vertical-align: middle;\n",
       "    }\n",
       "\n",
       "    .dataframe tbody tr th {\n",
       "        vertical-align: top;\n",
       "    }\n",
       "\n",
       "    .dataframe thead th {\n",
       "        text-align: right;\n",
       "    }\n",
       "</style>\n",
       "<table border=\"1\" class=\"dataframe\">\n",
       "  <thead>\n",
       "    <tr style=\"text-align: right;\">\n",
       "      <th></th>\n",
       "      <th>ticknumb</th>\n",
       "      <th>music</th>\n",
       "      <th>day1</th>\n",
       "      <th>day2</th>\n",
       "      <th>day3</th>\n",
       "      <th>change</th>\n",
       "      <th>Crusty</th>\n",
       "      <th>Indie</th>\n",
       "      <th>Metaller</th>\n",
       "      <th>residual</th>\n",
       "      <th>cooks_d</th>\n",
       "      <th>standard_resid</th>\n",
       "      <th>student_resid</th>\n",
       "      <th>hat_diag</th>\n",
       "      <th>dfbeta</th>\n",
       "    </tr>\n",
       "  </thead>\n",
       "  <tbody>\n",
       "    <tr>\n",
       "      <th>0</th>\n",
       "      <td>2111</td>\n",
       "      <td>Metaller</td>\n",
       "      <td>2.65</td>\n",
       "      <td>1.35</td>\n",
       "      <td>1.61</td>\n",
       "      <td>-1.04</td>\n",
       "      <td>0</td>\n",
       "      <td>0</td>\n",
       "      <td>1</td>\n",
       "      <td>-0.514074</td>\n",
       "      <td>5.571876e-03</td>\n",
       "      <td>-0.761233</td>\n",
       "      <td>-0.759880</td>\n",
       "      <td>0.037037</td>\n",
       "      <td>-4.440892e-16</td>\n",
       "    </tr>\n",
       "    <tr>\n",
       "      <th>1</th>\n",
       "      <td>2229</td>\n",
       "      <td>Crusty</td>\n",
       "      <td>0.97</td>\n",
       "      <td>1.41</td>\n",
       "      <td>0.29</td>\n",
       "      <td>-0.68</td>\n",
       "      <td>1</td>\n",
       "      <td>0</td>\n",
       "      <td>0</td>\n",
       "      <td>0.285833</td>\n",
       "      <td>1.956655e-03</td>\n",
       "      <td>0.424279</td>\n",
       "      <td>0.422812</td>\n",
       "      <td>0.041667</td>\n",
       "      <td>2.220446e-16</td>\n",
       "    </tr>\n",
       "    <tr>\n",
       "      <th>2</th>\n",
       "      <td>2504</td>\n",
       "      <td>No Musical Affiliation</td>\n",
       "      <td>1.11</td>\n",
       "      <td>0.44</td>\n",
       "      <td>0.55</td>\n",
       "      <td>-0.56</td>\n",
       "      <td>0</td>\n",
       "      <td>0</td>\n",
       "      <td>0</td>\n",
       "      <td>NaN</td>\n",
       "      <td>3.050585e-07</td>\n",
       "      <td>-0.008340</td>\n",
       "      <td>-0.008305</td>\n",
       "      <td>0.017241</td>\n",
       "      <td>-9.981851e-05</td>\n",
       "    </tr>\n",
       "    <tr>\n",
       "      <th>3</th>\n",
       "      <td>2510</td>\n",
       "      <td>Crusty</td>\n",
       "      <td>0.82</td>\n",
       "      <td>0.2</td>\n",
       "      <td>0.47</td>\n",
       "      <td>-0.35</td>\n",
       "      <td>1</td>\n",
       "      <td>0</td>\n",
       "      <td>0</td>\n",
       "      <td>NaN</td>\n",
       "      <td>9.082698e-03</td>\n",
       "      <td>0.914116</td>\n",
       "      <td>0.913480</td>\n",
       "      <td>0.041667</td>\n",
       "      <td>-2.220446e-16</td>\n",
       "    </tr>\n",
       "    <tr>\n",
       "      <th>4</th>\n",
       "      <td>2515</td>\n",
       "      <td>No Musical Affiliation</td>\n",
       "      <td>1.76</td>\n",
       "      <td>1.64</td>\n",
       "      <td>1.58</td>\n",
       "      <td>-0.18</td>\n",
       "      <td>0</td>\n",
       "      <td>0</td>\n",
       "      <td>0</td>\n",
       "      <td>NaN</td>\n",
       "      <td>1.320307e-03</td>\n",
       "      <td>0.548662</td>\n",
       "      <td>0.547044</td>\n",
       "      <td>0.017241</td>\n",
       "      <td>6.566848e-03</td>\n",
       "    </tr>\n",
       "    <tr>\n",
       "      <th>...</th>\n",
       "      <td>...</td>\n",
       "      <td>...</td>\n",
       "      <td>...</td>\n",
       "      <td>...</td>\n",
       "      <td>...</td>\n",
       "      <td>...</td>\n",
       "      <td>...</td>\n",
       "      <td>...</td>\n",
       "      <td>...</td>\n",
       "      <td>...</td>\n",
       "      <td>...</td>\n",
       "      <td>...</td>\n",
       "      <td>...</td>\n",
       "      <td>...</td>\n",
       "      <td>...</td>\n",
       "    </tr>\n",
       "    <tr>\n",
       "      <th>118</th>\n",
       "      <td>4582</td>\n",
       "      <td>Indie Kid</td>\n",
       "      <td>1.29</td>\n",
       "      <td>1.58</td>\n",
       "      <td>0.81</td>\n",
       "      <td>-0.48</td>\n",
       "      <td>0</td>\n",
       "      <td>1</td>\n",
       "      <td>0</td>\n",
       "      <td>NaN</td>\n",
       "      <td>1.025599e-02</td>\n",
       "      <td>0.730282</td>\n",
       "      <td>0.728842</td>\n",
       "      <td>0.071429</td>\n",
       "      <td>2.220446e-16</td>\n",
       "    </tr>\n",
       "    <tr>\n",
       "      <th>119</th>\n",
       "      <td>4654</td>\n",
       "      <td>No Musical Affiliation</td>\n",
       "      <td>2.02</td>\n",
       "      <td>1.78</td>\n",
       "      <td>2.55</td>\n",
       "      <td>0.53</td>\n",
       "      <td>0</td>\n",
       "      <td>0</td>\n",
       "      <td>0</td>\n",
       "      <td>NaN</td>\n",
       "      <td>1.107946e-02</td>\n",
       "      <td>1.589376</td>\n",
       "      <td>1.599755</td>\n",
       "      <td>0.017241</td>\n",
       "      <td>1.902299e-02</td>\n",
       "    </tr>\n",
       "    <tr>\n",
       "      <th>120</th>\n",
       "      <td>4666</td>\n",
       "      <td>No Musical Affiliation</td>\n",
       "      <td>1.14</td>\n",
       "      <td>1.35</td>\n",
       "      <td>1.02</td>\n",
       "      <td>-0.12</td>\n",
       "      <td>0</td>\n",
       "      <td>0</td>\n",
       "      <td>0</td>\n",
       "      <td>NaN</td>\n",
       "      <td>1.777508e-03</td>\n",
       "      <td>0.636610</td>\n",
       "      <td>0.635011</td>\n",
       "      <td>0.017241</td>\n",
       "      <td>7.619480e-03</td>\n",
       "    </tr>\n",
       "    <tr>\n",
       "      <th>121</th>\n",
       "      <td>4693</td>\n",
       "      <td>Indie Kid</td>\n",
       "      <td>1.35</td>\n",
       "      <td>0.17</td>\n",
       "      <td>0.44</td>\n",
       "      <td>-0.91</td>\n",
       "      <td>0</td>\n",
       "      <td>1</td>\n",
       "      <td>0</td>\n",
       "      <td>NaN</td>\n",
       "      <td>1.288681e-04</td>\n",
       "      <td>0.081860</td>\n",
       "      <td>0.081518</td>\n",
       "      <td>0.071429</td>\n",
       "      <td>1.110223e-16</td>\n",
       "    </tr>\n",
       "    <tr>\n",
       "      <th>122</th>\n",
       "      <td>4724</td>\n",
       "      <td>Metaller</td>\n",
       "      <td>2.23</td>\n",
       "      <td>1.41</td>\n",
       "      <td>2.11</td>\n",
       "      <td>-0.12</td>\n",
       "      <td>0</td>\n",
       "      <td>0</td>\n",
       "      <td>1</td>\n",
       "      <td>NaN</td>\n",
       "      <td>3.474110e-03</td>\n",
       "      <td>0.601089</td>\n",
       "      <td>0.599468</td>\n",
       "      <td>0.037037</td>\n",
       "      <td>-2.220446e-16</td>\n",
       "    </tr>\n",
       "  </tbody>\n",
       "</table>\n",
       "<p>123 rows × 15 columns</p>\n",
       "</div>"
      ],
      "text/plain": [
       "     ticknumb                   music  day1  day2  day3  change  Crusty  \\\n",
       "0        2111                Metaller  2.65  1.35  1.61   -1.04       0   \n",
       "1        2229                  Crusty  0.97  1.41  0.29   -0.68       1   \n",
       "2        2504  No Musical Affiliation  1.11  0.44  0.55   -0.56       0   \n",
       "3        2510                  Crusty  0.82   0.2  0.47   -0.35       1   \n",
       "4        2515  No Musical Affiliation  1.76  1.64  1.58   -0.18       0   \n",
       "..        ...                     ...   ...   ...   ...     ...     ...   \n",
       "118      4582               Indie Kid  1.29  1.58  0.81   -0.48       0   \n",
       "119      4654  No Musical Affiliation  2.02  1.78  2.55    0.53       0   \n",
       "120      4666  No Musical Affiliation  1.14  1.35  1.02   -0.12       0   \n",
       "121      4693               Indie Kid  1.35  0.17  0.44   -0.91       0   \n",
       "122      4724                Metaller  2.23  1.41  2.11   -0.12       0   \n",
       "\n",
       "     Indie  Metaller  residual       cooks_d  standard_resid  student_resid  \\\n",
       "0        0         1 -0.514074  5.571876e-03       -0.761233      -0.759880   \n",
       "1        0         0  0.285833  1.956655e-03        0.424279       0.422812   \n",
       "2        0         0       NaN  3.050585e-07       -0.008340      -0.008305   \n",
       "3        0         0       NaN  9.082698e-03        0.914116       0.913480   \n",
       "4        0         0       NaN  1.320307e-03        0.548662       0.547044   \n",
       "..     ...       ...       ...           ...             ...            ...   \n",
       "118      1         0       NaN  1.025599e-02        0.730282       0.728842   \n",
       "119      0         0       NaN  1.107946e-02        1.589376       1.599755   \n",
       "120      0         0       NaN  1.777508e-03        0.636610       0.635011   \n",
       "121      1         0       NaN  1.288681e-04        0.081860       0.081518   \n",
       "122      0         1       NaN  3.474110e-03        0.601089       0.599468   \n",
       "\n",
       "     hat_diag        dfbeta  \n",
       "0    0.037037 -4.440892e-16  \n",
       "1    0.041667  2.220446e-16  \n",
       "2    0.017241 -9.981851e-05  \n",
       "3    0.041667 -2.220446e-16  \n",
       "4    0.017241  6.566848e-03  \n",
       "..        ...           ...  \n",
       "118  0.071429  2.220446e-16  \n",
       "119  0.017241  1.902299e-02  \n",
       "120  0.017241  7.619480e-03  \n",
       "121  0.071429  1.110223e-16  \n",
       "122  0.037037 -2.220446e-16  \n",
       "\n",
       "[123 rows x 15 columns]"
      ]
     },
     "execution_count": 536,
     "metadata": {},
     "output_type": "execute_result"
    }
   ],
   "source": [
    "final_summary = reduce(lambda left,right: pd.merge(left,right, left_index=True, right_index=True), dq)\n",
    "final_summary"
   ]
  },
  {
   "cell_type": "code",
   "execution_count": null,
   "metadata": {},
   "outputs": [],
   "source": []
  },
  {
   "cell_type": "code",
   "execution_count": null,
   "metadata": {},
   "outputs": [],
   "source": []
  },
  {
   "cell_type": "code",
   "execution_count": 537,
   "metadata": {},
   "outputs": [],
   "source": [
    "large_resid  = final_summary[(final_summary['standard_resid']>=2) | (final_summary['standard_resid']<=-2)]"
   ]
  },
  {
   "cell_type": "code",
   "execution_count": 539,
   "metadata": {},
   "outputs": [
    {
     "data": {
      "text/html": [
       "<div>\n",
       "<style scoped>\n",
       "    .dataframe tbody tr th:only-of-type {\n",
       "        vertical-align: middle;\n",
       "    }\n",
       "\n",
       "    .dataframe tbody tr th {\n",
       "        vertical-align: top;\n",
       "    }\n",
       "\n",
       "    .dataframe thead th {\n",
       "        text-align: right;\n",
       "    }\n",
       "</style>\n",
       "<table border=\"1\" class=\"dataframe\">\n",
       "  <thead>\n",
       "    <tr style=\"text-align: right;\">\n",
       "      <th></th>\n",
       "      <th>ticknumb</th>\n",
       "      <th>music</th>\n",
       "      <th>day1</th>\n",
       "      <th>day2</th>\n",
       "      <th>day3</th>\n",
       "      <th>change</th>\n",
       "      <th>Crusty</th>\n",
       "      <th>Indie</th>\n",
       "      <th>Metaller</th>\n",
       "      <th>residual</th>\n",
       "      <th>cooks_d</th>\n",
       "      <th>standard_resid</th>\n",
       "      <th>student_resid</th>\n",
       "      <th>hat_diag</th>\n",
       "      <th>dfbeta</th>\n",
       "    </tr>\n",
       "  </thead>\n",
       "  <tbody>\n",
       "    <tr>\n",
       "      <th>7</th>\n",
       "      <td>2604</td>\n",
       "      <td>Crusty</td>\n",
       "      <td>2.57</td>\n",
       "      <td>0.11</td>\n",
       "      <td>0.02</td>\n",
       "      <td>-2.55</td>\n",
       "      <td>1</td>\n",
       "      <td>0</td>\n",
       "      <td>0</td>\n",
       "      <td>NaN</td>\n",
       "      <td>0.060102</td>\n",
       "      <td>-2.351468</td>\n",
       "      <td>-2.397940</td>\n",
       "      <td>0.041667</td>\n",
       "      <td>2.220446e-16</td>\n",
       "    </tr>\n",
       "    <tr>\n",
       "      <th>21</th>\n",
       "      <td>2975</td>\n",
       "      <td>No Musical Affiliation</td>\n",
       "      <td>1.66</td>\n",
       "      <td>2.12</td>\n",
       "      <td>2.7</td>\n",
       "      <td>1.04</td>\n",
       "      <td>0</td>\n",
       "      <td>0</td>\n",
       "      <td>0</td>\n",
       "      <td>NaN</td>\n",
       "      <td>0.023953</td>\n",
       "      <td>2.336931</td>\n",
       "      <td>2.382401</td>\n",
       "      <td>0.017241</td>\n",
       "      <td>2.797036e-02</td>\n",
       "    </tr>\n",
       "    <tr>\n",
       "      <th>26</th>\n",
       "      <td>3095</td>\n",
       "      <td>No Musical Affiliation</td>\n",
       "      <td>2.71</td>\n",
       "      <td>0.78</td>\n",
       "      <td>0.33</td>\n",
       "      <td>-2.38</td>\n",
       "      <td>0</td>\n",
       "      <td>0</td>\n",
       "      <td>0</td>\n",
       "      <td>NaN</td>\n",
       "      <td>0.031410</td>\n",
       "      <td>-2.676086</td>\n",
       "      <td>-2.748813</td>\n",
       "      <td>0.017241</td>\n",
       "      <td>-3.202964e-02</td>\n",
       "    </tr>\n",
       "    <tr>\n",
       "      <th>46</th>\n",
       "      <td>3490</td>\n",
       "      <td>No Musical Affiliation</td>\n",
       "      <td>2.55</td>\n",
       "      <td>0.82</td>\n",
       "      <td>0.29</td>\n",
       "      <td>-2.26</td>\n",
       "      <td>0</td>\n",
       "      <td>0</td>\n",
       "      <td>0</td>\n",
       "      <td>NaN</td>\n",
       "      <td>0.027416</td>\n",
       "      <td>-2.500190</td>\n",
       "      <td>-2.557747</td>\n",
       "      <td>0.017241</td>\n",
       "      <td>-2.992438e-02</td>\n",
       "    </tr>\n",
       "    <tr>\n",
       "      <th>69</th>\n",
       "      <td>3792</td>\n",
       "      <td>No Musical Affiliation</td>\n",
       "      <td>1.32</td>\n",
       "      <td>1.7</td>\n",
       "      <td>2.29</td>\n",
       "      <td>0.97</td>\n",
       "      <td>0</td>\n",
       "      <td>0</td>\n",
       "      <td>0</td>\n",
       "      <td>NaN</td>\n",
       "      <td>0.021896</td>\n",
       "      <td>2.234325</td>\n",
       "      <td>2.273109</td>\n",
       "      <td>0.017241</td>\n",
       "      <td>2.674229e-02</td>\n",
       "    </tr>\n",
       "  </tbody>\n",
       "</table>\n",
       "</div>"
      ],
      "text/plain": [
       "    ticknumb                   music  day1  day2  day3  change  Crusty  Indie  \\\n",
       "7       2604                  Crusty  2.57  0.11  0.02   -2.55       1      0   \n",
       "21      2975  No Musical Affiliation  1.66  2.12   2.7    1.04       0      0   \n",
       "26      3095  No Musical Affiliation  2.71  0.78  0.33   -2.38       0      0   \n",
       "46      3490  No Musical Affiliation  2.55  0.82  0.29   -2.26       0      0   \n",
       "69      3792  No Musical Affiliation  1.32   1.7  2.29    0.97       0      0   \n",
       "\n",
       "    Metaller  residual   cooks_d  standard_resid  student_resid  hat_diag  \\\n",
       "7          0       NaN  0.060102       -2.351468      -2.397940  0.041667   \n",
       "21         0       NaN  0.023953        2.336931       2.382401  0.017241   \n",
       "26         0       NaN  0.031410       -2.676086      -2.748813  0.017241   \n",
       "46         0       NaN  0.027416       -2.500190      -2.557747  0.017241   \n",
       "69         0       NaN  0.021896        2.234325       2.273109  0.017241   \n",
       "\n",
       "          dfbeta  \n",
       "7   2.220446e-16  \n",
       "21  2.797036e-02  \n",
       "26 -3.202964e-02  \n",
       "46 -2.992438e-02  \n",
       "69  2.674229e-02  "
      ]
     },
     "execution_count": 539,
     "metadata": {},
     "output_type": "execute_result"
    }
   ],
   "source": [
    "large_resid "
   ]
  },
  {
   "cell_type": "code",
   "execution_count": 540,
   "metadata": {},
   "outputs": [
    {
     "data": {
      "text/plain": [
       "0.032520325203252036"
      ]
     },
     "execution_count": 540,
     "metadata": {},
     "output_type": "execute_result"
    }
   ],
   "source": [
    "k = 3 #number of predictors\n",
    "n = 123 #number of objervations\n",
    "\n",
    "average_leverage = (k+1)/n\n",
    "average_leverage"
   ]
  },
  {
   "cell_type": "code",
   "execution_count": 541,
   "metadata": {},
   "outputs": [
    {
     "data": {
      "text/plain": [
       "(0.9024390243902439, 1.0975609756097562)"
      ]
     },
     "execution_count": 541,
     "metadata": {},
     "output_type": "execute_result"
    }
   ],
   "source": [
    "cvr_limit_high = 1+3*average_leverage\n",
    "cvr_limit_low  = 1-3*average_leverage\n",
    "\n",
    "(cvr_limit_low, cvr_limit_high)"
   ]
  },
  {
   "cell_type": "code",
   "execution_count": 542,
   "metadata": {},
   "outputs": [
    {
     "data": {
      "text/html": [
       "<div>\n",
       "<style scoped>\n",
       "    .dataframe tbody tr th:only-of-type {\n",
       "        vertical-align: middle;\n",
       "    }\n",
       "\n",
       "    .dataframe tbody tr th {\n",
       "        vertical-align: top;\n",
       "    }\n",
       "\n",
       "    .dataframe thead th {\n",
       "        text-align: right;\n",
       "    }\n",
       "</style>\n",
       "<table border=\"1\" class=\"dataframe\">\n",
       "  <thead>\n",
       "    <tr style=\"text-align: right;\">\n",
       "      <th></th>\n",
       "      <th>cov_ratio</th>\n",
       "    </tr>\n",
       "  </thead>\n",
       "  <tbody>\n",
       "    <tr>\n",
       "      <th>0</th>\n",
       "      <td>1.053344</td>\n",
       "    </tr>\n",
       "    <tr>\n",
       "      <th>1</th>\n",
       "      <td>1.072787</td>\n",
       "    </tr>\n",
       "    <tr>\n",
       "      <th>2</th>\n",
       "      <td>1.052475</td>\n",
       "    </tr>\n",
       "    <tr>\n",
       "      <th>3</th>\n",
       "      <td>1.049305</td>\n",
       "    </tr>\n",
       "    <tr>\n",
       "      <th>4</th>\n",
       "      <td>1.041869</td>\n",
       "    </tr>\n",
       "  </tbody>\n",
       "</table>\n",
       "</div>"
      ],
      "text/plain": [
       "   cov_ratio\n",
       "0   1.053344\n",
       "1   1.072787\n",
       "2   1.052475\n",
       "3   1.049305\n",
       "4   1.041869"
      ]
     },
     "execution_count": 542,
     "metadata": {},
     "output_type": "execute_result"
    }
   ],
   "source": [
    "cov_ratio = pd.DataFrame(sms.OLSInfluence(m04).cov_ratio)\n",
    "cov_ratio.columns = ['cov_ratio']\n",
    "cov_ratio.head()"
   ]
  },
  {
   "cell_type": "code",
   "execution_count": 544,
   "metadata": {},
   "outputs": [
    {
     "name": "stdout",
     "output_type": "stream",
     "text": [
      "cov_ratio    0.892255\n",
      "Name: 7, dtype: float64\n",
      "cov_ratio    0.872171\n",
      "Name: 21, dtype: float64\n",
      "cov_ratio    0.821091\n",
      "Name: 26, dtype: float64\n",
      "cov_ratio    0.848158\n",
      "Name: 46, dtype: float64\n",
      "cov_ratio    0.886672\n",
      "Name: 69, dtype: float64\n"
     ]
    }
   ],
   "source": [
    "print(cov_ratio.iloc[7])\n",
    "print(cov_ratio.iloc[21])\n",
    "print(cov_ratio.iloc[26])\n",
    "print(cov_ratio.iloc[46])\n",
    "print(cov_ratio.iloc[69])"
   ]
  },
  {
   "cell_type": "markdown",
   "metadata": {},
   "source": [
    "#### Therefore, we are looking for any cases that deviate substantially from these boundaries.. However, given the Cook’s distance for this case, there is probably little cause for alarm.\n",
    "\n",
    "\n",
    "\n",
    "#### none of them has a Cook’s distance greater than 1, so none of the cases is having an undue influence on  the  model. "
   ]
  },
  {
   "cell_type": "code",
   "execution_count": 545,
   "metadata": {},
   "outputs": [
    {
     "data": {
      "text/plain": [
       "1.893407120567447"
      ]
     },
     "execution_count": 545,
     "metadata": {},
     "output_type": "execute_result"
    }
   ],
   "source": [
    "durbin_watson(m04.resid)"
   ]
  },
  {
   "cell_type": "code",
   "execution_count": 546,
   "metadata": {},
   "outputs": [],
   "source": [
    "da_ = add_constant(da_)"
   ]
  },
  {
   "cell_type": "code",
   "execution_count": 547,
   "metadata": {},
   "outputs": [],
   "source": [
    "dz = da_[['const', 'Crusty', 'Indie', 'Metaller']]"
   ]
  },
  {
   "cell_type": "code",
   "execution_count": 548,
   "metadata": {},
   "outputs": [
    {
     "data": {
      "text/html": [
       "<div>\n",
       "<style scoped>\n",
       "    .dataframe tbody tr th:only-of-type {\n",
       "        vertical-align: middle;\n",
       "    }\n",
       "\n",
       "    .dataframe tbody tr th {\n",
       "        vertical-align: top;\n",
       "    }\n",
       "\n",
       "    .dataframe thead th {\n",
       "        text-align: right;\n",
       "    }\n",
       "</style>\n",
       "<table border=\"1\" class=\"dataframe\">\n",
       "  <thead>\n",
       "    <tr style=\"text-align: right;\">\n",
       "      <th></th>\n",
       "      <th>const</th>\n",
       "      <th>Crusty</th>\n",
       "      <th>Indie</th>\n",
       "      <th>Metaller</th>\n",
       "    </tr>\n",
       "  </thead>\n",
       "  <tbody>\n",
       "    <tr>\n",
       "      <th>0</th>\n",
       "      <td>1.0</td>\n",
       "      <td>0</td>\n",
       "      <td>0</td>\n",
       "      <td>1</td>\n",
       "    </tr>\n",
       "    <tr>\n",
       "      <th>1</th>\n",
       "      <td>1.0</td>\n",
       "      <td>1</td>\n",
       "      <td>0</td>\n",
       "      <td>0</td>\n",
       "    </tr>\n",
       "    <tr>\n",
       "      <th>2</th>\n",
       "      <td>1.0</td>\n",
       "      <td>0</td>\n",
       "      <td>0</td>\n",
       "      <td>0</td>\n",
       "    </tr>\n",
       "    <tr>\n",
       "      <th>3</th>\n",
       "      <td>1.0</td>\n",
       "      <td>1</td>\n",
       "      <td>0</td>\n",
       "      <td>0</td>\n",
       "    </tr>\n",
       "    <tr>\n",
       "      <th>4</th>\n",
       "      <td>1.0</td>\n",
       "      <td>0</td>\n",
       "      <td>0</td>\n",
       "      <td>0</td>\n",
       "    </tr>\n",
       "    <tr>\n",
       "      <th>...</th>\n",
       "      <td>...</td>\n",
       "      <td>...</td>\n",
       "      <td>...</td>\n",
       "      <td>...</td>\n",
       "    </tr>\n",
       "    <tr>\n",
       "      <th>118</th>\n",
       "      <td>1.0</td>\n",
       "      <td>0</td>\n",
       "      <td>1</td>\n",
       "      <td>0</td>\n",
       "    </tr>\n",
       "    <tr>\n",
       "      <th>119</th>\n",
       "      <td>1.0</td>\n",
       "      <td>0</td>\n",
       "      <td>0</td>\n",
       "      <td>0</td>\n",
       "    </tr>\n",
       "    <tr>\n",
       "      <th>120</th>\n",
       "      <td>1.0</td>\n",
       "      <td>0</td>\n",
       "      <td>0</td>\n",
       "      <td>0</td>\n",
       "    </tr>\n",
       "    <tr>\n",
       "      <th>121</th>\n",
       "      <td>1.0</td>\n",
       "      <td>0</td>\n",
       "      <td>1</td>\n",
       "      <td>0</td>\n",
       "    </tr>\n",
       "    <tr>\n",
       "      <th>122</th>\n",
       "      <td>1.0</td>\n",
       "      <td>0</td>\n",
       "      <td>0</td>\n",
       "      <td>1</td>\n",
       "    </tr>\n",
       "  </tbody>\n",
       "</table>\n",
       "<p>123 rows × 4 columns</p>\n",
       "</div>"
      ],
      "text/plain": [
       "     const  Crusty  Indie  Metaller\n",
       "0      1.0       0      0         1\n",
       "1      1.0       1      0         0\n",
       "2      1.0       0      0         0\n",
       "3      1.0       1      0         0\n",
       "4      1.0       0      0         0\n",
       "..     ...     ...    ...       ...\n",
       "118    1.0       0      1         0\n",
       "119    1.0       0      0         0\n",
       "120    1.0       0      0         0\n",
       "121    1.0       0      1         0\n",
       "122    1.0       0      0         1\n",
       "\n",
       "[123 rows x 4 columns]"
      ]
     },
     "execution_count": 548,
     "metadata": {},
     "output_type": "execute_result"
    }
   ],
   "source": [
    "dz.reset_index(drop=True, inplace=True)\n",
    "dz"
   ]
  },
  {
   "cell_type": "code",
   "execution_count": 549,
   "metadata": {},
   "outputs": [],
   "source": [
    "vif = pd.Series([variance_inflation_factor(dz.values, i) \n",
    "               for i in range(1, dz.shape[1])], \n",
    "              index=dz.columns[1:])"
   ]
  },
  {
   "cell_type": "code",
   "execution_count": 550,
   "metadata": {},
   "outputs": [
    {
     "data": {
      "text/plain": [
       "Crusty      1.137931\n",
       "Indie       1.100084\n",
       "Metaller    1.143818\n",
       "dtype: float64"
      ]
     },
     "execution_count": 550,
     "metadata": {},
     "output_type": "execute_result"
    }
   ],
   "source": [
    "vif"
   ]
  },
  {
   "cell_type": "code",
   "execution_count": 551,
   "metadata": {},
   "outputs": [
    {
     "data": {
      "text/plain": [
       "1.1272778245023831"
      ]
     },
     "execution_count": 551,
     "metadata": {},
     "output_type": "execute_result"
    }
   ],
   "source": [
    "avg_vif  = np.mean(vif)\n",
    "avg_vif"
   ]
  },
  {
   "cell_type": "code",
   "execution_count": 552,
   "metadata": {},
   "outputs": [
    {
     "data": {
      "text/plain": [
       "Crusty      0.878788\n",
       "Indie       0.909021\n",
       "Metaller    0.874265\n",
       "dtype: float64"
      ]
     },
     "execution_count": 552,
     "metadata": {},
     "output_type": "execute_result"
    }
   ],
   "source": [
    "tolerance  = 1/vif\n",
    "tolerance "
   ]
  },
  {
   "cell_type": "code",
   "execution_count": 559,
   "metadata": {},
   "outputs": [
    {
     "data": {
      "text/html": [
       "<div>\n",
       "<style scoped>\n",
       "    .dataframe tbody tr th:only-of-type {\n",
       "        vertical-align: middle;\n",
       "    }\n",
       "\n",
       "    .dataframe tbody tr th {\n",
       "        vertical-align: top;\n",
       "    }\n",
       "\n",
       "    .dataframe thead th {\n",
       "        text-align: right;\n",
       "    }\n",
       "</style>\n",
       "<table border=\"1\" class=\"dataframe\">\n",
       "  <thead>\n",
       "    <tr style=\"text-align: right;\">\n",
       "      <th></th>\n",
       "      <th>predicted</th>\n",
       "    </tr>\n",
       "  </thead>\n",
       "  <tbody>\n",
       "    <tr>\n",
       "      <th>0</th>\n",
       "      <td>-0.525926</td>\n",
       "    </tr>\n",
       "    <tr>\n",
       "      <th>1</th>\n",
       "      <td>-0.965833</td>\n",
       "    </tr>\n",
       "    <tr>\n",
       "      <th>2</th>\n",
       "      <td>-0.554310</td>\n",
       "    </tr>\n",
       "    <tr>\n",
       "      <th>3</th>\n",
       "      <td>-0.965833</td>\n",
       "    </tr>\n",
       "    <tr>\n",
       "      <th>4</th>\n",
       "      <td>-0.554310</td>\n",
       "    </tr>\n",
       "  </tbody>\n",
       "</table>\n",
       "</div>"
      ],
      "text/plain": [
       "   predicted\n",
       "0  -0.525926\n",
       "1  -0.965833\n",
       "2  -0.554310\n",
       "3  -0.965833\n",
       "4  -0.554310"
      ]
     },
     "execution_count": 559,
     "metadata": {},
     "output_type": "execute_result"
    }
   ],
   "source": [
    "prediction = pd.DataFrame(m04.fittedvalues)\n",
    "prediction.columns = ['predicted']\n",
    "prediction.reset_index(drop=True, inplace=True)\n",
    "prediction.head()"
   ]
  },
  {
   "cell_type": "code",
   "execution_count": 560,
   "metadata": {},
   "outputs": [],
   "source": [
    "prediction['standarized_prediction']  = (prediction['predicted']-prediction['predicted'].mean())/prediction['predicted'].std()"
   ]
  },
  {
   "cell_type": "code",
   "execution_count": 561,
   "metadata": {},
   "outputs": [
    {
     "data": {
      "image/png": "[encoded data removed]",
      "text/plain": [
       "<Figure size 432x288 with 1 Axes>"
      ]
     },
     "metadata": {
      "needs_background": "light"
     },
     "output_type": "display_data"
    }
   ],
   "source": [
    "_ = sns.scatterplot(x= final_summary['standard_resid'], y = prediction['standarized_prediction'] )"
   ]
  },
  {
   "cell_type": "code",
   "execution_count": 564,
   "metadata": {},
   "outputs": [
    {
     "data": {
      "image/png": "[encoded data removed]",
      "text/plain": [
       "<Figure size 360x288 with 1 Axes>"
      ]
     },
     "metadata": {
      "needs_background": "light"
     },
     "output_type": "display_data"
    }
   ],
   "source": [
    "_ = pg.qqplot(final_summary['standard_resid'],)"
   ]
  },
  {
   "cell_type": "markdown",
   "metadata": {},
   "source": [
    "### All in all, the model looks fairly reliable and generalizable!"
   ]
  },
  {
   "cell_type": "code",
   "execution_count": null,
   "metadata": {},
   "outputs": [],
   "source": []
  }
 ],
 "metadata": {
  "kernelspec": {
   "display_name": "Python 3",
   "language": "python",
   "name": "python3"
  },
  "language_info": {
   "codemirror_mode": {
    "name": "ipython",
    "version": 3
   },
   "file_extension": ".py",
   "mimetype": "text/x-python",
   "name": "python",
   "nbconvert_exporter": "python",
   "pygments_lexer": "ipython3",
   "version": "3.7.6"
  }
 },
 "nbformat": 4,
 "nbformat_minor": 4
}
