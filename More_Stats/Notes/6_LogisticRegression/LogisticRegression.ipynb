{
 "cells": [
  {
   "cell_type": "code",
   "execution_count": 313,
   "metadata": {},
   "outputs": [],
   "source": [
    "import pandas as pd\n",
    "import numpy as np\n",
    "import matplotlib.pyplot as plt\n",
    "import seaborn as sns\n",
    "import statsmodels.api as sm\n",
    "import scipy.stats as st\n",
    "import pingouin as pg\n",
    "%matplotlib inline "
   ]
  },
  {
   "cell_type": "code",
   "execution_count": 314,
   "metadata": {},
   "outputs": [
    {
     "data": {
      "text/html": [
       "<div>\n",
       "<style scoped>\n",
       "    .dataframe tbody tr th:only-of-type {\n",
       "        vertical-align: middle;\n",
       "    }\n",
       "\n",
       "    .dataframe tbody tr th {\n",
       "        vertical-align: top;\n",
       "    }\n",
       "\n",
       "    .dataframe thead th {\n",
       "        text-align: right;\n",
       "    }\n",
       "</style>\n",
       "<table border=\"1\" class=\"dataframe\">\n",
       "  <thead>\n",
       "    <tr style=\"text-align: right;\">\n",
       "      <th></th>\n",
       "      <th>Cured</th>\n",
       "      <th>Intervention</th>\n",
       "      <th>Duration</th>\n",
       "    </tr>\n",
       "  </thead>\n",
       "  <tbody>\n",
       "    <tr>\n",
       "      <th>0</th>\n",
       "      <td>Not Cured</td>\n",
       "      <td>No Treatment</td>\n",
       "      <td>7</td>\n",
       "    </tr>\n",
       "    <tr>\n",
       "      <th>1</th>\n",
       "      <td>Not Cured</td>\n",
       "      <td>No Treatment</td>\n",
       "      <td>7</td>\n",
       "    </tr>\n",
       "    <tr>\n",
       "      <th>2</th>\n",
       "      <td>Not Cured</td>\n",
       "      <td>No Treatment</td>\n",
       "      <td>6</td>\n",
       "    </tr>\n",
       "    <tr>\n",
       "      <th>3</th>\n",
       "      <td>Cured</td>\n",
       "      <td>No Treatment</td>\n",
       "      <td>8</td>\n",
       "    </tr>\n",
       "    <tr>\n",
       "      <th>4</th>\n",
       "      <td>Cured</td>\n",
       "      <td>Intervention</td>\n",
       "      <td>7</td>\n",
       "    </tr>\n",
       "  </tbody>\n",
       "</table>\n",
       "</div>"
      ],
      "text/plain": [
       "       Cured  Intervention  Duration\n",
       "0  Not Cured  No Treatment         7\n",
       "1  Not Cured  No Treatment         7\n",
       "2  Not Cured  No Treatment         6\n",
       "3      Cured  No Treatment         8\n",
       "4      Cured  Intervention         7"
      ]
     },
     "execution_count": 314,
     "metadata": {},
     "output_type": "execute_result"
    }
   ],
   "source": [
    "data = pd.read_csv('eel.csv')\n",
    "data.head()"
   ]
  },
  {
   "cell_type": "code",
   "execution_count": 315,
   "metadata": {},
   "outputs": [
    {
     "name": "stdout",
     "output_type": "stream",
     "text": [
      "<class 'pandas.core.frame.DataFrame'>\n",
      "RangeIndex: 113 entries, 0 to 112\n",
      "Data columns (total 3 columns):\n",
      " #   Column        Non-Null Count  Dtype \n",
      "---  ------        --------------  ----- \n",
      " 0   Cured         113 non-null    object\n",
      " 1   Intervention  113 non-null    object\n",
      " 2   Duration      113 non-null    int64 \n",
      "dtypes: int64(1), object(2)\n",
      "memory usage: 2.8+ KB\n"
     ]
    }
   ],
   "source": [
    "data.info()"
   ]
  },
  {
   "cell_type": "code",
   "execution_count": 316,
   "metadata": {},
   "outputs": [
    {
     "data": {
      "text/plain": [
       "array(['Not Cured', 'Cured'], dtype=object)"
      ]
     },
     "execution_count": 316,
     "metadata": {},
     "output_type": "execute_result"
    }
   ],
   "source": [
    "data['Cured'].unique()"
   ]
  },
  {
   "cell_type": "code",
   "execution_count": 317,
   "metadata": {},
   "outputs": [
    {
     "data": {
      "text/plain": [
       "array(['No Treatment', 'Intervention'], dtype=object)"
      ]
     },
     "execution_count": 317,
     "metadata": {},
     "output_type": "execute_result"
    }
   ],
   "source": [
    "data['Intervention'].unique()"
   ]
  },
  {
   "cell_type": "code",
   "execution_count": 318,
   "metadata": {},
   "outputs": [],
   "source": [
    "data['Curedx'] = data['Cured'].replace({'Not Cured':0,'Cured':1 })\n",
    "data['Interventionx'] = data['Intervention'].replace({'No Treatment':0,'Intervention':1 })"
   ]
  },
  {
   "cell_type": "code",
   "execution_count": 319,
   "metadata": {},
   "outputs": [
    {
     "data": {
      "text/html": [
       "<div>\n",
       "<style scoped>\n",
       "    .dataframe tbody tr th:only-of-type {\n",
       "        vertical-align: middle;\n",
       "    }\n",
       "\n",
       "    .dataframe tbody tr th {\n",
       "        vertical-align: top;\n",
       "    }\n",
       "\n",
       "    .dataframe thead th {\n",
       "        text-align: right;\n",
       "    }\n",
       "</style>\n",
       "<table border=\"1\" class=\"dataframe\">\n",
       "  <thead>\n",
       "    <tr style=\"text-align: right;\">\n",
       "      <th></th>\n",
       "      <th>Cured</th>\n",
       "      <th>Intervention</th>\n",
       "      <th>Duration</th>\n",
       "      <th>Curedx</th>\n",
       "      <th>Interventionx</th>\n",
       "    </tr>\n",
       "  </thead>\n",
       "  <tbody>\n",
       "    <tr>\n",
       "      <th>0</th>\n",
       "      <td>Not Cured</td>\n",
       "      <td>No Treatment</td>\n",
       "      <td>7</td>\n",
       "      <td>0</td>\n",
       "      <td>0</td>\n",
       "    </tr>\n",
       "    <tr>\n",
       "      <th>1</th>\n",
       "      <td>Not Cured</td>\n",
       "      <td>No Treatment</td>\n",
       "      <td>7</td>\n",
       "      <td>0</td>\n",
       "      <td>0</td>\n",
       "    </tr>\n",
       "    <tr>\n",
       "      <th>2</th>\n",
       "      <td>Not Cured</td>\n",
       "      <td>No Treatment</td>\n",
       "      <td>6</td>\n",
       "      <td>0</td>\n",
       "      <td>0</td>\n",
       "    </tr>\n",
       "    <tr>\n",
       "      <th>3</th>\n",
       "      <td>Cured</td>\n",
       "      <td>No Treatment</td>\n",
       "      <td>8</td>\n",
       "      <td>1</td>\n",
       "      <td>0</td>\n",
       "    </tr>\n",
       "    <tr>\n",
       "      <th>4</th>\n",
       "      <td>Cured</td>\n",
       "      <td>Intervention</td>\n",
       "      <td>7</td>\n",
       "      <td>1</td>\n",
       "      <td>1</td>\n",
       "    </tr>\n",
       "  </tbody>\n",
       "</table>\n",
       "</div>"
      ],
      "text/plain": [
       "       Cured  Intervention  Duration  Curedx  Interventionx\n",
       "0  Not Cured  No Treatment         7       0              0\n",
       "1  Not Cured  No Treatment         7       0              0\n",
       "2  Not Cured  No Treatment         6       0              0\n",
       "3      Cured  No Treatment         8       1              0\n",
       "4      Cured  Intervention         7       1              1"
      ]
     },
     "execution_count": 319,
     "metadata": {},
     "output_type": "execute_result"
    }
   ],
   "source": [
    "data.head()"
   ]
  },
  {
   "cell_type": "code",
   "execution_count": 320,
   "metadata": {},
   "outputs": [],
   "source": [
    "from statsmodels.tools.tools import add_constant\n",
    "data=add_constant(data)"
   ]
  },
  {
   "cell_type": "code",
   "execution_count": 321,
   "metadata": {},
   "outputs": [
    {
     "name": "stdout",
     "output_type": "stream",
     "text": [
      "Optimization terminated successfully.\n",
      "         Current function value: 0.637866\n",
      "         Iterations 5\n"
     ]
    },
    {
     "data": {
      "text/html": [
       "<table class=\"simpletable\">\n",
       "<caption>Logit Regression Results</caption>\n",
       "<tr>\n",
       "  <th>Dep. Variable:</th>        <td>Curedx</td>      <th>  No. Observations:  </th>  <td>   113</td> \n",
       "</tr>\n",
       "<tr>\n",
       "  <th>Model:</th>                 <td>Logit</td>      <th>  Df Residuals:      </th>  <td>   111</td> \n",
       "</tr>\n",
       "<tr>\n",
       "  <th>Method:</th>                 <td>MLE</td>       <th>  Df Model:          </th>  <td>     1</td> \n",
       "</tr>\n",
       "<tr>\n",
       "  <th>Date:</th>            <td>Fri, 03 Jul 2020</td> <th>  Pseudo R-squ.:     </th>  <td>0.06442</td>\n",
       "</tr>\n",
       "<tr>\n",
       "  <th>Time:</th>                <td>19:03:39</td>     <th>  Log-Likelihood:    </th> <td> -72.079</td>\n",
       "</tr>\n",
       "<tr>\n",
       "  <th>converged:</th>             <td>True</td>       <th>  LL-Null:           </th> <td> -77.042</td>\n",
       "</tr>\n",
       "<tr>\n",
       "  <th>Covariance Type:</th>     <td>nonrobust</td>    <th>  LLR p-value:       </th> <td>0.001629</td>\n",
       "</tr>\n",
       "</table>\n",
       "<table class=\"simpletable\">\n",
       "<tr>\n",
       "        <td></td>           <th>coef</th>     <th>std err</th>      <th>z</th>      <th>P>|z|</th>  <th>[0.025</th>    <th>0.975]</th>  \n",
       "</tr>\n",
       "<tr>\n",
       "  <th>const</th>         <td>   -0.2877</td> <td>    0.270</td> <td>   -1.065</td> <td> 0.287</td> <td>   -0.817</td> <td>    0.242</td>\n",
       "</tr>\n",
       "<tr>\n",
       "  <th>Interventionx</th> <td>    1.2287</td> <td>    0.400</td> <td>    3.074</td> <td> 0.002</td> <td>    0.445</td> <td>    2.012</td>\n",
       "</tr>\n",
       "</table>"
      ],
      "text/plain": [
       "<class 'statsmodels.iolib.summary.Summary'>\n",
       "\"\"\"\n",
       "                           Logit Regression Results                           \n",
       "==============================================================================\n",
       "Dep. Variable:                 Curedx   No. Observations:                  113\n",
       "Model:                          Logit   Df Residuals:                      111\n",
       "Method:                           MLE   Df Model:                            1\n",
       "Date:                Fri, 03 Jul 2020   Pseudo R-squ.:                 0.06442\n",
       "Time:                        19:03:39   Log-Likelihood:                -72.079\n",
       "converged:                       True   LL-Null:                       -77.042\n",
       "Covariance Type:            nonrobust   LLR p-value:                  0.001629\n",
       "=================================================================================\n",
       "                    coef    std err          z      P>|z|      [0.025      0.975]\n",
       "---------------------------------------------------------------------------------\n",
       "const            -0.2877      0.270     -1.065      0.287      -0.817       0.242\n",
       "Interventionx     1.2287      0.400      3.074      0.002       0.445       2.012\n",
       "=================================================================================\n",
       "\"\"\""
      ]
     },
     "execution_count": 321,
     "metadata": {},
     "output_type": "execute_result"
    }
   ],
   "source": [
    "m01 = sm.Logit(data['Curedx'] , data[['const', 'Interventionx']]).fit()\n",
    "m01.summary()"
   ]
  },
  {
   "cell_type": "markdown",
   "metadata": {},
   "source": [
    "AIC =      -2 * log_likelihood + 2 * k"
   ]
  },
  {
   "cell_type": "code",
   "execution_count": 322,
   "metadata": {},
   "outputs": [
    {
     "data": {
      "text/plain": [
       "148.158"
      ]
     },
     "execution_count": 322,
     "metadata": {},
     "output_type": "execute_result"
    }
   ],
   "source": [
    "AIC = -2*(-72.079)+ 2*2\n",
    "AIC"
   ]
  },
  {
   "cell_type": "code",
   "execution_count": 323,
   "metadata": {},
   "outputs": [
    {
     "name": "stdout",
     "output_type": "stream",
     "text": [
      "-72.07890183908265\n",
      "9.92620121727586\n",
      "0.0016294247428933915\n",
      "0.06442071144251227\n"
     ]
    }
   ],
   "source": [
    "print(m01.llf)           #get Log-Likelihood\n",
    "print(m01.llr)           #get chi-square\n",
    "print(m01.llr_pvalue)    #get sig. level of chi-square test\n",
    "print(m01.prsquared)     #get pseudo-rsquared "
   ]
  },
  {
   "cell_type": "code",
   "execution_count": 324,
   "metadata": {},
   "outputs": [
    {
     "data": {
      "text/plain": [
       "9.92620121727586"
      ]
     },
     "execution_count": 324,
     "metadata": {},
     "output_type": "execute_result"
    }
   ],
   "source": [
    "-2*(m01.llnull-m01.llf)"
   ]
  },
  {
   "cell_type": "code",
   "execution_count": 325,
   "metadata": {},
   "outputs": [
    {
     "data": {
      "text/plain": [
       "9.92620121727586"
      ]
     },
     "execution_count": 325,
     "metadata": {},
     "output_type": "execute_result"
    }
   ],
   "source": [
    "m01.llr"
   ]
  },
  {
   "cell_type": "markdown",
   "metadata": {},
   "source": [
    "### **chi-square = deviance_null - deviance_new**"
   ]
  },
  {
   "cell_type": "code",
   "execution_count": 326,
   "metadata": {},
   "outputs": [
    {
     "data": {
      "text/plain": [
       "9.926000000000016"
      ]
     },
     "execution_count": 326,
     "metadata": {},
     "output_type": "execute_result"
    }
   ],
   "source": [
    "chi_square  = (-2*(-77.042))-(-2*(-72.079))          # previous_deviance - present_deviance\n",
    "chi_square"
   ]
  },
  {
   "cell_type": "markdown",
   "metadata": {},
   "source": [
    "### **Note: The model chi-square is an analogue of the F-test for the linear regression**"
   ]
  },
  {
   "cell_type": "markdown",
   "metadata": {},
   "source": [
    "#### see https://www.statsmodels.org/stable/generated/statsmodels.discrete.discrete_model.LogitResults.html"
   ]
  },
  {
   "cell_type": "code",
   "execution_count": 327,
   "metadata": {},
   "outputs": [
    {
     "data": {
      "text/plain": [
       "148.1578036781653"
      ]
     },
     "execution_count": 327,
     "metadata": {},
     "output_type": "execute_result"
    }
   ],
   "source": [
    "m01.aic"
   ]
  },
  {
   "cell_type": "code",
   "execution_count": 328,
   "metadata": {},
   "outputs": [
    {
     "data": {
      "text/plain": [
       "153.61257931558998"
      ]
     },
     "execution_count": 328,
     "metadata": {},
     "output_type": "execute_result"
    }
   ],
   "source": [
    "m01.bic"
   ]
  },
  {
   "cell_type": "code",
   "execution_count": 329,
   "metadata": {},
   "outputs": [
    {
     "data": {
      "text/plain": [
       "const            0.270031\n",
       "Interventionx    0.399759\n",
       "dtype: float64"
      ]
     },
     "execution_count": 329,
     "metadata": {},
     "output_type": "execute_result"
    }
   ],
   "source": [
    "m01.bse"
   ]
  },
  {
   "cell_type": "code",
   "execution_count": 330,
   "metadata": {},
   "outputs": [
    {
     "data": {
      "text/plain": [
       "0.06442071144251227"
      ]
     },
     "execution_count": 330,
     "metadata": {},
     "output_type": "execute_result"
    }
   ],
   "source": [
    "m01.prsquared"
   ]
  },
  {
   "cell_type": "code",
   "execution_count": 331,
   "metadata": {},
   "outputs": [
    {
     "data": {
      "text/plain": [
       "0     -1.057937\n",
       "1     -1.057937\n",
       "2     -1.057937\n",
       "3      1.301766\n",
       "4      0.811763\n",
       "         ...   \n",
       "108    0.811763\n",
       "109    0.811763\n",
       "110   -1.057937\n",
       "111   -1.057937\n",
       "112    0.811763\n",
       "Length: 113, dtype: float64"
      ]
     },
     "execution_count": 331,
     "metadata": {},
     "output_type": "execute_result"
    }
   ],
   "source": [
    "m01.resid_dev"
   ]
  },
  {
   "cell_type": "code",
   "execution_count": null,
   "metadata": {},
   "outputs": [],
   "source": []
  },
  {
   "cell_type": "code",
   "execution_count": null,
   "metadata": {},
   "outputs": [],
   "source": []
  },
  {
   "cell_type": "markdown",
   "metadata": {},
   "source": [
    "#### chi_df = This creates a value called chidf that is the degrees of freedom for the model  subtracted from the degrees of freedom for the null model. "
   ]
  },
  {
   "cell_type": "code",
   "execution_count": 332,
   "metadata": {},
   "outputs": [
    {
     "data": {
      "text/plain": [
       "1"
      ]
     },
     "execution_count": 332,
     "metadata": {},
     "output_type": "execute_result"
    }
   ],
   "source": [
    "chi_df = 112-111\n",
    "chi_df"
   ]
  },
  {
   "cell_type": "code",
   "execution_count": 333,
   "metadata": {},
   "outputs": [],
   "source": [
    "z_statsistics = 3.074  # from model\n",
    "deviance_null = -2*m01.llnull"
   ]
  },
  {
   "cell_type": "code",
   "execution_count": 334,
   "metadata": {},
   "outputs": [
    {
     "data": {
      "text/plain": [
       "0.21987916734928623"
      ]
     },
     "execution_count": 334,
     "metadata": {},
     "output_type": "execute_result"
    }
   ],
   "source": [
    "R  = np.sqrt((z_statsistics**2 - 2*chi_df)/deviance_null)\n",
    "R"
   ]
  },
  {
   "cell_type": "markdown",
   "metadata": {},
   "source": [
    "#### The three different R_Squared given in book:"
   ]
  },
  {
   "cell_type": "code",
   "execution_count": 335,
   "metadata": {},
   "outputs": [
    {
     "data": {
      "text/plain": [
       "144.1578036781653"
      ]
     },
     "execution_count": 335,
     "metadata": {},
     "output_type": "execute_result"
    }
   ],
   "source": [
    "deviance_new = -2*m01.llf\n",
    "deviance_new"
   ]
  },
  {
   "cell_type": "code",
   "execution_count": 336,
   "metadata": {},
   "outputs": [],
   "source": [
    "def R2(deviance_null, deivance_new, n):\n",
    "    R2_l = (deviance_null-deviance_new)/deviance_null\n",
    "    R2_cs = 1-np.exp((deviance_new-deviance_null)/n)\n",
    "    R2_n = R2_cs/(1-np.exp(-(deviance_null/n)))\n",
    "    print(\"pseudo R^2 for logistic regression:\\n\")\n",
    "    print(f\"Hosmer and Lemeshow R^2: {R2_l}\\n\")\n",
    "    print(f\"Cox and Snell R^2: {R2_cs} \\n\")\n",
    "    print(f\"Nagelkerke R^2 : {R2_n}\\n\")"
   ]
  },
  {
   "cell_type": "code",
   "execution_count": 337,
   "metadata": {},
   "outputs": [
    {
     "name": "stdout",
     "output_type": "stream",
     "text": [
      "pseudo R^2 for logistic regression:\n",
      "\n",
      "Hosmer and Lemeshow R^2: 0.06442071144251225\n",
      "\n",
      "Cox and Snell R^2: 0.08409486918276288 \n",
      "\n",
      "Nagelkerke R^2 : 0.11299197843845539\n",
      "\n"
     ]
    }
   ],
   "source": [
    "R2(deviance_null, deviance_new, len(data))"
   ]
  },
  {
   "cell_type": "code",
   "execution_count": 338,
   "metadata": {},
   "outputs": [
    {
     "data": {
      "text/html": [
       "<div>\n",
       "<style scoped>\n",
       "    .dataframe tbody tr th:only-of-type {\n",
       "        vertical-align: middle;\n",
       "    }\n",
       "\n",
       "    .dataframe tbody tr th {\n",
       "        vertical-align: top;\n",
       "    }\n",
       "\n",
       "    .dataframe thead th {\n",
       "        text-align: right;\n",
       "    }\n",
       "</style>\n",
       "<table border=\"1\" class=\"dataframe\">\n",
       "  <thead>\n",
       "    <tr style=\"text-align: right;\">\n",
       "      <th></th>\n",
       "      <th>0</th>\n",
       "      <th>1</th>\n",
       "    </tr>\n",
       "  </thead>\n",
       "  <tbody>\n",
       "    <tr>\n",
       "      <th>const</th>\n",
       "      <td>0.441785</td>\n",
       "      <td>1.273245</td>\n",
       "    </tr>\n",
       "    <tr>\n",
       "      <th>Interventionx</th>\n",
       "      <td>1.560729</td>\n",
       "      <td>7.479589</td>\n",
       "    </tr>\n",
       "  </tbody>\n",
       "</table>\n",
       "</div>"
      ],
      "text/plain": [
       "                      0         1\n",
       "const          0.441785  1.273245\n",
       "Interventionx  1.560729  7.479589"
      ]
     },
     "execution_count": 338,
     "metadata": {},
     "output_type": "execute_result"
    }
   ],
   "source": [
    "np.exp(m01.conf_int())"
   ]
  },
  {
   "cell_type": "code",
   "execution_count": 339,
   "metadata": {},
   "outputs": [
    {
     "data": {
      "text/html": [
       "<table class=\"simpletable\">\n",
       "<tr>\n",
       "        <td>Model:</td>              <td>Logit</td>      <td>Pseudo R-squared:</td>   <td>0.064</td>  \n",
       "</tr>\n",
       "<tr>\n",
       "  <td>Dependent Variable:</td>      <td>Curedx</td>            <td>AIC:</td>        <td>148.1578</td> \n",
       "</tr>\n",
       "<tr>\n",
       "         <td>Date:</td>        <td>2020-07-03 19:03</td>       <td>BIC:</td>        <td>153.6126</td> \n",
       "</tr>\n",
       "<tr>\n",
       "   <td>No. Observations:</td>         <td>113</td>        <td>Log-Likelihood:</td>   <td>-72.079</td> \n",
       "</tr>\n",
       "<tr>\n",
       "       <td>Df Model:</td>              <td>1</td>            <td>LL-Null:</td>       <td>-77.042</td> \n",
       "</tr>\n",
       "<tr>\n",
       "     <td>Df Residuals:</td>           <td>111</td>         <td>LLR p-value:</td>    <td>0.0016294</td>\n",
       "</tr>\n",
       "<tr>\n",
       "      <td>Converged:</td>           <td>1.0000</td>           <td>Scale:</td>        <td>1.0000</td>  \n",
       "</tr>\n",
       "<tr>\n",
       "    <td>No. Iterations:</td>        <td>5.0000</td>              <td></td>              <td></td>     \n",
       "</tr>\n",
       "</table>\n",
       "<table class=\"simpletable\">\n",
       "<tr>\n",
       "        <td></td>         <th>Coef.</th>  <th>Std.Err.</th>    <th>z</th>     <th>P>|z|</th> <th>[0.025</th>  <th>0.975]</th>\n",
       "</tr>\n",
       "<tr>\n",
       "  <th>const</th>         <td>-0.2877</td>  <td>0.2700</td>  <td>-1.0654</td> <td>0.2867</td> <td>-0.8169</td> <td>0.2416</td>\n",
       "</tr>\n",
       "<tr>\n",
       "  <th>Interventionx</th> <td>1.2287</td>   <td>0.3998</td>  <td>3.0735</td>  <td>0.0021</td> <td>0.4452</td>  <td>2.0122</td>\n",
       "</tr>\n",
       "</table>"
      ],
      "text/plain": [
       "<class 'statsmodels.iolib.summary2.Summary'>\n",
       "\"\"\"\n",
       "                         Results: Logit\n",
       "================================================================\n",
       "Model:              Logit            Pseudo R-squared: 0.064    \n",
       "Dependent Variable: Curedx           AIC:              148.1578 \n",
       "Date:               2020-07-03 19:03 BIC:              153.6126 \n",
       "No. Observations:   113              Log-Likelihood:   -72.079  \n",
       "Df Model:           1                LL-Null:          -77.042  \n",
       "Df Residuals:       111              LLR p-value:      0.0016294\n",
       "Converged:          1.0000           Scale:            1.0000   \n",
       "No. Iterations:     5.0000                                      \n",
       "----------------------------------------------------------------\n",
       "                   Coef.  Std.Err.    z    P>|z|   [0.025 0.975]\n",
       "----------------------------------------------------------------\n",
       "const             -0.2877   0.2700 -1.0654 0.2867 -0.8169 0.2416\n",
       "Interventionx      1.2287   0.3998  3.0735 0.0021  0.4452 2.0122\n",
       "================================================================\n",
       "\n",
       "\"\"\""
      ]
     },
     "execution_count": 339,
     "metadata": {},
     "output_type": "execute_result"
    }
   ],
   "source": [
    "m01.summary2()"
   ]
  },
  {
   "cell_type": "code",
   "execution_count": 340,
   "metadata": {},
   "outputs": [
    {
     "data": {
      "text/plain": [
       "0     -0.287682\n",
       "1     -0.287682\n",
       "2     -0.287682\n",
       "3     -0.287682\n",
       "4      0.940983\n",
       "         ...   \n",
       "108    0.940983\n",
       "109    0.940983\n",
       "110   -0.287682\n",
       "111   -0.287682\n",
       "112    0.940983\n",
       "Length: 113, dtype: float64"
      ]
     },
     "execution_count": 340,
     "metadata": {},
     "output_type": "execute_result"
    }
   ],
   "source": [
    "m01.fittedvalues"
   ]
  },
  {
   "cell_type": "code",
   "execution_count": 341,
   "metadata": {},
   "outputs": [
    {
     "data": {
      "text/plain": [
       "0      0.428571\n",
       "1      0.428571\n",
       "2      0.428571\n",
       "3      0.428571\n",
       "4      0.719298\n",
       "         ...   \n",
       "108    0.719298\n",
       "109    0.719298\n",
       "110    0.428571\n",
       "111    0.428571\n",
       "112    0.719298\n",
       "Length: 113, dtype: float64"
      ]
     },
     "execution_count": 341,
     "metadata": {},
     "output_type": "execute_result"
    }
   ],
   "source": [
    "1/(1+np.exp(-(m01.fittedvalues)))"
   ]
  },
  {
   "cell_type": "code",
   "execution_count": 342,
   "metadata": {},
   "outputs": [
    {
     "name": "stdout",
     "output_type": "stream",
     "text": [
      "Optimization terminated successfully.\n",
      "         Current function value: 0.637858\n",
      "         Iterations 5\n"
     ]
    },
    {
     "data": {
      "text/html": [
       "<table class=\"simpletable\">\n",
       "<caption>Logit Regression Results</caption>\n",
       "<tr>\n",
       "  <th>Dep. Variable:</th>        <td>Curedx</td>      <th>  No. Observations:  </th>  <td>   113</td> \n",
       "</tr>\n",
       "<tr>\n",
       "  <th>Model:</th>                 <td>Logit</td>      <th>  Df Residuals:      </th>  <td>   110</td> \n",
       "</tr>\n",
       "<tr>\n",
       "  <th>Method:</th>                 <td>MLE</td>       <th>  Df Model:          </th>  <td>     2</td> \n",
       "</tr>\n",
       "<tr>\n",
       "  <th>Date:</th>            <td>Fri, 03 Jul 2020</td> <th>  Pseudo R-squ.:     </th>  <td>0.06443</td>\n",
       "</tr>\n",
       "<tr>\n",
       "  <th>Time:</th>                <td>19:03:42</td>     <th>  Log-Likelihood:    </th> <td> -72.078</td>\n",
       "</tr>\n",
       "<tr>\n",
       "  <th>converged:</th>             <td>True</td>       <th>  LL-Null:           </th> <td> -77.042</td>\n",
       "</tr>\n",
       "<tr>\n",
       "  <th>Covariance Type:</th>     <td>nonrobust</td>    <th>  LLR p-value:       </th> <td>0.006984</td>\n",
       "</tr>\n",
       "</table>\n",
       "<table class=\"simpletable\">\n",
       "<tr>\n",
       "        <td></td>           <th>coef</th>     <th>std err</th>      <th>z</th>      <th>P>|z|</th>  <th>[0.025</th>    <th>0.975]</th>  \n",
       "</tr>\n",
       "<tr>\n",
       "  <th>const</th>         <td>   -0.2347</td> <td>    1.221</td> <td>   -0.192</td> <td> 0.848</td> <td>   -2.627</td> <td>    2.158</td>\n",
       "</tr>\n",
       "<tr>\n",
       "  <th>Interventionx</th> <td>    1.2335</td> <td>    0.415</td> <td>    2.975</td> <td> 0.003</td> <td>    0.421</td> <td>    2.046</td>\n",
       "</tr>\n",
       "<tr>\n",
       "  <th>Duration</th>      <td>   -0.0078</td> <td>    0.176</td> <td>   -0.045</td> <td> 0.964</td> <td>   -0.353</td> <td>    0.337</td>\n",
       "</tr>\n",
       "</table>"
      ],
      "text/plain": [
       "<class 'statsmodels.iolib.summary.Summary'>\n",
       "\"\"\"\n",
       "                           Logit Regression Results                           \n",
       "==============================================================================\n",
       "Dep. Variable:                 Curedx   No. Observations:                  113\n",
       "Model:                          Logit   Df Residuals:                      110\n",
       "Method:                           MLE   Df Model:                            2\n",
       "Date:                Fri, 03 Jul 2020   Pseudo R-squ.:                 0.06443\n",
       "Time:                        19:03:42   Log-Likelihood:                -72.078\n",
       "converged:                       True   LL-Null:                       -77.042\n",
       "Covariance Type:            nonrobust   LLR p-value:                  0.006984\n",
       "=================================================================================\n",
       "                    coef    std err          z      P>|z|      [0.025      0.975]\n",
       "---------------------------------------------------------------------------------\n",
       "const            -0.2347      1.221     -0.192      0.848      -2.627       2.158\n",
       "Interventionx     1.2335      0.415      2.975      0.003       0.421       2.046\n",
       "Duration         -0.0078      0.176     -0.045      0.964      -0.353       0.337\n",
       "=================================================================================\n",
       "\"\"\""
      ]
     },
     "execution_count": 342,
     "metadata": {},
     "output_type": "execute_result"
    }
   ],
   "source": [
    "m02 = sm.Logit(data['Curedx'] , data[['const', 'Interventionx','Duration']]).fit()\n",
    "m02.summary()"
   ]
  },
  {
   "cell_type": "code",
   "execution_count": 343,
   "metadata": {},
   "outputs": [
    {
     "data": {
      "text/plain": [
       "144.15582014989994"
      ]
     },
     "execution_count": 343,
     "metadata": {},
     "output_type": "execute_result"
    }
   ],
   "source": [
    "m02.llf*(-2)     # deviance of m02"
   ]
  },
  {
   "cell_type": "code",
   "execution_count": 344,
   "metadata": {},
   "outputs": [
    {
     "data": {
      "text/plain": [
       "0   -1.057199\n",
       "1   -1.057199\n",
       "2   -1.060374\n",
       "3    1.306008\n",
       "4    0.810711\n",
       "dtype: float64"
      ]
     },
     "execution_count": 344,
     "metadata": {},
     "output_type": "execute_result"
    }
   ],
   "source": [
    "m02.resid_dev.head()"
   ]
  },
  {
   "cell_type": "code",
   "execution_count": 345,
   "metadata": {},
   "outputs": [
    {
     "data": {
      "text/plain": [
       "0.0019835282653559716"
      ]
     },
     "execution_count": 345,
     "metadata": {},
     "output_type": "execute_result"
    }
   ],
   "source": [
    "model_chi = -2*(m01.llf - m02.llf)     # previous_deviance - present_deviance\n",
    "model_chi"
   ]
  },
  {
   "cell_type": "code",
   "execution_count": 346,
   "metadata": {},
   "outputs": [
    {
     "data": {
      "text/plain": [
       "1"
      ]
     },
     "execution_count": 346,
     "metadata": {},
     "output_type": "execute_result"
    }
   ],
   "source": [
    "chi_df = 111 - 110\n",
    "chi_df"
   ]
  },
  {
   "cell_type": "code",
   "execution_count": 347,
   "metadata": {},
   "outputs": [
    {
     "data": {
      "text/plain": [
       "0.9644765035961966"
      ]
     },
     "execution_count": 347,
     "metadata": {},
     "output_type": "execute_result"
    }
   ],
   "source": [
    "1 - st.chi2.cdf(model_chi, chi_df)"
   ]
  },
  {
   "cell_type": "code",
   "execution_count": 348,
   "metadata": {},
   "outputs": [],
   "source": [
    "from statsmodels.genmod import families"
   ]
  },
  {
   "cell_type": "code",
   "execution_count": 349,
   "metadata": {},
   "outputs": [
    {
     "name": "stdout",
     "output_type": "stream",
     "text": [
      "                 Generalized Linear Model Regression Results                  \n",
      "==============================================================================\n",
      "Dep. Variable:                 Curedx   No. Observations:                  113\n",
      "Model:                            GLM   Df Residuals:                      110\n",
      "Model Family:                Binomial   Df Model:                            2\n",
      "Link Function:                  logit   Scale:                          1.0000\n",
      "Method:                          IRLS   Log-Likelihood:                -72.078\n",
      "Date:                Fri, 03 Jul 2020   Deviance:                       144.16\n",
      "Time:                        19:03:42   Pearson chi2:                     113.\n",
      "No. Iterations:                     5                                         \n",
      "Covariance Type:            nonrobust                                         \n",
      "=================================================================================\n",
      "                    coef    std err          z      P>|z|      [0.025      0.975]\n",
      "---------------------------------------------------------------------------------\n",
      "const            -0.2347      1.221     -0.192      0.848      -2.627       2.158\n",
      "Interventionx     1.2335      0.415      2.975      0.003       0.421       2.046\n",
      "Duration         -0.0078      0.176     -0.045      0.964      -0.353       0.337\n",
      "=================================================================================\n"
     ]
    }
   ],
   "source": [
    "res = sm.GLM(data['Curedx'] , data[['const', 'Interventionx','Duration']],\n",
    "          family=families.Binomial()).fit(attach_wls=True, atol=1e-10)\n",
    "print(res.summary())"
   ]
  },
  {
   "cell_type": "code",
   "execution_count": 350,
   "metadata": {},
   "outputs": [],
   "source": [
    "infl = res.get_influence(observed=False)"
   ]
  },
  {
   "cell_type": "code",
   "execution_count": 351,
   "metadata": {},
   "outputs": [
    {
     "data": {
      "text/html": [
       "<div>\n",
       "<style scoped>\n",
       "    .dataframe tbody tr th:only-of-type {\n",
       "        vertical-align: middle;\n",
       "    }\n",
       "\n",
       "    .dataframe tbody tr th {\n",
       "        vertical-align: top;\n",
       "    }\n",
       "\n",
       "    .dataframe thead th {\n",
       "        text-align: right;\n",
       "    }\n",
       "</style>\n",
       "<table border=\"1\" class=\"dataframe\">\n",
       "  <thead>\n",
       "    <tr style=\"text-align: right;\">\n",
       "      <th></th>\n",
       "      <th>dfb_const</th>\n",
       "      <th>dfb_Interventionx</th>\n",
       "      <th>dfb_Duration</th>\n",
       "      <th>cooks_d</th>\n",
       "      <th>standard_resid</th>\n",
       "      <th>hat_diag</th>\n",
       "      <th>dffits_internal</th>\n",
       "    </tr>\n",
       "  </thead>\n",
       "  <tbody>\n",
       "    <tr>\n",
       "      <th>40</th>\n",
       "      <td>-0.197143</td>\n",
       "      <td>-0.170641</td>\n",
       "      <td>0.239493</td>\n",
       "      <td>0.028150</td>\n",
       "      <td>1.198593</td>\n",
       "      <td>0.055520</td>\n",
       "      <td>0.290602</td>\n",
       "    </tr>\n",
       "    <tr>\n",
       "      <th>80</th>\n",
       "      <td>-0.197143</td>\n",
       "      <td>-0.170641</td>\n",
       "      <td>0.239493</td>\n",
       "      <td>0.028150</td>\n",
       "      <td>1.198593</td>\n",
       "      <td>0.055520</td>\n",
       "      <td>0.290602</td>\n",
       "    </tr>\n",
       "    <tr>\n",
       "      <th>3</th>\n",
       "      <td>-0.089777</td>\n",
       "      <td>-0.137947</td>\n",
       "      <td>0.128271</td>\n",
       "      <td>0.013978</td>\n",
       "      <td>1.177701</td>\n",
       "      <td>0.029347</td>\n",
       "      <td>0.204779</td>\n",
       "    </tr>\n",
       "    <tr>\n",
       "      <th>8</th>\n",
       "      <td>-0.089777</td>\n",
       "      <td>-0.137947</td>\n",
       "      <td>0.128271</td>\n",
       "      <td>0.013978</td>\n",
       "      <td>1.177701</td>\n",
       "      <td>0.029347</td>\n",
       "      <td>0.204779</td>\n",
       "    </tr>\n",
       "    <tr>\n",
       "      <th>36</th>\n",
       "      <td>-0.089777</td>\n",
       "      <td>-0.137947</td>\n",
       "      <td>0.128271</td>\n",
       "      <td>0.013978</td>\n",
       "      <td>1.177701</td>\n",
       "      <td>0.029347</td>\n",
       "      <td>0.204779</td>\n",
       "    </tr>\n",
       "    <tr>\n",
       "      <th>12</th>\n",
       "      <td>0.215020</td>\n",
       "      <td>-0.055470</td>\n",
       "      <td>-0.184177</td>\n",
       "      <td>0.019845</td>\n",
       "      <td>1.171349</td>\n",
       "      <td>0.041587</td>\n",
       "      <td>0.243998</td>\n",
       "    </tr>\n",
       "    <tr>\n",
       "      <th>86</th>\n",
       "      <td>0.215020</td>\n",
       "      <td>-0.055470</td>\n",
       "      <td>-0.184177</td>\n",
       "      <td>0.019845</td>\n",
       "      <td>1.171349</td>\n",
       "      <td>0.041587</td>\n",
       "      <td>0.243998</td>\n",
       "    </tr>\n",
       "    <tr>\n",
       "      <th>38</th>\n",
       "      <td>0.215020</td>\n",
       "      <td>-0.055470</td>\n",
       "      <td>-0.184177</td>\n",
       "      <td>0.019845</td>\n",
       "      <td>1.171349</td>\n",
       "      <td>0.041587</td>\n",
       "      <td>0.243998</td>\n",
       "    </tr>\n",
       "    <tr>\n",
       "      <th>75</th>\n",
       "      <td>0.011466</td>\n",
       "      <td>-0.108796</td>\n",
       "      <td>0.023927</td>\n",
       "      <td>0.008438</td>\n",
       "      <td>1.166456</td>\n",
       "      <td>0.018266</td>\n",
       "      <td>0.159108</td>\n",
       "    </tr>\n",
       "    <tr>\n",
       "      <th>78</th>\n",
       "      <td>0.011466</td>\n",
       "      <td>-0.108796</td>\n",
       "      <td>0.023927</td>\n",
       "      <td>0.008438</td>\n",
       "      <td>1.166456</td>\n",
       "      <td>0.018266</td>\n",
       "      <td>0.159108</td>\n",
       "    </tr>\n",
       "  </tbody>\n",
       "</table>\n",
       "</div>"
      ],
      "text/plain": [
       "    dfb_const  dfb_Interventionx  dfb_Duration   cooks_d  standard_resid  \\\n",
       "40  -0.197143          -0.170641      0.239493  0.028150        1.198593   \n",
       "80  -0.197143          -0.170641      0.239493  0.028150        1.198593   \n",
       "3   -0.089777          -0.137947      0.128271  0.013978        1.177701   \n",
       "8   -0.089777          -0.137947      0.128271  0.013978        1.177701   \n",
       "36  -0.089777          -0.137947      0.128271  0.013978        1.177701   \n",
       "12   0.215020          -0.055470     -0.184177  0.019845        1.171349   \n",
       "86   0.215020          -0.055470     -0.184177  0.019845        1.171349   \n",
       "38   0.215020          -0.055470     -0.184177  0.019845        1.171349   \n",
       "75   0.011466          -0.108796      0.023927  0.008438        1.166456   \n",
       "78   0.011466          -0.108796      0.023927  0.008438        1.166456   \n",
       "\n",
       "    hat_diag  dffits_internal  \n",
       "40  0.055520         0.290602  \n",
       "80  0.055520         0.290602  \n",
       "3   0.029347         0.204779  \n",
       "8   0.029347         0.204779  \n",
       "36  0.029347         0.204779  \n",
       "12  0.041587         0.243998  \n",
       "86  0.041587         0.243998  \n",
       "38  0.041587         0.243998  \n",
       "75  0.018266         0.159108  \n",
       "78  0.018266         0.159108  "
      ]
     },
     "execution_count": 351,
     "metadata": {},
     "output_type": "execute_result"
    }
   ],
   "source": [
    "summ_df = infl.summary_frame()\n",
    "summ_df.sort_values('standard_resid', ascending=False)[:10]"
   ]
  },
  {
   "cell_type": "markdown",
   "metadata": {},
   "source": [
    "## **Diagnostic statistics**"
   ]
  },
  {
   "cell_type": "markdown",
   "metadata": {},
   "source": [
    "### You need to look for cases that might be influencing the logistic regression model:\n",
    "\n",
    "\n",
    "#### i) Look at standardized residuals and check that no more than 5% of cases have absolute values above 2, and that no more than about 1% have absolute values above 2.5. Any case with a value above about 3 could be an outlier.\n",
    "\n",
    "\n",
    "\n",
    "#### ii)  Calculate the average leverage (the number of predictors plus 1, divided by the sample size) and then look for values greater than twice or three times this average value.\n",
    "\n",
    "\n",
    "\n",
    "#### iii)  Look for absolute values of DFBeta greater than 1."
   ]
  },
  {
   "cell_type": "code",
   "execution_count": 352,
   "metadata": {},
   "outputs": [],
   "source": [
    "pen_df = pd.read_csv('penalty.csv')"
   ]
  },
  {
   "cell_type": "code",
   "execution_count": 353,
   "metadata": {},
   "outputs": [],
   "source": [
    "pen_df.drop(['Unnamed: 4'], inplace=True, axis=1)"
   ]
  },
  {
   "cell_type": "code",
   "execution_count": 354,
   "metadata": {},
   "outputs": [
    {
     "data": {
      "text/html": [
       "<div>\n",
       "<style scoped>\n",
       "    .dataframe tbody tr th:only-of-type {\n",
       "        vertical-align: middle;\n",
       "    }\n",
       "\n",
       "    .dataframe tbody tr th {\n",
       "        vertical-align: top;\n",
       "    }\n",
       "\n",
       "    .dataframe thead th {\n",
       "        text-align: right;\n",
       "    }\n",
       "</style>\n",
       "<table border=\"1\" class=\"dataframe\">\n",
       "  <thead>\n",
       "    <tr style=\"text-align: right;\">\n",
       "      <th></th>\n",
       "      <th>PSWQ</th>\n",
       "      <th>Anxious</th>\n",
       "      <th>Previous</th>\n",
       "      <th>Scored</th>\n",
       "    </tr>\n",
       "  </thead>\n",
       "  <tbody>\n",
       "    <tr>\n",
       "      <th>0</th>\n",
       "      <td>18</td>\n",
       "      <td>21</td>\n",
       "      <td>56</td>\n",
       "      <td>Scored</td>\n",
       "    </tr>\n",
       "    <tr>\n",
       "      <th>1</th>\n",
       "      <td>17</td>\n",
       "      <td>32</td>\n",
       "      <td>35</td>\n",
       "      <td>Scored</td>\n",
       "    </tr>\n",
       "    <tr>\n",
       "      <th>2</th>\n",
       "      <td>16</td>\n",
       "      <td>34</td>\n",
       "      <td>35</td>\n",
       "      <td>Scored</td>\n",
       "    </tr>\n",
       "    <tr>\n",
       "      <th>3</th>\n",
       "      <td>14</td>\n",
       "      <td>40</td>\n",
       "      <td>15</td>\n",
       "      <td>Scored</td>\n",
       "    </tr>\n",
       "    <tr>\n",
       "      <th>4</th>\n",
       "      <td>5</td>\n",
       "      <td>24</td>\n",
       "      <td>47</td>\n",
       "      <td>Scored</td>\n",
       "    </tr>\n",
       "  </tbody>\n",
       "</table>\n",
       "</div>"
      ],
      "text/plain": [
       "   PSWQ  Anxious  Previous  Scored\n",
       "0    18       21        56  Scored\n",
       "1    17       32        35  Scored\n",
       "2    16       34        35  Scored\n",
       "3    14       40        15  Scored\n",
       "4     5       24        47  Scored"
      ]
     },
     "execution_count": 354,
     "metadata": {},
     "output_type": "execute_result"
    }
   ],
   "source": [
    "pen_df.head()"
   ]
  },
  {
   "cell_type": "code",
   "execution_count": 355,
   "metadata": {},
   "outputs": [
    {
     "data": {
      "text/plain": [
       "array(['Scored', 'Missed'], dtype=object)"
      ]
     },
     "execution_count": 355,
     "metadata": {},
     "output_type": "execute_result"
    }
   ],
   "source": [
    "pen_df['Scored'].unique()"
   ]
  },
  {
   "cell_type": "code",
   "execution_count": 356,
   "metadata": {},
   "outputs": [],
   "source": [
    "pen_df['Scoredx']  = pen_df['Scored'].replace({'Scored':1, 'Missed':0})"
   ]
  },
  {
   "cell_type": "code",
   "execution_count": 357,
   "metadata": {},
   "outputs": [],
   "source": [
    "pen_df = add_constant(pen_df)"
   ]
  },
  {
   "cell_type": "code",
   "execution_count": 358,
   "metadata": {},
   "outputs": [
    {
     "name": "stdout",
     "output_type": "stream",
     "text": [
      "Optimization terminated successfully.\n",
      "         Current function value: 0.324412\n",
      "         Iterations 7\n"
     ]
    },
    {
     "data": {
      "text/html": [
       "<table class=\"simpletable\">\n",
       "<caption>Logit Regression Results</caption>\n",
       "<tr>\n",
       "  <th>Dep. Variable:</th>        <td>Scoredx</td>     <th>  No. Observations:  </th>  <td>    75</td>  \n",
       "</tr>\n",
       "<tr>\n",
       "  <th>Model:</th>                 <td>Logit</td>      <th>  Df Residuals:      </th>  <td>    72</td>  \n",
       "</tr>\n",
       "<tr>\n",
       "  <th>Method:</th>                 <td>MLE</td>       <th>  Df Model:          </th>  <td>     2</td>  \n",
       "</tr>\n",
       "<tr>\n",
       "  <th>Date:</th>            <td>Fri, 03 Jul 2020</td> <th>  Pseudo R-squ.:     </th>  <td>0.5305</td>  \n",
       "</tr>\n",
       "<tr>\n",
       "  <th>Time:</th>                <td>19:03:44</td>     <th>  Log-Likelihood:    </th> <td> -24.331</td> \n",
       "</tr>\n",
       "<tr>\n",
       "  <th>converged:</th>             <td>True</td>       <th>  LL-Null:           </th> <td> -51.819</td> \n",
       "</tr>\n",
       "<tr>\n",
       "  <th>Covariance Type:</th>     <td>nonrobust</td>    <th>  LLR p-value:       </th> <td>1.153e-12</td>\n",
       "</tr>\n",
       "</table>\n",
       "<table class=\"simpletable\">\n",
       "<tr>\n",
       "      <td></td>        <th>coef</th>     <th>std err</th>      <th>z</th>      <th>P>|z|</th>  <th>[0.025</th>    <th>0.975]</th>  \n",
       "</tr>\n",
       "<tr>\n",
       "  <th>const</th>    <td>    1.2803</td> <td>    1.670</td> <td>    0.767</td> <td> 0.443</td> <td>   -1.993</td> <td>    4.554</td>\n",
       "</tr>\n",
       "<tr>\n",
       "  <th>PSWQ</th>     <td>   -0.2301</td> <td>    0.080</td> <td>   -2.882</td> <td> 0.004</td> <td>   -0.387</td> <td>   -0.074</td>\n",
       "</tr>\n",
       "<tr>\n",
       "  <th>Previous</th> <td>    0.0648</td> <td>    0.022</td> <td>    2.934</td> <td> 0.003</td> <td>    0.022</td> <td>    0.108</td>\n",
       "</tr>\n",
       "</table>"
      ],
      "text/plain": [
       "<class 'statsmodels.iolib.summary.Summary'>\n",
       "\"\"\"\n",
       "                           Logit Regression Results                           \n",
       "==============================================================================\n",
       "Dep. Variable:                Scoredx   No. Observations:                   75\n",
       "Model:                          Logit   Df Residuals:                       72\n",
       "Method:                           MLE   Df Model:                            2\n",
       "Date:                Fri, 03 Jul 2020   Pseudo R-squ.:                  0.5305\n",
       "Time:                        19:03:44   Log-Likelihood:                -24.331\n",
       "converged:                       True   LL-Null:                       -51.819\n",
       "Covariance Type:            nonrobust   LLR p-value:                 1.153e-12\n",
       "==============================================================================\n",
       "                 coef    std err          z      P>|z|      [0.025      0.975]\n",
       "------------------------------------------------------------------------------\n",
       "const          1.2803      1.670      0.767      0.443      -1.993       4.554\n",
       "PSWQ          -0.2301      0.080     -2.882      0.004      -0.387      -0.074\n",
       "Previous       0.0648      0.022      2.934      0.003       0.022       0.108\n",
       "==============================================================================\n",
       "\"\"\""
      ]
     },
     "execution_count": 358,
     "metadata": {},
     "output_type": "execute_result"
    }
   ],
   "source": [
    "p01 = sm.Logit(pen_df['Scoredx'], pen_df[['const', 'PSWQ', 'Previous']]).fit()\n",
    "p01.summary()"
   ]
  },
  {
   "cell_type": "code",
   "execution_count": 359,
   "metadata": {},
   "outputs": [
    {
     "data": {
      "text/plain": [
       "54.97669239214833"
      ]
     },
     "execution_count": 359,
     "metadata": {},
     "output_type": "execute_result"
    }
   ],
   "source": [
    "model1_chi_sq = -2*(p01.llnull - p01.llf)   # p01.llr\n",
    "model1_chi_sq"
   ]
  },
  {
   "cell_type": "code",
   "execution_count": 360,
   "metadata": {},
   "outputs": [
    {
     "name": "stdout",
     "output_type": "stream",
     "text": [
      "Optimization terminated successfully.\n",
      "         Current function value: 0.316104\n",
      "         Iterations 8\n"
     ]
    },
    {
     "data": {
      "text/html": [
       "<table class=\"simpletable\">\n",
       "<caption>Logit Regression Results</caption>\n",
       "<tr>\n",
       "  <th>Dep. Variable:</th>        <td>Scoredx</td>     <th>  No. Observations:  </th>  <td>    75</td>  \n",
       "</tr>\n",
       "<tr>\n",
       "  <th>Model:</th>                 <td>Logit</td>      <th>  Df Residuals:      </th>  <td>    71</td>  \n",
       "</tr>\n",
       "<tr>\n",
       "  <th>Method:</th>                 <td>MLE</td>       <th>  Df Model:          </th>  <td>     3</td>  \n",
       "</tr>\n",
       "<tr>\n",
       "  <th>Date:</th>            <td>Fri, 03 Jul 2020</td> <th>  Pseudo R-squ.:     </th>  <td>0.5425</td>  \n",
       "</tr>\n",
       "<tr>\n",
       "  <th>Time:</th>                <td>19:03:44</td>     <th>  Log-Likelihood:    </th> <td> -23.708</td> \n",
       "</tr>\n",
       "<tr>\n",
       "  <th>converged:</th>             <td>True</td>       <th>  LL-Null:           </th> <td> -51.819</td> \n",
       "</tr>\n",
       "<tr>\n",
       "  <th>Covariance Type:</th>     <td>nonrobust</td>    <th>  LLR p-value:       </th> <td>3.765e-12</td>\n",
       "</tr>\n",
       "</table>\n",
       "<table class=\"simpletable\">\n",
       "<tr>\n",
       "      <td></td>        <th>coef</th>     <th>std err</th>      <th>z</th>      <th>P>|z|</th>  <th>[0.025</th>    <th>0.975]</th>  \n",
       "</tr>\n",
       "<tr>\n",
       "  <th>const</th>    <td>  -11.4926</td> <td>   11.802</td> <td>   -0.974</td> <td> 0.330</td> <td>  -34.624</td> <td>   11.638</td>\n",
       "</tr>\n",
       "<tr>\n",
       "  <th>PSWQ</th>     <td>   -0.2514</td> <td>    0.084</td> <td>   -2.992</td> <td> 0.003</td> <td>   -0.416</td> <td>   -0.087</td>\n",
       "</tr>\n",
       "<tr>\n",
       "  <th>Previous</th> <td>    0.2026</td> <td>    0.129</td> <td>    1.567</td> <td> 0.117</td> <td>   -0.051</td> <td>    0.456</td>\n",
       "</tr>\n",
       "<tr>\n",
       "  <th>Anxious</th>  <td>    0.2758</td> <td>    0.253</td> <td>    1.092</td> <td> 0.275</td> <td>   -0.219</td> <td>    0.771</td>\n",
       "</tr>\n",
       "</table>"
      ],
      "text/plain": [
       "<class 'statsmodels.iolib.summary.Summary'>\n",
       "\"\"\"\n",
       "                           Logit Regression Results                           \n",
       "==============================================================================\n",
       "Dep. Variable:                Scoredx   No. Observations:                   75\n",
       "Model:                          Logit   Df Residuals:                       71\n",
       "Method:                           MLE   Df Model:                            3\n",
       "Date:                Fri, 03 Jul 2020   Pseudo R-squ.:                  0.5425\n",
       "Time:                        19:03:44   Log-Likelihood:                -23.708\n",
       "converged:                       True   LL-Null:                       -51.819\n",
       "Covariance Type:            nonrobust   LLR p-value:                 3.765e-12\n",
       "==============================================================================\n",
       "                 coef    std err          z      P>|z|      [0.025      0.975]\n",
       "------------------------------------------------------------------------------\n",
       "const        -11.4926     11.802     -0.974      0.330     -34.624      11.638\n",
       "PSWQ          -0.2514      0.084     -2.992      0.003      -0.416      -0.087\n",
       "Previous       0.2026      0.129      1.567      0.117      -0.051       0.456\n",
       "Anxious        0.2758      0.253      1.092      0.275      -0.219       0.771\n",
       "==============================================================================\n",
       "\"\"\""
      ]
     },
     "execution_count": 360,
     "metadata": {},
     "output_type": "execute_result"
    }
   ],
   "source": [
    "p02 = sm.Logit(pen_df['Scoredx'], pen_df[['const',  'PSWQ', 'Previous', 'Anxious']]).fit()\n",
    "p02.summary()"
   ]
  },
  {
   "cell_type": "code",
   "execution_count": 361,
   "metadata": {},
   "outputs": [
    {
     "data": {
      "text/plain": [
       "1.246266751259725"
      ]
     },
     "execution_count": 361,
     "metadata": {},
     "output_type": "execute_result"
    }
   ],
   "source": [
    "model1_chi_sq_2 = -2*(p01.llf - p02.llf)   \n",
    "model1_chi_sq_2"
   ]
  },
  {
   "cell_type": "code",
   "execution_count": 362,
   "metadata": {},
   "outputs": [
    {
     "name": "stdout",
     "output_type": "stream",
     "text": [
      "54.66180402298753\n",
      "55.41553727172781\n"
     ]
    }
   ],
   "source": [
    "print(p01.aic)\n",
    "print(p02.aic)"
   ]
  },
  {
   "cell_type": "code",
   "execution_count": 363,
   "metadata": {},
   "outputs": [
    {
     "name": "stdout",
     "output_type": "stream",
     "text": [
      "61.614268363596466\n",
      "64.68548972587305\n"
     ]
    }
   ],
   "source": [
    "print(p01.bic)\n",
    "print(p02.bic)"
   ]
  },
  {
   "cell_type": "code",
   "execution_count": null,
   "metadata": {},
   "outputs": [],
   "source": []
  },
  {
   "cell_type": "code",
   "execution_count": 364,
   "metadata": {},
   "outputs": [],
   "source": [
    "model1_chi = p01.llf\n",
    "model1_chidf = 2   #df_model"
   ]
  },
  {
   "cell_type": "code",
   "execution_count": null,
   "metadata": {},
   "outputs": [],
   "source": []
  },
  {
   "cell_type": "code",
   "execution_count": null,
   "metadata": {},
   "outputs": [],
   "source": []
  },
  {
   "cell_type": "code",
   "execution_count": 365,
   "metadata": {},
   "outputs": [],
   "source": [
    "copy_df = pen_df.copy()"
   ]
  },
  {
   "cell_type": "code",
   "execution_count": 366,
   "metadata": {},
   "outputs": [],
   "source": [
    "copy_df.drop(['Scored','Scoredx'], inplace=True, axis=1)"
   ]
  },
  {
   "cell_type": "code",
   "execution_count": 367,
   "metadata": {},
   "outputs": [
    {
     "data": {
      "text/html": [
       "<div>\n",
       "<style scoped>\n",
       "    .dataframe tbody tr th:only-of-type {\n",
       "        vertical-align: middle;\n",
       "    }\n",
       "\n",
       "    .dataframe tbody tr th {\n",
       "        vertical-align: top;\n",
       "    }\n",
       "\n",
       "    .dataframe thead th {\n",
       "        text-align: right;\n",
       "    }\n",
       "</style>\n",
       "<table border=\"1\" class=\"dataframe\">\n",
       "  <thead>\n",
       "    <tr style=\"text-align: right;\">\n",
       "      <th></th>\n",
       "      <th>const</th>\n",
       "      <th>PSWQ</th>\n",
       "      <th>Anxious</th>\n",
       "      <th>Previous</th>\n",
       "    </tr>\n",
       "  </thead>\n",
       "  <tbody>\n",
       "    <tr>\n",
       "      <th>0</th>\n",
       "      <td>1.0</td>\n",
       "      <td>18</td>\n",
       "      <td>21</td>\n",
       "      <td>56</td>\n",
       "    </tr>\n",
       "    <tr>\n",
       "      <th>1</th>\n",
       "      <td>1.0</td>\n",
       "      <td>17</td>\n",
       "      <td>32</td>\n",
       "      <td>35</td>\n",
       "    </tr>\n",
       "    <tr>\n",
       "      <th>2</th>\n",
       "      <td>1.0</td>\n",
       "      <td>16</td>\n",
       "      <td>34</td>\n",
       "      <td>35</td>\n",
       "    </tr>\n",
       "    <tr>\n",
       "      <th>3</th>\n",
       "      <td>1.0</td>\n",
       "      <td>14</td>\n",
       "      <td>40</td>\n",
       "      <td>15</td>\n",
       "    </tr>\n",
       "    <tr>\n",
       "      <th>4</th>\n",
       "      <td>1.0</td>\n",
       "      <td>5</td>\n",
       "      <td>24</td>\n",
       "      <td>47</td>\n",
       "    </tr>\n",
       "  </tbody>\n",
       "</table>\n",
       "</div>"
      ],
      "text/plain": [
       "   const  PSWQ  Anxious  Previous\n",
       "0    1.0    18       21        56\n",
       "1    1.0    17       32        35\n",
       "2    1.0    16       34        35\n",
       "3    1.0    14       40        15\n",
       "4    1.0     5       24        47"
      ]
     },
     "execution_count": 367,
     "metadata": {},
     "output_type": "execute_result"
    }
   ],
   "source": [
    "copy_df .head()"
   ]
  },
  {
   "cell_type": "code",
   "execution_count": 368,
   "metadata": {},
   "outputs": [],
   "source": [
    "cov = p02.cov_params()\n",
    "corr = cov / p02.bse / p02.bse[:, None]\n",
    "vif = np.diag(np.linalg.inv(corr.values[1:, 1:]))[[1, 0, 2]]"
   ]
  },
  {
   "cell_type": "code",
   "execution_count": 369,
   "metadata": {},
   "outputs": [
    {
     "data": {
      "text/plain": [
       "array([35.22707635,  1.08976625, 35.58192988])"
      ]
     },
     "execution_count": 369,
     "metadata": {},
     "output_type": "execute_result"
    }
   ],
   "source": [
    "vif"
   ]
  },
  {
   "cell_type": "markdown",
   "metadata": {},
   "source": [
    "#### https://stats.stackexchange.com/questions/474964/calculating-variance-inflation-factor-for-logistic-regression-using-statsmodels/475233#475233"
   ]
  },
  {
   "cell_type": "code",
   "execution_count": null,
   "metadata": {},
   "outputs": [],
   "source": []
  },
  {
   "cell_type": "markdown",
   "metadata": {},
   "source": [
    "### **Testing for linearity of the logit**"
   ]
  },
  {
   "cell_type": "code",
   "execution_count": 370,
   "metadata": {},
   "outputs": [
    {
     "data": {
      "text/html": [
       "<div>\n",
       "<style scoped>\n",
       "    .dataframe tbody tr th:only-of-type {\n",
       "        vertical-align: middle;\n",
       "    }\n",
       "\n",
       "    .dataframe tbody tr th {\n",
       "        vertical-align: top;\n",
       "    }\n",
       "\n",
       "    .dataframe thead th {\n",
       "        text-align: right;\n",
       "    }\n",
       "</style>\n",
       "<table border=\"1\" class=\"dataframe\">\n",
       "  <thead>\n",
       "    <tr style=\"text-align: right;\">\n",
       "      <th></th>\n",
       "      <th>const</th>\n",
       "      <th>PSWQ</th>\n",
       "      <th>Anxious</th>\n",
       "      <th>Previous</th>\n",
       "      <th>Scored</th>\n",
       "      <th>Scoredx</th>\n",
       "    </tr>\n",
       "  </thead>\n",
       "  <tbody>\n",
       "    <tr>\n",
       "      <th>0</th>\n",
       "      <td>1.0</td>\n",
       "      <td>18</td>\n",
       "      <td>21</td>\n",
       "      <td>56</td>\n",
       "      <td>Scored</td>\n",
       "      <td>1</td>\n",
       "    </tr>\n",
       "    <tr>\n",
       "      <th>1</th>\n",
       "      <td>1.0</td>\n",
       "      <td>17</td>\n",
       "      <td>32</td>\n",
       "      <td>35</td>\n",
       "      <td>Scored</td>\n",
       "      <td>1</td>\n",
       "    </tr>\n",
       "    <tr>\n",
       "      <th>2</th>\n",
       "      <td>1.0</td>\n",
       "      <td>16</td>\n",
       "      <td>34</td>\n",
       "      <td>35</td>\n",
       "      <td>Scored</td>\n",
       "      <td>1</td>\n",
       "    </tr>\n",
       "    <tr>\n",
       "      <th>3</th>\n",
       "      <td>1.0</td>\n",
       "      <td>14</td>\n",
       "      <td>40</td>\n",
       "      <td>15</td>\n",
       "      <td>Scored</td>\n",
       "      <td>1</td>\n",
       "    </tr>\n",
       "    <tr>\n",
       "      <th>4</th>\n",
       "      <td>1.0</td>\n",
       "      <td>5</td>\n",
       "      <td>24</td>\n",
       "      <td>47</td>\n",
       "      <td>Scored</td>\n",
       "      <td>1</td>\n",
       "    </tr>\n",
       "  </tbody>\n",
       "</table>\n",
       "</div>"
      ],
      "text/plain": [
       "   const  PSWQ  Anxious  Previous  Scored  Scoredx\n",
       "0    1.0    18       21        56  Scored        1\n",
       "1    1.0    17       32        35  Scored        1\n",
       "2    1.0    16       34        35  Scored        1\n",
       "3    1.0    14       40        15  Scored        1\n",
       "4    1.0     5       24        47  Scored        1"
      ]
     },
     "execution_count": 370,
     "metadata": {},
     "output_type": "execute_result"
    }
   ],
   "source": [
    "pen_df.head()"
   ]
  },
  {
   "cell_type": "code",
   "execution_count": 371,
   "metadata": {},
   "outputs": [],
   "source": [
    "pen_df['log_PSWQ'] = np.log(pen_df['PSWQ'])*pen_df['PSWQ']\n",
    "pen_df['log_Anxious'] = np.log(pen_df['Anxious'])*pen_df['Anxious']\n",
    "pen_df['log_Previous'] = np.log(pen_df['Previous']+1)*pen_df['Previous']"
   ]
  },
  {
   "cell_type": "code",
   "execution_count": 372,
   "metadata": {},
   "outputs": [
    {
     "name": "stdout",
     "output_type": "stream",
     "text": [
      "Optimization terminated successfully.\n",
      "         Current function value: 0.306062\n",
      "         Iterations 9\n"
     ]
    },
    {
     "data": {
      "text/html": [
       "<table class=\"simpletable\">\n",
       "<caption>Logit Regression Results</caption>\n",
       "<tr>\n",
       "  <th>Dep. Variable:</th>        <td>Scoredx</td>     <th>  No. Observations:  </th>  <td>    75</td>  \n",
       "</tr>\n",
       "<tr>\n",
       "  <th>Model:</th>                 <td>Logit</td>      <th>  Df Residuals:      </th>  <td>    68</td>  \n",
       "</tr>\n",
       "<tr>\n",
       "  <th>Method:</th>                 <td>MLE</td>       <th>  Df Model:          </th>  <td>     6</td>  \n",
       "</tr>\n",
       "<tr>\n",
       "  <th>Date:</th>            <td>Fri, 03 Jul 2020</td> <th>  Pseudo R-squ.:     </th>  <td>0.5570</td>  \n",
       "</tr>\n",
       "<tr>\n",
       "  <th>Time:</th>                <td>19:03:47</td>     <th>  Log-Likelihood:    </th> <td> -22.955</td> \n",
       "</tr>\n",
       "<tr>\n",
       "  <th>converged:</th>             <td>True</td>       <th>  LL-Null:           </th> <td> -51.819</td> \n",
       "</tr>\n",
       "<tr>\n",
       "  <th>Covariance Type:</th>     <td>nonrobust</td>    <th>  LLR p-value:       </th> <td>1.300e-10</td>\n",
       "</tr>\n",
       "</table>\n",
       "<table class=\"simpletable\">\n",
       "<tr>\n",
       "        <td></td>          <th>coef</th>     <th>std err</th>      <th>z</th>      <th>P>|z|</th>  <th>[0.025</th>    <th>0.975]</th>  \n",
       "</tr>\n",
       "<tr>\n",
       "  <th>const</th>        <td>   -3.5721</td> <td>   15.008</td> <td>   -0.238</td> <td> 0.812</td> <td>  -32.988</td> <td>   25.844</td>\n",
       "</tr>\n",
       "<tr>\n",
       "  <th>PSWQ</th>         <td>   -0.4222</td> <td>    1.103</td> <td>   -0.383</td> <td> 0.702</td> <td>   -2.583</td> <td>    1.739</td>\n",
       "</tr>\n",
       "<tr>\n",
       "  <th>Previous</th>     <td>    1.6691</td> <td>    1.480</td> <td>    1.128</td> <td> 0.259</td> <td>   -1.232</td> <td>    4.570</td>\n",
       "</tr>\n",
       "<tr>\n",
       "  <th>Anxious</th>      <td>   -2.6480</td> <td>    2.793</td> <td>   -0.948</td> <td> 0.343</td> <td>   -8.122</td> <td>    2.826</td>\n",
       "</tr>\n",
       "<tr>\n",
       "  <th>log_PSWQ</th>     <td>    0.0439</td> <td>    0.297</td> <td>    0.148</td> <td> 0.882</td> <td>   -0.538</td> <td>    0.625</td>\n",
       "</tr>\n",
       "<tr>\n",
       "  <th>log_Anxious</th>  <td>    0.6815</td> <td>    0.652</td> <td>    1.046</td> <td> 0.296</td> <td>   -0.596</td> <td>    1.959</td>\n",
       "</tr>\n",
       "<tr>\n",
       "  <th>log_Previous</th> <td>   -0.3192</td> <td>    0.317</td> <td>   -1.007</td> <td> 0.314</td> <td>   -0.940</td> <td>    0.302</td>\n",
       "</tr>\n",
       "</table>"
      ],
      "text/plain": [
       "<class 'statsmodels.iolib.summary.Summary'>\n",
       "\"\"\"\n",
       "                           Logit Regression Results                           \n",
       "==============================================================================\n",
       "Dep. Variable:                Scoredx   No. Observations:                   75\n",
       "Model:                          Logit   Df Residuals:                       68\n",
       "Method:                           MLE   Df Model:                            6\n",
       "Date:                Fri, 03 Jul 2020   Pseudo R-squ.:                  0.5570\n",
       "Time:                        19:03:47   Log-Likelihood:                -22.955\n",
       "converged:                       True   LL-Null:                       -51.819\n",
       "Covariance Type:            nonrobust   LLR p-value:                 1.300e-10\n",
       "================================================================================\n",
       "                   coef    std err          z      P>|z|      [0.025      0.975]\n",
       "--------------------------------------------------------------------------------\n",
       "const           -3.5721     15.008     -0.238      0.812     -32.988      25.844\n",
       "PSWQ            -0.4222      1.103     -0.383      0.702      -2.583       1.739\n",
       "Previous         1.6691      1.480      1.128      0.259      -1.232       4.570\n",
       "Anxious         -2.6480      2.793     -0.948      0.343      -8.122       2.826\n",
       "log_PSWQ         0.0439      0.297      0.148      0.882      -0.538       0.625\n",
       "log_Anxious      0.6815      0.652      1.046      0.296      -0.596       1.959\n",
       "log_Previous    -0.3192      0.317     -1.007      0.314      -0.940       0.302\n",
       "================================================================================\n",
       "\"\"\""
      ]
     },
     "execution_count": 372,
     "metadata": {},
     "output_type": "execute_result"
    }
   ],
   "source": [
    "p03 = sm.Logit(pen_df['Scoredx'], pen_df[['const',  'PSWQ', 'Previous', 'Anxious','log_PSWQ', 'log_Anxious', 'log_Previous']]).fit()\n",
    "p03.summary()"
   ]
  },
  {
   "cell_type": "code",
   "execution_count": 373,
   "metadata": {},
   "outputs": [
    {
     "data": {
      "image/png": "[encoded data removed]",
      "text/plain": [
       "<IPython.core.display.Image object>"
      ]
     },
     "execution_count": 373,
     "metadata": {},
     "output_type": "execute_result"
    }
   ],
   "source": [
    "from IPython.display import Image\n",
    "Image('logit_linearity.png')"
   ]
  },
  {
   "cell_type": "markdown",
   "metadata": {},
   "source": [
    "###  **one more example**"
   ]
  },
  {
   "cell_type": "code",
   "execution_count": 374,
   "metadata": {},
   "outputs": [],
   "source": [
    "suicide_df = pd.read_csv('suicide.csv')"
   ]
  },
  {
   "cell_type": "code",
   "execution_count": 375,
   "metadata": {},
   "outputs": [
    {
     "data": {
      "text/html": [
       "<div>\n",
       "<style scoped>\n",
       "    .dataframe tbody tr th:only-of-type {\n",
       "        vertical-align: middle;\n",
       "    }\n",
       "\n",
       "    .dataframe tbody tr th {\n",
       "        vertical-align: top;\n",
       "    }\n",
       "\n",
       "    .dataframe thead th {\n",
       "        text-align: right;\n",
       "    }\n",
       "</style>\n",
       "<table border=\"1\" class=\"dataframe\">\n",
       "  <thead>\n",
       "    <tr style=\"text-align: right;\">\n",
       "      <th></th>\n",
       "      <th>Age</th>\n",
       "      <th>Age_Group</th>\n",
       "      <th>Drug_Use</th>\n",
       "      <th>Father_Negligence</th>\n",
       "      <th>Gender</th>\n",
       "      <th>Isolation</th>\n",
       "      <th>Marital_Status</th>\n",
       "      <th>Meaninglessness</th>\n",
       "      <th>Metal</th>\n",
       "      <th>Mother_Negligence</th>\n",
       "      <th>Normlessness</th>\n",
       "      <th>Self_Estrangement</th>\n",
       "      <th>Suicide_Risk</th>\n",
       "      <th>Vicarious</th>\n",
       "      <th>Worshipping</th>\n",
       "    </tr>\n",
       "  </thead>\n",
       "  <tbody>\n",
       "    <tr>\n",
       "      <th>0</th>\n",
       "      <td>15.83</td>\n",
       "      <td>14-16</td>\n",
       "      <td>8.0</td>\n",
       "      <td>17</td>\n",
       "      <td>Female</td>\n",
       "      <td>6.0</td>\n",
       "      <td>Together</td>\n",
       "      <td>10.0</td>\n",
       "      <td>4.83</td>\n",
       "      <td>10.0</td>\n",
       "      <td>6</td>\n",
       "      <td>15</td>\n",
       "      <td>Non-Suicidal</td>\n",
       "      <td>5</td>\n",
       "      <td>4</td>\n",
       "    </tr>\n",
       "    <tr>\n",
       "      <th>1</th>\n",
       "      <td>14.92</td>\n",
       "      <td>14-16</td>\n",
       "      <td>9.0</td>\n",
       "      <td>23</td>\n",
       "      <td>Female</td>\n",
       "      <td>8.0</td>\n",
       "      <td>Together</td>\n",
       "      <td>26.0</td>\n",
       "      <td>6.00</td>\n",
       "      <td>12.0</td>\n",
       "      <td>8</td>\n",
       "      <td>20</td>\n",
       "      <td>Non-Suicidal</td>\n",
       "      <td>4</td>\n",
       "      <td>6</td>\n",
       "    </tr>\n",
       "    <tr>\n",
       "      <th>2</th>\n",
       "      <td>15.33</td>\n",
       "      <td>14-16</td>\n",
       "      <td>5.0</td>\n",
       "      <td>15</td>\n",
       "      <td>Female</td>\n",
       "      <td>18.0</td>\n",
       "      <td>Together</td>\n",
       "      <td>19.0</td>\n",
       "      <td>6.00</td>\n",
       "      <td>16.0</td>\n",
       "      <td>7</td>\n",
       "      <td>17</td>\n",
       "      <td>Non-Suicidal</td>\n",
       "      <td>6</td>\n",
       "      <td>3</td>\n",
       "    </tr>\n",
       "    <tr>\n",
       "      <th>3</th>\n",
       "      <td>15.83</td>\n",
       "      <td>14-16</td>\n",
       "      <td>11.0</td>\n",
       "      <td>11</td>\n",
       "      <td>Female</td>\n",
       "      <td>9.0</td>\n",
       "      <td>Separated</td>\n",
       "      <td>13.0</td>\n",
       "      <td>4.00</td>\n",
       "      <td>10.0</td>\n",
       "      <td>5</td>\n",
       "      <td>12</td>\n",
       "      <td>Non-Suicidal</td>\n",
       "      <td>3</td>\n",
       "      <td>3</td>\n",
       "    </tr>\n",
       "    <tr>\n",
       "      <th>4</th>\n",
       "      <td>14.92</td>\n",
       "      <td>14-16</td>\n",
       "      <td>7.0</td>\n",
       "      <td>13</td>\n",
       "      <td>Female</td>\n",
       "      <td>5.0</td>\n",
       "      <td>Together</td>\n",
       "      <td>13.0</td>\n",
       "      <td>8.00</td>\n",
       "      <td>16.0</td>\n",
       "      <td>3</td>\n",
       "      <td>6</td>\n",
       "      <td>Non-Suicidal</td>\n",
       "      <td>3</td>\n",
       "      <td>9</td>\n",
       "    </tr>\n",
       "    <tr>\n",
       "      <th>...</th>\n",
       "      <td>...</td>\n",
       "      <td>...</td>\n",
       "      <td>...</td>\n",
       "      <td>...</td>\n",
       "      <td>...</td>\n",
       "      <td>...</td>\n",
       "      <td>...</td>\n",
       "      <td>...</td>\n",
       "      <td>...</td>\n",
       "      <td>...</td>\n",
       "      <td>...</td>\n",
       "      <td>...</td>\n",
       "      <td>...</td>\n",
       "      <td>...</td>\n",
       "      <td>...</td>\n",
       "    </tr>\n",
       "    <tr>\n",
       "      <th>116</th>\n",
       "      <td>15.50</td>\n",
       "      <td>14-16</td>\n",
       "      <td>11.0</td>\n",
       "      <td>12</td>\n",
       "      <td>Female</td>\n",
       "      <td>4.0</td>\n",
       "      <td>Together</td>\n",
       "      <td>14.0</td>\n",
       "      <td>18.00</td>\n",
       "      <td>12.0</td>\n",
       "      <td>14</td>\n",
       "      <td>15</td>\n",
       "      <td>Non-Suicidal</td>\n",
       "      <td>7</td>\n",
       "      <td>8</td>\n",
       "    </tr>\n",
       "    <tr>\n",
       "      <th>117</th>\n",
       "      <td>15.58</td>\n",
       "      <td>14-16</td>\n",
       "      <td>5.0</td>\n",
       "      <td>16</td>\n",
       "      <td>Female</td>\n",
       "      <td>14.0</td>\n",
       "      <td>Together</td>\n",
       "      <td>29.0</td>\n",
       "      <td>4.00</td>\n",
       "      <td>12.0</td>\n",
       "      <td>13</td>\n",
       "      <td>14</td>\n",
       "      <td>Non-Suicidal</td>\n",
       "      <td>5</td>\n",
       "      <td>6</td>\n",
       "    </tr>\n",
       "    <tr>\n",
       "      <th>118</th>\n",
       "      <td>15.58</td>\n",
       "      <td>14-16</td>\n",
       "      <td>4.0</td>\n",
       "      <td>13</td>\n",
       "      <td>Female</td>\n",
       "      <td>8.0</td>\n",
       "      <td>Together</td>\n",
       "      <td>15.0</td>\n",
       "      <td>5.00</td>\n",
       "      <td>13.0</td>\n",
       "      <td>8</td>\n",
       "      <td>16</td>\n",
       "      <td>Non-Suicidal</td>\n",
       "      <td>5</td>\n",
       "      <td>3</td>\n",
       "    </tr>\n",
       "    <tr>\n",
       "      <th>119</th>\n",
       "      <td>15.67</td>\n",
       "      <td>14-16</td>\n",
       "      <td>7.0</td>\n",
       "      <td>20</td>\n",
       "      <td>Female</td>\n",
       "      <td>6.0</td>\n",
       "      <td>Together</td>\n",
       "      <td>14.0</td>\n",
       "      <td>6.00</td>\n",
       "      <td>18.0</td>\n",
       "      <td>4</td>\n",
       "      <td>11</td>\n",
       "      <td>Non-Suicidal</td>\n",
       "      <td>7</td>\n",
       "      <td>4</td>\n",
       "    </tr>\n",
       "    <tr>\n",
       "      <th>120</th>\n",
       "      <td>16.00</td>\n",
       "      <td>14-16</td>\n",
       "      <td>5.0</td>\n",
       "      <td>9</td>\n",
       "      <td>Female</td>\n",
       "      <td>4.0</td>\n",
       "      <td>Separated</td>\n",
       "      <td>11.0</td>\n",
       "      <td>4.00</td>\n",
       "      <td>9.0</td>\n",
       "      <td>4</td>\n",
       "      <td>10</td>\n",
       "      <td>Non-Suicidal</td>\n",
       "      <td>2</td>\n",
       "      <td>3</td>\n",
       "    </tr>\n",
       "  </tbody>\n",
       "</table>\n",
       "<p>121 rows × 15 columns</p>\n",
       "</div>"
      ],
      "text/plain": [
       "       Age Age_Group  Drug_Use  Father_Negligence  Gender  Isolation  \\\n",
       "0    15.83     14-16       8.0                 17  Female        6.0   \n",
       "1    14.92     14-16       9.0                 23  Female        8.0   \n",
       "2    15.33     14-16       5.0                 15  Female       18.0   \n",
       "3    15.83     14-16      11.0                 11  Female        9.0   \n",
       "4    14.92     14-16       7.0                 13  Female        5.0   \n",
       "..     ...       ...       ...                ...     ...        ...   \n",
       "116  15.50     14-16      11.0                 12  Female        4.0   \n",
       "117  15.58     14-16       5.0                 16  Female       14.0   \n",
       "118  15.58     14-16       4.0                 13  Female        8.0   \n",
       "119  15.67     14-16       7.0                 20  Female        6.0   \n",
       "120  16.00     14-16       5.0                  9  Female        4.0   \n",
       "\n",
       "    Marital_Status  Meaninglessness  Metal  Mother_Negligence  Normlessness  \\\n",
       "0         Together             10.0   4.83               10.0             6   \n",
       "1         Together             26.0   6.00               12.0             8   \n",
       "2         Together             19.0   6.00               16.0             7   \n",
       "3        Separated             13.0   4.00               10.0             5   \n",
       "4         Together             13.0   8.00               16.0             3   \n",
       "..             ...              ...    ...                ...           ...   \n",
       "116       Together             14.0  18.00               12.0            14   \n",
       "117       Together             29.0   4.00               12.0            13   \n",
       "118       Together             15.0   5.00               13.0             8   \n",
       "119       Together             14.0   6.00               18.0             4   \n",
       "120      Separated             11.0   4.00                9.0             4   \n",
       "\n",
       "     Self_Estrangement  Suicide_Risk  Vicarious  Worshipping  \n",
       "0                   15  Non-Suicidal          5            4  \n",
       "1                   20  Non-Suicidal          4            6  \n",
       "2                   17  Non-Suicidal          6            3  \n",
       "3                   12  Non-Suicidal          3            3  \n",
       "4                    6  Non-Suicidal          3            9  \n",
       "..                 ...           ...        ...          ...  \n",
       "116                 15  Non-Suicidal          7            8  \n",
       "117                 14  Non-Suicidal          5            6  \n",
       "118                 16  Non-Suicidal          5            3  \n",
       "119                 11  Non-Suicidal          7            4  \n",
       "120                 10  Non-Suicidal          2            3  \n",
       "\n",
       "[121 rows x 15 columns]"
      ]
     },
     "execution_count": 375,
     "metadata": {},
     "output_type": "execute_result"
    }
   ],
   "source": [
    "suicide_df"
   ]
  },
  {
   "cell_type": "code",
   "execution_count": 376,
   "metadata": {},
   "outputs": [],
   "source": [
    "suicide_df['Suicide_Riskx'] = suicide_df['Suicide_Risk'].replace({'Non-Suicidal':0, 'Suicidal':1})\n",
    "suicide_df['Marital_Statusx'] = suicide_df['Marital_Status'].replace({'Together':0, 'Separated':1})"
   ]
  },
  {
   "cell_type": "code",
   "execution_count": 377,
   "metadata": {},
   "outputs": [],
   "source": [
    "suicide_df= add_constant(suicide_df)"
   ]
  },
  {
   "cell_type": "code",
   "execution_count": 378,
   "metadata": {},
   "outputs": [
    {
     "name": "stdout",
     "output_type": "stream",
     "text": [
      "Optimization terminated successfully.\n",
      "         Current function value: 0.351710\n",
      "         Iterations 7\n"
     ]
    },
    {
     "data": {
      "text/html": [
       "<table class=\"simpletable\">\n",
       "<caption>Logit Regression Results</caption>\n",
       "<tr>\n",
       "  <th>Dep. Variable:</th>     <td>Suicide_Riskx</td>  <th>  No. Observations:  </th>  <td>   121</td>  \n",
       "</tr>\n",
       "<tr>\n",
       "  <th>Model:</th>                 <td>Logit</td>      <th>  Df Residuals:      </th>  <td>   108</td>  \n",
       "</tr>\n",
       "<tr>\n",
       "  <th>Method:</th>                 <td>MLE</td>       <th>  Df Model:          </th>  <td>    12</td>  \n",
       "</tr>\n",
       "<tr>\n",
       "  <th>Date:</th>            <td>Fri, 03 Jul 2020</td> <th>  Pseudo R-squ.:     </th>  <td>0.3720</td>  \n",
       "</tr>\n",
       "<tr>\n",
       "  <th>Time:</th>                <td>19:03:48</td>     <th>  Log-Likelihood:    </th> <td> -42.557</td> \n",
       "</tr>\n",
       "<tr>\n",
       "  <th>converged:</th>             <td>True</td>       <th>  LL-Null:           </th> <td> -67.767</td> \n",
       "</tr>\n",
       "<tr>\n",
       "  <th>Covariance Type:</th>     <td>nonrobust</td>    <th>  LLR p-value:       </th> <td>1.179e-06</td>\n",
       "</tr>\n",
       "</table>\n",
       "<table class=\"simpletable\">\n",
       "<tr>\n",
       "          <td></td>             <th>coef</th>     <th>std err</th>      <th>z</th>      <th>P>|z|</th>  <th>[0.025</th>    <th>0.975]</th>  \n",
       "</tr>\n",
       "<tr>\n",
       "  <th>const</th>             <td>  -19.0110</td> <td>    6.209</td> <td>   -3.062</td> <td> 0.002</td> <td>  -31.180</td> <td>   -6.842</td>\n",
       "</tr>\n",
       "<tr>\n",
       "  <th>Age</th>               <td>    0.6928</td> <td>    0.323</td> <td>    2.142</td> <td> 0.032</td> <td>    0.059</td> <td>    1.327</td>\n",
       "</tr>\n",
       "<tr>\n",
       "  <th>Marital_Statusx</th>   <td>    0.1833</td> <td>    0.677</td> <td>    0.271</td> <td> 0.787</td> <td>   -1.144</td> <td>    1.511</td>\n",
       "</tr>\n",
       "<tr>\n",
       "  <th>Mother_Negligence</th> <td>   -0.0196</td> <td>    0.053</td> <td>   -0.368</td> <td> 0.713</td> <td>   -0.124</td> <td>    0.085</td>\n",
       "</tr>\n",
       "<tr>\n",
       "  <th>Father_Negligence</th> <td>    0.0846</td> <td>    0.048</td> <td>    1.769</td> <td> 0.077</td> <td>   -0.009</td> <td>    0.178</td>\n",
       "</tr>\n",
       "<tr>\n",
       "  <th>Self_Estrangement</th> <td>    0.1551</td> <td>    0.065</td> <td>    2.393</td> <td> 0.017</td> <td>    0.028</td> <td>    0.282</td>\n",
       "</tr>\n",
       "<tr>\n",
       "  <th>Isolation</th>         <td>   -0.0058</td> <td>    0.076</td> <td>   -0.076</td> <td> 0.939</td> <td>   -0.155</td> <td>    0.143</td>\n",
       "</tr>\n",
       "<tr>\n",
       "  <th>Normlessness</th>      <td>    0.1913</td> <td>    0.109</td> <td>    1.758</td> <td> 0.079</td> <td>   -0.022</td> <td>    0.405</td>\n",
       "</tr>\n",
       "<tr>\n",
       "  <th>Meaninglessness</th>   <td>   -0.0666</td> <td>    0.061</td> <td>   -1.092</td> <td> 0.275</td> <td>   -0.186</td> <td>    0.053</td>\n",
       "</tr>\n",
       "<tr>\n",
       "  <th>Drug_Use</th>          <td>    0.3169</td> <td>    0.103</td> <td>    3.074</td> <td> 0.002</td> <td>    0.115</td> <td>    0.519</td>\n",
       "</tr>\n",
       "<tr>\n",
       "  <th>Metal</th>             <td>    0.1355</td> <td>    0.092</td> <td>    1.478</td> <td> 0.140</td> <td>   -0.044</td> <td>    0.315</td>\n",
       "</tr>\n",
       "<tr>\n",
       "  <th>Worshipping</th>       <td>    0.1589</td> <td>    0.129</td> <td>    1.227</td> <td> 0.220</td> <td>   -0.095</td> <td>    0.413</td>\n",
       "</tr>\n",
       "<tr>\n",
       "  <th>Vicarious</th>         <td>   -0.3418</td> <td>    0.196</td> <td>   -1.741</td> <td> 0.082</td> <td>   -0.727</td> <td>    0.043</td>\n",
       "</tr>\n",
       "</table>"
      ],
      "text/plain": [
       "<class 'statsmodels.iolib.summary.Summary'>\n",
       "\"\"\"\n",
       "                           Logit Regression Results                           \n",
       "==============================================================================\n",
       "Dep. Variable:          Suicide_Riskx   No. Observations:                  121\n",
       "Model:                          Logit   Df Residuals:                      108\n",
       "Method:                           MLE   Df Model:                           12\n",
       "Date:                Fri, 03 Jul 2020   Pseudo R-squ.:                  0.3720\n",
       "Time:                        19:03:48   Log-Likelihood:                -42.557\n",
       "converged:                       True   LL-Null:                       -67.767\n",
       "Covariance Type:            nonrobust   LLR p-value:                 1.179e-06\n",
       "=====================================================================================\n",
       "                        coef    std err          z      P>|z|      [0.025      0.975]\n",
       "-------------------------------------------------------------------------------------\n",
       "const               -19.0110      6.209     -3.062      0.002     -31.180      -6.842\n",
       "Age                   0.6928      0.323      2.142      0.032       0.059       1.327\n",
       "Marital_Statusx       0.1833      0.677      0.271      0.787      -1.144       1.511\n",
       "Mother_Negligence    -0.0196      0.053     -0.368      0.713      -0.124       0.085\n",
       "Father_Negligence     0.0846      0.048      1.769      0.077      -0.009       0.178\n",
       "Self_Estrangement     0.1551      0.065      2.393      0.017       0.028       0.282\n",
       "Isolation            -0.0058      0.076     -0.076      0.939      -0.155       0.143\n",
       "Normlessness          0.1913      0.109      1.758      0.079      -0.022       0.405\n",
       "Meaninglessness      -0.0666      0.061     -1.092      0.275      -0.186       0.053\n",
       "Drug_Use              0.3169      0.103      3.074      0.002       0.115       0.519\n",
       "Metal                 0.1355      0.092      1.478      0.140      -0.044       0.315\n",
       "Worshipping           0.1589      0.129      1.227      0.220      -0.095       0.413\n",
       "Vicarious            -0.3418      0.196     -1.741      0.082      -0.727       0.043\n",
       "=====================================================================================\n",
       "\"\"\""
      ]
     },
     "execution_count": 378,
     "metadata": {},
     "output_type": "execute_result"
    }
   ],
   "source": [
    "s01 = sm.Logit(suicide_df['Suicide_Riskx'], suicide_df[['const', 'Age', 'Marital_Statusx', 'Mother_Negligence', 'Father_Negligence', 'Self_Estrangement', 'Isolation', 'Normlessness', 'Meaninglessness', 'Drug_Use', 'Metal', 'Worshipping', 'Vicarious']]).fit()\n",
    "s01.summary()"
   ]
  },
  {
   "cell_type": "code",
   "execution_count": 379,
   "metadata": {},
   "outputs": [
    {
     "data": {
      "text/plain": [
       "-42.55690318343585"
      ]
     },
     "execution_count": 379,
     "metadata": {},
     "output_type": "execute_result"
    }
   ],
   "source": [
    "s01.llf"
   ]
  },
  {
   "cell_type": "code",
   "execution_count": 380,
   "metadata": {},
   "outputs": [
    {
     "data": {
      "text/plain": [
       "-67.76651948157144"
      ]
     },
     "execution_count": 380,
     "metadata": {},
     "output_type": "execute_result"
    }
   ],
   "source": [
    "s01.llnull"
   ]
  },
  {
   "cell_type": "code",
   "execution_count": 381,
   "metadata": {},
   "outputs": [
    {
     "data": {
      "text/plain": [
       "50.41923259627117"
      ]
     },
     "execution_count": 381,
     "metadata": {},
     "output_type": "execute_result"
    }
   ],
   "source": [
    "model_chisq = s01.llr\n",
    "model_chisq"
   ]
  },
  {
   "cell_type": "code",
   "execution_count": 382,
   "metadata": {},
   "outputs": [],
   "source": [
    "model_chidf = 12"
   ]
  },
  {
   "cell_type": "markdown",
   "metadata": {},
   "source": [
    "### i) checking assumption of multicollinearity"
   ]
  },
  {
   "cell_type": "code",
   "execution_count": 383,
   "metadata": {},
   "outputs": [],
   "source": [
    "cov1 = s01.cov_params()\n",
    "corr1 = cov1 / s01.bse / s01.bse[:, None]"
   ]
  },
  {
   "cell_type": "code",
   "execution_count": 384,
   "metadata": {},
   "outputs": [
    {
     "data": {
      "text/plain": [
       "array([1.4001256 , 1.25315816, 1.24901111, 1.49378292, 1.55399185,\n",
       "       1.54109805, 1.24897438, 1.35521829, 1.44768724, 1.11751563,\n",
       "       1.42800567, 1.62931734])"
      ]
     },
     "execution_count": 384,
     "metadata": {},
     "output_type": "execute_result"
    }
   ],
   "source": [
    "vif1 = np.diag(np.linalg.inv(corr1.values[1:, 1:]))\n",
    "vif1"
   ]
  },
  {
   "cell_type": "markdown",
   "metadata": {},
   "source": [
    "### **upon seeing the vif we can conclude that there multicollinearity is not an issue here.**"
   ]
  },
  {
   "cell_type": "markdown",
   "metadata": {},
   "source": [
    "### ii) checking assumptions of linearity"
   ]
  },
  {
   "cell_type": "code",
   "execution_count": 385,
   "metadata": {},
   "outputs": [],
   "source": [
    "suicide_df_ = suicide_df[['const', 'Age', 'Marital_Statusx', 'Mother_Negligence', 'Father_Negligence', 'Self_Estrangement', 'Isolation', 'Normlessness', 'Meaninglessness', 'Drug_Use', 'Metal', 'Worshipping', 'Vicarious']]"
   ]
  },
  {
   "cell_type": "code",
   "execution_count": 386,
   "metadata": {},
   "outputs": [
    {
     "name": "stderr",
     "output_type": "stream",
     "text": [
      "/home/atrides/anaconda3/lib/python3.7/site-packages/ipykernel_launcher.py:7: SettingWithCopyWarning: \n",
      "A value is trying to be set on a copy of a slice from a DataFrame.\n",
      "Try using .loc[row_indexer,col_indexer] = value instead\n",
      "\n",
      "See the caveats in the documentation: https://pandas.pydata.org/pandas-docs/stable/user_guide/indexing.html#returning-a-view-versus-a-copy\n",
      "  import sys\n"
     ]
    }
   ],
   "source": [
    "for i in suicide_df_.columns:\n",
    "    if (i=='const') or (i=='Marital_Statusx'):\n",
    "        pass\n",
    "    else:\n",
    "        #print(i)\n",
    "        v = f'log_{i}'\n",
    "        suicide_df_[v]  = np.log(suicide_df_[i])*suicide_df_[i]"
   ]
  },
  {
   "cell_type": "code",
   "execution_count": 387,
   "metadata": {},
   "outputs": [
    {
     "name": "stdout",
     "output_type": "stream",
     "text": [
      "Optimization terminated successfully.\n",
      "         Current function value: 0.285688\n",
      "         Iterations 9\n"
     ]
    },
    {
     "data": {
      "text/html": [
       "<table class=\"simpletable\">\n",
       "<caption>Logit Regression Results</caption>\n",
       "<tr>\n",
       "  <th>Dep. Variable:</th>     <td>Suicide_Riskx</td>  <th>  No. Observations:  </th>  <td>   121</td>  \n",
       "</tr>\n",
       "<tr>\n",
       "  <th>Model:</th>                 <td>Logit</td>      <th>  Df Residuals:      </th>  <td>    97</td>  \n",
       "</tr>\n",
       "<tr>\n",
       "  <th>Method:</th>                 <td>MLE</td>       <th>  Df Model:          </th>  <td>    23</td>  \n",
       "</tr>\n",
       "<tr>\n",
       "  <th>Date:</th>            <td>Fri, 03 Jul 2020</td> <th>  Pseudo R-squ.:     </th>  <td>0.4899</td>  \n",
       "</tr>\n",
       "<tr>\n",
       "  <th>Time:</th>                <td>19:03:50</td>     <th>  Log-Likelihood:    </th> <td> -34.568</td> \n",
       "</tr>\n",
       "<tr>\n",
       "  <th>converged:</th>             <td>True</td>       <th>  LL-Null:           </th> <td> -67.767</td> \n",
       "</tr>\n",
       "<tr>\n",
       "  <th>Covariance Type:</th>     <td>nonrobust</td>    <th>  LLR p-value:       </th> <td>4.321e-06</td>\n",
       "</tr>\n",
       "</table>\n",
       "<table class=\"simpletable\">\n",
       "<tr>\n",
       "            <td></td>               <th>coef</th>     <th>std err</th>      <th>z</th>      <th>P>|z|</th>  <th>[0.025</th>    <th>0.975]</th>  \n",
       "</tr>\n",
       "<tr>\n",
       "  <th>const</th>                 <td>  -44.6609</td> <td>  203.270</td> <td>   -0.220</td> <td> 0.826</td> <td> -443.062</td> <td>  353.740</td>\n",
       "</tr>\n",
       "<tr>\n",
       "  <th>Age</th>                   <td>    6.4717</td> <td>   48.972</td> <td>    0.132</td> <td> 0.895</td> <td>  -89.512</td> <td>  102.455</td>\n",
       "</tr>\n",
       "<tr>\n",
       "  <th>Marital_Statusx</th>       <td>   -0.0549</td> <td>    0.906</td> <td>   -0.061</td> <td> 0.952</td> <td>   -1.832</td> <td>    1.722</td>\n",
       "</tr>\n",
       "<tr>\n",
       "  <th>Mother_Negligence</th>     <td>    0.9138</td> <td>    1.420</td> <td>    0.643</td> <td> 0.520</td> <td>   -1.870</td> <td>    3.698</td>\n",
       "</tr>\n",
       "<tr>\n",
       "  <th>Father_Negligence</th>     <td>   -2.4808</td> <td>    1.548</td> <td>   -1.602</td> <td> 0.109</td> <td>   -5.515</td> <td>    0.553</td>\n",
       "</tr>\n",
       "<tr>\n",
       "  <th>Self_Estrangement</th>     <td>   -2.4526</td> <td>    1.207</td> <td>   -2.033</td> <td> 0.042</td> <td>   -4.818</td> <td>   -0.088</td>\n",
       "</tr>\n",
       "<tr>\n",
       "  <th>Isolation</th>             <td>    1.6328</td> <td>    1.293</td> <td>    1.262</td> <td> 0.207</td> <td>   -0.902</td> <td>    4.168</td>\n",
       "</tr>\n",
       "<tr>\n",
       "  <th>Normlessness</th>          <td>    3.5364</td> <td>    2.752</td> <td>    1.285</td> <td> 0.199</td> <td>   -1.857</td> <td>    8.930</td>\n",
       "</tr>\n",
       "<tr>\n",
       "  <th>Meaninglessness</th>       <td>   -1.0929</td> <td>    1.766</td> <td>   -0.619</td> <td> 0.536</td> <td>   -4.555</td> <td>    2.369</td>\n",
       "</tr>\n",
       "<tr>\n",
       "  <th>Drug_Use</th>              <td>    1.9384</td> <td>    2.485</td> <td>    0.780</td> <td> 0.435</td> <td>   -2.932</td> <td>    6.808</td>\n",
       "</tr>\n",
       "<tr>\n",
       "  <th>Metal</th>                 <td>    2.7275</td> <td>    1.869</td> <td>    1.459</td> <td> 0.144</td> <td>   -0.935</td> <td>    6.390</td>\n",
       "</tr>\n",
       "<tr>\n",
       "  <th>Worshipping</th>           <td>   -2.0337</td> <td>    2.536</td> <td>   -0.802</td> <td> 0.423</td> <td>   -7.004</td> <td>    2.936</td>\n",
       "</tr>\n",
       "<tr>\n",
       "  <th>Vicarious</th>             <td>    0.0873</td> <td>    2.661</td> <td>    0.033</td> <td> 0.974</td> <td>   -5.128</td> <td>    5.303</td>\n",
       "</tr>\n",
       "<tr>\n",
       "  <th>log_Age</th>               <td>   -1.4851</td> <td>   12.930</td> <td>   -0.115</td> <td> 0.909</td> <td>  -26.827</td> <td>   23.857</td>\n",
       "</tr>\n",
       "<tr>\n",
       "  <th>log_Mother_Negligence</th> <td>   -0.2596</td> <td>    0.374</td> <td>   -0.695</td> <td> 0.487</td> <td>   -0.992</td> <td>    0.473</td>\n",
       "</tr>\n",
       "<tr>\n",
       "  <th>log_Father_Negligence</th> <td>    0.6516</td> <td>    0.393</td> <td>    1.660</td> <td> 0.097</td> <td>   -0.118</td> <td>    1.421</td>\n",
       "</tr>\n",
       "<tr>\n",
       "  <th>log_Self_Estrangement</th> <td>    0.7315</td> <td>    0.332</td> <td>    2.202</td> <td> 0.028</td> <td>    0.080</td> <td>    1.383</td>\n",
       "</tr>\n",
       "<tr>\n",
       "  <th>log_Isolation</th>         <td>   -0.4976</td> <td>    0.381</td> <td>   -1.305</td> <td> 0.192</td> <td>   -1.245</td> <td>    0.250</td>\n",
       "</tr>\n",
       "<tr>\n",
       "  <th>log_Normlessness</th>      <td>   -0.9924</td> <td>    0.865</td> <td>   -1.148</td> <td> 0.251</td> <td>   -2.687</td> <td>    0.702</td>\n",
       "</tr>\n",
       "<tr>\n",
       "  <th>log_Meaninglessness</th>   <td>    0.2496</td> <td>    0.453</td> <td>    0.551</td> <td> 0.582</td> <td>   -0.639</td> <td>    1.138</td>\n",
       "</tr>\n",
       "<tr>\n",
       "  <th>log_Drug_Use</th>          <td>   -0.5359</td> <td>    0.789</td> <td>   -0.679</td> <td> 0.497</td> <td>   -2.082</td> <td>    1.011</td>\n",
       "</tr>\n",
       "<tr>\n",
       "  <th>log_Metal</th>             <td>   -0.7923</td> <td>    0.586</td> <td>   -1.353</td> <td> 0.176</td> <td>   -1.940</td> <td>    0.356</td>\n",
       "</tr>\n",
       "<tr>\n",
       "  <th>log_Worshipping</th>       <td>    0.7721</td> <td>    0.894</td> <td>    0.863</td> <td> 0.388</td> <td>   -0.980</td> <td>    2.525</td>\n",
       "</tr>\n",
       "<tr>\n",
       "  <th>log_Vicarious</th>         <td>   -0.1666</td> <td>    1.034</td> <td>   -0.161</td> <td> 0.872</td> <td>   -2.193</td> <td>    1.860</td>\n",
       "</tr>\n",
       "</table>"
      ],
      "text/plain": [
       "<class 'statsmodels.iolib.summary.Summary'>\n",
       "\"\"\"\n",
       "                           Logit Regression Results                           \n",
       "==============================================================================\n",
       "Dep. Variable:          Suicide_Riskx   No. Observations:                  121\n",
       "Model:                          Logit   Df Residuals:                       97\n",
       "Method:                           MLE   Df Model:                           23\n",
       "Date:                Fri, 03 Jul 2020   Pseudo R-squ.:                  0.4899\n",
       "Time:                        19:03:50   Log-Likelihood:                -34.568\n",
       "converged:                       True   LL-Null:                       -67.767\n",
       "Covariance Type:            nonrobust   LLR p-value:                 4.321e-06\n",
       "=========================================================================================\n",
       "                            coef    std err          z      P>|z|      [0.025      0.975]\n",
       "-----------------------------------------------------------------------------------------\n",
       "const                   -44.6609    203.270     -0.220      0.826    -443.062     353.740\n",
       "Age                       6.4717     48.972      0.132      0.895     -89.512     102.455\n",
       "Marital_Statusx          -0.0549      0.906     -0.061      0.952      -1.832       1.722\n",
       "Mother_Negligence         0.9138      1.420      0.643      0.520      -1.870       3.698\n",
       "Father_Negligence        -2.4808      1.548     -1.602      0.109      -5.515       0.553\n",
       "Self_Estrangement        -2.4526      1.207     -2.033      0.042      -4.818      -0.088\n",
       "Isolation                 1.6328      1.293      1.262      0.207      -0.902       4.168\n",
       "Normlessness              3.5364      2.752      1.285      0.199      -1.857       8.930\n",
       "Meaninglessness          -1.0929      1.766     -0.619      0.536      -4.555       2.369\n",
       "Drug_Use                  1.9384      2.485      0.780      0.435      -2.932       6.808\n",
       "Metal                     2.7275      1.869      1.459      0.144      -0.935       6.390\n",
       "Worshipping              -2.0337      2.536     -0.802      0.423      -7.004       2.936\n",
       "Vicarious                 0.0873      2.661      0.033      0.974      -5.128       5.303\n",
       "log_Age                  -1.4851     12.930     -0.115      0.909     -26.827      23.857\n",
       "log_Mother_Negligence    -0.2596      0.374     -0.695      0.487      -0.992       0.473\n",
       "log_Father_Negligence     0.6516      0.393      1.660      0.097      -0.118       1.421\n",
       "log_Self_Estrangement     0.7315      0.332      2.202      0.028       0.080       1.383\n",
       "log_Isolation            -0.4976      0.381     -1.305      0.192      -1.245       0.250\n",
       "log_Normlessness         -0.9924      0.865     -1.148      0.251      -2.687       0.702\n",
       "log_Meaninglessness       0.2496      0.453      0.551      0.582      -0.639       1.138\n",
       "log_Drug_Use             -0.5359      0.789     -0.679      0.497      -2.082       1.011\n",
       "log_Metal                -0.7923      0.586     -1.353      0.176      -1.940       0.356\n",
       "log_Worshipping           0.7721      0.894      0.863      0.388      -0.980       2.525\n",
       "log_Vicarious            -0.1666      1.034     -0.161      0.872      -2.193       1.860\n",
       "=========================================================================================\n",
       "\"\"\""
      ]
     },
     "execution_count": 387,
     "metadata": {},
     "output_type": "execute_result"
    }
   ],
   "source": [
    "s02 = sm.Logit(suicide_df['Suicide_Riskx'], suicide_df_).fit()\n",
    "s02.summary()"
   ]
  },
  {
   "cell_type": "markdown",
   "metadata": {},
   "source": [
    "### **since none of the coeffecients corresponding to log terms are significant , our model passes assumption of linearity**"
   ]
  },
  {
   "cell_type": "code",
   "execution_count": null,
   "metadata": {},
   "outputs": [],
   "source": []
  },
  {
   "cell_type": "markdown",
   "metadata": {},
   "source": [
    "## **Multinomial logistic regression**"
   ]
  },
  {
   "cell_type": "code",
   "execution_count": 388,
   "metadata": {},
   "outputs": [],
   "source": [
    "# Open both files\n",
    "with open(\"Chat-Up Lines.dat\") as f_in, open(\"outfile.csv\", 'w') as f_out:\n",
    "    # Write header unchanged\n",
    "    header = f_in.readline()\n",
    "    f_out.write(header)\n",
    "\n",
    "    # Transform the rest of the lines\n",
    "    for line in f_in:\n",
    "        line = line.replace(' ', '')\n",
    "        f_out.write(line)"
   ]
  },
  {
   "cell_type": "code",
   "execution_count": 389,
   "metadata": {},
   "outputs": [],
   "source": [
    "chat_up  = pd.read_csv('outfile.csv', delim_whitespace=True)"
   ]
  },
  {
   "cell_type": "code",
   "execution_count": 390,
   "metadata": {},
   "outputs": [
    {
     "data": {
      "text/html": [
       "<div>\n",
       "<style scoped>\n",
       "    .dataframe tbody tr th:only-of-type {\n",
       "        vertical-align: middle;\n",
       "    }\n",
       "\n",
       "    .dataframe tbody tr th {\n",
       "        vertical-align: top;\n",
       "    }\n",
       "\n",
       "    .dataframe thead th {\n",
       "        text-align: right;\n",
       "    }\n",
       "</style>\n",
       "<table border=\"1\" class=\"dataframe\">\n",
       "  <thead>\n",
       "    <tr style=\"text-align: right;\">\n",
       "      <th></th>\n",
       "      <th>Success</th>\n",
       "      <th>Funny</th>\n",
       "      <th>Sex</th>\n",
       "      <th>Good_Mate</th>\n",
       "      <th>Gender</th>\n",
       "    </tr>\n",
       "  </thead>\n",
       "  <tbody>\n",
       "    <tr>\n",
       "      <th>0</th>\n",
       "      <td>GetPhoneNumber</td>\n",
       "      <td>3</td>\n",
       "      <td>7</td>\n",
       "      <td>6</td>\n",
       "      <td>Male</td>\n",
       "    </tr>\n",
       "    <tr>\n",
       "      <th>1</th>\n",
       "      <td>GoHomewithPerson</td>\n",
       "      <td>5</td>\n",
       "      <td>7</td>\n",
       "      <td>2</td>\n",
       "      <td>Male</td>\n",
       "    </tr>\n",
       "    <tr>\n",
       "      <th>2</th>\n",
       "      <td>GetPhoneNumber</td>\n",
       "      <td>4</td>\n",
       "      <td>6</td>\n",
       "      <td>6</td>\n",
       "      <td>Male</td>\n",
       "    </tr>\n",
       "    <tr>\n",
       "      <th>3</th>\n",
       "      <td>GoHomewithPerson</td>\n",
       "      <td>3</td>\n",
       "      <td>7</td>\n",
       "      <td>5</td>\n",
       "      <td>Male</td>\n",
       "    </tr>\n",
       "    <tr>\n",
       "      <th>4</th>\n",
       "      <td>GetPhoneNumber</td>\n",
       "      <td>5</td>\n",
       "      <td>1</td>\n",
       "      <td>6</td>\n",
       "      <td>Male</td>\n",
       "    </tr>\n",
       "  </tbody>\n",
       "</table>\n",
       "</div>"
      ],
      "text/plain": [
       "            Success  Funny  Sex  Good_Mate Gender\n",
       "0    GetPhoneNumber      3    7          6   Male\n",
       "1  GoHomewithPerson      5    7          2   Male\n",
       "2    GetPhoneNumber      4    6          6   Male\n",
       "3  GoHomewithPerson      3    7          5   Male\n",
       "4    GetPhoneNumber      5    1          6   Male"
      ]
     },
     "execution_count": 390,
     "metadata": {},
     "output_type": "execute_result"
    }
   ],
   "source": [
    "chat_up.head()"
   ]
  },
  {
   "cell_type": "code",
   "execution_count": 391,
   "metadata": {},
   "outputs": [
    {
     "data": {
      "text/plain": [
       "array(['GetPhoneNumber', 'GoHomewithPerson', 'Noresponse/WalkOff'],\n",
       "      dtype=object)"
      ]
     },
     "execution_count": 391,
     "metadata": {},
     "output_type": "execute_result"
    }
   ],
   "source": [
    "chat_up['Success'].unique()"
   ]
  },
  {
   "cell_type": "code",
   "execution_count": 392,
   "metadata": {},
   "outputs": [],
   "source": [
    "chat_up['Successx'] = chat_up['Success'].replace({'GetPhoneNumber':1, 'GoHomewithPerson':2, 'Noresponse/WalkOff':0})"
   ]
  },
  {
   "cell_type": "code",
   "execution_count": 393,
   "metadata": {},
   "outputs": [],
   "source": [
    "chat_up['Genderx'] = chat_up['Gender'].replace({'Male':0, 'Female':1})"
   ]
  },
  {
   "cell_type": "code",
   "execution_count": 394,
   "metadata": {},
   "outputs": [],
   "source": [
    "chat_up['Gen_Funny'] = chat_up['Genderx'] * chat_up['Funny']\n",
    "chat_up['Gen_Sex'] = chat_up['Genderx'] * chat_up['Sex']"
   ]
  },
  {
   "cell_type": "code",
   "execution_count": 395,
   "metadata": {},
   "outputs": [
    {
     "name": "stdout",
     "output_type": "stream",
     "text": [
      "Optimization terminated successfully.\n",
      "         Current function value: 0.851702\n",
      "         Iterations 7\n"
     ]
    }
   ],
   "source": [
    "import statsmodels.formula.api as smf\n",
    "ml01 = smf.mnlogit('Successx ~ Funny + Sex + Good_Mate +Genderx+Gen_Funny+ Gen_Sex', chat_up).fit()"
   ]
  },
  {
   "cell_type": "code",
   "execution_count": 396,
   "metadata": {},
   "outputs": [
    {
     "data": {
      "text/html": [
       "<table class=\"simpletable\">\n",
       "<caption>MNLogit Regression Results</caption>\n",
       "<tr>\n",
       "  <th>Dep. Variable:</th>       <td>Successx</td>     <th>  No. Observations:  </th>  <td>  1020</td>  \n",
       "</tr>\n",
       "<tr>\n",
       "  <th>Model:</th>                <td>MNLogit</td>     <th>  Df Residuals:      </th>  <td>  1006</td>  \n",
       "</tr>\n",
       "<tr>\n",
       "  <th>Method:</th>                 <td>MLE</td>       <th>  Df Model:          </th>  <td>    12</td>  \n",
       "</tr>\n",
       "<tr>\n",
       "  <th>Date:</th>            <td>Fri, 03 Jul 2020</td> <th>  Pseudo R-squ.:     </th>  <td>0.1382</td>  \n",
       "</tr>\n",
       "<tr>\n",
       "  <th>Time:</th>                <td>19:03:52</td>     <th>  Log-Likelihood:    </th> <td> -868.74</td> \n",
       "</tr>\n",
       "<tr>\n",
       "  <th>converged:</th>             <td>True</td>       <th>  LL-Null:           </th> <td> -1008.0</td> \n",
       "</tr>\n",
       "<tr>\n",
       "  <th>Covariance Type:</th>     <td>nonrobust</td>    <th>  LLR p-value:       </th> <td>1.496e-52</td>\n",
       "</tr>\n",
       "</table>\n",
       "<table class=\"simpletable\">\n",
       "<tr>\n",
       "  <th>Successx=1</th>    <th>coef</th>     <th>std err</th>      <th>z</th>      <th>P>|z|</th>  <th>[0.025</th>    <th>0.975]</th>  \n",
       "</tr>\n",
       "<tr>\n",
       "  <th>Intercept</th>  <td>   -1.7831</td> <td>    0.670</td> <td>   -2.662</td> <td> 0.008</td> <td>   -3.096</td> <td>   -0.470</td>\n",
       "</tr>\n",
       "<tr>\n",
       "  <th>Funny</th>      <td>    0.1394</td> <td>    0.110</td> <td>    1.266</td> <td> 0.206</td> <td>   -0.076</td> <td>    0.355</td>\n",
       "</tr>\n",
       "<tr>\n",
       "  <th>Sex</th>        <td>    0.2762</td> <td>    0.089</td> <td>    3.097</td> <td> 0.002</td> <td>    0.101</td> <td>    0.451</td>\n",
       "</tr>\n",
       "<tr>\n",
       "  <th>Good_Mate</th>  <td>    0.1318</td> <td>    0.054</td> <td>    2.454</td> <td> 0.014</td> <td>    0.027</td> <td>    0.237</td>\n",
       "</tr>\n",
       "<tr>\n",
       "  <th>Genderx</th>    <td>   -1.6462</td> <td>    0.796</td> <td>   -2.067</td> <td> 0.039</td> <td>   -3.207</td> <td>   -0.086</td>\n",
       "</tr>\n",
       "<tr>\n",
       "  <th>Gen_Funny</th>  <td>    0.4924</td> <td>    0.140</td> <td>    3.518</td> <td> 0.000</td> <td>    0.218</td> <td>    0.767</td>\n",
       "</tr>\n",
       "<tr>\n",
       "  <th>Gen_Sex</th>    <td>   -0.3483</td> <td>    0.106</td> <td>   -3.290</td> <td> 0.001</td> <td>   -0.556</td> <td>   -0.141</td>\n",
       "</tr>\n",
       "<tr>\n",
       "  <th>Successx=2</th>    <th>coef</th>     <th>std err</th>      <th>z</th>      <th>P>|z|</th>  <th>[0.025</th>    <th>0.975]</th>  \n",
       "</tr>\n",
       "<tr>\n",
       "  <th>Intercept</th>  <td>   -4.2864</td> <td>    0.941</td> <td>   -4.553</td> <td> 0.000</td> <td>   -6.131</td> <td>   -2.441</td>\n",
       "</tr>\n",
       "<tr>\n",
       "  <th>Funny</th>      <td>    0.3185</td> <td>    0.125</td> <td>    2.542</td> <td> 0.011</td> <td>    0.073</td> <td>    0.564</td>\n",
       "</tr>\n",
       "<tr>\n",
       "  <th>Sex</th>        <td>    0.4173</td> <td>    0.122</td> <td>    3.418</td> <td> 0.001</td> <td>    0.178</td> <td>    0.657</td>\n",
       "</tr>\n",
       "<tr>\n",
       "  <th>Good_Mate</th>  <td>    0.1300</td> <td>    0.084</td> <td>    1.557</td> <td> 0.120</td> <td>   -0.034</td> <td>    0.294</td>\n",
       "</tr>\n",
       "<tr>\n",
       "  <th>Genderx</th>    <td>   -5.6264</td> <td>    1.329</td> <td>   -4.235</td> <td> 0.000</td> <td>   -8.230</td> <td>   -3.022</td>\n",
       "</tr>\n",
       "<tr>\n",
       "  <th>Gen_Funny</th>  <td>    1.1724</td> <td>    0.199</td> <td>    5.884</td> <td> 0.000</td> <td>    0.782</td> <td>    1.563</td>\n",
       "</tr>\n",
       "<tr>\n",
       "  <th>Gen_Sex</th>    <td>   -0.4766</td> <td>    0.163</td> <td>   -2.916</td> <td> 0.004</td> <td>   -0.797</td> <td>   -0.156</td>\n",
       "</tr>\n",
       "</table>"
      ],
      "text/plain": [
       "<class 'statsmodels.iolib.summary.Summary'>\n",
       "\"\"\"\n",
       "                          MNLogit Regression Results                          \n",
       "==============================================================================\n",
       "Dep. Variable:               Successx   No. Observations:                 1020\n",
       "Model:                        MNLogit   Df Residuals:                     1006\n",
       "Method:                           MLE   Df Model:                           12\n",
       "Date:                Fri, 03 Jul 2020   Pseudo R-squ.:                  0.1382\n",
       "Time:                        19:03:52   Log-Likelihood:                -868.74\n",
       "converged:                       True   LL-Null:                       -1008.0\n",
       "Covariance Type:            nonrobust   LLR p-value:                 1.496e-52\n",
       "==============================================================================\n",
       "Successx=1       coef    std err          z      P>|z|      [0.025      0.975]\n",
       "------------------------------------------------------------------------------\n",
       "Intercept     -1.7831      0.670     -2.662      0.008      -3.096      -0.470\n",
       "Funny          0.1394      0.110      1.266      0.206      -0.076       0.355\n",
       "Sex            0.2762      0.089      3.097      0.002       0.101       0.451\n",
       "Good_Mate      0.1318      0.054      2.454      0.014       0.027       0.237\n",
       "Genderx       -1.6462      0.796     -2.067      0.039      -3.207      -0.086\n",
       "Gen_Funny      0.4924      0.140      3.518      0.000       0.218       0.767\n",
       "Gen_Sex       -0.3483      0.106     -3.290      0.001      -0.556      -0.141\n",
       "------------------------------------------------------------------------------\n",
       "Successx=2       coef    std err          z      P>|z|      [0.025      0.975]\n",
       "------------------------------------------------------------------------------\n",
       "Intercept     -4.2864      0.941     -4.553      0.000      -6.131      -2.441\n",
       "Funny          0.3185      0.125      2.542      0.011       0.073       0.564\n",
       "Sex            0.4173      0.122      3.418      0.001       0.178       0.657\n",
       "Good_Mate      0.1300      0.084      1.557      0.120      -0.034       0.294\n",
       "Genderx       -5.6264      1.329     -4.235      0.000      -8.230      -3.022\n",
       "Gen_Funny      1.1724      0.199      5.884      0.000       0.782       1.563\n",
       "Gen_Sex       -0.4766      0.163     -2.916      0.004      -0.797      -0.156\n",
       "==============================================================================\n",
       "\"\"\""
      ]
     },
     "execution_count": 396,
     "metadata": {},
     "output_type": "execute_result"
    }
   ],
   "source": [
    "ml01.summary()"
   ]
  },
  {
   "cell_type": "markdown",
   "metadata": {},
   "source": [
    "### see     https://stats.stackexchange.com/questions/202264/multinomial-logit-mlogit-vs-statsmodels"
   ]
  },
  {
   "cell_type": "code",
   "execution_count": 397,
   "metadata": {},
   "outputs": [
    {
     "data": {
      "text/html": [
       "<div>\n",
       "<style scoped>\n",
       "    .dataframe tbody tr th:only-of-type {\n",
       "        vertical-align: middle;\n",
       "    }\n",
       "\n",
       "    .dataframe tbody tr th {\n",
       "        vertical-align: top;\n",
       "    }\n",
       "\n",
       "    .dataframe thead th {\n",
       "        text-align: right;\n",
       "    }\n",
       "</style>\n",
       "<table border=\"1\" class=\"dataframe\">\n",
       "  <thead>\n",
       "    <tr style=\"text-align: right;\">\n",
       "      <th></th>\n",
       "      <th>0</th>\n",
       "      <th>1</th>\n",
       "    </tr>\n",
       "  </thead>\n",
       "  <tbody>\n",
       "    <tr>\n",
       "      <th>Intercept</th>\n",
       "      <td>0.168121</td>\n",
       "      <td>0.013755</td>\n",
       "    </tr>\n",
       "    <tr>\n",
       "      <th>Funny</th>\n",
       "      <td>1.149571</td>\n",
       "      <td>1.375004</td>\n",
       "    </tr>\n",
       "    <tr>\n",
       "      <th>Sex</th>\n",
       "      <td>1.318120</td>\n",
       "      <td>1.517832</td>\n",
       "    </tr>\n",
       "    <tr>\n",
       "      <th>Good_Mate</th>\n",
       "      <td>1.140926</td>\n",
       "      <td>1.138850</td>\n",
       "    </tr>\n",
       "    <tr>\n",
       "      <th>Genderx</th>\n",
       "      <td>0.192776</td>\n",
       "      <td>0.003601</td>\n",
       "    </tr>\n",
       "    <tr>\n",
       "      <th>Gen_Funny</th>\n",
       "      <td>1.636307</td>\n",
       "      <td>3.229789</td>\n",
       "    </tr>\n",
       "    <tr>\n",
       "      <th>Gen_Sex</th>\n",
       "      <td>0.705869</td>\n",
       "      <td>0.620866</td>\n",
       "    </tr>\n",
       "  </tbody>\n",
       "</table>\n",
       "</div>"
      ],
      "text/plain": [
       "                  0         1\n",
       "Intercept  0.168121  0.013755\n",
       "Funny      1.149571  1.375004\n",
       "Sex        1.318120  1.517832\n",
       "Good_Mate  1.140926  1.138850\n",
       "Genderx    0.192776  0.003601\n",
       "Gen_Funny  1.636307  3.229789\n",
       "Gen_Sex    0.705869  0.620866"
      ]
     },
     "execution_count": 397,
     "metadata": {},
     "output_type": "execute_result"
    }
   ],
   "source": [
    "np.exp(ml01.params)"
   ]
  },
  {
   "cell_type": "markdown",
   "metadata": {},
   "source": [
    "### **Checking Assumptions**"
   ]
  },
  {
   "cell_type": "markdown",
   "metadata": {},
   "source": [
    "#### Assumption of Multicollinearity"
   ]
  },
  {
   "cell_type": "code",
   "execution_count": 398,
   "metadata": {},
   "outputs": [],
   "source": [
    "from statsmodels.stats.outliers_influence import variance_inflation_factor"
   ]
  },
  {
   "cell_type": "code",
   "execution_count": null,
   "metadata": {},
   "outputs": [],
   "source": []
  },
  {
   "cell_type": "code",
   "execution_count": 399,
   "metadata": {},
   "outputs": [],
   "source": [
    "chat_up_ = chat_up.copy()"
   ]
  },
  {
   "cell_type": "code",
   "execution_count": 400,
   "metadata": {},
   "outputs": [],
   "source": [
    "chat_up_.drop(['Success', 'Successx', 'Gender','Gen_Funny', 'Gen_Sex'], inplace=True, axis=1)"
   ]
  },
  {
   "cell_type": "code",
   "execution_count": 401,
   "metadata": {},
   "outputs": [
    {
     "data": {
      "text/html": [
       "<div>\n",
       "<style scoped>\n",
       "    .dataframe tbody tr th:only-of-type {\n",
       "        vertical-align: middle;\n",
       "    }\n",
       "\n",
       "    .dataframe tbody tr th {\n",
       "        vertical-align: top;\n",
       "    }\n",
       "\n",
       "    .dataframe thead th {\n",
       "        text-align: right;\n",
       "    }\n",
       "</style>\n",
       "<table border=\"1\" class=\"dataframe\">\n",
       "  <thead>\n",
       "    <tr style=\"text-align: right;\">\n",
       "      <th></th>\n",
       "      <th>Funny</th>\n",
       "      <th>Sex</th>\n",
       "      <th>Good_Mate</th>\n",
       "      <th>Genderx</th>\n",
       "    </tr>\n",
       "  </thead>\n",
       "  <tbody>\n",
       "    <tr>\n",
       "      <th>0</th>\n",
       "      <td>3</td>\n",
       "      <td>7</td>\n",
       "      <td>6</td>\n",
       "      <td>0</td>\n",
       "    </tr>\n",
       "    <tr>\n",
       "      <th>1</th>\n",
       "      <td>5</td>\n",
       "      <td>7</td>\n",
       "      <td>2</td>\n",
       "      <td>0</td>\n",
       "    </tr>\n",
       "    <tr>\n",
       "      <th>2</th>\n",
       "      <td>4</td>\n",
       "      <td>6</td>\n",
       "      <td>6</td>\n",
       "      <td>0</td>\n",
       "    </tr>\n",
       "    <tr>\n",
       "      <th>3</th>\n",
       "      <td>3</td>\n",
       "      <td>7</td>\n",
       "      <td>5</td>\n",
       "      <td>0</td>\n",
       "    </tr>\n",
       "    <tr>\n",
       "      <th>4</th>\n",
       "      <td>5</td>\n",
       "      <td>1</td>\n",
       "      <td>6</td>\n",
       "      <td>0</td>\n",
       "    </tr>\n",
       "    <tr>\n",
       "      <th>...</th>\n",
       "      <td>...</td>\n",
       "      <td>...</td>\n",
       "      <td>...</td>\n",
       "      <td>...</td>\n",
       "    </tr>\n",
       "    <tr>\n",
       "      <th>1015</th>\n",
       "      <td>5</td>\n",
       "      <td>6</td>\n",
       "      <td>6</td>\n",
       "      <td>1</td>\n",
       "    </tr>\n",
       "    <tr>\n",
       "      <th>1016</th>\n",
       "      <td>3</td>\n",
       "      <td>9</td>\n",
       "      <td>6</td>\n",
       "      <td>1</td>\n",
       "    </tr>\n",
       "    <tr>\n",
       "      <th>1017</th>\n",
       "      <td>4</td>\n",
       "      <td>7</td>\n",
       "      <td>7</td>\n",
       "      <td>1</td>\n",
       "    </tr>\n",
       "    <tr>\n",
       "      <th>1018</th>\n",
       "      <td>6</td>\n",
       "      <td>7</td>\n",
       "      <td>6</td>\n",
       "      <td>1</td>\n",
       "    </tr>\n",
       "    <tr>\n",
       "      <th>1019</th>\n",
       "      <td>5</td>\n",
       "      <td>2</td>\n",
       "      <td>6</td>\n",
       "      <td>1</td>\n",
       "    </tr>\n",
       "  </tbody>\n",
       "</table>\n",
       "<p>1020 rows × 4 columns</p>\n",
       "</div>"
      ],
      "text/plain": [
       "      Funny  Sex  Good_Mate  Genderx\n",
       "0         3    7          6        0\n",
       "1         5    7          2        0\n",
       "2         4    6          6        0\n",
       "3         3    7          5        0\n",
       "4         5    1          6        0\n",
       "...     ...  ...        ...      ...\n",
       "1015      5    6          6        1\n",
       "1016      3    9          6        1\n",
       "1017      4    7          7        1\n",
       "1018      6    7          6        1\n",
       "1019      5    2          6        1\n",
       "\n",
       "[1020 rows x 4 columns]"
      ]
     },
     "execution_count": 401,
     "metadata": {},
     "output_type": "execute_result"
    }
   ],
   "source": [
    "chat_up_"
   ]
  },
  {
   "cell_type": "code",
   "execution_count": 402,
   "metadata": {},
   "outputs": [],
   "source": [
    "chat_up_ = add_constant(chat_up_)"
   ]
  },
  {
   "cell_type": "code",
   "execution_count": 403,
   "metadata": {},
   "outputs": [],
   "source": [
    "vif = pd.Series([variance_inflation_factor(chat_up_.values, i) \n",
    "               for i in range(1, chat_up_.shape[1])], \n",
    "              index=chat_up_.columns[1:])"
   ]
  },
  {
   "cell_type": "code",
   "execution_count": 404,
   "metadata": {},
   "outputs": [
    {
     "data": {
      "text/plain": [
       "Funny        1.264375\n",
       "Sex          1.017911\n",
       "Good_Mate    1.028197\n",
       "Genderx      1.218566\n",
       "dtype: float64"
      ]
     },
     "execution_count": 404,
     "metadata": {},
     "output_type": "execute_result"
    }
   ],
   "source": [
    "vif"
   ]
  },
  {
   "cell_type": "code",
   "execution_count": 405,
   "metadata": {},
   "outputs": [
    {
     "data": {
      "text/plain": [
       "Funny        0.790905\n",
       "Sex          0.982404\n",
       "Good_Mate    0.972576\n",
       "Genderx      0.820637\n",
       "dtype: float64"
      ]
     },
     "execution_count": 405,
     "metadata": {},
     "output_type": "execute_result"
    }
   ],
   "source": [
    "tolerance = 1/vif\n",
    "tolerance"
   ]
  },
  {
   "cell_type": "code",
   "execution_count": 406,
   "metadata": {},
   "outputs": [
    {
     "data": {
      "image/png": "[encoded data removed]",
      "text/plain": [
       "<IPython.core.display.Image object>"
      ]
     },
     "execution_count": 406,
     "metadata": {},
     "output_type": "execute_result"
    }
   ],
   "source": [
    "Image('vif.png')"
   ]
  },
  {
   "cell_type": "markdown",
   "metadata": {},
   "source": [
    "### Assumption of Linearity"
   ]
  },
  {
   "cell_type": "code",
   "execution_count": 407,
   "metadata": {},
   "outputs": [
    {
     "data": {
      "text/html": [
       "<div>\n",
       "<style scoped>\n",
       "    .dataframe tbody tr th:only-of-type {\n",
       "        vertical-align: middle;\n",
       "    }\n",
       "\n",
       "    .dataframe tbody tr th {\n",
       "        vertical-align: top;\n",
       "    }\n",
       "\n",
       "    .dataframe thead th {\n",
       "        text-align: right;\n",
       "    }\n",
       "</style>\n",
       "<table border=\"1\" class=\"dataframe\">\n",
       "  <thead>\n",
       "    <tr style=\"text-align: right;\">\n",
       "      <th></th>\n",
       "      <th>const</th>\n",
       "      <th>Funny</th>\n",
       "      <th>Sex</th>\n",
       "      <th>Good_Mate</th>\n",
       "      <th>Genderx</th>\n",
       "    </tr>\n",
       "  </thead>\n",
       "  <tbody>\n",
       "    <tr>\n",
       "      <th>0</th>\n",
       "      <td>1.0</td>\n",
       "      <td>3</td>\n",
       "      <td>7</td>\n",
       "      <td>6</td>\n",
       "      <td>0</td>\n",
       "    </tr>\n",
       "    <tr>\n",
       "      <th>1</th>\n",
       "      <td>1.0</td>\n",
       "      <td>5</td>\n",
       "      <td>7</td>\n",
       "      <td>2</td>\n",
       "      <td>0</td>\n",
       "    </tr>\n",
       "    <tr>\n",
       "      <th>2</th>\n",
       "      <td>1.0</td>\n",
       "      <td>4</td>\n",
       "      <td>6</td>\n",
       "      <td>6</td>\n",
       "      <td>0</td>\n",
       "    </tr>\n",
       "    <tr>\n",
       "      <th>3</th>\n",
       "      <td>1.0</td>\n",
       "      <td>3</td>\n",
       "      <td>7</td>\n",
       "      <td>5</td>\n",
       "      <td>0</td>\n",
       "    </tr>\n",
       "    <tr>\n",
       "      <th>4</th>\n",
       "      <td>1.0</td>\n",
       "      <td>5</td>\n",
       "      <td>1</td>\n",
       "      <td>6</td>\n",
       "      <td>0</td>\n",
       "    </tr>\n",
       "    <tr>\n",
       "      <th>...</th>\n",
       "      <td>...</td>\n",
       "      <td>...</td>\n",
       "      <td>...</td>\n",
       "      <td>...</td>\n",
       "      <td>...</td>\n",
       "    </tr>\n",
       "    <tr>\n",
       "      <th>1015</th>\n",
       "      <td>1.0</td>\n",
       "      <td>5</td>\n",
       "      <td>6</td>\n",
       "      <td>6</td>\n",
       "      <td>1</td>\n",
       "    </tr>\n",
       "    <tr>\n",
       "      <th>1016</th>\n",
       "      <td>1.0</td>\n",
       "      <td>3</td>\n",
       "      <td>9</td>\n",
       "      <td>6</td>\n",
       "      <td>1</td>\n",
       "    </tr>\n",
       "    <tr>\n",
       "      <th>1017</th>\n",
       "      <td>1.0</td>\n",
       "      <td>4</td>\n",
       "      <td>7</td>\n",
       "      <td>7</td>\n",
       "      <td>1</td>\n",
       "    </tr>\n",
       "    <tr>\n",
       "      <th>1018</th>\n",
       "      <td>1.0</td>\n",
       "      <td>6</td>\n",
       "      <td>7</td>\n",
       "      <td>6</td>\n",
       "      <td>1</td>\n",
       "    </tr>\n",
       "    <tr>\n",
       "      <th>1019</th>\n",
       "      <td>1.0</td>\n",
       "      <td>5</td>\n",
       "      <td>2</td>\n",
       "      <td>6</td>\n",
       "      <td>1</td>\n",
       "    </tr>\n",
       "  </tbody>\n",
       "</table>\n",
       "<p>1020 rows × 5 columns</p>\n",
       "</div>"
      ],
      "text/plain": [
       "      const  Funny  Sex  Good_Mate  Genderx\n",
       "0       1.0      3    7          6        0\n",
       "1       1.0      5    7          2        0\n",
       "2       1.0      4    6          6        0\n",
       "3       1.0      3    7          5        0\n",
       "4       1.0      5    1          6        0\n",
       "...     ...    ...  ...        ...      ...\n",
       "1015    1.0      5    6          6        1\n",
       "1016    1.0      3    9          6        1\n",
       "1017    1.0      4    7          7        1\n",
       "1018    1.0      6    7          6        1\n",
       "1019    1.0      5    2          6        1\n",
       "\n",
       "[1020 rows x 5 columns]"
      ]
     },
     "execution_count": 407,
     "metadata": {},
     "output_type": "execute_result"
    }
   ],
   "source": [
    "chat_up_"
   ]
  },
  {
   "cell_type": "code",
   "execution_count": 408,
   "metadata": {},
   "outputs": [
    {
     "name": "stderr",
     "output_type": "stream",
     "text": [
      "/home/atrides/anaconda3/lib/python3.7/site-packages/pandas/core/series.py:679: RuntimeWarning: divide by zero encountered in log\n",
      "  result = getattr(ufunc, method)(*inputs, **kwargs)\n"
     ]
    }
   ],
   "source": [
    "for i in chat_up_.columns:\n",
    "    if i=='const' or i=='Genderx':\n",
    "        pass\n",
    "    else:\n",
    "        v = f'log_{i}'\n",
    "        chat_up_[v] = np.log(chat_up_[i])*chat_up_[i]"
   ]
  },
  {
   "cell_type": "code",
   "execution_count": 409,
   "metadata": {},
   "outputs": [],
   "source": [
    "chat_up_['Successx'] = chat_up['Successx']\n",
    "chat_up_['Gen_Funny'] = chat_up['Gen_Funny']\n",
    "chat_up_['Gen_Sex'] = chat_up['Gen_Sex']"
   ]
  },
  {
   "cell_type": "code",
   "execution_count": 410,
   "metadata": {},
   "outputs": [
    {
     "name": "stdout",
     "output_type": "stream",
     "text": [
      "Optimization terminated successfully.\n",
      "         Current function value: 0.840330\n",
      "         Iterations 8\n"
     ]
    },
    {
     "data": {
      "text/html": [
       "<table class=\"simpletable\">\n",
       "<caption>MNLogit Regression Results</caption>\n",
       "<tr>\n",
       "  <th>Dep. Variable:</th>       <td>Successx</td>     <th>  No. Observations:  </th>  <td>  1009</td>  \n",
       "</tr>\n",
       "<tr>\n",
       "  <th>Model:</th>                <td>MNLogit</td>     <th>  Df Residuals:      </th>  <td>   989</td>  \n",
       "</tr>\n",
       "<tr>\n",
       "  <th>Method:</th>                 <td>MLE</td>       <th>  Df Model:          </th>  <td>    18</td>  \n",
       "</tr>\n",
       "<tr>\n",
       "  <th>Date:</th>            <td>Fri, 03 Jul 2020</td> <th>  Pseudo R-squ.:     </th>  <td>0.1510</td>  \n",
       "</tr>\n",
       "<tr>\n",
       "  <th>Time:</th>                <td>19:03:55</td>     <th>  Log-Likelihood:    </th> <td> -847.89</td> \n",
       "</tr>\n",
       "<tr>\n",
       "  <th>converged:</th>             <td>True</td>       <th>  LL-Null:           </th> <td> -998.65</td> \n",
       "</tr>\n",
       "<tr>\n",
       "  <th>Covariance Type:</th>     <td>nonrobust</td>    <th>  LLR p-value:       </th> <td>2.342e-53</td>\n",
       "</tr>\n",
       "</table>\n",
       "<table class=\"simpletable\">\n",
       "<tr>\n",
       "   <th>Successx=1</th>      <th>coef</th>     <th>std err</th>      <th>z</th>      <th>P>|z|</th>  <th>[0.025</th>    <th>0.975]</th>  \n",
       "</tr>\n",
       "<tr>\n",
       "  <th>Intercept</th>     <td>   -2.4861</td> <td>    1.672</td> <td>   -1.487</td> <td> 0.137</td> <td>   -5.762</td> <td>    0.790</td>\n",
       "</tr>\n",
       "<tr>\n",
       "  <th>Funny</th>         <td>    1.1918</td> <td>    0.600</td> <td>    1.985</td> <td> 0.047</td> <td>    0.015</td> <td>    2.369</td>\n",
       "</tr>\n",
       "<tr>\n",
       "  <th>Sex</th>           <td>    0.5022</td> <td>    0.506</td> <td>    0.993</td> <td> 0.321</td> <td>   -0.489</td> <td>    1.494</td>\n",
       "</tr>\n",
       "<tr>\n",
       "  <th>Good_Mate</th>     <td>   -0.5378</td> <td>    0.501</td> <td>   -1.074</td> <td> 0.283</td> <td>   -1.519</td> <td>    0.444</td>\n",
       "</tr>\n",
       "<tr>\n",
       "  <th>Genderx</th>       <td>   -2.0926</td> <td>    0.879</td> <td>   -2.381</td> <td> 0.017</td> <td>   -3.815</td> <td>   -0.370</td>\n",
       "</tr>\n",
       "<tr>\n",
       "  <th>Gen_Funny</th>     <td>    0.5832</td> <td>    0.143</td> <td>    4.078</td> <td> 0.000</td> <td>    0.303</td> <td>    0.864</td>\n",
       "</tr>\n",
       "<tr>\n",
       "  <th>Gen_Sex</th>       <td>   -0.3514</td> <td>    0.118</td> <td>   -2.988</td> <td> 0.003</td> <td>   -0.582</td> <td>   -0.121</td>\n",
       "</tr>\n",
       "<tr>\n",
       "  <th>log_Funny</th>     <td>   -0.4542</td> <td>    0.253</td> <td>   -1.793</td> <td> 0.073</td> <td>   -0.951</td> <td>    0.042</td>\n",
       "</tr>\n",
       "<tr>\n",
       "  <th>log_Sex</th>       <td>   -0.0810</td> <td>    0.197</td> <td>   -0.411</td> <td> 0.681</td> <td>   -0.467</td> <td>    0.305</td>\n",
       "</tr>\n",
       "<tr>\n",
       "  <th>log_Good_Mate</th> <td>    0.2472</td> <td>    0.189</td> <td>    1.310</td> <td> 0.190</td> <td>   -0.123</td> <td>    0.617</td>\n",
       "</tr>\n",
       "<tr>\n",
       "   <th>Successx=2</th>      <th>coef</th>     <th>std err</th>      <th>z</th>      <th>P>|z|</th>  <th>[0.025</th>    <th>0.975]</th>  \n",
       "</tr>\n",
       "<tr>\n",
       "  <th>Intercept</th>     <td>    0.5870</td> <td>    2.318</td> <td>    0.253</td> <td> 0.800</td> <td>   -3.957</td> <td>    5.131</td>\n",
       "</tr>\n",
       "<tr>\n",
       "  <th>Funny</th>         <td>    2.0575</td> <td>    0.905</td> <td>    2.274</td> <td> 0.023</td> <td>    0.284</td> <td>    3.831</td>\n",
       "</tr>\n",
       "<tr>\n",
       "  <th>Sex</th>           <td>   -2.0946</td> <td>    0.631</td> <td>   -3.321</td> <td> 0.001</td> <td>   -3.331</td> <td>   -0.859</td>\n",
       "</tr>\n",
       "<tr>\n",
       "  <th>Good_Mate</th>     <td>   -1.4647</td> <td>    0.671</td> <td>   -2.183</td> <td> 0.029</td> <td>   -2.780</td> <td>   -0.150</td>\n",
       "</tr>\n",
       "<tr>\n",
       "  <th>Genderx</th>       <td>   -7.1509</td> <td>    1.430</td> <td>   -5.002</td> <td> 0.000</td> <td>   -9.953</td> <td>   -4.349</td>\n",
       "</tr>\n",
       "<tr>\n",
       "  <th>Gen_Funny</th>     <td>    1.4289</td> <td>    0.230</td> <td>    6.207</td> <td> 0.000</td> <td>    0.978</td> <td>    1.880</td>\n",
       "</tr>\n",
       "<tr>\n",
       "  <th>Gen_Sex</th>       <td>   -0.4486</td> <td>    0.146</td> <td>   -3.067</td> <td> 0.002</td> <td>   -0.735</td> <td>   -0.162</td>\n",
       "</tr>\n",
       "<tr>\n",
       "  <th>log_Funny</th>     <td>   -0.7509</td> <td>    0.369</td> <td>   -2.034</td> <td> 0.042</td> <td>   -1.474</td> <td>   -0.028</td>\n",
       "</tr>\n",
       "<tr>\n",
       "  <th>log_Sex</th>       <td>    0.9636</td> <td>    0.247</td> <td>    3.895</td> <td> 0.000</td> <td>    0.479</td> <td>    1.448</td>\n",
       "</tr>\n",
       "<tr>\n",
       "  <th>log_Good_Mate</th> <td>    0.6042</td> <td>    0.257</td> <td>    2.355</td> <td> 0.019</td> <td>    0.101</td> <td>    1.107</td>\n",
       "</tr>\n",
       "</table>"
      ],
      "text/plain": [
       "<class 'statsmodels.iolib.summary.Summary'>\n",
       "\"\"\"\n",
       "                          MNLogit Regression Results                          \n",
       "==============================================================================\n",
       "Dep. Variable:               Successx   No. Observations:                 1009\n",
       "Model:                        MNLogit   Df Residuals:                      989\n",
       "Method:                           MLE   Df Model:                           18\n",
       "Date:                Fri, 03 Jul 2020   Pseudo R-squ.:                  0.1510\n",
       "Time:                        19:03:55   Log-Likelihood:                -847.89\n",
       "converged:                       True   LL-Null:                       -998.65\n",
       "Covariance Type:            nonrobust   LLR p-value:                 2.342e-53\n",
       "=================================================================================\n",
       "   Successx=1       coef    std err          z      P>|z|      [0.025      0.975]\n",
       "---------------------------------------------------------------------------------\n",
       "Intercept        -2.4861      1.672     -1.487      0.137      -5.762       0.790\n",
       "Funny             1.1918      0.600      1.985      0.047       0.015       2.369\n",
       "Sex               0.5022      0.506      0.993      0.321      -0.489       1.494\n",
       "Good_Mate        -0.5378      0.501     -1.074      0.283      -1.519       0.444\n",
       "Genderx          -2.0926      0.879     -2.381      0.017      -3.815      -0.370\n",
       "Gen_Funny         0.5832      0.143      4.078      0.000       0.303       0.864\n",
       "Gen_Sex          -0.3514      0.118     -2.988      0.003      -0.582      -0.121\n",
       "log_Funny        -0.4542      0.253     -1.793      0.073      -0.951       0.042\n",
       "log_Sex          -0.0810      0.197     -0.411      0.681      -0.467       0.305\n",
       "log_Good_Mate     0.2472      0.189      1.310      0.190      -0.123       0.617\n",
       "---------------------------------------------------------------------------------\n",
       "   Successx=2       coef    std err          z      P>|z|      [0.025      0.975]\n",
       "---------------------------------------------------------------------------------\n",
       "Intercept         0.5870      2.318      0.253      0.800      -3.957       5.131\n",
       "Funny             2.0575      0.905      2.274      0.023       0.284       3.831\n",
       "Sex              -2.0946      0.631     -3.321      0.001      -3.331      -0.859\n",
       "Good_Mate        -1.4647      0.671     -2.183      0.029      -2.780      -0.150\n",
       "Genderx          -7.1509      1.430     -5.002      0.000      -9.953      -4.349\n",
       "Gen_Funny         1.4289      0.230      6.207      0.000       0.978       1.880\n",
       "Gen_Sex          -0.4486      0.146     -3.067      0.002      -0.735      -0.162\n",
       "log_Funny        -0.7509      0.369     -2.034      0.042      -1.474      -0.028\n",
       "log_Sex           0.9636      0.247      3.895      0.000       0.479       1.448\n",
       "log_Good_Mate     0.6042      0.257      2.355      0.019       0.101       1.107\n",
       "=================================================================================\n",
       "\"\"\""
      ]
     },
     "execution_count": 410,
     "metadata": {},
     "output_type": "execute_result"
    }
   ],
   "source": [
    "ml02 = smf.mnlogit('Successx ~ Funny + Sex + Good_Mate +Genderx+Gen_Funny+ Gen_Sex+log_Funny+log_Sex+log_Good_Mate', chat_up_).fit()\n",
    "ml02.summary()"
   ]
  },
  {
   "cell_type": "code",
   "execution_count": 411,
   "metadata": {},
   "outputs": [
    {
     "data": {
      "image/png": "[encoded data removed]",
      "text/plain": [
       "<IPython.core.display.Image object>"
      ]
     },
     "execution_count": 411,
     "metadata": {},
     "output_type": "execute_result"
    }
   ],
   "source": [
    "Image('linearity.png')"
   ]
  },
  {
   "cell_type": "code",
   "execution_count": null,
   "metadata": {},
   "outputs": [],
   "source": []
  }
 ],
 "metadata": {
  "kernelspec": {
   "display_name": "Python 3",
   "language": "python",
   "name": "python3"
  },
  "language_info": {
   "codemirror_mode": {
    "name": "ipython",
    "version": 3
   },
   "file_extension": ".py",
   "mimetype": "text/x-python",
   "name": "python",
   "nbconvert_exporter": "python",
   "pygments_lexer": "ipython3",
   "version": "3.7.6"
  }
 },
 "nbformat": 4,
 "nbformat_minor": 4
}
