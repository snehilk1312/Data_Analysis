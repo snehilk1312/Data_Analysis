{
 "cells": [
  {
   "cell_type": "code",
   "execution_count": 79,
   "metadata": {},
   "outputs": [],
   "source": [
    "import pandas as pd\n",
    "import numpy as np\n",
    "import matplotlib.pyplot as plt\n",
    "import seaborn as sns\n",
    "import statsmodels.api as sm\n",
    "import scipy.stats as st\n",
    "import pingouin as pg\n",
    "%matplotlib inline "
   ]
  },
  {
   "cell_type": "code",
   "execution_count": 80,
   "metadata": {},
   "outputs": [],
   "source": [
    "data = pd.read_csv('Display.csv')"
   ]
  },
  {
   "cell_type": "code",
   "execution_count": 81,
   "metadata": {},
   "outputs": [
    {
     "data": {
      "text/html": [
       "<div>\n",
       "<style scoped>\n",
       "    .dataframe tbody tr th:only-of-type {\n",
       "        vertical-align: middle;\n",
       "    }\n",
       "\n",
       "    .dataframe tbody tr th {\n",
       "        vertical-align: top;\n",
       "    }\n",
       "\n",
       "    .dataframe thead th {\n",
       "        text-align: right;\n",
       "    }\n",
       "</style>\n",
       "<table border=\"1\" class=\"dataframe\">\n",
       "  <thead>\n",
       "    <tr style=\"text-align: right;\">\n",
       "      <th></th>\n",
       "      <th>age</th>\n",
       "      <th>fb</th>\n",
       "      <th>display</th>\n",
       "    </tr>\n",
       "  </thead>\n",
       "  <tbody>\n",
       "    <tr>\n",
       "      <th>0</th>\n",
       "      <td>24</td>\n",
       "      <td>No</td>\n",
       "      <td>No</td>\n",
       "    </tr>\n",
       "    <tr>\n",
       "      <th>1</th>\n",
       "      <td>26</td>\n",
       "      <td>No</td>\n",
       "      <td>No</td>\n",
       "    </tr>\n",
       "    <tr>\n",
       "      <th>2</th>\n",
       "      <td>30</td>\n",
       "      <td>No</td>\n",
       "      <td>No</td>\n",
       "    </tr>\n",
       "    <tr>\n",
       "      <th>3</th>\n",
       "      <td>31</td>\n",
       "      <td>No</td>\n",
       "      <td>No</td>\n",
       "    </tr>\n",
       "    <tr>\n",
       "      <th>4</th>\n",
       "      <td>36</td>\n",
       "      <td>No</td>\n",
       "      <td>No</td>\n",
       "    </tr>\n",
       "  </tbody>\n",
       "</table>\n",
       "</div>"
      ],
      "text/plain": [
       "   age  fb display\n",
       "0   24  No      No\n",
       "1   26  No      No\n",
       "2   30  No      No\n",
       "3   31  No      No\n",
       "4   36  No      No"
      ]
     },
     "execution_count": 81,
     "metadata": {},
     "output_type": "execute_result"
    }
   ],
   "source": [
    "data.head()"
   ]
  },
  {
   "cell_type": "code",
   "execution_count": 82,
   "metadata": {},
   "outputs": [
    {
     "name": "stdout",
     "output_type": "stream",
     "text": [
      "['No' 'Yes'] ['No' 'Yes']\n"
     ]
    }
   ],
   "source": [
    "print(data['fb'].unique(), data['display'].unique())"
   ]
  },
  {
   "cell_type": "code",
   "execution_count": 83,
   "metadata": {},
   "outputs": [],
   "source": [
    "data['fbx'] = data['fb'].replace({'No':0, 'Yes':1 })\n",
    "data['displayx'] = data['display'].replace({'No':0, 'Yes':1})\n",
    "data['interaction'] = data['fbx'] * data['age']"
   ]
  },
  {
   "cell_type": "code",
   "execution_count": null,
   "metadata": {},
   "outputs": [],
   "source": []
  },
  {
   "cell_type": "code",
   "execution_count": 84,
   "metadata": {},
   "outputs": [],
   "source": [
    "from statsmodels.tools.tools import add_constant\n",
    "data = add_constant(data)"
   ]
  },
  {
   "cell_type": "markdown",
   "metadata": {},
   "source": [
    "### **Model 1**"
   ]
  },
  {
   "cell_type": "code",
   "execution_count": 85,
   "metadata": {},
   "outputs": [],
   "source": [
    "from statsmodels.genmod import families"
   ]
  },
  {
   "cell_type": "code",
   "execution_count": 86,
   "metadata": {},
   "outputs": [
    {
     "name": "stdout",
     "output_type": "stream",
     "text": [
      "                 Generalized Linear Model Regression Results                  \n",
      "==============================================================================\n",
      "Dep. Variable:               displayx   No. Observations:                   70\n",
      "Model:                            GLM   Df Residuals:                       68\n",
      "Model Family:                Binomial   Df Model:                            1\n",
      "Link Function:                  logit   Scale:                          1.0000\n",
      "Method:                          IRLS   Log-Likelihood:                -35.021\n",
      "Date:                Sat, 04 Jul 2020   Deviance:                       70.042\n",
      "Time:                        09:18:14   Pearson chi2:                     70.0\n",
      "No. Iterations:                     4                                         \n",
      "Covariance Type:            nonrobust                                         \n",
      "==============================================================================\n",
      "                 coef    std err          z      P>|z|      [0.025      0.975]\n",
      "------------------------------------------------------------------------------\n",
      "const         -1.3437      0.458     -2.931      0.003      -2.242      -0.445\n",
      "fbx            2.7608      0.605      4.567      0.000       1.576       3.946\n",
      "==============================================================================\n"
     ]
    }
   ],
   "source": [
    "m02 = sm.GLM(data['displayx'] , data[['const', 'fbx']],\n",
    "          family=families.Binomial()).fit(attach_wls=True, atol=1e-10)\n",
    "print(m02.summary())"
   ]
  },
  {
   "cell_type": "code",
   "execution_count": 87,
   "metadata": {},
   "outputs": [
    {
     "data": {
      "text/plain": [
       "74.04165632182608"
      ]
     },
     "execution_count": 87,
     "metadata": {},
     "output_type": "execute_result"
    }
   ],
   "source": [
    "m02.aic"
   ]
  },
  {
   "cell_type": "code",
   "execution_count": null,
   "metadata": {},
   "outputs": [],
   "source": []
  },
  {
   "cell_type": "markdown",
   "metadata": {},
   "source": [
    "### **calculating odds Ratio**"
   ]
  },
  {
   "cell_type": "code",
   "execution_count": 88,
   "metadata": {},
   "outputs": [
    {
     "data": {
      "text/plain": [
       "array([0.20689655, 0.80487805])"
      ]
     },
     "execution_count": 88,
     "metadata": {},
     "output_type": "execute_result"
    }
   ],
   "source": [
    "(m02.fittedvalues).unique()"
   ]
  },
  {
   "cell_type": "code",
   "execution_count": 89,
   "metadata": {},
   "outputs": [],
   "source": [
    "# for the case when fbx= 0\n",
    "\n",
    "p_1_0 = 0.20689655\n",
    "p_0_0 = 1-p_1_0\n",
    "\n",
    "pre_ratio_0 = p_1_0/p_0_0"
   ]
  },
  {
   "cell_type": "code",
   "execution_count": 90,
   "metadata": {},
   "outputs": [],
   "source": [
    "# for the case when fbx= 1\n",
    "\n",
    "p_1_1 = 0.80487805\n",
    "p_0_1 = 1-p_1_1\n",
    "\n",
    "pre_ratio_1 = p_1_1/p_0_1"
   ]
  },
  {
   "cell_type": "code",
   "execution_count": 91,
   "metadata": {},
   "outputs": [
    {
     "data": {
      "text/plain": [
       "15.812500288932297"
      ]
     },
     "execution_count": 91,
     "metadata": {},
     "output_type": "execute_result"
    }
   ],
   "source": [
    "odd_ratio = pre_ratio_1/pre_ratio_0\n",
    "odd_ratio "
   ]
  },
  {
   "cell_type": "code",
   "execution_count": null,
   "metadata": {},
   "outputs": [],
   "source": []
  },
  {
   "cell_type": "markdown",
   "metadata": {},
   "source": [
    "### **Model 2**"
   ]
  },
  {
   "cell_type": "code",
   "execution_count": null,
   "metadata": {},
   "outputs": [],
   "source": []
  },
  {
   "cell_type": "code",
   "execution_count": 92,
   "metadata": {},
   "outputs": [
    {
     "name": "stdout",
     "output_type": "stream",
     "text": [
      "                 Generalized Linear Model Regression Results                  \n",
      "==============================================================================\n",
      "Dep. Variable:               displayx   No. Observations:                   70\n",
      "Model:                            GLM   Df Residuals:                       66\n",
      "Model Family:                Binomial   Df Model:                            3\n",
      "Link Function:                  logit   Scale:                          1.0000\n",
      "Method:                          IRLS   Log-Likelihood:                -33.817\n",
      "Date:                Sat, 04 Jul 2020   Deviance:                       67.634\n",
      "Time:                        09:18:15   Pearson chi2:                     69.4\n",
      "No. Iterations:                     4                                         \n",
      "Covariance Type:            nonrobust                                         \n",
      "===============================================================================\n",
      "                  coef    std err          z      P>|z|      [0.025      0.975]\n",
      "-------------------------------------------------------------------------------\n",
      "const          -2.9482      1.596     -1.847      0.065      -6.077       0.181\n",
      "fbx             2.8578      2.105      1.357      0.175      -1.268       6.984\n",
      "age             0.0440      0.041      1.085      0.278      -0.036       0.124\n",
      "interaction    -0.0167      0.048     -0.351      0.726      -0.110       0.077\n",
      "===============================================================================\n"
     ]
    }
   ],
   "source": [
    "m01 = sm.GLM(data['displayx'] , data[['const', 'fbx', 'age', 'interaction']],\n",
    "          family=families.Binomial()).fit(attach_wls=True, atol=1e-10)\n",
    "print(m01.summary())"
   ]
  },
  {
   "cell_type": "code",
   "execution_count": null,
   "metadata": {},
   "outputs": [],
   "source": []
  },
  {
   "cell_type": "code",
   "execution_count": 93,
   "metadata": {},
   "outputs": [],
   "source": [
    "infl = m02.get_influence(observed=False)"
   ]
  },
  {
   "cell_type": "code",
   "execution_count": 94,
   "metadata": {},
   "outputs": [
    {
     "data": {
      "text/html": [
       "<div>\n",
       "<style scoped>\n",
       "    .dataframe tbody tr th:only-of-type {\n",
       "        vertical-align: middle;\n",
       "    }\n",
       "\n",
       "    .dataframe tbody tr th {\n",
       "        vertical-align: top;\n",
       "    }\n",
       "\n",
       "    .dataframe thead th {\n",
       "        text-align: right;\n",
       "    }\n",
       "</style>\n",
       "<table border=\"1\" class=\"dataframe\">\n",
       "  <thead>\n",
       "    <tr style=\"text-align: right;\">\n",
       "      <th></th>\n",
       "      <th>dfb_const</th>\n",
       "      <th>dfb_fbx</th>\n",
       "      <th>cooks_d</th>\n",
       "      <th>standard_resid</th>\n",
       "      <th>hat_diag</th>\n",
       "      <th>dffits_internal</th>\n",
       "    </tr>\n",
       "  </thead>\n",
       "  <tbody>\n",
       "    <tr>\n",
       "      <th>16</th>\n",
       "      <td>0.376556</td>\n",
       "      <td>-0.285546</td>\n",
       "      <td>0.070897</td>\n",
       "      <td>1.992546</td>\n",
       "      <td>0.034483</td>\n",
       "      <td>0.376556</td>\n",
       "    </tr>\n",
       "    <tr>\n",
       "      <th>38</th>\n",
       "      <td>0.376556</td>\n",
       "      <td>-0.285546</td>\n",
       "      <td>0.070897</td>\n",
       "      <td>1.992546</td>\n",
       "      <td>0.034483</td>\n",
       "      <td>0.376556</td>\n",
       "    </tr>\n",
       "    <tr>\n",
       "      <th>59</th>\n",
       "      <td>0.376556</td>\n",
       "      <td>-0.285546</td>\n",
       "      <td>0.070897</td>\n",
       "      <td>1.992546</td>\n",
       "      <td>0.034483</td>\n",
       "      <td>0.376556</td>\n",
       "    </tr>\n",
       "    <tr>\n",
       "      <th>5</th>\n",
       "      <td>0.376556</td>\n",
       "      <td>-0.285546</td>\n",
       "      <td>0.070897</td>\n",
       "      <td>1.992546</td>\n",
       "      <td>0.034483</td>\n",
       "      <td>0.376556</td>\n",
       "    </tr>\n",
       "    <tr>\n",
       "      <th>8</th>\n",
       "      <td>0.376556</td>\n",
       "      <td>-0.285546</td>\n",
       "      <td>0.070897</td>\n",
       "      <td>1.992546</td>\n",
       "      <td>0.034483</td>\n",
       "      <td>0.376556</td>\n",
       "    </tr>\n",
       "    <tr>\n",
       "      <th>...</th>\n",
       "      <td>...</td>\n",
       "      <td>...</td>\n",
       "      <td>...</td>\n",
       "      <td>...</td>\n",
       "      <td>...</td>\n",
       "      <td>...</td>\n",
       "    </tr>\n",
       "    <tr>\n",
       "      <th>45</th>\n",
       "      <td>-0.000000</td>\n",
       "      <td>-0.211944</td>\n",
       "      <td>0.052852</td>\n",
       "      <td>-2.056241</td>\n",
       "      <td>0.024390</td>\n",
       "      <td>-0.325120</td>\n",
       "    </tr>\n",
       "    <tr>\n",
       "      <th>56</th>\n",
       "      <td>-0.000000</td>\n",
       "      <td>-0.211944</td>\n",
       "      <td>0.052852</td>\n",
       "      <td>-2.056241</td>\n",
       "      <td>0.024390</td>\n",
       "      <td>-0.325120</td>\n",
       "    </tr>\n",
       "    <tr>\n",
       "      <th>39</th>\n",
       "      <td>-0.000000</td>\n",
       "      <td>-0.211944</td>\n",
       "      <td>0.052852</td>\n",
       "      <td>-2.056241</td>\n",
       "      <td>0.024390</td>\n",
       "      <td>-0.325120</td>\n",
       "    </tr>\n",
       "    <tr>\n",
       "      <th>36</th>\n",
       "      <td>-0.000000</td>\n",
       "      <td>-0.211944</td>\n",
       "      <td>0.052852</td>\n",
       "      <td>-2.056241</td>\n",
       "      <td>0.024390</td>\n",
       "      <td>-0.325120</td>\n",
       "    </tr>\n",
       "    <tr>\n",
       "      <th>67</th>\n",
       "      <td>-0.000000</td>\n",
       "      <td>-0.211944</td>\n",
       "      <td>0.052852</td>\n",
       "      <td>-2.056241</td>\n",
       "      <td>0.024390</td>\n",
       "      <td>-0.325120</td>\n",
       "    </tr>\n",
       "  </tbody>\n",
       "</table>\n",
       "<p>70 rows × 6 columns</p>\n",
       "</div>"
      ],
      "text/plain": [
       "    dfb_const   dfb_fbx   cooks_d  standard_resid  hat_diag  dffits_internal\n",
       "16   0.376556 -0.285546  0.070897        1.992546  0.034483         0.376556\n",
       "38   0.376556 -0.285546  0.070897        1.992546  0.034483         0.376556\n",
       "59   0.376556 -0.285546  0.070897        1.992546  0.034483         0.376556\n",
       "5    0.376556 -0.285546  0.070897        1.992546  0.034483         0.376556\n",
       "8    0.376556 -0.285546  0.070897        1.992546  0.034483         0.376556\n",
       "..        ...       ...       ...             ...       ...              ...\n",
       "45  -0.000000 -0.211944  0.052852       -2.056241  0.024390        -0.325120\n",
       "56  -0.000000 -0.211944  0.052852       -2.056241  0.024390        -0.325120\n",
       "39  -0.000000 -0.211944  0.052852       -2.056241  0.024390        -0.325120\n",
       "36  -0.000000 -0.211944  0.052852       -2.056241  0.024390        -0.325120\n",
       "67  -0.000000 -0.211944  0.052852       -2.056241  0.024390        -0.325120\n",
       "\n",
       "[70 rows x 6 columns]"
      ]
     },
     "execution_count": 94,
     "metadata": {},
     "output_type": "execute_result"
    }
   ],
   "source": [
    "summary_df = infl.summary_frame()\n",
    "summary_df.sort_values(by=['standard_resid'], ascending=False)"
   ]
  },
  {
   "cell_type": "code",
   "execution_count": null,
   "metadata": {},
   "outputs": [],
   "source": []
  }
 ],
 "metadata": {
  "kernelspec": {
   "display_name": "Python 3",
   "language": "python",
   "name": "python3"
  },
  "language_info": {
   "codemirror_mode": {
    "name": "ipython",
    "version": 3
   },
   "file_extension": ".py",
   "mimetype": "text/x-python",
   "name": "python",
   "nbconvert_exporter": "python",
   "pygments_lexer": "ipython3",
   "version": "3.7.6"
  }
 },
 "nbformat": 4,
 "nbformat_minor": 4
}
