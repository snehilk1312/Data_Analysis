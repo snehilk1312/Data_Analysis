{
  "nbformat": 4,
  "nbformat_minor": 0,
  "metadata": {
    "colab": {
      "name": "ChickFlick.ipynb",
      "provenance": [],
      "collapsed_sections": []
    },
    "kernelspec": {
      "name": "python3",
      "display_name": "Python 3"
    }
  },
  "cells": [
    {
      "cell_type": "code",
      "metadata": {
        "id": "fgOwkSpNbpOm",
        "colab_type": "code",
        "colab": {}
      },
      "source": [
        "import statsmodels.api as sm\n",
        "import seaborn as sns\n",
        "import matplotlib.pyplot as plt\n",
        "import pandas as pd\n",
        "import numpy as np"
      ],
      "execution_count": 0,
      "outputs": []
    },
    {
      "cell_type": "code",
      "metadata": {
        "id": "zMVEFJJ8cU_9",
        "colab_type": "code",
        "colab": {}
      },
      "source": [
        "data = pd.read_csv('/content/ChickFlick.csv')"
      ],
      "execution_count": 0,
      "outputs": []
    },
    {
      "cell_type": "code",
      "metadata": {
        "id": "gi6vX_Rscj2w",
        "colab_type": "code",
        "colab": {
          "base_uri": "https://localhost:8080/",
          "height": 206
        },
        "outputId": "73188d08-d656-4223-a3c3-ad6045e4475d"
      },
      "source": [
        "data.head()"
      ],
      "execution_count": 4,
      "outputs": [
        {
          "output_type": "execute_result",
          "data": {
            "text/html": [
              "<div>\n",
              "<style scoped>\n",
              "    .dataframe tbody tr th:only-of-type {\n",
              "        vertical-align: middle;\n",
              "    }\n",
              "\n",
              "    .dataframe tbody tr th {\n",
              "        vertical-align: top;\n",
              "    }\n",
              "\n",
              "    .dataframe thead th {\n",
              "        text-align: right;\n",
              "    }\n",
              "</style>\n",
              "<table border=\"1\" class=\"dataframe\">\n",
              "  <thead>\n",
              "    <tr style=\"text-align: right;\">\n",
              "      <th></th>\n",
              "      <th>gender</th>\n",
              "      <th>film</th>\n",
              "      <th>arousal</th>\n",
              "    </tr>\n",
              "  </thead>\n",
              "  <tbody>\n",
              "    <tr>\n",
              "      <th>0</th>\n",
              "      <td>Male</td>\n",
              "      <td>Bridget Jones' Diary</td>\n",
              "      <td>22</td>\n",
              "    </tr>\n",
              "    <tr>\n",
              "      <th>1</th>\n",
              "      <td>Male</td>\n",
              "      <td>Bridget Jones' Diary</td>\n",
              "      <td>13</td>\n",
              "    </tr>\n",
              "    <tr>\n",
              "      <th>2</th>\n",
              "      <td>Male</td>\n",
              "      <td>Bridget Jones' Diary</td>\n",
              "      <td>16</td>\n",
              "    </tr>\n",
              "    <tr>\n",
              "      <th>3</th>\n",
              "      <td>Male</td>\n",
              "      <td>Bridget Jones' Diary</td>\n",
              "      <td>10</td>\n",
              "    </tr>\n",
              "    <tr>\n",
              "      <th>4</th>\n",
              "      <td>Male</td>\n",
              "      <td>Bridget Jones' Diary</td>\n",
              "      <td>18</td>\n",
              "    </tr>\n",
              "  </tbody>\n",
              "</table>\n",
              "</div>"
            ],
            "text/plain": [
              "  gender                  film  arousal\n",
              "0   Male  Bridget Jones' Diary       22\n",
              "1   Male  Bridget Jones' Diary       13\n",
              "2   Male  Bridget Jones' Diary       16\n",
              "3   Male  Bridget Jones' Diary       10\n",
              "4   Male  Bridget Jones' Diary       18"
            ]
          },
          "metadata": {
            "tags": []
          },
          "execution_count": 4
        }
      ]
    },
    {
      "cell_type": "code",
      "metadata": {
        "id": "D-MTq_qpcnuT",
        "colab_type": "code",
        "colab": {}
      },
      "source": [
        "male_data = data[data['gender']=='Male']\n",
        "female_data = data[data['gender']=='Female']"
      ],
      "execution_count": 0,
      "outputs": []
    },
    {
      "cell_type": "code",
      "metadata": {
        "id": "EG_caPvrdBB7",
        "colab_type": "code",
        "colab": {
          "base_uri": "https://localhost:8080/",
          "height": 296
        },
        "outputId": "93f1e0fb-34c3-43f2-accb-753c8a63790d"
      },
      "source": [
        "sns.barplot(x='film', y='arousal', data=data)"
      ],
      "execution_count": 6,
      "outputs": [
        {
          "output_type": "execute_result",
          "data": {
            "text/plain": [
              "<matplotlib.axes._subplots.AxesSubplot at 0x7fe36fc259e8>"
            ]
          },
          "metadata": {
            "tags": []
          },
          "execution_count": 6
        },
        {
          "output_type": "display_data",
          "data": {
            "image/png": "[encoded data removed]",
            "text/plain": [
              "<Figure size 432x288 with 1 Axes>"
            ]
          },
          "metadata": {
            "tags": [],
            "needs_background": "light"
          }
        }
      ]
    },
    {
      "cell_type": "code",
      "metadata": {
        "id": "qpGsPOWsgXKx",
        "colab_type": "code",
        "colab": {}
      },
      "source": [
        "bj_data = data[data['film'] == \"Bridget Jones' Diary\"]\n",
        "mo_data = data[data['film'] == \"Memento\"]"
      ],
      "execution_count": 0,
      "outputs": []
    },
    {
      "cell_type": "code",
      "metadata": {
        "id": "ePXy9LDqgxAL",
        "colab_type": "code",
        "colab": {}
      },
      "source": [
        "bj_mean = bj_data['arousal'].mean()\n",
        "mo_mean = mo_data['arousal'].mean()"
      ],
      "execution_count": 0,
      "outputs": []
    },
    {
      "cell_type": "code",
      "metadata": {
        "id": "ois0Txd1e8lY",
        "colab_type": "code",
        "colab": {
          "base_uri": "https://localhost:8080/",
          "height": 282
        },
        "outputId": "db4ab42e-6dc5-4101-f3e8-6326335a5e30"
      },
      "source": [
        "width = 0.35  # the width of the bars\n",
        "fig, ax = plt.subplots()\n",
        "rects1 = ax.bar(2 - width, bj_mean, width, label=\"Bridget Jones' Diary\")\n",
        "rects2 = ax.bar(2 + width, mo_mean, width, label='Memento')\n",
        "ax.legend()"
      ],
      "execution_count": 13,
      "outputs": [
        {
          "output_type": "execute_result",
          "data": {
            "text/plain": [
              "<matplotlib.legend.Legend at 0x7fe36ef5c630>"
            ]
          },
          "metadata": {
            "tags": []
          },
          "execution_count": 13
        },
        {
          "output_type": "display_data",
          "data": {
            "image/png": "[encoded data removed]",
            "text/plain": [
              "<Figure size 432x288 with 1 Axes>"
            ]
          },
          "metadata": {
            "tags": [],
            "needs_background": "light"
          }
        }
      ]
    },
    {
      "cell_type": "markdown",
      "metadata": {
        "id": "JgifpSm-i_LU",
        "colab_type": "text"
      },
      "source": [
        "Bar charts for several independent variables"
      ]
    },
    {
      "cell_type": "code",
      "metadata": {
        "id": "Eg9dkAAqhFv3",
        "colab_type": "code",
        "colab": {
          "base_uri": "https://localhost:8080/",
          "height": 296
        },
        "outputId": "64a11a9a-6c12-45b1-bdc6-ba2416bcad45"
      },
      "source": [
        "sns.barplot(x='film', y='arousal', data=data, hue='gender')"
      ],
      "execution_count": 15,
      "outputs": [
        {
          "output_type": "execute_result",
          "data": {
            "text/plain": [
              "<matplotlib.axes._subplots.AxesSubplot at 0x7fe36ee2c400>"
            ]
          },
          "metadata": {
            "tags": []
          },
          "execution_count": 15
        },
        {
          "output_type": "display_data",
          "data": {
            "image/png": "[encoded data removed]",
            "text/plain": [
              "<Figure size 432x288 with 1 Axes>"
            ]
          },
          "metadata": {
            "tags": [],
            "needs_background": "light"
          }
        }
      ]
    },
    {
      "cell_type": "code",
      "metadata": {
        "id": "D80mnS9Xkpok",
        "colab_type": "code",
        "colab": {}
      },
      "source": [
        "male_bj_data = male_data[male_data['film'] == \"Bridget Jones' Diary\"]\n",
        "male_mo_data = male_data[male_data['film'] == \"Memento\"]\n",
        "female_bj_data = female_data[female_data['film'] == \"Bridget Jones' Diary\"]\n",
        "female_mo_data = female_data[female_data['film'] == \"Memento\"]\n",
        "male_bj_mean = male_bj_data['arousal'].mean()\n",
        "male_mo_mean = male_mo_data['arousal'].mean()\n",
        "female_bj_mean = female_bj_data['arousal'].mean()\n",
        "female_mo_mean = female_mo_data['arousal'].mean()"
      ],
      "execution_count": 0,
      "outputs": []
    },
    {
      "cell_type": "code",
      "metadata": {
        "id": "nGuj17yJjt5A",
        "colab_type": "code",
        "colab": {
          "base_uri": "https://localhost:8080/",
          "height": 282
        },
        "outputId": "2dabe66f-85ff-43db-fda5-55edb98a5a14"
      },
      "source": [
        "fig, ax = plt.subplots()\n",
        "rects1 = ax.bar(2 - width/2, male_bj_mean, width, label=\"Male Bridget Jones' Diary\",color='blue')\n",
        "rects2 = ax.bar(2 + width/2, female_bj_mean, width, label=\"Female Bridget Jones' Diary\", color='orange')\n",
        "rects3 = ax.bar(4 - width/2, male_mo_mean, width, label=\"Male Memento\",color='blue')\n",
        "rects3 = ax.bar(4 + width/2, female_mo_mean, width, label=\"Female Memento\",color='orange')\n",
        "ax.legend()"
      ],
      "execution_count": 20,
      "outputs": [
        {
          "output_type": "execute_result",
          "data": {
            "text/plain": [
              "<matplotlib.legend.Legend at 0x7fe36f073ac8>"
            ]
          },
          "metadata": {
            "tags": []
          },
          "execution_count": 20
        },
        {
          "output_type": "display_data",
          "data": {
            "image/png": "[encoded data removed]",
            "text/plain": [
              "<Figure size 432x288 with 1 Axes>"
            ]
          },
          "metadata": {
            "tags": [],
            "needs_background": "light"
          }
        }
      ]
    },
    {
      "cell_type": "code",
      "metadata": {
        "id": "tpEwZzYjlpYz",
        "colab_type": "code",
        "colab": {}
      },
      "source": [
        ""
      ],
      "execution_count": 0,
      "outputs": []
    }
  ]
}